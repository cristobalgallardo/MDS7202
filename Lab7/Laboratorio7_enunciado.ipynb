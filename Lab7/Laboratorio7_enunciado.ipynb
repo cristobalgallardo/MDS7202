{
  "cells": [
    {
      "cell_type": "markdown",
      "source": [
        "<h1><center>Laboratorio 7: Aprendizaje Supervisado 🔮</center></h1>\n",
        "\n",
        "<center><strong>MDS7202: Laboratorio de Programación Científica para Ciencia de Datos</strong></center>"
      ],
      "metadata": {
        "id": "XUZ1dFPHzAHl",
        "cell_id": "00000-73f3e32f-2ef2-4c8f-8a16-d0512209e3ca",
        "deepnote_cell_type": "markdown",
        "deepnote_cell_height": 103.43333435058594
      }
    },
    {
      "cell_type": "markdown",
      "source": [
        "### Cuerpo Docente:\n",
        "\n",
        "- Profesor: Pablo Badilla\n",
        "- Auxiliar: Ignacio Meza D.\n",
        "- Ayudante: Patricio Ortiz"
      ],
      "metadata": {
        "id": "UD8X1uhGzAHq",
        "cell_id": "00001-f0f6f193-27cb-4e14-8eb4-8192d12f7721",
        "deepnote_cell_type": "markdown",
        "deepnote_cell_height": 165.78334045410156
      }
    },
    {
      "cell_type": "markdown",
      "source": [
        "### Equipo: SUPER IMPORTANTE - notebooks sin nombre no serán revisados\n",
        "\n",
        "- Nombre de alumno 1: Sebastián Aguirre\n",
        "- Nombre de alumno 2: Cristóbal Gallardo\n"
      ],
      "metadata": {
        "id": "tXflExjqzAHr",
        "cell_id": "00002-cbc359e4-c6bf-4a18-b935-8b000e48c13d",
        "deepnote_cell_type": "markdown",
        "deepnote_cell_height": 139.86666870117188
      }
    },
    {
      "cell_type": "markdown",
      "source": [
        "### **Link de repositorio de GitHub:** `https://github.com/cristobalgallardo/MDS7202`"
      ],
      "metadata": {
        "id": "AD-V0bbZzAHr",
        "cell_id": "00003-50e2b812-e515-42a0-b713-6dbfaa83c601",
        "deepnote_cell_type": "markdown",
        "deepnote_cell_height": 61.56666564941406
      }
    },
    {
      "cell_type": "markdown",
      "source": [
        "## Temas a tratar\n",
        "\n",
        "- Aprendizaje Supervisado\n",
        "- Flujos de datos a través de `Pipelines`.\n",
        "\n",
        "## Reglas\n",
        "\n",
        "- Fecha de entrega: TBD\n",
        "- **Grupos de 2 personas**\n",
        "- **Ausentes** deberán realizar la actividad solos. \n",
        "- Cualquier duda fuera del horario de clases al foro. Mensajes al equipo docente serán respondidos por este medio.\n",
        "- Prohibidas las copias. \n",
        "- Pueden usar cualquer matrial del curso que estimen conveniente.\n",
        "\n",
        "## Objetivos principales del laboratorio\n",
        "\n",
        "- Comprender el funcionamiento de clasificadores/regresores.\n",
        "- Generar múltiples modelos predictivos.\n",
        "- Comprender las ventajas de crear modelos en pipeline vs hacer las operaciones a mano.\n",
        "\n",
        "El laboratorio deberá ser desarrollado sin el uso indiscriminado de iteradores nativos de python (aka \"for\", \"while\"). La idea es que aprendan a exprimir al máximo las funciones optimizadas que nos entrega `pandas`, las cuales vale mencionar, son bastante más eficientes que los iteradores nativos sobre `DataFrames`."
      ],
      "metadata": {
        "id": "6uBLPj1PzAHs",
        "cell_id": "00005-119cf881-89af-4ccc-8bf7-2763d5eb0785",
        "deepnote_cell_type": "markdown",
        "deepnote_cell_height": 606.316650390625
      }
    },
    {
      "cell_type": "markdown",
      "source": [
        "### Importamos librerias utiles 😸"
      ],
      "metadata": {
        "id": "MhISwri4zAHy",
        "cell_id": "00006-d1bce751-1f1d-4470-8cbb-a77ba271ef39",
        "deepnote_cell_type": "markdown",
        "deepnote_cell_height": 61.03334045410156
      }
    },
    {
      "cell_type": "code",
      "metadata": {
        "ExecuteTime": {
          "end_time": "2021-03-29T00:08:16.884674Z",
          "start_time": "2021-03-29T00:08:16.349846Z"
        },
        "id": "uyc33dKdzAHy",
        "colab": {
          "base_uri": "https://localhost:8080/"
        },
        "outputId": "51e78a27-ad9d-4cad-c2a8-dfb84f3a09a6",
        "deepnote_to_be_reexecuted": false,
        "source_hash": "cb3614e",
        "execution_start": 1636741163382,
        "execution_millis": 7630,
        "cell_id": "00007-e1ebdc56-4008-489c-85bc-b1ffb9cbbced",
        "deepnote_cell_type": "code",
        "deepnote_cell_height": 954.25
      },
      "source": [
        "# Libreria Core del lab.\n",
        "import numpy as np\n",
        "import pandas as pd\n",
        "from sklearn.pipeline import Pipeline\n",
        "from sklearn.compose import ColumnTransformer\n",
        "from sklearn.model_selection import train_test_split \n",
        "\n",
        "# Pre-procesamiento\n",
        "from sklearn.preprocessing import MinMaxScaler\n",
        "from sklearn.preprocessing import StandardScaler\n",
        "from sklearn.preprocessing import FunctionTransformer\n",
        "from sklearn.preprocessing import PowerTransformer\n",
        "from sklearn.preprocessing import OneHotEncoder\n",
        "from sklearn.preprocessing import OrdinalEncoder\n",
        "from sklearn.tree import DecisionTreeClassifier\n",
        "\n",
        "# Metricas de evaluación\n",
        "from sklearn.metrics import classification_report\n",
        "from sklearn.metrics import accuracy_score\n",
        "from sklearn.metrics import f1_score\n",
        "from sklearn.metrics import cohen_kappa_score\n",
        "\n",
        "#Libreria para plotear\n",
        "!pip install --upgrade plotly\n",
        "import plotly.express as px\n",
        "from plotly.subplots import make_subplots\n",
        "import plotly.graph_objects as go\n",
        "\n",
        "# UMAP\n",
        "!pip install umap-learn"
      ],
      "execution_count": 1,
      "outputs": [
        {
          "output_type": "stream",
          "name": "stdout",
          "text": [
            "Looking in indexes: https://pypi.org/simple, https://us-python.pkg.dev/colab-wheels/public/simple/\n",
            "Requirement already satisfied: plotly in /usr/local/lib/python3.7/dist-packages (5.5.0)\n",
            "Collecting plotly\n",
            "  Downloading plotly-5.8.2-py2.py3-none-any.whl (15.2 MB)\n",
            "\u001b[K     |████████████████████████████████| 15.2 MB 5.2 MB/s \n",
            "\u001b[?25hRequirement already satisfied: tenacity>=6.2.0 in /usr/local/lib/python3.7/dist-packages (from plotly) (8.0.1)\n",
            "Installing collected packages: plotly\n",
            "  Attempting uninstall: plotly\n",
            "    Found existing installation: plotly 5.5.0\n",
            "    Uninstalling plotly-5.5.0:\n",
            "      Successfully uninstalled plotly-5.5.0\n",
            "Successfully installed plotly-5.8.2\n",
            "Looking in indexes: https://pypi.org/simple, https://us-python.pkg.dev/colab-wheels/public/simple/\n",
            "Collecting umap-learn\n",
            "  Downloading umap-learn-0.5.3.tar.gz (88 kB)\n",
            "\u001b[K     |████████████████████████████████| 88 kB 4.4 MB/s \n",
            "\u001b[?25hRequirement already satisfied: numpy>=1.17 in /usr/local/lib/python3.7/dist-packages (from umap-learn) (1.21.6)\n",
            "Requirement already satisfied: scikit-learn>=0.22 in /usr/local/lib/python3.7/dist-packages (from umap-learn) (1.0.2)\n",
            "Requirement already satisfied: scipy>=1.0 in /usr/local/lib/python3.7/dist-packages (from umap-learn) (1.4.1)\n",
            "Requirement already satisfied: numba>=0.49 in /usr/local/lib/python3.7/dist-packages (from umap-learn) (0.51.2)\n",
            "Collecting pynndescent>=0.5\n",
            "  Downloading pynndescent-0.5.7.tar.gz (1.1 MB)\n",
            "\u001b[K     |████████████████████████████████| 1.1 MB 17.3 MB/s \n",
            "\u001b[?25hRequirement already satisfied: tqdm in /usr/local/lib/python3.7/dist-packages (from umap-learn) (4.64.0)\n",
            "Requirement already satisfied: llvmlite<0.35,>=0.34.0.dev0 in /usr/local/lib/python3.7/dist-packages (from numba>=0.49->umap-learn) (0.34.0)\n",
            "Requirement already satisfied: setuptools in /usr/local/lib/python3.7/dist-packages (from numba>=0.49->umap-learn) (57.4.0)\n",
            "Requirement already satisfied: joblib>=0.11 in /usr/local/lib/python3.7/dist-packages (from pynndescent>=0.5->umap-learn) (1.1.0)\n",
            "Requirement already satisfied: threadpoolctl>=2.0.0 in /usr/local/lib/python3.7/dist-packages (from scikit-learn>=0.22->umap-learn) (3.1.0)\n",
            "Building wheels for collected packages: umap-learn, pynndescent\n",
            "  Building wheel for umap-learn (setup.py) ... \u001b[?25l\u001b[?25hdone\n",
            "  Created wheel for umap-learn: filename=umap_learn-0.5.3-py3-none-any.whl size=82829 sha256=554f9d7ee8d7fb79eff2e818a3c8213cab020876af682e2e05d307d150cb665d\n",
            "  Stored in directory: /root/.cache/pip/wheels/b3/52/a5/1fd9e3e76a7ab34f134c07469cd6f16e27ef3a37aeff1fe821\n",
            "  Building wheel for pynndescent (setup.py) ... \u001b[?25l\u001b[?25hdone\n",
            "  Created wheel for pynndescent: filename=pynndescent-0.5.7-py3-none-any.whl size=54286 sha256=98e49322f76ac12cb08f30c3b66d0f3b47f95f84059ae87c7b3146ee670f49f3\n",
            "  Stored in directory: /root/.cache/pip/wheels/7f/2a/f8/7bd5dcec71bd5c669f6f574db3113513696b98f3f9b51f496c\n",
            "Successfully built umap-learn pynndescent\n",
            "Installing collected packages: pynndescent, umap-learn\n",
            "Successfully installed pynndescent-0.5.7 umap-learn-0.5.3\n"
          ]
        }
      ]
    },
    {
      "cell_type": "markdown",
      "source": [
        "https://www.kaggle.com/antoinekrajnc/soccer-players-statistics"
      ],
      "metadata": {
        "id": "5FTGE74b3FBU",
        "cell_id": "00008-7877e530-5ed5-483e-af0a-4fd26434d7dc",
        "deepnote_cell_type": "markdown",
        "deepnote_cell_height": 51.43333435058594
      }
    },
    {
      "cell_type": "markdown",
      "source": [
        "# 1. Predicciones Futboleras\n",
        "\n",
        "<p align=\"center\">\n",
        "  <img src=\"https://drive.google.com/uc?export=view&id=1BnO4tyh3vM2P199Ec9s3JjngQ4qQ9seP\"\n",
        "\" width=\"300\">\n",
        "</p>\n",
        "\n",
        "\n",
        "Tras el trágico despido de la mítica mascota de Maipú, Renacín decide adentrarse como consultor en el mercado futbolero, el cuál (para variar...) está cargado en especulaciones. \n",
        "\n",
        "Como su principal tarea será asesorar a los directivos de los clubes sobre cuál jugador comprar y cuál no, Renacín desea generar modelos predictivos que evaluén distintas características de los jugadores; todo con el fin de tomar decisiones concretas basadas en los datos.\n",
        "\n",
        "Sin embargo, su condición de corporeo le impidió tomar la versión anterior de MDS7202, por lo que este motivo Renacín contrata a su equipo para lograr su objetivo final. Dado que aún tiene fuertes vínculos con la dirección de deportes de la municipalidad, el corporeo le entrega base de datos con las estadísticas de cada jugador para que su equipo empieze a trabajar ya con un dataset listo para ser usado.\n"
      ],
      "metadata": {
        "id": "xpOTbQcxbSiy",
        "cell_id": "00009-2d8a21b8-a5ac-41ee-9a17-15c179c9b666",
        "deepnote_cell_type": "markdown",
        "deepnote_cell_height": 645.0166625976562
      }
    },
    {
      "cell_type": "markdown",
      "source": [
        "**Los Datos**\n",
        "\n",
        "Para este laboratorio deberán trabajar con los csv `statsplayers.csv` y `salarios.pickle`, donde deberán aplicar algoritmos de de aprendizaje supervisado (clasificación y regresión) en base a características que describen de jugadores de futbol.\n",
        "\n",
        "Para comenzar cargue el dataset señalado y a continuación vea el reporte **`Player_Stats_Report.html`** (adjunto en la carpeta del enunciado) que describe las características principales del `DataFrame`."
      ],
      "metadata": {
        "id": "jnmZfFpxTTYX",
        "cell_id": "00010-6b2847d4-5b92-44b7-9ce0-c6b6779ac157",
        "deepnote_cell_type": "markdown",
        "deepnote_cell_height": 169.03334045410156
      }
    },
    {
      "cell_type": "code",
      "metadata": {
        "colab": {
          "base_uri": "https://localhost:8080/"
        },
        "id": "Jqq-s010Iwl1",
        "outputId": "207d8ca2-08f2-4282-bfd2-02edb42fdc70",
        "deepnote_to_be_reexecuted": false,
        "source_hash": "c60dc4a7",
        "execution_start": 1636741171022,
        "execution_millis": 7,
        "cell_id": "00011-41e0cc7d-f280-4fd4-9186-b97a9c9f2245",
        "deepnote_cell_type": "code",
        "deepnote_cell_height": 218.53334045410156
      },
      "source": [
        "# Si usted está utilizando Colabolatory le puede ser útil este código para cargar los archivos.\n",
        "try:\n",
        "    from google.colab import drive\n",
        "    drive.mount(\"/content/drive\")\n",
        "    path = '/content/drive/MyDrive/Lab_MDS/Laboratorios/Lab7'\n",
        "except: \n",
        "    print('Ignorando conexión drive-colab')"
      ],
      "execution_count": 2,
      "outputs": [
        {
          "output_type": "stream",
          "name": "stdout",
          "text": [
            "Mounted at /content/drive\n"
          ]
        }
      ]
    },
    {
      "cell_type": "code",
      "metadata": {
        "id": "bED3w3tDbSCf",
        "colab": {
          "base_uri": "https://localhost:8080/",
          "height": 661
        },
        "outputId": "9a12d39e-6482-41f1-fe61-f1ed7b3c6a37",
        "deepnote_to_be_reexecuted": false,
        "source_hash": "65944a94",
        "execution_start": 1636742947300,
        "execution_millis": 184,
        "cell_id": "00012-64bcb839-4478-423e-9bd1-cdb81eefc97e",
        "deepnote_cell_type": "code",
        "deepnote_cell_height": 489.54998779296875,
        "deepnote_output_heights": [
          376
        ]
      },
      "source": [
        "df_players = pd.read_csv(path+ '/stats_players.csv')\n",
        "df_players"
      ],
      "execution_count": 3,
      "outputs": [
        {
          "output_type": "execute_result",
          "data": {
            "text/plain": [
              "                    Name          Nationality National_Position Club_Position  \\\n",
              "0      Cristiano Ronaldo             Portugal                LS            LW   \n",
              "1           Lionel Messi            Argentina                RW            RW   \n",
              "2                 Neymar               Brazil                LW            LW   \n",
              "3            Luis Suárez              Uruguay                LS            ST   \n",
              "4           Manuel Neuer              Germany                GK            GK   \n",
              "...                  ...                  ...               ...           ...   \n",
              "17583        Adam Dunbar  Republic of Ireland               NaN           Sub   \n",
              "17584       Dylan McGoey  Republic of Ireland               NaN           Sub   \n",
              "17585    Tommy Ouldridge              England               NaN           Res   \n",
              "17586         Mark Foden             Scotland               NaN           Sub   \n",
              "17587   Barry Richardson              England               NaN           Sub   \n",
              "\n",
              "       Height  Weight Preffered_Foot  Age        Work_Rate  Weak_foot  ...  \\\n",
              "0         185      80          Right   32       High / Low          4  ...   \n",
              "1         170      72           Left   29  Medium / Medium          4  ...   \n",
              "2         174      68          Right   25    High / Medium          5  ...   \n",
              "3         182      85          Right   30    High / Medium          4  ...   \n",
              "4         193      92          Right   31  Medium / Medium          4  ...   \n",
              "...       ...     ...            ...  ...              ...        ...  ...   \n",
              "17583     183      82          Right   19  Medium / Medium          1  ...   \n",
              "17584     185      80          Right   19  Medium / Medium          2  ...   \n",
              "17585     173      61          Right   18    High / Medium          2  ...   \n",
              "17586     180      80          Right   21  Medium / Medium          3  ...   \n",
              "17587     185      77          Right   47  Medium / Medium          2  ...   \n",
              "\n",
              "       Agility  Jumping  Heading  Shot_Power  Finishing  Long_Shots  Curve  \\\n",
              "0           90       95       85          92         93          90     81   \n",
              "1           90       68       71          85         95          88     89   \n",
              "2           96       61       62          78         89          77     79   \n",
              "3           86       69       77          87         94          86     86   \n",
              "4           52       78       25          25         13          16     14   \n",
              "...        ...      ...      ...         ...        ...         ...    ...   \n",
              "17583       27       56       14          16         13          13     11   \n",
              "17584       28       53       12          17         12          11     12   \n",
              "17585       54       61       41          44         28          42     35   \n",
              "17586       34       48       15          23         14          12     13   \n",
              "17587       38       51       12          13         11          16     12   \n",
              "\n",
              "       Freekick_Accuracy  Penalties  Volleys  \n",
              "0                     76         85       88  \n",
              "1                     90         74       85  \n",
              "2                     84         81       83  \n",
              "3                     84         85       88  \n",
              "4                     11         47       11  \n",
              "...                  ...        ...      ...  \n",
              "17583                 13         15       12  \n",
              "17584                 13         16       12  \n",
              "17585                 36         42       37  \n",
              "17586                 12         24       12  \n",
              "17587                 11         22       12  \n",
              "\n",
              "[17588 rows x 39 columns]"
            ],
            "text/html": [
              "\n",
              "  <div id=\"df-f030d87b-dc71-42e4-a60f-81756033fec7\">\n",
              "    <div class=\"colab-df-container\">\n",
              "      <div>\n",
              "<style scoped>\n",
              "    .dataframe tbody tr th:only-of-type {\n",
              "        vertical-align: middle;\n",
              "    }\n",
              "\n",
              "    .dataframe tbody tr th {\n",
              "        vertical-align: top;\n",
              "    }\n",
              "\n",
              "    .dataframe thead th {\n",
              "        text-align: right;\n",
              "    }\n",
              "</style>\n",
              "<table border=\"1\" class=\"dataframe\">\n",
              "  <thead>\n",
              "    <tr style=\"text-align: right;\">\n",
              "      <th></th>\n",
              "      <th>Name</th>\n",
              "      <th>Nationality</th>\n",
              "      <th>National_Position</th>\n",
              "      <th>Club_Position</th>\n",
              "      <th>Height</th>\n",
              "      <th>Weight</th>\n",
              "      <th>Preffered_Foot</th>\n",
              "      <th>Age</th>\n",
              "      <th>Work_Rate</th>\n",
              "      <th>Weak_foot</th>\n",
              "      <th>...</th>\n",
              "      <th>Agility</th>\n",
              "      <th>Jumping</th>\n",
              "      <th>Heading</th>\n",
              "      <th>Shot_Power</th>\n",
              "      <th>Finishing</th>\n",
              "      <th>Long_Shots</th>\n",
              "      <th>Curve</th>\n",
              "      <th>Freekick_Accuracy</th>\n",
              "      <th>Penalties</th>\n",
              "      <th>Volleys</th>\n",
              "    </tr>\n",
              "  </thead>\n",
              "  <tbody>\n",
              "    <tr>\n",
              "      <th>0</th>\n",
              "      <td>Cristiano Ronaldo</td>\n",
              "      <td>Portugal</td>\n",
              "      <td>LS</td>\n",
              "      <td>LW</td>\n",
              "      <td>185</td>\n",
              "      <td>80</td>\n",
              "      <td>Right</td>\n",
              "      <td>32</td>\n",
              "      <td>High / Low</td>\n",
              "      <td>4</td>\n",
              "      <td>...</td>\n",
              "      <td>90</td>\n",
              "      <td>95</td>\n",
              "      <td>85</td>\n",
              "      <td>92</td>\n",
              "      <td>93</td>\n",
              "      <td>90</td>\n",
              "      <td>81</td>\n",
              "      <td>76</td>\n",
              "      <td>85</td>\n",
              "      <td>88</td>\n",
              "    </tr>\n",
              "    <tr>\n",
              "      <th>1</th>\n",
              "      <td>Lionel Messi</td>\n",
              "      <td>Argentina</td>\n",
              "      <td>RW</td>\n",
              "      <td>RW</td>\n",
              "      <td>170</td>\n",
              "      <td>72</td>\n",
              "      <td>Left</td>\n",
              "      <td>29</td>\n",
              "      <td>Medium / Medium</td>\n",
              "      <td>4</td>\n",
              "      <td>...</td>\n",
              "      <td>90</td>\n",
              "      <td>68</td>\n",
              "      <td>71</td>\n",
              "      <td>85</td>\n",
              "      <td>95</td>\n",
              "      <td>88</td>\n",
              "      <td>89</td>\n",
              "      <td>90</td>\n",
              "      <td>74</td>\n",
              "      <td>85</td>\n",
              "    </tr>\n",
              "    <tr>\n",
              "      <th>2</th>\n",
              "      <td>Neymar</td>\n",
              "      <td>Brazil</td>\n",
              "      <td>LW</td>\n",
              "      <td>LW</td>\n",
              "      <td>174</td>\n",
              "      <td>68</td>\n",
              "      <td>Right</td>\n",
              "      <td>25</td>\n",
              "      <td>High / Medium</td>\n",
              "      <td>5</td>\n",
              "      <td>...</td>\n",
              "      <td>96</td>\n",
              "      <td>61</td>\n",
              "      <td>62</td>\n",
              "      <td>78</td>\n",
              "      <td>89</td>\n",
              "      <td>77</td>\n",
              "      <td>79</td>\n",
              "      <td>84</td>\n",
              "      <td>81</td>\n",
              "      <td>83</td>\n",
              "    </tr>\n",
              "    <tr>\n",
              "      <th>3</th>\n",
              "      <td>Luis Suárez</td>\n",
              "      <td>Uruguay</td>\n",
              "      <td>LS</td>\n",
              "      <td>ST</td>\n",
              "      <td>182</td>\n",
              "      <td>85</td>\n",
              "      <td>Right</td>\n",
              "      <td>30</td>\n",
              "      <td>High / Medium</td>\n",
              "      <td>4</td>\n",
              "      <td>...</td>\n",
              "      <td>86</td>\n",
              "      <td>69</td>\n",
              "      <td>77</td>\n",
              "      <td>87</td>\n",
              "      <td>94</td>\n",
              "      <td>86</td>\n",
              "      <td>86</td>\n",
              "      <td>84</td>\n",
              "      <td>85</td>\n",
              "      <td>88</td>\n",
              "    </tr>\n",
              "    <tr>\n",
              "      <th>4</th>\n",
              "      <td>Manuel Neuer</td>\n",
              "      <td>Germany</td>\n",
              "      <td>GK</td>\n",
              "      <td>GK</td>\n",
              "      <td>193</td>\n",
              "      <td>92</td>\n",
              "      <td>Right</td>\n",
              "      <td>31</td>\n",
              "      <td>Medium / Medium</td>\n",
              "      <td>4</td>\n",
              "      <td>...</td>\n",
              "      <td>52</td>\n",
              "      <td>78</td>\n",
              "      <td>25</td>\n",
              "      <td>25</td>\n",
              "      <td>13</td>\n",
              "      <td>16</td>\n",
              "      <td>14</td>\n",
              "      <td>11</td>\n",
              "      <td>47</td>\n",
              "      <td>11</td>\n",
              "    </tr>\n",
              "    <tr>\n",
              "      <th>...</th>\n",
              "      <td>...</td>\n",
              "      <td>...</td>\n",
              "      <td>...</td>\n",
              "      <td>...</td>\n",
              "      <td>...</td>\n",
              "      <td>...</td>\n",
              "      <td>...</td>\n",
              "      <td>...</td>\n",
              "      <td>...</td>\n",
              "      <td>...</td>\n",
              "      <td>...</td>\n",
              "      <td>...</td>\n",
              "      <td>...</td>\n",
              "      <td>...</td>\n",
              "      <td>...</td>\n",
              "      <td>...</td>\n",
              "      <td>...</td>\n",
              "      <td>...</td>\n",
              "      <td>...</td>\n",
              "      <td>...</td>\n",
              "      <td>...</td>\n",
              "    </tr>\n",
              "    <tr>\n",
              "      <th>17583</th>\n",
              "      <td>Adam Dunbar</td>\n",
              "      <td>Republic of Ireland</td>\n",
              "      <td>NaN</td>\n",
              "      <td>Sub</td>\n",
              "      <td>183</td>\n",
              "      <td>82</td>\n",
              "      <td>Right</td>\n",
              "      <td>19</td>\n",
              "      <td>Medium / Medium</td>\n",
              "      <td>1</td>\n",
              "      <td>...</td>\n",
              "      <td>27</td>\n",
              "      <td>56</td>\n",
              "      <td>14</td>\n",
              "      <td>16</td>\n",
              "      <td>13</td>\n",
              "      <td>13</td>\n",
              "      <td>11</td>\n",
              "      <td>13</td>\n",
              "      <td>15</td>\n",
              "      <td>12</td>\n",
              "    </tr>\n",
              "    <tr>\n",
              "      <th>17584</th>\n",
              "      <td>Dylan McGoey</td>\n",
              "      <td>Republic of Ireland</td>\n",
              "      <td>NaN</td>\n",
              "      <td>Sub</td>\n",
              "      <td>185</td>\n",
              "      <td>80</td>\n",
              "      <td>Right</td>\n",
              "      <td>19</td>\n",
              "      <td>Medium / Medium</td>\n",
              "      <td>2</td>\n",
              "      <td>...</td>\n",
              "      <td>28</td>\n",
              "      <td>53</td>\n",
              "      <td>12</td>\n",
              "      <td>17</td>\n",
              "      <td>12</td>\n",
              "      <td>11</td>\n",
              "      <td>12</td>\n",
              "      <td>13</td>\n",
              "      <td>16</td>\n",
              "      <td>12</td>\n",
              "    </tr>\n",
              "    <tr>\n",
              "      <th>17585</th>\n",
              "      <td>Tommy Ouldridge</td>\n",
              "      <td>England</td>\n",
              "      <td>NaN</td>\n",
              "      <td>Res</td>\n",
              "      <td>173</td>\n",
              "      <td>61</td>\n",
              "      <td>Right</td>\n",
              "      <td>18</td>\n",
              "      <td>High / Medium</td>\n",
              "      <td>2</td>\n",
              "      <td>...</td>\n",
              "      <td>54</td>\n",
              "      <td>61</td>\n",
              "      <td>41</td>\n",
              "      <td>44</td>\n",
              "      <td>28</td>\n",
              "      <td>42</td>\n",
              "      <td>35</td>\n",
              "      <td>36</td>\n",
              "      <td>42</td>\n",
              "      <td>37</td>\n",
              "    </tr>\n",
              "    <tr>\n",
              "      <th>17586</th>\n",
              "      <td>Mark Foden</td>\n",
              "      <td>Scotland</td>\n",
              "      <td>NaN</td>\n",
              "      <td>Sub</td>\n",
              "      <td>180</td>\n",
              "      <td>80</td>\n",
              "      <td>Right</td>\n",
              "      <td>21</td>\n",
              "      <td>Medium / Medium</td>\n",
              "      <td>3</td>\n",
              "      <td>...</td>\n",
              "      <td>34</td>\n",
              "      <td>48</td>\n",
              "      <td>15</td>\n",
              "      <td>23</td>\n",
              "      <td>14</td>\n",
              "      <td>12</td>\n",
              "      <td>13</td>\n",
              "      <td>12</td>\n",
              "      <td>24</td>\n",
              "      <td>12</td>\n",
              "    </tr>\n",
              "    <tr>\n",
              "      <th>17587</th>\n",
              "      <td>Barry Richardson</td>\n",
              "      <td>England</td>\n",
              "      <td>NaN</td>\n",
              "      <td>Sub</td>\n",
              "      <td>185</td>\n",
              "      <td>77</td>\n",
              "      <td>Right</td>\n",
              "      <td>47</td>\n",
              "      <td>Medium / Medium</td>\n",
              "      <td>2</td>\n",
              "      <td>...</td>\n",
              "      <td>38</td>\n",
              "      <td>51</td>\n",
              "      <td>12</td>\n",
              "      <td>13</td>\n",
              "      <td>11</td>\n",
              "      <td>16</td>\n",
              "      <td>12</td>\n",
              "      <td>11</td>\n",
              "      <td>22</td>\n",
              "      <td>12</td>\n",
              "    </tr>\n",
              "  </tbody>\n",
              "</table>\n",
              "<p>17588 rows × 39 columns</p>\n",
              "</div>\n",
              "      <button class=\"colab-df-convert\" onclick=\"convertToInteractive('df-f030d87b-dc71-42e4-a60f-81756033fec7')\"\n",
              "              title=\"Convert this dataframe to an interactive table.\"\n",
              "              style=\"display:none;\">\n",
              "        \n",
              "  <svg xmlns=\"http://www.w3.org/2000/svg\" height=\"24px\"viewBox=\"0 0 24 24\"\n",
              "       width=\"24px\">\n",
              "    <path d=\"M0 0h24v24H0V0z\" fill=\"none\"/>\n",
              "    <path d=\"M18.56 5.44l.94 2.06.94-2.06 2.06-.94-2.06-.94-.94-2.06-.94 2.06-2.06.94zm-11 1L8.5 8.5l.94-2.06 2.06-.94-2.06-.94L8.5 2.5l-.94 2.06-2.06.94zm10 10l.94 2.06.94-2.06 2.06-.94-2.06-.94-.94-2.06-.94 2.06-2.06.94z\"/><path d=\"M17.41 7.96l-1.37-1.37c-.4-.4-.92-.59-1.43-.59-.52 0-1.04.2-1.43.59L10.3 9.45l-7.72 7.72c-.78.78-.78 2.05 0 2.83L4 21.41c.39.39.9.59 1.41.59.51 0 1.02-.2 1.41-.59l7.78-7.78 2.81-2.81c.8-.78.8-2.07 0-2.86zM5.41 20L4 18.59l7.72-7.72 1.47 1.35L5.41 20z\"/>\n",
              "  </svg>\n",
              "      </button>\n",
              "      \n",
              "  <style>\n",
              "    .colab-df-container {\n",
              "      display:flex;\n",
              "      flex-wrap:wrap;\n",
              "      gap: 12px;\n",
              "    }\n",
              "\n",
              "    .colab-df-convert {\n",
              "      background-color: #E8F0FE;\n",
              "      border: none;\n",
              "      border-radius: 50%;\n",
              "      cursor: pointer;\n",
              "      display: none;\n",
              "      fill: #1967D2;\n",
              "      height: 32px;\n",
              "      padding: 0 0 0 0;\n",
              "      width: 32px;\n",
              "    }\n",
              "\n",
              "    .colab-df-convert:hover {\n",
              "      background-color: #E2EBFA;\n",
              "      box-shadow: 0px 1px 2px rgba(60, 64, 67, 0.3), 0px 1px 3px 1px rgba(60, 64, 67, 0.15);\n",
              "      fill: #174EA6;\n",
              "    }\n",
              "\n",
              "    [theme=dark] .colab-df-convert {\n",
              "      background-color: #3B4455;\n",
              "      fill: #D2E3FC;\n",
              "    }\n",
              "\n",
              "    [theme=dark] .colab-df-convert:hover {\n",
              "      background-color: #434B5C;\n",
              "      box-shadow: 0px 1px 3px 1px rgba(0, 0, 0, 0.15);\n",
              "      filter: drop-shadow(0px 1px 2px rgba(0, 0, 0, 0.3));\n",
              "      fill: #FFFFFF;\n",
              "    }\n",
              "  </style>\n",
              "\n",
              "      <script>\n",
              "        const buttonEl =\n",
              "          document.querySelector('#df-f030d87b-dc71-42e4-a60f-81756033fec7 button.colab-df-convert');\n",
              "        buttonEl.style.display =\n",
              "          google.colab.kernel.accessAllowed ? 'block' : 'none';\n",
              "\n",
              "        async function convertToInteractive(key) {\n",
              "          const element = document.querySelector('#df-f030d87b-dc71-42e4-a60f-81756033fec7');\n",
              "          const dataTable =\n",
              "            await google.colab.kernel.invokeFunction('convertToInteractive',\n",
              "                                                     [key], {});\n",
              "          if (!dataTable) return;\n",
              "\n",
              "          const docLinkHtml = 'Like what you see? Visit the ' +\n",
              "            '<a target=\"_blank\" href=https://colab.research.google.com/notebooks/data_table.ipynb>data table notebook</a>'\n",
              "            + ' to learn more about interactive tables.';\n",
              "          element.innerHTML = '';\n",
              "          dataTable['output_type'] = 'display_data';\n",
              "          await google.colab.output.renderOutput(dataTable, element);\n",
              "          const docLink = document.createElement('div');\n",
              "          docLink.innerHTML = docLinkHtml;\n",
              "          element.appendChild(docLink);\n",
              "        }\n",
              "      </script>\n",
              "    </div>\n",
              "  </div>\n",
              "  "
            ]
          },
          "metadata": {},
          "execution_count": 3
        }
      ]
    },
    {
      "cell_type": "markdown",
      "source": [
        "## 1.1 Predicción de Seleccionados Nacionales \n",
        "\n",
        "Como primera tarea, Renacín, intrigado por la posibilidad de saber qué tan reconocido es un jugador, le consulta a su equipo si es posible predecir si un jugador será o no seleccionado nacional a partir de sus estadísticas en el juego. \n",
        "\n",
        "<p align=\"center\">\n",
        "  <img src=\"https://thumbs.gfycat.com/ThornyFrankFoxhound-size_restricted.gif\" width=\"500\">\n",
        "</p>"
      ],
      "metadata": {
        "id": "2R3b7Qe501t5",
        "cell_id": "00013-1b1d1556-4dbe-499e-8a34-90748e76565e",
        "deepnote_cell_type": "markdown",
        "deepnote_cell_height": 169.8333282470703
      }
    },
    {
      "cell_type": "markdown",
      "source": [
        "### 1.1.1 Generación de Labels para la Clasificación [Sin Puntaje]\n",
        "\n",
        "\n",
        "Primero comience generando las labels para la clasificación. Para esto, trabaje sobre el atributo ```National_Position``` suponiendo que los valores nulos son jugadores no seleccionados para representar a su país. \n",
        "\n",
        "Hecho esto, ¿Cuantos ejemplos por cada clase se tienen? Comente lo que observa.\n",
        "\n"
      ],
      "metadata": {
        "id": "PIe_Ha58pQRC",
        "cell_id": "00014-33fe54d0-08a3-457a-932d-d07eb29b7ee3",
        "deepnote_cell_type": "markdown",
        "deepnote_cell_height": 158.23333740234375
      }
    },
    {
      "cell_type": "markdown",
      "source": [
        "**Respuesta:**"
      ],
      "metadata": {
        "tags": [],
        "cell_id": "00015-f7029512-357f-4f07-9897-aaf5d65430a6",
        "deepnote_cell_type": "markdown",
        "deepnote_cell_height": 51.43333435058594,
        "id": "4kdzReuTnRjq"
      }
    },
    {
      "cell_type": "code",
      "metadata": {
        "id": "uwKaIuho4lqn",
        "deepnote_to_be_reexecuted": false,
        "source_hash": "43ce1981",
        "execution_start": 1636741171250,
        "execution_millis": 3,
        "cell_id": "00016-ea27a011-47ab-4d54-b2cf-f07037d65135",
        "deepnote_cell_type": "code",
        "deepnote_cell_height": 80.03334045410156
      },
      "source": [
        "df = df_players.copy()\n",
        "# valores nulos son jugadores no seleccionados para representar a su país.\n",
        "df['Classified'] = (~df['National_Position'].isna()).astype(int).astype(\"category\")\n",
        "# 0: no clasifica\n",
        "# 1: clasifica"
      ],
      "execution_count": 4,
      "outputs": []
    },
    {
      "cell_type": "code",
      "source": [
        "c1 = sum(df['Classified'])\n",
        "c2 = len(df) - c1\n",
        "print(f'Hay {c1} ({(100*c1)/len(df):.2f}%) que clasifican y {c2} ({(100*c2)/len(df):.2f}%) que no clasifican' ) "
      ],
      "metadata": {
        "colab": {
          "base_uri": "https://localhost:8080/"
        },
        "id": "NvuOIiEYpCFG",
        "outputId": "3fd4965b-b0f4-4e27-f946-20ef7fa0c615"
      },
      "execution_count": 5,
      "outputs": [
        {
          "output_type": "stream",
          "name": "stdout",
          "text": [
            "Hay 1075 (6.11%) que clasifican y 16513 (93.89%) que no clasifican\n"
          ]
        }
      ]
    },
    {
      "cell_type": "markdown",
      "source": [
        "Se observa que las clases estan desbalanceadas de manera significativa"
      ],
      "metadata": {
        "id": "G4eSYtceqlPi"
      }
    },
    {
      "cell_type": "markdown",
      "source": [
        "### 1.1.2 Camino a la clasificación [1 punto]\n",
        "\n",
        "<p align=\"center\">\n",
        "  <img src=\"https://c.tenor.com/SoXZJHWnhKAAAAAC/pitbull-medel.gif\" width=\"500\">\n",
        "</p>\n",
        "\n",
        "Para preprocesar el dataset, genere un `ColumnTransformer` en donde especifique las transformaciones que hay que realizar para cada columna (por ejemplo StandarScaler, MinMaxScaler, OneHotEncoder, etc...) para que puedan ser utilizadas correctamente por el modelo predictivo y guardelo en algúna variable.\n",
        "\n",
        "Luego, comente y justifique las transformaciones elegidas sobre cada una de las variables (para esto utilice el material ```Player_Stats_Report.html``` que viene en el zip del lab), al igual que las transformaciones aplicadas.\n",
        "\n",
        "Hecho lo anterior, **defina al menos 3 pipelines para la clasificación**, en donde utilice el mismo ColumnTransformer definido anteriormente, pero que varie entre cada pipeline los clasificadores. \n",
        "\n",
        "Para seleccionar los clasificadores más adecuados, utilice la siguiente guía:\n",
        "\n",
        "<p align=\"center\">\n",
        "  <img src=\"https://scikit-learn.org/stable/_static/ml_map.png\" width=\"500\">\n",
        "</p>\n",
        "\n",
        "<br/>\n",
        "\n",
        "Con ella, comente y justifique cada una de las decisiones tomadas al momento de desarrollar su pipeline.\n",
        "\n",
        "**Nota:** Si tiene problemas al utilizar OneHotEncoder puede utilizar el parámetro handle_unknown='ignore'. Esto hace que en la codificación se omitan las categorias que no aparecen en el entrenamiento. Pregunta dudosa (no tiene puntaje), ¿esto tiene sentido a nivel de modelos?.\n",
        "\n",
        "**To-Do:**\n",
        "\n",
        "- [ ] Genere un ```ColumnTransformer``` enfocado en preprocesar los datos.\n",
        "- [ ] Indicar y Justificar que preprocesamiento utiliza sobre cada columna.\n",
        "- [ ] Crear 3 ``pipelines`` con diferentes clasificadores.\n",
        "- [ ] Para seleccionar los clasificadores base sus decisiones en la siguiente [guía](https://scikit-learn.org/stable/tutorial/machine_learning_map/index.html)\n",
        "- [ ] No entrenar los ``pipelines`` aún.\n",
        "\n",
        "**Nota:** No es necesario entrenar los clasificadores aún."
      ],
      "metadata": {
        "id": "0F70XPRFpWH9",
        "cell_id": "00019-645127af-999a-40ce-b7a1-aa62bb742b4a",
        "owner_user_id": "badcc427-fd3d-4615-9296-faa43ec69cfb",
        "deepnote_cell_type": "markdown",
        "deepnote_cell_height": 1393.3499755859375
      }
    },
    {
      "cell_type": "markdown",
      "source": [
        "**Respuesta:**"
      ],
      "metadata": {
        "tags": [],
        "cell_id": "00020-4620fe7d-8e00-4c8b-976f-4212347359e6",
        "deepnote_cell_type": "markdown",
        "deepnote_cell_height": 51.43333435058594,
        "id": "Txh6eHBZnRjr"
      }
    },
    {
      "cell_type": "code",
      "source": [
        "# Se ignoran las columnas Nombre, Nacionalidad, National Position ya que las 2 primeras son irrelevantes (no son estadísticas en el juego) \n",
        "# y la 3ra son equivalentes a las labels. \n",
        "# Para columnas categoricas sin orden se usa OneHot Encoding ['Club_Position', 'Preffered_Foot']\n",
        "col_categoricas = ['Club_Position', 'Preffered_Foot']\n",
        "# Para columnas categoricas ordinales [Weak_foot, Skill_moves, Work_Rate] se transforma a ordinales (algunas ya están así)\n",
        "# La variable Work_Rate son 2 variables ordinales en 1 así que se separan\n",
        "df['Work_Rate1'] = df['Work_Rate'].apply(lambda x: x.split('/')[0].strip())\n",
        "df['Work_Rate2'] = df['Work_Rate'].apply(lambda x: x.split('/')[1].strip())\n",
        "df = df.drop('Work_Rate', axis = 1)\n",
        "col_ordinales = ['Work_Rate1', 'Work_Rate2']\n",
        "# Hay columnas numéricas que se observan normales en plots de distribución\n",
        "col_normal = ['Height',\n",
        " 'Weight',\n",
        " 'Strength',\n",
        " 'Acceleration',\n",
        " 'Volleys',\n",
        " 'Vision',\n",
        " 'Jumping',\n",
        " 'Composure',\n",
        " 'Agility',\n",
        " 'Aggression',\n",
        " 'Speed',\n",
        " 'Reactions',\n",
        " 'Balance']\n",
        "# Las demás parecen otras dsitribuciones (2 peaks, semi-planas, truncadas, etc) por lo que se aplica box-cox (son todas > 0)\n",
        "col_box_cox = ['Age', 'Ball_Control','Dribbling','Marking','Sliding_Tackle','Standing_Tackle','Interceptions','Crossing', 'Short_Pass', 'Long_Pass', 'Stamina',\n",
        "                       'Heading','Shot_Power','Finishing','Long_Shots','Curve','Freekick_Accuracy','Penalties']\n"
      ],
      "metadata": {
        "id": "U1k-cbAer-2D"
      },
      "execution_count": 6,
      "outputs": []
    },
    {
      "cell_type": "code",
      "source": [
        "col_tf = ColumnTransformer([\n",
        "    ('One-hot', OneHotEncoder(handle_unknown='ignore'), col_categoricas),\n",
        "    ('OrdinalEncoder', OrdinalEncoder(categories = [['Low', 'Medium', 'High'], ['Low', 'Medium', 'High']]), col_ordinales),\n",
        "    ('StandardScaler', StandardScaler(), col_normal),\n",
        "    ('Box-Cox', PowerTransformer('box-cox'), col_box_cox)\n",
        "])"
      ],
      "metadata": {
        "id": "dNgBStjz4k2a"
      },
      "execution_count": 7,
      "outputs": []
    },
    {
      "cell_type": "code",
      "source": [
        "from sklearn.svm import LinearSVC\n",
        "from sklearn.neighbors import KNeighborsClassifier\n",
        "from sklearn.ensemble import RandomForestClassifier\n",
        "\n",
        "# De acuerdo al diagrama se escoge una SVC (categoria, <100k)\n",
        "SVC_pipe = Pipeline([\n",
        "    ('preprocessing', col_tf),\n",
        "    ('classifier', LinearSVC(max_iter=30000, random_state=69420, class_weight= 'balanced'))\n",
        "])\n",
        "# De acuerdo al diagrama si no funciona SVC se ocupa KN\n",
        "KN_pipe = Pipeline([\n",
        "    ('preprocessing', col_tf),\n",
        "    ('classifier', KNeighborsClassifier())\n",
        "])\n",
        "# Si no funciona ocupar ensemble (RF)\n",
        "RF_pipe = Pipeline([\n",
        "    ('preprocessing', col_tf),\n",
        "    ('classifier', RandomForestClassifier(random_state=69420, class_weight = 'balanced'))\n",
        "])"
      ],
      "metadata": {
        "id": "LpyAEw6__Gxy"
      },
      "execution_count": 8,
      "outputs": []
    },
    {
      "cell_type": "markdown",
      "source": [
        "### 1.1.3 Entrenemos los pipelines [1 punto]\n",
        "\n",
        "<p align=\"center\">\n",
        "  <img src=\"https://i.gifer.com/7Cc8.gif\" width=\"350\">\n",
        "</p>\n"
      ],
      "metadata": {
        "id": "MpKq6oO3vCNL",
        "cell_id": "00022-c2604b33-63e0-4f34-88cf-019afa3b2225",
        "deepnote_cell_type": "markdown",
        "deepnote_cell_height": 440.1333312988281
      }
    },
    {
      "cell_type": "markdown",
      "source": [
        "Ahora, entrene los `pipeline` generados en los pasos anteriores. Para esto, primero separe los datos de entrenamiento en un conjunto de entrenamiento y de prueba  (la proporción queda a su juicio).\n",
        "\n",
        "En este paso, seleccione los ejemplos de forma aleatoria e intente mantener la distribución original de labels de cada clase en los conjuntos de prueba/entrenamiento. (vea la documentación de `train_test_split`).\n",
        "\n",
        "\n",
        "Luego, entrene los pipelines\n",
        "\n",
        "Una vez entrenado su modelo, evalue su rendimiento a través de diferentes métricas, comentando que significa cada uno de los valores obtenidos. Puede usar la función `classification_report` para corroborar sus resultados.\n",
        "\n",
        "- ¿Qué implican los valores de accuracy, precisión y recall de la clase positiva (la que indica que un jugador es seleccionado nacional)?\n",
        "- ¿Podrían mejorarse los resultados?, ¿Cómo?\n",
        "- ¿Influye la cantidad de ejemplos por clase?\n",
        "\n",
        "**To-Do**:\n",
        "\n",
        "- [ ] Separar el conjunto de datos en entrenamiento y de prueba.\n",
        "- [ ] Entrenar los `pipelines`.\n",
        "- [ ] Utilizar las métricas para evaluar los modelos generados.\n"
      ],
      "metadata": {
        "id": "wE_1aZaIvOeN",
        "cell_id": "00023-664600ec-8c7d-4e9a-8673-edd18d5145a3",
        "deepnote_cell_type": "markdown",
        "deepnote_cell_height": 455.73333740234375
      }
    },
    {
      "cell_type": "markdown",
      "source": [
        "**Respuesta:**"
      ],
      "metadata": {
        "tags": [],
        "cell_id": "00024-b842d4aa-fb47-4513-8649-e942f6094140",
        "deepnote_cell_type": "markdown",
        "deepnote_cell_height": 51.43333435058594,
        "id": "v7cyldgAnRjs"
      }
    },
    {
      "cell_type": "code",
      "metadata": {
        "tags": [],
        "cell_id": "00023-f6cdd4bf-3786-444f-a249-62e47133e558",
        "deepnote_cell_type": "code",
        "deepnote_cell_height": 65.03334045410156,
        "id": "xul7V98CnRjs"
      },
      "source": [
        "### Código aquí ###\n",
        "droped_columns = ['Name', 'National_Position', 'Nationality']\n",
        "X = df.drop(columns= droped_columns + ['Classified'])\n",
        "y = df['Classified']\n",
        "# Train test splic con estratify\n",
        "X_train, X_test, y_train, y_test = train_test_split(X, y, test_size=1/3, shuffle=True, stratify=y) "
      ],
      "execution_count": 9,
      "outputs": []
    },
    {
      "cell_type": "code",
      "source": [
        "print('SVC Lineal')\n",
        "svc = SVC_pipe.fit(X_train, y_train)\n",
        "y_pred = svc.predict(X_test)\n",
        "print(classification_report(y_test, y_pred))\n",
        "print('cohen_kappa_score:', cohen_kappa_score(y_test, y_pred))\n",
        "print('\\n\\n\\n')\n",
        "\n",
        "\n",
        "print('Random Forest')\n",
        "rf = RF_pipe.fit(X_train, y_train)\n",
        "y_pred = rf.predict(X_test)\n",
        "print(classification_report(y_test, y_pred))\n",
        "print('cohen_kappa_score:', cohen_kappa_score(y_test, y_pred))\n",
        "print('\\n\\n\\n')\n",
        "\n",
        "\n",
        "print('K neighbours')\n",
        "kn = KN_pipe.fit(X_train, y_train)\n",
        "y_pred = kn.predict(X_test)\n",
        "print(classification_report(y_test, y_pred))\n",
        "print('cohen_kappa_score:', cohen_kappa_score(y_test, y_pred))"
      ],
      "metadata": {
        "colab": {
          "base_uri": "https://localhost:8080/"
        },
        "id": "inwiLN-3A-P9",
        "outputId": "e34e087b-8cd7-45db-c458-494b180c1257"
      },
      "execution_count": 10,
      "outputs": [
        {
          "output_type": "stream",
          "name": "stdout",
          "text": [
            "SVC Lineal\n",
            "              precision    recall  f1-score   support\n",
            "\n",
            "           0       0.98      0.73      0.84      5505\n",
            "           1       0.15      0.74      0.26       358\n",
            "\n",
            "    accuracy                           0.74      5863\n",
            "   macro avg       0.57      0.74      0.55      5863\n",
            "weighted avg       0.93      0.74      0.80      5863\n",
            "\n",
            "cohen_kappa_score: 0.1716247800392966\n",
            "\n",
            "\n",
            "\n",
            "\n",
            "Random Forest\n",
            "              precision    recall  f1-score   support\n",
            "\n",
            "           0       0.94      1.00      0.97      5505\n",
            "           1       0.52      0.04      0.07       358\n",
            "\n",
            "    accuracy                           0.94      5863\n",
            "   macro avg       0.73      0.52      0.52      5863\n",
            "weighted avg       0.92      0.94      0.91      5863\n",
            "\n",
            "cohen_kappa_score: 0.06471715067944694\n",
            "\n",
            "\n",
            "\n",
            "\n",
            "K neighbours\n",
            "              precision    recall  f1-score   support\n",
            "\n",
            "           0       0.94      0.99      0.97      5505\n",
            "           1       0.41      0.09      0.14       358\n",
            "\n",
            "    accuracy                           0.94      5863\n",
            "   macro avg       0.68      0.54      0.56      5863\n",
            "weighted avg       0.91      0.94      0.92      5863\n",
            "\n",
            "cohen_kappa_score: 0.12467147609698115\n"
          ]
        }
      ]
    },
    {
      "cell_type": "markdown",
      "source": [
        "**Respuesta**:\n",
        "\n",
        "Cómo se puede observar de los resultados ninguno de los clasificadores obtienen buenos resutlados en las métricas de acc, precision ni recall de la clase positiva. El que mejores resultados obtiene en sus métricas macro (Random Forest) tan sólo llega a un 52% de precisión lo que nos dice que solo 52 de cada 100 asignados como positivos lo son realmente, además se obtiene un recall de 9% es decir solo 9 de cada 100 positivos son clasificados correctanemente y se obtiene un accuracy de 94% lo cual contrasta con las métricas anteriores y deja en claro el desbalance entre la clase positiva y como se favorece la clase negativa al realizar la predicción.\n",
        "\n",
        "También al determinar el kappa de Cohen, que es similar al accuracy pero ajustando el efecto que tiene el azar, se observa que los modelos que consideran el desbalance obtienen un mejor resultado.\n",
        "\n",
        "\n",
        "Los resultados se podrían mejorar utilizando varias estrategias como: optimización de hiper-parámetros, validación cruzada, técnicas para combatir desbalance, algún tipo de aumentación de datos y/o recoletar más datos (en especial de la clase minoritaría).\n",
        "\n",
        "El desbalance de clase afecta en gran medida al clasificador dado que tan solo 6.1% de los datos son de seleccionados, esto provoca que la clase minoritaria no obtenga tan buenos resultados, por lo mismo se ve que los clasificadores que intentan cosniderar este desbalance (SVC y RF) obtienen mejor resultado en la clase minoritaria."
      ],
      "metadata": {
        "id": "QgSeo0aIx9ow",
        "cell_id": "00028-42eb3af5-2635-48e6-9049-736e2d4b3306",
        "deepnote_cell_type": "markdown",
        "deepnote_cell_height": 106.23333740234375
      }
    },
    {
      "cell_type": "markdown",
      "source": [
        "## 1.2 Predicción de posiciones de jugadores [2 puntos]\n",
        "\n",
        "<p align=\"center\">\n",
        "  <img src=\"https://pbs.twimg.com/media/E1rfA1aWEAYU6Ny.jpg\" width=\"500\">\n",
        "</p>"
      ],
      "metadata": {
        "id": "ix97Ho4uOARH",
        "cell_id": "00029-25d6c3d3-9c25-49f0-a27b-beface2dd794",
        "deepnote_cell_type": "markdown",
        "deepnote_cell_height": 420.2833251953125
      }
    },
    {
      "cell_type": "markdown",
      "source": [
        "En una nueva jornada de desmesuradas transacciones deportivas, Renacín escuchó a sus colegas discutir acerca de que el precio de cada jugador depende en gran medida de la posición en la cancha en la que juega. Y además, que hay bastantes jugadores nuevos que no tienen muy claro en que posición verdaderamente brillarían, por lo que actualmente puede que actualmente estén jugando en posiciones sub-optimas. \n",
        "\n",
        "Viendo que los resultados del primer análisis no son tan esperanzadores, el corporeo los comanda a cambiar su tarea: ahora, les solicita que construyan un clasificador enfocado en predecir la mejor posición de los jugadores en la cancha según sus características. \n",
        "\n",
        "Para lograr esto, primero, les pide que etiqueten de la siguiente manera los valores que aparecen en el atributo ```Club_Position```, pidiendo que agrupen los valores en los siguientes grupos:\n",
        "\n",
        "**Nota**:  Renacín les recalca que **no deben utilizar los valores ```Sub``` y ```Res``` de esta columna**.\n",
        "\n",
        "```python\n",
        "ataque = ['ST', 'CF'] \n",
        "central_ataque = ['RW', 'CAM', 'LW'] \n",
        "central = ['RM', 'CM', 'LM'] \n",
        "central_defensa = ['RWB', 'CDM', 'LWB']\n",
        "defensa = ['RB', 'CB', 'LB']\n",
        "arquero = ['GK']\n",
        "```\n",
        "\n",
        "Cabe señalar que al igual como lo realizado con la clasificación binaria, deberá justificar en base a la [guía](https://scikit-learn.org/stable/tutorial/machine_learning_map/index.html) la elección del clasificador y se deben comentar los resultados obtenidos en la clasificación.\n",
        "\n",
        "**Nota:** Clasifique solamente con las clases señaladas, si observa mas clases eliminelas de la clasficación.\n",
        "\n",
        "**To-Do**:\n",
        "\n",
        "- [ ] Aplique las etiquetas descritas anteriormente en cada uno de los valores señalados en esta sección.\n",
        "- [ ] Cuente cuantos por clase quedan.\n",
        "- [ ] Entrene el nuevo pipeline y ejecute una evaluación de este.  \n",
        "- [ ] Comente los resultados obtenidos."
      ],
      "metadata": {
        "id": "oHAwZfV8hMsk",
        "cell_id": "00030-38a30ede-8d53-4a7c-930b-bfeaa4d499ff",
        "deepnote_cell_type": "markdown",
        "deepnote_cell_height": 687.2999877929688
      }
    },
    {
      "cell_type": "markdown",
      "source": [
        "**Respuesta:**"
      ],
      "metadata": {
        "tags": [],
        "cell_id": "00031-e53db99a-2bcc-474a-92b1-1f55458afc1d",
        "deepnote_cell_type": "markdown",
        "deepnote_cell_height": 51.43333435058594,
        "id": "BZYwuTCpnRjv"
      }
    },
    {
      "cell_type": "code",
      "source": [
        "df2 = df_players.copy()"
      ],
      "metadata": {
        "id": "_3Lm1pqucWYv"
      },
      "execution_count": 11,
      "outputs": []
    },
    {
      "cell_type": "code",
      "source": [
        "ataque = ['ST', 'CF'] \n",
        "central_ataque = ['RW', 'CAM', 'LW'] \n",
        "central = ['RM', 'CM', 'LM'] \n",
        "central_defensa = ['RWB', 'CDM', 'LWB']\n",
        "defensa = ['RB', 'CB', 'LB']\n",
        "arquero = ['GK']"
      ],
      "metadata": {
        "id": "VGjqYX8VdWRz"
      },
      "execution_count": 12,
      "outputs": []
    },
    {
      "cell_type": "code",
      "source": [
        "labels = ['ataque','central_ataque','central','central_defensa','defensa','arquero']\n",
        "cond = [df2['Club_Position'].isin(ataque),\n",
        "              df2['Club_Position'].isin(central_ataque),\n",
        "              df2['Club_Position'].isin(central),\n",
        "              df2['Club_Position'].isin(central_defensa),\n",
        "              df2['Club_Position'].isin(defensa),\n",
        "              df2['Club_Position'].isin(arquero)]\n",
        "df2['Club_Position'] = np.select(cond, labels, default = df2['Club_Position'] )\n",
        "df2 = df2[df2['Club_Position'].isin(labels)]\n",
        "df2['Club_Position'].value_counts()"
      ],
      "metadata": {
        "colab": {
          "base_uri": "https://localhost:8080/"
        },
        "id": "KnbZpOeedNbw",
        "outputId": "e9f71609-5524-4a32-ba95-6bd44de4bf12"
      },
      "execution_count": 13,
      "outputs": [
        {
          "output_type": "execute_result",
          "data": {
            "text/plain": [
              "defensa            1180\n",
              "central             907\n",
              "arquero             632\n",
              "central_ataque      581\n",
              "ataque              430\n",
              "central_defensa     209\n",
              "Name: Club_Position, dtype: int64"
            ]
          },
          "metadata": {},
          "execution_count": 13
        }
      ]
    },
    {
      "cell_type": "code",
      "metadata": {
        "tags": [],
        "cell_id": "00028-f8dd9230-e314-42be-a0f8-2c295dd45e54",
        "deepnote_cell_type": "code",
        "deepnote_cell_height": 65.03334045410156,
        "colab": {
          "base_uri": "https://localhost:8080/",
          "height": 542
        },
        "id": "cJFPJpZ7nRjv",
        "outputId": "6438c4be-19d3-4d8a-85f0-20009c02885a"
      },
      "source": [
        "px.histogram(x = df2['Club_Position'])"
      ],
      "execution_count": 14,
      "outputs": [
        {
          "output_type": "display_data",
          "data": {
            "text/html": [
              "<html>\n",
              "<head><meta charset=\"utf-8\" /></head>\n",
              "<body>\n",
              "    <div>            <script src=\"https://cdnjs.cloudflare.com/ajax/libs/mathjax/2.7.5/MathJax.js?config=TeX-AMS-MML_SVG\"></script><script type=\"text/javascript\">if (window.MathJax && window.MathJax.Hub && window.MathJax.Hub.Config) {window.MathJax.Hub.Config({SVG: {font: \"STIX-Web\"}});}</script>                <script type=\"text/javascript\">window.PlotlyConfig = {MathJaxConfig: 'local'};</script>\n",
              "        <script src=\"https://cdn.plot.ly/plotly-2.12.1.min.js\"></script>                <div id=\"c8721129-c509-419d-bbae-febc4c0f5a91\" class=\"plotly-graph-div\" style=\"height:525px; width:100%;\"></div>            <script type=\"text/javascript\">                                    window.PLOTLYENV=window.PLOTLYENV || {};                                    if (document.getElementById(\"c8721129-c509-419d-bbae-febc4c0f5a91\")) {                    Plotly.newPlot(                        \"c8721129-c509-419d-bbae-febc4c0f5a91\",                        [{\"alignmentgroup\":\"True\",\"bingroup\":\"x\",\"hovertemplate\":\"x=%{x}<br>count=%{y}<extra></extra>\",\"legendgroup\":\"\",\"marker\":{\"color\":\"#636efa\",\"pattern\":{\"shape\":\"\"}},\"name\":\"\",\"offsetgroup\":\"\",\"orientation\":\"v\",\"showlegend\":false,\"x\":[\"central_ataque\",\"central_ataque\",\"central_ataque\",\"ataque\",\"arquero\",\"arquero\",\"ataque\",\"central_ataque\",\"ataque\",\"arquero\",\"central_ataque\",\"central_ataque\",\"ataque\",\"ataque\",\"central_ataque\",\"ataque\",\"arquero\",\"defensa\",\"arquero\",\"arquero\",\"central\",\"arquero\",\"central_ataque\",\"ataque\",\"central_ataque\",\"arquero\",\"central\",\"central_ataque\",\"defensa\",\"central_ataque\",\"arquero\",\"central_ataque\",\"central_defensa\",\"central_ataque\",\"central_ataque\",\"ataque\",\"ataque\",\"defensa\",\"ataque\",\"ataque\",\"arquero\",\"ataque\",\"central_ataque\",\"defensa\",\"central_ataque\",\"ataque\",\"defensa\",\"arquero\",\"defensa\",\"central\",\"defensa\",\"central\",\"ataque\",\"central_ataque\",\"central\",\"arquero\",\"defensa\",\"central\",\"defensa\",\"arquero\",\"central_ataque\",\"ataque\",\"central_defensa\",\"arquero\",\"ataque\",\"central_defensa\",\"central\",\"central_ataque\",\"central_ataque\",\"ataque\",\"central_defensa\",\"arquero\",\"central\",\"arquero\",\"central\",\"central_ataque\",\"arquero\",\"central_ataque\",\"arquero\",\"central_ataque\",\"central\",\"central\",\"arquero\",\"arquero\",\"central_ataque\",\"defensa\",\"arquero\",\"arquero\",\"defensa\",\"central_ataque\",\"central_ataque\",\"defensa\",\"arquero\",\"central\",\"central\",\"central_ataque\",\"arquero\",\"central_ataque\",\"defensa\",\"central_defensa\",\"central\",\"central\",\"ataque\",\"defensa\",\"arquero\",\"central\",\"central_defensa\",\"central\",\"central\",\"central\",\"central\",\"central_defensa\",\"arquero\",\"arquero\",\"ataque\",\"ataque\",\"central\",\"central_ataque\",\"arquero\",\"defensa\",\"arquero\",\"arquero\",\"central_defensa\",\"arquero\",\"ataque\",\"arquero\",\"defensa\",\"arquero\",\"ataque\",\"arquero\",\"defensa\",\"central_defensa\",\"central\",\"arquero\",\"central_ataque\",\"central_ataque\",\"central\",\"central_defensa\",\"central_ataque\",\"central\",\"ataque\",\"defensa\",\"arquero\",\"central_ataque\",\"central_ataque\",\"central_ataque\",\"central_ataque\",\"central_ataque\",\"central\",\"defensa\",\"central_ataque\",\"arquero\",\"defensa\",\"defensa\",\"ataque\",\"ataque\",\"arquero\",\"ataque\",\"ataque\",\"central_defensa\",\"defensa\",\"arquero\",\"central_ataque\",\"central_defensa\",\"central\",\"defensa\",\"central\",\"ataque\",\"ataque\",\"ataque\",\"defensa\",\"arquero\",\"ataque\",\"arquero\",\"arquero\",\"ataque\",\"ataque\",\"central\",\"central_ataque\",\"central_ataque\",\"central_ataque\",\"central_ataque\",\"central\",\"central\",\"central\",\"central\",\"defensa\",\"defensa\",\"central\",\"defensa\",\"central_ataque\",\"central_ataque\",\"central\",\"ataque\",\"central\",\"defensa\",\"central_ataque\",\"arquero\",\"defensa\",\"central\",\"central\",\"central\",\"central_ataque\",\"arquero\",\"central_ataque\",\"ataque\",\"central\",\"ataque\",\"central\",\"defensa\",\"ataque\",\"defensa\",\"central_defensa\",\"defensa\",\"arquero\",\"defensa\",\"defensa\",\"arquero\",\"arquero\",\"ataque\",\"arquero\",\"arquero\",\"arquero\",\"arquero\",\"defensa\",\"arquero\",\"central_defensa\",\"arquero\",\"arquero\",\"defensa\",\"ataque\",\"ataque\",\"arquero\",\"defensa\",\"central_ataque\",\"defensa\",\"central\",\"central\",\"central\",\"arquero\",\"central_ataque\",\"central\",\"ataque\",\"central_ataque\",\"central\",\"defensa\",\"defensa\",\"central_ataque\",\"defensa\",\"arquero\",\"central_ataque\",\"central_ataque\",\"central\",\"central\",\"ataque\",\"central\",\"defensa\",\"central\",\"defensa\",\"central_defensa\",\"arquero\",\"central\",\"central_ataque\",\"defensa\",\"central\",\"ataque\",\"central_ataque\",\"arquero\",\"ataque\",\"ataque\",\"defensa\",\"central\",\"defensa\",\"central_defensa\",\"arquero\",\"central\",\"central\",\"ataque\",\"central_ataque\",\"arquero\",\"defensa\",\"central_ataque\",\"defensa\",\"ataque\",\"ataque\",\"central_ataque\",\"central_ataque\",\"central_defensa\",\"central_ataque\",\"defensa\",\"arquero\",\"arquero\",\"arquero\",\"central\",\"arquero\",\"central_ataque\",\"central\",\"central_ataque\",\"central_ataque\",\"arquero\",\"central\",\"defensa\",\"defensa\",\"ataque\",\"defensa\",\"central_ataque\",\"arquero\",\"defensa\",\"defensa\",\"central_ataque\",\"central\",\"central_ataque\",\"central_ataque\",\"arquero\",\"ataque\",\"central\",\"ataque\",\"ataque\",\"arquero\",\"ataque\",\"central_ataque\",\"ataque\",\"central\",\"ataque\",\"defensa\",\"defensa\",\"ataque\",\"central\",\"central_ataque\",\"arquero\",\"defensa\",\"central_ataque\",\"central_ataque\",\"arquero\",\"central_ataque\",\"central\",\"central\",\"central\",\"ataque\",\"ataque\",\"arquero\",\"arquero\",\"ataque\",\"central\",\"central_defensa\",\"arquero\",\"central_defensa\",\"central\",\"central_ataque\",\"arquero\",\"central_defensa\",\"defensa\",\"defensa\",\"defensa\",\"arquero\",\"central_defensa\",\"central_ataque\",\"defensa\",\"arquero\",\"defensa\",\"defensa\",\"arquero\",\"ataque\",\"arquero\",\"defensa\",\"arquero\",\"ataque\",\"defensa\",\"central_ataque\",\"defensa\",\"defensa\",\"defensa\",\"arquero\",\"defensa\",\"central_ataque\",\"arquero\",\"defensa\",\"central_ataque\",\"defensa\",\"central_ataque\",\"arquero\",\"central\",\"ataque\",\"arquero\",\"defensa\",\"defensa\",\"ataque\",\"central_defensa\",\"defensa\",\"arquero\",\"ataque\",\"central_ataque\",\"central_ataque\",\"defensa\",\"central\",\"central\",\"defensa\",\"central\",\"arquero\",\"central_ataque\",\"central_ataque\",\"ataque\",\"central\",\"defensa\",\"central_ataque\",\"central\",\"defensa\",\"defensa\",\"arquero\",\"ataque\",\"central_defensa\",\"defensa\",\"central_ataque\",\"arquero\",\"central_ataque\",\"defensa\",\"arquero\",\"ataque\",\"defensa\",\"central_ataque\",\"central_ataque\",\"defensa\",\"central\",\"defensa\",\"central_ataque\",\"defensa\",\"ataque\",\"defensa\",\"defensa\",\"defensa\",\"central\",\"ataque\",\"ataque\",\"central_defensa\",\"central_defensa\",\"central_ataque\",\"central_defensa\",\"central_ataque\",\"defensa\",\"defensa\",\"ataque\",\"central_defensa\",\"ataque\",\"central\",\"defensa\",\"central_ataque\",\"defensa\",\"central_defensa\",\"central_defensa\",\"central\",\"defensa\",\"ataque\",\"central_ataque\",\"arquero\",\"central_ataque\",\"arquero\",\"central_ataque\",\"arquero\",\"central_defensa\",\"arquero\",\"central_ataque\",\"arquero\",\"ataque\",\"central\",\"central_ataque\",\"arquero\",\"arquero\",\"defensa\",\"arquero\",\"arquero\",\"central_ataque\",\"arquero\",\"defensa\",\"defensa\",\"defensa\",\"ataque\",\"ataque\",\"arquero\",\"defensa\",\"central\",\"defensa\",\"arquero\",\"arquero\",\"arquero\",\"central_ataque\",\"central_ataque\",\"arquero\",\"central\",\"defensa\",\"central_ataque\",\"central\",\"defensa\",\"central\",\"central\",\"central_ataque\",\"defensa\",\"defensa\",\"ataque\",\"central\",\"central_ataque\",\"defensa\",\"central\",\"central\",\"central\",\"ataque\",\"central\",\"defensa\",\"central_ataque\",\"central\",\"central\",\"ataque\",\"central_ataque\",\"central\",\"central\",\"central_defensa\",\"central_ataque\",\"central\",\"ataque\",\"central_ataque\",\"defensa\",\"defensa\",\"central_ataque\",\"central\",\"arquero\",\"defensa\",\"arquero\",\"central\",\"central\",\"central\",\"central\",\"central_ataque\",\"central_defensa\",\"central_defensa\",\"central_ataque\",\"defensa\",\"central_ataque\",\"central_ataque\",\"central\",\"central\",\"arquero\",\"central\",\"central\",\"arquero\",\"central\",\"central\",\"central\",\"arquero\",\"arquero\",\"ataque\",\"arquero\",\"central\",\"defensa\",\"central_ataque\",\"defensa\",\"central\",\"ataque\",\"defensa\",\"arquero\",\"defensa\",\"ataque\",\"central\",\"ataque\",\"central_ataque\",\"ataque\",\"central\",\"central\",\"central\",\"defensa\",\"central\",\"arquero\",\"ataque\",\"central\",\"central\",\"central\",\"defensa\",\"defensa\",\"central_ataque\",\"central_ataque\",\"defensa\",\"central\",\"ataque\",\"defensa\",\"central_ataque\",\"central\",\"ataque\",\"central\",\"arquero\",\"arquero\",\"defensa\",\"central_ataque\",\"central_ataque\",\"ataque\",\"central\",\"arquero\",\"central\",\"central_ataque\",\"central_ataque\",\"arquero\",\"central_ataque\",\"defensa\",\"central_defensa\",\"arquero\",\"arquero\",\"central\",\"arquero\",\"central\",\"arquero\",\"ataque\",\"central_ataque\",\"central_defensa\",\"defensa\",\"arquero\",\"central_defensa\",\"central\",\"arquero\",\"arquero\",\"central_ataque\",\"ataque\",\"central_ataque\",\"central_ataque\",\"defensa\",\"defensa\",\"arquero\",\"central_ataque\",\"defensa\",\"defensa\",\"arquero\",\"central_ataque\",\"central\",\"central_ataque\",\"ataque\",\"defensa\",\"central_ataque\",\"central\",\"central_defensa\",\"central\",\"arquero\",\"ataque\",\"defensa\",\"central_ataque\",\"central\",\"central\",\"central\",\"central\",\"central\",\"central_defensa\",\"defensa\",\"central_ataque\",\"ataque\",\"defensa\",\"central\",\"defensa\",\"ataque\",\"central\",\"arquero\",\"central\",\"defensa\",\"central_ataque\",\"arquero\",\"central_ataque\",\"central_defensa\",\"central\",\"arquero\",\"arquero\",\"ataque\",\"defensa\",\"defensa\",\"arquero\",\"central_ataque\",\"ataque\",\"defensa\",\"central\",\"ataque\",\"central_ataque\",\"central\",\"defensa\",\"central_defensa\",\"defensa\",\"ataque\",\"defensa\",\"central_ataque\",\"defensa\",\"defensa\",\"defensa\",\"central\",\"central_ataque\",\"arquero\",\"ataque\",\"central_ataque\",\"defensa\",\"central_ataque\",\"central\",\"arquero\",\"central\",\"defensa\",\"central\",\"defensa\",\"central\",\"ataque\",\"central_ataque\",\"defensa\",\"defensa\",\"central\",\"arquero\",\"defensa\",\"central_ataque\",\"central_defensa\",\"ataque\",\"central_ataque\",\"central_ataque\",\"central\",\"central_ataque\",\"arquero\",\"defensa\",\"central\",\"defensa\",\"defensa\",\"defensa\",\"defensa\",\"central_ataque\",\"defensa\",\"central\",\"ataque\",\"central_defensa\",\"defensa\",\"defensa\",\"defensa\",\"central\",\"central_ataque\",\"central_ataque\",\"defensa\",\"defensa\",\"arquero\",\"arquero\",\"defensa\",\"central\",\"central\",\"central\",\"central_ataque\",\"central_ataque\",\"central_defensa\",\"defensa\",\"central\",\"defensa\",\"central\",\"central\",\"defensa\",\"defensa\",\"defensa\",\"arquero\",\"arquero\",\"arquero\",\"central\",\"arquero\",\"arquero\",\"central_ataque\",\"central\",\"central_ataque\",\"central_defensa\",\"central\",\"ataque\",\"central_defensa\",\"arquero\",\"arquero\",\"ataque\",\"defensa\",\"central_defensa\",\"central\",\"defensa\",\"arquero\",\"central\",\"central\",\"central_ataque\",\"defensa\",\"defensa\",\"defensa\",\"defensa\",\"ataque\",\"central_ataque\",\"defensa\",\"central\",\"arquero\",\"central_ataque\",\"defensa\",\"defensa\",\"ataque\",\"central_ataque\",\"ataque\",\"central\",\"defensa\",\"central_ataque\",\"defensa\",\"central\",\"central\",\"arquero\",\"defensa\",\"central\",\"defensa\",\"central_ataque\",\"central_ataque\",\"ataque\",\"central\",\"central\",\"ataque\",\"central_ataque\",\"central_ataque\",\"central\",\"defensa\",\"defensa\",\"central\",\"central_ataque\",\"arquero\",\"central\",\"defensa\",\"ataque\",\"defensa\",\"defensa\",\"central\",\"ataque\",\"central_ataque\",\"defensa\",\"central_ataque\",\"defensa\",\"defensa\",\"ataque\",\"central\",\"defensa\",\"central_ataque\",\"ataque\",\"central\",\"defensa\",\"defensa\",\"central\",\"ataque\",\"central\",\"defensa\",\"central\",\"defensa\",\"central\",\"central_ataque\",\"defensa\",\"central_ataque\",\"defensa\",\"defensa\",\"defensa\",\"defensa\",\"central_ataque\",\"ataque\",\"central_ataque\",\"central\",\"defensa\",\"central\",\"ataque\",\"central_ataque\",\"defensa\",\"defensa\",\"defensa\",\"arquero\",\"central_ataque\",\"defensa\",\"central_ataque\",\"ataque\",\"central\",\"central_ataque\",\"central\",\"defensa\",\"central_ataque\",\"arquero\",\"arquero\",\"central_defensa\",\"ataque\",\"arquero\",\"defensa\",\"arquero\",\"defensa\",\"central_ataque\",\"central\",\"central\",\"arquero\",\"central\",\"central\",\"central_ataque\",\"central\",\"central_ataque\",\"defensa\",\"central\",\"arquero\",\"central\",\"central_ataque\",\"central_defensa\",\"central\",\"arquero\",\"arquero\",\"central\",\"central\",\"central\",\"ataque\",\"central_ataque\",\"central_defensa\",\"arquero\",\"defensa\",\"arquero\",\"arquero\",\"ataque\",\"central_ataque\",\"central\",\"central\",\"ataque\",\"central\",\"arquero\",\"central_defensa\",\"central_ataque\",\"ataque\",\"central\",\"ataque\",\"arquero\",\"ataque\",\"arquero\",\"central\",\"central_ataque\",\"defensa\",\"defensa\",\"defensa\",\"central\",\"arquero\",\"arquero\",\"central\",\"arquero\",\"ataque\",\"ataque\",\"central\",\"arquero\",\"ataque\",\"ataque\",\"arquero\",\"arquero\",\"arquero\",\"central\",\"defensa\",\"defensa\",\"central_ataque\",\"defensa\",\"arquero\",\"central_ataque\",\"arquero\",\"arquero\",\"central_ataque\",\"arquero\",\"defensa\",\"central\",\"central\",\"ataque\",\"arquero\",\"central\",\"central_ataque\",\"defensa\",\"defensa\",\"arquero\",\"arquero\",\"arquero\",\"ataque\",\"central_ataque\",\"defensa\",\"arquero\",\"arquero\",\"central\",\"central_ataque\",\"ataque\",\"central\",\"central\",\"central\",\"arquero\",\"defensa\",\"central_ataque\",\"central_ataque\",\"ataque\",\"central_defensa\",\"central_ataque\",\"ataque\",\"arquero\",\"central\",\"ataque\",\"central\",\"central_defensa\",\"central\",\"defensa\",\"central_ataque\",\"arquero\",\"central_defensa\",\"central\",\"central\",\"central_ataque\",\"central_ataque\",\"ataque\",\"defensa\",\"central\",\"central\",\"ataque\",\"arquero\",\"arquero\",\"arquero\",\"central\",\"central_ataque\",\"central\",\"ataque\",\"central_defensa\",\"central_ataque\",\"arquero\",\"central\",\"ataque\",\"central_defensa\",\"central\",\"defensa\",\"central_ataque\",\"central\",\"defensa\",\"arquero\",\"defensa\",\"ataque\",\"defensa\",\"central\",\"central\",\"ataque\",\"ataque\",\"central\",\"central\",\"central\",\"ataque\",\"defensa\",\"central_ataque\",\"defensa\",\"central_ataque\",\"ataque\",\"defensa\",\"central_ataque\",\"central\",\"arquero\",\"defensa\",\"central\",\"central\",\"defensa\",\"central_ataque\",\"central\",\"defensa\",\"ataque\",\"central_ataque\",\"ataque\",\"central_ataque\",\"defensa\",\"defensa\",\"ataque\",\"defensa\",\"ataque\",\"ataque\",\"central\",\"defensa\",\"defensa\",\"defensa\",\"arquero\",\"ataque\",\"central_ataque\",\"defensa\",\"ataque\",\"arquero\",\"defensa\",\"ataque\",\"central\",\"central\",\"defensa\",\"central_ataque\",\"ataque\",\"defensa\",\"central\",\"central\",\"defensa\",\"central_ataque\",\"central_ataque\",\"central_ataque\",\"arquero\",\"central_defensa\",\"defensa\",\"central\",\"ataque\",\"arquero\",\"arquero\",\"arquero\",\"central_ataque\",\"central_ataque\",\"arquero\",\"defensa\",\"central_ataque\",\"defensa\",\"central_ataque\",\"defensa\",\"central_ataque\",\"arquero\",\"central_ataque\",\"central\",\"defensa\",\"defensa\",\"arquero\",\"central\",\"central\",\"defensa\",\"ataque\",\"central_ataque\",\"central_defensa\",\"ataque\",\"central\",\"ataque\",\"ataque\",\"central\",\"central_defensa\",\"central_ataque\",\"central_defensa\",\"ataque\",\"defensa\",\"ataque\",\"central_ataque\",\"central_defensa\",\"defensa\",\"defensa\",\"central\",\"central_ataque\",\"central\",\"central\",\"central_ataque\",\"defensa\",\"central_ataque\",\"defensa\",\"central\",\"arquero\",\"defensa\",\"defensa\",\"defensa\",\"ataque\",\"arquero\",\"central\",\"central_ataque\",\"ataque\",\"ataque\",\"ataque\",\"central\",\"central_ataque\",\"arquero\",\"arquero\",\"arquero\",\"arquero\",\"arquero\",\"central_ataque\",\"central_ataque\",\"defensa\",\"central\",\"central_ataque\",\"central\",\"central\",\"central\",\"ataque\",\"central\",\"ataque\",\"arquero\",\"central_ataque\",\"central\",\"defensa\",\"defensa\",\"defensa\",\"defensa\",\"ataque\",\"ataque\",\"ataque\",\"central_ataque\",\"central_ataque\",\"defensa\",\"central\",\"central_ataque\",\"central_ataque\",\"central\",\"ataque\",\"central_ataque\",\"arquero\",\"central_ataque\",\"ataque\",\"central_ataque\",\"defensa\",\"central_ataque\",\"defensa\",\"ataque\",\"central_defensa\",\"central\",\"defensa\",\"defensa\",\"central\",\"ataque\",\"central_ataque\",\"arquero\",\"arquero\",\"defensa\",\"central_ataque\",\"defensa\",\"arquero\",\"central\",\"defensa\",\"defensa\",\"central\",\"central_defensa\",\"ataque\",\"central\",\"central_ataque\",\"ataque\",\"defensa\",\"central_ataque\",\"defensa\",\"central\",\"defensa\",\"central_ataque\",\"central\",\"defensa\",\"central\",\"central\",\"defensa\",\"defensa\",\"central_ataque\",\"central_ataque\",\"central_ataque\",\"defensa\",\"central_ataque\",\"central_defensa\",\"ataque\",\"ataque\",\"central\",\"central\",\"central\",\"defensa\",\"defensa\",\"central\",\"central\",\"central_defensa\",\"defensa\",\"arquero\",\"central_ataque\",\"central\",\"arquero\",\"central\",\"defensa\",\"defensa\",\"defensa\",\"defensa\",\"central_ataque\",\"arquero\",\"defensa\",\"ataque\",\"central\",\"central\",\"central\",\"defensa\",\"arquero\",\"defensa\",\"central_ataque\",\"arquero\",\"central\",\"central_defensa\",\"ataque\",\"ataque\",\"central\",\"defensa\",\"arquero\",\"ataque\",\"arquero\",\"central\",\"defensa\",\"defensa\",\"defensa\",\"central_ataque\",\"central_ataque\",\"defensa\",\"central\",\"central_ataque\",\"defensa\",\"defensa\",\"arquero\",\"central_ataque\",\"defensa\",\"central_ataque\",\"central\",\"defensa\",\"arquero\",\"ataque\",\"central\",\"ataque\",\"ataque\",\"arquero\",\"ataque\",\"central\",\"defensa\",\"central\",\"defensa\",\"defensa\",\"central_ataque\",\"defensa\",\"central\",\"arquero\",\"arquero\",\"arquero\",\"defensa\",\"arquero\",\"ataque\",\"ataque\",\"ataque\",\"defensa\",\"central\",\"defensa\",\"arquero\",\"central_defensa\",\"defensa\",\"central_defensa\",\"central\",\"defensa\",\"central_defensa\",\"ataque\",\"defensa\",\"central_ataque\",\"ataque\",\"arquero\",\"central\",\"central_ataque\",\"central_ataque\",\"ataque\",\"arquero\",\"central\",\"central_ataque\",\"central_ataque\",\"central_defensa\",\"central_defensa\",\"defensa\",\"ataque\",\"defensa\",\"central\",\"central_ataque\",\"central_defensa\",\"central\",\"defensa\",\"arquero\",\"defensa\",\"defensa\",\"defensa\",\"central_ataque\",\"ataque\",\"defensa\",\"central\",\"central_ataque\",\"arquero\",\"ataque\",\"central\",\"defensa\",\"arquero\",\"defensa\",\"central\",\"ataque\",\"defensa\",\"ataque\",\"central\",\"defensa\",\"central\",\"ataque\",\"ataque\",\"central_ataque\",\"arquero\",\"central_ataque\",\"central_defensa\",\"defensa\",\"central_ataque\",\"arquero\",\"arquero\",\"ataque\",\"central_ataque\",\"defensa\",\"central\",\"central\",\"central_ataque\",\"defensa\",\"defensa\",\"arquero\",\"arquero\",\"central_ataque\",\"arquero\",\"defensa\",\"arquero\",\"ataque\",\"central\",\"defensa\",\"central_defensa\",\"defensa\",\"ataque\",\"ataque\",\"defensa\",\"central_defensa\",\"defensa\",\"central_ataque\",\"defensa\",\"central_defensa\",\"central_ataque\",\"central\",\"central_ataque\",\"central\",\"ataque\",\"central\",\"defensa\",\"arquero\",\"central\",\"central\",\"central\",\"central\",\"ataque\",\"defensa\",\"central_ataque\",\"defensa\",\"defensa\",\"central\",\"central_defensa\",\"central\",\"defensa\",\"defensa\",\"defensa\",\"defensa\",\"central\",\"central\",\"defensa\",\"defensa\",\"central\",\"defensa\",\"defensa\",\"arquero\",\"defensa\",\"defensa\",\"central_ataque\",\"ataque\",\"central_ataque\",\"defensa\",\"defensa\",\"central_ataque\",\"central\",\"central_ataque\",\"central\",\"defensa\",\"central_ataque\",\"defensa\",\"central\",\"defensa\",\"ataque\",\"defensa\",\"defensa\",\"central\",\"ataque\",\"defensa\",\"central\",\"ataque\",\"defensa\",\"central\",\"central\",\"central_defensa\",\"arquero\",\"defensa\",\"central_ataque\",\"ataque\",\"arquero\",\"defensa\",\"defensa\",\"central\",\"defensa\",\"central\",\"defensa\",\"central\",\"arquero\",\"central\",\"arquero\",\"central\",\"defensa\",\"central_ataque\",\"ataque\",\"central\",\"defensa\",\"arquero\",\"central_defensa\",\"arquero\",\"ataque\",\"central\",\"central_ataque\",\"central\",\"defensa\",\"central\",\"central_ataque\",\"defensa\",\"defensa\",\"defensa\",\"central_ataque\",\"defensa\",\"ataque\",\"ataque\",\"central\",\"arquero\",\"arquero\",\"arquero\",\"arquero\",\"arquero\",\"defensa\",\"central_defensa\",\"central_ataque\",\"central\",\"defensa\",\"central_defensa\",\"arquero\",\"ataque\",\"defensa\",\"ataque\",\"ataque\",\"central_ataque\",\"defensa\",\"arquero\",\"ataque\",\"defensa\",\"arquero\",\"defensa\",\"defensa\",\"ataque\",\"ataque\",\"arquero\",\"central_defensa\",\"ataque\",\"central_ataque\",\"central\",\"defensa\",\"central\",\"defensa\",\"defensa\",\"arquero\",\"ataque\",\"defensa\",\"ataque\",\"central\",\"defensa\",\"arquero\",\"defensa\",\"central\",\"arquero\",\"central\",\"defensa\",\"defensa\",\"central_ataque\",\"ataque\",\"defensa\",\"central_defensa\",\"central_ataque\",\"defensa\",\"central_ataque\",\"central\",\"central\",\"defensa\",\"central_ataque\",\"defensa\",\"ataque\",\"defensa\",\"central\",\"defensa\",\"central\",\"central\",\"defensa\",\"central_ataque\",\"ataque\",\"defensa\",\"ataque\",\"defensa\",\"arquero\",\"arquero\",\"central_ataque\",\"ataque\",\"arquero\",\"defensa\",\"central\",\"arquero\",\"ataque\",\"ataque\",\"arquero\",\"central\",\"arquero\",\"central\",\"defensa\",\"central_ataque\",\"arquero\",\"defensa\",\"central_ataque\",\"central_defensa\",\"ataque\",\"central\",\"arquero\",\"central_ataque\",\"defensa\",\"arquero\",\"arquero\",\"central\",\"defensa\",\"central_ataque\",\"arquero\",\"defensa\",\"defensa\",\"central_defensa\",\"defensa\",\"defensa\",\"ataque\",\"central_ataque\",\"defensa\",\"defensa\",\"ataque\",\"defensa\",\"defensa\",\"defensa\",\"defensa\",\"defensa\",\"defensa\",\"defensa\",\"defensa\",\"defensa\",\"central_ataque\",\"central\",\"central\",\"central_defensa\",\"central_ataque\",\"defensa\",\"defensa\",\"defensa\",\"defensa\",\"defensa\",\"arquero\",\"central_ataque\",\"central_defensa\",\"arquero\",\"defensa\",\"arquero\",\"ataque\",\"arquero\",\"central_ataque\",\"defensa\",\"central_ataque\",\"defensa\",\"defensa\",\"central\",\"central\",\"arquero\",\"central_ataque\",\"central\",\"central_ataque\",\"central\",\"central\",\"central_ataque\",\"central_defensa\",\"arquero\",\"central_ataque\",\"defensa\",\"arquero\",\"arquero\",\"arquero\",\"defensa\",\"central_defensa\",\"defensa\",\"defensa\",\"ataque\",\"ataque\",\"central_defensa\",\"central_defensa\",\"defensa\",\"central_ataque\",\"ataque\",\"defensa\",\"defensa\",\"defensa\",\"ataque\",\"central_ataque\",\"central\",\"central\",\"ataque\",\"central\",\"ataque\",\"central\",\"central\",\"central_defensa\",\"ataque\",\"central\",\"ataque\",\"central\",\"central\",\"central\",\"defensa\",\"central_ataque\",\"central_ataque\",\"defensa\",\"central_ataque\",\"defensa\",\"central_ataque\",\"arquero\",\"arquero\",\"arquero\",\"central\",\"defensa\",\"defensa\",\"defensa\",\"central\",\"central_ataque\",\"defensa\",\"defensa\",\"central_ataque\",\"ataque\",\"central\",\"arquero\",\"defensa\",\"central\",\"central\",\"defensa\",\"defensa\",\"ataque\",\"central\",\"central\",\"ataque\",\"central\",\"central\",\"defensa\",\"ataque\",\"central_ataque\",\"defensa\",\"defensa\",\"defensa\",\"central\",\"central_ataque\",\"ataque\",\"central\",\"central_ataque\",\"central_ataque\",\"defensa\",\"defensa\",\"defensa\",\"central_ataque\",\"central_ataque\",\"ataque\",\"central_ataque\",\"central_ataque\",\"central\",\"arquero\",\"arquero\",\"central\",\"central\",\"central\",\"central_ataque\",\"arquero\",\"defensa\",\"defensa\",\"central_defensa\",\"central\",\"ataque\",\"arquero\",\"central\",\"central\",\"central_ataque\",\"defensa\",\"arquero\",\"ataque\",\"arquero\",\"ataque\",\"central\",\"defensa\",\"central\",\"central\",\"arquero\",\"defensa\",\"defensa\",\"defensa\",\"defensa\",\"ataque\",\"central_ataque\",\"central_ataque\",\"central_ataque\",\"ataque\",\"defensa\",\"central_defensa\",\"central\",\"central_ataque\",\"central\",\"central_ataque\",\"ataque\",\"defensa\",\"central\",\"arquero\",\"defensa\",\"defensa\",\"defensa\",\"central\",\"defensa\",\"defensa\",\"arquero\",\"defensa\",\"defensa\",\"defensa\",\"defensa\",\"central\",\"central_ataque\",\"central\",\"central\",\"defensa\",\"central_ataque\",\"ataque\",\"central_ataque\",\"central\",\"defensa\",\"arquero\",\"arquero\",\"central_ataque\",\"central_ataque\",\"central_defensa\",\"defensa\",\"ataque\",\"central\",\"defensa\",\"defensa\",\"defensa\",\"central_ataque\",\"defensa\",\"defensa\",\"central_defensa\",\"central_defensa\",\"defensa\",\"ataque\",\"central\",\"ataque\",\"arquero\",\"arquero\",\"ataque\",\"ataque\",\"central\",\"defensa\",\"central\",\"arquero\",\"ataque\",\"arquero\",\"ataque\",\"arquero\",\"ataque\",\"arquero\",\"defensa\",\"ataque\",\"defensa\",\"defensa\",\"central_ataque\",\"arquero\",\"defensa\",\"central_ataque\",\"arquero\",\"central_ataque\",\"arquero\",\"arquero\",\"central_defensa\",\"central\",\"arquero\",\"central_ataque\",\"defensa\",\"central_ataque\",\"central\",\"defensa\",\"central_ataque\",\"central\",\"defensa\",\"arquero\",\"defensa\",\"ataque\",\"arquero\",\"defensa\",\"arquero\",\"arquero\",\"ataque\",\"arquero\",\"arquero\",\"arquero\",\"arquero\",\"central_ataque\",\"central_ataque\",\"ataque\",\"defensa\",\"arquero\",\"central\",\"central\",\"defensa\",\"central\",\"central_ataque\",\"central\",\"defensa\",\"defensa\",\"defensa\",\"arquero\",\"defensa\",\"defensa\",\"defensa\",\"defensa\",\"arquero\",\"defensa\",\"defensa\",\"central\",\"central\",\"defensa\",\"defensa\",\"ataque\",\"central\",\"ataque\",\"defensa\",\"arquero\",\"defensa\",\"central_ataque\",\"central_defensa\",\"central_ataque\",\"central_ataque\",\"central_ataque\",\"defensa\",\"central\",\"defensa\",\"central\",\"central\",\"central\",\"defensa\",\"defensa\",\"defensa\",\"central_ataque\",\"central\",\"ataque\",\"defensa\",\"arquero\",\"central_defensa\",\"defensa\",\"central\",\"central_ataque\",\"defensa\",\"central_ataque\",\"defensa\",\"central_ataque\",\"ataque\",\"ataque\",\"defensa\",\"defensa\",\"defensa\",\"central\",\"arquero\",\"defensa\",\"ataque\",\"central_ataque\",\"central\",\"central\",\"defensa\",\"defensa\",\"arquero\",\"central\",\"central\",\"arquero\",\"ataque\",\"defensa\",\"defensa\",\"central_ataque\",\"central_ataque\",\"central_defensa\",\"ataque\",\"defensa\",\"central\",\"defensa\",\"central_ataque\",\"ataque\",\"central\",\"central\",\"ataque\",\"central_ataque\",\"ataque\",\"defensa\",\"central_ataque\",\"central\",\"central_defensa\",\"arquero\",\"central_defensa\",\"central\",\"ataque\",\"central\",\"central\",\"defensa\",\"defensa\",\"central\",\"ataque\",\"central\",\"arquero\",\"central\",\"central\",\"central\",\"defensa\",\"central\",\"central_ataque\",\"central_ataque\",\"defensa\",\"arquero\",\"central\",\"ataque\",\"ataque\",\"ataque\",\"ataque\",\"arquero\",\"central\",\"defensa\",\"arquero\",\"central\",\"defensa\",\"central_ataque\",\"central_ataque\",\"arquero\",\"central_defensa\",\"arquero\",\"central\",\"central_ataque\",\"central\",\"defensa\",\"arquero\",\"central_ataque\",\"defensa\",\"defensa\",\"defensa\",\"arquero\",\"central\",\"central\",\"central_defensa\",\"defensa\",\"central\",\"defensa\",\"central\",\"ataque\",\"central\",\"ataque\",\"ataque\",\"central\",\"defensa\",\"defensa\",\"arquero\",\"arquero\",\"central_ataque\",\"defensa\",\"defensa\",\"central\",\"central_ataque\",\"ataque\",\"ataque\",\"arquero\",\"central\",\"central\",\"central_defensa\",\"defensa\",\"defensa\",\"defensa\",\"arquero\",\"central_ataque\",\"defensa\",\"defensa\",\"defensa\",\"defensa\",\"central\",\"central\",\"defensa\",\"defensa\",\"defensa\",\"defensa\",\"central\",\"ataque\",\"central\",\"defensa\",\"central_ataque\",\"central\",\"arquero\",\"central\",\"central\",\"arquero\",\"defensa\",\"defensa\",\"central\",\"central_ataque\",\"defensa\",\"central_defensa\",\"arquero\",\"central_ataque\",\"central_ataque\",\"central_ataque\",\"central_defensa\",\"arquero\",\"central\",\"central\",\"defensa\",\"central\",\"central_ataque\",\"defensa\",\"central_ataque\",\"central\",\"central_ataque\",\"central\",\"arquero\",\"central_ataque\",\"defensa\",\"central_defensa\",\"ataque\",\"central\",\"central\",\"central\",\"defensa\",\"defensa\",\"central_ataque\",\"defensa\",\"central_ataque\",\"arquero\",\"defensa\",\"defensa\",\"defensa\",\"central\",\"central_ataque\",\"ataque\",\"central\",\"defensa\",\"central\",\"defensa\",\"arquero\",\"arquero\",\"arquero\",\"defensa\",\"arquero\",\"ataque\",\"defensa\",\"defensa\",\"central\",\"defensa\",\"central_ataque\",\"defensa\",\"arquero\",\"central\",\"central\",\"defensa\",\"central\",\"central\",\"arquero\",\"central_ataque\",\"arquero\",\"defensa\",\"central_defensa\",\"arquero\",\"defensa\",\"central_defensa\",\"central\",\"defensa\",\"central_defensa\",\"ataque\",\"central_ataque\",\"ataque\",\"defensa\",\"defensa\",\"defensa\",\"defensa\",\"central\",\"arquero\",\"defensa\",\"central\",\"central_ataque\",\"arquero\",\"arquero\",\"central\",\"central\",\"central_ataque\",\"defensa\",\"central_ataque\",\"central_ataque\",\"defensa\",\"central\",\"central_ataque\",\"central\",\"central_ataque\",\"central_ataque\",\"ataque\",\"ataque\",\"central\",\"arquero\",\"defensa\",\"defensa\",\"central\",\"central_defensa\",\"central_ataque\",\"central\",\"arquero\",\"central_ataque\",\"central_ataque\",\"central\",\"defensa\",\"central_defensa\",\"arquero\",\"defensa\",\"defensa\",\"defensa\",\"defensa\",\"defensa\",\"central_ataque\",\"defensa\",\"central\",\"central\",\"ataque\",\"defensa\",\"central_ataque\",\"central\",\"defensa\",\"defensa\",\"central\",\"ataque\",\"central_ataque\",\"defensa\",\"central_ataque\",\"arquero\",\"ataque\",\"central_defensa\",\"defensa\",\"central\",\"defensa\",\"central\",\"arquero\",\"arquero\",\"central\",\"defensa\",\"defensa\",\"central\",\"central\",\"arquero\",\"central\",\"defensa\",\"defensa\",\"defensa\",\"arquero\",\"arquero\",\"defensa\",\"defensa\",\"defensa\",\"central_ataque\",\"central\",\"central\",\"central_ataque\",\"central_ataque\",\"defensa\",\"arquero\",\"central_defensa\",\"central\",\"central\",\"arquero\",\"ataque\",\"arquero\",\"central_ataque\",\"defensa\",\"central\",\"ataque\",\"central_ataque\",\"defensa\",\"arquero\",\"central_ataque\",\"defensa\",\"ataque\",\"defensa\",\"ataque\",\"arquero\",\"central\",\"central\",\"arquero\",\"defensa\",\"ataque\",\"central_ataque\",\"defensa\",\"central\",\"defensa\",\"central\",\"arquero\",\"central\",\"central\",\"arquero\",\"central\",\"ataque\",\"defensa\",\"arquero\",\"central_ataque\",\"defensa\",\"arquero\",\"arquero\",\"central\",\"defensa\",\"arquero\",\"defensa\",\"arquero\",\"central_ataque\",\"central\",\"ataque\",\"central\",\"defensa\",\"central\",\"defensa\",\"central\",\"defensa\",\"central\",\"central_defensa\",\"defensa\",\"defensa\",\"central\",\"central\",\"central\",\"ataque\",\"arquero\",\"ataque\",\"central\",\"arquero\",\"defensa\",\"arquero\",\"arquero\",\"ataque\",\"central\",\"central_ataque\",\"defensa\",\"central_ataque\",\"arquero\",\"arquero\",\"central_ataque\",\"central_defensa\",\"central\",\"central_defensa\",\"defensa\",\"central\",\"defensa\",\"central\",\"central\",\"central\",\"central_ataque\",\"central\",\"central\",\"central_defensa\",\"defensa\",\"central_ataque\",\"ataque\",\"arquero\",\"arquero\",\"central\",\"central\",\"defensa\",\"defensa\",\"arquero\",\"central\",\"defensa\",\"central_ataque\",\"defensa\",\"central\",\"central_defensa\",\"central_ataque\",\"arquero\",\"defensa\",\"defensa\",\"central\",\"arquero\",\"ataque\",\"defensa\",\"central\",\"central\",\"defensa\",\"central_ataque\",\"central_defensa\",\"defensa\",\"central\",\"arquero\",\"arquero\",\"central_defensa\",\"arquero\",\"defensa\",\"central_ataque\",\"defensa\",\"defensa\",\"arquero\",\"arquero\",\"arquero\",\"central_ataque\",\"defensa\",\"central_defensa\",\"defensa\",\"defensa\",\"ataque\",\"arquero\",\"central\",\"arquero\",\"central\",\"defensa\",\"arquero\",\"central_ataque\",\"central_defensa\",\"central\",\"arquero\",\"ataque\",\"central\",\"defensa\",\"central\",\"ataque\",\"central_defensa\",\"central\",\"defensa\",\"central\",\"defensa\",\"defensa\",\"central_ataque\",\"defensa\",\"defensa\",\"arquero\",\"ataque\",\"central\",\"central_ataque\",\"central\",\"defensa\",\"central_ataque\",\"arquero\",\"central\",\"ataque\",\"central\",\"central\",\"ataque\",\"defensa\",\"ataque\",\"central_ataque\",\"central_defensa\",\"defensa\",\"defensa\",\"arquero\",\"central_ataque\",\"defensa\",\"arquero\",\"arquero\",\"defensa\",\"ataque\",\"central_ataque\",\"central_defensa\",\"defensa\",\"central_ataque\",\"defensa\",\"central_defensa\",\"central_defensa\",\"central\",\"defensa\",\"central_ataque\",\"central_ataque\",\"central\",\"central\",\"defensa\",\"defensa\",\"ataque\",\"central_defensa\",\"defensa\",\"arquero\",\"defensa\",\"central\",\"central\",\"central\",\"central\",\"arquero\",\"central_defensa\",\"defensa\",\"central_ataque\",\"defensa\",\"defensa\",\"defensa\",\"ataque\",\"central_ataque\",\"central\",\"central\",\"central\",\"central_ataque\",\"defensa\",\"central\",\"central\",\"central\",\"defensa\",\"defensa\",\"defensa\",\"defensa\",\"defensa\",\"defensa\",\"central_ataque\",\"ataque\",\"central_ataque\",\"central\",\"central_ataque\",\"central_ataque\",\"defensa\",\"arquero\",\"central_ataque\",\"central_ataque\",\"defensa\",\"central\",\"defensa\",\"defensa\",\"defensa\",\"arquero\",\"central_ataque\",\"defensa\",\"central_ataque\",\"arquero\",\"defensa\",\"central\",\"central_defensa\",\"arquero\",\"defensa\",\"defensa\",\"defensa\",\"defensa\",\"arquero\",\"central\",\"arquero\",\"arquero\",\"arquero\",\"defensa\",\"defensa\",\"central\",\"ataque\",\"ataque\",\"defensa\",\"defensa\",\"central\",\"ataque\",\"central\",\"defensa\",\"defensa\",\"defensa\",\"defensa\",\"ataque\",\"central_ataque\",\"arquero\",\"defensa\",\"central_ataque\",\"central\",\"defensa\",\"defensa\",\"central\",\"defensa\",\"arquero\",\"defensa\",\"central\",\"central\",\"defensa\",\"defensa\",\"defensa\",\"central\",\"defensa\",\"central\",\"arquero\",\"arquero\",\"central_ataque\",\"central_defensa\",\"central\",\"arquero\",\"arquero\",\"central_defensa\",\"defensa\",\"central\",\"arquero\",\"defensa\",\"central\",\"defensa\",\"arquero\",\"central_ataque\",\"central\",\"central\",\"defensa\",\"central\",\"defensa\",\"central_ataque\",\"ataque\",\"defensa\",\"defensa\",\"central_ataque\",\"central_ataque\",\"arquero\",\"central\",\"defensa\",\"defensa\",\"central\",\"central_defensa\",\"central\",\"central_defensa\",\"defensa\",\"arquero\",\"central_ataque\",\"central_defensa\",\"arquero\",\"central\",\"defensa\",\"defensa\",\"defensa\",\"central_ataque\",\"central\",\"defensa\",\"defensa\",\"defensa\",\"defensa\",\"central\",\"defensa\",\"central_defensa\",\"central\",\"central\",\"central_ataque\",\"defensa\",\"ataque\",\"central\",\"arquero\",\"central\",\"arquero\",\"arquero\",\"defensa\",\"defensa\",\"defensa\",\"defensa\",\"ataque\",\"central_ataque\",\"defensa\",\"ataque\",\"defensa\",\"defensa\",\"central_defensa\",\"defensa\",\"defensa\",\"ataque\",\"defensa\",\"arquero\",\"defensa\",\"central\",\"defensa\",\"arquero\",\"central\",\"defensa\",\"central\",\"arquero\",\"arquero\",\"defensa\",\"central\",\"defensa\",\"defensa\",\"arquero\",\"defensa\",\"defensa\",\"defensa\",\"arquero\",\"central_defensa\",\"arquero\",\"central\",\"central\",\"arquero\",\"arquero\",\"defensa\",\"defensa\",\"defensa\",\"arquero\",\"central\",\"central\",\"central_ataque\",\"arquero\",\"arquero\",\"central\",\"central\",\"central\",\"defensa\",\"defensa\",\"central_defensa\",\"defensa\",\"ataque\",\"central\",\"central\",\"arquero\",\"central\",\"central_ataque\",\"central\",\"ataque\",\"central\",\"defensa\",\"central_ataque\",\"central\",\"central\",\"central\",\"central\",\"central\",\"defensa\",\"central_defensa\",\"defensa\",\"ataque\",\"central_ataque\",\"defensa\",\"defensa\",\"defensa\",\"ataque\",\"defensa\",\"defensa\",\"central\",\"defensa\",\"central\",\"ataque\",\"arquero\",\"ataque\",\"central_ataque\",\"central_defensa\",\"arquero\",\"central\",\"ataque\",\"defensa\",\"arquero\",\"central_ataque\",\"central_ataque\",\"arquero\",\"central\",\"defensa\",\"central\",\"defensa\",\"defensa\",\"defensa\",\"ataque\",\"central\",\"central\",\"central_ataque\",\"defensa\",\"central\",\"central\",\"arquero\",\"defensa\",\"central\",\"central\",\"defensa\",\"arquero\",\"central_ataque\",\"defensa\",\"defensa\",\"defensa\",\"defensa\",\"defensa\",\"defensa\",\"central\",\"ataque\",\"defensa\",\"central_ataque\",\"ataque\",\"defensa\",\"defensa\",\"ataque\",\"central_defensa\",\"central\",\"central\",\"defensa\",\"arquero\",\"central_defensa\",\"central\",\"central_ataque\",\"central\",\"defensa\",\"ataque\",\"central_ataque\",\"defensa\",\"defensa\",\"central_defensa\",\"central\",\"defensa\",\"central\",\"central_defensa\",\"defensa\",\"defensa\",\"central\",\"central\",\"arquero\",\"defensa\",\"ataque\",\"defensa\",\"arquero\",\"ataque\",\"central\",\"central_defensa\",\"ataque\",\"central\",\"central_ataque\",\"defensa\",\"central\",\"central_ataque\",\"ataque\",\"central\",\"central_ataque\",\"central\",\"defensa\",\"central_ataque\",\"central_ataque\",\"defensa\",\"arquero\",\"central\",\"arquero\",\"defensa\",\"arquero\",\"central_ataque\",\"arquero\",\"ataque\",\"ataque\",\"defensa\",\"ataque\",\"ataque\",\"central\",\"central\",\"central\",\"ataque\",\"ataque\",\"central_ataque\",\"defensa\",\"defensa\",\"defensa\",\"central\",\"defensa\",\"defensa\",\"defensa\",\"arquero\",\"arquero\",\"central\",\"defensa\",\"central\",\"arquero\",\"defensa\",\"defensa\",\"central_ataque\",\"central_defensa\",\"defensa\",\"central_ataque\",\"central\",\"central_ataque\",\"central\",\"central\",\"central\",\"defensa\",\"central_defensa\",\"central\",\"defensa\",\"defensa\",\"defensa\",\"ataque\",\"defensa\",\"central\",\"ataque\",\"defensa\",\"central\",\"central\",\"defensa\",\"central\",\"defensa\",\"defensa\",\"arquero\",\"ataque\",\"defensa\",\"central\",\"defensa\",\"ataque\",\"defensa\",\"central\",\"defensa\",\"arquero\",\"central\",\"arquero\",\"defensa\",\"ataque\",\"defensa\",\"arquero\",\"defensa\",\"central\",\"defensa\",\"defensa\",\"central\",\"defensa\",\"central_defensa\",\"defensa\",\"arquero\",\"ataque\",\"arquero\",\"central\",\"defensa\",\"arquero\",\"central_defensa\",\"central_ataque\",\"defensa\",\"arquero\",\"arquero\",\"central_defensa\",\"central_ataque\",\"arquero\",\"defensa\",\"central_defensa\",\"central\",\"defensa\",\"central_ataque\",\"defensa\",\"central\",\"central_defensa\",\"defensa\",\"central_ataque\",\"defensa\",\"ataque\",\"central\",\"arquero\",\"defensa\",\"arquero\",\"arquero\",\"arquero\",\"central\",\"central_defensa\",\"arquero\",\"defensa\",\"arquero\",\"arquero\",\"defensa\",\"arquero\",\"central\",\"arquero\",\"central_ataque\",\"central_defensa\",\"arquero\",\"central_ataque\",\"ataque\",\"defensa\",\"defensa\",\"central_ataque\",\"ataque\",\"defensa\",\"central\",\"central_ataque\",\"central\",\"arquero\",\"central\",\"central\",\"central_defensa\",\"defensa\",\"central\",\"central\",\"arquero\",\"central\",\"arquero\",\"defensa\",\"ataque\",\"central_ataque\",\"defensa\",\"central\",\"central\",\"central_defensa\",\"arquero\",\"defensa\",\"defensa\",\"arquero\",\"ataque\",\"central\",\"ataque\",\"central\",\"ataque\",\"arquero\",\"arquero\",\"central\",\"central\",\"defensa\",\"defensa\",\"central_ataque\",\"arquero\",\"central\",\"central_ataque\",\"central\",\"defensa\",\"arquero\",\"defensa\",\"central_ataque\",\"central_ataque\",\"defensa\",\"arquero\",\"central\",\"arquero\",\"defensa\",\"defensa\",\"defensa\",\"central\",\"central_ataque\",\"central\",\"arquero\",\"arquero\",\"central_ataque\",\"defensa\",\"ataque\",\"ataque\",\"central\",\"defensa\",\"defensa\",\"central\",\"central\",\"defensa\",\"central\",\"central_ataque\",\"central_ataque\",\"defensa\",\"central_ataque\",\"central\",\"defensa\",\"defensa\",\"ataque\",\"ataque\",\"central\",\"central_ataque\",\"defensa\",\"defensa\",\"central_ataque\",\"central_ataque\",\"defensa\",\"defensa\",\"central_defensa\",\"defensa\",\"central_ataque\",\"arquero\",\"defensa\",\"central_ataque\",\"central\",\"central\",\"central\",\"defensa\",\"defensa\",\"arquero\",\"defensa\",\"central_ataque\",\"arquero\",\"central\",\"central_defensa\",\"defensa\",\"defensa\",\"defensa\",\"defensa\",\"ataque\",\"central\",\"arquero\",\"defensa\",\"central_ataque\",\"defensa\",\"arquero\",\"central_ataque\",\"central_ataque\",\"central\",\"central\",\"central_defensa\",\"defensa\",\"arquero\",\"central_defensa\",\"ataque\",\"arquero\",\"defensa\",\"arquero\",\"defensa\",\"defensa\",\"defensa\",\"defensa\",\"defensa\",\"defensa\",\"defensa\",\"central\",\"defensa\",\"defensa\",\"ataque\",\"arquero\",\"central\",\"defensa\",\"central_ataque\",\"central\",\"central_ataque\",\"defensa\",\"defensa\",\"defensa\",\"arquero\",\"defensa\",\"central\",\"defensa\",\"defensa\",\"central\",\"central\",\"defensa\",\"defensa\",\"arquero\",\"defensa\",\"central_ataque\",\"central_defensa\",\"central_ataque\",\"central_ataque\",\"central_ataque\",\"arquero\",\"central_defensa\",\"central\",\"central_ataque\",\"central_defensa\",\"central_ataque\",\"central_ataque\",\"central\",\"ataque\",\"central\",\"defensa\",\"defensa\",\"central\",\"arquero\",\"defensa\",\"defensa\",\"central_ataque\",\"arquero\",\"arquero\",\"ataque\",\"arquero\",\"defensa\",\"central\",\"central_ataque\",\"arquero\",\"arquero\",\"arquero\",\"defensa\",\"central\",\"defensa\",\"defensa\",\"defensa\",\"central\",\"central\",\"central\",\"central\",\"central\",\"arquero\",\"arquero\",\"central_ataque\",\"ataque\",\"central_ataque\",\"central\",\"central_ataque\",\"central\",\"ataque\",\"defensa\",\"central\",\"defensa\",\"defensa\",\"central\",\"central\",\"arquero\",\"central\",\"central\",\"ataque\",\"ataque\",\"defensa\",\"central_ataque\",\"central_ataque\",\"defensa\",\"defensa\",\"defensa\",\"central\",\"ataque\",\"central\",\"central\",\"arquero\",\"central\",\"central\",\"defensa\",\"arquero\",\"central_ataque\",\"central\",\"central_ataque\",\"arquero\",\"defensa\",\"central\",\"central\",\"arquero\",\"defensa\",\"central\",\"arquero\",\"defensa\",\"central\",\"arquero\",\"central\",\"defensa\",\"defensa\",\"ataque\",\"central\",\"defensa\",\"central_ataque\",\"defensa\",\"defensa\",\"arquero\",\"central\",\"defensa\",\"defensa\",\"defensa\",\"defensa\",\"ataque\",\"central_defensa\",\"ataque\",\"central\",\"defensa\",\"central_ataque\",\"defensa\",\"defensa\",\"central\",\"defensa\",\"arquero\",\"central\",\"arquero\",\"defensa\",\"central_ataque\",\"defensa\",\"ataque\",\"ataque\",\"ataque\",\"central\",\"central\",\"central_ataque\",\"arquero\",\"defensa\",\"defensa\",\"central\",\"ataque\",\"defensa\",\"central\",\"central\",\"central\",\"defensa\",\"defensa\",\"central_ataque\",\"defensa\",\"ataque\",\"arquero\",\"central\",\"central_defensa\",\"arquero\",\"central\",\"defensa\",\"central\",\"defensa\",\"arquero\",\"central\",\"defensa\",\"central_ataque\",\"central\",\"defensa\",\"central\",\"defensa\",\"central\",\"central\",\"central\",\"central\",\"central\",\"central_ataque\",\"central\",\"defensa\",\"defensa\",\"defensa\",\"central\",\"central\",\"defensa\",\"ataque\",\"defensa\",\"defensa\",\"central\",\"arquero\",\"defensa\",\"central\",\"arquero\",\"defensa\",\"central\",\"defensa\",\"central_ataque\",\"arquero\",\"ataque\",\"defensa\",\"ataque\",\"arquero\",\"defensa\",\"ataque\",\"arquero\",\"defensa\",\"central\",\"ataque\",\"defensa\",\"arquero\",\"defensa\",\"central\",\"defensa\",\"defensa\",\"central\",\"arquero\",\"central\",\"defensa\",\"arquero\",\"defensa\",\"defensa\",\"arquero\",\"central_defensa\",\"central\",\"ataque\",\"defensa\",\"central\",\"defensa\",\"arquero\",\"defensa\",\"arquero\",\"central\",\"arquero\",\"central\",\"central\",\"ataque\",\"central\",\"defensa\",\"central\",\"central\",\"defensa\",\"central_defensa\",\"defensa\",\"arquero\",\"central\",\"central_ataque\",\"central_ataque\",\"defensa\",\"arquero\",\"defensa\",\"defensa\",\"defensa\",\"defensa\",\"central_ataque\",\"ataque\",\"central\",\"defensa\",\"central_ataque\",\"central\",\"defensa\",\"arquero\",\"defensa\",\"central_ataque\",\"defensa\",\"defensa\",\"central_defensa\",\"ataque\",\"central_ataque\",\"defensa\",\"defensa\",\"defensa\",\"defensa\",\"defensa\",\"arquero\",\"defensa\",\"ataque\",\"central\",\"defensa\",\"central\",\"defensa\",\"central\",\"ataque\",\"central_ataque\",\"arquero\",\"central\",\"ataque\",\"defensa\",\"central\",\"arquero\",\"defensa\",\"defensa\",\"central\",\"central\",\"defensa\",\"defensa\",\"defensa\",\"central_ataque\",\"central_ataque\",\"arquero\",\"ataque\",\"central\",\"defensa\",\"central\",\"central_ataque\",\"defensa\",\"defensa\",\"central_ataque\",\"ataque\",\"central\",\"arquero\",\"defensa\",\"arquero\",\"central\",\"defensa\",\"arquero\",\"defensa\",\"ataque\",\"central_defensa\",\"defensa\",\"defensa\",\"defensa\",\"central_ataque\",\"central\",\"central_ataque\",\"central\",\"central\",\"central\",\"defensa\",\"defensa\",\"central\",\"defensa\",\"central\",\"arquero\",\"central_ataque\",\"defensa\",\"central\",\"defensa\",\"central\",\"ataque\",\"ataque\",\"central_ataque\",\"arquero\",\"central_ataque\",\"central\",\"central\",\"central\",\"arquero\",\"central\",\"arquero\",\"central\",\"central\",\"central\",\"central\",\"central\",\"arquero\",\"central\",\"arquero\",\"arquero\",\"central_ataque\",\"arquero\",\"defensa\",\"defensa\",\"central_ataque\",\"defensa\",\"arquero\",\"central_defensa\",\"ataque\",\"defensa\",\"central\",\"central\",\"defensa\",\"ataque\",\"defensa\",\"central\",\"defensa\",\"defensa\",\"arquero\",\"arquero\",\"defensa\",\"defensa\",\"ataque\",\"defensa\",\"central\",\"central_defensa\",\"defensa\",\"ataque\",\"arquero\",\"central_ataque\",\"defensa\",\"arquero\",\"central_defensa\",\"central_defensa\",\"arquero\",\"arquero\",\"central_defensa\",\"ataque\",\"central_defensa\",\"central\",\"central\",\"defensa\",\"central\",\"ataque\",\"arquero\",\"ataque\",\"central_defensa\",\"central_defensa\",\"defensa\",\"defensa\",\"defensa\",\"central_ataque\",\"central\",\"central_ataque\",\"central\",\"defensa\",\"central\",\"central\",\"central\",\"central_defensa\",\"defensa\",\"central_ataque\",\"central\",\"central_ataque\",\"central\",\"ataque\",\"central\",\"central\",\"arquero\",\"arquero\",\"defensa\",\"central_ataque\",\"central_defensa\",\"defensa\",\"defensa\",\"arquero\",\"ataque\",\"central\",\"central_ataque\",\"central_defensa\",\"central\",\"defensa\",\"central_defensa\",\"arquero\",\"defensa\",\"defensa\",\"central\",\"defensa\",\"defensa\",\"defensa\",\"defensa\",\"central\",\"ataque\",\"defensa\",\"central_defensa\",\"central\",\"arquero\",\"central\",\"arquero\",\"central\",\"central\",\"defensa\",\"defensa\",\"arquero\",\"defensa\",\"central_ataque\",\"central\",\"central_ataque\",\"defensa\",\"central\",\"defensa\",\"central\",\"central_ataque\",\"defensa\",\"defensa\",\"central\",\"defensa\",\"defensa\",\"arquero\",\"defensa\",\"defensa\",\"defensa\",\"defensa\",\"defensa\",\"central\",\"defensa\",\"arquero\",\"central\",\"defensa\",\"defensa\",\"central_defensa\",\"central_ataque\",\"arquero\",\"central_ataque\",\"arquero\",\"defensa\",\"central_ataque\",\"arquero\",\"arquero\",\"central_defensa\",\"defensa\",\"defensa\",\"arquero\",\"arquero\",\"defensa\",\"central\",\"defensa\",\"defensa\",\"ataque\",\"central\",\"central_defensa\",\"defensa\",\"central\",\"arquero\",\"central\",\"defensa\",\"defensa\",\"defensa\",\"central\",\"defensa\",\"central\",\"central\",\"central\",\"central\",\"defensa\",\"central\",\"central\",\"central_ataque\",\"central_ataque\",\"central_defensa\",\"defensa\",\"defensa\",\"ataque\",\"defensa\",\"arquero\",\"defensa\",\"defensa\",\"defensa\",\"central_defensa\",\"central\",\"central\",\"defensa\",\"central_ataque\",\"defensa\",\"defensa\",\"central\",\"arquero\",\"defensa\",\"defensa\",\"central\",\"central_ataque\",\"defensa\",\"central\",\"central\",\"arquero\",\"central\",\"defensa\",\"defensa\",\"defensa\",\"central_ataque\",\"defensa\",\"central\",\"central_defensa\",\"central\",\"ataque\",\"central\",\"central\",\"defensa\",\"arquero\",\"defensa\",\"central\",\"arquero\",\"arquero\",\"central_defensa\",\"arquero\",\"defensa\",\"central_ataque\",\"defensa\",\"defensa\",\"central\",\"central\",\"arquero\",\"arquero\",\"defensa\",\"arquero\",\"arquero\",\"defensa\",\"central\",\"central_ataque\",\"central\",\"ataque\",\"ataque\",\"arquero\",\"defensa\",\"central\",\"defensa\",\"defensa\",\"defensa\",\"arquero\",\"defensa\",\"arquero\",\"defensa\",\"arquero\",\"defensa\",\"defensa\",\"defensa\",\"arquero\",\"ataque\",\"arquero\",\"defensa\",\"defensa\",\"ataque\",\"arquero\",\"central_defensa\",\"defensa\",\"arquero\",\"central_ataque\",\"defensa\",\"central_defensa\",\"defensa\",\"defensa\",\"central_ataque\",\"ataque\",\"central_defensa\",\"defensa\",\"central\",\"central\",\"central\",\"arquero\",\"defensa\",\"defensa\",\"central\",\"arquero\",\"defensa\",\"central\",\"central\",\"central\",\"defensa\",\"arquero\",\"defensa\",\"central_defensa\",\"defensa\",\"defensa\",\"defensa\",\"defensa\",\"defensa\",\"central\",\"defensa\",\"arquero\",\"central\",\"central\",\"central\",\"central\",\"central\",\"central\",\"defensa\",\"defensa\",\"central_defensa\",\"defensa\",\"arquero\",\"central\",\"defensa\",\"central_ataque\",\"central\",\"central\",\"defensa\",\"central\",\"defensa\",\"central\",\"arquero\",\"defensa\",\"central_ataque\",\"defensa\",\"central_defensa\",\"arquero\",\"central\",\"defensa\",\"defensa\",\"central_ataque\",\"defensa\",\"defensa\",\"defensa\",\"defensa\",\"defensa\",\"central\",\"defensa\",\"central\",\"defensa\",\"arquero\",\"defensa\",\"defensa\",\"arquero\",\"central\",\"central\",\"central_defensa\",\"central\",\"defensa\",\"central\",\"central\",\"central_ataque\",\"central\",\"arquero\",\"arquero\",\"central_ataque\",\"defensa\",\"defensa\",\"defensa\",\"arquero\",\"arquero\",\"defensa\",\"defensa\",\"defensa\",\"defensa\",\"central_defensa\",\"arquero\",\"defensa\",\"defensa\",\"central_ataque\",\"defensa\",\"defensa\",\"central\",\"central\",\"defensa\",\"arquero\",\"arquero\",\"central\",\"central\",\"central\",\"arquero\",\"central_defensa\",\"central_defensa\",\"central_defensa\",\"arquero\",\"arquero\",\"central\",\"defensa\",\"central_ataque\",\"central\",\"defensa\",\"defensa\",\"arquero\",\"central\",\"defensa\",\"defensa\",\"defensa\",\"defensa\",\"central_ataque\",\"central\",\"arquero\",\"central\",\"ataque\",\"central\",\"defensa\",\"defensa\",\"ataque\",\"central_defensa\",\"arquero\",\"defensa\",\"central\",\"defensa\",\"defensa\",\"defensa\",\"arquero\",\"central_ataque\",\"ataque\",\"central_ataque\",\"defensa\",\"ataque\",\"central\",\"arquero\",\"central\",\"defensa\",\"defensa\",\"defensa\",\"central\",\"central\",\"central_ataque\",\"defensa\",\"arquero\",\"arquero\",\"defensa\",\"defensa\",\"central\",\"central\",\"defensa\",\"defensa\",\"defensa\",\"central_ataque\",\"defensa\",\"defensa\",\"defensa\",\"defensa\",\"defensa\",\"central\",\"defensa\",\"central_ataque\",\"central_ataque\",\"defensa\",\"central\",\"defensa\",\"central_defensa\",\"defensa\",\"defensa\",\"central\",\"central\",\"central_ataque\",\"arquero\",\"defensa\",\"central_ataque\",\"defensa\",\"defensa\",\"central_ataque\",\"arquero\",\"central\",\"ataque\",\"defensa\",\"defensa\",\"central_ataque\",\"central_ataque\",\"arquero\",\"ataque\",\"defensa\",\"arquero\",\"defensa\",\"central_ataque\",\"central\",\"arquero\",\"defensa\",\"central_ataque\",\"central\",\"defensa\",\"central\",\"central\",\"arquero\",\"central_defensa\",\"arquero\",\"central_defensa\",\"defensa\",\"central\",\"central_ataque\",\"defensa\",\"defensa\",\"ataque\",\"central\",\"defensa\",\"defensa\",\"central\",\"defensa\",\"arquero\",\"defensa\",\"arquero\",\"arquero\",\"central\",\"arquero\",\"central_defensa\",\"arquero\",\"arquero\",\"defensa\",\"defensa\",\"central\",\"defensa\",\"defensa\",\"central\",\"defensa\",\"central\",\"central\",\"central_defensa\",\"arquero\",\"defensa\",\"central\",\"defensa\",\"defensa\",\"central\",\"defensa\",\"defensa\"],\"xaxis\":\"x\",\"yaxis\":\"y\",\"type\":\"histogram\"}],                        {\"template\":{\"data\":{\"histogram2dcontour\":[{\"type\":\"histogram2dcontour\",\"colorbar\":{\"outlinewidth\":0,\"ticks\":\"\"},\"colorscale\":[[0.0,\"#0d0887\"],[0.1111111111111111,\"#46039f\"],[0.2222222222222222,\"#7201a8\"],[0.3333333333333333,\"#9c179e\"],[0.4444444444444444,\"#bd3786\"],[0.5555555555555556,\"#d8576b\"],[0.6666666666666666,\"#ed7953\"],[0.7777777777777778,\"#fb9f3a\"],[0.8888888888888888,\"#fdca26\"],[1.0,\"#f0f921\"]]}],\"choropleth\":[{\"type\":\"choropleth\",\"colorbar\":{\"outlinewidth\":0,\"ticks\":\"\"}}],\"histogram2d\":[{\"type\":\"histogram2d\",\"colorbar\":{\"outlinewidth\":0,\"ticks\":\"\"},\"colorscale\":[[0.0,\"#0d0887\"],[0.1111111111111111,\"#46039f\"],[0.2222222222222222,\"#7201a8\"],[0.3333333333333333,\"#9c179e\"],[0.4444444444444444,\"#bd3786\"],[0.5555555555555556,\"#d8576b\"],[0.6666666666666666,\"#ed7953\"],[0.7777777777777778,\"#fb9f3a\"],[0.8888888888888888,\"#fdca26\"],[1.0,\"#f0f921\"]]}],\"heatmap\":[{\"type\":\"heatmap\",\"colorbar\":{\"outlinewidth\":0,\"ticks\":\"\"},\"colorscale\":[[0.0,\"#0d0887\"],[0.1111111111111111,\"#46039f\"],[0.2222222222222222,\"#7201a8\"],[0.3333333333333333,\"#9c179e\"],[0.4444444444444444,\"#bd3786\"],[0.5555555555555556,\"#d8576b\"],[0.6666666666666666,\"#ed7953\"],[0.7777777777777778,\"#fb9f3a\"],[0.8888888888888888,\"#fdca26\"],[1.0,\"#f0f921\"]]}],\"heatmapgl\":[{\"type\":\"heatmapgl\",\"colorbar\":{\"outlinewidth\":0,\"ticks\":\"\"},\"colorscale\":[[0.0,\"#0d0887\"],[0.1111111111111111,\"#46039f\"],[0.2222222222222222,\"#7201a8\"],[0.3333333333333333,\"#9c179e\"],[0.4444444444444444,\"#bd3786\"],[0.5555555555555556,\"#d8576b\"],[0.6666666666666666,\"#ed7953\"],[0.7777777777777778,\"#fb9f3a\"],[0.8888888888888888,\"#fdca26\"],[1.0,\"#f0f921\"]]}],\"contourcarpet\":[{\"type\":\"contourcarpet\",\"colorbar\":{\"outlinewidth\":0,\"ticks\":\"\"}}],\"contour\":[{\"type\":\"contour\",\"colorbar\":{\"outlinewidth\":0,\"ticks\":\"\"},\"colorscale\":[[0.0,\"#0d0887\"],[0.1111111111111111,\"#46039f\"],[0.2222222222222222,\"#7201a8\"],[0.3333333333333333,\"#9c179e\"],[0.4444444444444444,\"#bd3786\"],[0.5555555555555556,\"#d8576b\"],[0.6666666666666666,\"#ed7953\"],[0.7777777777777778,\"#fb9f3a\"],[0.8888888888888888,\"#fdca26\"],[1.0,\"#f0f921\"]]}],\"surface\":[{\"type\":\"surface\",\"colorbar\":{\"outlinewidth\":0,\"ticks\":\"\"},\"colorscale\":[[0.0,\"#0d0887\"],[0.1111111111111111,\"#46039f\"],[0.2222222222222222,\"#7201a8\"],[0.3333333333333333,\"#9c179e\"],[0.4444444444444444,\"#bd3786\"],[0.5555555555555556,\"#d8576b\"],[0.6666666666666666,\"#ed7953\"],[0.7777777777777778,\"#fb9f3a\"],[0.8888888888888888,\"#fdca26\"],[1.0,\"#f0f921\"]]}],\"mesh3d\":[{\"type\":\"mesh3d\",\"colorbar\":{\"outlinewidth\":0,\"ticks\":\"\"}}],\"scatter\":[{\"fillpattern\":{\"fillmode\":\"overlay\",\"size\":10,\"solidity\":0.2},\"type\":\"scatter\"}],\"parcoords\":[{\"type\":\"parcoords\",\"line\":{\"colorbar\":{\"outlinewidth\":0,\"ticks\":\"\"}}}],\"scatterpolargl\":[{\"type\":\"scatterpolargl\",\"marker\":{\"colorbar\":{\"outlinewidth\":0,\"ticks\":\"\"}}}],\"bar\":[{\"error_x\":{\"color\":\"#2a3f5f\"},\"error_y\":{\"color\":\"#2a3f5f\"},\"marker\":{\"line\":{\"color\":\"#E5ECF6\",\"width\":0.5},\"pattern\":{\"fillmode\":\"overlay\",\"size\":10,\"solidity\":0.2}},\"type\":\"bar\"}],\"scattergeo\":[{\"type\":\"scattergeo\",\"marker\":{\"colorbar\":{\"outlinewidth\":0,\"ticks\":\"\"}}}],\"scatterpolar\":[{\"type\":\"scatterpolar\",\"marker\":{\"colorbar\":{\"outlinewidth\":0,\"ticks\":\"\"}}}],\"histogram\":[{\"marker\":{\"pattern\":{\"fillmode\":\"overlay\",\"size\":10,\"solidity\":0.2}},\"type\":\"histogram\"}],\"scattergl\":[{\"type\":\"scattergl\",\"marker\":{\"colorbar\":{\"outlinewidth\":0,\"ticks\":\"\"}}}],\"scatter3d\":[{\"type\":\"scatter3d\",\"line\":{\"colorbar\":{\"outlinewidth\":0,\"ticks\":\"\"}},\"marker\":{\"colorbar\":{\"outlinewidth\":0,\"ticks\":\"\"}}}],\"scattermapbox\":[{\"type\":\"scattermapbox\",\"marker\":{\"colorbar\":{\"outlinewidth\":0,\"ticks\":\"\"}}}],\"scatterternary\":[{\"type\":\"scatterternary\",\"marker\":{\"colorbar\":{\"outlinewidth\":0,\"ticks\":\"\"}}}],\"scattercarpet\":[{\"type\":\"scattercarpet\",\"marker\":{\"colorbar\":{\"outlinewidth\":0,\"ticks\":\"\"}}}],\"carpet\":[{\"aaxis\":{\"endlinecolor\":\"#2a3f5f\",\"gridcolor\":\"white\",\"linecolor\":\"white\",\"minorgridcolor\":\"white\",\"startlinecolor\":\"#2a3f5f\"},\"baxis\":{\"endlinecolor\":\"#2a3f5f\",\"gridcolor\":\"white\",\"linecolor\":\"white\",\"minorgridcolor\":\"white\",\"startlinecolor\":\"#2a3f5f\"},\"type\":\"carpet\"}],\"table\":[{\"cells\":{\"fill\":{\"color\":\"#EBF0F8\"},\"line\":{\"color\":\"white\"}},\"header\":{\"fill\":{\"color\":\"#C8D4E3\"},\"line\":{\"color\":\"white\"}},\"type\":\"table\"}],\"barpolar\":[{\"marker\":{\"line\":{\"color\":\"#E5ECF6\",\"width\":0.5},\"pattern\":{\"fillmode\":\"overlay\",\"size\":10,\"solidity\":0.2}},\"type\":\"barpolar\"}],\"pie\":[{\"automargin\":true,\"type\":\"pie\"}]},\"layout\":{\"autotypenumbers\":\"strict\",\"colorway\":[\"#636efa\",\"#EF553B\",\"#00cc96\",\"#ab63fa\",\"#FFA15A\",\"#19d3f3\",\"#FF6692\",\"#B6E880\",\"#FF97FF\",\"#FECB52\"],\"font\":{\"color\":\"#2a3f5f\"},\"hovermode\":\"closest\",\"hoverlabel\":{\"align\":\"left\"},\"paper_bgcolor\":\"white\",\"plot_bgcolor\":\"#E5ECF6\",\"polar\":{\"bgcolor\":\"#E5ECF6\",\"angularaxis\":{\"gridcolor\":\"white\",\"linecolor\":\"white\",\"ticks\":\"\"},\"radialaxis\":{\"gridcolor\":\"white\",\"linecolor\":\"white\",\"ticks\":\"\"}},\"ternary\":{\"bgcolor\":\"#E5ECF6\",\"aaxis\":{\"gridcolor\":\"white\",\"linecolor\":\"white\",\"ticks\":\"\"},\"baxis\":{\"gridcolor\":\"white\",\"linecolor\":\"white\",\"ticks\":\"\"},\"caxis\":{\"gridcolor\":\"white\",\"linecolor\":\"white\",\"ticks\":\"\"}},\"coloraxis\":{\"colorbar\":{\"outlinewidth\":0,\"ticks\":\"\"}},\"colorscale\":{\"sequential\":[[0.0,\"#0d0887\"],[0.1111111111111111,\"#46039f\"],[0.2222222222222222,\"#7201a8\"],[0.3333333333333333,\"#9c179e\"],[0.4444444444444444,\"#bd3786\"],[0.5555555555555556,\"#d8576b\"],[0.6666666666666666,\"#ed7953\"],[0.7777777777777778,\"#fb9f3a\"],[0.8888888888888888,\"#fdca26\"],[1.0,\"#f0f921\"]],\"sequentialminus\":[[0.0,\"#0d0887\"],[0.1111111111111111,\"#46039f\"],[0.2222222222222222,\"#7201a8\"],[0.3333333333333333,\"#9c179e\"],[0.4444444444444444,\"#bd3786\"],[0.5555555555555556,\"#d8576b\"],[0.6666666666666666,\"#ed7953\"],[0.7777777777777778,\"#fb9f3a\"],[0.8888888888888888,\"#fdca26\"],[1.0,\"#f0f921\"]],\"diverging\":[[0,\"#8e0152\"],[0.1,\"#c51b7d\"],[0.2,\"#de77ae\"],[0.3,\"#f1b6da\"],[0.4,\"#fde0ef\"],[0.5,\"#f7f7f7\"],[0.6,\"#e6f5d0\"],[0.7,\"#b8e186\"],[0.8,\"#7fbc41\"],[0.9,\"#4d9221\"],[1,\"#276419\"]]},\"xaxis\":{\"gridcolor\":\"white\",\"linecolor\":\"white\",\"ticks\":\"\",\"title\":{\"standoff\":15},\"zerolinecolor\":\"white\",\"automargin\":true,\"zerolinewidth\":2},\"yaxis\":{\"gridcolor\":\"white\",\"linecolor\":\"white\",\"ticks\":\"\",\"title\":{\"standoff\":15},\"zerolinecolor\":\"white\",\"automargin\":true,\"zerolinewidth\":2},\"scene\":{\"xaxis\":{\"backgroundcolor\":\"#E5ECF6\",\"gridcolor\":\"white\",\"linecolor\":\"white\",\"showbackground\":true,\"ticks\":\"\",\"zerolinecolor\":\"white\",\"gridwidth\":2},\"yaxis\":{\"backgroundcolor\":\"#E5ECF6\",\"gridcolor\":\"white\",\"linecolor\":\"white\",\"showbackground\":true,\"ticks\":\"\",\"zerolinecolor\":\"white\",\"gridwidth\":2},\"zaxis\":{\"backgroundcolor\":\"#E5ECF6\",\"gridcolor\":\"white\",\"linecolor\":\"white\",\"showbackground\":true,\"ticks\":\"\",\"zerolinecolor\":\"white\",\"gridwidth\":2}},\"shapedefaults\":{\"line\":{\"color\":\"#2a3f5f\"}},\"annotationdefaults\":{\"arrowcolor\":\"#2a3f5f\",\"arrowhead\":0,\"arrowwidth\":1},\"geo\":{\"bgcolor\":\"white\",\"landcolor\":\"#E5ECF6\",\"subunitcolor\":\"white\",\"showland\":true,\"showlakes\":true,\"lakecolor\":\"white\"},\"title\":{\"x\":0.05},\"mapbox\":{\"style\":\"light\"}}},\"xaxis\":{\"anchor\":\"y\",\"domain\":[0.0,1.0],\"title\":{\"text\":\"x\"}},\"yaxis\":{\"anchor\":\"x\",\"domain\":[0.0,1.0],\"title\":{\"text\":\"count\"}},\"legend\":{\"tracegroupgap\":0},\"margin\":{\"t\":60},\"barmode\":\"relative\"},                        {\"responsive\": true}                    ).then(function(){\n",
              "                            \n",
              "var gd = document.getElementById('c8721129-c509-419d-bbae-febc4c0f5a91');\n",
              "var x = new MutationObserver(function (mutations, observer) {{\n",
              "        var display = window.getComputedStyle(gd).display;\n",
              "        if (!display || display === 'none') {{\n",
              "            console.log([gd, 'removed!']);\n",
              "            Plotly.purge(gd);\n",
              "            observer.disconnect();\n",
              "        }}\n",
              "}});\n",
              "\n",
              "// Listen for the removal of the full notebook cells\n",
              "var notebookContainer = gd.closest('#notebook-container');\n",
              "if (notebookContainer) {{\n",
              "    x.observe(notebookContainer, {childList: true});\n",
              "}}\n",
              "\n",
              "// Listen for the clearing of the current output cell\n",
              "var outputEl = gd.closest('.output');\n",
              "if (outputEl) {{\n",
              "    x.observe(outputEl, {childList: true});\n",
              "}}\n",
              "\n",
              "                        })                };                            </script>        </div>\n",
              "</body>\n",
              "</html>"
            ]
          },
          "metadata": {}
        }
      ]
    },
    {
      "cell_type": "code",
      "source": [
        "# Para columnas categoricas ordinales [Weak_foot, Skill_moves, Work_Rate] se transforma a ordinales (algunas ya están así)\n",
        "# La variable Work_Rate son 2 variables ordinales en 1 así que se separan\n",
        "df2['Work_Rate1'] = df2['Work_Rate'].apply(lambda x: x.split('/')[0].strip())\n",
        "df2['Work_Rate2'] = df2['Work_Rate'].apply(lambda x: x.split('/')[1].strip())\n",
        "df2 = df2.drop('Work_Rate', axis = 1)"
      ],
      "metadata": {
        "id": "nZFXmQJefluK"
      },
      "execution_count": 15,
      "outputs": []
    },
    {
      "cell_type": "code",
      "source": [
        "col_tf2 = ColumnTransformer([\n",
        "    ('One-hot', OneHotEncoder(handle_unknown='ignore'), ['Preffered_Foot']), # esto cambia\n",
        "    ('OrdinalEncoder', OrdinalEncoder(categories = [['Low', 'Medium', 'High'], ['Low', 'Medium', 'High']]), col_ordinales),\n",
        "    ('StandardScaler', StandardScaler(), col_normal),\n",
        "    ('Box-Cox', PowerTransformer('box-cox'), col_box_cox)\n",
        "])\n",
        "\n",
        "# De acuerdo al diagrama se escoge una SVC (categoria, <100k)\n",
        "SVC_pipe = Pipeline([\n",
        "    ('preprocessing', col_tf2),\n",
        "    ('classifier', LinearSVC(max_iter=10000, random_state=69420, class_weight= 'balanced'))\n",
        "])"
      ],
      "metadata": {
        "id": "OE_hyocJf5Yo"
      },
      "execution_count": 16,
      "outputs": []
    },
    {
      "cell_type": "code",
      "source": [
        "X = df2.drop(columns= droped_columns + ['Club_Position'])\n",
        "y = df2['Club_Position']\n",
        "# Train test splic sin estratify\n",
        "X_train, X_test, y_train, y_test = train_test_split(X, y, test_size=1/3, shuffle=True) "
      ],
      "metadata": {
        "id": "nGBniVnggDjM"
      },
      "execution_count": 17,
      "outputs": []
    },
    {
      "cell_type": "code",
      "source": [
        "print('SVC Lineal')\n",
        "svc = SVC_pipe.fit(X_train, y_train)\n",
        "y_pred = svc.predict(X_test)\n",
        "print(classification_report(y_test, y_pred))\n",
        "print('cohen_kappa_score:', cohen_kappa_score(y_test, y_pred))\n",
        "print('\\n\\n\\n')"
      ],
      "metadata": {
        "colab": {
          "base_uri": "https://localhost:8080/"
        },
        "id": "j5O8rutdfJNR",
        "outputId": "eacebf13-57cf-40ae-c11e-3d7773bdac29"
      },
      "execution_count": 18,
      "outputs": [
        {
          "output_type": "stream",
          "name": "stdout",
          "text": [
            "SVC Lineal\n",
            "                 precision    recall  f1-score   support\n",
            "\n",
            "        arquero       1.00      1.00      1.00       221\n",
            "         ataque       0.70      0.92      0.79       147\n",
            "        central       0.60      0.43      0.50       295\n",
            " central_ataque       0.53      0.42      0.47       202\n",
            "central_defensa       0.39      0.46      0.42        72\n",
            "        defensa       0.81      0.96      0.87       376\n",
            "\n",
            "       accuracy                           0.73      1313\n",
            "      macro avg       0.67      0.70      0.68      1313\n",
            "   weighted avg       0.72      0.73      0.71      1313\n",
            "\n",
            "cohen_kappa_score: 0.6619753752525495\n",
            "\n",
            "\n",
            "\n",
            "\n"
          ]
        }
      ]
    },
    {
      "cell_type": "code",
      "source": [
        "import matplotlib.pyplot as plt\n",
        "from sklearn.metrics import confusion_matrix, ConfusionMatrixDisplay\n",
        "cm = confusion_matrix( y_test, y_pred, labels=svc.classes_, normalize= 'true' )\n",
        "fig, ax = plt.subplots(figsize=(12, 12))\n",
        "disp = ConfusionMatrixDisplay(confusion_matrix=cm, display_labels=svc.classes_)\n",
        "\n",
        "disp.plot(ax=ax)"
      ],
      "metadata": {
        "colab": {
          "base_uri": "https://localhost:8080/",
          "height": 706
        },
        "id": "0l_3M5FYPHZt",
        "outputId": "af48062a-3379-4d9d-f3a8-619a0a11fa69"
      },
      "execution_count": 31,
      "outputs": [
        {
          "output_type": "execute_result",
          "data": {
            "text/plain": [
              "<sklearn.metrics._plot.confusion_matrix.ConfusionMatrixDisplay at 0x7f4783ebb6d0>"
            ]
          },
          "metadata": {},
          "execution_count": 31
        },
        {
          "output_type": "display_data",
          "data": {
            "text/plain": [
              "<Figure size 864x864 with 2 Axes>"
            ],
            "image/png": "[encoded data removed]"
          },
          "metadata": {
            "needs_background": "light"
          }
        }
      ]
    },
    {
      "cell_type": "markdown",
      "source": [
        "**Respuesta**:\n",
        "\n",
        "Se puede ver de los resultados que el clasificador detecta correctamente cuando un jugador es arquero sin confundirser, es decir de todas las detecciones de arquero, todos son arqueros y no detecta a otros jugadores como arqueros. \n",
        "\n",
        "Por otro lado, las clases defensa y ataque tienen el segundo y tercer lugar en accuracy respectivamente, y además tienen un recall similar (0.96 y 0.92 respectivamente), esto quiere decir que de todos los detectados como defensa y ataque, un 96% y 92% corresponden a defensas y ataques respectivamente. \n",
        "\n",
        "Finalmente, las clases que peor se desempeñan son Central, central ataque y central defensa respectivamente, esto puede deberse gracias a que sus roles son relativamente parecidos, lo que se ve reflejado en la matriz de confusión, donde el cantral y central ataque se confunden entre si y con el ataque, y por otro lado el central defensa que se confunde con el defensa. \n",
        "\n",
        "Una manera de mejorar los resultados podría ser buscando algun nuevo atributo que logre diferenciar a las clases que son parecidas, y lo otro, balancear las clases, ya que para el caso de central defensa y defensa la diferencia entre cantidad de ejemplos es significativa, lo que pudo llevar a que el clasificador confunda los central defensa por defensa.\n",
        "\n"
      ],
      "metadata": {
        "tags": [],
        "cell_id": "00037-49e50b09-156f-4996-8fec-1e3e6cf51802",
        "deepnote_cell_type": "markdown",
        "deepnote_cell_height": 106.23333740234375,
        "id": "aftAaTmsnRjw"
      }
    },
    {
      "cell_type": "markdown",
      "source": [
        "## 1.3 Predicción de Sueldos [2 puntos]\n",
        "\n",
        "<p align=\"center\">\n",
        "  <img src=\"https://media.giphy.com/media/3oEjHWtHAFcOKS4iA0/giphy.gif\" width=\"460\">\n",
        "</p>"
      ],
      "metadata": {
        "id": "C-vkB4xoOGtM",
        "cell_id": "00038-b8c6c19d-0688-4899-9abb-c89f94c2b89a",
        "deepnote_cell_type": "markdown",
        "deepnote_cell_height": 312.20001220703125
      }
    },
    {
      "cell_type": "markdown",
      "source": [
        "Queriendo ahondar aún más en el mercado del balompíe, Renacin, logra obtener (de una manera no muy formal) los sueldos de múltiples futbolistas y los guarda en el archivo ```sueldos.csv```. Con ellos les solicita que generen un regresor que les permita predecir el sueldo de los futbolistas en base a las características de los pichichis, esto, debido a su motivación por invertir y/o realizar especulación sobre los sueldos de jugadores.\n",
        "\n",
        "Renacin es claro señalando que deben seguir utilizando la [guía](https://scikit-learn.org/stable/tutorial/machine_learning_map/index.html) y comenten cada uno de los pasos realizados, para obtener su regresión lineal. Señalándoles que no aceptara un $R^2$ inferior a 0.35 para el modelo solicitado.\n",
        "\n",
        "Para esta parte usted tiene total libertad en la generación del regresor, la unica exigencia es que utilice un pipeline para generar la regresión y utilice la metrica $R^2$ para medir el rendimiento de esta.\n",
        "\n",
        "**To-Do**:\n",
        "\n",
        "- [ ] Explique en que consiste la métrica $R^2$\n",
        "- [ ] Generar un pipeline para la regresión.\n",
        "- [ ] Obtener un regresor con un $R^2$ superior a  $0.35$.\n",
        "- [ ] Comente sus resultados y si es posible mejorar los resultados obtenidos. ¿Se necesitarían más datos o otros tipos de características o una combinación de ambos?"
      ],
      "metadata": {
        "tags": [],
        "cell_id": "00039-e50ff971-8882-46be-832a-deaff22bdf89",
        "deepnote_cell_type": "markdown",
        "deepnote_cell_height": 423.70001220703125,
        "id": "mnkTasc0nRjw"
      }
    },
    {
      "cell_type": "markdown",
      "source": [
        "**Respuesta**"
      ],
      "metadata": {
        "tags": [],
        "cell_id": "00040-487b67d5-7731-400d-8fa5-a8fb3b59c7f5",
        "deepnote_cell_type": "markdown",
        "deepnote_cell_height": 51.43333435058594,
        "id": "2JqZcPGznRjw"
      }
    },
    {
      "cell_type": "code",
      "metadata": {
        "tags": [],
        "cell_id": "00041-012da19b-8f64-4971-84d6-e95502b74afb",
        "deepnote_cell_type": "code",
        "deepnote_cell_height": 65.03334045410156,
        "id": "dAhgdk67nRjw"
      },
      "source": [
        "salary = pd.read_csv(path +'/salarios.csv').drop(columns=['Unnamed: 0'])"
      ],
      "execution_count": null,
      "outputs": []
    },
    {
      "cell_type": "code",
      "source": [
        "df_salary = df_players.merge(salary, left_on='Name', right_on='Player')"
      ],
      "metadata": {
        "id": "0CWq56FClSCM"
      },
      "execution_count": null,
      "outputs": []
    },
    {
      "cell_type": "code",
      "source": [
        "# Agregar variable Clasificado Nacional\n",
        "df_salary['Classified'] = (~df_salary['National_Position'].isna()).astype(int).astype(\"category\")"
      ],
      "metadata": {
        "id": "T1gner3XvnPO"
      },
      "execution_count": null,
      "outputs": []
    },
    {
      "cell_type": "code",
      "source": [
        "df_salary['Work_Rate1'] = df_salary['Work_Rate'].apply(lambda x: x.split('/')[0].strip())\n",
        "df_salary['Work_Rate2'] = df_salary['Work_Rate'].apply(lambda x: x.split('/')[1].strip())\n",
        "df_salary = df_salary.drop('Work_Rate', axis = 1)"
      ],
      "metadata": {
        "id": "l4IU7LP2lc1v"
      },
      "execution_count": null,
      "outputs": []
    },
    {
      "cell_type": "code",
      "source": [
        "# Correlación con variable de salida\n",
        "corr_matrix = df_salary.corr(method='spearman')\n",
        "px.bar(corr_matrix['Weekly Salary'])"
      ],
      "metadata": {
        "colab": {
          "base_uri": "https://localhost:8080/",
          "height": 542
        },
        "id": "S6aeQHyrQNbq",
        "outputId": "d37c82cd-6a71-45a0-898c-1a4e688a59ea"
      },
      "execution_count": null,
      "outputs": [
        {
          "output_type": "display_data",
          "data": {
            "text/html": [
              "<html>\n",
              "<head><meta charset=\"utf-8\" /></head>\n",
              "<body>\n",
              "    <div>            <script src=\"https://cdnjs.cloudflare.com/ajax/libs/mathjax/2.7.5/MathJax.js?config=TeX-AMS-MML_SVG\"></script><script type=\"text/javascript\">if (window.MathJax && window.MathJax.Hub && window.MathJax.Hub.Config) {window.MathJax.Hub.Config({SVG: {font: \"STIX-Web\"}});}</script>                <script type=\"text/javascript\">window.PlotlyConfig = {MathJaxConfig: 'local'};</script>\n",
              "        <script src=\"https://cdn.plot.ly/plotly-2.12.1.min.js\"></script>                <div id=\"2c599d51-c97b-4924-949b-26b7390c2a82\" class=\"plotly-graph-div\" style=\"height:525px; width:100%;\"></div>            <script type=\"text/javascript\">                                    window.PLOTLYENV=window.PLOTLYENV || {};                                    if (document.getElementById(\"2c599d51-c97b-4924-949b-26b7390c2a82\")) {                    Plotly.newPlot(                        \"2c599d51-c97b-4924-949b-26b7390c2a82\",                        [{\"alignmentgroup\":\"True\",\"hovertemplate\":\"variable=Weekly Salary<br>index=%{x}<br>value=%{y}<extra></extra>\",\"legendgroup\":\"Weekly Salary\",\"marker\":{\"color\":\"#636efa\",\"pattern\":{\"shape\":\"\"}},\"name\":\"Weekly Salary\",\"offsetgroup\":\"Weekly Salary\",\"orientation\":\"v\",\"showlegend\":true,\"textposition\":\"auto\",\"x\":[\"Height\",\"Weight\",\"Age\",\"Weak_foot\",\"Skill_Moves\",\"Ball_Control\",\"Dribbling\",\"Marking\",\"Sliding_Tackle\",\"Standing_Tackle\",\"Aggression\",\"Reactions\",\"Interceptions\",\"Vision\",\"Composure\",\"Crossing\",\"Short_Pass\",\"Long_Pass\",\"Acceleration\",\"Speed\",\"Stamina\",\"Strength\",\"Balance\",\"Agility\",\"Jumping\",\"Heading\",\"Shot_Power\",\"Finishing\",\"Long_Shots\",\"Curve\",\"Freekick_Accuracy\",\"Penalties\",\"Volleys\",\"Weekly Salary\"],\"xaxis\":\"x\",\"y\":[-0.06035070388673368,-0.028329476699411646,0.21977680445384376,0.20465939189161805,0.30276334279938505,0.4937079168276611,0.42788541807644986,0.1595757281139525,0.17619815156964186,0.19586180678570625,0.2640711269246386,0.6215650027835329,0.22664089695772005,0.432086429888858,0.5431533598162063,0.3411993968961517,0.46361050023121364,0.37664002428098037,0.29726895334393366,0.29100785284643566,0.3681028641562858,0.18906505193339104,0.19579390847391723,0.30620740505868194,0.21678982325117513,0.2691527595557357,0.4322305001062492,0.33954401151757513,0.38908898172450035,0.37259314904475527,0.33335747613880107,0.3501025906539822,0.3652794471427526,1.0],\"yaxis\":\"y\",\"type\":\"bar\"}],                        {\"template\":{\"data\":{\"histogram2dcontour\":[{\"type\":\"histogram2dcontour\",\"colorbar\":{\"outlinewidth\":0,\"ticks\":\"\"},\"colorscale\":[[0.0,\"#0d0887\"],[0.1111111111111111,\"#46039f\"],[0.2222222222222222,\"#7201a8\"],[0.3333333333333333,\"#9c179e\"],[0.4444444444444444,\"#bd3786\"],[0.5555555555555556,\"#d8576b\"],[0.6666666666666666,\"#ed7953\"],[0.7777777777777778,\"#fb9f3a\"],[0.8888888888888888,\"#fdca26\"],[1.0,\"#f0f921\"]]}],\"choropleth\":[{\"type\":\"choropleth\",\"colorbar\":{\"outlinewidth\":0,\"ticks\":\"\"}}],\"histogram2d\":[{\"type\":\"histogram2d\",\"colorbar\":{\"outlinewidth\":0,\"ticks\":\"\"},\"colorscale\":[[0.0,\"#0d0887\"],[0.1111111111111111,\"#46039f\"],[0.2222222222222222,\"#7201a8\"],[0.3333333333333333,\"#9c179e\"],[0.4444444444444444,\"#bd3786\"],[0.5555555555555556,\"#d8576b\"],[0.6666666666666666,\"#ed7953\"],[0.7777777777777778,\"#fb9f3a\"],[0.8888888888888888,\"#fdca26\"],[1.0,\"#f0f921\"]]}],\"heatmap\":[{\"type\":\"heatmap\",\"colorbar\":{\"outlinewidth\":0,\"ticks\":\"\"},\"colorscale\":[[0.0,\"#0d0887\"],[0.1111111111111111,\"#46039f\"],[0.2222222222222222,\"#7201a8\"],[0.3333333333333333,\"#9c179e\"],[0.4444444444444444,\"#bd3786\"],[0.5555555555555556,\"#d8576b\"],[0.6666666666666666,\"#ed7953\"],[0.7777777777777778,\"#fb9f3a\"],[0.8888888888888888,\"#fdca26\"],[1.0,\"#f0f921\"]]}],\"heatmapgl\":[{\"type\":\"heatmapgl\",\"colorbar\":{\"outlinewidth\":0,\"ticks\":\"\"},\"colorscale\":[[0.0,\"#0d0887\"],[0.1111111111111111,\"#46039f\"],[0.2222222222222222,\"#7201a8\"],[0.3333333333333333,\"#9c179e\"],[0.4444444444444444,\"#bd3786\"],[0.5555555555555556,\"#d8576b\"],[0.6666666666666666,\"#ed7953\"],[0.7777777777777778,\"#fb9f3a\"],[0.8888888888888888,\"#fdca26\"],[1.0,\"#f0f921\"]]}],\"contourcarpet\":[{\"type\":\"contourcarpet\",\"colorbar\":{\"outlinewidth\":0,\"ticks\":\"\"}}],\"contour\":[{\"type\":\"contour\",\"colorbar\":{\"outlinewidth\":0,\"ticks\":\"\"},\"colorscale\":[[0.0,\"#0d0887\"],[0.1111111111111111,\"#46039f\"],[0.2222222222222222,\"#7201a8\"],[0.3333333333333333,\"#9c179e\"],[0.4444444444444444,\"#bd3786\"],[0.5555555555555556,\"#d8576b\"],[0.6666666666666666,\"#ed7953\"],[0.7777777777777778,\"#fb9f3a\"],[0.8888888888888888,\"#fdca26\"],[1.0,\"#f0f921\"]]}],\"surface\":[{\"type\":\"surface\",\"colorbar\":{\"outlinewidth\":0,\"ticks\":\"\"},\"colorscale\":[[0.0,\"#0d0887\"],[0.1111111111111111,\"#46039f\"],[0.2222222222222222,\"#7201a8\"],[0.3333333333333333,\"#9c179e\"],[0.4444444444444444,\"#bd3786\"],[0.5555555555555556,\"#d8576b\"],[0.6666666666666666,\"#ed7953\"],[0.7777777777777778,\"#fb9f3a\"],[0.8888888888888888,\"#fdca26\"],[1.0,\"#f0f921\"]]}],\"mesh3d\":[{\"type\":\"mesh3d\",\"colorbar\":{\"outlinewidth\":0,\"ticks\":\"\"}}],\"scatter\":[{\"fillpattern\":{\"fillmode\":\"overlay\",\"size\":10,\"solidity\":0.2},\"type\":\"scatter\"}],\"parcoords\":[{\"type\":\"parcoords\",\"line\":{\"colorbar\":{\"outlinewidth\":0,\"ticks\":\"\"}}}],\"scatterpolargl\":[{\"type\":\"scatterpolargl\",\"marker\":{\"colorbar\":{\"outlinewidth\":0,\"ticks\":\"\"}}}],\"bar\":[{\"error_x\":{\"color\":\"#2a3f5f\"},\"error_y\":{\"color\":\"#2a3f5f\"},\"marker\":{\"line\":{\"color\":\"#E5ECF6\",\"width\":0.5},\"pattern\":{\"fillmode\":\"overlay\",\"size\":10,\"solidity\":0.2}},\"type\":\"bar\"}],\"scattergeo\":[{\"type\":\"scattergeo\",\"marker\":{\"colorbar\":{\"outlinewidth\":0,\"ticks\":\"\"}}}],\"scatterpolar\":[{\"type\":\"scatterpolar\",\"marker\":{\"colorbar\":{\"outlinewidth\":0,\"ticks\":\"\"}}}],\"histogram\":[{\"marker\":{\"pattern\":{\"fillmode\":\"overlay\",\"size\":10,\"solidity\":0.2}},\"type\":\"histogram\"}],\"scattergl\":[{\"type\":\"scattergl\",\"marker\":{\"colorbar\":{\"outlinewidth\":0,\"ticks\":\"\"}}}],\"scatter3d\":[{\"type\":\"scatter3d\",\"line\":{\"colorbar\":{\"outlinewidth\":0,\"ticks\":\"\"}},\"marker\":{\"colorbar\":{\"outlinewidth\":0,\"ticks\":\"\"}}}],\"scattermapbox\":[{\"type\":\"scattermapbox\",\"marker\":{\"colorbar\":{\"outlinewidth\":0,\"ticks\":\"\"}}}],\"scatterternary\":[{\"type\":\"scatterternary\",\"marker\":{\"colorbar\":{\"outlinewidth\":0,\"ticks\":\"\"}}}],\"scattercarpet\":[{\"type\":\"scattercarpet\",\"marker\":{\"colorbar\":{\"outlinewidth\":0,\"ticks\":\"\"}}}],\"carpet\":[{\"aaxis\":{\"endlinecolor\":\"#2a3f5f\",\"gridcolor\":\"white\",\"linecolor\":\"white\",\"minorgridcolor\":\"white\",\"startlinecolor\":\"#2a3f5f\"},\"baxis\":{\"endlinecolor\":\"#2a3f5f\",\"gridcolor\":\"white\",\"linecolor\":\"white\",\"minorgridcolor\":\"white\",\"startlinecolor\":\"#2a3f5f\"},\"type\":\"carpet\"}],\"table\":[{\"cells\":{\"fill\":{\"color\":\"#EBF0F8\"},\"line\":{\"color\":\"white\"}},\"header\":{\"fill\":{\"color\":\"#C8D4E3\"},\"line\":{\"color\":\"white\"}},\"type\":\"table\"}],\"barpolar\":[{\"marker\":{\"line\":{\"color\":\"#E5ECF6\",\"width\":0.5},\"pattern\":{\"fillmode\":\"overlay\",\"size\":10,\"solidity\":0.2}},\"type\":\"barpolar\"}],\"pie\":[{\"automargin\":true,\"type\":\"pie\"}]},\"layout\":{\"autotypenumbers\":\"strict\",\"colorway\":[\"#636efa\",\"#EF553B\",\"#00cc96\",\"#ab63fa\",\"#FFA15A\",\"#19d3f3\",\"#FF6692\",\"#B6E880\",\"#FF97FF\",\"#FECB52\"],\"font\":{\"color\":\"#2a3f5f\"},\"hovermode\":\"closest\",\"hoverlabel\":{\"align\":\"left\"},\"paper_bgcolor\":\"white\",\"plot_bgcolor\":\"#E5ECF6\",\"polar\":{\"bgcolor\":\"#E5ECF6\",\"angularaxis\":{\"gridcolor\":\"white\",\"linecolor\":\"white\",\"ticks\":\"\"},\"radialaxis\":{\"gridcolor\":\"white\",\"linecolor\":\"white\",\"ticks\":\"\"}},\"ternary\":{\"bgcolor\":\"#E5ECF6\",\"aaxis\":{\"gridcolor\":\"white\",\"linecolor\":\"white\",\"ticks\":\"\"},\"baxis\":{\"gridcolor\":\"white\",\"linecolor\":\"white\",\"ticks\":\"\"},\"caxis\":{\"gridcolor\":\"white\",\"linecolor\":\"white\",\"ticks\":\"\"}},\"coloraxis\":{\"colorbar\":{\"outlinewidth\":0,\"ticks\":\"\"}},\"colorscale\":{\"sequential\":[[0.0,\"#0d0887\"],[0.1111111111111111,\"#46039f\"],[0.2222222222222222,\"#7201a8\"],[0.3333333333333333,\"#9c179e\"],[0.4444444444444444,\"#bd3786\"],[0.5555555555555556,\"#d8576b\"],[0.6666666666666666,\"#ed7953\"],[0.7777777777777778,\"#fb9f3a\"],[0.8888888888888888,\"#fdca26\"],[1.0,\"#f0f921\"]],\"sequentialminus\":[[0.0,\"#0d0887\"],[0.1111111111111111,\"#46039f\"],[0.2222222222222222,\"#7201a8\"],[0.3333333333333333,\"#9c179e\"],[0.4444444444444444,\"#bd3786\"],[0.5555555555555556,\"#d8576b\"],[0.6666666666666666,\"#ed7953\"],[0.7777777777777778,\"#fb9f3a\"],[0.8888888888888888,\"#fdca26\"],[1.0,\"#f0f921\"]],\"diverging\":[[0,\"#8e0152\"],[0.1,\"#c51b7d\"],[0.2,\"#de77ae\"],[0.3,\"#f1b6da\"],[0.4,\"#fde0ef\"],[0.5,\"#f7f7f7\"],[0.6,\"#e6f5d0\"],[0.7,\"#b8e186\"],[0.8,\"#7fbc41\"],[0.9,\"#4d9221\"],[1,\"#276419\"]]},\"xaxis\":{\"gridcolor\":\"white\",\"linecolor\":\"white\",\"ticks\":\"\",\"title\":{\"standoff\":15},\"zerolinecolor\":\"white\",\"automargin\":true,\"zerolinewidth\":2},\"yaxis\":{\"gridcolor\":\"white\",\"linecolor\":\"white\",\"ticks\":\"\",\"title\":{\"standoff\":15},\"zerolinecolor\":\"white\",\"automargin\":true,\"zerolinewidth\":2},\"scene\":{\"xaxis\":{\"backgroundcolor\":\"#E5ECF6\",\"gridcolor\":\"white\",\"linecolor\":\"white\",\"showbackground\":true,\"ticks\":\"\",\"zerolinecolor\":\"white\",\"gridwidth\":2},\"yaxis\":{\"backgroundcolor\":\"#E5ECF6\",\"gridcolor\":\"white\",\"linecolor\":\"white\",\"showbackground\":true,\"ticks\":\"\",\"zerolinecolor\":\"white\",\"gridwidth\":2},\"zaxis\":{\"backgroundcolor\":\"#E5ECF6\",\"gridcolor\":\"white\",\"linecolor\":\"white\",\"showbackground\":true,\"ticks\":\"\",\"zerolinecolor\":\"white\",\"gridwidth\":2}},\"shapedefaults\":{\"line\":{\"color\":\"#2a3f5f\"}},\"annotationdefaults\":{\"arrowcolor\":\"#2a3f5f\",\"arrowhead\":0,\"arrowwidth\":1},\"geo\":{\"bgcolor\":\"white\",\"landcolor\":\"#E5ECF6\",\"subunitcolor\":\"white\",\"showland\":true,\"showlakes\":true,\"lakecolor\":\"white\"},\"title\":{\"x\":0.05},\"mapbox\":{\"style\":\"light\"}}},\"xaxis\":{\"anchor\":\"y\",\"domain\":[0.0,1.0],\"title\":{\"text\":\"index\"}},\"yaxis\":{\"anchor\":\"x\",\"domain\":[0.0,1.0],\"title\":{\"text\":\"value\"}},\"legend\":{\"title\":{\"text\":\"variable\"},\"tracegroupgap\":0},\"margin\":{\"t\":60},\"barmode\":\"relative\"},                        {\"responsive\": true}                    ).then(function(){\n",
              "                            \n",
              "var gd = document.getElementById('2c599d51-c97b-4924-949b-26b7390c2a82');\n",
              "var x = new MutationObserver(function (mutations, observer) {{\n",
              "        var display = window.getComputedStyle(gd).display;\n",
              "        if (!display || display === 'none') {{\n",
              "            console.log([gd, 'removed!']);\n",
              "            Plotly.purge(gd);\n",
              "            observer.disconnect();\n",
              "        }}\n",
              "}});\n",
              "\n",
              "// Listen for the removal of the full notebook cells\n",
              "var notebookContainer = gd.closest('#notebook-container');\n",
              "if (notebookContainer) {{\n",
              "    x.observe(notebookContainer, {childList: true});\n",
              "}}\n",
              "\n",
              "// Listen for the clearing of the current output cell\n",
              "var outputEl = gd.closest('.output');\n",
              "if (outputEl) {{\n",
              "    x.observe(outputEl, {childList: true});\n",
              "}}\n",
              "\n",
              "                        })                };                            </script>        </div>\n",
              "</body>\n",
              "</html>"
            ]
          },
          "metadata": {}
        }
      ]
    },
    {
      "cell_type": "code",
      "source": [
        "# Quitar ['Height', 'Weight'] de features\n",
        "col_normal_2 = [item for item in col_normal if item not in ['Height', 'Weight']]"
      ],
      "metadata": {
        "id": "SrmGj-ze4FeV"
      },
      "execution_count": null,
      "outputs": []
    },
    {
      "cell_type": "code",
      "source": [
        "# One hot pasa ser dummy variable\n",
        "col_tf3 = ColumnTransformer([\n",
        "    ('One-hot', OneHotEncoder(handle_unknown='ignore', sparse = False, drop = 'first'), ['Classified', 'Nationality'] + col_categoricas), # esto cambia\n",
        "    ('OrdinalEncoder', OrdinalEncoder(categories = [['Low', 'Medium', 'High'], ['Low', 'Medium', 'High']]), col_ordinales),\n",
        "    ('StandardScaler', StandardScaler(), col_normal_2),\n",
        "    ('Box-Cox', PowerTransformer('box-cox'), col_box_cox)\n",
        "])\n"
      ],
      "metadata": {
        "id": "o8QHyN4B1Is9"
      },
      "execution_count": null,
      "outputs": []
    },
    {
      "cell_type": "code",
      "source": [
        "from sklearn.linear_model import ElasticNet, Ridge\n",
        "from sklearn.svm import SVR\n",
        "\n",
        "# Probar si pocos regresores son importantes (Ridge y Lasso)\n",
        "Elastic_pipe = Pipeline([\n",
        "    ('preprocessing', col_tf3),\n",
        "    ('regressor', ElasticNet(random_state=69420))\n",
        "])\n",
        "\n",
        "Ridge_pipe = Pipeline([\n",
        "    ('preprocessing', col_tf3),\n",
        "    ('regressor', Ridge())\n",
        "])\n",
        "\n",
        "# Probar si mejora resultado ocupando más regresores\n",
        "SVR_pipe = Pipeline([\n",
        "    ('preprocessing', col_tf3),\n",
        "    ('regressor', SVR(kernel='rbf'))\n",
        "])\n",
        "\n",
        "\n",
        "param_Ridge = {\"regressor__alpha\": [0.1, 10.0, 100.0]}\n",
        "\n",
        "param_Elastic = {\n",
        "    \"regressor__alpha\": [0.1, 10.0, 100.0],\n",
        "    \"regressor__l1_ratio\": [0.2, 0.5, 0.8],\n",
        "}\n",
        "\n",
        "param_SVR = {\n",
        "    \"regressor__C\": [1.0,2.0,3.0],\n",
        "    \"regressor__gamma\": ['scale', 'auto'],\n",
        "}\n",
        "\n",
        "target_trans = FunctionTransformer(np.log1p, inverse_func = np.expm1\n",
        "                                   ,validate=True, check_inverse = True)\n",
        "\n",
        "target_pipeline =  Pipeline([\n",
        "    ('preprocessing', target_trans)])\n",
        "\n",
        "pipes = [Elastic_pipe, Ridge_pipe, SVR_pipe]\n",
        "param_grids = [param_Elastic, param_Ridge, param_SVR]"
      ],
      "metadata": {
        "id": "bngkKw14u3_g"
      },
      "execution_count": null,
      "outputs": []
    },
    {
      "cell_type": "code",
      "source": [
        "# Columnas que no se ocupan\n",
        "droped_columns_salary = ['Name', 'National_Position'] "
      ],
      "metadata": {
        "id": "2hrjYL35vcff"
      },
      "execution_count": null,
      "outputs": []
    },
    {
      "cell_type": "markdown",
      "source": [
        "Buscar parámetros con CV"
      ],
      "metadata": {
        "id": "2QtAG4cNRrN9"
      }
    },
    {
      "cell_type": "code",
      "source": [
        "from sklearn.metrics import r2_score\n",
        "from sklearn.model_selection import GridSearchCV\n",
        "\n",
        "R2 = []\n",
        "# Probar para distintas particiones de train-test\n",
        "for random_s in [11, 420, 69420]:\n",
        "  # Procesar datos\n",
        "  X = df_salary.drop(columns= droped_columns_salary + ['Weekly Salary'])\n",
        "  y = df_salary['Weekly Salary'].values\n",
        "  X_train, X_test, y_train, y_test = train_test_split(X, y, test_size=1/3, shuffle=True, random_state = random_s)\n",
        "  \n",
        "  # Remplazar cosas poco frecuentes en train por label 'infrequent' y ocupar solo etiquetas frecuentes en test\n",
        "  # Con sklearn 1.1 esto se peude hacer en pipeline en OneHotEncoding(handle_unknown = ‘infrequent_if_exist’, min_frequency = 15)\n",
        "  counts = X_train['Nationality'].value_counts() \n",
        "  frequent = counts[counts >= 15].index\n",
        "  X_train.loc[~X_train['Nationality'].isin(frequent), 'Nationality'] = 'Infrequent'\n",
        "  X_test.loc[~X_test['Nationality'].isin(frequent), 'Nationality'] = 'Infrequent'\n",
        "\n",
        "  # Probar cada pipeline con GridSearchCV y guardar resultado\n",
        "  r2s = []\n",
        "  # Preprocesar salida\n",
        "  y_train = target_pipeline.transform(y_train.reshape(-1, 1)).reshape(-1)\n",
        "  for pipe, param_grid in zip(pipes, param_grids): \n",
        "    # Realizar CV en a cada pipeline\n",
        "    search = GridSearchCV(pipe, param_grid, cv = 3, n_jobs=-1)\n",
        "    search.fit(X_train, y_train)\n",
        "    y_pred = search.predict(X_test)\n",
        "    # Revertir transformación de salida\n",
        "    y_pred = target_pipeline.inverse_transform(y_pred.reshape(-1, 1)).reshape(-1)\n",
        "    r2 = r2_score(y_test, y_pred)\n",
        "    print(pipe['regressor'], f': R2 = {r2}')\n",
        "    r2s.append(r2)\n",
        "  \n",
        "  # Guardar resultados de todos los experimentos\n",
        "  R2.append(r2s)\n",
        "\n",
        "# Calcular promedio de R2 en experimentos\n",
        "R2 = np.array(R2)\n",
        "print('\\n\\n')\n",
        "print('Promedios R2')\n",
        "print('Elastic:',R2[:, 0].mean())\n",
        "print('Ridge:',R2[:, 1].mean())\n",
        "print('SVR:',R2[:, 2].mean())"
      ],
      "metadata": {
        "colab": {
          "base_uri": "https://localhost:8080/"
        },
        "id": "4KmBjvjrwsmn",
        "outputId": "298a809b-279e-4f5b-8636-5dc05b5530ad"
      },
      "execution_count": null,
      "outputs": [
        {
          "output_type": "stream",
          "name": "stdout",
          "text": [
            "ElasticNet(random_state=69420) : R2 = 0.36891149684985014\n",
            "Ridge() : R2 = 0.5465618544798388\n",
            "SVR() : R2 = 0.6414643368400728\n",
            "ElasticNet(random_state=69420) : R2 = 0.2619620624131076\n",
            "Ridge() : R2 = 0.38976214396492825\n",
            "SVR() : R2 = 0.5752064263860247\n",
            "ElasticNet(random_state=69420) : R2 = 0.31159213295683763\n",
            "Ridge() : R2 = 0.46490151807761493\n",
            "SVR() : R2 = 0.5819588813420387\n",
            "\n",
            "\n",
            "\n",
            "Promedios R2\n",
            "Elastic: 0.3141552307399318\n",
            "Ridge: 0.4670751721741273\n",
            "SVR: 0.5995432148560454\n"
          ]
        }
      ]
    },
    {
      "cell_type": "code",
      "source": [
        "search.best_estimator_['regressor']"
      ],
      "metadata": {
        "colab": {
          "base_uri": "https://localhost:8080/"
        },
        "id": "VadZy8MOJFzI",
        "outputId": "dce581eb-12ed-4ab3-8c6e-1afb804000f6"
      },
      "execution_count": null,
      "outputs": [
        {
          "output_type": "execute_result",
          "data": {
            "text/plain": [
              "SVR(gamma='auto')"
            ]
          },
          "metadata": {},
          "execution_count": 735
        }
      ]
    },
    {
      "cell_type": "code",
      "source": [
        "X_train, X_test, y_train, y_test = train_test_split(X, y, test_size=1/3, shuffle=True, random_state = 0)\n",
        "# Remplazar cosas poco frecuentes en train por label 'infrequent' y ocupar solo etiquetas frecuentes en test\n",
        "# Con sklearn 1.1 esto se peude hacer en pipeline en OneHotEncoding(handle_unknown = ‘infrequent_if_exist’, min_frequency = 15)\n",
        "counts = X_train['Nationality'].value_counts() \n",
        "frequent = counts[counts >= 15].index\n",
        "X_train.loc[~X_train['Nationality'].isin(frequent), 'Nationality'] = 'Infrequent'\n",
        "X_test.loc[~X_test['Nationality'].isin(frequent), 'Nationality'] = 'Infrequent'\n",
        "\n",
        "SVR_pipe_final = Pipeline([\n",
        "    ('preprocessing', col_tf3),\n",
        "    ('regressor', SVR(gamma='auto'))\n",
        "])\n",
        "\n",
        "y_train = target_pipeline.transform(y_train.reshape(-1, 1)).reshape(-1)\n",
        "results = SVR_pipe_final.fit(X_train, y_train)\n",
        "y_pred = results.predict(X_test)\n",
        "y_pred = target_pipeline.inverse_transform(y_pred.reshape(-1, 1))\n",
        "r2 = r2_score(y_test, y_pred)\n",
        "print('R2:', r2)"
      ],
      "metadata": {
        "colab": {
          "base_uri": "https://localhost:8080/"
        },
        "id": "jpukAtt9JBFE",
        "outputId": "fe9848ff-6cfa-4406-da52-f769fb7a9416"
      },
      "execution_count": null,
      "outputs": [
        {
          "output_type": "stream",
          "name": "stdout",
          "text": [
            "R2: 0.6136754685988983\n"
          ]
        }
      ]
    },
    {
      "cell_type": "code",
      "source": [
        "px.scatter(x = y_test, y = [y_pred.reshape(-1), y_test])"
      ],
      "metadata": {
        "colab": {
          "base_uri": "https://localhost:8080/",
          "height": 542
        },
        "id": "jD35aLzae3vK",
        "outputId": "2b0b6781-3c44-4be9-c3a2-abf0feb064ff"
      },
      "execution_count": null,
      "outputs": [
        {
          "output_type": "display_data",
          "data": {
            "text/html": [
              "<html>\n",
              "<head><meta charset=\"utf-8\" /></head>\n",
              "<body>\n",
              "    <div>            <script src=\"https://cdnjs.cloudflare.com/ajax/libs/mathjax/2.7.5/MathJax.js?config=TeX-AMS-MML_SVG\"></script><script type=\"text/javascript\">if (window.MathJax && window.MathJax.Hub && window.MathJax.Hub.Config) {window.MathJax.Hub.Config({SVG: {font: \"STIX-Web\"}});}</script>                <script type=\"text/javascript\">window.PlotlyConfig = {MathJaxConfig: 'local'};</script>\n",
              "        <script src=\"https://cdn.plot.ly/plotly-2.12.1.min.js\"></script>                <div id=\"f87ccdb8-1835-4c7c-9a52-2fdc254c263e\" class=\"plotly-graph-div\" style=\"height:525px; width:100%;\"></div>            <script type=\"text/javascript\">                                    window.PLOTLYENV=window.PLOTLYENV || {};                                    if (document.getElementById(\"f87ccdb8-1835-4c7c-9a52-2fdc254c263e\")) {                    Plotly.newPlot(                        \"f87ccdb8-1835-4c7c-9a52-2fdc254c263e\",                        [{\"hovertemplate\":\"variable=wide_variable_0<br>x=%{x}<br>value=%{y}<extra></extra>\",\"legendgroup\":\"wide_variable_0\",\"marker\":{\"color\":\"#636efa\",\"symbol\":\"circle\"},\"mode\":\"markers\",\"name\":\"wide_variable_0\",\"showlegend\":true,\"x\":[75577.0,105546.0,21684.0,39580.0,16116.0,7808.0,1403.0,238433.0,2849.0,43824.0,1087.0,28165.0,3958.0,171513.0,17399.0,17334.0,50135.0,10396.0,65966.0,46177.0,19509.0,80275.0,46177.0,96652.0,9852.0,24408.0,85756.0,60353.0,26186.0,39580.0,21684.0,9722.0,15985.0,607706.0,9895.0,13550.0,36941.0,145126.0,32623.0,40235.0,80558.0,65247.0,65029.0,303624.0,9374.0,17760.0,44302.0,65029.0,43498.0,14093.0,28187.0,9613.0,10396.0,9265.0,1979.0,12092.0,65966.0,42976.0,434977.0,2034.0,16986.0,59370.0,59218.0,43498.0,5089.0,195740.0,14093.0,49152.0,80558.0,59370.0,118740.0,346785.0,10439.0,3893.0,5089.0,30818.0,8047.0,10396.0,46177.0,36941.0,39148.0,78035.0,11701.0,14093.0,16964.0,216749.0,32515.0,145126.0,120837.0,59370.0,43324.0,36255.0,16964.0,9613.0,181233.0,12092.0,60418.0,28578.0,43589.0,65966.0,14137.0,14028.0,13006.0,131933.0,30345.0,17660.0,54372.0,106635.0,32623.0,7786.0,54176.0,92353.0,7938.0,85756.0,80558.0,96695.0,46177.0,24163.0,145126.0,19030.0,43498.0,15224.0,18247.0,60418.0,9613.0,276145.0,18813.0,151723.0,17334.0,52773.0,16094.0,11331.0,44259.0,92353.0,31210.0,281930.0,18204.0,92353.0,5277.0,40279.0,131933.0,65029.0,60418.0,100697.0,10070.0,43498.0,8047.0,20139.0,30209.0,20379.0,27708.0,303624.0,12092.0,64464.0,32210.0,100697.0,32210.0,18117.0,22619.0,17573.0,8917.0,46999.0,19790.0,92353.0,105546.0,93303.0,6307.0,29025.0,14311.0,11679.0,12255.0,10070.0,263866.0,38017.0,120837.0,17443.0,33515.0,20139.0,24163.0,120837.0,105546.0,49413.0,72563.0,72563.0,43345.0,73882.0,6046.0,23837.0,39148.0,72563.0,42976.0,108744.0,79160.0,11309.0,8047.0,42878.0,263866.0,10070.0,76164.0,14093.0,163986.0,173991.0,52773.0,23380.0,158320.0,12092.0,32623.0,296088.0,32623.0,16964.0,98950.0,23088.0,28187.0,27706.0,7068.0,325124.0,14289.0,17747.0,46177.0,14680.0,161094.0,16116.0,44302.0,70097.0,52773.0,95064.0,11701.0,32210.0,4176.0,68465.0,4024.0,346807.0,237479.0,8482.0,5198.0,5850.0,12092.0,241651.0,100697.0,16116.0,10505.0,65966.0,16116.0,18160.0,20118.0,20139.0,20139.0,91041.0,39148.0,72563.0,26387.0,69531.0,46825.0,79160.0,30345.0,85756.0,6046.0,6503.0,29404.0,80558.0,79160.0,28187.0,43345.0,461765.0,6851.0,120837.0,3828.0,32623.0,9178.0,10874.0,16964.0,1538905.0,10396.0,92628.0,52773.0,13267.0,43498.0,28165.0,75425.0,39017.0,52773.0,10070.0,50033.0,21769.0,32983.0,24163.0,131654.0,12375.0,59370.0,434977.0,32971.0,74490.0,16964.0,1805.0,56731.0,40279.0,20139.0,260094.0,12092.0,28187.0,9613.0,10831.0,263866.0,16964.0,32515.0,97544.0,7569.0,108375.0,11309.0,13006.0,131933.0,7808.0,86691.0,6046.0,65966.0,13006.0,38713.0,56395.0,52773.0,39580.0,125534.0,39580.0,108375.0,52349.0,78296.0,21662.0,14311.0,12158.0,43498.0,36255.0,118740.0,52023.0,72489.0,10396.0,52306.0,24163.0,326233.0,84581.0,65966.0,72489.0,52773.0,46177.0,65966.0,43498.0,19790.0,92628.0,10874.0,26294.0,42976.0,26387.0,24163.0,2936.0,211093.0,65966.0,13193.0,15832.0,108375.0,30209.0,184706.0,22162.0,15159.0,16492.0,42671.0,19790.0,12701.0,42976.0,8112.0,30340.0,65029.0,1218.0,16986.0,34233.0,17290.0,105546.0,20814.0,7721.0,12071.0,30209.0,8852.0,43498.0,32983.0,46177.0,105546.0,16116.0,26012.0,85756.0,15115.0,15616.0,10831.0,22162.0,216749.0,105546.0,13006.0,131933.0,25185.0,3850.0,92353.0,173991.0,112143.0,29404.0,20139.0,40279.0,39017.0,80558.0,14093.0,46177.0,4567.0,12071.0,39017.0,13724.0,148262.0,16116.0,79160.0,79160.0,38256.0,64442.0,24685.0,60679.0,20139.0,7808.0,10831.0,29025.0,86995.0,65966.0,5611.0,20814.0,22619.0,105546.0,32515.0,91041.0,32983.0,65966.0,8417.0,65029.0,26099.0,28187.0,24989.0,46177.0,100697.0,39580.0,54176.0,140954.0,14093.0,131933.0,25185.0,65247.0,32983.0,80558.0,10831.0,48638.0,13049.0,13006.0,10352.0,29685.0,80471.0,29685.0,20074.0,143542.0,7917.0,46177.0,5002.0,20814.0,26099.0,76121.0,216749.0,28274.0,400548.0,13158.0,59370.0,92353.0,158320.0,3893.0,28165.0,85756.0,15420.0,14463.0,79166.0,184706.0,59370.0,52773.0,140954.0,21858.0,9243.0,46177.0,14550.0,158320.0,85756.0,7808.0,19790.0,281778.0,18204.0,32210.0,75860.0,22162.0,13049.0,16116.0,52773.0,6525.0,152242.0,42976.0,7808.0,39580.0,28492.0,28187.0,43367.0,92353.0,16964.0,140954.0,65966.0,797726.0,10831.0,7351.0,21031.0,60418.0,52773.0,86995.0,120837.0,16964.0,7895.0,15268.0,28056.0,31775.0,48326.0,42219.0,52023.0,6046.0,92628.0,9722.0,10070.0,16703.0,118740.0,158320.0,15746.0,88431.0,26012.0,32983.0,25511.0,118740.0,75860.0,33819.0,131933.0,32623.0,24163.0,56395.0,12071.0,12092.0,34776.0,38387.0,74577.0,43498.0,32324.0,46177.0,11849.0,67508.0,12092.0,28274.0,52773.0,36941.0,12092.0,108375.0,44302.0,12527.0,54473.0,10287.0,8047.0,11592.0,44890.0,20139.0,6525.0,3241.0,39580.0,95412.0,59370.0,39974.0,186605.0,19944.0,2639.0,19813.0,12092.0,19509.0,7221.0,43498.0,4328.0,18639.0,64507.0,131933.0,48326.0,65966.0,18117.0,36941.0,6438.0,32210.0,72489.0,10396.0,32983.0,19574.0,86995.0,85756.0,16529.0,46177.0,65029.0,39580.0,26186.0,19790.0,10831.0,5198.0,24163.0,32623.0,85756.0,131933.0,434977.0,32210.0,20118.0,131933.0,21749.0,65029.0,86995.0,92353.0,3219.0,240220.0,25316.0,65247.0],\"xaxis\":\"x\",\"y\":[27522.663507547033,100723.81831437646,22844.85807378751,55596.2829044019,19381.547309401336,17804.37334863982,2143.4947607691984,250042.90923208816,7575.203503916284,125465.22669184335,5838.484141735504,8700.121962053074,11373.643207009682,75275.17236014392,33891.64285060793,33388.66858218436,45045.98310188608,14701.272213607775,37620.49756753476,34400.79203441353,16962.08902463371,92512.06825346944,39656.430046147834,19294.864205788763,7771.687933055824,27903.667775733044,47004.10161998809,53715.53695329246,16480.596533518183,39574.49973181217,11253.308239650538,9596.981349385444,20851.95312725787,403766.4742350197,26801.284189680617,11049.954856815275,19958.80022603676,155189.3499796802,26081.306994512317,13848.45908708882,38803.20479649516,28881.14570316078,41878.31638170378,235006.44548045966,27087.976035301897,34214.202647282465,97442.56632940026,42257.38622182209,33575.15286900891,25557.388754920376,28657.122796152562,8199.049861401869,24815.468160970253,17853.66214792647,14327.486238345842,9810.691064395045,34762.526379238865,26911.56130316141,226822.05589220987,2469.9276830478257,13156.371279894383,90119.87959244204,43230.85122649814,51663.087796318345,10429.391677374031,205272.7640910881,19750.177446362763,42103.17399465524,62749.158395290506,28909.22789567002,73824.13521197959,138084.14762178235,11036.162884808557,8538.700257279026,8274.06781654198,45803.05494602685,12583.437423181756,16939.919190563895,33103.02364551706,26048.772381702016,45201.91158659628,59355.87084685006,12577.494051777494,33865.377684969026,24182.14091682891,124731.80532098438,18356.208781133722,96095.49630138786,71109.9848474666,94833.88605331173,90680.82168515735,36411.396064096894,19511.33874064271,15170.066683321313,50723.660073111554,23841.705430895592,57939.30414457197,22436.548737194324,56009.760439182755,40184.36281542566,20911.87984544579,25150.232626110625,12775.77458810111,18247.69880596785,12043.713490132794,32212.64059396306,69127.1211509945,97465.14473877937,21007.983674434035,58358.27243794073,55229.70168911722,85502.92516481274,2770.921530299539,24788.037826989086,22519.84902956689,40174.23294233174,32391.69247176814,33731.635132149866,201495.23272972848,18384.70065286141,36400.64757121589,17246.890714741632,45427.923916543834,68506.72831060918,11973.234591684213,130197.27908055283,9747.928736859238,40873.87652040894,20313.3970366855,28264.71139392403,10622.859521216413,11494.85060721721,40163.0141137009,53062.29526448687,64141.014520709534,412250.66025224724,20127.51588927609,30026.107750048526,13475.918680958303,72172.10605023686,110184.60367604092,33615.27476624469,67280.43505025878,16876.336074621922,10133.787315614887,23352.554276394803,18306.699646586974,29903.681683638,20273.22672380825,20352.698174041336,14795.277747720307,361882.60148365464,13271.61831203988,63092.704336919014,21519.835429732462,44329.79705260778,23397.4659540728,28260.812953745208,21342.572720414064,9410.337379781253,13329.97071018639,42826.01132513632,12853.867872561195,14822.13159198977,80524.04979123284,73622.07114292821,11884.298333112969,17532.47993711739,21723.13613980754,14057.844188746025,14087.952560408321,9363.179759306595,142789.03414294936,29271.669166527303,41948.99961345976,15760.8744802041,6180.995368156031,31808.143682963084,37068.0692911861,78898.92996164827,93516.68842699248,30701.01903333326,41642.079355369315,43498.04963110427,29842.86393781385,30941.845733030364,13310.276753135822,48587.981256241015,50041.847807250975,48888.22036246552,23385.211266791477,41272.41083615826,59394.50569516784,14848.103757847779,7861.110693058521,32894.64518142392,216177.1092013886,8944.573328791563,78884.37159404627,11669.078219757866,41648.02147878171,116059.60028723846,28001.592471065218,35308.282230901794,57014.40229887357,15886.801316551528,20648.54071349768,358446.39190309425,64478.3472667092,33081.83094154992,41999.28519754127,10734.584092440833,8836.967444538117,48784.01258303417,9979.564862119747,146440.68819536967,19491.985820908863,33306.26654284017,45351.019622272084,17887.018739331448,106072.85418546078,14183.967422367432,30120.631125236887,50501.73811598834,35294.40543053198,49137.35215539796,12609.509514269608,24187.7246960028,9709.992431962568,36744.352972132656,6154.993305558523,301904.28634237073,157365.2225269851,14068.02837376605,44651.11463553986,11592.25244391128,31584.577086705176,56543.170599924415,45206.15847875559,11923.001563032238,19485.600468454886,38035.032576043704,21158.129102402312,20133.455795599453,42611.57062988475,13640.663111723985,25674.199950799768,39259.64069420961,34693.273677795405,27276.342391934082,13967.795908596156,67264.78397762601,39430.74855423388,52787.016539800825,19447.547162100826,150271.35841345435,16393.483316821133,25001.90184081816,44636.35596240629,36414.419522793745,49333.100776712774,8100.645496182865,37570.36400395087,225008.42246414535,13834.720736078514,78632.38528183846,10451.740344752947,56234.25931287139,13178.94269142213,44035.48299412443,18933.296812677476,602348.4127732349,26023.69197802158,38417.88640383435,69009.37254559693,9948.93920519286,38633.87546192453,16597.736111814014,74868.81744585867,32399.211986507635,28144.048826848826,23940.17450578018,48203.54642050821,20431.22205682144,13669.931117868393,55011.726066855575,116440.15232753709,22350.56703192316,36220.69146028074,43058.935060529446,30394.322544438826,65123.17943281845,37945.89060394383,6245.199429341572,31207.977818164163,25151.791718304994,19894.762272788317,139124.83636894647,17889.53551370328,21451.9474212798,16789.889337638575,10263.280396120215,112207.51694779235,42880.826219824376,24634.215438204035,56845.39158954369,10057.485964949556,39729.179015368645,10468.103628499684,21342.731124180937,58489.86862778952,17562.979930091467,52228.97669434291,12118.673068329183,19117.537496740464,14990.60684839158,57904.7797335555,22828.585161922034,30649.798848045833,27967.03785521412,84473.04676039296,31435.23011085534,100743.94827666263,37948.16485810839,28187.5463670205,22572.28476491653,24853.17548134724,11218.621980116459,73451.75557091743,54312.036418837,66132.86972221201,93018.30880919294,51647.17184010528,14843.323712849813,31042.859734600068,26152.964468327962,89702.97417532929,38454.5390420056,22795.060891699675,94302.20422702254,22971.50702450217,40269.6016078525,24190.98585394201,46113.8190788974,11140.07898063452,42430.97151328881,13463.401749197112,29871.143857418745,34106.594128328186,22793.916428515244,28619.564629621877,11568.385289417187,175678.40817448037,30527.049905668217,17071.857547358148,21249.8105286342,50461.98743335105,18726.76777151257,153991.16418974276,22878.23960569278,8812.272198924187,27880.33951447194,41386.23403236427,14581.276029075623,11130.725276597634,30417.507146058495,15761.27367407866,9738.849199709963,51711.50930500311,5060.810642877089,27686.086126147857,17250.423461407314,22579.985000185512,117935.10935851355,16048.588749887847,29109.693750300212,25987.182658090293,44168.55231724441,19457.709054825762,18040.844227258036,7180.760063424486,32737.958637167714,75526.06479617622,22323.95150302776,12024.585685775484,35522.02479237773,15527.231915210585,23676.951635238474,16258.830073286925,42627.5626185569,64930.008818187096,42784.87397788343,14771.884847260764,72370.44866185245,31170.66087801715,4675.510261953423,49710.94353223637,92373.84094213476,115239.36913105256,33389.787509834656,12596.335848884142,11596.596770101552,15020.217982589837,41532.1128408494,15829.786132210913,51601.462743441254,11059.98795952828,12487.612310824808,9154.656394380085,21774.177412595873,21483.809730079487,16320.490299973775,61041.24863111679,13602.855057224551,31053.584309160407,44933.16961840559,45189.14061774671,109977.74944751435,23069.71106157321,11844.01668382109,12369.78871473536,28751.939582536204,40108.16322843332,20320.93299189467,7611.690642503439,29625.004361839015,21400.341601613523,51693.28977685711,52123.99133443493,112047.37364794058,21586.27949121021,50280.64848426463,12124.78309065164,74857.51243305512,24077.76286963724,43142.3903315339,40103.08495972207,7428.2462928333825,44494.530950890374,13079.952058350755,73556.45082144966,75415.92407128031,20666.980204024145,106087.55763809563,25375.833150690843,69676.0925647708,22799.879837510383,63164.23698419182,31555.409718914078,83946.4089093866,5720.517887011672,22532.102510557335,22534.093883707617,26632.895335603775,40587.94282874048,33087.01273090951,23567.507356657967,75740.64054162994,13332.71713601286,23414.321665347234,10016.281142149548,26619.059356351085,13212.562975479375,55663.94257968644,128366.42069491075,27006.943467498175,155172.99354803696,15598.354178771588,35022.39345078208,66345.7953355211,144907.57118067108,16240.153534915034,10195.617998117983,77451.97036411797,29836.887071225392,8171.709181266635,41694.57626723902,146044.48235749596,43639.36018895703,26475.561894972565,49649.64529081287,21216.8131932807,25212.03632351534,26928.981709766133,27390.94552951873,133138.2704905435,58844.224837172376,8982.18550313648,23668.29900235489,162423.26725947284,11424.624330713192,44895.45515278941,83218.50580006232,16263.706841522404,13934.228448868957,10923.231184980597,20289.44249148424,8178.305795493449,126022.61330968629,72563.68531082994,15750.847668640068,29469.598550505412,10978.74286063186,19570.763998165618,27404.400287247227,29281.458054207425,18020.236773668017,75133.95619340411,35821.731502457435,449565.686588266,22841.101200563397,6638.469843560344,73399.36561055353,34591.74170311243,22582.788981312253,43577.333739970825,112698.50730519457,27951.337956823056,15545.469869307519,18356.232211976312,42681.31157571793,11863.366097975271,76080.03404117018,24614.394553150312,35613.4935624181,11298.066774888228,108307.06755261373,18993.876418441123,17882.23227642176,20397.365213163117,75294.26926250718,79783.5431688879,47175.79914418518,66720.96382045894,37219.03504878131,10680.818331262224,42838.862563020186,104784.38722954693,29012.1686532821,47914.98386116779,194166.2343653261,32503.316993944954,39429.977443508746,20031.2575191489,9532.68570152563,8000.099387462194,7326.458866764106,51276.181351604435,66004.2605737955,41705.45098909795,21858.23026426186,96482.48077072894,26877.476930740315,121505.21560899807,13006.520789273622,22540.786163952987,15301.77511616169,28839.57612646989,14226.597202257626,10853.926844335001,52011.31617045368,12800.973526065765,31691.15864822353,16908.987162301233,9163.235033373308,19761.578113550295,9676.282568566658,41821.92349872911,30396.846571521335,6001.984333578315,22296.14142772924,85512.36450551488,90520.02248727827,22997.463852731067,155686.9739509504,27441.028300131056,17256.349165021013,15093.654398687026,15086.275948213384,51296.29739194885,9927.86275015469,27639.806204963046,11919.228689565149,56250.326118301964,44794.479016982834,185586.183685288,37762.18637342605,41840.50495619474,32957.41238277358,43592.265033464915,7137.488018410969,15636.281464700409,41565.09033128184,18179.37391703526,13408.316160448194,26504.997738210022,50956.27151958179,56241.437267045214,26563.80154512889,36855.00866254764,46280.76441934162,30396.18627778949,20732.448982305465,18839.371069848446,21932.506827789584,7200.083256393804,27509.527129819642,12634.399845789841,60648.39005610765,108217.4004140933,160849.17828474156,34525.1811420198,22465.7079831258,59289.42125833105,45532.24810553724,76793.17873406863,13281.59645463451,36053.124587648665,9726.966689525709,179333.07213138274,20623.393343462154,31606.52673101243],\"yaxis\":\"y\",\"type\":\"scattergl\"},{\"hovertemplate\":\"variable=wide_variable_1<br>x=%{x}<br>value=%{y}<extra></extra>\",\"legendgroup\":\"wide_variable_1\",\"marker\":{\"color\":\"#EF553B\",\"symbol\":\"circle\"},\"mode\":\"markers\",\"name\":\"wide_variable_1\",\"showlegend\":true,\"x\":[75577.0,105546.0,21684.0,39580.0,16116.0,7808.0,1403.0,238433.0,2849.0,43824.0,1087.0,28165.0,3958.0,171513.0,17399.0,17334.0,50135.0,10396.0,65966.0,46177.0,19509.0,80275.0,46177.0,96652.0,9852.0,24408.0,85756.0,60353.0,26186.0,39580.0,21684.0,9722.0,15985.0,607706.0,9895.0,13550.0,36941.0,145126.0,32623.0,40235.0,80558.0,65247.0,65029.0,303624.0,9374.0,17760.0,44302.0,65029.0,43498.0,14093.0,28187.0,9613.0,10396.0,9265.0,1979.0,12092.0,65966.0,42976.0,434977.0,2034.0,16986.0,59370.0,59218.0,43498.0,5089.0,195740.0,14093.0,49152.0,80558.0,59370.0,118740.0,346785.0,10439.0,3893.0,5089.0,30818.0,8047.0,10396.0,46177.0,36941.0,39148.0,78035.0,11701.0,14093.0,16964.0,216749.0,32515.0,145126.0,120837.0,59370.0,43324.0,36255.0,16964.0,9613.0,181233.0,12092.0,60418.0,28578.0,43589.0,65966.0,14137.0,14028.0,13006.0,131933.0,30345.0,17660.0,54372.0,106635.0,32623.0,7786.0,54176.0,92353.0,7938.0,85756.0,80558.0,96695.0,46177.0,24163.0,145126.0,19030.0,43498.0,15224.0,18247.0,60418.0,9613.0,276145.0,18813.0,151723.0,17334.0,52773.0,16094.0,11331.0,44259.0,92353.0,31210.0,281930.0,18204.0,92353.0,5277.0,40279.0,131933.0,65029.0,60418.0,100697.0,10070.0,43498.0,8047.0,20139.0,30209.0,20379.0,27708.0,303624.0,12092.0,64464.0,32210.0,100697.0,32210.0,18117.0,22619.0,17573.0,8917.0,46999.0,19790.0,92353.0,105546.0,93303.0,6307.0,29025.0,14311.0,11679.0,12255.0,10070.0,263866.0,38017.0,120837.0,17443.0,33515.0,20139.0,24163.0,120837.0,105546.0,49413.0,72563.0,72563.0,43345.0,73882.0,6046.0,23837.0,39148.0,72563.0,42976.0,108744.0,79160.0,11309.0,8047.0,42878.0,263866.0,10070.0,76164.0,14093.0,163986.0,173991.0,52773.0,23380.0,158320.0,12092.0,32623.0,296088.0,32623.0,16964.0,98950.0,23088.0,28187.0,27706.0,7068.0,325124.0,14289.0,17747.0,46177.0,14680.0,161094.0,16116.0,44302.0,70097.0,52773.0,95064.0,11701.0,32210.0,4176.0,68465.0,4024.0,346807.0,237479.0,8482.0,5198.0,5850.0,12092.0,241651.0,100697.0,16116.0,10505.0,65966.0,16116.0,18160.0,20118.0,20139.0,20139.0,91041.0,39148.0,72563.0,26387.0,69531.0,46825.0,79160.0,30345.0,85756.0,6046.0,6503.0,29404.0,80558.0,79160.0,28187.0,43345.0,461765.0,6851.0,120837.0,3828.0,32623.0,9178.0,10874.0,16964.0,1538905.0,10396.0,92628.0,52773.0,13267.0,43498.0,28165.0,75425.0,39017.0,52773.0,10070.0,50033.0,21769.0,32983.0,24163.0,131654.0,12375.0,59370.0,434977.0,32971.0,74490.0,16964.0,1805.0,56731.0,40279.0,20139.0,260094.0,12092.0,28187.0,9613.0,10831.0,263866.0,16964.0,32515.0,97544.0,7569.0,108375.0,11309.0,13006.0,131933.0,7808.0,86691.0,6046.0,65966.0,13006.0,38713.0,56395.0,52773.0,39580.0,125534.0,39580.0,108375.0,52349.0,78296.0,21662.0,14311.0,12158.0,43498.0,36255.0,118740.0,52023.0,72489.0,10396.0,52306.0,24163.0,326233.0,84581.0,65966.0,72489.0,52773.0,46177.0,65966.0,43498.0,19790.0,92628.0,10874.0,26294.0,42976.0,26387.0,24163.0,2936.0,211093.0,65966.0,13193.0,15832.0,108375.0,30209.0,184706.0,22162.0,15159.0,16492.0,42671.0,19790.0,12701.0,42976.0,8112.0,30340.0,65029.0,1218.0,16986.0,34233.0,17290.0,105546.0,20814.0,7721.0,12071.0,30209.0,8852.0,43498.0,32983.0,46177.0,105546.0,16116.0,26012.0,85756.0,15115.0,15616.0,10831.0,22162.0,216749.0,105546.0,13006.0,131933.0,25185.0,3850.0,92353.0,173991.0,112143.0,29404.0,20139.0,40279.0,39017.0,80558.0,14093.0,46177.0,4567.0,12071.0,39017.0,13724.0,148262.0,16116.0,79160.0,79160.0,38256.0,64442.0,24685.0,60679.0,20139.0,7808.0,10831.0,29025.0,86995.0,65966.0,5611.0,20814.0,22619.0,105546.0,32515.0,91041.0,32983.0,65966.0,8417.0,65029.0,26099.0,28187.0,24989.0,46177.0,100697.0,39580.0,54176.0,140954.0,14093.0,131933.0,25185.0,65247.0,32983.0,80558.0,10831.0,48638.0,13049.0,13006.0,10352.0,29685.0,80471.0,29685.0,20074.0,143542.0,7917.0,46177.0,5002.0,20814.0,26099.0,76121.0,216749.0,28274.0,400548.0,13158.0,59370.0,92353.0,158320.0,3893.0,28165.0,85756.0,15420.0,14463.0,79166.0,184706.0,59370.0,52773.0,140954.0,21858.0,9243.0,46177.0,14550.0,158320.0,85756.0,7808.0,19790.0,281778.0,18204.0,32210.0,75860.0,22162.0,13049.0,16116.0,52773.0,6525.0,152242.0,42976.0,7808.0,39580.0,28492.0,28187.0,43367.0,92353.0,16964.0,140954.0,65966.0,797726.0,10831.0,7351.0,21031.0,60418.0,52773.0,86995.0,120837.0,16964.0,7895.0,15268.0,28056.0,31775.0,48326.0,42219.0,52023.0,6046.0,92628.0,9722.0,10070.0,16703.0,118740.0,158320.0,15746.0,88431.0,26012.0,32983.0,25511.0,118740.0,75860.0,33819.0,131933.0,32623.0,24163.0,56395.0,12071.0,12092.0,34776.0,38387.0,74577.0,43498.0,32324.0,46177.0,11849.0,67508.0,12092.0,28274.0,52773.0,36941.0,12092.0,108375.0,44302.0,12527.0,54473.0,10287.0,8047.0,11592.0,44890.0,20139.0,6525.0,3241.0,39580.0,95412.0,59370.0,39974.0,186605.0,19944.0,2639.0,19813.0,12092.0,19509.0,7221.0,43498.0,4328.0,18639.0,64507.0,131933.0,48326.0,65966.0,18117.0,36941.0,6438.0,32210.0,72489.0,10396.0,32983.0,19574.0,86995.0,85756.0,16529.0,46177.0,65029.0,39580.0,26186.0,19790.0,10831.0,5198.0,24163.0,32623.0,85756.0,131933.0,434977.0,32210.0,20118.0,131933.0,21749.0,65029.0,86995.0,92353.0,3219.0,240220.0,25316.0,65247.0],\"xaxis\":\"x\",\"y\":[75577.0,105546.0,21684.0,39580.0,16116.0,7808.0,1403.0,238433.0,2849.0,43824.0,1087.0,28165.0,3958.0,171513.0,17399.0,17334.0,50135.0,10396.0,65966.0,46177.0,19509.0,80275.0,46177.0,96652.0,9852.0,24408.0,85756.0,60353.0,26186.0,39580.0,21684.0,9722.0,15985.0,607706.0,9895.0,13550.0,36941.0,145126.0,32623.0,40235.0,80558.0,65247.0,65029.0,303624.0,9374.0,17760.0,44302.0,65029.0,43498.0,14093.0,28187.0,9613.0,10396.0,9265.0,1979.0,12092.0,65966.0,42976.0,434977.0,2034.0,16986.0,59370.0,59218.0,43498.0,5089.0,195740.0,14093.0,49152.0,80558.0,59370.0,118740.0,346785.0,10439.0,3893.0,5089.0,30818.0,8047.0,10396.0,46177.0,36941.0,39148.0,78035.0,11701.0,14093.0,16964.0,216749.0,32515.0,145126.0,120837.0,59370.0,43324.0,36255.0,16964.0,9613.0,181233.0,12092.0,60418.0,28578.0,43589.0,65966.0,14137.0,14028.0,13006.0,131933.0,30345.0,17660.0,54372.0,106635.0,32623.0,7786.0,54176.0,92353.0,7938.0,85756.0,80558.0,96695.0,46177.0,24163.0,145126.0,19030.0,43498.0,15224.0,18247.0,60418.0,9613.0,276145.0,18813.0,151723.0,17334.0,52773.0,16094.0,11331.0,44259.0,92353.0,31210.0,281930.0,18204.0,92353.0,5277.0,40279.0,131933.0,65029.0,60418.0,100697.0,10070.0,43498.0,8047.0,20139.0,30209.0,20379.0,27708.0,303624.0,12092.0,64464.0,32210.0,100697.0,32210.0,18117.0,22619.0,17573.0,8917.0,46999.0,19790.0,92353.0,105546.0,93303.0,6307.0,29025.0,14311.0,11679.0,12255.0,10070.0,263866.0,38017.0,120837.0,17443.0,33515.0,20139.0,24163.0,120837.0,105546.0,49413.0,72563.0,72563.0,43345.0,73882.0,6046.0,23837.0,39148.0,72563.0,42976.0,108744.0,79160.0,11309.0,8047.0,42878.0,263866.0,10070.0,76164.0,14093.0,163986.0,173991.0,52773.0,23380.0,158320.0,12092.0,32623.0,296088.0,32623.0,16964.0,98950.0,23088.0,28187.0,27706.0,7068.0,325124.0,14289.0,17747.0,46177.0,14680.0,161094.0,16116.0,44302.0,70097.0,52773.0,95064.0,11701.0,32210.0,4176.0,68465.0,4024.0,346807.0,237479.0,8482.0,5198.0,5850.0,12092.0,241651.0,100697.0,16116.0,10505.0,65966.0,16116.0,18160.0,20118.0,20139.0,20139.0,91041.0,39148.0,72563.0,26387.0,69531.0,46825.0,79160.0,30345.0,85756.0,6046.0,6503.0,29404.0,80558.0,79160.0,28187.0,43345.0,461765.0,6851.0,120837.0,3828.0,32623.0,9178.0,10874.0,16964.0,1538905.0,10396.0,92628.0,52773.0,13267.0,43498.0,28165.0,75425.0,39017.0,52773.0,10070.0,50033.0,21769.0,32983.0,24163.0,131654.0,12375.0,59370.0,434977.0,32971.0,74490.0,16964.0,1805.0,56731.0,40279.0,20139.0,260094.0,12092.0,28187.0,9613.0,10831.0,263866.0,16964.0,32515.0,97544.0,7569.0,108375.0,11309.0,13006.0,131933.0,7808.0,86691.0,6046.0,65966.0,13006.0,38713.0,56395.0,52773.0,39580.0,125534.0,39580.0,108375.0,52349.0,78296.0,21662.0,14311.0,12158.0,43498.0,36255.0,118740.0,52023.0,72489.0,10396.0,52306.0,24163.0,326233.0,84581.0,65966.0,72489.0,52773.0,46177.0,65966.0,43498.0,19790.0,92628.0,10874.0,26294.0,42976.0,26387.0,24163.0,2936.0,211093.0,65966.0,13193.0,15832.0,108375.0,30209.0,184706.0,22162.0,15159.0,16492.0,42671.0,19790.0,12701.0,42976.0,8112.0,30340.0,65029.0,1218.0,16986.0,34233.0,17290.0,105546.0,20814.0,7721.0,12071.0,30209.0,8852.0,43498.0,32983.0,46177.0,105546.0,16116.0,26012.0,85756.0,15115.0,15616.0,10831.0,22162.0,216749.0,105546.0,13006.0,131933.0,25185.0,3850.0,92353.0,173991.0,112143.0,29404.0,20139.0,40279.0,39017.0,80558.0,14093.0,46177.0,4567.0,12071.0,39017.0,13724.0,148262.0,16116.0,79160.0,79160.0,38256.0,64442.0,24685.0,60679.0,20139.0,7808.0,10831.0,29025.0,86995.0,65966.0,5611.0,20814.0,22619.0,105546.0,32515.0,91041.0,32983.0,65966.0,8417.0,65029.0,26099.0,28187.0,24989.0,46177.0,100697.0,39580.0,54176.0,140954.0,14093.0,131933.0,25185.0,65247.0,32983.0,80558.0,10831.0,48638.0,13049.0,13006.0,10352.0,29685.0,80471.0,29685.0,20074.0,143542.0,7917.0,46177.0,5002.0,20814.0,26099.0,76121.0,216749.0,28274.0,400548.0,13158.0,59370.0,92353.0,158320.0,3893.0,28165.0,85756.0,15420.0,14463.0,79166.0,184706.0,59370.0,52773.0,140954.0,21858.0,9243.0,46177.0,14550.0,158320.0,85756.0,7808.0,19790.0,281778.0,18204.0,32210.0,75860.0,22162.0,13049.0,16116.0,52773.0,6525.0,152242.0,42976.0,7808.0,39580.0,28492.0,28187.0,43367.0,92353.0,16964.0,140954.0,65966.0,797726.0,10831.0,7351.0,21031.0,60418.0,52773.0,86995.0,120837.0,16964.0,7895.0,15268.0,28056.0,31775.0,48326.0,42219.0,52023.0,6046.0,92628.0,9722.0,10070.0,16703.0,118740.0,158320.0,15746.0,88431.0,26012.0,32983.0,25511.0,118740.0,75860.0,33819.0,131933.0,32623.0,24163.0,56395.0,12071.0,12092.0,34776.0,38387.0,74577.0,43498.0,32324.0,46177.0,11849.0,67508.0,12092.0,28274.0,52773.0,36941.0,12092.0,108375.0,44302.0,12527.0,54473.0,10287.0,8047.0,11592.0,44890.0,20139.0,6525.0,3241.0,39580.0,95412.0,59370.0,39974.0,186605.0,19944.0,2639.0,19813.0,12092.0,19509.0,7221.0,43498.0,4328.0,18639.0,64507.0,131933.0,48326.0,65966.0,18117.0,36941.0,6438.0,32210.0,72489.0,10396.0,32983.0,19574.0,86995.0,85756.0,16529.0,46177.0,65029.0,39580.0,26186.0,19790.0,10831.0,5198.0,24163.0,32623.0,85756.0,131933.0,434977.0,32210.0,20118.0,131933.0,21749.0,65029.0,86995.0,92353.0,3219.0,240220.0,25316.0,65247.0],\"yaxis\":\"y\",\"type\":\"scattergl\"}],                        {\"template\":{\"data\":{\"histogram2dcontour\":[{\"type\":\"histogram2dcontour\",\"colorbar\":{\"outlinewidth\":0,\"ticks\":\"\"},\"colorscale\":[[0.0,\"#0d0887\"],[0.1111111111111111,\"#46039f\"],[0.2222222222222222,\"#7201a8\"],[0.3333333333333333,\"#9c179e\"],[0.4444444444444444,\"#bd3786\"],[0.5555555555555556,\"#d8576b\"],[0.6666666666666666,\"#ed7953\"],[0.7777777777777778,\"#fb9f3a\"],[0.8888888888888888,\"#fdca26\"],[1.0,\"#f0f921\"]]}],\"choropleth\":[{\"type\":\"choropleth\",\"colorbar\":{\"outlinewidth\":0,\"ticks\":\"\"}}],\"histogram2d\":[{\"type\":\"histogram2d\",\"colorbar\":{\"outlinewidth\":0,\"ticks\":\"\"},\"colorscale\":[[0.0,\"#0d0887\"],[0.1111111111111111,\"#46039f\"],[0.2222222222222222,\"#7201a8\"],[0.3333333333333333,\"#9c179e\"],[0.4444444444444444,\"#bd3786\"],[0.5555555555555556,\"#d8576b\"],[0.6666666666666666,\"#ed7953\"],[0.7777777777777778,\"#fb9f3a\"],[0.8888888888888888,\"#fdca26\"],[1.0,\"#f0f921\"]]}],\"heatmap\":[{\"type\":\"heatmap\",\"colorbar\":{\"outlinewidth\":0,\"ticks\":\"\"},\"colorscale\":[[0.0,\"#0d0887\"],[0.1111111111111111,\"#46039f\"],[0.2222222222222222,\"#7201a8\"],[0.3333333333333333,\"#9c179e\"],[0.4444444444444444,\"#bd3786\"],[0.5555555555555556,\"#d8576b\"],[0.6666666666666666,\"#ed7953\"],[0.7777777777777778,\"#fb9f3a\"],[0.8888888888888888,\"#fdca26\"],[1.0,\"#f0f921\"]]}],\"heatmapgl\":[{\"type\":\"heatmapgl\",\"colorbar\":{\"outlinewidth\":0,\"ticks\":\"\"},\"colorscale\":[[0.0,\"#0d0887\"],[0.1111111111111111,\"#46039f\"],[0.2222222222222222,\"#7201a8\"],[0.3333333333333333,\"#9c179e\"],[0.4444444444444444,\"#bd3786\"],[0.5555555555555556,\"#d8576b\"],[0.6666666666666666,\"#ed7953\"],[0.7777777777777778,\"#fb9f3a\"],[0.8888888888888888,\"#fdca26\"],[1.0,\"#f0f921\"]]}],\"contourcarpet\":[{\"type\":\"contourcarpet\",\"colorbar\":{\"outlinewidth\":0,\"ticks\":\"\"}}],\"contour\":[{\"type\":\"contour\",\"colorbar\":{\"outlinewidth\":0,\"ticks\":\"\"},\"colorscale\":[[0.0,\"#0d0887\"],[0.1111111111111111,\"#46039f\"],[0.2222222222222222,\"#7201a8\"],[0.3333333333333333,\"#9c179e\"],[0.4444444444444444,\"#bd3786\"],[0.5555555555555556,\"#d8576b\"],[0.6666666666666666,\"#ed7953\"],[0.7777777777777778,\"#fb9f3a\"],[0.8888888888888888,\"#fdca26\"],[1.0,\"#f0f921\"]]}],\"surface\":[{\"type\":\"surface\",\"colorbar\":{\"outlinewidth\":0,\"ticks\":\"\"},\"colorscale\":[[0.0,\"#0d0887\"],[0.1111111111111111,\"#46039f\"],[0.2222222222222222,\"#7201a8\"],[0.3333333333333333,\"#9c179e\"],[0.4444444444444444,\"#bd3786\"],[0.5555555555555556,\"#d8576b\"],[0.6666666666666666,\"#ed7953\"],[0.7777777777777778,\"#fb9f3a\"],[0.8888888888888888,\"#fdca26\"],[1.0,\"#f0f921\"]]}],\"mesh3d\":[{\"type\":\"mesh3d\",\"colorbar\":{\"outlinewidth\":0,\"ticks\":\"\"}}],\"scatter\":[{\"fillpattern\":{\"fillmode\":\"overlay\",\"size\":10,\"solidity\":0.2},\"type\":\"scatter\"}],\"parcoords\":[{\"type\":\"parcoords\",\"line\":{\"colorbar\":{\"outlinewidth\":0,\"ticks\":\"\"}}}],\"scatterpolargl\":[{\"type\":\"scatterpolargl\",\"marker\":{\"colorbar\":{\"outlinewidth\":0,\"ticks\":\"\"}}}],\"bar\":[{\"error_x\":{\"color\":\"#2a3f5f\"},\"error_y\":{\"color\":\"#2a3f5f\"},\"marker\":{\"line\":{\"color\":\"#E5ECF6\",\"width\":0.5},\"pattern\":{\"fillmode\":\"overlay\",\"size\":10,\"solidity\":0.2}},\"type\":\"bar\"}],\"scattergeo\":[{\"type\":\"scattergeo\",\"marker\":{\"colorbar\":{\"outlinewidth\":0,\"ticks\":\"\"}}}],\"scatterpolar\":[{\"type\":\"scatterpolar\",\"marker\":{\"colorbar\":{\"outlinewidth\":0,\"ticks\":\"\"}}}],\"histogram\":[{\"marker\":{\"pattern\":{\"fillmode\":\"overlay\",\"size\":10,\"solidity\":0.2}},\"type\":\"histogram\"}],\"scattergl\":[{\"type\":\"scattergl\",\"marker\":{\"colorbar\":{\"outlinewidth\":0,\"ticks\":\"\"}}}],\"scatter3d\":[{\"type\":\"scatter3d\",\"line\":{\"colorbar\":{\"outlinewidth\":0,\"ticks\":\"\"}},\"marker\":{\"colorbar\":{\"outlinewidth\":0,\"ticks\":\"\"}}}],\"scattermapbox\":[{\"type\":\"scattermapbox\",\"marker\":{\"colorbar\":{\"outlinewidth\":0,\"ticks\":\"\"}}}],\"scatterternary\":[{\"type\":\"scatterternary\",\"marker\":{\"colorbar\":{\"outlinewidth\":0,\"ticks\":\"\"}}}],\"scattercarpet\":[{\"type\":\"scattercarpet\",\"marker\":{\"colorbar\":{\"outlinewidth\":0,\"ticks\":\"\"}}}],\"carpet\":[{\"aaxis\":{\"endlinecolor\":\"#2a3f5f\",\"gridcolor\":\"white\",\"linecolor\":\"white\",\"minorgridcolor\":\"white\",\"startlinecolor\":\"#2a3f5f\"},\"baxis\":{\"endlinecolor\":\"#2a3f5f\",\"gridcolor\":\"white\",\"linecolor\":\"white\",\"minorgridcolor\":\"white\",\"startlinecolor\":\"#2a3f5f\"},\"type\":\"carpet\"}],\"table\":[{\"cells\":{\"fill\":{\"color\":\"#EBF0F8\"},\"line\":{\"color\":\"white\"}},\"header\":{\"fill\":{\"color\":\"#C8D4E3\"},\"line\":{\"color\":\"white\"}},\"type\":\"table\"}],\"barpolar\":[{\"marker\":{\"line\":{\"color\":\"#E5ECF6\",\"width\":0.5},\"pattern\":{\"fillmode\":\"overlay\",\"size\":10,\"solidity\":0.2}},\"type\":\"barpolar\"}],\"pie\":[{\"automargin\":true,\"type\":\"pie\"}]},\"layout\":{\"autotypenumbers\":\"strict\",\"colorway\":[\"#636efa\",\"#EF553B\",\"#00cc96\",\"#ab63fa\",\"#FFA15A\",\"#19d3f3\",\"#FF6692\",\"#B6E880\",\"#FF97FF\",\"#FECB52\"],\"font\":{\"color\":\"#2a3f5f\"},\"hovermode\":\"closest\",\"hoverlabel\":{\"align\":\"left\"},\"paper_bgcolor\":\"white\",\"plot_bgcolor\":\"#E5ECF6\",\"polar\":{\"bgcolor\":\"#E5ECF6\",\"angularaxis\":{\"gridcolor\":\"white\",\"linecolor\":\"white\",\"ticks\":\"\"},\"radialaxis\":{\"gridcolor\":\"white\",\"linecolor\":\"white\",\"ticks\":\"\"}},\"ternary\":{\"bgcolor\":\"#E5ECF6\",\"aaxis\":{\"gridcolor\":\"white\",\"linecolor\":\"white\",\"ticks\":\"\"},\"baxis\":{\"gridcolor\":\"white\",\"linecolor\":\"white\",\"ticks\":\"\"},\"caxis\":{\"gridcolor\":\"white\",\"linecolor\":\"white\",\"ticks\":\"\"}},\"coloraxis\":{\"colorbar\":{\"outlinewidth\":0,\"ticks\":\"\"}},\"colorscale\":{\"sequential\":[[0.0,\"#0d0887\"],[0.1111111111111111,\"#46039f\"],[0.2222222222222222,\"#7201a8\"],[0.3333333333333333,\"#9c179e\"],[0.4444444444444444,\"#bd3786\"],[0.5555555555555556,\"#d8576b\"],[0.6666666666666666,\"#ed7953\"],[0.7777777777777778,\"#fb9f3a\"],[0.8888888888888888,\"#fdca26\"],[1.0,\"#f0f921\"]],\"sequentialminus\":[[0.0,\"#0d0887\"],[0.1111111111111111,\"#46039f\"],[0.2222222222222222,\"#7201a8\"],[0.3333333333333333,\"#9c179e\"],[0.4444444444444444,\"#bd3786\"],[0.5555555555555556,\"#d8576b\"],[0.6666666666666666,\"#ed7953\"],[0.7777777777777778,\"#fb9f3a\"],[0.8888888888888888,\"#fdca26\"],[1.0,\"#f0f921\"]],\"diverging\":[[0,\"#8e0152\"],[0.1,\"#c51b7d\"],[0.2,\"#de77ae\"],[0.3,\"#f1b6da\"],[0.4,\"#fde0ef\"],[0.5,\"#f7f7f7\"],[0.6,\"#e6f5d0\"],[0.7,\"#b8e186\"],[0.8,\"#7fbc41\"],[0.9,\"#4d9221\"],[1,\"#276419\"]]},\"xaxis\":{\"gridcolor\":\"white\",\"linecolor\":\"white\",\"ticks\":\"\",\"title\":{\"standoff\":15},\"zerolinecolor\":\"white\",\"automargin\":true,\"zerolinewidth\":2},\"yaxis\":{\"gridcolor\":\"white\",\"linecolor\":\"white\",\"ticks\":\"\",\"title\":{\"standoff\":15},\"zerolinecolor\":\"white\",\"automargin\":true,\"zerolinewidth\":2},\"scene\":{\"xaxis\":{\"backgroundcolor\":\"#E5ECF6\",\"gridcolor\":\"white\",\"linecolor\":\"white\",\"showbackground\":true,\"ticks\":\"\",\"zerolinecolor\":\"white\",\"gridwidth\":2},\"yaxis\":{\"backgroundcolor\":\"#E5ECF6\",\"gridcolor\":\"white\",\"linecolor\":\"white\",\"showbackground\":true,\"ticks\":\"\",\"zerolinecolor\":\"white\",\"gridwidth\":2},\"zaxis\":{\"backgroundcolor\":\"#E5ECF6\",\"gridcolor\":\"white\",\"linecolor\":\"white\",\"showbackground\":true,\"ticks\":\"\",\"zerolinecolor\":\"white\",\"gridwidth\":2}},\"shapedefaults\":{\"line\":{\"color\":\"#2a3f5f\"}},\"annotationdefaults\":{\"arrowcolor\":\"#2a3f5f\",\"arrowhead\":0,\"arrowwidth\":1},\"geo\":{\"bgcolor\":\"white\",\"landcolor\":\"#E5ECF6\",\"subunitcolor\":\"white\",\"showland\":true,\"showlakes\":true,\"lakecolor\":\"white\"},\"title\":{\"x\":0.05},\"mapbox\":{\"style\":\"light\"}}},\"xaxis\":{\"anchor\":\"y\",\"domain\":[0.0,1.0],\"title\":{\"text\":\"x\"}},\"yaxis\":{\"anchor\":\"x\",\"domain\":[0.0,1.0],\"title\":{\"text\":\"value\"}},\"legend\":{\"title\":{\"text\":\"variable\"},\"tracegroupgap\":0},\"margin\":{\"t\":60}},                        {\"responsive\": true}                    ).then(function(){\n",
              "                            \n",
              "var gd = document.getElementById('f87ccdb8-1835-4c7c-9a52-2fdc254c263e');\n",
              "var x = new MutationObserver(function (mutations, observer) {{\n",
              "        var display = window.getComputedStyle(gd).display;\n",
              "        if (!display || display === 'none') {{\n",
              "            console.log([gd, 'removed!']);\n",
              "            Plotly.purge(gd);\n",
              "            observer.disconnect();\n",
              "        }}\n",
              "}});\n",
              "\n",
              "// Listen for the removal of the full notebook cells\n",
              "var notebookContainer = gd.closest('#notebook-container');\n",
              "if (notebookContainer) {{\n",
              "    x.observe(notebookContainer, {childList: true});\n",
              "}}\n",
              "\n",
              "// Listen for the clearing of the current output cell\n",
              "var outputEl = gd.closest('.output');\n",
              "if (outputEl) {{\n",
              "    x.observe(outputEl, {childList: true});\n",
              "}}\n",
              "\n",
              "                        })                };                            </script>        </div>\n",
              "</body>\n",
              "</html>"
            ]
          },
          "metadata": {}
        }
      ]
    },
    {
      "cell_type": "markdown",
      "source": [
        "**Respuesta**:\n",
        "\n",
        "```\n",
        "Comente de resultados observados y si es posible mejorar los resultados.\n",
        "```\n",
        "\n",
        "Con SVR se obtienen resultados aceptables con un R2 de alrededor de 0.6 en los experimentos, esto quiere decir que más de la mitad de la varianza del sueldo es explicada por las características usadas para su predicción.\n",
        "\n",
        "Para mejorar los resultados consideramos que se requiriere una mezcla de ambas cosas, más datos y más características. Hay características que son fáciles de obtener y que puden estar muy correlacionadas con los sueldos por ejemplo: la liga en la que más se juega, la cantidad de partidos jugados en ligas importantes, el equipo en que juegan, la cantidad de seguidores del jugador en redes sociales, etc. Pero además observamos que existen muchas clases y nacionalidades que estan poco representadas lo cual podría empeorar la capacidad de generalización a estos casos.\n",
        "\n",
        "Además se podrían reducir las características que ya se tienen por ejemplo en nuestro caso desechamos las variables de altura y peso ya que no tienen mucha relación con el sueldo. \n",
        "\n",
        "Finalmente se pueden aplicar técnicas típicas para mejorar el modelo como: probar más hiper-parámetros, realizar validación cruzada con más folds, probar con preprocesamientos distintos para las características de entrada y probar procesamientos a la variable de sueldos."
      ],
      "metadata": {
        "tags": [],
        "cell_id": "00044-db7abb06-7339-40b0-9021-01c6111e5459",
        "deepnote_cell_type": "markdown",
        "deepnote_cell_height": 106.23333740234375,
        "id": "UuYjRjPInRjx"
      }
    },
    {
      "cell_type": "markdown",
      "source": [
        "# Conclusión\n",
        "Eso ha sido todo para el lab de hoy, recuerden que el laboratorio tiene un plazo de entrega de una semana. Cualquier duda del laboratorio, no duden en contactarnos por mail o U-cursos.\n",
        "\n",
        "<p align=\"center\">\n",
        "  <img src=\"https://media2.giphy.com/media/l1J3CbFgn5o7DGRuE/giphy.gif\">\n",
        "</p>"
      ],
      "metadata": {
        "id": "Rg4ZMq8ezAH6",
        "cell_id": "00045-bd3cc055-46c7-47ae-ac82-07ddb96f99de",
        "deepnote_cell_type": "markdown",
        "deepnote_cell_height": 490.83331298828125
      }
    },
    {
      "cell_type": "markdown",
      "source": [
        "<br>\n",
        "<center>\n",
        "<img src=\"https://i.kym-cdn.com/photos/images/original/001/194/195/b18.png\" width=100 height=50 />\n",
        "</center>\n",
        "<br>"
      ],
      "metadata": {
        "id": "wCL1lACBzAH7",
        "cell_id": "00047-2acde338-38a4-455c-879b-3be406525767",
        "deepnote_cell_type": "markdown",
        "deepnote_cell_height": 170.4499969482422
      }
    },
    {
      "cell_type": "markdown",
      "source": [
        "<a style='text-decoration:none;line-height:16px;display:flex;color:#5B5B62;padding:10px;justify-content:end;' href='https://deepnote.com?utm_source=created-in-deepnote-cell&projectId=87110296-876e-426f-b91d-aaf681223468' target=\"_blank\">\n",
        "<img alt='Created in deepnote.com' style='display:inline;max-height:16px;margin:0px;margin-right:7.5px;' src='data:image/svg+xml;base64,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' > </img>\n",
        "Created in <span style='font-weight:600;margin-left:4px;'>Deepnote</span></a>"
      ],
      "metadata": {
        "tags": [],
        "created_in_deepnote_cell": true,
        "deepnote_cell_type": "markdown",
        "id": "_6Tc-FAZnRjx"
      }
    }
  ],
  "nbformat": 4,
  "nbformat_minor": 0,
  "metadata": {
    "kernelspec": {
      "display_name": "Python 3",
      "language": "python",
      "name": "python3"
    },
    "language_info": {
      "codemirror_mode": {
        "name": "ipython",
        "version": 3
      },
      "file_extension": ".py",
      "mimetype": "text/x-python",
      "name": "python",
      "nbconvert_exporter": "python",
      "pygments_lexer": "ipython3",
      "version": "3.8.3"
    },
    "toc": {
      "base_numbering": 1,
      "nav_menu": {},
      "number_sections": true,
      "sideBar": true,
      "skip_h1_title": true,
      "title_cell": "Tabla de Contenidos",
      "title_sidebar": "Contenidos",
      "toc_cell": false,
      "toc_position": {
        "height": "calc(100% - 180px)",
        "left": "10px",
        "top": "150px",
        "width": "241.867px"
      },
      "toc_section_display": true,
      "toc_window_display": true
    },
    "varInspector": {
      "cols": {
        "lenName": 16,
        "lenType": 16,
        "lenVar": 40
      },
      "kernels_config": {
        "python": {
          "delete_cmd_postfix": "",
          "delete_cmd_prefix": "del ",
          "library": "var_list.py",
          "varRefreshCmd": "print(var_dic_list())"
        },
        "r": {
          "delete_cmd_postfix": ") ",
          "delete_cmd_prefix": "rm(",
          "library": "var_list.r",
          "varRefreshCmd": "cat(var_dic_list()) "
        }
      },
      "types_to_exclude": [
        "module",
        "function",
        "builtin_function_or_method",
        "instance",
        "_Feature"
      ],
      "window_display": false
    },
    "colab": {
      "name": "Laboratorio7_enunciado.ipynb",
      "provenance": [],
      "collapsed_sections": []
    },
    "deepnote_notebook_id": "350d39d6-937f-44f2-9da5-3b4d715597f9",
    "deepnote": {},
    "deepnote_execution_queue": []
  }
}