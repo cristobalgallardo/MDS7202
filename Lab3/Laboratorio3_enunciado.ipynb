{
  "cells": [
    {
      "cell_type": "markdown",
      "source": [
        "<h1><center>Laboratorio 3: El Pandas no muerde (act. I) 🐼</center></h1>\n",
        "\n",
        "<center><strong>MDS7202: Laboratorio de Programación Científica para Ciencia de Datos</strong></center>"
      ],
      "metadata": {
        "id": "XUZ1dFPHzAHl",
        "cell_id": "00000-ae4bce0d-d467-4e5f-a49a-58fb5129bd6c",
        "deepnote_cell_type": "markdown",
        "deepnote_cell_height": 156.390625
      }
    },
    {
      "cell_type": "markdown",
      "source": [
        "### Cuerpo Docente:\n",
        "\n",
        "- Profesor: Pablo Badilla\n",
        "- Auxiliar: Ignacio Meza D.\n",
        "- Ayudante: Patricio Ortiz"
      ],
      "metadata": {
        "id": "UD8X1uhGzAHq",
        "cell_id": "00001-c0f83a9b-e822-4864-8c65-718da74b60b9",
        "deepnote_cell_type": "markdown",
        "deepnote_cell_height": 165.171875
      }
    },
    {
      "cell_type": "markdown",
      "source": [
        "### Equipo: SUPER IMPORTANTE - notebooks sin nombre no serán revisados\n",
        "\n",
        "- Nombre de alumno 1: Sebastián Aguirre.\n",
        "- Nombre de alumno 2: Cristóbal Gallardo.\n"
      ],
      "metadata": {
        "id": "tXflExjqzAHr",
        "cell_id": "00002-155246d6-4c8d-43be-872f-880dede73522",
        "deepnote_cell_type": "markdown",
        "deepnote_cell_height": 171.78125
      }
    },
    {
      "cell_type": "markdown",
      "source": [
        "### **Link de repositorio de GitHub:** `http://....`"
      ],
      "metadata": {
        "id": "AD-V0bbZzAHr",
        "cell_id": "00003-97391d1f-df36-4c70-90b7-bfd91cd6e49e",
        "deepnote_cell_type": "markdown",
        "deepnote_cell_height": 63
      }
    },
    {
      "cell_type": "markdown",
      "source": [
        "### Reglas:\n",
        "\n",
        "- Fecha de entrega: 22 de abril (atrasos hasta el 28 de abril, 1 pto de descuento por día)\n",
        "- **Grupos de máximo 2 personas**\n",
        "- **Ausentes** deberán realizar la actividad solos. \n",
        "- Cualquier duda fuera del horario de clases al foro. Mensajes al equipo docente serán respondidos por este medio.\n",
        "- Prohibidas las copias. \n",
        "- Pueden usar cualquer matrial del curso que estimen conveniente."
      ],
      "metadata": {
        "tags": [],
        "cell_id": "00004-0e0866f8-5d50-4988-906a-d868ede07df1",
        "deepnote_cell_type": "markdown",
        "deepnote_cell_height": 263.734375,
        "id": "t7vFDz9ODY6K"
      }
    },
    {
      "cell_type": "markdown",
      "source": [
        "### Temas a tratar\n",
        "\n",
        "- Introducción al manejo de datos tabulares por medio de la libreria `pandas`."
      ],
      "metadata": {
        "tags": [],
        "cell_id": "00005-ea6a4d75-61c0-4a2b-ac8d-1ac736216350",
        "deepnote_cell_type": "markdown",
        "deepnote_cell_height": 114.390625,
        "id": "atlKRgZ7DY6K"
      }
    },
    {
      "cell_type": "markdown",
      "source": [
        "### Objetivos principales del laboratorio\n",
        "\n",
        "- Entender, aplicar y aprovechar las ventajas que nos ofrece la libreria `pandas` para manejar datos tabulares.\n",
        "- Aprender a utilizar la documentación de pandas (y en general, de cualquier librería de python) como también a buscar soluciones en la web.\n",
        "\n",
        "> **Nota**: El laboratorio deberá ser desarrollado sin el uso indiscriminado de iteradores nativos de python (aka \"for\", \"while\"). La idea es que aprendan a exprimir al máximo las funciones optimizadas que nos entrega `pandas`, las cuales vale mencionar, son bastante más eficientes que los iteradores nativos sobre DataFrames."
      ],
      "metadata": {
        "id": "6uBLPj1PzAHs",
        "cell_id": "00006-fbe17074-fb3c-4ddb-bb19-2bfd042bf921",
        "deepnote_cell_type": "markdown",
        "deepnote_cell_height": 243.34375
      }
    },
    {
      "cell_type": "markdown",
      "source": [
        "### Librerias utiles para el Lab 😸"
      ],
      "metadata": {
        "id": "MhISwri4zAHy",
        "cell_id": "00007-93c4d22f-7d4f-4cc0-bca9-a2c35a9b8b3e",
        "deepnote_cell_type": "markdown",
        "deepnote_cell_height": 62
      }
    },
    {
      "cell_type": "code",
      "metadata": {
        "ExecuteTime": {
          "end_time": "2021-03-29T00:08:16.884674Z",
          "start_time": "2021-03-29T00:08:16.349846Z"
        },
        "id": "uyc33dKdzAHy",
        "colab": {
          "base_uri": "https://localhost:8080/"
        },
        "outputId": "1a418a45-f232-4791-c8c5-2fe3aaa25e3b",
        "deepnote_to_be_reexecuted": false,
        "source_hash": "8da0b14b",
        "execution_start": 1632493418117,
        "execution_millis": 4154,
        "cell_id": "00008-58834915-07fa-4589-93b7-f1fb0c08b816",
        "deepnote_cell_type": "code",
        "deepnote_cell_height": 336.5625
      },
      "source": [
        "# Libreria Core del lab.\n",
        "import numpy as np\n",
        "import pandas as pd\n",
        "from IPython.display import display\n",
        "\n",
        "#Libreria para plotear\n",
        "!pip install --upgrade plotly\n",
        "import plotly.express as px\n",
        "\n",
        "# Librerias utiles\n",
        "from sklearn.preprocessing import StandardScaler"
      ],
      "execution_count": null,
      "outputs": [
        {
          "output_type": "stream",
          "name": "stdout",
          "text": [
            "Requirement already satisfied: plotly in /usr/local/lib/python3.7/dist-packages (5.5.0)\n",
            "Collecting plotly\n",
            "  Downloading plotly-5.7.0-py2.py3-none-any.whl (28.8 MB)\n",
            "\u001b[K     |████████████████████████████████| 28.8 MB 1.7 MB/s \n",
            "\u001b[?25hRequirement already satisfied: six in /usr/local/lib/python3.7/dist-packages (from plotly) (1.15.0)\n",
            "Requirement already satisfied: tenacity>=6.2.0 in /usr/local/lib/python3.7/dist-packages (from plotly) (8.0.1)\n",
            "Installing collected packages: plotly\n",
            "  Attempting uninstall: plotly\n",
            "    Found existing installation: plotly 5.5.0\n",
            "    Uninstalling plotly-5.5.0:\n",
            "      Successfully uninstalled plotly-5.5.0\n",
            "Successfully installed plotly-5.7.0\n"
          ]
        }
      ]
    },
    {
      "cell_type": "markdown",
      "source": [
        "# 1. Rendimiento en Estudiantes 📚"
      ],
      "metadata": {
        "id": "xpOTbQcxbSiy",
        "cell_id": "00009-429ae3f2-fb38-4b64-b588-014a84e630dd",
        "deepnote_cell_type": "markdown",
        "deepnote_cell_height": 82
      }
    },
    {
      "cell_type": "markdown",
      "source": [
        ""
      ],
      "metadata": {
        "id": "3Q93vbNS25bM",
        "cell_id": "00010-37be44cf-4558-4ba9-83df-767bf4f1905d",
        "deepnote_cell_type": "markdown",
        "deepnote_cell_height": 46
      }
    },
    {
      "cell_type": "markdown",
      "source": [
        "Para este laboratorio deberán trabajar con el dataset `students_grades.json` el cual contiene información sobre el rendimiento de alumnos en distintos ramos. \n",
        "El objetivo principal será el de realizar un trabajo de limpieza de prepración y exploración de datos utilizando exclusivamente `DataFrames` y sus métodos asociados. \n",
        "\n",
        "\n"
      ],
      "metadata": {
        "id": "jnmZfFpxTTYX",
        "cell_id": "00011-2ad31a90-832d-4d5e-9c29-4e5d686375fa",
        "deepnote_cell_type": "markdown",
        "deepnote_cell_height": 97.171875
      }
    },
    {
      "cell_type": "code",
      "metadata": {
        "colab": {
          "base_uri": "https://localhost:8080/"
        },
        "id": "Jqq-s010Iwl1",
        "outputId": "0cd92134-e7b0-42a0-9bf1-442400121efd",
        "deepnote_to_be_reexecuted": false,
        "source_hash": "c60dc4a7",
        "execution_start": 1632493422315,
        "execution_millis": 8,
        "cell_id": "00012-6ef52018-06ac-4eb8-8b0a-4142b81e04aa",
        "deepnote_cell_type": "code",
        "deepnote_cell_height": 220.1875
      },
      "source": [
        "# Si usted está utilizando Colabolatory le puede ser útil este código para cargar los archivos.\n",
        "try:\n",
        "    from google.colab import drive\n",
        "    drive.mount(\"/content/drive\")\n",
        "    path = '/content/drive/MyDrive/Lab_MDS/Laboratorios/Lab3-Pandas'\n",
        "except: \n",
        "    print('Ignorando conexión drive-colab')"
      ],
      "execution_count": null,
      "outputs": [
        {
          "output_type": "stream",
          "name": "stdout",
          "text": [
            "Mounted at /content/drive\n"
          ]
        }
      ]
    },
    {
      "cell_type": "markdown",
      "source": [
        "## 1.1 Carga e Inspección de Datos [1.5 Puntos]\n",
        "\n",
        "\n",
        "<p align=\"center\">\n",
        "  <img src=\"https://drive.google.com/uc?export=view&id=1hZZaPQlZe4VupFOXt76_wjuUA5NpUhrw\" width=\"300\" height=\"300\">\n",
        "</p>\n"
      ],
      "metadata": {
        "id": "Y7sGYwOpN1VJ",
        "cell_id": "00013-61182eec-37fa-401b-8e56-9aec91671835",
        "deepnote_cell_type": "markdown",
        "deepnote_cell_height": 413.109375
      }
    },
    {
      "cell_type": "markdown",
      "source": [
        "*Don Caguayo*, rector de la Universidad de la Cachaña, les comenta que actualmente la Universidad no tiene una subdirección de análisis de datos, pero que tiene un gran interés en formar una. Es por esto, que se contacta con ud. y su equipo para iniciar de forma exploratoria diversas tareas de análisis y consolidación de datos respectivos al rendimiento de sus alumnos.\n",
        "\n",
        "Previo a su primera reunión con el rector, el rector le envía una copia de la base de datos, la cuál a usted y su equipo le encantaría examinar. Para esto, la primera tarea que debe realizar es abrir y cargar el dataset. \n",
        "\n",
        "\n",
        "> **Notar que es sumamente importante el formato que posee cada columna** para su manipulación y que posiblemente ustedes deberán especificar algunos tipos de datos a mano. Ver la documentación del método `read_json` para mayor información.\n",
        "\n",
        "A continuación se muestra un ejemplo de los dos primeros registros del dataset:\n",
        "\n",
        "```json\n",
        "[\n",
        "  {\n",
        "    \"names\": \"Rita Courtney\",\n",
        "    \"gender\": \"female\",\n",
        "    \"race/ethnicity\": \"group B\",\n",
        "    \"parental level of education\": \"some high school\",\n",
        "    \"lunch\": \"standard\",\n",
        "    \"test preparation course\": \"none\",\n",
        "    \"math score\": 37,\n",
        "    \"reading score\": 46,\n",
        "    \"writing score\": 46\n",
        "  },\n",
        "  {\n",
        "    \"names\": \"Madeline Fuller\",\n",
        "    \"gender\": \"female\",\n",
        "    \"race/ethnicity\": \"group C\",\n",
        "    \"parental level of education\": \"some high school\",\n",
        "    \"lunch\": \"standard\",\n",
        "    \"test preparation course\": \"none\",\n",
        "    \"math score\": 124,\n",
        "    \"reading score\": 142,\n",
        "    \"writing score\": 142\n",
        "  }\n",
        "]\n",
        "```\n",
        "\n",
        "\n",
        "\n"
      ],
      "metadata": {
        "tags": [],
        "cell_id": "00014-19b7ef4c-d646-4d3c-bc96-0fcf03730924",
        "deepnote_cell_type": "markdown",
        "deepnote_cell_height": 867.28125,
        "id": "moORUhooDY6R"
      }
    },
    {
      "cell_type": "code",
      "metadata": {
        "tags": [],
        "cell_id": "00014-cf0912c5-504c-459e-a7cb-0bfae6cff886",
        "owner_user_id": "d50c3174-babb-4861-9c71-7e3af66458b8",
        "deepnote_cell_type": "code",
        "deepnote_cell_height": 66,
        "id": "aIOAO_YEDY6S",
        "colab": {
          "base_uri": "https://localhost:8080/",
          "height": 206
        },
        "outputId": "f0da9ab9-07d3-43be-b8d4-b9aec925d7cd"
      },
      "source": [
        "# Leer dataset del json\n",
        "df_grades = pd.read_json(path + \"/students_grades.json\")\n",
        "# Los algunos datos son datos númericos\n",
        "df_grades['math score'] = pd.to_numeric(df_grades['math score'])\n",
        "df_grades['reading score'] = pd.to_numeric(df_grades['reading score'])\n",
        "df_grades['writing score'] = pd.to_numeric(df_grades['writing score'])\n",
        "# Mostrar parte del dataset\n",
        "df_grades.head()\n",
        "\n"
      ],
      "execution_count": null,
      "outputs": [
        {
          "output_type": "execute_result",
          "data": {
            "text/plain": [
              "              names  gender race/ethnicity parental level of education  \\\n",
              "0     Rita Courtney  female        group B            some high school   \n",
              "1   Madeline Fuller  female        group C            some high school   \n",
              "2     Daniel Rester    male        group E          associate's degree   \n",
              "3  Charles Linstrom    male        group A           bachelor's degree   \n",
              "4    Geraldine Hale  female        group A          associate's degree   \n",
              "\n",
              "      lunch test preparation course  math score  reading score  writing score  \n",
              "0  standard                    none        37.0           46.0           46.0  \n",
              "1  standard                    none       124.0          142.0          142.0  \n",
              "2  standard                    none       156.0          196.0          193.0  \n",
              "3  standard               completed        80.0           78.0           81.0  \n",
              "4  standard                    none       131.0          166.0          166.0  "
            ],
            "text/html": [
              "\n",
              "  <div id=\"df-768257e8-598f-485c-808f-dc5a895a4c25\">\n",
              "    <div class=\"colab-df-container\">\n",
              "      <div>\n",
              "<style scoped>\n",
              "    .dataframe tbody tr th:only-of-type {\n",
              "        vertical-align: middle;\n",
              "    }\n",
              "\n",
              "    .dataframe tbody tr th {\n",
              "        vertical-align: top;\n",
              "    }\n",
              "\n",
              "    .dataframe thead th {\n",
              "        text-align: right;\n",
              "    }\n",
              "</style>\n",
              "<table border=\"1\" class=\"dataframe\">\n",
              "  <thead>\n",
              "    <tr style=\"text-align: right;\">\n",
              "      <th></th>\n",
              "      <th>names</th>\n",
              "      <th>gender</th>\n",
              "      <th>race/ethnicity</th>\n",
              "      <th>parental level of education</th>\n",
              "      <th>lunch</th>\n",
              "      <th>test preparation course</th>\n",
              "      <th>math score</th>\n",
              "      <th>reading score</th>\n",
              "      <th>writing score</th>\n",
              "    </tr>\n",
              "  </thead>\n",
              "  <tbody>\n",
              "    <tr>\n",
              "      <th>0</th>\n",
              "      <td>Rita Courtney</td>\n",
              "      <td>female</td>\n",
              "      <td>group B</td>\n",
              "      <td>some high school</td>\n",
              "      <td>standard</td>\n",
              "      <td>none</td>\n",
              "      <td>37.0</td>\n",
              "      <td>46.0</td>\n",
              "      <td>46.0</td>\n",
              "    </tr>\n",
              "    <tr>\n",
              "      <th>1</th>\n",
              "      <td>Madeline Fuller</td>\n",
              "      <td>female</td>\n",
              "      <td>group C</td>\n",
              "      <td>some high school</td>\n",
              "      <td>standard</td>\n",
              "      <td>none</td>\n",
              "      <td>124.0</td>\n",
              "      <td>142.0</td>\n",
              "      <td>142.0</td>\n",
              "    </tr>\n",
              "    <tr>\n",
              "      <th>2</th>\n",
              "      <td>Daniel Rester</td>\n",
              "      <td>male</td>\n",
              "      <td>group E</td>\n",
              "      <td>associate's degree</td>\n",
              "      <td>standard</td>\n",
              "      <td>none</td>\n",
              "      <td>156.0</td>\n",
              "      <td>196.0</td>\n",
              "      <td>193.0</td>\n",
              "    </tr>\n",
              "    <tr>\n",
              "      <th>3</th>\n",
              "      <td>Charles Linstrom</td>\n",
              "      <td>male</td>\n",
              "      <td>group A</td>\n",
              "      <td>bachelor's degree</td>\n",
              "      <td>standard</td>\n",
              "      <td>completed</td>\n",
              "      <td>80.0</td>\n",
              "      <td>78.0</td>\n",
              "      <td>81.0</td>\n",
              "    </tr>\n",
              "    <tr>\n",
              "      <th>4</th>\n",
              "      <td>Geraldine Hale</td>\n",
              "      <td>female</td>\n",
              "      <td>group A</td>\n",
              "      <td>associate's degree</td>\n",
              "      <td>standard</td>\n",
              "      <td>none</td>\n",
              "      <td>131.0</td>\n",
              "      <td>166.0</td>\n",
              "      <td>166.0</td>\n",
              "    </tr>\n",
              "  </tbody>\n",
              "</table>\n",
              "</div>\n",
              "      <button class=\"colab-df-convert\" onclick=\"convertToInteractive('df-768257e8-598f-485c-808f-dc5a895a4c25')\"\n",
              "              title=\"Convert this dataframe to an interactive table.\"\n",
              "              style=\"display:none;\">\n",
              "        \n",
              "  <svg xmlns=\"http://www.w3.org/2000/svg\" height=\"24px\"viewBox=\"0 0 24 24\"\n",
              "       width=\"24px\">\n",
              "    <path d=\"M0 0h24v24H0V0z\" fill=\"none\"/>\n",
              "    <path d=\"M18.56 5.44l.94 2.06.94-2.06 2.06-.94-2.06-.94-.94-2.06-.94 2.06-2.06.94zm-11 1L8.5 8.5l.94-2.06 2.06-.94-2.06-.94L8.5 2.5l-.94 2.06-2.06.94zm10 10l.94 2.06.94-2.06 2.06-.94-2.06-.94-.94-2.06-.94 2.06-2.06.94z\"/><path d=\"M17.41 7.96l-1.37-1.37c-.4-.4-.92-.59-1.43-.59-.52 0-1.04.2-1.43.59L10.3 9.45l-7.72 7.72c-.78.78-.78 2.05 0 2.83L4 21.41c.39.39.9.59 1.41.59.51 0 1.02-.2 1.41-.59l7.78-7.78 2.81-2.81c.8-.78.8-2.07 0-2.86zM5.41 20L4 18.59l7.72-7.72 1.47 1.35L5.41 20z\"/>\n",
              "  </svg>\n",
              "      </button>\n",
              "      \n",
              "  <style>\n",
              "    .colab-df-container {\n",
              "      display:flex;\n",
              "      flex-wrap:wrap;\n",
              "      gap: 12px;\n",
              "    }\n",
              "\n",
              "    .colab-df-convert {\n",
              "      background-color: #E8F0FE;\n",
              "      border: none;\n",
              "      border-radius: 50%;\n",
              "      cursor: pointer;\n",
              "      display: none;\n",
              "      fill: #1967D2;\n",
              "      height: 32px;\n",
              "      padding: 0 0 0 0;\n",
              "      width: 32px;\n",
              "    }\n",
              "\n",
              "    .colab-df-convert:hover {\n",
              "      background-color: #E2EBFA;\n",
              "      box-shadow: 0px 1px 2px rgba(60, 64, 67, 0.3), 0px 1px 3px 1px rgba(60, 64, 67, 0.15);\n",
              "      fill: #174EA6;\n",
              "    }\n",
              "\n",
              "    [theme=dark] .colab-df-convert {\n",
              "      background-color: #3B4455;\n",
              "      fill: #D2E3FC;\n",
              "    }\n",
              "\n",
              "    [theme=dark] .colab-df-convert:hover {\n",
              "      background-color: #434B5C;\n",
              "      box-shadow: 0px 1px 3px 1px rgba(0, 0, 0, 0.15);\n",
              "      filter: drop-shadow(0px 1px 2px rgba(0, 0, 0, 0.3));\n",
              "      fill: #FFFFFF;\n",
              "    }\n",
              "  </style>\n",
              "\n",
              "      <script>\n",
              "        const buttonEl =\n",
              "          document.querySelector('#df-768257e8-598f-485c-808f-dc5a895a4c25 button.colab-df-convert');\n",
              "        buttonEl.style.display =\n",
              "          google.colab.kernel.accessAllowed ? 'block' : 'none';\n",
              "\n",
              "        async function convertToInteractive(key) {\n",
              "          const element = document.querySelector('#df-768257e8-598f-485c-808f-dc5a895a4c25');\n",
              "          const dataTable =\n",
              "            await google.colab.kernel.invokeFunction('convertToInteractive',\n",
              "                                                     [key], {});\n",
              "          if (!dataTable) return;\n",
              "\n",
              "          const docLinkHtml = 'Like what you see? Visit the ' +\n",
              "            '<a target=\"_blank\" href=https://colab.research.google.com/notebooks/data_table.ipynb>data table notebook</a>'\n",
              "            + ' to learn more about interactive tables.';\n",
              "          element.innerHTML = '';\n",
              "          dataTable['output_type'] = 'display_data';\n",
              "          await google.colab.output.renderOutput(dataTable, element);\n",
              "          const docLink = document.createElement('div');\n",
              "          docLink.innerHTML = docLinkHtml;\n",
              "          element.appendChild(docLink);\n",
              "        }\n",
              "      </script>\n",
              "    </div>\n",
              "  </div>\n",
              "  "
            ]
          },
          "metadata": {},
          "execution_count": 81
        }
      ]
    },
    {
      "cell_type": "markdown",
      "source": [
        ""
      ],
      "metadata": {
        "id": "A967vqWFCehb"
      }
    },
    {
      "cell_type": "markdown",
      "source": [
        "\n",
        "<p align=\"center\">\n",
        "  <img src=\"https://i.giphy.com/media/4FQMuOKR6zQRO/giphy.webp\">\n",
        "</p>\n",
        "\n",
        "\n",
        "Posteriormente, el rector les comenta que la sección de TI posee una base de datos con más de **875** filas, en donde cada fila representa un alumno matriculado. Sin embargo, cree fuertemente que existen errores en esta: solo tiene registro de **875** matriculas. Por este motivo, especula que se han realizado malas prácticas al registrar dichos datos.\n",
        "\n",
        "En consecuencia, el rector les solicita a ustedes como tarea inicial que exploren la base de datos y encuentre posibles falencias dentro de sus registros. Para esto, usted debe estar al tanto que las notas están en una escala que van del **0 al 100** (porcentaje de logro) y **no es posible que un alumno haya dado más de una vez el mismo examen**. Cualquier alumno que posea un valor diferente a esta escala, debería ser eliminado de la base de datos.\n"
      ],
      "metadata": {
        "id": "sgVJGeVMMshn",
        "cell_id": "00014-21b2a755-ee5d-4b46-88cc-1d6ec13f2d8e",
        "deepnote_cell_type": "markdown",
        "deepnote_cell_height": 621.125
      }
    },
    {
      "cell_type": "markdown",
      "source": [
        "> **Instrucciones**\n",
        "\n",
        "**Cree una función** que tome un `DataFrame` y que le permita revisar si las diferentes variables que lo componen son coherentes y si es posible observar anomalías en estas. \n",
        "\n",
        "**To-Do**\n",
        "1. [ ] Imprimir un mensaje con las dimensiones del Dataframe.\n",
        "2. [ ] Imprimir un mensaje con los nombres de las columnas que conforman el DataFrame.\n",
        "3. [ ] Mostrar los primeros 5, los últimos 5 elementos del DataFrame y realice un muestreo de 5 elementos de forma aleatoria.\n",
        "4. [ ] Mostrar una descripción rápida de las variables numéricas del DataFrame (utilice un método visto en clases).\n",
        "5. [ ] Imprimir un mensaje con la cantidad de valores nulos (investigue el método `isna()` y `sum()` de los DataFrames).\n",
        "6. [ ] Imprimir un mensaje que detalle la cantidad de valores unicos (investigue `nunique()`) .\n",
        "7. [ ] Imprimir un mensaje con el total de filas que contengan nombres duplicados (investigue `duplicated()` y su parámetro `subset`).\n",
        "8. [ ] Mostrar las filas que contengan nombres sean duplicados (investigue `duplicated()` y su parámetro `subset`).\n",
        "9. [ ] A traves de `.plot.box()` plotear el boxplot de las notas. De ser necesario, invetigue como funcionan los gráficos de caja (esta sección es provista).\n",
        "10. [ ] Finalmente responda la siguiente pregunta:\n",
        "\n",
        "> ¿Que anomalias es posible observar de los datos que componen el DataFrame? ¿Existen valores nulos o duplicados? ¿Qué puede interpretar de la distribución de las notas en el boxplot? (), comente esto en la celda ubicada debajo de **justificación**.\n",
        "\n",
        "> **Nota:** Para imprmir utilice `print(...)`. Para mostrar `DataFrames`, utilice `display(...)` ya que este permite mostrar estos elementos como tablas.\n",
        "\n",
        "> **Nota 2:** Utilice la documentación de [pandas](https://pandas.pydata.org/docs/index.html) como también StackOverflow para resolver cualquier problema o inconveniente.\n",
        "\n",
        "> **Nota 3:** Si no ha trabajado con boxplot antes, el siguiente link puede serle de mucha ayuda: [boxplot](https://medium.com/dayem-siddiqui/understanding-and-interpreting-box-plots-d07aab9d1b6c) "
      ],
      "metadata": {
        "tags": [],
        "cell_id": "00015-e3e66248-1ff0-488e-8455-35ab2d49d172",
        "deepnote_cell_type": "markdown",
        "deepnote_cell_height": 773.546875,
        "id": "KkL3NZ5xDY6S"
      }
    },
    {
      "cell_type": "markdown",
      "source": [
        "**Respuesta:**"
      ],
      "metadata": {
        "tags": [],
        "cell_id": "00016-f844817e-2dbb-4ef6-8b07-bfb37043bb52",
        "deepnote_cell_type": "markdown",
        "deepnote_cell_height": 52.390625,
        "id": "gWmWBxlADY6T"
      }
    },
    {
      "cell_type": "code",
      "metadata": {
        "tags": [],
        "cell_id": "00017-5f922af5-3edd-4012-8688-1573576c2703",
        "deepnote_cell_type": "code",
        "deepnote_cell_height": 102,
        "id": "ZKt33oFuDY6T"
      },
      "source": [
        "def exploratory_data_analysis(dataframe):\n",
        "    \"\"\"\n",
        "    This function performs a small data analysis of the datasets \n",
        "    It does the following:\n",
        "    1.- Show dataframe dimensions\n",
        "    2.- Show columns names.\n",
        "    3.- Show the first 5 and last rows and 5 random rows\n",
        "    4.- Show a small description of numeric variables.\n",
        "    5.- Show number of nan values\n",
        "    6.- Show number of unique values\n",
        "    7.- Show total number of rows with duplicated names\n",
        "    8.- Show rows with duplicated names\n",
        "    9.- Create a box plot of test scores\n",
        "\n",
        "    ------------------------------------------------------------------\n",
        "    Inputs:\n",
        "      dataframe (pd.dataframe): the dataframe to be analysed.\n",
        "    ------------------------------------------------------------------\n",
        "    Outputs:\n",
        "      None\n",
        "    \"\"\"\n",
        "    # Getting the number of rows and cols\n",
        "    rows, cols = dataframe.shape\n",
        "    # Getting the names of the columns to a list\n",
        "    col_names = dataframe.columns.values.tolist()\n",
        "\n",
        "    # Top 5 rows\n",
        "    head = dataframe.head()\n",
        "    # Bottom 5 rows\n",
        "    tail = dataframe.tail()\n",
        "    # Random 5 rows\n",
        "    rand = dataframe.sample(5)\n",
        "\n",
        "    # data summary\n",
        "    summary = dataframe.describe()\n",
        "\n",
        "    # Nan´s \n",
        "    nans = dataframe.isna().sum()\n",
        "\n",
        "    # Unique values\n",
        "    uni = dataframe.nunique()\n",
        "\n",
        "    # Duplicated names\n",
        "    dup_names = dataframe.duplicated(subset=['names'])\n",
        "    count_dups = dup_names.sum()\n",
        "    \n",
        "\n",
        "    print(\"1.- El Dataframe tiene %d filas y %d columnas\\n\" % (rows, cols))\n",
        "    print(\"2.- El Dataframe esta compuesto por las siguientes columnas: \", col_names, \"\\n\")\n",
        "    print(\"3.- Ejemplos de filas: \\n\")\n",
        "    print(\"Primeras 5 filas:\")\n",
        "    display(head)\n",
        "    print(\"\\nÚltimas 5 filas:\")\n",
        "    display(tail)\n",
        "    print(\"\\nMuestreo aleatorio de 5 filas:\")\n",
        "    display(rand)\n",
        "    print(\"\\n4.- Descripción numérica del Dataframe:\")\n",
        "    display(summary)\n",
        "    print(\"\\n5.- Cantidad de valores nulo por columna\")\n",
        "    display(nans)\n",
        "    print(\"\\n6.- Cantidad de valores únicos por columna:\")\n",
        "    display(uni)\n",
        "    print('\\n7.- Presenta un total de %d filas con nombres duplicados.'%(count_dups))\n",
        "    print('\\n8.- Las filas con nombres duplicados son:')\n",
        "    display(dataframe[dup_names])\n",
        "    print('\\n9.- Boxplot de notas:')\n",
        "\n",
        "    # Boxplot matplotlib version\n",
        "    ax = dataframe[['math score', 'reading score', 'writing score']].plot.box()\n",
        "\n",
        "    # Boxplot px version\n",
        "    df_melted = pd.melt(dataframe[['math score', 'reading score', 'writing score']], var_name='subject', value_name='score') # melt dataframe and give new cols names\n",
        "    fig = px.box(df_melted, x = 'subject',y = 'score', color = 'subject') # plot\n",
        "    fig.show()\n",
        "    \n",
        "    "
      ],
      "execution_count": null,
      "outputs": []
    },
    {
      "cell_type": "code",
      "source": [
        "ax =exploratory_data_analysis(df_grades)"
      ],
      "metadata": {
        "colab": {
          "base_uri": "https://localhost:8080/",
          "height": 1000
        },
        "id": "e8jdSD7Lved4",
        "outputId": "579a360a-607d-44f2-d258-5eb4d7999166"
      },
      "execution_count": null,
      "outputs": [
        {
          "output_type": "stream",
          "name": "stdout",
          "text": [
            "1.- El Dataframe tiene 1400 filas y 9 columnas\n",
            "\n",
            "2.- El Dataframe esta compuesto por las siguientes columnas:  ['names', 'gender', 'race/ethnicity', 'parental level of education', 'lunch', 'test preparation course', 'math score', 'reading score', 'writing score'] \n",
            "\n",
            "3.- Ejemplos de filas: \n",
            "\n",
            "Primeras 5 filas:\n"
          ]
        },
        {
          "output_type": "display_data",
          "data": {
            "text/plain": [
              "              names  gender race/ethnicity parental level of education  \\\n",
              "0     Rita Courtney  female        group B            some high school   \n",
              "1   Madeline Fuller  female        group C            some high school   \n",
              "2     Daniel Rester    male        group E          associate's degree   \n",
              "3  Charles Linstrom    male        group A           bachelor's degree   \n",
              "4    Geraldine Hale  female        group A          associate's degree   \n",
              "\n",
              "      lunch test preparation course  math score  reading score  writing score  \n",
              "0  standard                    none        37.0           46.0           46.0  \n",
              "1  standard                    none       124.0          142.0          142.0  \n",
              "2  standard                    none       156.0          196.0          193.0  \n",
              "3  standard               completed        80.0           78.0           81.0  \n",
              "4  standard                    none       131.0          166.0          166.0  "
            ],
            "text/html": [
              "\n",
              "  <div id=\"df-36d5a0e2-a6f4-4252-9750-57e27bb6521a\">\n",
              "    <div class=\"colab-df-container\">\n",
              "      <div>\n",
              "<style scoped>\n",
              "    .dataframe tbody tr th:only-of-type {\n",
              "        vertical-align: middle;\n",
              "    }\n",
              "\n",
              "    .dataframe tbody tr th {\n",
              "        vertical-align: top;\n",
              "    }\n",
              "\n",
              "    .dataframe thead th {\n",
              "        text-align: right;\n",
              "    }\n",
              "</style>\n",
              "<table border=\"1\" class=\"dataframe\">\n",
              "  <thead>\n",
              "    <tr style=\"text-align: right;\">\n",
              "      <th></th>\n",
              "      <th>names</th>\n",
              "      <th>gender</th>\n",
              "      <th>race/ethnicity</th>\n",
              "      <th>parental level of education</th>\n",
              "      <th>lunch</th>\n",
              "      <th>test preparation course</th>\n",
              "      <th>math score</th>\n",
              "      <th>reading score</th>\n",
              "      <th>writing score</th>\n",
              "    </tr>\n",
              "  </thead>\n",
              "  <tbody>\n",
              "    <tr>\n",
              "      <th>0</th>\n",
              "      <td>Rita Courtney</td>\n",
              "      <td>female</td>\n",
              "      <td>group B</td>\n",
              "      <td>some high school</td>\n",
              "      <td>standard</td>\n",
              "      <td>none</td>\n",
              "      <td>37.0</td>\n",
              "      <td>46.0</td>\n",
              "      <td>46.0</td>\n",
              "    </tr>\n",
              "    <tr>\n",
              "      <th>1</th>\n",
              "      <td>Madeline Fuller</td>\n",
              "      <td>female</td>\n",
              "      <td>group C</td>\n",
              "      <td>some high school</td>\n",
              "      <td>standard</td>\n",
              "      <td>none</td>\n",
              "      <td>124.0</td>\n",
              "      <td>142.0</td>\n",
              "      <td>142.0</td>\n",
              "    </tr>\n",
              "    <tr>\n",
              "      <th>2</th>\n",
              "      <td>Daniel Rester</td>\n",
              "      <td>male</td>\n",
              "      <td>group E</td>\n",
              "      <td>associate's degree</td>\n",
              "      <td>standard</td>\n",
              "      <td>none</td>\n",
              "      <td>156.0</td>\n",
              "      <td>196.0</td>\n",
              "      <td>193.0</td>\n",
              "    </tr>\n",
              "    <tr>\n",
              "      <th>3</th>\n",
              "      <td>Charles Linstrom</td>\n",
              "      <td>male</td>\n",
              "      <td>group A</td>\n",
              "      <td>bachelor's degree</td>\n",
              "      <td>standard</td>\n",
              "      <td>completed</td>\n",
              "      <td>80.0</td>\n",
              "      <td>78.0</td>\n",
              "      <td>81.0</td>\n",
              "    </tr>\n",
              "    <tr>\n",
              "      <th>4</th>\n",
              "      <td>Geraldine Hale</td>\n",
              "      <td>female</td>\n",
              "      <td>group A</td>\n",
              "      <td>associate's degree</td>\n",
              "      <td>standard</td>\n",
              "      <td>none</td>\n",
              "      <td>131.0</td>\n",
              "      <td>166.0</td>\n",
              "      <td>166.0</td>\n",
              "    </tr>\n",
              "  </tbody>\n",
              "</table>\n",
              "</div>\n",
              "      <button class=\"colab-df-convert\" onclick=\"convertToInteractive('df-36d5a0e2-a6f4-4252-9750-57e27bb6521a')\"\n",
              "              title=\"Convert this dataframe to an interactive table.\"\n",
              "              style=\"display:none;\">\n",
              "        \n",
              "  <svg xmlns=\"http://www.w3.org/2000/svg\" height=\"24px\"viewBox=\"0 0 24 24\"\n",
              "       width=\"24px\">\n",
              "    <path d=\"M0 0h24v24H0V0z\" fill=\"none\"/>\n",
              "    <path d=\"M18.56 5.44l.94 2.06.94-2.06 2.06-.94-2.06-.94-.94-2.06-.94 2.06-2.06.94zm-11 1L8.5 8.5l.94-2.06 2.06-.94-2.06-.94L8.5 2.5l-.94 2.06-2.06.94zm10 10l.94 2.06.94-2.06 2.06-.94-2.06-.94-.94-2.06-.94 2.06-2.06.94z\"/><path d=\"M17.41 7.96l-1.37-1.37c-.4-.4-.92-.59-1.43-.59-.52 0-1.04.2-1.43.59L10.3 9.45l-7.72 7.72c-.78.78-.78 2.05 0 2.83L4 21.41c.39.39.9.59 1.41.59.51 0 1.02-.2 1.41-.59l7.78-7.78 2.81-2.81c.8-.78.8-2.07 0-2.86zM5.41 20L4 18.59l7.72-7.72 1.47 1.35L5.41 20z\"/>\n",
              "  </svg>\n",
              "      </button>\n",
              "      \n",
              "  <style>\n",
              "    .colab-df-container {\n",
              "      display:flex;\n",
              "      flex-wrap:wrap;\n",
              "      gap: 12px;\n",
              "    }\n",
              "\n",
              "    .colab-df-convert {\n",
              "      background-color: #E8F0FE;\n",
              "      border: none;\n",
              "      border-radius: 50%;\n",
              "      cursor: pointer;\n",
              "      display: none;\n",
              "      fill: #1967D2;\n",
              "      height: 32px;\n",
              "      padding: 0 0 0 0;\n",
              "      width: 32px;\n",
              "    }\n",
              "\n",
              "    .colab-df-convert:hover {\n",
              "      background-color: #E2EBFA;\n",
              "      box-shadow: 0px 1px 2px rgba(60, 64, 67, 0.3), 0px 1px 3px 1px rgba(60, 64, 67, 0.15);\n",
              "      fill: #174EA6;\n",
              "    }\n",
              "\n",
              "    [theme=dark] .colab-df-convert {\n",
              "      background-color: #3B4455;\n",
              "      fill: #D2E3FC;\n",
              "    }\n",
              "\n",
              "    [theme=dark] .colab-df-convert:hover {\n",
              "      background-color: #434B5C;\n",
              "      box-shadow: 0px 1px 3px 1px rgba(0, 0, 0, 0.15);\n",
              "      filter: drop-shadow(0px 1px 2px rgba(0, 0, 0, 0.3));\n",
              "      fill: #FFFFFF;\n",
              "    }\n",
              "  </style>\n",
              "\n",
              "      <script>\n",
              "        const buttonEl =\n",
              "          document.querySelector('#df-36d5a0e2-a6f4-4252-9750-57e27bb6521a button.colab-df-convert');\n",
              "        buttonEl.style.display =\n",
              "          google.colab.kernel.accessAllowed ? 'block' : 'none';\n",
              "\n",
              "        async function convertToInteractive(key) {\n",
              "          const element = document.querySelector('#df-36d5a0e2-a6f4-4252-9750-57e27bb6521a');\n",
              "          const dataTable =\n",
              "            await google.colab.kernel.invokeFunction('convertToInteractive',\n",
              "                                                     [key], {});\n",
              "          if (!dataTable) return;\n",
              "\n",
              "          const docLinkHtml = 'Like what you see? Visit the ' +\n",
              "            '<a target=\"_blank\" href=https://colab.research.google.com/notebooks/data_table.ipynb>data table notebook</a>'\n",
              "            + ' to learn more about interactive tables.';\n",
              "          element.innerHTML = '';\n",
              "          dataTable['output_type'] = 'display_data';\n",
              "          await google.colab.output.renderOutput(dataTable, element);\n",
              "          const docLink = document.createElement('div');\n",
              "          docLink.innerHTML = docLinkHtml;\n",
              "          element.appendChild(docLink);\n",
              "        }\n",
              "      </script>\n",
              "    </div>\n",
              "  </div>\n",
              "  "
            ]
          },
          "metadata": {}
        },
        {
          "output_type": "stream",
          "name": "stdout",
          "text": [
            "\n",
            "Últimas 5 filas:\n"
          ]
        },
        {
          "output_type": "display_data",
          "data": {
            "text/plain": [
              "                 names  gender race/ethnicity parental level of education  \\\n",
              "1395  Alexander Dillon    male        group D          associate's degree   \n",
              "1396    Marina Zeigler  female        group C           bachelor's degree   \n",
              "1397     Laurie Carter  female        group B            some high school   \n",
              "1398      Joseph Mccoy    male        group D                some college   \n",
              "1399      Amanda Perez  female        group A                 high school   \n",
              "\n",
              "             lunch test preparation course  math score  reading score  \\\n",
              "1395      standard                    none       193.0          142.0   \n",
              "1396  free/reduced               completed        66.0           74.0   \n",
              "1397      standard               completed        54.0           61.0   \n",
              "1398  free/reduced                    none       193.0          196.0   \n",
              "1399      standard               completed        68.0           80.0   \n",
              "\n",
              "      writing score  \n",
              "1395          193.0  \n",
              "1396           81.0  \n",
              "1397           62.0  \n",
              "1398          193.0  \n",
              "1399           76.0  "
            ],
            "text/html": [
              "\n",
              "  <div id=\"df-9efbc5cc-31e9-4230-a556-fbc262954cd1\">\n",
              "    <div class=\"colab-df-container\">\n",
              "      <div>\n",
              "<style scoped>\n",
              "    .dataframe tbody tr th:only-of-type {\n",
              "        vertical-align: middle;\n",
              "    }\n",
              "\n",
              "    .dataframe tbody tr th {\n",
              "        vertical-align: top;\n",
              "    }\n",
              "\n",
              "    .dataframe thead th {\n",
              "        text-align: right;\n",
              "    }\n",
              "</style>\n",
              "<table border=\"1\" class=\"dataframe\">\n",
              "  <thead>\n",
              "    <tr style=\"text-align: right;\">\n",
              "      <th></th>\n",
              "      <th>names</th>\n",
              "      <th>gender</th>\n",
              "      <th>race/ethnicity</th>\n",
              "      <th>parental level of education</th>\n",
              "      <th>lunch</th>\n",
              "      <th>test preparation course</th>\n",
              "      <th>math score</th>\n",
              "      <th>reading score</th>\n",
              "      <th>writing score</th>\n",
              "    </tr>\n",
              "  </thead>\n",
              "  <tbody>\n",
              "    <tr>\n",
              "      <th>1395</th>\n",
              "      <td>Alexander Dillon</td>\n",
              "      <td>male</td>\n",
              "      <td>group D</td>\n",
              "      <td>associate's degree</td>\n",
              "      <td>standard</td>\n",
              "      <td>none</td>\n",
              "      <td>193.0</td>\n",
              "      <td>142.0</td>\n",
              "      <td>193.0</td>\n",
              "    </tr>\n",
              "    <tr>\n",
              "      <th>1396</th>\n",
              "      <td>Marina Zeigler</td>\n",
              "      <td>female</td>\n",
              "      <td>group C</td>\n",
              "      <td>bachelor's degree</td>\n",
              "      <td>free/reduced</td>\n",
              "      <td>completed</td>\n",
              "      <td>66.0</td>\n",
              "      <td>74.0</td>\n",
              "      <td>81.0</td>\n",
              "    </tr>\n",
              "    <tr>\n",
              "      <th>1397</th>\n",
              "      <td>Laurie Carter</td>\n",
              "      <td>female</td>\n",
              "      <td>group B</td>\n",
              "      <td>some high school</td>\n",
              "      <td>standard</td>\n",
              "      <td>completed</td>\n",
              "      <td>54.0</td>\n",
              "      <td>61.0</td>\n",
              "      <td>62.0</td>\n",
              "    </tr>\n",
              "    <tr>\n",
              "      <th>1398</th>\n",
              "      <td>Joseph Mccoy</td>\n",
              "      <td>male</td>\n",
              "      <td>group D</td>\n",
              "      <td>some college</td>\n",
              "      <td>free/reduced</td>\n",
              "      <td>none</td>\n",
              "      <td>193.0</td>\n",
              "      <td>196.0</td>\n",
              "      <td>193.0</td>\n",
              "    </tr>\n",
              "    <tr>\n",
              "      <th>1399</th>\n",
              "      <td>Amanda Perez</td>\n",
              "      <td>female</td>\n",
              "      <td>group A</td>\n",
              "      <td>high school</td>\n",
              "      <td>standard</td>\n",
              "      <td>completed</td>\n",
              "      <td>68.0</td>\n",
              "      <td>80.0</td>\n",
              "      <td>76.0</td>\n",
              "    </tr>\n",
              "  </tbody>\n",
              "</table>\n",
              "</div>\n",
              "      <button class=\"colab-df-convert\" onclick=\"convertToInteractive('df-9efbc5cc-31e9-4230-a556-fbc262954cd1')\"\n",
              "              title=\"Convert this dataframe to an interactive table.\"\n",
              "              style=\"display:none;\">\n",
              "        \n",
              "  <svg xmlns=\"http://www.w3.org/2000/svg\" height=\"24px\"viewBox=\"0 0 24 24\"\n",
              "       width=\"24px\">\n",
              "    <path d=\"M0 0h24v24H0V0z\" fill=\"none\"/>\n",
              "    <path d=\"M18.56 5.44l.94 2.06.94-2.06 2.06-.94-2.06-.94-.94-2.06-.94 2.06-2.06.94zm-11 1L8.5 8.5l.94-2.06 2.06-.94-2.06-.94L8.5 2.5l-.94 2.06-2.06.94zm10 10l.94 2.06.94-2.06 2.06-.94-2.06-.94-.94-2.06-.94 2.06-2.06.94z\"/><path d=\"M17.41 7.96l-1.37-1.37c-.4-.4-.92-.59-1.43-.59-.52 0-1.04.2-1.43.59L10.3 9.45l-7.72 7.72c-.78.78-.78 2.05 0 2.83L4 21.41c.39.39.9.59 1.41.59.51 0 1.02-.2 1.41-.59l7.78-7.78 2.81-2.81c.8-.78.8-2.07 0-2.86zM5.41 20L4 18.59l7.72-7.72 1.47 1.35L5.41 20z\"/>\n",
              "  </svg>\n",
              "      </button>\n",
              "      \n",
              "  <style>\n",
              "    .colab-df-container {\n",
              "      display:flex;\n",
              "      flex-wrap:wrap;\n",
              "      gap: 12px;\n",
              "    }\n",
              "\n",
              "    .colab-df-convert {\n",
              "      background-color: #E8F0FE;\n",
              "      border: none;\n",
              "      border-radius: 50%;\n",
              "      cursor: pointer;\n",
              "      display: none;\n",
              "      fill: #1967D2;\n",
              "      height: 32px;\n",
              "      padding: 0 0 0 0;\n",
              "      width: 32px;\n",
              "    }\n",
              "\n",
              "    .colab-df-convert:hover {\n",
              "      background-color: #E2EBFA;\n",
              "      box-shadow: 0px 1px 2px rgba(60, 64, 67, 0.3), 0px 1px 3px 1px rgba(60, 64, 67, 0.15);\n",
              "      fill: #174EA6;\n",
              "    }\n",
              "\n",
              "    [theme=dark] .colab-df-convert {\n",
              "      background-color: #3B4455;\n",
              "      fill: #D2E3FC;\n",
              "    }\n",
              "\n",
              "    [theme=dark] .colab-df-convert:hover {\n",
              "      background-color: #434B5C;\n",
              "      box-shadow: 0px 1px 3px 1px rgba(0, 0, 0, 0.15);\n",
              "      filter: drop-shadow(0px 1px 2px rgba(0, 0, 0, 0.3));\n",
              "      fill: #FFFFFF;\n",
              "    }\n",
              "  </style>\n",
              "\n",
              "      <script>\n",
              "        const buttonEl =\n",
              "          document.querySelector('#df-9efbc5cc-31e9-4230-a556-fbc262954cd1 button.colab-df-convert');\n",
              "        buttonEl.style.display =\n",
              "          google.colab.kernel.accessAllowed ? 'block' : 'none';\n",
              "\n",
              "        async function convertToInteractive(key) {\n",
              "          const element = document.querySelector('#df-9efbc5cc-31e9-4230-a556-fbc262954cd1');\n",
              "          const dataTable =\n",
              "            await google.colab.kernel.invokeFunction('convertToInteractive',\n",
              "                                                     [key], {});\n",
              "          if (!dataTable) return;\n",
              "\n",
              "          const docLinkHtml = 'Like what you see? Visit the ' +\n",
              "            '<a target=\"_blank\" href=https://colab.research.google.com/notebooks/data_table.ipynb>data table notebook</a>'\n",
              "            + ' to learn more about interactive tables.';\n",
              "          element.innerHTML = '';\n",
              "          dataTable['output_type'] = 'display_data';\n",
              "          await google.colab.output.renderOutput(dataTable, element);\n",
              "          const docLink = document.createElement('div');\n",
              "          docLink.innerHTML = docLinkHtml;\n",
              "          element.appendChild(docLink);\n",
              "        }\n",
              "      </script>\n",
              "    </div>\n",
              "  </div>\n",
              "  "
            ]
          },
          "metadata": {}
        },
        {
          "output_type": "stream",
          "name": "stdout",
          "text": [
            "\n",
            "Muestreo aleatorio de 5 filas:\n"
          ]
        },
        {
          "output_type": "display_data",
          "data": {
            "text/plain": [
              "                names  gender race/ethnicity parental level of education  \\\n",
              "1157  Elizabeth Crain  female        group E             master's degree   \n",
              "631       Norman Reed    male        group E                some college   \n",
              "1072  Jennifer Tucker  female        group E          associate's degree   \n",
              "1329     Connie Banda  female        group C                some college   \n",
              "812      Scott Rogers    male        group E          associate's degree   \n",
              "\n",
              "             lunch test preparation course  math score  reading score  \\\n",
              "1157  free/reduced                    none        81.0           86.0   \n",
              "631       standard                    none        86.0           76.0   \n",
              "1072      standard                    none        59.0           62.0   \n",
              "1329      standard               completed        88.0           93.0   \n",
              "812   free/reduced               completed        78.0           74.0   \n",
              "\n",
              "      writing score  \n",
              "1157           87.0  \n",
              "631            74.0  \n",
              "1072           69.0  \n",
              "1329           93.0  \n",
              "812            72.0  "
            ],
            "text/html": [
              "\n",
              "  <div id=\"df-24d5e0f1-13e5-4f46-bfff-f90b2269275a\">\n",
              "    <div class=\"colab-df-container\">\n",
              "      <div>\n",
              "<style scoped>\n",
              "    .dataframe tbody tr th:only-of-type {\n",
              "        vertical-align: middle;\n",
              "    }\n",
              "\n",
              "    .dataframe tbody tr th {\n",
              "        vertical-align: top;\n",
              "    }\n",
              "\n",
              "    .dataframe thead th {\n",
              "        text-align: right;\n",
              "    }\n",
              "</style>\n",
              "<table border=\"1\" class=\"dataframe\">\n",
              "  <thead>\n",
              "    <tr style=\"text-align: right;\">\n",
              "      <th></th>\n",
              "      <th>names</th>\n",
              "      <th>gender</th>\n",
              "      <th>race/ethnicity</th>\n",
              "      <th>parental level of education</th>\n",
              "      <th>lunch</th>\n",
              "      <th>test preparation course</th>\n",
              "      <th>math score</th>\n",
              "      <th>reading score</th>\n",
              "      <th>writing score</th>\n",
              "    </tr>\n",
              "  </thead>\n",
              "  <tbody>\n",
              "    <tr>\n",
              "      <th>1157</th>\n",
              "      <td>Elizabeth Crain</td>\n",
              "      <td>female</td>\n",
              "      <td>group E</td>\n",
              "      <td>master's degree</td>\n",
              "      <td>free/reduced</td>\n",
              "      <td>none</td>\n",
              "      <td>81.0</td>\n",
              "      <td>86.0</td>\n",
              "      <td>87.0</td>\n",
              "    </tr>\n",
              "    <tr>\n",
              "      <th>631</th>\n",
              "      <td>Norman Reed</td>\n",
              "      <td>male</td>\n",
              "      <td>group E</td>\n",
              "      <td>some college</td>\n",
              "      <td>standard</td>\n",
              "      <td>none</td>\n",
              "      <td>86.0</td>\n",
              "      <td>76.0</td>\n",
              "      <td>74.0</td>\n",
              "    </tr>\n",
              "    <tr>\n",
              "      <th>1072</th>\n",
              "      <td>Jennifer Tucker</td>\n",
              "      <td>female</td>\n",
              "      <td>group E</td>\n",
              "      <td>associate's degree</td>\n",
              "      <td>standard</td>\n",
              "      <td>none</td>\n",
              "      <td>59.0</td>\n",
              "      <td>62.0</td>\n",
              "      <td>69.0</td>\n",
              "    </tr>\n",
              "    <tr>\n",
              "      <th>1329</th>\n",
              "      <td>Connie Banda</td>\n",
              "      <td>female</td>\n",
              "      <td>group C</td>\n",
              "      <td>some college</td>\n",
              "      <td>standard</td>\n",
              "      <td>completed</td>\n",
              "      <td>88.0</td>\n",
              "      <td>93.0</td>\n",
              "      <td>93.0</td>\n",
              "    </tr>\n",
              "    <tr>\n",
              "      <th>812</th>\n",
              "      <td>Scott Rogers</td>\n",
              "      <td>male</td>\n",
              "      <td>group E</td>\n",
              "      <td>associate's degree</td>\n",
              "      <td>free/reduced</td>\n",
              "      <td>completed</td>\n",
              "      <td>78.0</td>\n",
              "      <td>74.0</td>\n",
              "      <td>72.0</td>\n",
              "    </tr>\n",
              "  </tbody>\n",
              "</table>\n",
              "</div>\n",
              "      <button class=\"colab-df-convert\" onclick=\"convertToInteractive('df-24d5e0f1-13e5-4f46-bfff-f90b2269275a')\"\n",
              "              title=\"Convert this dataframe to an interactive table.\"\n",
              "              style=\"display:none;\">\n",
              "        \n",
              "  <svg xmlns=\"http://www.w3.org/2000/svg\" height=\"24px\"viewBox=\"0 0 24 24\"\n",
              "       width=\"24px\">\n",
              "    <path d=\"M0 0h24v24H0V0z\" fill=\"none\"/>\n",
              "    <path d=\"M18.56 5.44l.94 2.06.94-2.06 2.06-.94-2.06-.94-.94-2.06-.94 2.06-2.06.94zm-11 1L8.5 8.5l.94-2.06 2.06-.94-2.06-.94L8.5 2.5l-.94 2.06-2.06.94zm10 10l.94 2.06.94-2.06 2.06-.94-2.06-.94-.94-2.06-.94 2.06-2.06.94z\"/><path d=\"M17.41 7.96l-1.37-1.37c-.4-.4-.92-.59-1.43-.59-.52 0-1.04.2-1.43.59L10.3 9.45l-7.72 7.72c-.78.78-.78 2.05 0 2.83L4 21.41c.39.39.9.59 1.41.59.51 0 1.02-.2 1.41-.59l7.78-7.78 2.81-2.81c.8-.78.8-2.07 0-2.86zM5.41 20L4 18.59l7.72-7.72 1.47 1.35L5.41 20z\"/>\n",
              "  </svg>\n",
              "      </button>\n",
              "      \n",
              "  <style>\n",
              "    .colab-df-container {\n",
              "      display:flex;\n",
              "      flex-wrap:wrap;\n",
              "      gap: 12px;\n",
              "    }\n",
              "\n",
              "    .colab-df-convert {\n",
              "      background-color: #E8F0FE;\n",
              "      border: none;\n",
              "      border-radius: 50%;\n",
              "      cursor: pointer;\n",
              "      display: none;\n",
              "      fill: #1967D2;\n",
              "      height: 32px;\n",
              "      padding: 0 0 0 0;\n",
              "      width: 32px;\n",
              "    }\n",
              "\n",
              "    .colab-df-convert:hover {\n",
              "      background-color: #E2EBFA;\n",
              "      box-shadow: 0px 1px 2px rgba(60, 64, 67, 0.3), 0px 1px 3px 1px rgba(60, 64, 67, 0.15);\n",
              "      fill: #174EA6;\n",
              "    }\n",
              "\n",
              "    [theme=dark] .colab-df-convert {\n",
              "      background-color: #3B4455;\n",
              "      fill: #D2E3FC;\n",
              "    }\n",
              "\n",
              "    [theme=dark] .colab-df-convert:hover {\n",
              "      background-color: #434B5C;\n",
              "      box-shadow: 0px 1px 3px 1px rgba(0, 0, 0, 0.15);\n",
              "      filter: drop-shadow(0px 1px 2px rgba(0, 0, 0, 0.3));\n",
              "      fill: #FFFFFF;\n",
              "    }\n",
              "  </style>\n",
              "\n",
              "      <script>\n",
              "        const buttonEl =\n",
              "          document.querySelector('#df-24d5e0f1-13e5-4f46-bfff-f90b2269275a button.colab-df-convert');\n",
              "        buttonEl.style.display =\n",
              "          google.colab.kernel.accessAllowed ? 'block' : 'none';\n",
              "\n",
              "        async function convertToInteractive(key) {\n",
              "          const element = document.querySelector('#df-24d5e0f1-13e5-4f46-bfff-f90b2269275a');\n",
              "          const dataTable =\n",
              "            await google.colab.kernel.invokeFunction('convertToInteractive',\n",
              "                                                     [key], {});\n",
              "          if (!dataTable) return;\n",
              "\n",
              "          const docLinkHtml = 'Like what you see? Visit the ' +\n",
              "            '<a target=\"_blank\" href=https://colab.research.google.com/notebooks/data_table.ipynb>data table notebook</a>'\n",
              "            + ' to learn more about interactive tables.';\n",
              "          element.innerHTML = '';\n",
              "          dataTable['output_type'] = 'display_data';\n",
              "          await google.colab.output.renderOutput(dataTable, element);\n",
              "          const docLink = document.createElement('div');\n",
              "          docLink.innerHTML = docLinkHtml;\n",
              "          element.appendChild(docLink);\n",
              "        }\n",
              "      </script>\n",
              "    </div>\n",
              "  </div>\n",
              "  "
            ]
          },
          "metadata": {}
        },
        {
          "output_type": "stream",
          "name": "stdout",
          "text": [
            "\n",
            "4.- Descripción numérica del Dataframe:\n"
          ]
        },
        {
          "output_type": "display_data",
          "data": {
            "text/plain": [
              "        math score  reading score  writing score\n",
              "count  1360.000000    1360.000000    1353.000000\n",
              "mean     89.538971      93.086029      91.852919\n",
              "std      47.152422      46.385775      47.043570\n",
              "min       0.000000      17.000000      10.000000\n",
              "25%      59.000000      63.000000      62.000000\n",
              "50%      72.000000      76.000000      75.000000\n",
              "75%      97.250000     100.000000     100.000000\n",
              "max     196.000000     196.000000     196.000000"
            ],
            "text/html": [
              "\n",
              "  <div id=\"df-f943cd02-70c3-41bc-b7e2-655ce4145ec1\">\n",
              "    <div class=\"colab-df-container\">\n",
              "      <div>\n",
              "<style scoped>\n",
              "    .dataframe tbody tr th:only-of-type {\n",
              "        vertical-align: middle;\n",
              "    }\n",
              "\n",
              "    .dataframe tbody tr th {\n",
              "        vertical-align: top;\n",
              "    }\n",
              "\n",
              "    .dataframe thead th {\n",
              "        text-align: right;\n",
              "    }\n",
              "</style>\n",
              "<table border=\"1\" class=\"dataframe\">\n",
              "  <thead>\n",
              "    <tr style=\"text-align: right;\">\n",
              "      <th></th>\n",
              "      <th>math score</th>\n",
              "      <th>reading score</th>\n",
              "      <th>writing score</th>\n",
              "    </tr>\n",
              "  </thead>\n",
              "  <tbody>\n",
              "    <tr>\n",
              "      <th>count</th>\n",
              "      <td>1360.000000</td>\n",
              "      <td>1360.000000</td>\n",
              "      <td>1353.000000</td>\n",
              "    </tr>\n",
              "    <tr>\n",
              "      <th>mean</th>\n",
              "      <td>89.538971</td>\n",
              "      <td>93.086029</td>\n",
              "      <td>91.852919</td>\n",
              "    </tr>\n",
              "    <tr>\n",
              "      <th>std</th>\n",
              "      <td>47.152422</td>\n",
              "      <td>46.385775</td>\n",
              "      <td>47.043570</td>\n",
              "    </tr>\n",
              "    <tr>\n",
              "      <th>min</th>\n",
              "      <td>0.000000</td>\n",
              "      <td>17.000000</td>\n",
              "      <td>10.000000</td>\n",
              "    </tr>\n",
              "    <tr>\n",
              "      <th>25%</th>\n",
              "      <td>59.000000</td>\n",
              "      <td>63.000000</td>\n",
              "      <td>62.000000</td>\n",
              "    </tr>\n",
              "    <tr>\n",
              "      <th>50%</th>\n",
              "      <td>72.000000</td>\n",
              "      <td>76.000000</td>\n",
              "      <td>75.000000</td>\n",
              "    </tr>\n",
              "    <tr>\n",
              "      <th>75%</th>\n",
              "      <td>97.250000</td>\n",
              "      <td>100.000000</td>\n",
              "      <td>100.000000</td>\n",
              "    </tr>\n",
              "    <tr>\n",
              "      <th>max</th>\n",
              "      <td>196.000000</td>\n",
              "      <td>196.000000</td>\n",
              "      <td>196.000000</td>\n",
              "    </tr>\n",
              "  </tbody>\n",
              "</table>\n",
              "</div>\n",
              "      <button class=\"colab-df-convert\" onclick=\"convertToInteractive('df-f943cd02-70c3-41bc-b7e2-655ce4145ec1')\"\n",
              "              title=\"Convert this dataframe to an interactive table.\"\n",
              "              style=\"display:none;\">\n",
              "        \n",
              "  <svg xmlns=\"http://www.w3.org/2000/svg\" height=\"24px\"viewBox=\"0 0 24 24\"\n",
              "       width=\"24px\">\n",
              "    <path d=\"M0 0h24v24H0V0z\" fill=\"none\"/>\n",
              "    <path d=\"M18.56 5.44l.94 2.06.94-2.06 2.06-.94-2.06-.94-.94-2.06-.94 2.06-2.06.94zm-11 1L8.5 8.5l.94-2.06 2.06-.94-2.06-.94L8.5 2.5l-.94 2.06-2.06.94zm10 10l.94 2.06.94-2.06 2.06-.94-2.06-.94-.94-2.06-.94 2.06-2.06.94z\"/><path d=\"M17.41 7.96l-1.37-1.37c-.4-.4-.92-.59-1.43-.59-.52 0-1.04.2-1.43.59L10.3 9.45l-7.72 7.72c-.78.78-.78 2.05 0 2.83L4 21.41c.39.39.9.59 1.41.59.51 0 1.02-.2 1.41-.59l7.78-7.78 2.81-2.81c.8-.78.8-2.07 0-2.86zM5.41 20L4 18.59l7.72-7.72 1.47 1.35L5.41 20z\"/>\n",
              "  </svg>\n",
              "      </button>\n",
              "      \n",
              "  <style>\n",
              "    .colab-df-container {\n",
              "      display:flex;\n",
              "      flex-wrap:wrap;\n",
              "      gap: 12px;\n",
              "    }\n",
              "\n",
              "    .colab-df-convert {\n",
              "      background-color: #E8F0FE;\n",
              "      border: none;\n",
              "      border-radius: 50%;\n",
              "      cursor: pointer;\n",
              "      display: none;\n",
              "      fill: #1967D2;\n",
              "      height: 32px;\n",
              "      padding: 0 0 0 0;\n",
              "      width: 32px;\n",
              "    }\n",
              "\n",
              "    .colab-df-convert:hover {\n",
              "      background-color: #E2EBFA;\n",
              "      box-shadow: 0px 1px 2px rgba(60, 64, 67, 0.3), 0px 1px 3px 1px rgba(60, 64, 67, 0.15);\n",
              "      fill: #174EA6;\n",
              "    }\n",
              "\n",
              "    [theme=dark] .colab-df-convert {\n",
              "      background-color: #3B4455;\n",
              "      fill: #D2E3FC;\n",
              "    }\n",
              "\n",
              "    [theme=dark] .colab-df-convert:hover {\n",
              "      background-color: #434B5C;\n",
              "      box-shadow: 0px 1px 3px 1px rgba(0, 0, 0, 0.15);\n",
              "      filter: drop-shadow(0px 1px 2px rgba(0, 0, 0, 0.3));\n",
              "      fill: #FFFFFF;\n",
              "    }\n",
              "  </style>\n",
              "\n",
              "      <script>\n",
              "        const buttonEl =\n",
              "          document.querySelector('#df-f943cd02-70c3-41bc-b7e2-655ce4145ec1 button.colab-df-convert');\n",
              "        buttonEl.style.display =\n",
              "          google.colab.kernel.accessAllowed ? 'block' : 'none';\n",
              "\n",
              "        async function convertToInteractive(key) {\n",
              "          const element = document.querySelector('#df-f943cd02-70c3-41bc-b7e2-655ce4145ec1');\n",
              "          const dataTable =\n",
              "            await google.colab.kernel.invokeFunction('convertToInteractive',\n",
              "                                                     [key], {});\n",
              "          if (!dataTable) return;\n",
              "\n",
              "          const docLinkHtml = 'Like what you see? Visit the ' +\n",
              "            '<a target=\"_blank\" href=https://colab.research.google.com/notebooks/data_table.ipynb>data table notebook</a>'\n",
              "            + ' to learn more about interactive tables.';\n",
              "          element.innerHTML = '';\n",
              "          dataTable['output_type'] = 'display_data';\n",
              "          await google.colab.output.renderOutput(dataTable, element);\n",
              "          const docLink = document.createElement('div');\n",
              "          docLink.innerHTML = docLinkHtml;\n",
              "          element.appendChild(docLink);\n",
              "        }\n",
              "      </script>\n",
              "    </div>\n",
              "  </div>\n",
              "  "
            ]
          },
          "metadata": {}
        },
        {
          "output_type": "stream",
          "name": "stdout",
          "text": [
            "\n",
            "5.- Cantidad de valores nulo por columna\n"
          ]
        },
        {
          "output_type": "display_data",
          "data": {
            "text/plain": [
              "names                           0\n",
              "gender                          0\n",
              "race/ethnicity                  0\n",
              "parental level of education     0\n",
              "lunch                           0\n",
              "test preparation course         0\n",
              "math score                     40\n",
              "reading score                  40\n",
              "writing score                  47\n",
              "dtype: int64"
            ]
          },
          "metadata": {}
        },
        {
          "output_type": "stream",
          "name": "stdout",
          "text": [
            "\n",
            "6.- Cantidad de valores únicos por columna:\n"
          ]
        },
        {
          "output_type": "display_data",
          "data": {
            "text/plain": [
              "names                          1153\n",
              "gender                            2\n",
              "race/ethnicity                    5\n",
              "parental level of education       6\n",
              "lunch                             2\n",
              "test preparation course           2\n",
              "math score                       96\n",
              "reading score                    88\n",
              "writing score                    92\n",
              "dtype: int64"
            ]
          },
          "metadata": {}
        },
        {
          "output_type": "stream",
          "name": "stdout",
          "text": [
            "\n",
            "7.- Presenta un total de 247 filas con nombres duplicados.\n",
            "\n",
            "8.- Las filas con nombres duplicados son:\n"
          ]
        },
        {
          "output_type": "display_data",
          "data": {
            "text/plain": [
              "                   names  gender race/ethnicity parental level of education  \\\n",
              "12         Rita Courtney  female        group B            some high school   \n",
              "81    Elizabeth Quintero  female        group B                some college   \n",
              "160    Michelle Gonzales  female        group B            some high school   \n",
              "170        Carla Mendoza  female        group D          associate's degree   \n",
              "176       Darlene Parker  female        group C          associate's degree   \n",
              "...                  ...     ...            ...                         ...   \n",
              "1385      James Crawford    male        group D             master's degree   \n",
              "1390     Gloria Bradford  female        group B                 high school   \n",
              "1393         Adam Romero    male        group C                 high school   \n",
              "1395    Alexander Dillon    male        group D          associate's degree   \n",
              "1398        Joseph Mccoy    male        group D                some college   \n",
              "\n",
              "             lunch test preparation course  math score  reading score  \\\n",
              "12        standard                    none       193.0          193.0   \n",
              "81        standard                    none        82.0           85.0   \n",
              "160       standard               completed        60.0           70.0   \n",
              "170   free/reduced                    none        43.0           60.0   \n",
              "176       standard                    none        54.0           61.0   \n",
              "...            ...                     ...         ...            ...   \n",
              "1385      standard                    none       193.0          147.0   \n",
              "1390      standard                    none       124.0           64.0   \n",
              "1393      standard               completed       124.0          193.0   \n",
              "1395      standard                    none       193.0          142.0   \n",
              "1398  free/reduced                    none       193.0          196.0   \n",
              "\n",
              "      writing score  \n",
              "12            193.0  \n",
              "81             87.0  \n",
              "160            74.0  \n",
              "170            58.0  \n",
              "176            58.0  \n",
              "...             ...  \n",
              "1385          131.0  \n",
              "1390          193.0  \n",
              "1393           49.0  \n",
              "1395          193.0  \n",
              "1398          193.0  \n",
              "\n",
              "[247 rows x 9 columns]"
            ],
            "text/html": [
              "\n",
              "  <div id=\"df-4101b276-e0f1-4933-b42b-4445b0e46946\">\n",
              "    <div class=\"colab-df-container\">\n",
              "      <div>\n",
              "<style scoped>\n",
              "    .dataframe tbody tr th:only-of-type {\n",
              "        vertical-align: middle;\n",
              "    }\n",
              "\n",
              "    .dataframe tbody tr th {\n",
              "        vertical-align: top;\n",
              "    }\n",
              "\n",
              "    .dataframe thead th {\n",
              "        text-align: right;\n",
              "    }\n",
              "</style>\n",
              "<table border=\"1\" class=\"dataframe\">\n",
              "  <thead>\n",
              "    <tr style=\"text-align: right;\">\n",
              "      <th></th>\n",
              "      <th>names</th>\n",
              "      <th>gender</th>\n",
              "      <th>race/ethnicity</th>\n",
              "      <th>parental level of education</th>\n",
              "      <th>lunch</th>\n",
              "      <th>test preparation course</th>\n",
              "      <th>math score</th>\n",
              "      <th>reading score</th>\n",
              "      <th>writing score</th>\n",
              "    </tr>\n",
              "  </thead>\n",
              "  <tbody>\n",
              "    <tr>\n",
              "      <th>12</th>\n",
              "      <td>Rita Courtney</td>\n",
              "      <td>female</td>\n",
              "      <td>group B</td>\n",
              "      <td>some high school</td>\n",
              "      <td>standard</td>\n",
              "      <td>none</td>\n",
              "      <td>193.0</td>\n",
              "      <td>193.0</td>\n",
              "      <td>193.0</td>\n",
              "    </tr>\n",
              "    <tr>\n",
              "      <th>81</th>\n",
              "      <td>Elizabeth Quintero</td>\n",
              "      <td>female</td>\n",
              "      <td>group B</td>\n",
              "      <td>some college</td>\n",
              "      <td>standard</td>\n",
              "      <td>none</td>\n",
              "      <td>82.0</td>\n",
              "      <td>85.0</td>\n",
              "      <td>87.0</td>\n",
              "    </tr>\n",
              "    <tr>\n",
              "      <th>160</th>\n",
              "      <td>Michelle Gonzales</td>\n",
              "      <td>female</td>\n",
              "      <td>group B</td>\n",
              "      <td>some high school</td>\n",
              "      <td>standard</td>\n",
              "      <td>completed</td>\n",
              "      <td>60.0</td>\n",
              "      <td>70.0</td>\n",
              "      <td>74.0</td>\n",
              "    </tr>\n",
              "    <tr>\n",
              "      <th>170</th>\n",
              "      <td>Carla Mendoza</td>\n",
              "      <td>female</td>\n",
              "      <td>group D</td>\n",
              "      <td>associate's degree</td>\n",
              "      <td>free/reduced</td>\n",
              "      <td>none</td>\n",
              "      <td>43.0</td>\n",
              "      <td>60.0</td>\n",
              "      <td>58.0</td>\n",
              "    </tr>\n",
              "    <tr>\n",
              "      <th>176</th>\n",
              "      <td>Darlene Parker</td>\n",
              "      <td>female</td>\n",
              "      <td>group C</td>\n",
              "      <td>associate's degree</td>\n",
              "      <td>standard</td>\n",
              "      <td>none</td>\n",
              "      <td>54.0</td>\n",
              "      <td>61.0</td>\n",
              "      <td>58.0</td>\n",
              "    </tr>\n",
              "    <tr>\n",
              "      <th>...</th>\n",
              "      <td>...</td>\n",
              "      <td>...</td>\n",
              "      <td>...</td>\n",
              "      <td>...</td>\n",
              "      <td>...</td>\n",
              "      <td>...</td>\n",
              "      <td>...</td>\n",
              "      <td>...</td>\n",
              "      <td>...</td>\n",
              "    </tr>\n",
              "    <tr>\n",
              "      <th>1385</th>\n",
              "      <td>James Crawford</td>\n",
              "      <td>male</td>\n",
              "      <td>group D</td>\n",
              "      <td>master's degree</td>\n",
              "      <td>standard</td>\n",
              "      <td>none</td>\n",
              "      <td>193.0</td>\n",
              "      <td>147.0</td>\n",
              "      <td>131.0</td>\n",
              "    </tr>\n",
              "    <tr>\n",
              "      <th>1390</th>\n",
              "      <td>Gloria Bradford</td>\n",
              "      <td>female</td>\n",
              "      <td>group B</td>\n",
              "      <td>high school</td>\n",
              "      <td>standard</td>\n",
              "      <td>none</td>\n",
              "      <td>124.0</td>\n",
              "      <td>64.0</td>\n",
              "      <td>193.0</td>\n",
              "    </tr>\n",
              "    <tr>\n",
              "      <th>1393</th>\n",
              "      <td>Adam Romero</td>\n",
              "      <td>male</td>\n",
              "      <td>group C</td>\n",
              "      <td>high school</td>\n",
              "      <td>standard</td>\n",
              "      <td>completed</td>\n",
              "      <td>124.0</td>\n",
              "      <td>193.0</td>\n",
              "      <td>49.0</td>\n",
              "    </tr>\n",
              "    <tr>\n",
              "      <th>1395</th>\n",
              "      <td>Alexander Dillon</td>\n",
              "      <td>male</td>\n",
              "      <td>group D</td>\n",
              "      <td>associate's degree</td>\n",
              "      <td>standard</td>\n",
              "      <td>none</td>\n",
              "      <td>193.0</td>\n",
              "      <td>142.0</td>\n",
              "      <td>193.0</td>\n",
              "    </tr>\n",
              "    <tr>\n",
              "      <th>1398</th>\n",
              "      <td>Joseph Mccoy</td>\n",
              "      <td>male</td>\n",
              "      <td>group D</td>\n",
              "      <td>some college</td>\n",
              "      <td>free/reduced</td>\n",
              "      <td>none</td>\n",
              "      <td>193.0</td>\n",
              "      <td>196.0</td>\n",
              "      <td>193.0</td>\n",
              "    </tr>\n",
              "  </tbody>\n",
              "</table>\n",
              "<p>247 rows × 9 columns</p>\n",
              "</div>\n",
              "      <button class=\"colab-df-convert\" onclick=\"convertToInteractive('df-4101b276-e0f1-4933-b42b-4445b0e46946')\"\n",
              "              title=\"Convert this dataframe to an interactive table.\"\n",
              "              style=\"display:none;\">\n",
              "        \n",
              "  <svg xmlns=\"http://www.w3.org/2000/svg\" height=\"24px\"viewBox=\"0 0 24 24\"\n",
              "       width=\"24px\">\n",
              "    <path d=\"M0 0h24v24H0V0z\" fill=\"none\"/>\n",
              "    <path d=\"M18.56 5.44l.94 2.06.94-2.06 2.06-.94-2.06-.94-.94-2.06-.94 2.06-2.06.94zm-11 1L8.5 8.5l.94-2.06 2.06-.94-2.06-.94L8.5 2.5l-.94 2.06-2.06.94zm10 10l.94 2.06.94-2.06 2.06-.94-2.06-.94-.94-2.06-.94 2.06-2.06.94z\"/><path d=\"M17.41 7.96l-1.37-1.37c-.4-.4-.92-.59-1.43-.59-.52 0-1.04.2-1.43.59L10.3 9.45l-7.72 7.72c-.78.78-.78 2.05 0 2.83L4 21.41c.39.39.9.59 1.41.59.51 0 1.02-.2 1.41-.59l7.78-7.78 2.81-2.81c.8-.78.8-2.07 0-2.86zM5.41 20L4 18.59l7.72-7.72 1.47 1.35L5.41 20z\"/>\n",
              "  </svg>\n",
              "      </button>\n",
              "      \n",
              "  <style>\n",
              "    .colab-df-container {\n",
              "      display:flex;\n",
              "      flex-wrap:wrap;\n",
              "      gap: 12px;\n",
              "    }\n",
              "\n",
              "    .colab-df-convert {\n",
              "      background-color: #E8F0FE;\n",
              "      border: none;\n",
              "      border-radius: 50%;\n",
              "      cursor: pointer;\n",
              "      display: none;\n",
              "      fill: #1967D2;\n",
              "      height: 32px;\n",
              "      padding: 0 0 0 0;\n",
              "      width: 32px;\n",
              "    }\n",
              "\n",
              "    .colab-df-convert:hover {\n",
              "      background-color: #E2EBFA;\n",
              "      box-shadow: 0px 1px 2px rgba(60, 64, 67, 0.3), 0px 1px 3px 1px rgba(60, 64, 67, 0.15);\n",
              "      fill: #174EA6;\n",
              "    }\n",
              "\n",
              "    [theme=dark] .colab-df-convert {\n",
              "      background-color: #3B4455;\n",
              "      fill: #D2E3FC;\n",
              "    }\n",
              "\n",
              "    [theme=dark] .colab-df-convert:hover {\n",
              "      background-color: #434B5C;\n",
              "      box-shadow: 0px 1px 3px 1px rgba(0, 0, 0, 0.15);\n",
              "      filter: drop-shadow(0px 1px 2px rgba(0, 0, 0, 0.3));\n",
              "      fill: #FFFFFF;\n",
              "    }\n",
              "  </style>\n",
              "\n",
              "      <script>\n",
              "        const buttonEl =\n",
              "          document.querySelector('#df-4101b276-e0f1-4933-b42b-4445b0e46946 button.colab-df-convert');\n",
              "        buttonEl.style.display =\n",
              "          google.colab.kernel.accessAllowed ? 'block' : 'none';\n",
              "\n",
              "        async function convertToInteractive(key) {\n",
              "          const element = document.querySelector('#df-4101b276-e0f1-4933-b42b-4445b0e46946');\n",
              "          const dataTable =\n",
              "            await google.colab.kernel.invokeFunction('convertToInteractive',\n",
              "                                                     [key], {});\n",
              "          if (!dataTable) return;\n",
              "\n",
              "          const docLinkHtml = 'Like what you see? Visit the ' +\n",
              "            '<a target=\"_blank\" href=https://colab.research.google.com/notebooks/data_table.ipynb>data table notebook</a>'\n",
              "            + ' to learn more about interactive tables.';\n",
              "          element.innerHTML = '';\n",
              "          dataTable['output_type'] = 'display_data';\n",
              "          await google.colab.output.renderOutput(dataTable, element);\n",
              "          const docLink = document.createElement('div');\n",
              "          docLink.innerHTML = docLinkHtml;\n",
              "          element.appendChild(docLink);\n",
              "        }\n",
              "      </script>\n",
              "    </div>\n",
              "  </div>\n",
              "  "
            ]
          },
          "metadata": {}
        },
        {
          "output_type": "stream",
          "name": "stdout",
          "text": [
            "\n",
            "9.- Boxplot de notas:\n"
          ]
        },
        {
          "output_type": "stream",
          "name": "stderr",
          "text": [
            "/usr/local/lib/python3.7/dist-packages/matplotlib/cbook/__init__.py:1376: VisibleDeprecationWarning:\n",
            "\n",
            "Creating an ndarray from ragged nested sequences (which is a list-or-tuple of lists-or-tuples-or ndarrays with different lengths or shapes) is deprecated. If you meant to do this, you must specify 'dtype=object' when creating the ndarray.\n",
            "\n"
          ]
        },
        {
          "output_type": "display_data",
          "data": {
            "text/html": [
              "<html>\n",
              "<head><meta charset=\"utf-8\" /></head>\n",
              "<body>\n",
              "    <div>            <script src=\"https://cdnjs.cloudflare.com/ajax/libs/mathjax/2.7.5/MathJax.js?config=TeX-AMS-MML_SVG\"></script><script type=\"text/javascript\">if (window.MathJax) {MathJax.Hub.Config({SVG: {font: \"STIX-Web\"}});}</script>                <script type=\"text/javascript\">window.PlotlyConfig = {MathJaxConfig: 'local'};</script>\n",
              "        <script src=\"https://cdn.plot.ly/plotly-2.11.1.min.js\"></script>                <div id=\"fb8172aa-831d-4462-af0a-d83bebdf8cc2\" class=\"plotly-graph-div\" style=\"height:525px; width:100%;\"></div>            <script type=\"text/javascript\">                                    window.PLOTLYENV=window.PLOTLYENV || {};                                    if (document.getElementById(\"fb8172aa-831d-4462-af0a-d83bebdf8cc2\")) {                    Plotly.newPlot(                        \"fb8172aa-831d-4462-af0a-d83bebdf8cc2\",                        [{\"alignmentgroup\":\"True\",\"hovertemplate\":\"subject=%{x}<br>score=%{y}<extra></extra>\",\"legendgroup\":\"math score\",\"marker\":{\"color\":\"#636efa\"},\"name\":\"math score\",\"notched\":false,\"offsetgroup\":\"math score\",\"orientation\":\"v\",\"showlegend\":true,\"x\":[\"math score\",\"math score\",\"math score\",\"math score\",\"math score\",\"math score\",\"math score\",\"math score\",\"math score\",\"math score\",\"math score\",\"math score\",\"math score\",\"math score\",\"math score\",\"math score\",\"math score\",\"math score\",\"math score\",\"math score\",\"math score\",\"math score\",\"math score\",\"math score\",\"math score\",\"math score\",\"math score\",\"math score\",\"math score\",\"math score\",\"math score\",\"math score\",\"math score\",\"math score\",\"math score\",\"math score\",\"math score\",\"math score\",\"math score\",\"math score\",\"math score\",\"math score\",\"math score\",\"math score\",\"math score\",\"math score\",\"math score\",\"math score\",\"math score\",\"math score\",\"math score\",\"math score\",\"math score\",\"math score\",\"math score\",\"math score\",\"math score\",\"math score\",\"math score\",\"math score\",\"math score\",\"math score\",\"math score\",\"math score\",\"math score\",\"math score\",\"math score\",\"math score\",\"math score\",\"math score\",\"math score\",\"math score\",\"math score\",\"math score\",\"math score\",\"math score\",\"math score\",\"math score\",\"math score\",\"math score\",\"math score\",\"math score\",\"math score\",\"math score\",\"math score\",\"math score\",\"math score\",\"math score\",\"math score\",\"math score\",\"math score\",\"math score\",\"math score\",\"math score\",\"math score\",\"math score\",\"math score\",\"math score\",\"math score\",\"math score\",\"math score\",\"math score\",\"math score\",\"math score\",\"math score\",\"math score\",\"math score\",\"math score\",\"math score\",\"math score\",\"math score\",\"math score\",\"math score\",\"math score\",\"math score\",\"math score\",\"math score\",\"math score\",\"math score\",\"math score\",\"math score\",\"math score\",\"math score\",\"math score\",\"math score\",\"math score\",\"math score\",\"math score\",\"math score\",\"math score\",\"math score\",\"math score\",\"math score\",\"math score\",\"math score\",\"math score\",\"math score\",\"math score\",\"math score\",\"math score\",\"math score\",\"math score\",\"math score\",\"math score\",\"math score\",\"math score\",\"math score\",\"math score\",\"math score\",\"math score\",\"math score\",\"math score\",\"math score\",\"math score\",\"math score\",\"math score\",\"math score\",\"math score\",\"math score\",\"math score\",\"math score\",\"math score\",\"math score\",\"math score\",\"math score\",\"math score\",\"math score\",\"math score\",\"math score\",\"math score\",\"math score\",\"math score\",\"math score\",\"math score\",\"math score\",\"math score\",\"math score\",\"math score\",\"math score\",\"math score\",\"math score\",\"math score\",\"math score\",\"math score\",\"math score\",\"math score\",\"math score\",\"math score\",\"math score\",\"math score\",\"math score\",\"math score\",\"math score\",\"math score\",\"math score\",\"math score\",\"math score\",\"math score\",\"math score\",\"math score\",\"math score\",\"math score\",\"math score\",\"math score\",\"math score\",\"math score\",\"math score\",\"math score\",\"math score\",\"math score\",\"math score\",\"math score\",\"math score\",\"math score\",\"math score\",\"math score\",\"math score\",\"math score\",\"math score\",\"math score\",\"math score\",\"math score\",\"math score\",\"math score\",\"math score\",\"math score\",\"math score\",\"math score\",\"math score\",\"math score\",\"math score\",\"math score\",\"math score\",\"math score\",\"math score\",\"math score\",\"math score\",\"math score\",\"math score\",\"math score\",\"math score\",\"math score\",\"math score\",\"math score\",\"math score\",\"math score\",\"math score\",\"math score\",\"math score\",\"math score\",\"math score\",\"math score\",\"math score\",\"math score\",\"math score\",\"math score\",\"math score\",\"math score\",\"math score\",\"math score\",\"math score\",\"math score\",\"math score\",\"math score\",\"math score\",\"math score\",\"math score\",\"math score\",\"math score\",\"math score\",\"math score\",\"math score\",\"math score\",\"math score\",\"math score\",\"math score\",\"math score\",\"math score\",\"math score\",\"math score\",\"math score\",\"math score\",\"math score\",\"math score\",\"math score\",\"math score\",\"math score\",\"math score\",\"math score\",\"math score\",\"math score\",\"math score\",\"math score\",\"math score\",\"math score\",\"math score\",\"math score\",\"math score\",\"math score\",\"math score\",\"math score\",\"math score\",\"math score\",\"math score\",\"math score\",\"math score\",\"math score\",\"math score\",\"math score\",\"math score\",\"math score\",\"math score\",\"math score\",\"math score\",\"math score\",\"math score\",\"math score\",\"math score\",\"math score\",\"math score\",\"math score\",\"math score\",\"math score\",\"math score\",\"math score\",\"math score\",\"math score\",\"math score\",\"math score\",\"math score\",\"math score\",\"math score\",\"math score\",\"math score\",\"math score\",\"math score\",\"math score\",\"math score\",\"math score\",\"math score\",\"math score\",\"math score\",\"math score\",\"math score\",\"math score\",\"math score\",\"math score\",\"math score\",\"math score\",\"math score\",\"math score\",\"math score\",\"math score\",\"math score\",\"math score\",\"math score\",\"math score\",\"math score\",\"math score\",\"math score\",\"math score\",\"math score\",\"math score\",\"math score\",\"math score\",\"math score\",\"math score\",\"math score\",\"math score\",\"math score\",\"math score\",\"math score\",\"math score\",\"math score\",\"math score\",\"math score\",\"math score\",\"math score\",\"math score\",\"math score\",\"math score\",\"math score\",\"math score\",\"math score\",\"math score\",\"math score\",\"math score\",\"math score\",\"math score\",\"math score\",\"math score\",\"math score\",\"math score\",\"math score\",\"math score\",\"math score\",\"math score\",\"math score\",\"math score\",\"math score\",\"math score\",\"math score\",\"math score\",\"math score\",\"math score\",\"math score\",\"math score\",\"math score\",\"math score\",\"math score\",\"math score\",\"math score\",\"math score\",\"math score\",\"math score\",\"math score\",\"math score\",\"math score\",\"math score\",\"math score\",\"math score\",\"math score\",\"math score\",\"math score\",\"math score\",\"math score\",\"math score\",\"math score\",\"math score\",\"math score\",\"math score\",\"math score\",\"math score\",\"math score\",\"math score\",\"math score\",\"math score\",\"math score\",\"math score\",\"math score\",\"math score\",\"math score\",\"math score\",\"math score\",\"math score\",\"math score\",\"math score\",\"math score\",\"math score\",\"math score\",\"math score\",\"math score\",\"math score\",\"math score\",\"math score\",\"math score\",\"math score\",\"math score\",\"math score\",\"math score\",\"math score\",\"math score\",\"math score\",\"math score\",\"math score\",\"math score\",\"math score\",\"math score\",\"math score\",\"math score\",\"math score\",\"math score\",\"math score\",\"math score\",\"math score\",\"math score\",\"math score\",\"math score\",\"math score\",\"math score\",\"math score\",\"math score\",\"math score\",\"math score\",\"math score\",\"math score\",\"math score\",\"math score\",\"math score\",\"math score\",\"math score\",\"math score\",\"math score\",\"math score\",\"math score\",\"math score\",\"math score\",\"math score\",\"math score\",\"math score\",\"math score\",\"math score\",\"math score\",\"math score\",\"math score\",\"math score\",\"math score\",\"math score\",\"math score\",\"math score\",\"math score\",\"math score\",\"math score\",\"math score\",\"math score\",\"math score\",\"math score\",\"math score\",\"math score\",\"math score\",\"math score\",\"math score\",\"math score\",\"math score\",\"math score\",\"math score\",\"math score\",\"math score\",\"math score\",\"math score\",\"math score\",\"math score\",\"math score\",\"math score\",\"math score\",\"math score\",\"math score\",\"math score\",\"math score\",\"math score\",\"math score\",\"math score\",\"math score\",\"math score\",\"math score\",\"math score\",\"math score\",\"math score\",\"math score\",\"math score\",\"math score\",\"math score\",\"math score\",\"math score\",\"math score\",\"math score\",\"math score\",\"math score\",\"math score\",\"math score\",\"math score\",\"math score\",\"math score\",\"math score\",\"math score\",\"math score\",\"math score\",\"math score\",\"math score\",\"math score\",\"math score\",\"math score\",\"math score\",\"math score\",\"math score\",\"math score\",\"math score\",\"math score\",\"math score\",\"math score\",\"math score\",\"math score\",\"math score\",\"math score\",\"math score\",\"math score\",\"math score\",\"math score\",\"math score\",\"math score\",\"math score\",\"math score\",\"math score\",\"math score\",\"math score\",\"math score\",\"math score\",\"math score\",\"math score\",\"math score\",\"math score\",\"math score\",\"math score\",\"math score\",\"math score\",\"math score\",\"math score\",\"math score\",\"math score\",\"math score\",\"math score\",\"math score\",\"math score\",\"math score\",\"math score\",\"math score\",\"math score\",\"math score\",\"math score\",\"math score\",\"math score\",\"math score\",\"math score\",\"math score\",\"math score\",\"math score\",\"math score\",\"math score\",\"math score\",\"math score\",\"math score\",\"math score\",\"math score\",\"math score\",\"math score\",\"math score\",\"math score\",\"math score\",\"math score\",\"math score\",\"math score\",\"math score\",\"math score\",\"math score\",\"math score\",\"math score\",\"math score\",\"math score\",\"math score\",\"math score\",\"math score\",\"math score\",\"math score\",\"math score\",\"math score\",\"math score\",\"math score\",\"math score\",\"math score\",\"math score\",\"math score\",\"math score\",\"math score\",\"math score\",\"math score\",\"math score\",\"math score\",\"math score\",\"math score\",\"math score\",\"math score\",\"math score\",\"math score\",\"math score\",\"math score\",\"math score\",\"math score\",\"math score\",\"math score\",\"math score\",\"math score\",\"math score\",\"math score\",\"math score\",\"math score\",\"math score\",\"math score\",\"math score\",\"math score\",\"math score\",\"math score\",\"math score\",\"math score\",\"math score\",\"math score\",\"math score\",\"math score\",\"math score\",\"math score\",\"math score\",\"math score\",\"math score\",\"math score\",\"math score\",\"math score\",\"math score\",\"math score\",\"math score\",\"math score\",\"math score\",\"math score\",\"math score\",\"math score\",\"math score\",\"math score\",\"math score\",\"math score\",\"math score\",\"math score\",\"math score\",\"math score\",\"math score\",\"math score\",\"math score\",\"math score\",\"math score\",\"math score\",\"math score\",\"math score\",\"math score\",\"math score\",\"math score\",\"math score\",\"math score\",\"math score\",\"math score\",\"math score\",\"math score\",\"math score\",\"math score\",\"math score\",\"math score\",\"math score\",\"math score\",\"math score\",\"math score\",\"math score\",\"math score\",\"math score\",\"math score\",\"math score\",\"math score\",\"math score\",\"math score\",\"math score\",\"math score\",\"math score\",\"math score\",\"math score\",\"math score\",\"math score\",\"math score\",\"math score\",\"math score\",\"math score\",\"math score\",\"math score\",\"math score\",\"math score\",\"math score\",\"math score\",\"math score\",\"math score\",\"math score\",\"math score\",\"math score\",\"math score\",\"math score\",\"math score\",\"math score\",\"math score\",\"math score\",\"math score\",\"math score\",\"math score\",\"math score\",\"math score\",\"math score\",\"math score\",\"math score\",\"math score\",\"math score\",\"math score\",\"math score\",\"math score\",\"math score\",\"math score\",\"math score\",\"math score\",\"math score\",\"math score\",\"math score\",\"math score\",\"math score\",\"math score\",\"math score\",\"math score\",\"math score\",\"math score\",\"math score\",\"math score\",\"math score\",\"math score\",\"math score\",\"math score\",\"math score\",\"math score\",\"math score\",\"math score\",\"math score\",\"math score\",\"math score\",\"math score\",\"math score\",\"math score\",\"math score\",\"math score\",\"math score\",\"math score\",\"math score\",\"math score\",\"math score\",\"math score\",\"math score\",\"math score\",\"math score\",\"math score\",\"math score\",\"math score\",\"math score\",\"math score\",\"math score\",\"math score\",\"math score\",\"math score\",\"math score\",\"math score\",\"math score\",\"math score\",\"math score\",\"math score\",\"math score\",\"math score\",\"math score\",\"math score\",\"math score\",\"math score\",\"math score\",\"math score\",\"math score\",\"math score\",\"math score\",\"math score\",\"math score\",\"math score\",\"math score\",\"math score\",\"math score\",\"math score\",\"math score\",\"math score\",\"math score\",\"math score\",\"math score\",\"math score\",\"math score\",\"math score\",\"math score\",\"math score\",\"math score\",\"math score\",\"math score\",\"math score\",\"math score\",\"math score\",\"math score\",\"math score\",\"math score\",\"math score\",\"math score\",\"math score\",\"math score\",\"math score\",\"math score\",\"math score\",\"math score\",\"math score\",\"math score\",\"math score\",\"math score\",\"math score\",\"math score\",\"math score\",\"math score\",\"math score\",\"math score\",\"math score\",\"math score\",\"math score\",\"math score\",\"math score\",\"math score\",\"math score\",\"math score\",\"math score\",\"math score\",\"math score\",\"math score\",\"math score\",\"math score\",\"math score\",\"math score\",\"math score\",\"math score\",\"math score\",\"math score\",\"math score\",\"math score\",\"math score\",\"math score\",\"math score\",\"math score\",\"math score\",\"math score\",\"math score\",\"math score\",\"math score\",\"math score\",\"math score\",\"math score\",\"math score\",\"math score\",\"math score\",\"math score\",\"math score\",\"math score\",\"math score\",\"math score\",\"math score\",\"math score\",\"math score\",\"math score\",\"math score\",\"math score\",\"math score\",\"math score\",\"math score\",\"math score\",\"math score\",\"math score\",\"math score\",\"math score\",\"math score\",\"math score\",\"math score\",\"math score\",\"math score\",\"math score\",\"math score\",\"math score\",\"math score\",\"math score\",\"math score\",\"math score\",\"math score\",\"math score\",\"math score\",\"math score\",\"math score\",\"math score\",\"math score\",\"math score\",\"math score\",\"math score\",\"math score\",\"math score\",\"math score\",\"math score\",\"math score\",\"math score\",\"math score\",\"math score\",\"math score\",\"math score\",\"math score\",\"math score\",\"math score\",\"math score\",\"math score\",\"math score\",\"math score\",\"math score\",\"math score\",\"math score\",\"math score\",\"math score\",\"math score\",\"math score\",\"math score\",\"math score\",\"math score\",\"math score\",\"math score\",\"math score\",\"math score\",\"math score\",\"math score\",\"math score\",\"math score\",\"math score\",\"math score\",\"math score\",\"math score\",\"math score\",\"math score\",\"math score\",\"math score\",\"math score\",\"math score\",\"math score\",\"math score\",\"math score\",\"math score\",\"math score\",\"math score\",\"math score\",\"math score\",\"math score\",\"math score\",\"math score\",\"math score\",\"math score\",\"math score\",\"math score\",\"math score\",\"math score\",\"math score\",\"math score\",\"math score\",\"math score\",\"math score\",\"math score\",\"math score\",\"math score\",\"math score\",\"math score\",\"math score\",\"math score\",\"math score\",\"math score\",\"math score\",\"math score\",\"math score\",\"math score\",\"math score\",\"math score\",\"math score\",\"math score\",\"math score\",\"math score\",\"math score\",\"math score\",\"math score\",\"math score\",\"math score\",\"math score\",\"math score\",\"math score\",\"math score\",\"math score\",\"math score\",\"math score\",\"math score\",\"math score\",\"math score\",\"math score\",\"math score\",\"math score\",\"math score\",\"math score\",\"math score\",\"math score\",\"math score\",\"math score\",\"math score\",\"math score\",\"math score\",\"math score\",\"math score\",\"math score\",\"math score\",\"math score\",\"math score\",\"math score\",\"math score\",\"math score\",\"math score\",\"math score\",\"math score\",\"math score\",\"math score\",\"math score\",\"math score\",\"math score\",\"math score\",\"math score\",\"math score\",\"math score\",\"math score\",\"math score\",\"math score\",\"math score\",\"math score\",\"math score\",\"math score\",\"math score\",\"math score\",\"math score\",\"math score\",\"math score\",\"math score\",\"math score\",\"math score\",\"math score\",\"math score\",\"math score\",\"math score\",\"math score\",\"math score\",\"math score\",\"math score\",\"math score\",\"math score\",\"math score\",\"math score\",\"math score\",\"math score\",\"math score\",\"math score\",\"math score\",\"math score\",\"math score\",\"math score\",\"math score\",\"math score\",\"math score\",\"math score\",\"math score\",\"math score\",\"math score\",\"math score\",\"math score\",\"math score\",\"math score\",\"math score\",\"math score\",\"math score\",\"math score\",\"math score\",\"math score\",\"math score\",\"math score\",\"math score\",\"math score\",\"math score\",\"math score\",\"math score\",\"math score\",\"math score\",\"math score\",\"math score\",\"math score\",\"math score\",\"math score\",\"math score\",\"math score\",\"math score\",\"math score\",\"math score\",\"math score\",\"math score\",\"math score\",\"math score\",\"math score\",\"math score\",\"math score\",\"math score\",\"math score\",\"math score\",\"math score\",\"math score\",\"math score\",\"math score\",\"math score\",\"math score\",\"math score\",\"math score\",\"math score\",\"math score\",\"math score\",\"math score\",\"math score\",\"math score\",\"math score\",\"math score\",\"math score\",\"math score\",\"math score\",\"math score\",\"math score\",\"math score\",\"math score\",\"math score\",\"math score\",\"math score\",\"math score\",\"math score\",\"math score\",\"math score\",\"math score\",\"math score\",\"math score\",\"math score\",\"math score\",\"math score\",\"math score\",\"math score\",\"math score\",\"math score\",\"math score\",\"math score\",\"math score\",\"math score\",\"math score\",\"math score\",\"math score\",\"math score\",\"math score\",\"math score\",\"math score\",\"math score\",\"math score\",\"math score\",\"math score\",\"math score\",\"math score\",\"math score\",\"math score\",\"math score\",\"math score\",\"math score\",\"math score\",\"math score\",\"math score\",\"math score\",\"math score\",\"math score\",\"math score\",\"math score\",\"math score\",\"math score\",\"math score\",\"math score\",\"math score\",\"math score\",\"math score\",\"math score\",\"math score\",\"math score\",\"math score\",\"math score\",\"math score\",\"math score\",\"math score\",\"math score\",\"math score\",\"math score\",\"math score\",\"math score\",\"math score\",\"math score\",\"math score\",\"math score\",\"math score\",\"math score\",\"math score\",\"math score\",\"math score\",\"math score\",\"math score\",\"math score\",\"math score\",\"math score\",\"math score\",\"math score\",\"math score\",\"math score\",\"math score\",\"math score\",\"math score\",\"math score\",\"math score\",\"math score\",\"math score\",\"math score\",\"math score\",\"math score\",\"math score\",\"math score\",\"math score\",\"math score\",\"math score\",\"math score\",\"math score\",\"math score\",\"math score\",\"math score\",\"math score\",\"math score\",\"math score\",\"math score\",\"math score\",\"math score\",\"math score\",\"math score\",\"math score\",\"math score\",\"math score\",\"math score\",\"math score\",\"math score\",\"math score\",\"math score\",\"math score\",\"math score\",\"math score\",\"math score\",\"math score\",\"math score\",\"math score\",\"math score\",\"math score\",\"math score\",\"math score\",\"math score\",\"math score\",\"math score\",\"math score\",\"math score\",\"math score\",\"math score\",\"math score\",\"math score\",\"math score\",\"math score\",\"math score\",\"math score\",\"math score\",\"math score\",\"math score\",\"math score\",\"math score\",\"math score\",\"math score\",\"math score\",\"math score\",\"math score\",\"math score\",\"math score\",\"math score\",\"math score\",\"math score\",\"math score\",\"math score\",\"math score\",\"math score\",\"math score\",\"math score\",\"math score\",\"math score\",\"math score\",\"math score\",\"math score\",\"math score\",\"math score\",\"math score\",\"math score\",\"math score\",\"math score\",\"math score\"],\"x0\":\" \",\"xaxis\":\"x\",\"y\":[37.0,124.0,156.0,80.0,131.0,73.0,81.0,94.0,71.0,75.0,124.0,188.0,193.0,34.0,193.0,63.0,94.0,65.0,95.0,52.0,62.0,74.0,142.0,124.0,62.0,73.0,46.0,82.0,124.0,63.0,64.0,80.0,124.0,131.0,null,93.0,69.0,46.0,86.0,59.0,84.0,64.0,73.0,83.0,131.0,75.0,69.0,68.0,193.0,57.0,66.0,61.0,40.0,50.0,48.0,36.0,78.0,196.0,57.0,122.0,196.0,69.0,124.0,40.0,92.0,188.0,35.0,63.0,193.0,73.0,63.0,52.0,131.0,73.0,63.0,124.0,71.0,45.0,85.0,80.0,40.0,82.0,188.0,77.0,91.0,null,196.0,60.0,63.0,40.0,174.0,57.0,58.0,147.0,188.0,97.0,81.0,68.0,59.0,96.0,87.0,57.0,193.0,193.0,142.0,94.0,97.0,124.0,65.0,82.0,72.0,62.0,44.0,49.0,196.0,82.0,75.0,193.0,59.0,75.0,72.0,68.0,193.0,124.0,66.0,196.0,null,67.0,93.0,69.0,142.0,63.0,46.0,66.0,193.0,49.0,62.0,182.0,48.0,null,71.0,193.0,147.0,193.0,54.0,80.0,55.0,193.0,90.0,94.0,81.0,34.0,193.0,53.0,124.0,61.0,75.0,74.0,62.0,70.0,60.0,59.0,193.0,62.0,53.0,80.0,69.0,69.0,69.0,49.0,43.0,83.0,65.0,73.0,68.0,64.0,54.0,65.0,193.0,49.0,58.0,66.0,65.0,65.0,193.0,70.0,79.0,50.0,193.0,188.0,64.0,124.0,68.0,32.0,68.0,58.0,19.0,193.0,69.0,72.0,53.0,64.0,61.0,78.0,53.0,45.0,44.0,196.0,83.0,65.0,88.0,88.0,91.0,84.0,51.0,196.0,196.0,null,38.0,193.0,47.0,66.0,61.0,60.0,71.0,45.0,77.0,53.0,193.0,193.0,57.0,124.0,193.0,131.0,193.0,72.0,76.0,45.0,193.0,99.0,51.0,64.0,52.0,80.0,51.0,193.0,193.0,196.0,50.0,64.0,74.0,196.0,71.0,57.0,69.0,77.0,193.0,75.0,196.0,43.0,80.0,193.0,null,122.0,59.0,85.0,55.0,44.0,42.0,58.0,61.0,50.0,64.0,88.0,73.0,95.0,124.0,174.0,67.0,97.0,61.0,62.0,79.0,54.0,66.0,193.0,174.0,193.0,174.0,78.0,193.0,85.0,84.0,76.0,44.0,122.0,81.0,54.0,58.0,124.0,81.0,35.0,72.0,71.0,61.0,66.0,71.0,71.0,89.0,73.0,81.0,46.0,22.0,124.0,48.0,124.0,44.0,79.0,91.0,76.0,124.0,54.0,77.0,62.0,67.0,131.0,196.0,86.0,58.0,53.0,57.0,182.0,69.0,76.0,78.0,69.0,124.0,62.0,37.0,196.0,88.0,90.0,57.0,193.0,68.0,65.0,63.0,124.0,52.0,48.0,65.0,54.0,50.0,124.0,193.0,122.0,40.0,29.0,26.0,70.0,196.0,75.0,53.0,64.0,60.0,98.0,93.0,59.0,46.0,null,76.0,79.0,28.0,55.0,61.0,142.0,196.0,193.0,193.0,35.0,193.0,94.0,193.0,46.0,100.0,67.0,49.0,193.0,50.0,79.0,142.0,71.0,null,83.0,55.0,193.0,48.0,76.0,77.0,79.0,193.0,62.0,56.0,124.0,68.0,84.0,124.0,80.0,62.0,124.0,60.0,64.0,29.0,52.0,53.0,131.0,67.0,82.0,56.0,79.0,142.0,73.0,66.0,52.0,52.0,73.0,66.0,84.0,82.0,193.0,74.0,193.0,76.0,81.0,79.0,124.0,68.0,128.0,63.0,142.0,124.0,null,50.0,196.0,196.0,72.0,85.0,196.0,83.0,84.0,65.0,null,85.0,70.0,58.0,86.0,64.0,65.0,124.0,61.0,193.0,49.0,53.0,97.0,196.0,75.0,72.0,124.0,74.0,59.0,68.0,78.0,53.0,57.0,72.0,99.0,null,79.0,91.0,83.0,null,72.0,142.0,188.0,null,61.0,73.0,59.0,100.0,61.0,77.0,71.0,49.0,62.0,193.0,86.0,75.0,null,58.0,47.0,null,131.0,193.0,63.0,69.0,null,70.0,68.0,61.0,71.0,122.0,124.0,142.0,81.0,100.0,84.0,77.0,53.0,71.0,73.0,193.0,65.0,124.0,193.0,49.0,52.0,65.0,59.0,80.0,193.0,62.0,57.0,46.0,58.0,67.0,73.0,72.0,40.0,78.0,63.0,61.0,79.0,77.0,70.0,53.0,156.0,151.0,76.0,45.0,40.0,193.0,82.0,124.0,193.0,78.0,75.0,70.0,55.0,39.0,188.0,null,70.0,30.0,75.0,63.0,82.0,74.0,54.0,124.0,71.0,196.0,142.0,73.0,77.0,77.0,87.0,87.0,74.0,67.0,43.0,49.0,42.0,49.0,null,124.0,193.0,53.0,64.0,64.0,196.0,61.0,79.0,null,69.0,54.0,65.0,77.0,58.0,49.0,73.0,124.0,54.0,142.0,54.0,64.0,null,59.0,76.0,75.0,85.0,131.0,97.0,193.0,188.0,53.0,52.0,142.0,77.0,79.0,57.0,87.0,66.0,193.0,193.0,63.0,65.0,64.0,124.0,68.0,55.0,72.0,86.0,142.0,35.0,97.0,124.0,75.0,52.0,74.0,70.0,39.0,61.0,193.0,44.0,193.0,32.0,193.0,77.0,49.0,87.0,193.0,66.0,68.0,196.0,193.0,65.0,62.0,81.0,196.0,70.0,124.0,null,74.0,94.0,142.0,193.0,76.0,59.0,156.0,68.0,124.0,193.0,193.0,73.0,null,193.0,124.0,100.0,131.0,8.0,65.0,40.0,48.0,89.0,77.0,193.0,65.0,69.0,68.0,49.0,62.0,50.0,56.0,46.0,124.0,38.0,53.0,142.0,193.0,60.0,91.0,90.0,73.0,70.0,47.0,65.0,81.0,55.0,93.0,142.0,193.0,124.0,142.0,65.0,131.0,62.0,48.0,196.0,68.0,66.0,55.0,42.0,54.0,74.0,37.0,66.0,88.0,69.0,166.0,61.0,193.0,39.0,87.0,142.0,64.0,44.0,131.0,59.0,80.0,33.0,71.0,76.0,53.0,78.0,55.0,70.0,65.0,193.0,86.0,47.0,54.0,41.0,193.0,78.0,83.0,54.0,90.0,59.0,65.0,null,67.0,193.0,null,89.0,59.0,73.0,74.0,86.0,55.0,61.0,57.0,58.0,42.0,45.0,null,63.0,61.0,81.0,92.0,193.0,67.0,94.0,56.0,62.0,70.0,142.0,70.0,76.0,64.0,47.0,66.0,86.0,40.0,66.0,68.0,51.0,45.0,88.0,90.0,52.0,49.0,53.0,171.0,193.0,71.0,50.0,58.0,42.0,67.0,39.0,85.0,62.0,78.0,73.0,68.0,89.0,40.0,82.0,69.0,null,77.0,69.0,79.0,53.0,43.0,58.0,76.0,40.0,88.0,69.0,49.0,85.0,69.0,72.0,57.0,58.0,62.0,62.0,142.0,142.0,75.0,88.0,81.0,193.0,null,193.0,67.0,142.0,67.0,166.0,74.0,188.0,74.0,95.0,71.0,193.0,85.0,193.0,124.0,131.0,188.0,142.0,196.0,56.0,82.0,124.0,85.0,60.0,63.0,51.0,50.0,81.0,64.0,87.0,46.0,58.0,62.0,76.0,60.0,193.0,50.0,124.0,193.0,142.0,77.0,124.0,64.0,null,61.0,60.0,193.0,67.0,64.0,193.0,196.0,90.0,59.0,53.0,48.0,193.0,35.0,60.0,82.0,58.0,60.0,66.0,null,85.0,124.0,49.0,77.0,67.0,69.0,131.0,50.0,62.0,83.0,81.0,92.0,70.0,72.0,92.0,51.0,156.0,87.0,71.0,59.0,193.0,124.0,88.0,61.0,193.0,82.0,193.0,71.0,75.0,43.0,142.0,51.0,62.0,75.0,63.0,174.0,71.0,67.0,71.0,61.0,56.0,98.0,82.0,75.0,59.0,193.0,71.0,44.0,77.0,65.0,196.0,57.0,60.0,27.0,58.0,70.0,38.0,42.0,100.0,193.0,89.0,35.0,74.0,77.0,62.0,79.0,124.0,46.0,74.0,196.0,59.0,66.0,124.0,47.0,142.0,77.0,78.0,52.0,null,70.0,193.0,58.0,193.0,68.0,69.0,87.0,52.0,72.0,85.0,196.0,41.0,61.0,67.0,54.0,75.0,80.0,63.0,52.0,62.0,58.0,62.0,65.0,74.0,182.0,142.0,142.0,79.0,49.0,68.0,63.0,52.0,59.0,55.0,66.0,38.0,193.0,193.0,74.0,91.0,64.0,142.0,74.0,142.0,81.0,79.0,142.0,90.0,142.0,124.0,null,54.0,78.0,46.0,193.0,88.0,62.0,193.0,80.0,124.0,142.0,80.0,71.0,64.0,75.0,60.0,68.0,88.0,55.0,50.0,124.0,97.0,42.0,null,188.0,49.0,69.0,40.0,122.0,42.0,196.0,58.0,24.0,48.0,124.0,67.0,59.0,193.0,59.0,96.0,45.0,88.0,72.0,166.0,61.0,81.0,59.0,73.0,193.0,79.0,68.0,193.0,47.0,124.0,64.0,49.0,124.0,54.0,71.0,null,59.0,89.0,37.0,59.0,null,57.0,47.0,77.0,62.0,77.0,51.0,131.0,69.0,74.0,60.0,76.0,51.0,32.0,124.0,193.0,73.0,49.0,76.0,193.0,64.0,62.0,63.0,156.0,50.0,44.0,66.0,67.0,142.0,142.0,61.0,75.0,147.0,69.0,76.0,65.0,53.0,87.0,53.0,null,66.0,196.0,49.0,67.0,55.0,30.0,73.0,62.0,79.0,63.0,52.0,193.0,58.0,124.0,142.0,193.0,78.0,81.0,142.0,193.0,74.0,68.0,82.0,73.0,35.0,142.0,59.0,74.0,62.0,49.0,84.0,67.0,81.0,33.0,142.0,59.0,87.0,77.0,58.0,69.0,null,65.0,92.0,87.0,69.0,null,73.0,61.0,55.0,67.0,193.0,69.0,74.0,64.0,56.0,36.0,41.0,142.0,124.0,49.0,59.0,34.0,142.0,84.0,76.0,142.0,61.0,193.0,193.0,62.0,87.0,67.0,54.0,59.0,68.0,67.0,91.0,142.0,80.0,96.0,68.0,193.0,156.0,30.0,124.0,null,74.0,71.0,35.0,81.0,53.0,49.0,147.0,40.0,80.0,76.0,142.0,76.0,29.0,196.0,63.0,57.0,58.0,null,72.0,196.0,55.0,53.0,null,80.0,41.0,55.0,51.0,85.0,81.0,52.0,18.0,193.0,73.0,48.0,56.0,142.0,124.0,63.0,58.0,32.0,59.0,193.0,142.0,193.0,63.0,142.0,63.0,80.0,60.0,64.0,98.0,59.0,65.0,193.0,87.0,66.0,52.0,193.0,28.0,174.0,73.0,87.0,79.0,60.0,81.0,74.0,196.0,69.0,47.0,47.0,79.0,82.0,92.0,57.0,41.0,49.0,88.0,79.0,59.0,71.0,193.0,81.0,65.0,82.0,65.0,40.0,73.0,156.0,56.0,69.0,193.0,67.0,91.0,67.0,188.0,124.0,87.0,124.0,65.0,124.0,58.0,55.0,48.0,88.0,53.0,85.0,193.0,62.0,65.0,82.0,62.0,63.0,84.0,193.0,131.0,77.0,50.0,69.0,0.0,188.0,193.0,65.0,79.0,69.0,193.0,72.0,100.0,65.0,47.0,99.0,51.0,71.0,124.0,82.0,91.0,55.0,75.0,66.0,95.0,72.0,70.0,57.0,84.0,193.0,61.0,45.0,65.0,27.0,88.0,65.0,63.0,78.0,193.0,65.0,90.0,100.0,67.0,74.0,76.0,193.0,66.0,59.0,62.0,41.0,124.0,29.0,69.0,124.0,23.0,193.0,66.0,54.0,193.0,68.0],\"y0\":\" \",\"yaxis\":\"y\",\"type\":\"box\"},{\"alignmentgroup\":\"True\",\"hovertemplate\":\"subject=%{x}<br>score=%{y}<extra></extra>\",\"legendgroup\":\"reading score\",\"marker\":{\"color\":\"#EF553B\"},\"name\":\"reading score\",\"notched\":false,\"offsetgroup\":\"reading score\",\"orientation\":\"v\",\"showlegend\":true,\"x\":[\"reading score\",\"reading score\",\"reading score\",\"reading score\",\"reading score\",\"reading score\",\"reading score\",\"reading score\",\"reading score\",\"reading score\",\"reading score\",\"reading score\",\"reading score\",\"reading score\",\"reading score\",\"reading score\",\"reading score\",\"reading score\",\"reading score\",\"reading score\",\"reading score\",\"reading score\",\"reading score\",\"reading score\",\"reading score\",\"reading score\",\"reading score\",\"reading score\",\"reading score\",\"reading score\",\"reading score\",\"reading score\",\"reading score\",\"reading score\",\"reading score\",\"reading score\",\"reading score\",\"reading score\",\"reading score\",\"reading score\",\"reading score\",\"reading score\",\"reading score\",\"reading score\",\"reading score\",\"reading score\",\"reading score\",\"reading score\",\"reading score\",\"reading score\",\"reading score\",\"reading score\",\"reading score\",\"reading score\",\"reading score\",\"reading score\",\"reading score\",\"reading score\",\"reading score\",\"reading score\",\"reading score\",\"reading score\",\"reading score\",\"reading score\",\"reading score\",\"reading score\",\"reading score\",\"reading score\",\"reading score\",\"reading score\",\"reading score\",\"reading score\",\"reading score\",\"reading score\",\"reading score\",\"reading score\",\"reading score\",\"reading score\",\"reading score\",\"reading score\",\"reading score\",\"reading score\",\"reading score\",\"reading score\",\"reading score\",\"reading score\",\"reading score\",\"reading score\",\"reading score\",\"reading score\",\"reading score\",\"reading score\",\"reading score\",\"reading score\",\"reading score\",\"reading score\",\"reading score\",\"reading score\",\"reading score\",\"reading score\",\"reading score\",\"reading score\",\"reading score\",\"reading score\",\"reading score\",\"reading score\",\"reading score\",\"reading score\",\"reading score\",\"reading score\",\"reading score\",\"reading score\",\"reading score\",\"reading score\",\"reading score\",\"reading score\",\"reading score\",\"reading score\",\"reading score\",\"reading score\",\"reading score\",\"reading score\",\"reading score\",\"reading score\",\"reading score\",\"reading score\",\"reading score\",\"reading score\",\"reading score\",\"reading score\",\"reading score\",\"reading score\",\"reading score\",\"reading score\",\"reading score\",\"reading score\",\"reading score\",\"reading score\",\"reading score\",\"reading score\",\"reading score\",\"reading score\",\"reading score\",\"reading score\",\"reading score\",\"reading score\",\"reading score\",\"reading score\",\"reading score\",\"reading score\",\"reading score\",\"reading score\",\"reading score\",\"reading score\",\"reading score\",\"reading score\",\"reading score\",\"reading score\",\"reading score\",\"reading score\",\"reading score\",\"reading score\",\"reading score\",\"reading score\",\"reading score\",\"reading score\",\"reading score\",\"reading score\",\"reading score\",\"reading score\",\"reading score\",\"reading score\",\"reading score\",\"reading score\",\"reading score\",\"reading score\",\"reading score\",\"reading score\",\"reading score\",\"reading score\",\"reading score\",\"reading score\",\"reading score\",\"reading score\",\"reading score\",\"reading score\",\"reading score\",\"reading score\",\"reading score\",\"reading score\",\"reading score\",\"reading score\",\"reading score\",\"reading score\",\"reading score\",\"reading score\",\"reading score\",\"reading score\",\"reading score\",\"reading score\",\"reading score\",\"reading score\",\"reading score\",\"reading score\",\"reading score\",\"reading score\",\"reading score\",\"reading score\",\"reading score\",\"reading score\",\"reading score\",\"reading score\",\"reading score\",\"reading score\",\"reading score\",\"reading score\",\"reading score\",\"reading score\",\"reading score\",\"reading score\",\"reading score\",\"reading score\",\"reading score\",\"reading score\",\"reading score\",\"reading score\",\"reading score\",\"reading score\",\"reading score\",\"reading score\",\"reading score\",\"reading score\",\"reading score\",\"reading score\",\"reading score\",\"reading score\",\"reading score\",\"reading score\",\"reading score\",\"reading score\",\"reading score\",\"reading score\",\"reading score\",\"reading score\",\"reading score\",\"reading score\",\"reading score\",\"reading score\",\"reading score\",\"reading score\",\"reading score\",\"reading score\",\"reading score\",\"reading score\",\"reading score\",\"reading score\",\"reading score\",\"reading score\",\"reading score\",\"reading score\",\"reading score\",\"reading score\",\"reading score\",\"reading score\",\"reading score\",\"reading score\",\"reading score\",\"reading score\",\"reading score\",\"reading score\",\"reading score\",\"reading score\",\"reading score\",\"reading score\",\"reading score\",\"reading score\",\"reading score\",\"reading score\",\"reading score\",\"reading score\",\"reading score\",\"reading score\",\"reading score\",\"reading score\",\"reading score\",\"reading score\",\"reading score\",\"reading score\",\"reading score\",\"reading score\",\"reading score\",\"reading score\",\"reading score\",\"reading score\",\"reading score\",\"reading score\",\"reading score\",\"reading score\",\"reading score\",\"reading score\",\"reading score\",\"reading score\",\"reading score\",\"reading score\",\"reading score\",\"reading score\",\"reading score\",\"reading score\",\"reading score\",\"reading score\",\"reading score\",\"reading score\",\"reading score\",\"reading score\",\"reading score\",\"reading score\",\"reading score\",\"reading score\",\"reading score\",\"reading score\",\"reading score\",\"reading score\",\"reading score\",\"reading score\",\"reading score\",\"reading score\",\"reading score\",\"reading score\",\"reading score\",\"reading score\",\"reading score\",\"reading score\",\"reading score\",\"reading score\",\"reading score\",\"reading score\",\"reading score\",\"reading score\",\"reading score\",\"reading score\",\"reading score\",\"reading score\",\"reading score\",\"reading score\",\"reading score\",\"reading score\",\"reading score\",\"reading score\",\"reading score\",\"reading score\",\"reading score\",\"reading score\",\"reading score\",\"reading score\",\"reading score\",\"reading score\",\"reading score\",\"reading score\",\"reading score\",\"reading score\",\"reading score\",\"reading score\",\"reading score\",\"reading score\",\"reading score\",\"reading score\",\"reading score\",\"reading score\",\"reading score\",\"reading score\",\"reading score\",\"reading score\",\"reading score\",\"reading score\",\"reading score\",\"reading score\",\"reading score\",\"reading score\",\"reading score\",\"reading score\",\"reading score\",\"reading score\",\"reading score\",\"reading score\",\"reading score\",\"reading score\",\"reading score\",\"reading score\",\"reading score\",\"reading score\",\"reading score\",\"reading score\",\"reading score\",\"reading score\",\"reading score\",\"reading score\",\"reading score\",\"reading score\",\"reading score\",\"reading score\",\"reading score\",\"reading score\",\"reading score\",\"reading score\",\"reading score\",\"reading score\",\"reading score\",\"reading score\",\"reading score\",\"reading score\",\"reading score\",\"reading score\",\"reading score\",\"reading score\",\"reading score\",\"reading score\",\"reading score\",\"reading score\",\"reading score\",\"reading score\",\"reading score\",\"reading score\",\"reading score\",\"reading score\",\"reading score\",\"reading score\",\"reading score\",\"reading score\",\"reading score\",\"reading score\",\"reading score\",\"reading score\",\"reading score\",\"reading score\",\"reading score\",\"reading score\",\"reading score\",\"reading score\",\"reading score\",\"reading score\",\"reading score\",\"reading score\",\"reading score\",\"reading score\",\"reading score\",\"reading score\",\"reading score\",\"reading score\",\"reading score\",\"reading score\",\"reading score\",\"reading score\",\"reading score\",\"reading score\",\"reading score\",\"reading score\",\"reading score\",\"reading score\",\"reading score\",\"reading score\",\"reading score\",\"reading score\",\"reading score\",\"reading score\",\"reading score\",\"reading score\",\"reading score\",\"reading score\",\"reading score\",\"reading score\",\"reading score\",\"reading score\",\"reading score\",\"reading score\",\"reading score\",\"reading score\",\"reading score\",\"reading score\",\"reading score\",\"reading score\",\"reading score\",\"reading score\",\"reading score\",\"reading score\",\"reading score\",\"reading score\",\"reading score\",\"reading score\",\"reading score\",\"reading score\",\"reading score\",\"reading score\",\"reading score\",\"reading score\",\"reading score\",\"reading score\",\"reading score\",\"reading score\",\"reading score\",\"reading score\",\"reading score\",\"reading score\",\"reading score\",\"reading score\",\"reading score\",\"reading score\",\"reading score\",\"reading score\",\"reading score\",\"reading score\",\"reading score\",\"reading score\",\"reading score\",\"reading score\",\"reading score\",\"reading score\",\"reading score\",\"reading score\",\"reading score\",\"reading score\",\"reading score\",\"reading score\",\"reading score\",\"reading score\",\"reading score\",\"reading score\",\"reading score\",\"reading score\",\"reading score\",\"reading score\",\"reading score\",\"reading score\",\"reading score\",\"reading score\",\"reading score\",\"reading score\",\"reading score\",\"reading score\",\"reading score\",\"reading score\",\"reading score\",\"reading score\",\"reading score\",\"reading score\",\"reading score\",\"reading score\",\"reading score\",\"reading score\",\"reading score\",\"reading score\",\"reading score\",\"reading score\",\"reading score\",\"reading score\",\"reading score\",\"reading score\",\"reading score\",\"reading score\",\"reading score\",\"reading score\",\"reading score\",\"reading score\",\"reading score\",\"reading score\",\"reading score\",\"reading score\",\"reading score\",\"reading score\",\"reading score\",\"reading score\",\"reading score\",\"reading score\",\"reading score\",\"reading score\",\"reading score\",\"reading score\",\"reading score\",\"reading score\",\"reading score\",\"reading score\",\"reading score\",\"reading score\",\"reading score\",\"reading score\",\"reading score\",\"reading score\",\"reading score\",\"reading score\",\"reading score\",\"reading score\",\"reading score\",\"reading score\",\"reading score\",\"reading score\",\"reading score\",\"reading score\",\"reading score\",\"reading score\",\"reading score\",\"reading score\",\"reading score\",\"reading score\",\"reading score\",\"reading score\",\"reading score\",\"reading score\",\"reading score\",\"reading score\",\"reading score\",\"reading score\",\"reading score\",\"reading score\",\"reading score\",\"reading score\",\"reading score\",\"reading score\",\"reading score\",\"reading score\",\"reading score\",\"reading score\",\"reading score\",\"reading score\",\"reading score\",\"reading score\",\"reading score\",\"reading score\",\"reading score\",\"reading score\",\"reading score\",\"reading score\",\"reading score\",\"reading score\",\"reading score\",\"reading score\",\"reading score\",\"reading score\",\"reading score\",\"reading score\",\"reading score\",\"reading score\",\"reading score\",\"reading score\",\"reading score\",\"reading score\",\"reading score\",\"reading score\",\"reading score\",\"reading score\",\"reading score\",\"reading score\",\"reading score\",\"reading score\",\"reading score\",\"reading score\",\"reading score\",\"reading score\",\"reading score\",\"reading score\",\"reading score\",\"reading score\",\"reading score\",\"reading score\",\"reading score\",\"reading score\",\"reading score\",\"reading score\",\"reading score\",\"reading score\",\"reading score\",\"reading score\",\"reading score\",\"reading score\",\"reading score\",\"reading score\",\"reading score\",\"reading score\",\"reading score\",\"reading score\",\"reading score\",\"reading score\",\"reading score\",\"reading score\",\"reading score\",\"reading score\",\"reading score\",\"reading score\",\"reading score\",\"reading score\",\"reading score\",\"reading score\",\"reading score\",\"reading score\",\"reading score\",\"reading score\",\"reading score\",\"reading score\",\"reading score\",\"reading score\",\"reading score\",\"reading score\",\"reading score\",\"reading score\",\"reading score\",\"reading score\",\"reading score\",\"reading score\",\"reading score\",\"reading score\",\"reading score\",\"reading score\",\"reading score\",\"reading score\",\"reading score\",\"reading score\",\"reading score\",\"reading score\",\"reading score\",\"reading score\",\"reading score\",\"reading score\",\"reading score\",\"reading score\",\"reading score\",\"reading score\",\"reading score\",\"reading score\",\"reading score\",\"reading score\",\"reading score\",\"reading score\",\"reading score\",\"reading score\",\"reading score\",\"reading score\",\"reading score\",\"reading score\",\"reading score\",\"reading score\",\"reading score\",\"reading score\",\"reading score\",\"reading score\",\"reading score\",\"reading score\",\"reading score\",\"reading score\",\"reading score\",\"reading score\",\"reading score\",\"reading score\",\"reading score\",\"reading score\",\"reading score\",\"reading score\",\"reading score\",\"reading score\",\"reading score\",\"reading score\",\"reading score\",\"reading score\",\"reading score\",\"reading score\",\"reading score\",\"reading score\",\"reading score\",\"reading score\",\"reading score\",\"reading score\",\"reading score\",\"reading score\",\"reading score\",\"reading score\",\"reading score\",\"reading score\",\"reading score\",\"reading score\",\"reading score\",\"reading score\",\"reading score\",\"reading score\",\"reading score\",\"reading score\",\"reading score\",\"reading score\",\"reading score\",\"reading score\",\"reading score\",\"reading score\",\"reading score\",\"reading score\",\"reading score\",\"reading score\",\"reading score\",\"reading score\",\"reading score\",\"reading score\",\"reading score\",\"reading score\",\"reading score\",\"reading score\",\"reading score\",\"reading score\",\"reading score\",\"reading score\",\"reading score\",\"reading score\",\"reading score\",\"reading score\",\"reading score\",\"reading score\",\"reading score\",\"reading score\",\"reading score\",\"reading score\",\"reading score\",\"reading score\",\"reading score\",\"reading score\",\"reading score\",\"reading score\",\"reading score\",\"reading score\",\"reading score\",\"reading score\",\"reading score\",\"reading score\",\"reading score\",\"reading score\",\"reading score\",\"reading score\",\"reading score\",\"reading score\",\"reading score\",\"reading score\",\"reading score\",\"reading score\",\"reading score\",\"reading score\",\"reading score\",\"reading score\",\"reading score\",\"reading score\",\"reading score\",\"reading score\",\"reading score\",\"reading score\",\"reading score\",\"reading score\",\"reading score\",\"reading score\",\"reading score\",\"reading score\",\"reading score\",\"reading score\",\"reading score\",\"reading score\",\"reading score\",\"reading score\",\"reading score\",\"reading score\",\"reading score\",\"reading score\",\"reading score\",\"reading score\",\"reading score\",\"reading score\",\"reading score\",\"reading score\",\"reading score\",\"reading score\",\"reading score\",\"reading score\",\"reading score\",\"reading score\",\"reading score\",\"reading score\",\"reading score\",\"reading score\",\"reading score\",\"reading score\",\"reading score\",\"reading score\",\"reading score\",\"reading score\",\"reading score\",\"reading score\",\"reading score\",\"reading score\",\"reading score\",\"reading score\",\"reading score\",\"reading score\",\"reading score\",\"reading score\",\"reading score\",\"reading score\",\"reading score\",\"reading score\",\"reading score\",\"reading score\",\"reading score\",\"reading score\",\"reading score\",\"reading score\",\"reading score\",\"reading score\",\"reading score\",\"reading score\",\"reading score\",\"reading score\",\"reading score\",\"reading score\",\"reading score\",\"reading score\",\"reading score\",\"reading score\",\"reading score\",\"reading score\",\"reading score\",\"reading score\",\"reading score\",\"reading score\",\"reading score\",\"reading score\",\"reading score\",\"reading score\",\"reading score\",\"reading score\",\"reading score\",\"reading score\",\"reading score\",\"reading score\",\"reading score\",\"reading score\",\"reading score\",\"reading score\",\"reading score\",\"reading score\",\"reading score\",\"reading score\",\"reading score\",\"reading score\",\"reading score\",\"reading score\",\"reading score\",\"reading score\",\"reading score\",\"reading score\",\"reading score\",\"reading score\",\"reading score\",\"reading score\",\"reading score\",\"reading score\",\"reading score\",\"reading score\",\"reading score\",\"reading score\",\"reading score\",\"reading score\",\"reading score\",\"reading score\",\"reading score\",\"reading score\",\"reading score\",\"reading score\",\"reading score\",\"reading score\",\"reading score\",\"reading score\",\"reading score\",\"reading score\",\"reading score\",\"reading score\",\"reading score\",\"reading score\",\"reading score\",\"reading score\",\"reading score\",\"reading score\",\"reading score\",\"reading score\",\"reading score\",\"reading score\",\"reading score\",\"reading score\",\"reading score\",\"reading score\",\"reading score\",\"reading score\",\"reading score\",\"reading score\",\"reading score\",\"reading score\",\"reading score\",\"reading score\",\"reading score\",\"reading score\",\"reading score\",\"reading score\",\"reading score\",\"reading score\",\"reading score\",\"reading score\",\"reading score\",\"reading score\",\"reading score\",\"reading score\",\"reading score\",\"reading score\",\"reading score\",\"reading score\",\"reading score\",\"reading score\",\"reading score\",\"reading score\",\"reading score\",\"reading score\",\"reading score\",\"reading score\",\"reading score\",\"reading score\",\"reading score\",\"reading score\",\"reading score\",\"reading score\",\"reading score\",\"reading score\",\"reading score\",\"reading score\",\"reading score\",\"reading score\",\"reading score\",\"reading score\",\"reading score\",\"reading score\",\"reading score\",\"reading score\",\"reading score\",\"reading score\",\"reading score\",\"reading score\",\"reading score\",\"reading score\",\"reading score\",\"reading score\",\"reading score\",\"reading score\",\"reading score\",\"reading score\",\"reading score\",\"reading score\",\"reading score\",\"reading score\",\"reading score\",\"reading score\",\"reading score\",\"reading score\",\"reading score\",\"reading score\",\"reading score\",\"reading score\",\"reading score\",\"reading score\",\"reading score\",\"reading score\",\"reading score\",\"reading score\",\"reading score\",\"reading score\",\"reading score\",\"reading score\",\"reading score\",\"reading score\",\"reading score\",\"reading score\",\"reading score\",\"reading score\",\"reading score\",\"reading score\",\"reading score\",\"reading score\",\"reading score\",\"reading score\",\"reading score\",\"reading score\",\"reading score\",\"reading score\",\"reading score\",\"reading score\",\"reading score\",\"reading score\",\"reading score\",\"reading score\",\"reading score\",\"reading score\",\"reading score\",\"reading score\",\"reading score\",\"reading score\",\"reading score\",\"reading score\",\"reading score\",\"reading score\",\"reading score\",\"reading score\",\"reading score\",\"reading score\",\"reading score\",\"reading score\",\"reading score\",\"reading score\",\"reading score\",\"reading score\",\"reading score\",\"reading score\",\"reading score\",\"reading score\",\"reading score\",\"reading score\",\"reading score\",\"reading score\",\"reading score\",\"reading score\",\"reading score\",\"reading score\",\"reading score\",\"reading score\",\"reading score\",\"reading score\",\"reading score\",\"reading score\",\"reading score\",\"reading score\",\"reading score\",\"reading score\",\"reading score\",\"reading score\",\"reading score\",\"reading score\",\"reading score\",\"reading score\",\"reading score\",\"reading score\",\"reading score\",\"reading score\",\"reading score\",\"reading score\",\"reading score\",\"reading score\",\"reading score\",\"reading score\",\"reading score\",\"reading score\",\"reading score\",\"reading score\",\"reading score\",\"reading score\",\"reading score\",\"reading score\",\"reading score\",\"reading score\",\"reading score\",\"reading score\",\"reading score\",\"reading score\",\"reading score\",\"reading score\",\"reading score\",\"reading score\",\"reading score\",\"reading score\",\"reading score\",\"reading score\",\"reading score\",\"reading score\",\"reading score\",\"reading score\",\"reading score\",\"reading score\",\"reading score\",\"reading score\",\"reading score\",\"reading score\",\"reading score\",\"reading score\",\"reading score\",\"reading score\",\"reading score\",\"reading score\",\"reading score\",\"reading score\",\"reading score\",\"reading score\",\"reading score\",\"reading score\",\"reading score\",\"reading score\",\"reading score\",\"reading score\",\"reading score\",\"reading score\",\"reading score\",\"reading score\",\"reading score\",\"reading score\",\"reading score\",\"reading score\",\"reading score\",\"reading score\",\"reading score\",\"reading score\",\"reading score\",\"reading score\",\"reading score\",\"reading score\",\"reading score\",\"reading score\",\"reading score\",\"reading score\",\"reading score\",\"reading score\",\"reading score\",\"reading score\",\"reading score\",\"reading score\",\"reading score\",\"reading score\",\"reading score\",\"reading score\",\"reading score\",\"reading score\",\"reading score\",\"reading score\",\"reading score\",\"reading score\",\"reading score\",\"reading score\",\"reading score\",\"reading score\",\"reading score\",\"reading score\",\"reading score\",\"reading score\",\"reading score\",\"reading score\",\"reading score\",\"reading score\",\"reading score\",\"reading score\",\"reading score\",\"reading score\",\"reading score\",\"reading score\",\"reading score\",\"reading score\",\"reading score\",\"reading score\",\"reading score\",\"reading score\",\"reading score\",\"reading score\",\"reading score\",\"reading score\",\"reading score\",\"reading score\",\"reading score\",\"reading score\",\"reading score\",\"reading score\",\"reading score\",\"reading score\",\"reading score\",\"reading score\",\"reading score\",\"reading score\",\"reading score\",\"reading score\",\"reading score\",\"reading score\",\"reading score\",\"reading score\",\"reading score\",\"reading score\",\"reading score\",\"reading score\",\"reading score\",\"reading score\",\"reading score\",\"reading score\",\"reading score\",\"reading score\",\"reading score\",\"reading score\",\"reading score\",\"reading score\",\"reading score\",\"reading score\",\"reading score\",\"reading score\",\"reading score\",\"reading score\",\"reading score\",\"reading score\",\"reading score\",\"reading score\",\"reading score\",\"reading score\",\"reading score\",\"reading score\",\"reading score\",\"reading score\",\"reading score\",\"reading score\",\"reading score\",\"reading score\",\"reading score\",\"reading score\",\"reading score\",\"reading score\",\"reading score\",\"reading score\",\"reading score\",\"reading score\",\"reading score\",\"reading score\",\"reading score\",\"reading score\",\"reading score\",\"reading score\",\"reading score\",\"reading score\",\"reading score\",\"reading score\",\"reading score\",\"reading score\",\"reading score\",\"reading score\",\"reading score\",\"reading score\",\"reading score\",\"reading score\",\"reading score\",\"reading score\",\"reading score\",\"reading score\",\"reading score\",\"reading score\",\"reading score\",\"reading score\",\"reading score\",\"reading score\",\"reading score\",\"reading score\",\"reading score\",\"reading score\",\"reading score\",\"reading score\",\"reading score\",\"reading score\",\"reading score\",\"reading score\",\"reading score\",\"reading score\",\"reading score\",\"reading score\",\"reading score\",\"reading score\",\"reading score\",\"reading score\",\"reading score\",\"reading score\",\"reading score\",\"reading score\",\"reading score\",\"reading score\",\"reading score\",\"reading score\",\"reading score\",\"reading score\",\"reading score\",\"reading score\",\"reading score\",\"reading score\",\"reading score\",\"reading score\",\"reading score\",\"reading score\",\"reading score\",\"reading score\",\"reading score\",\"reading score\",\"reading score\",\"reading score\",\"reading score\",\"reading score\",\"reading score\",\"reading score\",\"reading score\",\"reading score\"],\"x0\":\" \",\"xaxis\":\"x\",\"y\":[46.0,142.0,196.0,78.0,166.0,66.0,75.0,86.0,61.0,68.0,196.0,131.0,193.0,48.0,171.0,61.0,73.0,78.0,142.0,76.0,65.0,74.0,null,142.0,57.0,69.0,42.0,82.0,193.0,61.0,73.0,75.0,null,97.0,null,100.0,76.0,61.0,81.0,72.0,83.0,64.0,76.0,86.0,124.0,88.0,74.0,72.0,142.0,61.0,64.0,61.0,59.0,67.0,62.0,29.0,79.0,142.0,67.0,124.0,null,58.0,142.0,55.0,87.0,193.0,28.0,67.0,128.0,74.0,64.0,59.0,142.0,79.0,73.0,196.0,60.0,59.0,92.0,76.0,196.0,85.0,193.0,94.0,85.0,193.0,142.0,62.0,48.0,48.0,193.0,54.0,54.0,193.0,188.0,82.0,82.0,65.0,71.0,90.0,84.0,75.0,193.0,142.0,193.0,88.0,93.0,142.0,81.0,93.0,57.0,74.0,54.0,193.0,null,84.0,90.0,193.0,41.0,73.0,68.0,78.0,193.0,null,74.0,124.0,193.0,62.0,90.0,63.0,124.0,74.0,64.0,68.0,124.0,null,73.0,142.0,56.0,193.0,70.0,124.0,124.0,142.0,72.0,83.0,59.0,null,87.0,99.0,73.0,42.0,null,43.0,64.0,68.0,85.0,81.0,72.0,78.0,70.0,51.0,188.0,72.0,50.0,85.0,66.0,78.0,77.0,45.0,60.0,93.0,61.0,64.0,83.0,66.0,61.0,77.0,171.0,57.0,67.0,78.0,70.0,79.0,142.0,68.0,81.0,67.0,193.0,142.0,54.0,124.0,60.0,51.0,51.0,57.0,38.0,193.0,77.0,79.0,58.0,188.0,51.0,72.0,62.0,56.0,51.0,193.0,83.0,76.0,78.0,95.0,89.0,87.0,66.0,196.0,193.0,193.0,49.0,193.0,53.0,57.0,73.0,68.0,71.0,63.0,86.0,58.0,142.0,124.0,51.0,151.0,193.0,171.0,193.0,64.0,71.0,48.0,193.0,93.0,72.0,60.0,61.0,73.0,54.0,128.0,142.0,124.0,48.0,73.0,74.0,95.0,77.0,74.0,70.0,90.0,196.0,74.0,124.0,51.0,68.0,null,142.0,166.0,72.0,81.0,76.0,63.0,62.0,59.0,47.0,66.0,64.0,74.0,78.0,193.0,196.0,142.0,86.0,100.0,58.0,64.0,81.0,63.0,71.0,142.0,124.0,null,124.0,91.0,196.0,75.0,84.0,94.0,61.0,193.0,84.0,49.0,63.0,193.0,82.0,174.0,81.0,49.0,42.0,77.0,76.0,66.0,88.0,83.0,81.0,34.0,39.0,124.0,52.0,147.0,64.0,82.0,81.0,80.0,193.0,59.0,78.0,72.0,64.0,188.0,196.0,81.0,70.0,52.0,58.0,124.0,73.0,70.0,87.0,64.0,142.0,66.0,57.0,193.0,89.0,75.0,56.0,124.0,70.0,75.0,69.0,193.0,57.0,43.0,54.0,54.0,53.0,193.0,142.0,193.0,59.0,41.0,31.0,75.0,124.0,74.0,39.0,124.0,57.0,87.0,84.0,54.0,54.0,193.0,64.0,88.0,23.0,71.0,57.0,142.0,124.0,64.0,124.0,53.0,124.0,85.0,124.0,58.0,100.0,80.0,196.0,124.0,47.0,84.0,124.0,81.0,124.0,82.0,64.0,null,58.0,73.0,77.0,79.0,null,78.0,68.0,193.0,86.0,77.0,49.0,75.0,70.0,174.0,66.0,62.0,40.0,65.0,61.0,124.0,61.0,95.0,79.0,76.0,196.0,68.0,74.0,66.0,67.0,86.0,65.0,73.0,75.0,124.0,77.0,null,71.0,72.0,89.0,124.0,71.0,193.0,78.0,193.0,null,193.0,56.0,null,193.0,65.0,92.0,142.0,78.0,95.0,77.0,null,86.0,70.0,63.0,80.0,82.0,81.0,193.0,55.0,null,51.0,51.0,97.0,null,72.0,73.0,196.0,79.0,67.0,68.0,77.0,58.0,78.0,57.0,100.0,193.0,89.0,73.0,72.0,193.0,79.0,156.0,196.0,142.0,62.0,74.0,54.0,96.0,66.0,79.0,67.0,53.0,61.0,156.0,92.0,81.0,null,62.0,59.0,142.0,null,64.0,75.0,67.0,193.0,75.0,63.0,56.0,66.0,95.0,156.0,156.0,97.0,100.0,77.0,90.0,44.0,83.0,68.0,null,82.0,193.0,171.0,49.0,59.0,75.0,60.0,64.0,142.0,49.0,43.0,43.0,73.0,54.0,66.0,72.0,43.0,83.0,65.0,72.0,74.0,82.0,84.0,54.0,196.0,42.0,62.0,53.0,58.0,null,85.0,64.0,196.0,72.0,66.0,64.0,55.0,42.0,142.0,49.0,89.0,26.0,84.0,64.0,82.0,81.0,59.0,147.0,84.0,156.0,124.0,84.0,88.0,88.0,84.0,74.0,73.0,64.0,62.0,52.0,193.0,65.0,142.0,124.0,193.0,54.0,53.0,131.0,193.0,86.0,92.0,156.0,71.0,52.0,86.0,91.0,61.0,63.0,76.0,193.0,64.0,188.0,53.0,58.0,196.0,72.0,74.0,69.0,84.0,193.0,92.0,142.0,193.0,70.0,55.0,142.0,76.0,72.0,77.0,85.0,69.0,193.0,124.0,73.0,85.0,124.0,193.0,67.0,58.0,66.0,76.0,193.0,55.0,87.0,124.0,68.0,49.0,70.0,82.0,52.0,74.0,196.0,50.0,156.0,151.0,193.0,90.0,193.0,84.0,193.0,65.0,77.0,182.0,182.0,67.0,67.0,66.0,142.0,63.0,193.0,182.0,75.0,90.0,193.0,196.0,78.0,70.0,188.0,68.0,193.0,131.0,193.0,66.0,142.0,196.0,142.0,100.0,131.0,24.0,64.0,65.0,66.0,84.0,82.0,64.0,73.0,77.0,72.0,51.0,69.0,50.0,68.0,56.0,null,142.0,55.0,147.0,182.0,51.0,95.0,90.0,56.0,72.0,49.0,65.0,77.0,46.0,100.0,196.0,188.0,193.0,193.0,70.0,124.0,61.0,45.0,193.0,59.0,69.0,46.0,55.0,65.0,77.0,56.0,63.0,78.0,77.0,196.0,71.0,64.0,64.0,100.0,124.0,63.0,41.0,193.0,78.0,79.0,142.0,87.0,87.0,58.0,81.0,73.0,70.0,69.0,131.0,73.0,49.0,52.0,51.0,193.0,81.0,80.0,64.0,90.0,58.0,81.0,142.0,79.0,64.0,124.0,84.0,63.0,71.0,90.0,83.0,56.0,58.0,78.0,52.0,193.0,37.0,193.0,63.0,70.0,91.0,100.0,142.0,73.0,87.0,52.0,66.0,65.0,122.0,74.0,83.0,74.0,54.0,74.0,85.0,52.0,74.0,74.0,31.0,73.0,84.0,95.0,57.0,53.0,52.0,142.0,156.0,74.0,48.0,55.0,52.0,57.0,39.0,90.0,61.0,74.0,78.0,70.0,100.0,42.0,67.0,80.0,142.0,85.0,84.0,86.0,62.0,45.0,55.0,85.0,42.0,77.0,70.0,50.0,91.0,60.0,80.0,50.0,61.0,67.0,63.0,142.0,142.0,77.0,99.0,91.0,124.0,142.0,142.0,78.0,193.0,69.0,147.0,71.0,193.0,79.0,81.0,74.0,193.0,84.0,193.0,124.0,166.0,193.0,142.0,null,54.0,62.0,null,84.0,64.0,72.0,52.0,64.0,75.0,193.0,85.0,43.0,68.0,55.0,72.0,68.0,null,42.0,124.0,196.0,64.0,89.0,188.0,50.0,null,68.0,59.0,142.0,57.0,73.0,193.0,193.0,85.0,73.0,45.0,56.0,193.0,28.0,70.0,90.0,67.0,75.0,59.0,193.0,95.0,193.0,52.0,69.0,76.0,79.0,131.0,60.0,56.0,85.0,71.0,100.0,56.0,79.0,100.0,63.0,156.0,73.0,70.0,52.0,193.0,142.0,99.0,64.0,193.0,93.0,193.0,69.0,82.0,53.0,193.0,49.0,55.0,81.0,55.0,196.0,83.0,72.0,83.0,56.0,61.0,86.0,84.0,88.0,62.0,64.0,75.0,45.0,68.0,76.0,142.0,48.0,60.0,34.0,50.0,64.0,43.0,66.0,92.0,142.0,76.0,44.0,72.0,62.0,64.0,82.0,156.0,41.0,64.0,124.0,70.0,77.0,193.0,37.0,142.0,68.0,77.0,48.0,null,71.0,156.0,57.0,142.0,54.0,72.0,94.0,53.0,80.0,89.0,133.0,39.0,71.0,89.0,48.0,81.0,90.0,63.0,58.0,55.0,60.0,67.0,77.0,88.0,193.0,193.0,151.0,73.0,196.0,68.0,80.0,70.0,42.0,47.0,60.0,60.0,196.0,42.0,76.0,86.0,64.0,193.0,63.0,196.0,74.0,82.0,null,78.0,193.0,193.0,142.0,58.0,82.0,43.0,196.0,92.0,67.0,196.0,86.0,124.0,193.0,63.0,79.0,85.0,86.0,72.0,60.0,75.0,61.0,60.0,null,166.0,61.0,193.0,124.0,193.0,75.0,196.0,142.0,39.0,null,75.0,38.0,51.0,193.0,84.0,62.0,142.0,62.0,96.0,47.0,85.0,67.0,171.0,67.0,80.0,53.0,76.0,null,85.0,75.0,142.0,62.0,196.0,79.0,58.0,193.0,60.0,71.0,174.0,58.0,87.0,45.0,85.0,193.0,58.0,43.0,67.0,68.0,67.0,58.0,147.0,77.0,71.0,63.0,78.0,60.0,34.0,193.0,188.0,78.0,57.0,62.0,142.0,76.0,64.0,78.0,156.0,53.0,51.0,62.0,84.0,193.0,156.0,60.0,58.0,128.0,84.0,76.0,73.0,72.0,90.0,66.0,142.0,83.0,193.0,65.0,74.0,72.0,24.0,92.0,62.0,60.0,57.0,65.0,193.0,76.0,193.0,142.0,49.0,90.0,86.0,193.0,193.0,89.0,76.0,97.0,70.0,124.0,122.0,66.0,86.0,68.0,193.0,83.0,86.0,88.0,41.0,147.0,65.0,95.0,97.0,51.0,66.0,null,66.0,100.0,74.0,54.0,193.0,67.0,60.0,59.0,81.0,193.0,90.0,81.0,60.0,65.0,53.0,52.0,193.0,193.0,58.0,69.0,42.0,196.0,87.0,83.0,171.0,72.0,142.0,null,67.0,89.0,75.0,64.0,63.0,67.0,84.0,74.0,188.0,80.0,100.0,64.0,124.0,142.0,26.0,193.0,193.0,75.0,76.0,61.0,78.0,37.0,193.0,193.0,182.0,76.0,71.0,188.0,70.0,142.0,196.0,71.0,68.0,70.0,null,66.0,null,65.0,71.0,193.0,92.0,55.0,69.0,56.0,76.0,92.0,59.0,32.0,193.0,79.0,54.0,58.0,196.0,null,67.0,49.0,39.0,73.0,156.0,156.0,193.0,60.0,null,73.0,90.0,44.0,56.0,100.0,71.0,69.0,49.0,91.0,76.0,55.0,124.0,182.0,193.0,75.0,84.0,67.0,72.0,78.0,79.0,142.0,60.0,58.0,46.0,77.0,80.0,79.0,69.0,45.0,58.0,95.0,78.0,70.0,62.0,174.0,81.0,81.0,78.0,69.0,46.0,80.0,188.0,72.0,58.0,122.0,72.0,96.0,75.0,193.0,49.0,100.0,193.0,74.0,142.0,59.0,41.0,58.0,93.0,61.0,66.0,142.0,67.0,84.0,82.0,70.0,61.0,80.0,174.0,142.0,62.0,64.0,65.0,17.0,193.0,196.0,67.0,86.0,86.0,193.0,67.0,100.0,58.0,57.0,87.0,51.0,74.0,null,82.0,96.0,65.0,82.0,66.0,89.0,72.0,55.0,56.0,89.0,196.0,48.0,52.0,59.0,34.0,73.0,82.0,66.0,81.0,124.0,72.0,87.0,97.0,74.0,75.0,67.0,147.0,72.0,64.0,76.0,46.0,64.0,29.0,75.0,193.0,44.0,142.0,74.0,61.0,196.0,80.0],\"y0\":\" \",\"yaxis\":\"y\",\"type\":\"box\"},{\"alignmentgroup\":\"True\",\"hovertemplate\":\"subject=%{x}<br>score=%{y}<extra></extra>\",\"legendgroup\":\"writing score\",\"marker\":{\"color\":\"#00cc96\"},\"name\":\"writing score\",\"notched\":false,\"offsetgroup\":\"writing score\",\"orientation\":\"v\",\"showlegend\":true,\"x\":[\"writing score\",\"writing score\",\"writing score\",\"writing score\",\"writing score\",\"writing score\",\"writing score\",\"writing score\",\"writing score\",\"writing score\",\"writing score\",\"writing score\",\"writing score\",\"writing score\",\"writing score\",\"writing score\",\"writing score\",\"writing score\",\"writing score\",\"writing score\",\"writing score\",\"writing score\",\"writing score\",\"writing score\",\"writing score\",\"writing score\",\"writing score\",\"writing score\",\"writing score\",\"writing score\",\"writing score\",\"writing score\",\"writing score\",\"writing score\",\"writing score\",\"writing score\",\"writing score\",\"writing score\",\"writing score\",\"writing score\",\"writing score\",\"writing score\",\"writing score\",\"writing score\",\"writing score\",\"writing score\",\"writing score\",\"writing score\",\"writing score\",\"writing score\",\"writing score\",\"writing score\",\"writing score\",\"writing score\",\"writing score\",\"writing score\",\"writing score\",\"writing score\",\"writing score\",\"writing score\",\"writing score\",\"writing score\",\"writing score\",\"writing score\",\"writing score\",\"writing score\",\"writing score\",\"writing score\",\"writing score\",\"writing score\",\"writing score\",\"writing score\",\"writing score\",\"writing score\",\"writing score\",\"writing score\",\"writing score\",\"writing score\",\"writing score\",\"writing score\",\"writing score\",\"writing score\",\"writing score\",\"writing score\",\"writing score\",\"writing score\",\"writing score\",\"writing score\",\"writing score\",\"writing score\",\"writing score\",\"writing score\",\"writing score\",\"writing score\",\"writing score\",\"writing score\",\"writing score\",\"writing score\",\"writing score\",\"writing score\",\"writing score\",\"writing score\",\"writing score\",\"writing score\",\"writing score\",\"writing score\",\"writing score\",\"writing score\",\"writing score\",\"writing score\",\"writing score\",\"writing score\",\"writing score\",\"writing score\",\"writing score\",\"writing score\",\"writing score\",\"writing score\",\"writing score\",\"writing score\",\"writing score\",\"writing score\",\"writing score\",\"writing score\",\"writing score\",\"writing score\",\"writing score\",\"writing score\",\"writing score\",\"writing score\",\"writing score\",\"writing score\",\"writing score\",\"writing score\",\"writing score\",\"writing score\",\"writing score\",\"writing score\",\"writing score\",\"writing score\",\"writing score\",\"writing score\",\"writing score\",\"writing score\",\"writing score\",\"writing score\",\"writing score\",\"writing score\",\"writing score\",\"writing score\",\"writing score\",\"writing score\",\"writing score\",\"writing score\",\"writing score\",\"writing score\",\"writing score\",\"writing score\",\"writing score\",\"writing score\",\"writing score\",\"writing score\",\"writing score\",\"writing score\",\"writing score\",\"writing score\",\"writing score\",\"writing score\",\"writing score\",\"writing score\",\"writing score\",\"writing score\",\"writing score\",\"writing score\",\"writing score\",\"writing score\",\"writing score\",\"writing score\",\"writing score\",\"writing score\",\"writing score\",\"writing score\",\"writing score\",\"writing score\",\"writing score\",\"writing score\",\"writing score\",\"writing score\",\"writing score\",\"writing score\",\"writing score\",\"writing score\",\"writing score\",\"writing score\",\"writing score\",\"writing score\",\"writing score\",\"writing score\",\"writing score\",\"writing score\",\"writing score\",\"writing score\",\"writing score\",\"writing score\",\"writing score\",\"writing score\",\"writing score\",\"writing score\",\"writing score\",\"writing score\",\"writing score\",\"writing score\",\"writing score\",\"writing score\",\"writing score\",\"writing score\",\"writing score\",\"writing score\",\"writing score\",\"writing score\",\"writing score\",\"writing score\",\"writing score\",\"writing score\",\"writing score\",\"writing score\",\"writing score\",\"writing score\",\"writing score\",\"writing score\",\"writing score\",\"writing score\",\"writing score\",\"writing score\",\"writing score\",\"writing score\",\"writing score\",\"writing score\",\"writing score\",\"writing score\",\"writing score\",\"writing score\",\"writing score\",\"writing score\",\"writing score\",\"writing score\",\"writing score\",\"writing score\",\"writing score\",\"writing score\",\"writing score\",\"writing score\",\"writing score\",\"writing score\",\"writing score\",\"writing score\",\"writing score\",\"writing score\",\"writing score\",\"writing score\",\"writing score\",\"writing score\",\"writing score\",\"writing score\",\"writing score\",\"writing score\",\"writing score\",\"writing score\",\"writing score\",\"writing score\",\"writing score\",\"writing score\",\"writing score\",\"writing score\",\"writing score\",\"writing score\",\"writing score\",\"writing score\",\"writing score\",\"writing score\",\"writing score\",\"writing score\",\"writing score\",\"writing score\",\"writing score\",\"writing score\",\"writing score\",\"writing score\",\"writing score\",\"writing score\",\"writing score\",\"writing score\",\"writing score\",\"writing score\",\"writing score\",\"writing score\",\"writing score\",\"writing score\",\"writing score\",\"writing score\",\"writing score\",\"writing score\",\"writing score\",\"writing score\",\"writing score\",\"writing score\",\"writing score\",\"writing score\",\"writing score\",\"writing score\",\"writing score\",\"writing score\",\"writing score\",\"writing score\",\"writing score\",\"writing score\",\"writing score\",\"writing score\",\"writing score\",\"writing score\",\"writing score\",\"writing score\",\"writing score\",\"writing score\",\"writing score\",\"writing score\",\"writing score\",\"writing score\",\"writing score\",\"writing score\",\"writing score\",\"writing score\",\"writing score\",\"writing score\",\"writing score\",\"writing score\",\"writing score\",\"writing score\",\"writing score\",\"writing score\",\"writing score\",\"writing score\",\"writing score\",\"writing score\",\"writing score\",\"writing score\",\"writing score\",\"writing score\",\"writing score\",\"writing score\",\"writing score\",\"writing score\",\"writing score\",\"writing score\",\"writing score\",\"writing score\",\"writing score\",\"writing score\",\"writing score\",\"writing score\",\"writing score\",\"writing score\",\"writing score\",\"writing score\",\"writing score\",\"writing score\",\"writing score\",\"writing score\",\"writing score\",\"writing score\",\"writing score\",\"writing score\",\"writing score\",\"writing score\",\"writing score\",\"writing score\",\"writing score\",\"writing score\",\"writing score\",\"writing score\",\"writing score\",\"writing score\",\"writing score\",\"writing score\",\"writing score\",\"writing score\",\"writing score\",\"writing score\",\"writing score\",\"writing score\",\"writing score\",\"writing score\",\"writing score\",\"writing score\",\"writing score\",\"writing score\",\"writing score\",\"writing score\",\"writing score\",\"writing score\",\"writing score\",\"writing score\",\"writing score\",\"writing score\",\"writing score\",\"writing score\",\"writing score\",\"writing score\",\"writing score\",\"writing score\",\"writing score\",\"writing score\",\"writing score\",\"writing score\",\"writing score\",\"writing score\",\"writing score\",\"writing score\",\"writing score\",\"writing score\",\"writing score\",\"writing score\",\"writing score\",\"writing score\",\"writing score\",\"writing score\",\"writing score\",\"writing score\",\"writing score\",\"writing score\",\"writing score\",\"writing score\",\"writing score\",\"writing score\",\"writing score\",\"writing score\",\"writing score\",\"writing score\",\"writing score\",\"writing score\",\"writing score\",\"writing score\",\"writing score\",\"writing score\",\"writing score\",\"writing score\",\"writing score\",\"writing score\",\"writing score\",\"writing score\",\"writing score\",\"writing score\",\"writing score\",\"writing score\",\"writing score\",\"writing score\",\"writing score\",\"writing score\",\"writing score\",\"writing score\",\"writing score\",\"writing score\",\"writing score\",\"writing score\",\"writing score\",\"writing score\",\"writing score\",\"writing score\",\"writing score\",\"writing score\",\"writing score\",\"writing score\",\"writing score\",\"writing score\",\"writing score\",\"writing score\",\"writing score\",\"writing score\",\"writing score\",\"writing score\",\"writing score\",\"writing score\",\"writing score\",\"writing score\",\"writing score\",\"writing score\",\"writing score\",\"writing score\",\"writing score\",\"writing score\",\"writing score\",\"writing score\",\"writing score\",\"writing score\",\"writing score\",\"writing score\",\"writing score\",\"writing score\",\"writing score\",\"writing score\",\"writing score\",\"writing score\",\"writing score\",\"writing score\",\"writing score\",\"writing score\",\"writing score\",\"writing score\",\"writing score\",\"writing score\",\"writing score\",\"writing score\",\"writing score\",\"writing score\",\"writing score\",\"writing score\",\"writing score\",\"writing score\",\"writing score\",\"writing score\",\"writing score\",\"writing score\",\"writing score\",\"writing score\",\"writing score\",\"writing score\",\"writing score\",\"writing score\",\"writing score\",\"writing score\",\"writing score\",\"writing score\",\"writing score\",\"writing score\",\"writing score\",\"writing score\",\"writing score\",\"writing score\",\"writing score\",\"writing score\",\"writing score\",\"writing score\",\"writing score\",\"writing score\",\"writing score\",\"writing score\",\"writing score\",\"writing score\",\"writing score\",\"writing score\",\"writing score\",\"writing score\",\"writing score\",\"writing score\",\"writing score\",\"writing score\",\"writing score\",\"writing score\",\"writing score\",\"writing score\",\"writing score\",\"writing score\",\"writing score\",\"writing score\",\"writing score\",\"writing score\",\"writing score\",\"writing score\",\"writing score\",\"writing score\",\"writing score\",\"writing score\",\"writing score\",\"writing score\",\"writing score\",\"writing score\",\"writing score\",\"writing score\",\"writing score\",\"writing score\",\"writing score\",\"writing score\",\"writing score\",\"writing score\",\"writing score\",\"writing score\",\"writing score\",\"writing score\",\"writing score\",\"writing score\",\"writing score\",\"writing score\",\"writing score\",\"writing score\",\"writing score\",\"writing score\",\"writing score\",\"writing score\",\"writing score\",\"writing score\",\"writing score\",\"writing score\",\"writing score\",\"writing score\",\"writing score\",\"writing score\",\"writing score\",\"writing score\",\"writing score\",\"writing score\",\"writing score\",\"writing score\",\"writing score\",\"writing score\",\"writing score\",\"writing score\",\"writing score\",\"writing score\",\"writing score\",\"writing score\",\"writing score\",\"writing score\",\"writing score\",\"writing score\",\"writing score\",\"writing score\",\"writing score\",\"writing score\",\"writing score\",\"writing score\",\"writing score\",\"writing score\",\"writing score\",\"writing score\",\"writing score\",\"writing score\",\"writing score\",\"writing score\",\"writing score\",\"writing score\",\"writing score\",\"writing score\",\"writing score\",\"writing score\",\"writing score\",\"writing score\",\"writing score\",\"writing score\",\"writing score\",\"writing score\",\"writing score\",\"writing score\",\"writing score\",\"writing score\",\"writing score\",\"writing score\",\"writing score\",\"writing score\",\"writing score\",\"writing score\",\"writing score\",\"writing score\",\"writing score\",\"writing score\",\"writing score\",\"writing score\",\"writing score\",\"writing score\",\"writing score\",\"writing score\",\"writing score\",\"writing score\",\"writing score\",\"writing score\",\"writing score\",\"writing score\",\"writing score\",\"writing score\",\"writing score\",\"writing score\",\"writing score\",\"writing score\",\"writing score\",\"writing score\",\"writing score\",\"writing score\",\"writing score\",\"writing score\",\"writing score\",\"writing score\",\"writing score\",\"writing score\",\"writing score\",\"writing score\",\"writing score\",\"writing score\",\"writing score\",\"writing score\",\"writing score\",\"writing score\",\"writing score\",\"writing score\",\"writing score\",\"writing score\",\"writing score\",\"writing score\",\"writing score\",\"writing score\",\"writing score\",\"writing score\",\"writing score\",\"writing score\",\"writing score\",\"writing score\",\"writing score\",\"writing score\",\"writing score\",\"writing score\",\"writing score\",\"writing score\",\"writing score\",\"writing score\",\"writing score\",\"writing score\",\"writing score\",\"writing score\",\"writing score\",\"writing score\",\"writing score\",\"writing score\",\"writing score\",\"writing score\",\"writing score\",\"writing score\",\"writing score\",\"writing score\",\"writing score\",\"writing score\",\"writing score\",\"writing score\",\"writing score\",\"writing score\",\"writing score\",\"writing score\",\"writing score\",\"writing score\",\"writing score\",\"writing score\",\"writing score\",\"writing score\",\"writing score\",\"writing score\",\"writing score\",\"writing score\",\"writing score\",\"writing score\",\"writing score\",\"writing score\",\"writing score\",\"writing score\",\"writing score\",\"writing score\",\"writing score\",\"writing score\",\"writing score\",\"writing score\",\"writing score\",\"writing score\",\"writing score\",\"writing score\",\"writing score\",\"writing score\",\"writing score\",\"writing score\",\"writing score\",\"writing score\",\"writing score\",\"writing score\",\"writing score\",\"writing score\",\"writing score\",\"writing score\",\"writing score\",\"writing score\",\"writing score\",\"writing score\",\"writing score\",\"writing score\",\"writing score\",\"writing score\",\"writing score\",\"writing score\",\"writing score\",\"writing score\",\"writing score\",\"writing score\",\"writing score\",\"writing score\",\"writing score\",\"writing score\",\"writing score\",\"writing score\",\"writing score\",\"writing score\",\"writing score\",\"writing score\",\"writing score\",\"writing score\",\"writing score\",\"writing score\",\"writing score\",\"writing score\",\"writing score\",\"writing score\",\"writing score\",\"writing score\",\"writing score\",\"writing score\",\"writing score\",\"writing score\",\"writing score\",\"writing score\",\"writing score\",\"writing score\",\"writing score\",\"writing score\",\"writing score\",\"writing score\",\"writing score\",\"writing score\",\"writing score\",\"writing score\",\"writing score\",\"writing score\",\"writing score\",\"writing score\",\"writing score\",\"writing score\",\"writing score\",\"writing score\",\"writing score\",\"writing score\",\"writing score\",\"writing score\",\"writing score\",\"writing score\",\"writing score\",\"writing score\",\"writing score\",\"writing score\",\"writing score\",\"writing score\",\"writing score\",\"writing score\",\"writing score\",\"writing score\",\"writing score\",\"writing score\",\"writing score\",\"writing score\",\"writing score\",\"writing score\",\"writing score\",\"writing score\",\"writing score\",\"writing score\",\"writing score\",\"writing score\",\"writing score\",\"writing score\",\"writing score\",\"writing score\",\"writing score\",\"writing score\",\"writing score\",\"writing score\",\"writing score\",\"writing score\",\"writing score\",\"writing score\",\"writing score\",\"writing score\",\"writing score\",\"writing score\",\"writing score\",\"writing score\",\"writing score\",\"writing score\",\"writing score\",\"writing score\",\"writing score\",\"writing score\",\"writing score\",\"writing score\",\"writing score\",\"writing score\",\"writing score\",\"writing score\",\"writing score\",\"writing score\",\"writing score\",\"writing score\",\"writing score\",\"writing score\",\"writing score\",\"writing score\",\"writing score\",\"writing score\",\"writing score\",\"writing score\",\"writing score\",\"writing score\",\"writing score\",\"writing score\",\"writing score\",\"writing score\",\"writing score\",\"writing score\",\"writing score\",\"writing score\",\"writing score\",\"writing score\",\"writing score\",\"writing score\",\"writing score\",\"writing score\",\"writing score\",\"writing score\",\"writing score\",\"writing score\",\"writing score\",\"writing score\",\"writing score\",\"writing score\",\"writing score\",\"writing score\",\"writing score\",\"writing score\",\"writing score\",\"writing score\",\"writing score\",\"writing score\",\"writing score\",\"writing score\",\"writing score\",\"writing score\",\"writing score\",\"writing score\",\"writing score\",\"writing score\",\"writing score\",\"writing score\",\"writing score\",\"writing score\",\"writing score\",\"writing score\",\"writing score\",\"writing score\",\"writing score\",\"writing score\",\"writing score\",\"writing score\",\"writing score\",\"writing score\",\"writing score\",\"writing score\",\"writing score\",\"writing score\",\"writing score\",\"writing score\",\"writing score\",\"writing score\",\"writing score\",\"writing score\",\"writing score\",\"writing score\",\"writing score\",\"writing score\",\"writing score\",\"writing score\",\"writing score\",\"writing score\",\"writing score\",\"writing score\",\"writing score\",\"writing score\",\"writing score\",\"writing score\",\"writing score\",\"writing score\",\"writing score\",\"writing score\",\"writing score\",\"writing score\",\"writing score\",\"writing score\",\"writing score\",\"writing score\",\"writing score\",\"writing score\",\"writing score\",\"writing score\",\"writing score\",\"writing score\",\"writing score\",\"writing score\",\"writing score\",\"writing score\",\"writing score\",\"writing score\",\"writing score\",\"writing score\",\"writing score\",\"writing score\",\"writing score\",\"writing score\",\"writing score\",\"writing score\",\"writing score\",\"writing score\",\"writing score\",\"writing score\",\"writing score\",\"writing score\",\"writing score\",\"writing score\",\"writing score\",\"writing score\",\"writing score\",\"writing score\",\"writing score\",\"writing score\",\"writing score\",\"writing score\",\"writing score\",\"writing score\",\"writing score\",\"writing score\",\"writing score\",\"writing score\",\"writing score\",\"writing score\",\"writing score\",\"writing score\",\"writing score\",\"writing score\",\"writing score\",\"writing score\",\"writing score\",\"writing score\",\"writing score\",\"writing score\",\"writing score\",\"writing score\",\"writing score\",\"writing score\",\"writing score\",\"writing score\",\"writing score\",\"writing score\",\"writing score\",\"writing score\",\"writing score\",\"writing score\",\"writing score\",\"writing score\",\"writing score\",\"writing score\",\"writing score\",\"writing score\",\"writing score\",\"writing score\",\"writing score\",\"writing score\",\"writing score\",\"writing score\",\"writing score\",\"writing score\",\"writing score\",\"writing score\",\"writing score\",\"writing score\",\"writing score\",\"writing score\",\"writing score\",\"writing score\",\"writing score\",\"writing score\",\"writing score\",\"writing score\",\"writing score\",\"writing score\",\"writing score\",\"writing score\",\"writing score\",\"writing score\",\"writing score\",\"writing score\",\"writing score\",\"writing score\",\"writing score\",\"writing score\",\"writing score\",\"writing score\",\"writing score\",\"writing score\",\"writing score\",\"writing score\",\"writing score\",\"writing score\",\"writing score\",\"writing score\",\"writing score\",\"writing score\",\"writing score\",\"writing score\",\"writing score\",\"writing score\",\"writing score\",\"writing score\",\"writing score\",\"writing score\",\"writing score\",\"writing score\",\"writing score\",\"writing score\",\"writing score\",\"writing score\",\"writing score\",\"writing score\",\"writing score\",\"writing score\",\"writing score\",\"writing score\",\"writing score\",\"writing score\",\"writing score\",\"writing score\",\"writing score\",\"writing score\",\"writing score\",\"writing score\",\"writing score\",\"writing score\",\"writing score\",\"writing score\",\"writing score\",\"writing score\",\"writing score\",\"writing score\",\"writing score\",\"writing score\",\"writing score\",\"writing score\",\"writing score\",\"writing score\",\"writing score\",\"writing score\",\"writing score\",\"writing score\",\"writing score\",\"writing score\",\"writing score\",\"writing score\",\"writing score\",\"writing score\",\"writing score\",\"writing score\",\"writing score\",\"writing score\",\"writing score\",\"writing score\",\"writing score\",\"writing score\",\"writing score\",\"writing score\",\"writing score\",\"writing score\",\"writing score\",\"writing score\",\"writing score\",\"writing score\",\"writing score\",\"writing score\",\"writing score\",\"writing score\",\"writing score\",\"writing score\",\"writing score\",\"writing score\",\"writing score\",\"writing score\",\"writing score\",\"writing score\",\"writing score\",\"writing score\",\"writing score\",\"writing score\",\"writing score\",\"writing score\",\"writing score\",\"writing score\",\"writing score\",\"writing score\",\"writing score\",\"writing score\",\"writing score\",\"writing score\",\"writing score\",\"writing score\",\"writing score\",\"writing score\",\"writing score\",\"writing score\",\"writing score\",\"writing score\",\"writing score\",\"writing score\",\"writing score\",\"writing score\",\"writing score\",\"writing score\",\"writing score\",\"writing score\",\"writing score\",\"writing score\",\"writing score\",\"writing score\",\"writing score\",\"writing score\",\"writing score\",\"writing score\",\"writing score\",\"writing score\",\"writing score\",\"writing score\",\"writing score\",\"writing score\",\"writing score\",\"writing score\",\"writing score\",\"writing score\",\"writing score\",\"writing score\",\"writing score\",\"writing score\",\"writing score\",\"writing score\",\"writing score\",\"writing score\",\"writing score\",\"writing score\",\"writing score\",\"writing score\",\"writing score\",\"writing score\",\"writing score\",\"writing score\",\"writing score\",\"writing score\",\"writing score\",\"writing score\",\"writing score\",\"writing score\",\"writing score\",\"writing score\",\"writing score\",\"writing score\",\"writing score\",\"writing score\",\"writing score\",\"writing score\",\"writing score\",\"writing score\",\"writing score\",\"writing score\",\"writing score\",\"writing score\",\"writing score\",\"writing score\",\"writing score\",\"writing score\",\"writing score\",\"writing score\",\"writing score\",\"writing score\",\"writing score\",\"writing score\",\"writing score\",\"writing score\",\"writing score\",\"writing score\",\"writing score\",\"writing score\",\"writing score\",\"writing score\",\"writing score\",\"writing score\",\"writing score\",\"writing score\",\"writing score\",\"writing score\",\"writing score\",\"writing score\",\"writing score\",\"writing score\",\"writing score\",\"writing score\",\"writing score\",\"writing score\",\"writing score\",\"writing score\",\"writing score\",\"writing score\",\"writing score\",\"writing score\",\"writing score\",\"writing score\",\"writing score\",\"writing score\",\"writing score\",\"writing score\",\"writing score\",\"writing score\",\"writing score\",\"writing score\",\"writing score\",\"writing score\",\"writing score\",\"writing score\",\"writing score\",\"writing score\",\"writing score\",\"writing score\",\"writing score\",\"writing score\",\"writing score\",\"writing score\",\"writing score\",\"writing score\",\"writing score\",\"writing score\",\"writing score\",\"writing score\",\"writing score\",\"writing score\",\"writing score\",\"writing score\",\"writing score\",\"writing score\",\"writing score\",\"writing score\",\"writing score\",\"writing score\",\"writing score\",\"writing score\",\"writing score\",\"writing score\",\"writing score\",\"writing score\",\"writing score\",\"writing score\",\"writing score\",\"writing score\",\"writing score\",\"writing score\",\"writing score\",\"writing score\",\"writing score\",\"writing score\",\"writing score\",\"writing score\",\"writing score\",\"writing score\",\"writing score\",\"writing score\",\"writing score\",\"writing score\",\"writing score\",\"writing score\",\"writing score\",\"writing score\",\"writing score\",\"writing score\",\"writing score\",\"writing score\",\"writing score\",\"writing score\",\"writing score\",\"writing score\",\"writing score\",\"writing score\",\"writing score\",\"writing score\",\"writing score\",\"writing score\",\"writing score\",\"writing score\",\"writing score\",\"writing score\"],\"x0\":\" \",\"xaxis\":\"x\",\"y\":[46.0,142.0,193.0,81.0,166.0,63.0,76.0,87.0,69.0,64.0,193.0,193.0,193.0,41.0,131.0,61.0,71.0,82.0,147.0,70.0,58.0,72.0,193.0,124.0,62.0,68.0,46.0,74.0,193.0,60.0,68.0,77.0,null,124.0,142.0,100.0,74.0,55.0,80.0,70.0,75.0,67.0,78.0,88.0,124.0,85.0,74.0,65.0,124.0,54.0,62.0,62.0,54.0,63.0,60.0,27.0,76.0,142.0,72.0,193.0,193.0,57.0,124.0,53.0,78.0,142.0,27.0,70.0,188.0,61.0,67.0,65.0,193.0,79.0,71.0,196.0,61.0,64.0,85.0,65.0,196.0,87.0,193.0,95.0,85.0,122.0,196.0,60.0,47.0,50.0,182.0,56.0,52.0,124.0,142.0,88.0,82.0,61.0,65.0,92.0,86.0,73.0,196.0,124.0,193.0,78.0,91.0,124.0,81.0,93.0,58.0,70.0,53.0,142.0,null,78.0,88.0,193.0,42.0,74.0,67.0,77.0,null,193.0,78.0,142.0,null,60.0,83.0,61.0,196.0,74.0,66.0,64.0,193.0,142.0,70.0,193.0,51.0,142.0,70.0,193.0,196.0,124.0,59.0,83.0,54.0,null,85.0,100.0,72.0,151.0,124.0,43.0,193.0,63.0,82.0,71.0,65.0,78.0,74.0,43.0,188.0,74.0,60.0,85.0,61.0,76.0,77.0,45.0,58.0,95.0,71.0,57.0,78.0,59.0,58.0,74.0,193.0,46.0,62.0,78.0,74.0,81.0,193.0,72.0,82.0,73.0,128.0,124.0,50.0,124.0,59.0,44.0,57.0,54.0,32.0,142.0,73.0,74.0,57.0,193.0,52.0,69.0,53.0,54.0,48.0,124.0,90.0,75.0,83.0,94.0,92.0,91.0,62.0,64.0,124.0,193.0,45.0,193.0,58.0,52.0,63.0,60.0,74.0,59.0,86.0,55.0,131.0,142.0,54.0,193.0,193.0,196.0,193.0,63.0,73.0,46.0,156.0,90.0,79.0,58.0,66.0,72.0,41.0,122.0,142.0,193.0,42.0,70.0,72.0,131.0,77.0,76.0,67.0,85.0,null,66.0,142.0,54.0,72.0,193.0,196.0,166.0,68.0,85.0,76.0,62.0,60.0,58.0,56.0,64.0,null,75.0,72.0,193.0,196.0,196.0,83.0,100.0,56.0,66.0,71.0,67.0,76.0,142.0,193.0,null,124.0,96.0,188.0,68.0,80.0,87.0,52.0,142.0,82.0,47.0,65.0,124.0,84.0,142.0,79.0,52.0,41.0,73.0,83.0,65.0,82.0,76.0,79.0,36.0,33.0,null,45.0,193.0,58.0,80.0,79.0,73.0,142.0,62.0,73.0,70.0,61.0,196.0,196.0,75.0,68.0,49.0,64.0,124.0,73.0,68.0,91.0,68.0,142.0,68.0,56.0,193.0,86.0,69.0,57.0,142.0,66.0,70.0,74.0,128.0,56.0,45.0,57.0,45.0,58.0,193.0,156.0,193.0,51.0,47.0,38.0,78.0,193.0,69.0,37.0,124.0,51.0,90.0,90.0,51.0,58.0,142.0,66.0,94.0,19.0,69.0,56.0,193.0,null,193.0,174.0,46.0,196.0,82.0,124.0,57.0,100.0,81.0,193.0,131.0,54.0,91.0,193.0,80.0,142.0,84.0,70.0,156.0,52.0,68.0,73.0,78.0,142.0,79.0,70.0,193.0,84.0,74.0,193.0,69.0,75.0,193.0,70.0,68.0,44.0,69.0,68.0,193.0,68.0,89.0,72.0,65.0,196.0,66.0,69.0,73.0,72.0,82.0,69.0,69.0,77.0,142.0,73.0,124.0,72.0,77.0,86.0,142.0,75.0,null,80.0,142.0,156.0,124.0,54.0,193.0,193.0,68.0,93.0,193.0,73.0,92.0,74.0,142.0,98.0,70.0,73.0,75.0,77.0,81.0,124.0,52.0,193.0,51.0,51.0,96.0,null,62.0,74.0,196.0,75.0,61.0,67.0,77.0,44.0,67.0,62.0,100.0,142.0,89.0,80.0,78.0,64.0,77.0,124.0,196.0,142.0,61.0,72.0,67.0,86.0,61.0,80.0,67.0,53.0,55.0,null,87.0,71.0,null,59.0,50.0,142.0,124.0,null,81.0,69.0,147.0,74.0,54.0,55.0,60.0,193.0,196.0,null,96.0,93.0,71.0,91.0,42.0,83.0,66.0,193.0,81.0,124.0,147.0,41.0,56.0,77.0,58.0,66.0,124.0,52.0,47.0,41.0,68.0,63.0,62.0,71.0,39.0,80.0,61.0,70.0,72.0,89.0,81.0,48.0,193.0,38.0,60.0,55.0,54.0,null,86.0,124.0,196.0,70.0,73.0,72.0,47.0,38.0,131.0,49.0,88.0,22.0,80.0,66.0,80.0,83.0,50.0,131.0,87.0,null,null,85.0,87.0,85.0,87.0,70.0,67.0,70.0,61.0,51.0,142.0,61.0,193.0,null,193.0,48.0,57.0,193.0,147.0,87.0,89.0,null,65.0,52.0,80.0,88.0,52.0,56.0,80.0,193.0,68.0,156.0,47.0,51.0,193.0,80.0,73.0,68.0,89.0,193.0,86.0,142.0,142.0,70.0,57.0,193.0,77.0,69.0,80.0,73.0,63.0,124.0,124.0,78.0,76.0,196.0,193.0,73.0,52.0,66.0,74.0,142.0,60.0,82.0,193.0,65.0,46.0,69.0,76.0,46.0,72.0,38.0,51.0,null,33.0,142.0,84.0,193.0,85.0,193.0,60.0,80.0,null,42.0,65.0,58.0,64.0,null,58.0,131.0,142.0,83.0,91.0,193.0,97.0,80.0,66.0,193.0,64.0,null,193.0,193.0,66.0,156.0,124.0,193.0,100.0,193.0,23.0,62.0,64.0,65.0,82.0,91.0,null,75.0,69.0,64.0,43.0,69.0,47.0,74.0,57.0,124.0,193.0,48.0,147.0,193.0,56.0,94.0,91.0,57.0,76.0,50.0,63.0,79.0,44.0,95.0,193.0,193.0,193.0,193.0,71.0,131.0,57.0,41.0,193.0,62.0,68.0,43.0,54.0,65.0,76.0,47.0,64.0,75.0,78.0,196.0,73.0,193.0,57.0,95.0,131.0,66.0,38.0,124.0,76.0,79.0,182.0,82.0,85.0,65.0,86.0,73.0,65.0,76.0,124.0,70.0,49.0,51.0,48.0,null,80.0,73.0,65.0,82.0,59.0,73.0,193.0,84.0,142.0,null,77.0,75.0,68.0,88.0,86.0,51.0,62.0,79.0,54.0,193.0,37.0,42.0,62.0,76.0,89.0,97.0,124.0,68.0,92.0,55.0,68.0,60.0,171.0,71.0,88.0,75.0,53.0,73.0,91.0,43.0,81.0,74.0,36.0,70.0,75.0,93.0,50.0,52.0,42.0,124.0,156.0,64.0,53.0,53.0,51.0,53.0,34.0,92.0,58.0,72.0,76.0,66.0,100.0,38.0,61.0,71.0,193.0,87.0,85.0,92.0,56.0,50.0,48.0,82.0,38.0,77.0,63.0,52.0,89.0,54.0,83.0,54.0,66.0,69.0,56.0,188.0,193.0,83.0,100.0,87.0,156.0,196.0,188.0,79.0,124.0,75.0,171.0,78.0,193.0,82.0,84.0,68.0,196.0,78.0,142.0,193.0,166.0,156.0,142.0,156.0,52.0,62.0,142.0,82.0,74.0,70.0,44.0,66.0,78.0,193.0,93.0,44.0,61.0,55.0,71.0,72.0,null,48.0,174.0,193.0,193.0,98.0,142.0,43.0,193.0,66.0,54.0,null,59.0,71.0,124.0,196.0,84.0,72.0,40.0,58.0,193.0,27.0,70.0,94.0,72.0,74.0,52.0,null,100.0,42.0,54.0,68.0,75.0,81.0,193.0,59.0,53.0,90.0,73.0,100.0,51.0,82.0,100.0,61.0,124.0,72.0,76.0,46.0,null,193.0,95.0,62.0,193.0,93.0,196.0,68.0,79.0,53.0,null,51.0,49.0,84.0,63.0,196.0,78.0,74.0,77.0,56.0,60.0,90.0,82.0,85.0,64.0,174.0,70.0,45.0,69.0,76.0,193.0,51.0,60.0,36.0,45.0,70.0,43.0,69.0,97.0,193.0,74.0,43.0,72.0,62.0,64.0,82.0,64.0,43.0,60.0,193.0,65.0,70.0,193.0,35.0,193.0,77.0,80.0,49.0,124.0,74.0,124.0,53.0,null,53.0,77.0,95.0,49.0,75.0,95.0,36.0,34.0,78.0,82.0,52.0,74.0,89.0,60.0,58.0,54.0,57.0,67.0,74.0,90.0,193.0,124.0,34.0,67.0,196.0,61.0,80.0,62.0,41.0,44.0,57.0,50.0,193.0,142.0,73.0,84.0,70.0,null,57.0,196.0,71.0,73.0,null,81.0,193.0,124.0,196.0,61.0,79.0,42.0,142.0,95.0,62.0,193.0,83.0,193.0,188.0,63.0,71.0,85.0,79.0,74.0,53.0,76.0,54.0,60.0,null,196.0,58.0,142.0,142.0,196.0,78.0,124.0,128.0,34.0,142.0,77.0,27.0,46.0,142.0,86.0,69.0,193.0,61.0,99.0,49.0,76.0,65.0,128.0,66.0,76.0,52.0,78.0,156.0,86.0,81.0,193.0,66.0,193.0,77.0,55.0,193.0,63.0,80.0,null,47.0,79.0,38.0,80.0,193.0,57.0,41.0,64.0,75.0,68.0,54.0,142.0,77.0,80.0,59.0,75.0,58.0,38.0,196.0,131.0,74.0,52.0,66.0,null,74.0,55.0,79.0,193.0,55.0,55.0,64.0,81.0,64.0,193.0,55.0,62.0,142.0,82.0,74.0,68.0,64.0,88.0,73.0,188.0,83.0,49.0,55.0,77.0,79.0,15.0,84.0,63.0,65.0,56.0,61.0,124.0,78.0,193.0,124.0,42.0,93.0,87.0,193.0,193.0,84.0,67.0,96.0,75.0,193.0,124.0,67.0,89.0,68.0,124.0,78.0,83.0,90.0,43.0,193.0,66.0,86.0,94.0,52.0,60.0,124.0,62.0,99.0,76.0,55.0,193.0,59.0,57.0,59.0,79.0,null,88.0,76.0,74.0,63.0,43.0,51.0,null,193.0,60.0,65.0,39.0,40.0,81.0,79.0,166.0,70.0,128.0,124.0,61.0,94.0,70.0,67.0,64.0,69.0,84.0,76.0,193.0,72.0,100.0,66.0,124.0,188.0,22.0,193.0,124.0,82.0,70.0,54.0,78.0,40.0,142.0,193.0,151.0,64.0,67.0,147.0,69.0,null,182.0,69.0,73.0,67.0,null,72.0,64.0,62.0,67.0,142.0,88.0,51.0,65.0,53.0,71.0,91.0,62.0,28.0,193.0,84.0,53.0,64.0,124.0,null,67.0,42.0,33.0,69.0,null,193.0,193.0,57.0,null,68.0,82.0,47.0,52.0,99.0,70.0,67.0,193.0,81.0,68.0,49.0,124.0,124.0,193.0,80.0,76.0,67.0,68.0,81.0,80.0,124.0,63.0,67.0,42.0,75.0,77.0,84.0,68.0,40.0,60.0,92.0,77.0,73.0,50.0,124.0,84.0,77.0,74.0,70.0,50.0,82.0,193.0,65.0,53.0,131.0,67.0,91.0,72.0,124.0,null,100.0,193.0,77.0,193.0,66.0,48.0,54.0,93.0,62.0,71.0,196.0,64.0,84.0,80.0,72.0,54.0,80.0,193.0,193.0,64.0,59.0,74.0,10.0,193.0,142.0,62.0,81.0,81.0,193.0,64.0,100.0,49.0,44.0,81.0,54.0,68.0,193.0,88.0,92.0,62.0,90.0,59.0,92.0,74.0,56.0,54.0,90.0,193.0,46.0,49.0,53.0,32.0,78.0,78.0,67.0,82.0,193.0,74.0,75.0,99.0,70.0,79.0,67.0,131.0,70.0,75.0,80.0,43.0,193.0,30.0,71.0,49.0,36.0,193.0,81.0,62.0,193.0,76.0],\"y0\":\" \",\"yaxis\":\"y\",\"type\":\"box\"}],                        {\"template\":{\"data\":{\"histogram2dcontour\":[{\"type\":\"histogram2dcontour\",\"colorbar\":{\"outlinewidth\":0,\"ticks\":\"\"},\"colorscale\":[[0.0,\"#0d0887\"],[0.1111111111111111,\"#46039f\"],[0.2222222222222222,\"#7201a8\"],[0.3333333333333333,\"#9c179e\"],[0.4444444444444444,\"#bd3786\"],[0.5555555555555556,\"#d8576b\"],[0.6666666666666666,\"#ed7953\"],[0.7777777777777778,\"#fb9f3a\"],[0.8888888888888888,\"#fdca26\"],[1.0,\"#f0f921\"]]}],\"choropleth\":[{\"type\":\"choropleth\",\"colorbar\":{\"outlinewidth\":0,\"ticks\":\"\"}}],\"histogram2d\":[{\"type\":\"histogram2d\",\"colorbar\":{\"outlinewidth\":0,\"ticks\":\"\"},\"colorscale\":[[0.0,\"#0d0887\"],[0.1111111111111111,\"#46039f\"],[0.2222222222222222,\"#7201a8\"],[0.3333333333333333,\"#9c179e\"],[0.4444444444444444,\"#bd3786\"],[0.5555555555555556,\"#d8576b\"],[0.6666666666666666,\"#ed7953\"],[0.7777777777777778,\"#fb9f3a\"],[0.8888888888888888,\"#fdca26\"],[1.0,\"#f0f921\"]]}],\"heatmap\":[{\"type\":\"heatmap\",\"colorbar\":{\"outlinewidth\":0,\"ticks\":\"\"},\"colorscale\":[[0.0,\"#0d0887\"],[0.1111111111111111,\"#46039f\"],[0.2222222222222222,\"#7201a8\"],[0.3333333333333333,\"#9c179e\"],[0.4444444444444444,\"#bd3786\"],[0.5555555555555556,\"#d8576b\"],[0.6666666666666666,\"#ed7953\"],[0.7777777777777778,\"#fb9f3a\"],[0.8888888888888888,\"#fdca26\"],[1.0,\"#f0f921\"]]}],\"heatmapgl\":[{\"type\":\"heatmapgl\",\"colorbar\":{\"outlinewidth\":0,\"ticks\":\"\"},\"colorscale\":[[0.0,\"#0d0887\"],[0.1111111111111111,\"#46039f\"],[0.2222222222222222,\"#7201a8\"],[0.3333333333333333,\"#9c179e\"],[0.4444444444444444,\"#bd3786\"],[0.5555555555555556,\"#d8576b\"],[0.6666666666666666,\"#ed7953\"],[0.7777777777777778,\"#fb9f3a\"],[0.8888888888888888,\"#fdca26\"],[1.0,\"#f0f921\"]]}],\"contourcarpet\":[{\"type\":\"contourcarpet\",\"colorbar\":{\"outlinewidth\":0,\"ticks\":\"\"}}],\"contour\":[{\"type\":\"contour\",\"colorbar\":{\"outlinewidth\":0,\"ticks\":\"\"},\"colorscale\":[[0.0,\"#0d0887\"],[0.1111111111111111,\"#46039f\"],[0.2222222222222222,\"#7201a8\"],[0.3333333333333333,\"#9c179e\"],[0.4444444444444444,\"#bd3786\"],[0.5555555555555556,\"#d8576b\"],[0.6666666666666666,\"#ed7953\"],[0.7777777777777778,\"#fb9f3a\"],[0.8888888888888888,\"#fdca26\"],[1.0,\"#f0f921\"]]}],\"surface\":[{\"type\":\"surface\",\"colorbar\":{\"outlinewidth\":0,\"ticks\":\"\"},\"colorscale\":[[0.0,\"#0d0887\"],[0.1111111111111111,\"#46039f\"],[0.2222222222222222,\"#7201a8\"],[0.3333333333333333,\"#9c179e\"],[0.4444444444444444,\"#bd3786\"],[0.5555555555555556,\"#d8576b\"],[0.6666666666666666,\"#ed7953\"],[0.7777777777777778,\"#fb9f3a\"],[0.8888888888888888,\"#fdca26\"],[1.0,\"#f0f921\"]]}],\"mesh3d\":[{\"type\":\"mesh3d\",\"colorbar\":{\"outlinewidth\":0,\"ticks\":\"\"}}],\"scatter\":[{\"fillpattern\":{\"fillmode\":\"overlay\",\"size\":10,\"solidity\":0.2},\"type\":\"scatter\"}],\"parcoords\":[{\"type\":\"parcoords\",\"line\":{\"colorbar\":{\"outlinewidth\":0,\"ticks\":\"\"}}}],\"scatterpolargl\":[{\"type\":\"scatterpolargl\",\"marker\":{\"colorbar\":{\"outlinewidth\":0,\"ticks\":\"\"}}}],\"bar\":[{\"error_x\":{\"color\":\"#2a3f5f\"},\"error_y\":{\"color\":\"#2a3f5f\"},\"marker\":{\"line\":{\"color\":\"#E5ECF6\",\"width\":0.5},\"pattern\":{\"fillmode\":\"overlay\",\"size\":10,\"solidity\":0.2}},\"type\":\"bar\"}],\"scattergeo\":[{\"type\":\"scattergeo\",\"marker\":{\"colorbar\":{\"outlinewidth\":0,\"ticks\":\"\"}}}],\"scatterpolar\":[{\"type\":\"scatterpolar\",\"marker\":{\"colorbar\":{\"outlinewidth\":0,\"ticks\":\"\"}}}],\"histogram\":[{\"marker\":{\"pattern\":{\"fillmode\":\"overlay\",\"size\":10,\"solidity\":0.2}},\"type\":\"histogram\"}],\"scattergl\":[{\"type\":\"scattergl\",\"marker\":{\"colorbar\":{\"outlinewidth\":0,\"ticks\":\"\"}}}],\"scatter3d\":[{\"type\":\"scatter3d\",\"line\":{\"colorbar\":{\"outlinewidth\":0,\"ticks\":\"\"}},\"marker\":{\"colorbar\":{\"outlinewidth\":0,\"ticks\":\"\"}}}],\"scattermapbox\":[{\"type\":\"scattermapbox\",\"marker\":{\"colorbar\":{\"outlinewidth\":0,\"ticks\":\"\"}}}],\"scatterternary\":[{\"type\":\"scatterternary\",\"marker\":{\"colorbar\":{\"outlinewidth\":0,\"ticks\":\"\"}}}],\"scattercarpet\":[{\"type\":\"scattercarpet\",\"marker\":{\"colorbar\":{\"outlinewidth\":0,\"ticks\":\"\"}}}],\"carpet\":[{\"aaxis\":{\"endlinecolor\":\"#2a3f5f\",\"gridcolor\":\"white\",\"linecolor\":\"white\",\"minorgridcolor\":\"white\",\"startlinecolor\":\"#2a3f5f\"},\"baxis\":{\"endlinecolor\":\"#2a3f5f\",\"gridcolor\":\"white\",\"linecolor\":\"white\",\"minorgridcolor\":\"white\",\"startlinecolor\":\"#2a3f5f\"},\"type\":\"carpet\"}],\"table\":[{\"cells\":{\"fill\":{\"color\":\"#EBF0F8\"},\"line\":{\"color\":\"white\"}},\"header\":{\"fill\":{\"color\":\"#C8D4E3\"},\"line\":{\"color\":\"white\"}},\"type\":\"table\"}],\"barpolar\":[{\"marker\":{\"line\":{\"color\":\"#E5ECF6\",\"width\":0.5},\"pattern\":{\"fillmode\":\"overlay\",\"size\":10,\"solidity\":0.2}},\"type\":\"barpolar\"}],\"pie\":[{\"automargin\":true,\"type\":\"pie\"}]},\"layout\":{\"autotypenumbers\":\"strict\",\"colorway\":[\"#636efa\",\"#EF553B\",\"#00cc96\",\"#ab63fa\",\"#FFA15A\",\"#19d3f3\",\"#FF6692\",\"#B6E880\",\"#FF97FF\",\"#FECB52\"],\"font\":{\"color\":\"#2a3f5f\"},\"hovermode\":\"closest\",\"hoverlabel\":{\"align\":\"left\"},\"paper_bgcolor\":\"white\",\"plot_bgcolor\":\"#E5ECF6\",\"polar\":{\"bgcolor\":\"#E5ECF6\",\"angularaxis\":{\"gridcolor\":\"white\",\"linecolor\":\"white\",\"ticks\":\"\"},\"radialaxis\":{\"gridcolor\":\"white\",\"linecolor\":\"white\",\"ticks\":\"\"}},\"ternary\":{\"bgcolor\":\"#E5ECF6\",\"aaxis\":{\"gridcolor\":\"white\",\"linecolor\":\"white\",\"ticks\":\"\"},\"baxis\":{\"gridcolor\":\"white\",\"linecolor\":\"white\",\"ticks\":\"\"},\"caxis\":{\"gridcolor\":\"white\",\"linecolor\":\"white\",\"ticks\":\"\"}},\"coloraxis\":{\"colorbar\":{\"outlinewidth\":0,\"ticks\":\"\"}},\"colorscale\":{\"sequential\":[[0.0,\"#0d0887\"],[0.1111111111111111,\"#46039f\"],[0.2222222222222222,\"#7201a8\"],[0.3333333333333333,\"#9c179e\"],[0.4444444444444444,\"#bd3786\"],[0.5555555555555556,\"#d8576b\"],[0.6666666666666666,\"#ed7953\"],[0.7777777777777778,\"#fb9f3a\"],[0.8888888888888888,\"#fdca26\"],[1.0,\"#f0f921\"]],\"sequentialminus\":[[0.0,\"#0d0887\"],[0.1111111111111111,\"#46039f\"],[0.2222222222222222,\"#7201a8\"],[0.3333333333333333,\"#9c179e\"],[0.4444444444444444,\"#bd3786\"],[0.5555555555555556,\"#d8576b\"],[0.6666666666666666,\"#ed7953\"],[0.7777777777777778,\"#fb9f3a\"],[0.8888888888888888,\"#fdca26\"],[1.0,\"#f0f921\"]],\"diverging\":[[0,\"#8e0152\"],[0.1,\"#c51b7d\"],[0.2,\"#de77ae\"],[0.3,\"#f1b6da\"],[0.4,\"#fde0ef\"],[0.5,\"#f7f7f7\"],[0.6,\"#e6f5d0\"],[0.7,\"#b8e186\"],[0.8,\"#7fbc41\"],[0.9,\"#4d9221\"],[1,\"#276419\"]]},\"xaxis\":{\"gridcolor\":\"white\",\"linecolor\":\"white\",\"ticks\":\"\",\"title\":{\"standoff\":15},\"zerolinecolor\":\"white\",\"automargin\":true,\"zerolinewidth\":2},\"yaxis\":{\"gridcolor\":\"white\",\"linecolor\":\"white\",\"ticks\":\"\",\"title\":{\"standoff\":15},\"zerolinecolor\":\"white\",\"automargin\":true,\"zerolinewidth\":2},\"scene\":{\"xaxis\":{\"backgroundcolor\":\"#E5ECF6\",\"gridcolor\":\"white\",\"linecolor\":\"white\",\"showbackground\":true,\"ticks\":\"\",\"zerolinecolor\":\"white\",\"gridwidth\":2},\"yaxis\":{\"backgroundcolor\":\"#E5ECF6\",\"gridcolor\":\"white\",\"linecolor\":\"white\",\"showbackground\":true,\"ticks\":\"\",\"zerolinecolor\":\"white\",\"gridwidth\":2},\"zaxis\":{\"backgroundcolor\":\"#E5ECF6\",\"gridcolor\":\"white\",\"linecolor\":\"white\",\"showbackground\":true,\"ticks\":\"\",\"zerolinecolor\":\"white\",\"gridwidth\":2}},\"shapedefaults\":{\"line\":{\"color\":\"#2a3f5f\"}},\"annotationdefaults\":{\"arrowcolor\":\"#2a3f5f\",\"arrowhead\":0,\"arrowwidth\":1},\"geo\":{\"bgcolor\":\"white\",\"landcolor\":\"#E5ECF6\",\"subunitcolor\":\"white\",\"showland\":true,\"showlakes\":true,\"lakecolor\":\"white\"},\"title\":{\"x\":0.05},\"mapbox\":{\"style\":\"light\"}}},\"xaxis\":{\"anchor\":\"y\",\"domain\":[0.0,1.0],\"title\":{\"text\":\"subject\"},\"categoryorder\":\"array\",\"categoryarray\":[\"math score\",\"reading score\",\"writing score\"]},\"yaxis\":{\"anchor\":\"x\",\"domain\":[0.0,1.0],\"title\":{\"text\":\"score\"}},\"legend\":{\"title\":{\"text\":\"subject\"},\"tracegroupgap\":0},\"margin\":{\"t\":60},\"boxmode\":\"overlay\"},                        {\"responsive\": true}                    ).then(function(){\n",
              "                            \n",
              "var gd = document.getElementById('fb8172aa-831d-4462-af0a-d83bebdf8cc2');\n",
              "var x = new MutationObserver(function (mutations, observer) {{\n",
              "        var display = window.getComputedStyle(gd).display;\n",
              "        if (!display || display === 'none') {{\n",
              "            console.log([gd, 'removed!']);\n",
              "            Plotly.purge(gd);\n",
              "            observer.disconnect();\n",
              "        }}\n",
              "}});\n",
              "\n",
              "// Listen for the removal of the full notebook cells\n",
              "var notebookContainer = gd.closest('#notebook-container');\n",
              "if (notebookContainer) {{\n",
              "    x.observe(notebookContainer, {childList: true});\n",
              "}}\n",
              "\n",
              "// Listen for the clearing of the current output cell\n",
              "var outputEl = gd.closest('.output');\n",
              "if (outputEl) {{\n",
              "    x.observe(outputEl, {childList: true});\n",
              "}}\n",
              "\n",
              "                        })                };                            </script>        </div>\n",
              "</body>\n",
              "</html>"
            ]
          },
          "metadata": {}
        },
        {
          "output_type": "display_data",
          "data": {
            "text/plain": [
              "<Figure size 432x288 with 1 Axes>"
            ],
            "image/png": "[encoded data removed]"
          },
          "metadata": {
            "needs_background": "light"
          }
        }
      ]
    },
    {
      "cell_type": "markdown",
      "source": [
        "**Justificación:**"
      ],
      "metadata": {
        "id": "nxRj-Hi2QUHQ",
        "cell_id": "00021-f548a297-97a4-4d9b-9501-ae5571aa3068",
        "deepnote_cell_type": "markdown",
        "deepnote_cell_height": 52.390625
      }
    },
    {
      "cell_type": "markdown",
      "source": [
        "```\n",
        "  Escriba aqui su respuesta\n",
        "```\n",
        "\n",
        "10.- Del análisis previo se puede ver que los datos presentan distintos problemas, el primero es que hay 257 valores de nombre repetidos, lo cual muestra que hay un problema de duplicación de datos en el dataset, por otro lado tambien se encuentran algunos valores faltantes en las notas siendo 40, 40 y 47 para math score, reading score y writing score respectivamente. A su vez, también existen muchos valores fuera del rango de 0-100 en logro, por lo que estos deben ser eliminados.\n",
        "\n",
        "Del boxplot se puede ver que los 3 score presentan una distribución similar, presentando todos una skewness positiva, lo que indica que la mayoría de los datos se encuentran concentrados en los primeros cuartiles, que representan las notas bajas. Como resultado de esto se puede ver que la gran mayoría de outliers son las notas altas."
      ],
      "metadata": {
        "id": "CR2ZEOcbQW9X",
        "cell_id": "00022-a0fee108-5903-4074-8b11-104b98a94a67",
        "deepnote_cell_type": "markdown",
        "deepnote_cell_height": 70.796875
      }
    },
    {
      "cell_type": "markdown",
      "source": [
        "**Respuesta Esperada:**"
      ],
      "metadata": {
        "id": "45jxMTJHNPC3",
        "cell_id": "00017-b4a9f1a1-c50d-47f6-95af-4ce1416feed7",
        "deepnote_cell_type": "markdown",
        "deepnote_cell_height": 52.390625
      }
    },
    {
      "cell_type": "code",
      "metadata": {
        "colab": {
          "base_uri": "https://localhost:8080/",
          "height": 1000
        },
        "outputId": "589784c1-3dc8-4c6a-c63d-2d0aa4211878",
        "deepnote_to_be_reexecuted": false,
        "source_hash": "fc6a5c17",
        "execution_start": 1632493422320,
        "execution_millis": 1940,
        "cell_id": "00020-9bc24dfa-b47a-4545-8336-6470008a1527",
        "deepnote_cell_type": "code",
        "deepnote_cell_height": 990.3125,
        "id": "x0k8i23YSqGU"
      },
      "source": [
        "exploratory_data_analysis(df_grades)"
      ],
      "execution_count": null,
      "outputs": [
        {
          "name": "stdout",
          "text": "1.- El DataFrame tiene 1400 filas y 9 columnas\n\n2.- El DataFrame esta compuesto por las siguientes columnas: ['names', 'gender', 'race/ethnicity', 'parental level of education', 'lunch', 'test preparation course', 'math score', 'reading score', 'writing score']\n\n3.- Ejemplos de filas del DataFrame:\n\nPrimeras 5 filas:\n",
          "output_type": "stream"
        },
        {
          "data": {
            "application/vnd.deepnote.dataframe.v2+json": {
              "row_count": 5,
              "column_count": 9,
              "columns": [
                {
                  "name": "names",
                  "dtype": "object",
                  "stats": {
                    "unique_count": 5,
                    "nan_count": 0,
                    "categories": [
                      {
                        "name": "Rita Courtney",
                        "count": 1
                      },
                      {
                        "name": "Madeline Fuller",
                        "count": 1
                      },
                      {
                        "name": "3 others",
                        "count": 3
                      }
                    ]
                  }
                },
                {
                  "name": "gender",
                  "dtype": "object",
                  "stats": {
                    "unique_count": 2,
                    "nan_count": 0,
                    "categories": [
                      {
                        "name": "female",
                        "count": 3
                      },
                      {
                        "name": "male",
                        "count": 2
                      }
                    ]
                  }
                },
                {
                  "name": "race/ethnicity",
                  "dtype": "object",
                  "stats": {
                    "unique_count": 4,
                    "nan_count": 0,
                    "categories": [
                      {
                        "name": "group A",
                        "count": 2
                      },
                      {
                        "name": "group B",
                        "count": 1
                      },
                      {
                        "name": "2 others",
                        "count": 2
                      }
                    ]
                  }
                },
                {
                  "name": "parental level of education",
                  "dtype": "object",
                  "stats": {
                    "unique_count": 3,
                    "nan_count": 0,
                    "categories": [
                      {
                        "name": "some high school",
                        "count": 2
                      },
                      {
                        "name": "associate's degree",
                        "count": 2
                      },
                      {
                        "name": "bachelor's degree",
                        "count": 1
                      }
                    ]
                  }
                },
                {
                  "name": "lunch",
                  "dtype": "object",
                  "stats": {
                    "unique_count": 1,
                    "nan_count": 0,
                    "categories": [
                      {
                        "name": "standard",
                        "count": 5
                      }
                    ]
                  }
                },
                {
                  "name": "test preparation course",
                  "dtype": "object",
                  "stats": {
                    "unique_count": 2,
                    "nan_count": 0,
                    "categories": [
                      {
                        "name": "none",
                        "count": 4
                      },
                      {
                        "name": "completed",
                        "count": 1
                      }
                    ]
                  }
                },
                {
                  "name": "math score",
                  "dtype": "float64",
                  "stats": {
                    "unique_count": 5,
                    "nan_count": 0,
                    "min": "37.0",
                    "max": "156.0",
                    "histogram": [
                      {
                        "bin_start": 37,
                        "bin_end": 48.9,
                        "count": 1
                      },
                      {
                        "bin_start": 48.9,
                        "bin_end": 60.8,
                        "count": 0
                      },
                      {
                        "bin_start": 60.8,
                        "bin_end": 72.7,
                        "count": 0
                      },
                      {
                        "bin_start": 72.7,
                        "bin_end": 84.6,
                        "count": 1
                      },
                      {
                        "bin_start": 84.6,
                        "bin_end": 96.5,
                        "count": 0
                      },
                      {
                        "bin_start": 96.5,
                        "bin_end": 108.4,
                        "count": 0
                      },
                      {
                        "bin_start": 108.4,
                        "bin_end": 120.3,
                        "count": 0
                      },
                      {
                        "bin_start": 120.3,
                        "bin_end": 132.2,
                        "count": 2
                      },
                      {
                        "bin_start": 132.2,
                        "bin_end": 144.10000000000002,
                        "count": 0
                      },
                      {
                        "bin_start": 144.10000000000002,
                        "bin_end": 156,
                        "count": 1
                      }
                    ]
                  }
                },
                {
                  "name": "reading score",
                  "dtype": "float64",
                  "stats": {
                    "unique_count": 5,
                    "nan_count": 0,
                    "min": "46.0",
                    "max": "196.0",
                    "histogram": [
                      {
                        "bin_start": 46,
                        "bin_end": 61,
                        "count": 1
                      },
                      {
                        "bin_start": 61,
                        "bin_end": 76,
                        "count": 0
                      },
                      {
                        "bin_start": 76,
                        "bin_end": 91,
                        "count": 1
                      },
                      {
                        "bin_start": 91,
                        "bin_end": 106,
                        "count": 0
                      },
                      {
                        "bin_start": 106,
                        "bin_end": 121,
                        "count": 0
                      },
                      {
                        "bin_start": 121,
                        "bin_end": 136,
                        "count": 0
                      },
                      {
                        "bin_start": 136,
                        "bin_end": 151,
                        "count": 1
                      },
                      {
                        "bin_start": 151,
                        "bin_end": 166,
                        "count": 0
                      },
                      {
                        "bin_start": 166,
                        "bin_end": 181,
                        "count": 1
                      },
                      {
                        "bin_start": 181,
                        "bin_end": 196,
                        "count": 1
                      }
                    ]
                  }
                },
                {
                  "name": "writing score",
                  "dtype": "float64",
                  "stats": {
                    "unique_count": 5,
                    "nan_count": 0,
                    "min": "46.0",
                    "max": "193.0",
                    "histogram": [
                      {
                        "bin_start": 46,
                        "bin_end": 60.7,
                        "count": 1
                      },
                      {
                        "bin_start": 60.7,
                        "bin_end": 75.4,
                        "count": 0
                      },
                      {
                        "bin_start": 75.4,
                        "bin_end": 90.1,
                        "count": 1
                      },
                      {
                        "bin_start": 90.1,
                        "bin_end": 104.8,
                        "count": 0
                      },
                      {
                        "bin_start": 104.8,
                        "bin_end": 119.5,
                        "count": 0
                      },
                      {
                        "bin_start": 119.5,
                        "bin_end": 134.2,
                        "count": 0
                      },
                      {
                        "bin_start": 134.2,
                        "bin_end": 148.89999999999998,
                        "count": 1
                      },
                      {
                        "bin_start": 148.89999999999998,
                        "bin_end": 163.6,
                        "count": 0
                      },
                      {
                        "bin_start": 163.6,
                        "bin_end": 178.29999999999998,
                        "count": 1
                      },
                      {
                        "bin_start": 178.29999999999998,
                        "bin_end": 193,
                        "count": 1
                      }
                    ]
                  }
                },
                {
                  "name": "_deepnote_index_column",
                  "dtype": "int64"
                }
              ],
              "rows_top": [
                {
                  "names": "Rita Courtney",
                  "gender": "female",
                  "race/ethnicity": "group B",
                  "parental level of education": "some high school",
                  "lunch": "standard",
                  "test preparation course": "none",
                  "math score": 37,
                  "reading score": 46,
                  "writing score": 46,
                  "_deepnote_index_column": 0
                },
                {
                  "names": "Madeline Fuller",
                  "gender": "female",
                  "race/ethnicity": "group C",
                  "parental level of education": "some high school",
                  "lunch": "standard",
                  "test preparation course": "none",
                  "math score": 124,
                  "reading score": 142,
                  "writing score": 142,
                  "_deepnote_index_column": 1
                },
                {
                  "names": "Daniel Rester",
                  "gender": "male",
                  "race/ethnicity": "group E",
                  "parental level of education": "associate's degree",
                  "lunch": "standard",
                  "test preparation course": "none",
                  "math score": 156,
                  "reading score": 196,
                  "writing score": 193,
                  "_deepnote_index_column": 2
                },
                {
                  "names": "Charles Linstrom",
                  "gender": "male",
                  "race/ethnicity": "group A",
                  "parental level of education": "bachelor's degree",
                  "lunch": "standard",
                  "test preparation course": "completed",
                  "math score": 80,
                  "reading score": 78,
                  "writing score": 81,
                  "_deepnote_index_column": 3
                },
                {
                  "names": "Geraldine Hale",
                  "gender": "female",
                  "race/ethnicity": "group A",
                  "parental level of education": "associate's degree",
                  "lunch": "standard",
                  "test preparation course": "none",
                  "math score": 131,
                  "reading score": 166,
                  "writing score": 166,
                  "_deepnote_index_column": 4
                }
              ],
              "rows_bottom": null
            },
            "text/plain": "              names  gender race/ethnicity parental level of education  \\\n0     Rita Courtney  female        group B            some high school   \n1   Madeline Fuller  female        group C            some high school   \n2     Daniel Rester    male        group E          associate's degree   \n3  Charles Linstrom    male        group A           bachelor's degree   \n4    Geraldine Hale  female        group A          associate's degree   \n\n      lunch test preparation course  math score  reading score  writing score  \n0  standard                    none        37.0           46.0           46.0  \n1  standard                    none       124.0          142.0          142.0  \n2  standard                    none       156.0          196.0          193.0  \n3  standard               completed        80.0           78.0           81.0  \n4  standard                    none       131.0          166.0          166.0  ",
            "text/html": "<div>\n<style scoped>\n    .dataframe tbody tr th:only-of-type {\n        vertical-align: middle;\n    }\n\n    .dataframe tbody tr th {\n        vertical-align: top;\n    }\n\n    .dataframe thead th {\n        text-align: right;\n    }\n</style>\n<table border=\"1\" class=\"dataframe\">\n  <thead>\n    <tr style=\"text-align: right;\">\n      <th></th>\n      <th>names</th>\n      <th>gender</th>\n      <th>race/ethnicity</th>\n      <th>parental level of education</th>\n      <th>lunch</th>\n      <th>test preparation course</th>\n      <th>math score</th>\n      <th>reading score</th>\n      <th>writing score</th>\n    </tr>\n  </thead>\n  <tbody>\n    <tr>\n      <th>0</th>\n      <td>Rita Courtney</td>\n      <td>female</td>\n      <td>group B</td>\n      <td>some high school</td>\n      <td>standard</td>\n      <td>none</td>\n      <td>37.0</td>\n      <td>46.0</td>\n      <td>46.0</td>\n    </tr>\n    <tr>\n      <th>1</th>\n      <td>Madeline Fuller</td>\n      <td>female</td>\n      <td>group C</td>\n      <td>some high school</td>\n      <td>standard</td>\n      <td>none</td>\n      <td>124.0</td>\n      <td>142.0</td>\n      <td>142.0</td>\n    </tr>\n    <tr>\n      <th>2</th>\n      <td>Daniel Rester</td>\n      <td>male</td>\n      <td>group E</td>\n      <td>associate's degree</td>\n      <td>standard</td>\n      <td>none</td>\n      <td>156.0</td>\n      <td>196.0</td>\n      <td>193.0</td>\n    </tr>\n    <tr>\n      <th>3</th>\n      <td>Charles Linstrom</td>\n      <td>male</td>\n      <td>group A</td>\n      <td>bachelor's degree</td>\n      <td>standard</td>\n      <td>completed</td>\n      <td>80.0</td>\n      <td>78.0</td>\n      <td>81.0</td>\n    </tr>\n    <tr>\n      <th>4</th>\n      <td>Geraldine Hale</td>\n      <td>female</td>\n      <td>group A</td>\n      <td>associate's degree</td>\n      <td>standard</td>\n      <td>none</td>\n      <td>131.0</td>\n      <td>166.0</td>\n      <td>166.0</td>\n    </tr>\n  </tbody>\n</table>\n</div>"
          },
          "metadata": {},
          "output_type": "display_data"
        },
        {
          "name": "stdout",
          "text": "\nÚltimas 5 filas:\n",
          "output_type": "stream"
        },
        {
          "data": {
            "application/vnd.deepnote.dataframe.v2+json": {
              "row_count": 5,
              "column_count": 9,
              "columns": [
                {
                  "name": "names",
                  "dtype": "object",
                  "stats": {
                    "unique_count": 5,
                    "nan_count": 0,
                    "categories": [
                      {
                        "name": "Alexander Dillon",
                        "count": 1
                      },
                      {
                        "name": "Marina Zeigler",
                        "count": 1
                      },
                      {
                        "name": "3 others",
                        "count": 3
                      }
                    ]
                  }
                },
                {
                  "name": "gender",
                  "dtype": "object",
                  "stats": {
                    "unique_count": 2,
                    "nan_count": 0,
                    "categories": [
                      {
                        "name": "female",
                        "count": 3
                      },
                      {
                        "name": "male",
                        "count": 2
                      }
                    ]
                  }
                },
                {
                  "name": "race/ethnicity",
                  "dtype": "object",
                  "stats": {
                    "unique_count": 4,
                    "nan_count": 0,
                    "categories": [
                      {
                        "name": "group D",
                        "count": 2
                      },
                      {
                        "name": "group C",
                        "count": 1
                      },
                      {
                        "name": "2 others",
                        "count": 2
                      }
                    ]
                  }
                },
                {
                  "name": "parental level of education",
                  "dtype": "object",
                  "stats": {
                    "unique_count": 5,
                    "nan_count": 0,
                    "categories": [
                      {
                        "name": "associate's degree",
                        "count": 1
                      },
                      {
                        "name": "bachelor's degree",
                        "count": 1
                      },
                      {
                        "name": "3 others",
                        "count": 3
                      }
                    ]
                  }
                },
                {
                  "name": "lunch",
                  "dtype": "object",
                  "stats": {
                    "unique_count": 2,
                    "nan_count": 0,
                    "categories": [
                      {
                        "name": "standard",
                        "count": 3
                      },
                      {
                        "name": "free/reduced",
                        "count": 2
                      }
                    ]
                  }
                },
                {
                  "name": "test preparation course",
                  "dtype": "object",
                  "stats": {
                    "unique_count": 2,
                    "nan_count": 0,
                    "categories": [
                      {
                        "name": "completed",
                        "count": 3
                      },
                      {
                        "name": "none",
                        "count": 2
                      }
                    ]
                  }
                },
                {
                  "name": "math score",
                  "dtype": "float64",
                  "stats": {
                    "unique_count": 4,
                    "nan_count": 0,
                    "min": "54.0",
                    "max": "193.0",
                    "histogram": [
                      {
                        "bin_start": 54,
                        "bin_end": 67.9,
                        "count": 2
                      },
                      {
                        "bin_start": 67.9,
                        "bin_end": 81.8,
                        "count": 1
                      },
                      {
                        "bin_start": 81.8,
                        "bin_end": 95.7,
                        "count": 0
                      },
                      {
                        "bin_start": 95.7,
                        "bin_end": 109.6,
                        "count": 0
                      },
                      {
                        "bin_start": 109.6,
                        "bin_end": 123.5,
                        "count": 0
                      },
                      {
                        "bin_start": 123.5,
                        "bin_end": 137.4,
                        "count": 0
                      },
                      {
                        "bin_start": 137.4,
                        "bin_end": 151.3,
                        "count": 0
                      },
                      {
                        "bin_start": 151.3,
                        "bin_end": 165.2,
                        "count": 0
                      },
                      {
                        "bin_start": 165.2,
                        "bin_end": 179.10000000000002,
                        "count": 0
                      },
                      {
                        "bin_start": 179.10000000000002,
                        "bin_end": 193,
                        "count": 2
                      }
                    ]
                  }
                },
                {
                  "name": "reading score",
                  "dtype": "float64",
                  "stats": {
                    "unique_count": 5,
                    "nan_count": 0,
                    "min": "61.0",
                    "max": "196.0",
                    "histogram": [
                      {
                        "bin_start": 61,
                        "bin_end": 74.5,
                        "count": 2
                      },
                      {
                        "bin_start": 74.5,
                        "bin_end": 88,
                        "count": 1
                      },
                      {
                        "bin_start": 88,
                        "bin_end": 101.5,
                        "count": 0
                      },
                      {
                        "bin_start": 101.5,
                        "bin_end": 115,
                        "count": 0
                      },
                      {
                        "bin_start": 115,
                        "bin_end": 128.5,
                        "count": 0
                      },
                      {
                        "bin_start": 128.5,
                        "bin_end": 142,
                        "count": 0
                      },
                      {
                        "bin_start": 142,
                        "bin_end": 155.5,
                        "count": 1
                      },
                      {
                        "bin_start": 155.5,
                        "bin_end": 169,
                        "count": 0
                      },
                      {
                        "bin_start": 169,
                        "bin_end": 182.5,
                        "count": 0
                      },
                      {
                        "bin_start": 182.5,
                        "bin_end": 196,
                        "count": 1
                      }
                    ]
                  }
                },
                {
                  "name": "writing score",
                  "dtype": "float64",
                  "stats": {
                    "unique_count": 4,
                    "nan_count": 0,
                    "min": "62.0",
                    "max": "193.0",
                    "histogram": [
                      {
                        "bin_start": 62,
                        "bin_end": 75.1,
                        "count": 1
                      },
                      {
                        "bin_start": 75.1,
                        "bin_end": 88.2,
                        "count": 2
                      },
                      {
                        "bin_start": 88.2,
                        "bin_end": 101.3,
                        "count": 0
                      },
                      {
                        "bin_start": 101.3,
                        "bin_end": 114.4,
                        "count": 0
                      },
                      {
                        "bin_start": 114.4,
                        "bin_end": 127.5,
                        "count": 0
                      },
                      {
                        "bin_start": 127.5,
                        "bin_end": 140.6,
                        "count": 0
                      },
                      {
                        "bin_start": 140.6,
                        "bin_end": 153.7,
                        "count": 0
                      },
                      {
                        "bin_start": 153.7,
                        "bin_end": 166.8,
                        "count": 0
                      },
                      {
                        "bin_start": 166.8,
                        "bin_end": 179.89999999999998,
                        "count": 0
                      },
                      {
                        "bin_start": 179.89999999999998,
                        "bin_end": 193,
                        "count": 2
                      }
                    ]
                  }
                },
                {
                  "name": "_deepnote_index_column",
                  "dtype": "int64"
                }
              ],
              "rows_top": [
                {
                  "names": "Alexander Dillon",
                  "gender": "male",
                  "race/ethnicity": "group D",
                  "parental level of education": "associate's degree",
                  "lunch": "standard",
                  "test preparation course": "none",
                  "math score": 193,
                  "reading score": 142,
                  "writing score": 193,
                  "_deepnote_index_column": 1395
                },
                {
                  "names": "Marina Zeigler",
                  "gender": "female",
                  "race/ethnicity": "group C",
                  "parental level of education": "bachelor's degree",
                  "lunch": "free/reduced",
                  "test preparation course": "completed",
                  "math score": 66,
                  "reading score": 74,
                  "writing score": 81,
                  "_deepnote_index_column": 1396
                },
                {
                  "names": "Laurie Carter",
                  "gender": "female",
                  "race/ethnicity": "group B",
                  "parental level of education": "some high school",
                  "lunch": "standard",
                  "test preparation course": "completed",
                  "math score": 54,
                  "reading score": 61,
                  "writing score": 62,
                  "_deepnote_index_column": 1397
                },
                {
                  "names": "Joseph Mccoy",
                  "gender": "male",
                  "race/ethnicity": "group D",
                  "parental level of education": "some college",
                  "lunch": "free/reduced",
                  "test preparation course": "none",
                  "math score": 193,
                  "reading score": 196,
                  "writing score": 193,
                  "_deepnote_index_column": 1398
                },
                {
                  "names": "Amanda Perez",
                  "gender": "female",
                  "race/ethnicity": "group A",
                  "parental level of education": "high school",
                  "lunch": "standard",
                  "test preparation course": "completed",
                  "math score": 68,
                  "reading score": 80,
                  "writing score": 76,
                  "_deepnote_index_column": 1399
                }
              ],
              "rows_bottom": null
            },
            "text/plain": "                 names  gender race/ethnicity parental level of education  \\\n1395  Alexander Dillon    male        group D          associate's degree   \n1396    Marina Zeigler  female        group C           bachelor's degree   \n1397     Laurie Carter  female        group B            some high school   \n1398      Joseph Mccoy    male        group D                some college   \n1399      Amanda Perez  female        group A                 high school   \n\n             lunch test preparation course  math score  reading score  \\\n1395      standard                    none       193.0          142.0   \n1396  free/reduced               completed        66.0           74.0   \n1397      standard               completed        54.0           61.0   \n1398  free/reduced                    none       193.0          196.0   \n1399      standard               completed        68.0           80.0   \n\n      writing score  \n1395          193.0  \n1396           81.0  \n1397           62.0  \n1398          193.0  \n1399           76.0  ",
            "text/html": "<div>\n<style scoped>\n    .dataframe tbody tr th:only-of-type {\n        vertical-align: middle;\n    }\n\n    .dataframe tbody tr th {\n        vertical-align: top;\n    }\n\n    .dataframe thead th {\n        text-align: right;\n    }\n</style>\n<table border=\"1\" class=\"dataframe\">\n  <thead>\n    <tr style=\"text-align: right;\">\n      <th></th>\n      <th>names</th>\n      <th>gender</th>\n      <th>race/ethnicity</th>\n      <th>parental level of education</th>\n      <th>lunch</th>\n      <th>test preparation course</th>\n      <th>math score</th>\n      <th>reading score</th>\n      <th>writing score</th>\n    </tr>\n  </thead>\n  <tbody>\n    <tr>\n      <th>1395</th>\n      <td>Alexander Dillon</td>\n      <td>male</td>\n      <td>group D</td>\n      <td>associate's degree</td>\n      <td>standard</td>\n      <td>none</td>\n      <td>193.0</td>\n      <td>142.0</td>\n      <td>193.0</td>\n    </tr>\n    <tr>\n      <th>1396</th>\n      <td>Marina Zeigler</td>\n      <td>female</td>\n      <td>group C</td>\n      <td>bachelor's degree</td>\n      <td>free/reduced</td>\n      <td>completed</td>\n      <td>66.0</td>\n      <td>74.0</td>\n      <td>81.0</td>\n    </tr>\n    <tr>\n      <th>1397</th>\n      <td>Laurie Carter</td>\n      <td>female</td>\n      <td>group B</td>\n      <td>some high school</td>\n      <td>standard</td>\n      <td>completed</td>\n      <td>54.0</td>\n      <td>61.0</td>\n      <td>62.0</td>\n    </tr>\n    <tr>\n      <th>1398</th>\n      <td>Joseph Mccoy</td>\n      <td>male</td>\n      <td>group D</td>\n      <td>some college</td>\n      <td>free/reduced</td>\n      <td>none</td>\n      <td>193.0</td>\n      <td>196.0</td>\n      <td>193.0</td>\n    </tr>\n    <tr>\n      <th>1399</th>\n      <td>Amanda Perez</td>\n      <td>female</td>\n      <td>group A</td>\n      <td>high school</td>\n      <td>standard</td>\n      <td>completed</td>\n      <td>68.0</td>\n      <td>80.0</td>\n      <td>76.0</td>\n    </tr>\n  </tbody>\n</table>\n</div>"
          },
          "metadata": {},
          "output_type": "display_data"
        },
        {
          "name": "stdout",
          "text": "\nMuestreo aleatorio de 5 filas:\n",
          "output_type": "stream"
        },
        {
          "data": {
            "application/vnd.deepnote.dataframe.v2+json": {
              "row_count": 5,
              "column_count": 9,
              "columns": [
                {
                  "name": "names",
                  "dtype": "object",
                  "stats": {
                    "unique_count": 5,
                    "nan_count": 0,
                    "categories": [
                      {
                        "name": "Alberto Roberts",
                        "count": 1
                      },
                      {
                        "name": "Ronald Wilson",
                        "count": 1
                      },
                      {
                        "name": "3 others",
                        "count": 3
                      }
                    ]
                  }
                },
                {
                  "name": "gender",
                  "dtype": "object",
                  "stats": {
                    "unique_count": 2,
                    "nan_count": 0,
                    "categories": [
                      {
                        "name": "male",
                        "count": 3
                      },
                      {
                        "name": "female",
                        "count": 2
                      }
                    ]
                  }
                },
                {
                  "name": "race/ethnicity",
                  "dtype": "object",
                  "stats": {
                    "unique_count": 3,
                    "nan_count": 0,
                    "categories": [
                      {
                        "name": "group D",
                        "count": 2
                      },
                      {
                        "name": "group E",
                        "count": 2
                      },
                      {
                        "name": "group C",
                        "count": 1
                      }
                    ]
                  }
                },
                {
                  "name": "parental level of education",
                  "dtype": "object",
                  "stats": {
                    "unique_count": 5,
                    "nan_count": 0,
                    "categories": [
                      {
                        "name": "associate's degree",
                        "count": 1
                      },
                      {
                        "name": "some high school",
                        "count": 1
                      },
                      {
                        "name": "3 others",
                        "count": 3
                      }
                    ]
                  }
                },
                {
                  "name": "lunch",
                  "dtype": "object",
                  "stats": {
                    "unique_count": 1,
                    "nan_count": 0,
                    "categories": [
                      {
                        "name": "standard",
                        "count": 5
                      }
                    ]
                  }
                },
                {
                  "name": "test preparation course",
                  "dtype": "object",
                  "stats": {
                    "unique_count": 2,
                    "nan_count": 0,
                    "categories": [
                      {
                        "name": "none",
                        "count": 3
                      },
                      {
                        "name": "completed",
                        "count": 2
                      }
                    ]
                  }
                },
                {
                  "name": "math score",
                  "dtype": "float64",
                  "stats": {
                    "unique_count": 5,
                    "nan_count": 0,
                    "min": "52.0",
                    "max": "193.0",
                    "histogram": [
                      {
                        "bin_start": 52,
                        "bin_end": 66.1,
                        "count": 2
                      },
                      {
                        "bin_start": 66.1,
                        "bin_end": 80.2,
                        "count": 1
                      },
                      {
                        "bin_start": 80.2,
                        "bin_end": 94.3,
                        "count": 0
                      },
                      {
                        "bin_start": 94.3,
                        "bin_end": 108.4,
                        "count": 0
                      },
                      {
                        "bin_start": 108.4,
                        "bin_end": 122.5,
                        "count": 0
                      },
                      {
                        "bin_start": 122.5,
                        "bin_end": 136.6,
                        "count": 0
                      },
                      {
                        "bin_start": 136.6,
                        "bin_end": 150.7,
                        "count": 0
                      },
                      {
                        "bin_start": 150.7,
                        "bin_end": 164.8,
                        "count": 0
                      },
                      {
                        "bin_start": 164.8,
                        "bin_end": 178.89999999999998,
                        "count": 0
                      },
                      {
                        "bin_start": 178.89999999999998,
                        "bin_end": 193,
                        "count": 2
                      }
                    ]
                  }
                },
                {
                  "name": "reading score",
                  "dtype": "float64",
                  "stats": {
                    "unique_count": 5,
                    "nan_count": 0,
                    "min": "55.0",
                    "max": "142.0",
                    "histogram": [
                      {
                        "bin_start": 55,
                        "bin_end": 63.7,
                        "count": 2
                      },
                      {
                        "bin_start": 63.7,
                        "bin_end": 72.4,
                        "count": 0
                      },
                      {
                        "bin_start": 72.4,
                        "bin_end": 81.1,
                        "count": 1
                      },
                      {
                        "bin_start": 81.1,
                        "bin_end": 89.8,
                        "count": 0
                      },
                      {
                        "bin_start": 89.8,
                        "bin_end": 98.5,
                        "count": 0
                      },
                      {
                        "bin_start": 98.5,
                        "bin_end": 107.19999999999999,
                        "count": 0
                      },
                      {
                        "bin_start": 107.19999999999999,
                        "bin_end": 115.89999999999999,
                        "count": 0
                      },
                      {
                        "bin_start": 115.89999999999999,
                        "bin_end": 124.6,
                        "count": 1
                      },
                      {
                        "bin_start": 124.6,
                        "bin_end": 133.3,
                        "count": 0
                      },
                      {
                        "bin_start": 133.3,
                        "bin_end": 142,
                        "count": 1
                      }
                    ]
                  }
                },
                {
                  "name": "writing score",
                  "dtype": "float64",
                  "stats": {
                    "unique_count": 5,
                    "nan_count": 0,
                    "min": "49.0",
                    "max": "196.0",
                    "histogram": [
                      {
                        "bin_start": 49,
                        "bin_end": 63.7,
                        "count": 2
                      },
                      {
                        "bin_start": 63.7,
                        "bin_end": 78.4,
                        "count": 1
                      },
                      {
                        "bin_start": 78.4,
                        "bin_end": 93.1,
                        "count": 0
                      },
                      {
                        "bin_start": 93.1,
                        "bin_end": 107.8,
                        "count": 0
                      },
                      {
                        "bin_start": 107.8,
                        "bin_end": 122.5,
                        "count": 0
                      },
                      {
                        "bin_start": 122.5,
                        "bin_end": 137.2,
                        "count": 1
                      },
                      {
                        "bin_start": 137.2,
                        "bin_end": 151.89999999999998,
                        "count": 0
                      },
                      {
                        "bin_start": 151.89999999999998,
                        "bin_end": 166.6,
                        "count": 0
                      },
                      {
                        "bin_start": 166.6,
                        "bin_end": 181.29999999999998,
                        "count": 0
                      },
                      {
                        "bin_start": 181.29999999999998,
                        "bin_end": 196,
                        "count": 1
                      }
                    ]
                  }
                },
                {
                  "name": "_deepnote_index_column",
                  "dtype": "int64"
                }
              ],
              "rows_top": [
                {
                  "names": "Alberto Roberts",
                  "gender": "male",
                  "race/ethnicity": "group D",
                  "parental level of education": "associate's degree",
                  "lunch": "standard",
                  "test preparation course": "none",
                  "math score": 52,
                  "reading score": 55,
                  "writing score": 49,
                  "_deepnote_index_column": 1282
                },
                {
                  "names": "Ronald Wilson",
                  "gender": "male",
                  "race/ethnicity": "group C",
                  "parental level of education": "some high school",
                  "lunch": "standard",
                  "test preparation course": "none",
                  "math score": 64,
                  "reading score": 58,
                  "writing score": 51,
                  "_deepnote_index_column": 604
                },
                {
                  "names": "Christine Reed",
                  "gender": "female",
                  "race/ethnicity": "group E",
                  "parental level of education": "bachelor's degree",
                  "lunch": "standard",
                  "test preparation course": "completed",
                  "math score": 188,
                  "reading score": 142,
                  "writing score": 131,
                  "_deepnote_index_column": 559
                },
                {
                  "names": "Edna Johnson",
                  "gender": "female",
                  "race/ethnicity": "group E",
                  "parental level of education": "some college",
                  "lunch": "standard",
                  "test preparation course": "completed",
                  "math score": 193,
                  "reading score": 124,
                  "writing score": 196,
                  "_deepnote_index_column": 380
                },
                {
                  "names": "Richard Young",
                  "gender": "male",
                  "race/ethnicity": "group D",
                  "parental level of education": "high school",
                  "lunch": "standard",
                  "test preparation course": "none",
                  "math score": 69,
                  "reading score": 75,
                  "writing score": 71,
                  "_deepnote_index_column": 1392
                }
              ],
              "rows_bottom": null
            },
            "text/plain": "                names  gender race/ethnicity parental level of education  \\\n1282  Alberto Roberts    male        group D          associate's degree   \n604     Ronald Wilson    male        group C            some high school   \n559    Christine Reed  female        group E           bachelor's degree   \n380      Edna Johnson  female        group E                some college   \n1392    Richard Young    male        group D                 high school   \n\n         lunch test preparation course  math score  reading score  \\\n1282  standard                    none        52.0           55.0   \n604   standard                    none        64.0           58.0   \n559   standard               completed       188.0          142.0   \n380   standard               completed       193.0          124.0   \n1392  standard                    none        69.0           75.0   \n\n      writing score  \n1282           49.0  \n604            51.0  \n559           131.0  \n380           196.0  \n1392           71.0  ",
            "text/html": "<div>\n<style scoped>\n    .dataframe tbody tr th:only-of-type {\n        vertical-align: middle;\n    }\n\n    .dataframe tbody tr th {\n        vertical-align: top;\n    }\n\n    .dataframe thead th {\n        text-align: right;\n    }\n</style>\n<table border=\"1\" class=\"dataframe\">\n  <thead>\n    <tr style=\"text-align: right;\">\n      <th></th>\n      <th>names</th>\n      <th>gender</th>\n      <th>race/ethnicity</th>\n      <th>parental level of education</th>\n      <th>lunch</th>\n      <th>test preparation course</th>\n      <th>math score</th>\n      <th>reading score</th>\n      <th>writing score</th>\n    </tr>\n  </thead>\n  <tbody>\n    <tr>\n      <th>1282</th>\n      <td>Alberto Roberts</td>\n      <td>male</td>\n      <td>group D</td>\n      <td>associate's degree</td>\n      <td>standard</td>\n      <td>none</td>\n      <td>52.0</td>\n      <td>55.0</td>\n      <td>49.0</td>\n    </tr>\n    <tr>\n      <th>604</th>\n      <td>Ronald Wilson</td>\n      <td>male</td>\n      <td>group C</td>\n      <td>some high school</td>\n      <td>standard</td>\n      <td>none</td>\n      <td>64.0</td>\n      <td>58.0</td>\n      <td>51.0</td>\n    </tr>\n    <tr>\n      <th>559</th>\n      <td>Christine Reed</td>\n      <td>female</td>\n      <td>group E</td>\n      <td>bachelor's degree</td>\n      <td>standard</td>\n      <td>completed</td>\n      <td>188.0</td>\n      <td>142.0</td>\n      <td>131.0</td>\n    </tr>\n    <tr>\n      <th>380</th>\n      <td>Edna Johnson</td>\n      <td>female</td>\n      <td>group E</td>\n      <td>some college</td>\n      <td>standard</td>\n      <td>completed</td>\n      <td>193.0</td>\n      <td>124.0</td>\n      <td>196.0</td>\n    </tr>\n    <tr>\n      <th>1392</th>\n      <td>Richard Young</td>\n      <td>male</td>\n      <td>group D</td>\n      <td>high school</td>\n      <td>standard</td>\n      <td>none</td>\n      <td>69.0</td>\n      <td>75.0</td>\n      <td>71.0</td>\n    </tr>\n  </tbody>\n</table>\n</div>"
          },
          "metadata": {},
          "output_type": "display_data"
        },
        {
          "name": "stdout",
          "text": "\n4.- Descripción numérica del Dataframe:\n",
          "output_type": "stream"
        },
        {
          "data": {
            "application/vnd.deepnote.dataframe.v2+json": {
              "row_count": 8,
              "column_count": 3,
              "columns": [
                {
                  "name": "math score",
                  "dtype": "float64",
                  "stats": {
                    "unique_count": 8,
                    "nan_count": 0,
                    "min": "0.0",
                    "max": "1360.0",
                    "histogram": [
                      {
                        "bin_start": 0,
                        "bin_end": 136,
                        "count": 6
                      },
                      {
                        "bin_start": 136,
                        "bin_end": 272,
                        "count": 1
                      },
                      {
                        "bin_start": 272,
                        "bin_end": 408,
                        "count": 0
                      },
                      {
                        "bin_start": 408,
                        "bin_end": 544,
                        "count": 0
                      },
                      {
                        "bin_start": 544,
                        "bin_end": 680,
                        "count": 0
                      },
                      {
                        "bin_start": 680,
                        "bin_end": 816,
                        "count": 0
                      },
                      {
                        "bin_start": 816,
                        "bin_end": 952,
                        "count": 0
                      },
                      {
                        "bin_start": 952,
                        "bin_end": 1088,
                        "count": 0
                      },
                      {
                        "bin_start": 1088,
                        "bin_end": 1224,
                        "count": 0
                      },
                      {
                        "bin_start": 1224,
                        "bin_end": 1360,
                        "count": 1
                      }
                    ]
                  }
                },
                {
                  "name": "reading score",
                  "dtype": "float64",
                  "stats": {
                    "unique_count": 8,
                    "nan_count": 0,
                    "min": "17.0",
                    "max": "1360.0",
                    "histogram": [
                      {
                        "bin_start": 17,
                        "bin_end": 151.3,
                        "count": 6
                      },
                      {
                        "bin_start": 151.3,
                        "bin_end": 285.6,
                        "count": 1
                      },
                      {
                        "bin_start": 285.6,
                        "bin_end": 419.90000000000003,
                        "count": 0
                      },
                      {
                        "bin_start": 419.90000000000003,
                        "bin_end": 554.2,
                        "count": 0
                      },
                      {
                        "bin_start": 554.2,
                        "bin_end": 688.5,
                        "count": 0
                      },
                      {
                        "bin_start": 688.5,
                        "bin_end": 822.8000000000001,
                        "count": 0
                      },
                      {
                        "bin_start": 822.8000000000001,
                        "bin_end": 957.1000000000001,
                        "count": 0
                      },
                      {
                        "bin_start": 957.1000000000001,
                        "bin_end": 1091.4,
                        "count": 0
                      },
                      {
                        "bin_start": 1091.4,
                        "bin_end": 1225.7,
                        "count": 0
                      },
                      {
                        "bin_start": 1225.7,
                        "bin_end": 1360,
                        "count": 1
                      }
                    ]
                  }
                },
                {
                  "name": "writing score",
                  "dtype": "float64",
                  "stats": {
                    "unique_count": 8,
                    "nan_count": 0,
                    "min": "10.0",
                    "max": "1353.0",
                    "histogram": [
                      {
                        "bin_start": 10,
                        "bin_end": 144.3,
                        "count": 6
                      },
                      {
                        "bin_start": 144.3,
                        "bin_end": 278.6,
                        "count": 1
                      },
                      {
                        "bin_start": 278.6,
                        "bin_end": 412.90000000000003,
                        "count": 0
                      },
                      {
                        "bin_start": 412.90000000000003,
                        "bin_end": 547.2,
                        "count": 0
                      },
                      {
                        "bin_start": 547.2,
                        "bin_end": 681.5,
                        "count": 0
                      },
                      {
                        "bin_start": 681.5,
                        "bin_end": 815.8000000000001,
                        "count": 0
                      },
                      {
                        "bin_start": 815.8000000000001,
                        "bin_end": 950.1000000000001,
                        "count": 0
                      },
                      {
                        "bin_start": 950.1000000000001,
                        "bin_end": 1084.4,
                        "count": 0
                      },
                      {
                        "bin_start": 1084.4,
                        "bin_end": 1218.7,
                        "count": 0
                      },
                      {
                        "bin_start": 1218.7,
                        "bin_end": 1353,
                        "count": 1
                      }
                    ]
                  }
                },
                {
                  "name": "_deepnote_index_column",
                  "dtype": "object"
                }
              ],
              "rows_top": [
                {
                  "math score": 1360,
                  "reading score": 1360,
                  "writing score": 1353,
                  "_deepnote_index_column": "count"
                },
                {
                  "math score": 89.53897058823529,
                  "reading score": 93.08602941176471,
                  "writing score": 91.8529194382853,
                  "_deepnote_index_column": "mean"
                },
                {
                  "math score": 47.15242247460426,
                  "reading score": 46.38577506570869,
                  "writing score": 47.04356953025664,
                  "_deepnote_index_column": "std"
                },
                {
                  "math score": 0,
                  "reading score": 17,
                  "writing score": 10,
                  "_deepnote_index_column": "min"
                },
                {
                  "math score": 59,
                  "reading score": 63,
                  "writing score": 62,
                  "_deepnote_index_column": "25%"
                },
                {
                  "math score": 72,
                  "reading score": 76,
                  "writing score": 75,
                  "_deepnote_index_column": "50%"
                },
                {
                  "math score": 97.25,
                  "reading score": 100,
                  "writing score": 100,
                  "_deepnote_index_column": "75%"
                },
                {
                  "math score": 196,
                  "reading score": 196,
                  "writing score": 196,
                  "_deepnote_index_column": "max"
                }
              ],
              "rows_bottom": null
            },
            "text/plain": "        math score  reading score  writing score\ncount  1360.000000    1360.000000    1353.000000\nmean     89.538971      93.086029      91.852919\nstd      47.152422      46.385775      47.043570\nmin       0.000000      17.000000      10.000000\n25%      59.000000      63.000000      62.000000\n50%      72.000000      76.000000      75.000000\n75%      97.250000     100.000000     100.000000\nmax     196.000000     196.000000     196.000000",
            "text/html": "<div>\n<style scoped>\n    .dataframe tbody tr th:only-of-type {\n        vertical-align: middle;\n    }\n\n    .dataframe tbody tr th {\n        vertical-align: top;\n    }\n\n    .dataframe thead th {\n        text-align: right;\n    }\n</style>\n<table border=\"1\" class=\"dataframe\">\n  <thead>\n    <tr style=\"text-align: right;\">\n      <th></th>\n      <th>math score</th>\n      <th>reading score</th>\n      <th>writing score</th>\n    </tr>\n  </thead>\n  <tbody>\n    <tr>\n      <th>count</th>\n      <td>1360.000000</td>\n      <td>1360.000000</td>\n      <td>1353.000000</td>\n    </tr>\n    <tr>\n      <th>mean</th>\n      <td>89.538971</td>\n      <td>93.086029</td>\n      <td>91.852919</td>\n    </tr>\n    <tr>\n      <th>std</th>\n      <td>47.152422</td>\n      <td>46.385775</td>\n      <td>47.043570</td>\n    </tr>\n    <tr>\n      <th>min</th>\n      <td>0.000000</td>\n      <td>17.000000</td>\n      <td>10.000000</td>\n    </tr>\n    <tr>\n      <th>25%</th>\n      <td>59.000000</td>\n      <td>63.000000</td>\n      <td>62.000000</td>\n    </tr>\n    <tr>\n      <th>50%</th>\n      <td>72.000000</td>\n      <td>76.000000</td>\n      <td>75.000000</td>\n    </tr>\n    <tr>\n      <th>75%</th>\n      <td>97.250000</td>\n      <td>100.000000</td>\n      <td>100.000000</td>\n    </tr>\n    <tr>\n      <th>max</th>\n      <td>196.000000</td>\n      <td>196.000000</td>\n      <td>196.000000</td>\n    </tr>\n  </tbody>\n</table>\n</div>"
          },
          "metadata": {},
          "output_type": "display_data"
        },
        {
          "name": "stdout",
          "text": "\n5.- Cantidad de valores nulos por columna:\n",
          "output_type": "stream"
        },
        {
          "data": {
            "text/plain": "names                           0\ngender                          0\nrace/ethnicity                  0\nparental level of education     0\nlunch                           0\ntest preparation course         0\nmath score                     40\nreading score                  40\nwriting score                  47\ndtype: int64"
          },
          "metadata": {},
          "output_type": "display_data"
        },
        {
          "name": "stdout",
          "text": "\n6.- Cantidad de valores únicos por columna:\n",
          "output_type": "stream"
        },
        {
          "data": {
            "text/plain": "names                          1153\ngender                            2\nrace/ethnicity                    5\nparental level of education       6\nlunch                             2\ntest preparation course           2\nmath score                       96\nreading score                    88\nwriting score                    92\ndtype: int64"
          },
          "metadata": {},
          "output_type": "display_data"
        },
        {
          "name": "stdout",
          "text": "\n7.- Presenta un total de 247 filas con nombres duplicados.\n\n8.- Las filas con nombres duplicados son:\n",
          "output_type": "stream"
        },
        {
          "data": {
            "application/vnd.deepnote.dataframe.v2+json": {
              "row_count": 247,
              "column_count": 9,
              "columns": [
                {
                  "name": "names",
                  "dtype": "object",
                  "stats": {
                    "unique_count": 246,
                    "nan_count": 0,
                    "categories": [
                      {
                        "name": "Robert Frazier",
                        "count": 2
                      },
                      {
                        "name": "Rita Courtney",
                        "count": 1
                      },
                      {
                        "name": "244 others",
                        "count": 244
                      }
                    ]
                  }
                },
                {
                  "name": "gender",
                  "dtype": "object",
                  "stats": {
                    "unique_count": 2,
                    "nan_count": 0,
                    "categories": [
                      {
                        "name": "female",
                        "count": 129
                      },
                      {
                        "name": "male",
                        "count": 118
                      }
                    ]
                  }
                },
                {
                  "name": "race/ethnicity",
                  "dtype": "object",
                  "stats": {
                    "unique_count": 5,
                    "nan_count": 0,
                    "categories": [
                      {
                        "name": "group C",
                        "count": 85
                      },
                      {
                        "name": "group D",
                        "count": 65
                      },
                      {
                        "name": "3 others",
                        "count": 97
                      }
                    ]
                  }
                },
                {
                  "name": "parental level of education",
                  "dtype": "object",
                  "stats": {
                    "unique_count": 6,
                    "nan_count": 0,
                    "categories": [
                      {
                        "name": "some college",
                        "count": 66
                      },
                      {
                        "name": "associate's degree",
                        "count": 50
                      },
                      {
                        "name": "4 others",
                        "count": 131
                      }
                    ]
                  }
                },
                {
                  "name": "lunch",
                  "dtype": "object",
                  "stats": {
                    "unique_count": 2,
                    "nan_count": 0,
                    "categories": [
                      {
                        "name": "standard",
                        "count": 155
                      },
                      {
                        "name": "free/reduced",
                        "count": 92
                      }
                    ]
                  }
                },
                {
                  "name": "test preparation course",
                  "dtype": "object",
                  "stats": {
                    "unique_count": 2,
                    "nan_count": 0,
                    "categories": [
                      {
                        "name": "none",
                        "count": 167
                      },
                      {
                        "name": "completed",
                        "count": 80
                      }
                    ]
                  }
                },
                {
                  "name": "math score",
                  "dtype": "float64",
                  "stats": {
                    "unique_count": 72,
                    "nan_count": 14,
                    "min": "29.0",
                    "max": "196.0",
                    "histogram": [
                      {
                        "bin_start": 29,
                        "bin_end": 45.7,
                        "count": 20
                      },
                      {
                        "bin_start": 45.7,
                        "bin_end": 62.4,
                        "count": 54
                      },
                      {
                        "bin_start": 62.4,
                        "bin_end": 79.1,
                        "count": 39
                      },
                      {
                        "bin_start": 79.1,
                        "bin_end": 95.8,
                        "count": 25
                      },
                      {
                        "bin_start": 95.8,
                        "bin_end": 112.5,
                        "count": 2
                      },
                      {
                        "bin_start": 112.5,
                        "bin_end": 129.2,
                        "count": 16
                      },
                      {
                        "bin_start": 129.2,
                        "bin_end": 145.89999999999998,
                        "count": 20
                      },
                      {
                        "bin_start": 145.89999999999998,
                        "bin_end": 162.6,
                        "count": 4
                      },
                      {
                        "bin_start": 162.6,
                        "bin_end": 179.29999999999998,
                        "count": 3
                      },
                      {
                        "bin_start": 179.29999999999998,
                        "bin_end": 196,
                        "count": 50
                      }
                    ]
                  }
                },
                {
                  "name": "reading score",
                  "dtype": "float64",
                  "stats": {
                    "unique_count": 64,
                    "nan_count": 14,
                    "min": "26.0",
                    "max": "196.0",
                    "histogram": [
                      {
                        "bin_start": 26,
                        "bin_end": 43,
                        "count": 9
                      },
                      {
                        "bin_start": 43,
                        "bin_end": 60,
                        "count": 30
                      },
                      {
                        "bin_start": 60,
                        "bin_end": 77,
                        "count": 51
                      },
                      {
                        "bin_start": 77,
                        "bin_end": 94,
                        "count": 39
                      },
                      {
                        "bin_start": 94,
                        "bin_end": 111,
                        "count": 4
                      },
                      {
                        "bin_start": 111,
                        "bin_end": 128,
                        "count": 8
                      },
                      {
                        "bin_start": 128,
                        "bin_end": 145,
                        "count": 22
                      },
                      {
                        "bin_start": 145,
                        "bin_end": 162,
                        "count": 9
                      },
                      {
                        "bin_start": 162,
                        "bin_end": 179,
                        "count": 5
                      },
                      {
                        "bin_start": 179,
                        "bin_end": 196,
                        "count": 56
                      }
                    ]
                  }
                },
                {
                  "name": "writing score",
                  "dtype": "float64",
                  "stats": {
                    "unique_count": 70,
                    "nan_count": 18,
                    "min": "22.0",
                    "max": "196.0",
                    "histogram": [
                      {
                        "bin_start": 22,
                        "bin_end": 39.4,
                        "count": 8
                      },
                      {
                        "bin_start": 39.4,
                        "bin_end": 56.8,
                        "count": 26
                      },
                      {
                        "bin_start": 56.8,
                        "bin_end": 74.19999999999999,
                        "count": 56
                      },
                      {
                        "bin_start": 74.19999999999999,
                        "bin_end": 91.6,
                        "count": 34
                      },
                      {
                        "bin_start": 91.6,
                        "bin_end": 109,
                        "count": 7
                      },
                      {
                        "bin_start": 109,
                        "bin_end": 126.39999999999999,
                        "count": 18
                      },
                      {
                        "bin_start": 126.39999999999999,
                        "bin_end": 143.79999999999998,
                        "count": 20
                      },
                      {
                        "bin_start": 143.79999999999998,
                        "bin_end": 161.2,
                        "count": 4
                      },
                      {
                        "bin_start": 161.2,
                        "bin_end": 178.6,
                        "count": 2
                      },
                      {
                        "bin_start": 178.6,
                        "bin_end": 196,
                        "count": 54
                      }
                    ]
                  }
                },
                {
                  "name": "_deepnote_index_column",
                  "dtype": "int64"
                }
              ],
              "rows_top": [
                {
                  "names": "Rita Courtney",
                  "gender": "female",
                  "race/ethnicity": "group B",
                  "parental level of education": "some high school",
                  "lunch": "standard",
                  "test preparation course": "none",
                  "math score": 193,
                  "reading score": 193,
                  "writing score": 193,
                  "_deepnote_index_column": 12
                },
                {
                  "names": "Elizabeth Quintero",
                  "gender": "female",
                  "race/ethnicity": "group B",
                  "parental level of education": "some college",
                  "lunch": "standard",
                  "test preparation course": "none",
                  "math score": 82,
                  "reading score": 85,
                  "writing score": 87,
                  "_deepnote_index_column": 81
                },
                {
                  "names": "Michelle Gonzales",
                  "gender": "female",
                  "race/ethnicity": "group B",
                  "parental level of education": "some high school",
                  "lunch": "standard",
                  "test preparation course": "completed",
                  "math score": 60,
                  "reading score": 70,
                  "writing score": 74,
                  "_deepnote_index_column": 160
                },
                {
                  "names": "Carla Mendoza",
                  "gender": "female",
                  "race/ethnicity": "group D",
                  "parental level of education": "associate's degree",
                  "lunch": "free/reduced",
                  "test preparation course": "none",
                  "math score": 43,
                  "reading score": 60,
                  "writing score": 58,
                  "_deepnote_index_column": 170
                },
                {
                  "names": "Darlene Parker",
                  "gender": "female",
                  "race/ethnicity": "group C",
                  "parental level of education": "associate's degree",
                  "lunch": "standard",
                  "test preparation course": "none",
                  "math score": 54,
                  "reading score": 61,
                  "writing score": 58,
                  "_deepnote_index_column": 176
                },
                {
                  "names": "Larry Dunn",
                  "gender": "male",
                  "race/ethnicity": "group C",
                  "parental level of education": "some high school",
                  "lunch": "standard",
                  "test preparation course": "none",
                  "math score": 196,
                  "reading score": 193,
                  "writing score": 124,
                  "_deepnote_index_column": 207
                },
                {
                  "names": "Donita Hill",
                  "gender": "female",
                  "race/ethnicity": "group A",
                  "parental level of education": "bachelor's degree",
                  "lunch": "standard",
                  "test preparation course": "none",
                  "math score": 196,
                  "reading score": 196,
                  "writing score": 64,
                  "_deepnote_index_column": 215
                },
                {
                  "names": "Rodrick Rasch",
                  "gender": "male",
                  "race/ethnicity": "group E",
                  "parental level of education": "some high school",
                  "lunch": "standard",
                  "test preparation course": "none",
                  "math score": 193,
                  "reading score": 124,
                  "writing score": 142,
                  "_deepnote_index_column": 229
                },
                {
                  "names": "Eric Acosta",
                  "gender": "male",
                  "race/ethnicity": "group C",
                  "parental level of education": "master's degree",
                  "lunch": "free/reduced",
                  "test preparation course": "none",
                  "math score": 79,
                  "reading score": 81,
                  "writing score": 71,
                  "_deepnote_index_column": 282
                },
                {
                  "names": "Ana Rodriguez",
                  "gender": "female",
                  "race/ethnicity": "group C",
                  "parental level of education": "high school",
                  "lunch": "standard",
                  "test preparation course": "none",
                  "math score": 193,
                  "reading score": "nan",
                  "writing score": "nan",
                  "_deepnote_index_column": 287
                },
                {
                  "names": "Joel Reed",
                  "gender": "male",
                  "race/ethnicity": "group D",
                  "parental level of education": "some high school",
                  "lunch": "standard",
                  "test preparation course": "completed",
                  "math score": 122,
                  "reading score": 193,
                  "writing score": 142,
                  "_deepnote_index_column": 295
                },
                {
                  "names": "Leon Shipley",
                  "gender": "male",
                  "race/ethnicity": "group B",
                  "parental level of education": "some college",
                  "lunch": "standard",
                  "test preparation course": "completed",
                  "math score": 124,
                  "reading score": 147,
                  "writing score": 193,
                  "_deepnote_index_column": 315
                },
                {
                  "names": "Frankie Malan",
                  "gender": "male",
                  "race/ethnicity": "group D",
                  "parental level of education": "associate's degree",
                  "lunch": "free/reduced",
                  "test preparation course": "completed",
                  "math score": 79,
                  "reading score": 82,
                  "writing score": 80,
                  "_deepnote_index_column": 317
                },
                {
                  "names": "Karen Ogburn",
                  "gender": "female",
                  "race/ethnicity": "group A",
                  "parental level of education": "high school",
                  "lunch": "free/reduced",
                  "test preparation course": "completed",
                  "math score": 124,
                  "reading score": 193,
                  "writing score": 142,
                  "_deepnote_index_column": 320
                },
                {
                  "names": "Nancy Bassett",
                  "gender": "female",
                  "race/ethnicity": "group C",
                  "parental level of education": "high school",
                  "lunch": "standard",
                  "test preparation course": "none",
                  "math score": 54,
                  "reading score": 59,
                  "writing score": 62,
                  "_deepnote_index_column": 321
                },
                {
                  "names": "Ana Loredo",
                  "gender": "female",
                  "race/ethnicity": "group E",
                  "parental level of education": "master's degree",
                  "lunch": "standard",
                  "test preparation course": "completed",
                  "math score": 131,
                  "reading score": 188,
                  "writing score": 196,
                  "_deepnote_index_column": 325
                },
                {
                  "names": "Stanley Schroder",
                  "gender": "male",
                  "race/ethnicity": "group C",
                  "parental level of education": "associate's degree",
                  "lunch": "standard",
                  "test preparation course": "none",
                  "math score": 76,
                  "reading score": 70,
                  "writing score": 68,
                  "_deepnote_index_column": 333
                },
                {
                  "names": "Nancy Ramos",
                  "gender": "female",
                  "race/ethnicity": "group A",
                  "parental level of education": "some college",
                  "lunch": "standard",
                  "test preparation course": "completed",
                  "math score": 78,
                  "reading score": 87,
                  "writing score": 91,
                  "_deepnote_index_column": 334
                },
                {
                  "names": "Jeff Carlson",
                  "gender": "male",
                  "race/ethnicity": "group C",
                  "parental level of education": "some college",
                  "lunch": "standard",
                  "test preparation course": "none",
                  "math score": 69,
                  "reading score": 64,
                  "writing score": 68,
                  "_deepnote_index_column": 335
                },
                {
                  "names": "Robert Frazier",
                  "gender": "male",
                  "race/ethnicity": "group B",
                  "parental level of education": "associate's degree",
                  "lunch": "free/reduced",
                  "test preparation course": "none",
                  "math score": 57,
                  "reading score": 56,
                  "writing score": 57,
                  "_deepnote_index_column": 342
                },
                {
                  "names": "Catherine Grenier",
                  "gender": "female",
                  "race/ethnicity": "group A",
                  "parental level of education": "master's degree",
                  "lunch": "standard",
                  "test preparation course": "none",
                  "math score": 50,
                  "reading score": 53,
                  "writing score": 58,
                  "_deepnote_index_column": 352
                },
                {
                  "names": "Andrea Mcdavid",
                  "gender": "female",
                  "race/ethnicity": "group C",
                  "parental level of education": "associate's degree",
                  "lunch": "standard",
                  "test preparation course": "none",
                  "math score": 40,
                  "reading score": 59,
                  "writing score": 51,
                  "_deepnote_index_column": 356
                },
                {
                  "names": "Richard Garr",
                  "gender": "male",
                  "race/ethnicity": "group C",
                  "parental level of education": "some college",
                  "lunch": "standard",
                  "test preparation course": "none",
                  "math score": 53,
                  "reading score": 39,
                  "writing score": 37,
                  "_deepnote_index_column": 362
                },
                {
                  "names": "Howard Jimenez",
                  "gender": "male",
                  "race/ethnicity": "group E",
                  "parental level of education": "some high school",
                  "lunch": "standard",
                  "test preparation course": "completed",
                  "math score": 142,
                  "reading score": 142,
                  "writing score": 193,
                  "_deepnote_index_column": 375
                },
                {
                  "names": "Richard Harden",
                  "gender": "male",
                  "race/ethnicity": "group D",
                  "parental level of education": "some college",
                  "lunch": "free/reduced",
                  "test preparation course": "none",
                  "math score": 49,
                  "reading score": 196,
                  "writing score": 193,
                  "_deepnote_index_column": 386
                },
                {
                  "names": "George Mooney",
                  "gender": "male",
                  "race/ethnicity": "group C",
                  "parental level of education": "some college",
                  "lunch": "standard",
                  "test preparation course": "completed",
                  "math score": 79,
                  "reading score": 79,
                  "writing score": 78,
                  "_deepnote_index_column": 399
                },
                {
                  "names": "Audrey Mcdonald",
                  "gender": "female",
                  "race/ethnicity": "group D",
                  "parental level of education": "some college",
                  "lunch": "standard",
                  "test preparation course": "none",
                  "math score": 124,
                  "reading score": 193,
                  "writing score": 193,
                  "_deepnote_index_column": 403
                },
                {
                  "names": "Charles Smith",
                  "gender": "male",
                  "race/ethnicity": "group D",
                  "parental level of education": "some college",
                  "lunch": "standard",
                  "test preparation course": "none",
                  "math score": 124,
                  "reading score": 49,
                  "writing score": 193,
                  "_deepnote_index_column": 406
                },
                {
                  "names": "Carolyn Smartt",
                  "gender": "female",
                  "race/ethnicity": "group B",
                  "parental level of education": "associate's degree",
                  "lunch": "standard",
                  "test preparation course": "completed",
                  "math score": 52,
                  "reading score": 66,
                  "writing score": 73,
                  "_deepnote_index_column": 423
                },
                {
                  "names": "Julia Nicole",
                  "gender": "female",
                  "race/ethnicity": "group B",
                  "parental level of education": "some high school",
                  "lunch": "free/reduced",
                  "test preparation course": "completed",
                  "math score": 52,
                  "reading score": 67,
                  "writing score": 72,
                  "_deepnote_index_column": 424
                },
                {
                  "names": "Charles Kong",
                  "gender": "male",
                  "race/ethnicity": "group C",
                  "parental level of education": "associate's degree",
                  "lunch": "standard",
                  "test preparation course": "completed",
                  "math score": 82,
                  "reading score": 75,
                  "writing score": 77,
                  "_deepnote_index_column": 428
                },
                {
                  "names": "Aaron Oakden",
                  "gender": "male",
                  "race/ethnicity": "group D",
                  "parental level of education": "high school",
                  "lunch": "free/reduced",
                  "test preparation course": "none",
                  "math score": "nan",
                  "reading score": 193,
                  "writing score": 124,
                  "_deepnote_index_column": 441
                },
                {
                  "names": "Autumn Miller",
                  "gender": "female",
                  "race/ethnicity": "group D",
                  "parental level of education": "high school",
                  "lunch": "standard",
                  "test preparation course": "none",
                  "math score": 196,
                  "reading score": "nan",
                  "writing score": 193,
                  "_deepnote_index_column": 443
                },
                {
                  "names": "Tanya Freeman",
                  "gender": "female",
                  "race/ethnicity": "group C",
                  "parental level of education": "associate's degree",
                  "lunch": "free/reduced",
                  "test preparation course": "none",
                  "math score": 57,
                  "reading score": 78,
                  "writing score": 67,
                  "_deepnote_index_column": 473
                },
                {
                  "names": "Willie Neff",
                  "gender": "female",
                  "race/ethnicity": "group E",
                  "parental level of education": "associate's degree",
                  "lunch": "free/reduced",
                  "test preparation course": "none",
                  "math score": "nan",
                  "reading score": 193,
                  "writing score": 142,
                  "_deepnote_index_column": 476
                },
                {
                  "names": "Emma Gray",
                  "gender": "female",
                  "race/ethnicity": "group E",
                  "parental level of education": "bachelor's degree",
                  "lunch": "standard",
                  "test preparation course": "completed",
                  "math score": 188,
                  "reading score": 196,
                  "writing score": 196,
                  "_deepnote_index_column": 483
                },
                {
                  "names": "Kathryn Dale",
                  "gender": "female",
                  "race/ethnicity": "group B",
                  "parental level of education": "some college",
                  "lunch": "standard",
                  "test preparation course": "none",
                  "math score": "nan",
                  "reading score": 142,
                  "writing score": 142,
                  "_deepnote_index_column": 484
                },
                {
                  "names": "Milton Chaput",
                  "gender": "male",
                  "race/ethnicity": "group D",
                  "parental level of education": "high school",
                  "lunch": "standard",
                  "test preparation course": "none",
                  "math score": "nan",
                  "reading score": "nan",
                  "writing score": "nan",
                  "_deepnote_index_column": 497
                },
                {
                  "names": "Tammy Patterson",
                  "gender": "female",
                  "race/ethnicity": "group B",
                  "parental level of education": "high school",
                  "lunch": "standard",
                  "test preparation course": "none",
                  "math score": 58,
                  "reading score": 62,
                  "writing score": 59,
                  "_deepnote_index_column": 498
                },
                {
                  "names": "Audrey Darby",
                  "gender": "female",
                  "race/ethnicity": "group D",
                  "parental level of education": "some high school",
                  "lunch": "standard",
                  "test preparation course": "completed",
                  "math score": "nan",
                  "reading score": 142,
                  "writing score": 142,
                  "_deepnote_index_column": 500
                },
                {
                  "names": "Aubrey Thompson",
                  "gender": "male",
                  "race/ethnicity": "group A",
                  "parental level of education": "some college",
                  "lunch": "standard",
                  "test preparation course": "none",
                  "math score": 69,
                  "reading score": 67,
                  "writing score": 69,
                  "_deepnote_index_column": 504
                },
                {
                  "names": "Robert Miranda",
                  "gender": "male",
                  "race/ethnicity": "group C",
                  "parental level of education": "high school",
                  "lunch": "free/reduced",
                  "test preparation course": "none",
                  "math score": 124,
                  "reading score": 156,
                  "writing score": 196,
                  "_deepnote_index_column": 511
                },
                {
                  "names": "Ned Burke",
                  "gender": "male",
                  "race/ethnicity": "group E",
                  "parental level of education": "some college",
                  "lunch": "standard",
                  "test preparation course": "none",
                  "math score": 84,
                  "reading score": 77,
                  "writing score": 71,
                  "_deepnote_index_column": 515
                },
                {
                  "names": "Jonathan Clingan",
                  "gender": "male",
                  "race/ethnicity": "group D",
                  "parental level of education": "some college",
                  "lunch": "standard",
                  "test preparation course": "completed",
                  "math score": 124,
                  "reading score": 193,
                  "writing score": 124,
                  "_deepnote_index_column": 522
                },
                {
                  "names": "David Carnagey",
                  "gender": "male",
                  "race/ethnicity": "group D",
                  "parental level of education": "associate's degree",
                  "lunch": "standard",
                  "test preparation course": "none",
                  "math score": 193,
                  "reading score": 142,
                  "writing score": 124,
                  "_deepnote_index_column": 529
                },
                {
                  "names": "Andrew Duran",
                  "gender": "male",
                  "race/ethnicity": "group D",
                  "parental level of education": "some college",
                  "lunch": "standard",
                  "test preparation course": "none",
                  "math score": 156,
                  "reading score": 196,
                  "writing score": 193,
                  "_deepnote_index_column": 545
                },
                {
                  "names": "Oliver Seldon",
                  "gender": "male",
                  "race/ethnicity": "group B",
                  "parental level of education": "high school",
                  "lunch": "standard",
                  "test preparation course": "completed",
                  "math score": 76,
                  "reading score": 62,
                  "writing score": 60,
                  "_deepnote_index_column": 547
                },
                {
                  "names": "James Lydon",
                  "gender": "male",
                  "race/ethnicity": "group A",
                  "parental level of education": "high school",
                  "lunch": "standard",
                  "test preparation course": "none",
                  "math score": 193,
                  "reading score": "nan",
                  "writing score": "nan",
                  "_deepnote_index_column": 550
                },
                {
                  "names": "Johnathan Bishop",
                  "gender": "male",
                  "race/ethnicity": "group D",
                  "parental level of education": "bachelor's degree",
                  "lunch": "free/reduced",
                  "test preparation course": "completed",
                  "math score": 39,
                  "reading score": 42,
                  "writing score": 38,
                  "_deepnote_index_column": 558
                },
                {
                  "names": "Betty Buntin",
                  "gender": "female",
                  "race/ethnicity": "group A",
                  "parental level of education": "bachelor's degree",
                  "lunch": "standard",
                  "test preparation course": "none",
                  "math score": 196,
                  "reading score": 156,
                  "writing score": "nan",
                  "_deepnote_index_column": 570
                },
                {
                  "names": "Tina Willis",
                  "gender": "female",
                  "race/ethnicity": "group C",
                  "parental level of education": "high school",
                  "lunch": "free/reduced",
                  "test preparation course": "none",
                  "math score": 42,
                  "reading score": 193,
                  "writing score": 142,
                  "_deepnote_index_column": 581
                },
                {
                  "names": "Nicole Roberts",
                  "gender": "female",
                  "race/ethnicity": "group C",
                  "parental level of education": "some college",
                  "lunch": "standard",
                  "test preparation course": "completed",
                  "math score": 64,
                  "reading score": 131,
                  "writing score": 193,
                  "_deepnote_index_column": 588
                },
                {
                  "names": "Odette Carter",
                  "gender": "female",
                  "race/ethnicity": "group C",
                  "parental level of education": "some high school",
                  "lunch": "standard",
                  "test preparation course": "none",
                  "math score": 49,
                  "reading score": 63,
                  "writing score": 56,
                  "_deepnote_index_column": 598
                },
                {
                  "names": "Todd Bernard",
                  "gender": "male",
                  "race/ethnicity": "group C",
                  "parental level of education": "high school",
                  "lunch": "standard",
                  "test preparation course": "completed",
                  "math score": 75,
                  "reading score": 69,
                  "writing score": 68,
                  "_deepnote_index_column": 608
                },
                {
                  "names": "Richard Taylor",
                  "gender": "male",
                  "race/ethnicity": "group B",
                  "parental level of education": "associate's degree",
                  "lunch": "standard",
                  "test preparation course": "none",
                  "math score": 87,
                  "reading score": 85,
                  "writing score": 73,
                  "_deepnote_index_column": 620
                }
              ],
              "rows_bottom": [
                {
                  "names": "Charles Jackson",
                  "gender": "male",
                  "race/ethnicity": "group E",
                  "parental level of education": "some high school",
                  "lunch": "standard",
                  "test preparation course": "none",
                  "math score": 30,
                  "reading score": 26,
                  "writing score": 22,
                  "_deepnote_index_column": 1223
                },
                {
                  "names": "William Barich",
                  "gender": "male",
                  "race/ethnicity": "group A",
                  "parental level of education": "bachelor's degree",
                  "lunch": "free/reduced",
                  "test preparation course": "completed",
                  "math score": 49,
                  "reading score": 193,
                  "writing score": 142,
                  "_deepnote_index_column": 1231
                },
                {
                  "names": "Joseph Jaco",
                  "gender": "male",
                  "race/ethnicity": "group B",
                  "parental level of education": "some college",
                  "lunch": "free/reduced",
                  "test preparation course": "none",
                  "math score": 40,
                  "reading score": 182,
                  "writing score": 151,
                  "_deepnote_index_column": 1233
                },
                {
                  "names": "Joe Cooper",
                  "gender": "male",
                  "race/ethnicity": "group E",
                  "parental level of education": "associate's degree",
                  "lunch": "standard",
                  "test preparation course": "none",
                  "math score": 76,
                  "reading score": 71,
                  "writing score": 67,
                  "_deepnote_index_column": 1235
                },
                {
                  "names": "Jacqueline Holton",
                  "gender": "female",
                  "race/ethnicity": "group C",
                  "parental level of education": "high school",
                  "lunch": "free/reduced",
                  "test preparation course": "completed",
                  "math score": 142,
                  "reading score": 188,
                  "writing score": 147,
                  "_deepnote_index_column": 1236
                },
                {
                  "names": "Paula Barriere",
                  "gender": "female",
                  "race/ethnicity": "group D",
                  "parental level of education": "bachelor's degree",
                  "lunch": "free/reduced",
                  "test preparation course": "none",
                  "math score": 29,
                  "reading score": 142,
                  "writing score": "nan",
                  "_deepnote_index_column": 1238
                },
                {
                  "names": "Scott Mercer",
                  "gender": "male",
                  "race/ethnicity": "group E",
                  "parental level of education": "some college",
                  "lunch": "standard",
                  "test preparation course": "none",
                  "math score": 196,
                  "reading score": 196,
                  "writing score": 182,
                  "_deepnote_index_column": 1239
                },
                {
                  "names": "Brian Young",
                  "gender": "male",
                  "race/ethnicity": "group C",
                  "parental level of education": "some high school",
                  "lunch": "standard",
                  "test preparation course": "none",
                  "math score": "nan",
                  "reading score": "nan",
                  "writing score": "nan",
                  "_deepnote_index_column": 1243
                },
                {
                  "names": "Sheron Luzar",
                  "gender": "female",
                  "race/ethnicity": "group B",
                  "parental level of education": "some high school",
                  "lunch": "free/reduced",
                  "test preparation course": "completed",
                  "math score": 196,
                  "reading score": "nan",
                  "writing score": 64,
                  "_deepnote_index_column": 1245
                },
                {
                  "names": "Carmelia Solis",
                  "gender": "female",
                  "race/ethnicity": "group B",
                  "parental level of education": "associate's degree",
                  "lunch": "free/reduced",
                  "test preparation course": "none",
                  "math score": 53,
                  "reading score": 71,
                  "writing score": 67,
                  "_deepnote_index_column": 1247
                },
                {
                  "names": "Dale Sylvain",
                  "gender": "male",
                  "race/ethnicity": "group D",
                  "parental level of education": "some college",
                  "lunch": "free/reduced",
                  "test preparation course": "none",
                  "math score": "nan",
                  "reading score": 193,
                  "writing score": 142,
                  "_deepnote_index_column": 1248
                },
                {
                  "names": "Kathryn Neville",
                  "gender": "female",
                  "race/ethnicity": "group C",
                  "parental level of education": "some college",
                  "lunch": "standard",
                  "test preparation course": "none",
                  "math score": 55,
                  "reading score": 69,
                  "writing score": 65,
                  "_deepnote_index_column": 1251
                },
                {
                  "names": "Joshua Davis",
                  "gender": "male",
                  "race/ethnicity": "group C",
                  "parental level of education": "some college",
                  "lunch": "free/reduced",
                  "test preparation course": "none",
                  "math score": 193,
                  "reading score": 193,
                  "writing score": 193,
                  "_deepnote_index_column": 1257
                },
                {
                  "names": "Maxine Gulbranson",
                  "gender": "female",
                  "race/ethnicity": "group D",
                  "parental level of education": "some high school",
                  "lunch": "free/reduced",
                  "test preparation course": "none",
                  "math score": 48,
                  "reading score": 54,
                  "writing score": 53,
                  "_deepnote_index_column": 1259
                },
                {
                  "names": "Leona Markow",
                  "gender": "female",
                  "race/ethnicity": "group A",
                  "parental level of education": "some college",
                  "lunch": "standard",
                  "test preparation course": "none",
                  "math score": 56,
                  "reading score": 58,
                  "writing score": 64,
                  "_deepnote_index_column": 1260
                },
                {
                  "names": "Bobby Lloyd",
                  "gender": "male",
                  "race/ethnicity": "group C",
                  "parental level of education": "some college",
                  "lunch": "standard",
                  "test preparation course": "none",
                  "math score": 58,
                  "reading score": 49,
                  "writing score": 42,
                  "_deepnote_index_column": 1264
                },
                {
                  "names": "Sofia Williams",
                  "gender": "female",
                  "race/ethnicity": "group C",
                  "parental level of education": "some college",
                  "lunch": "free/reduced",
                  "test preparation course": "none",
                  "math score": 32,
                  "reading score": 39,
                  "writing score": 33,
                  "_deepnote_index_column": 1265
                },
                {
                  "names": "Norman Reed",
                  "gender": "male",
                  "race/ethnicity": "group E",
                  "parental level of education": "some college",
                  "lunch": "standard",
                  "test preparation course": "none",
                  "math score": 193,
                  "reading score": 193,
                  "writing score": 193,
                  "_deepnote_index_column": 1269
                },
                {
                  "names": "Mary Levy",
                  "gender": "female",
                  "race/ethnicity": "group D",
                  "parental level of education": "some college",
                  "lunch": "free/reduced",
                  "test preparation course": "none",
                  "math score": 142,
                  "reading score": "nan",
                  "writing score": "nan",
                  "_deepnote_index_column": 1271
                },
                {
                  "names": "Matthew Freeman",
                  "gender": "male",
                  "race/ethnicity": "group B",
                  "parental level of education": "high school",
                  "lunch": "standard",
                  "test preparation course": "completed",
                  "math score": 193,
                  "reading score": 49,
                  "writing score": 193,
                  "_deepnote_index_column": 1279
                },
                {
                  "names": "Nicole Obrien",
                  "gender": "female",
                  "race/ethnicity": "group B",
                  "parental level of education": "bachelor's degree",
                  "lunch": "free/reduced",
                  "test preparation course": "none",
                  "math score": 193,
                  "reading score": 124,
                  "writing score": 124,
                  "_deepnote_index_column": 1283
                },
                {
                  "names": "Harvey Pribbenow",
                  "gender": "male",
                  "race/ethnicity": "group D",
                  "parental level of education": "bachelor's degree",
                  "lunch": "free/reduced",
                  "test preparation course": "none",
                  "math score": 174,
                  "reading score": 193,
                  "writing score": 193,
                  "_deepnote_index_column": 1285
                },
                {
                  "names": "Anna Johnson",
                  "gender": "female",
                  "race/ethnicity": "group B",
                  "parental level of education": "high school",
                  "lunch": "free/reduced",
                  "test preparation course": "none",
                  "math score": 60,
                  "reading score": 72,
                  "writing score": 68,
                  "_deepnote_index_column": 1289
                },
                {
                  "names": "Jason Keck",
                  "gender": "male",
                  "race/ethnicity": "group A",
                  "parental level of education": "some college",
                  "lunch": "free/reduced",
                  "test preparation course": "completed",
                  "math score": 81,
                  "reading score": 78,
                  "writing score": 81,
                  "_deepnote_index_column": 1290
                },
                {
                  "names": "Bonnie Rodriguez",
                  "gender": "female",
                  "race/ethnicity": "group E",
                  "parental level of education": "high school",
                  "lunch": "standard",
                  "test preparation course": "completed",
                  "math score": 74,
                  "reading score": 79,
                  "writing score": 80,
                  "_deepnote_index_column": 1291
                },
                {
                  "names": "Oscar Markow",
                  "gender": "male",
                  "race/ethnicity": "group C",
                  "parental level of education": "some high school",
                  "lunch": "free/reduced",
                  "test preparation course": "completed",
                  "math score": 196,
                  "reading score": 142,
                  "writing score": 124,
                  "_deepnote_index_column": 1292
                },
                {
                  "names": "Tom Sastre",
                  "gender": "male",
                  "race/ethnicity": "group B",
                  "parental level of education": "high school",
                  "lunch": "standard",
                  "test preparation course": "none",
                  "math score": 47,
                  "reading score": 46,
                  "writing score": 42,
                  "_deepnote_index_column": 1295
                },
                {
                  "names": "Shane Polite",
                  "gender": "male",
                  "race/ethnicity": "group C",
                  "parental level of education": "master's degree",
                  "lunch": "free/reduced",
                  "test preparation course": "completed",
                  "math score": 79,
                  "reading score": 77,
                  "writing score": 75,
                  "_deepnote_index_column": 1296
                },
                {
                  "names": "Ashley Mcray",
                  "gender": "female",
                  "race/ethnicity": "group B",
                  "parental level of education": "associate's degree",
                  "lunch": "standard",
                  "test preparation course": "none",
                  "math score": 82,
                  "reading score": 80,
                  "writing score": 77,
                  "_deepnote_index_column": 1297
                },
                {
                  "names": "Kelle Lanterman",
                  "gender": "female",
                  "race/ethnicity": "group E",
                  "parental level of education": "high school",
                  "lunch": "free/reduced",
                  "test preparation course": "none",
                  "math score": 41,
                  "reading score": 45,
                  "writing score": 40,
                  "_deepnote_index_column": 1300
                },
                {
                  "names": "Sheila Friel",
                  "gender": "female",
                  "race/ethnicity": "group D",
                  "parental level of education": "some college",
                  "lunch": "free/reduced",
                  "test preparation course": "none",
                  "math score": 49,
                  "reading score": 58,
                  "writing score": 60,
                  "_deepnote_index_column": 1301
                },
                {
                  "names": "Dolores Reddy",
                  "gender": "female",
                  "race/ethnicity": "group D",
                  "parental level of education": "bachelor's degree",
                  "lunch": "standard",
                  "test preparation course": "none",
                  "math score": 59,
                  "reading score": 70,
                  "writing score": 73,
                  "_deepnote_index_column": 1304
                },
                {
                  "names": "Raymond Wiggins",
                  "gender": "male",
                  "race/ethnicity": "group C",
                  "parental level of education": "associate's degree",
                  "lunch": "free/reduced",
                  "test preparation course": "none",
                  "math score": 193,
                  "reading score": 174,
                  "writing score": 124,
                  "_deepnote_index_column": 1306
                },
                {
                  "names": "Jacqueline Mayrant",
                  "gender": "female",
                  "race/ethnicity": "group E",
                  "parental level of education": "some high school",
                  "lunch": "free/reduced",
                  "test preparation course": "none",
                  "math score": 156,
                  "reading score": 188,
                  "writing score": 193,
                  "_deepnote_index_column": 1313
                },
                {
                  "names": "Edward Lee",
                  "gender": "male",
                  "race/ethnicity": "group D",
                  "parental level of education": "some high school",
                  "lunch": "standard",
                  "test preparation course": "completed",
                  "math score": 193,
                  "reading score": 122,
                  "writing score": 131,
                  "_deepnote_index_column": 1316
                },
                {
                  "names": "Cleo Jefferson",
                  "gender": "female",
                  "race/ethnicity": "group D",
                  "parental level of education": "master's degree",
                  "lunch": "standard",
                  "test preparation course": "none",
                  "math score": 87,
                  "reading score": 100,
                  "writing score": 100,
                  "_deepnote_index_column": 1322
                },
                {
                  "names": "Connie Banda",
                  "gender": "female",
                  "race/ethnicity": "group C",
                  "parental level of education": "some college",
                  "lunch": "standard",
                  "test preparation course": "completed",
                  "math score": 88,
                  "reading score": 93,
                  "writing score": 93,
                  "_deepnote_index_column": 1329
                },
                {
                  "names": "Jeane Budds",
                  "gender": "female",
                  "race/ethnicity": "group D",
                  "parental level of education": "some college",
                  "lunch": "standard",
                  "test preparation course": "none",
                  "math score": 62,
                  "reading score": 70,
                  "writing score": 72,
                  "_deepnote_index_column": 1336
                },
                {
                  "names": "Scott Price",
                  "gender": "male",
                  "race/ethnicity": "group C",
                  "parental level of education": "some college",
                  "lunch": "free/reduced",
                  "test preparation course": "none",
                  "math score": 63,
                  "reading score": 61,
                  "writing score": 54,
                  "_deepnote_index_column": 1337
                },
                {
                  "names": "James Daniel",
                  "gender": "male",
                  "race/ethnicity": "group C",
                  "parental level of education": "associate's degree",
                  "lunch": "standard",
                  "test preparation course": "none",
                  "math score": 84,
                  "reading score": 80,
                  "writing score": 80,
                  "_deepnote_index_column": 1338
                },
                {
                  "names": "Richard Henry",
                  "gender": "male",
                  "race/ethnicity": "group D",
                  "parental level of education": "associate's degree",
                  "lunch": "standard",
                  "test preparation course": "none",
                  "math score": 193,
                  "reading score": 174,
                  "writing score": 193,
                  "_deepnote_index_column": 1339
                },
                {
                  "names": "Derrick Crasco",
                  "gender": "male",
                  "race/ethnicity": "group B",
                  "parental level of education": "associate's degree",
                  "lunch": "free/reduced",
                  "test preparation course": "completed",
                  "math score": 131,
                  "reading score": 142,
                  "writing score": 193,
                  "_deepnote_index_column": 1340
                },
                {
                  "names": "Sara Kochan",
                  "gender": "female",
                  "race/ethnicity": "group D",
                  "parental level of education": "bachelor's degree",
                  "lunch": "standard",
                  "test preparation course": "none",
                  "math score": 188,
                  "reading score": 193,
                  "writing score": 193,
                  "_deepnote_index_column": 1345
                },
                {
                  "names": "Bambi Dyer",
                  "gender": "female",
                  "race/ethnicity": "group D",
                  "parental level of education": "associate's degree",
                  "lunch": "free/reduced",
                  "test preparation course": "none",
                  "math score": 193,
                  "reading score": 196,
                  "writing score": 142,
                  "_deepnote_index_column": 1346
                },
                {
                  "names": "Carolyn Greer",
                  "gender": "female",
                  "race/ethnicity": "group D",
                  "parental level of education": "some college",
                  "lunch": "standard",
                  "test preparation course": "none",
                  "math score": 79,
                  "reading score": 86,
                  "writing score": 81,
                  "_deepnote_index_column": 1348
                },
                {
                  "names": "Kari Mitchell",
                  "gender": "female",
                  "race/ethnicity": "group D",
                  "parental level of education": "some college",
                  "lunch": "free/reduced",
                  "test preparation course": "none",
                  "math score": 193,
                  "reading score": 193,
                  "writing score": 193,
                  "_deepnote_index_column": 1350
                },
                {
                  "names": "Zachary Glenn",
                  "gender": "male",
                  "race/ethnicity": "group E",
                  "parental level of education": "some college",
                  "lunch": "standard",
                  "test preparation course": "completed",
                  "math score": 99,
                  "reading score": 87,
                  "writing score": 81,
                  "_deepnote_index_column": 1355
                },
                {
                  "names": "Frank Shaffer",
                  "gender": "male",
                  "race/ethnicity": "group A",
                  "parental level of education": "bachelor's degree",
                  "lunch": "standard",
                  "test preparation course": "none",
                  "math score": 91,
                  "reading score": 96,
                  "writing score": 92,
                  "_deepnote_index_column": 1360
                },
                {
                  "names": "Tammi Aline",
                  "gender": "female",
                  "race/ethnicity": "group E",
                  "parental level of education": "associate's degree",
                  "lunch": "standard",
                  "test preparation course": "completed",
                  "math score": 95,
                  "reading score": 89,
                  "writing score": 92,
                  "_deepnote_index_column": 1364
                },
                {
                  "names": "Shawn Lopez",
                  "gender": "male",
                  "race/ethnicity": "group D",
                  "parental level of education": "some college",
                  "lunch": "standard",
                  "test preparation course": "completed",
                  "math score": 193,
                  "reading score": 196,
                  "writing score": 193,
                  "_deepnote_index_column": 1369
                },
                {
                  "names": "Logan Camp",
                  "gender": "male",
                  "race/ethnicity": "group C",
                  "parental level of education": "associate's degree",
                  "lunch": "free/reduced",
                  "test preparation course": "none",
                  "math score": 193,
                  "reading score": 124,
                  "writing score": 193,
                  "_deepnote_index_column": 1378
                },
                {
                  "names": "James Crawford",
                  "gender": "male",
                  "race/ethnicity": "group D",
                  "parental level of education": "master's degree",
                  "lunch": "standard",
                  "test preparation course": "none",
                  "math score": 193,
                  "reading score": 147,
                  "writing score": 131,
                  "_deepnote_index_column": 1385
                },
                {
                  "names": "Gloria Bradford",
                  "gender": "female",
                  "race/ethnicity": "group B",
                  "parental level of education": "high school",
                  "lunch": "standard",
                  "test preparation course": "none",
                  "math score": 124,
                  "reading score": 64,
                  "writing score": 193,
                  "_deepnote_index_column": 1390
                },
                {
                  "names": "Adam Romero",
                  "gender": "male",
                  "race/ethnicity": "group C",
                  "parental level of education": "high school",
                  "lunch": "standard",
                  "test preparation course": "completed",
                  "math score": 124,
                  "reading score": 193,
                  "writing score": 49,
                  "_deepnote_index_column": 1393
                },
                {
                  "names": "Alexander Dillon",
                  "gender": "male",
                  "race/ethnicity": "group D",
                  "parental level of education": "associate's degree",
                  "lunch": "standard",
                  "test preparation course": "none",
                  "math score": 193,
                  "reading score": 142,
                  "writing score": 193,
                  "_deepnote_index_column": 1395
                },
                {
                  "names": "Joseph Mccoy",
                  "gender": "male",
                  "race/ethnicity": "group D",
                  "parental level of education": "some college",
                  "lunch": "free/reduced",
                  "test preparation course": "none",
                  "math score": 193,
                  "reading score": 196,
                  "writing score": 193,
                  "_deepnote_index_column": 1398
                }
              ]
            },
            "text/plain": "                   names  gender race/ethnicity parental level of education  \\\n12         Rita Courtney  female        group B            some high school   \n81    Elizabeth Quintero  female        group B                some college   \n160    Michelle Gonzales  female        group B            some high school   \n170        Carla Mendoza  female        group D          associate's degree   \n176       Darlene Parker  female        group C          associate's degree   \n...                  ...     ...            ...                         ...   \n1385      James Crawford    male        group D             master's degree   \n1390     Gloria Bradford  female        group B                 high school   \n1393         Adam Romero    male        group C                 high school   \n1395    Alexander Dillon    male        group D          associate's degree   \n1398        Joseph Mccoy    male        group D                some college   \n\n             lunch test preparation course  math score  reading score  \\\n12        standard                    none       193.0          193.0   \n81        standard                    none        82.0           85.0   \n160       standard               completed        60.0           70.0   \n170   free/reduced                    none        43.0           60.0   \n176       standard                    none        54.0           61.0   \n...            ...                     ...         ...            ...   \n1385      standard                    none       193.0          147.0   \n1390      standard                    none       124.0           64.0   \n1393      standard               completed       124.0          193.0   \n1395      standard                    none       193.0          142.0   \n1398  free/reduced                    none       193.0          196.0   \n\n      writing score  \n12            193.0  \n81             87.0  \n160            74.0  \n170            58.0  \n176            58.0  \n...             ...  \n1385          131.0  \n1390          193.0  \n1393           49.0  \n1395          193.0  \n1398          193.0  \n\n[247 rows x 9 columns]",
            "text/html": "<div>\n<style scoped>\n    .dataframe tbody tr th:only-of-type {\n        vertical-align: middle;\n    }\n\n    .dataframe tbody tr th {\n        vertical-align: top;\n    }\n\n    .dataframe thead th {\n        text-align: right;\n    }\n</style>\n<table border=\"1\" class=\"dataframe\">\n  <thead>\n    <tr style=\"text-align: right;\">\n      <th></th>\n      <th>names</th>\n      <th>gender</th>\n      <th>race/ethnicity</th>\n      <th>parental level of education</th>\n      <th>lunch</th>\n      <th>test preparation course</th>\n      <th>math score</th>\n      <th>reading score</th>\n      <th>writing score</th>\n    </tr>\n  </thead>\n  <tbody>\n    <tr>\n      <th>12</th>\n      <td>Rita Courtney</td>\n      <td>female</td>\n      <td>group B</td>\n      <td>some high school</td>\n      <td>standard</td>\n      <td>none</td>\n      <td>193.0</td>\n      <td>193.0</td>\n      <td>193.0</td>\n    </tr>\n    <tr>\n      <th>81</th>\n      <td>Elizabeth Quintero</td>\n      <td>female</td>\n      <td>group B</td>\n      <td>some college</td>\n      <td>standard</td>\n      <td>none</td>\n      <td>82.0</td>\n      <td>85.0</td>\n      <td>87.0</td>\n    </tr>\n    <tr>\n      <th>160</th>\n      <td>Michelle Gonzales</td>\n      <td>female</td>\n      <td>group B</td>\n      <td>some high school</td>\n      <td>standard</td>\n      <td>completed</td>\n      <td>60.0</td>\n      <td>70.0</td>\n      <td>74.0</td>\n    </tr>\n    <tr>\n      <th>170</th>\n      <td>Carla Mendoza</td>\n      <td>female</td>\n      <td>group D</td>\n      <td>associate's degree</td>\n      <td>free/reduced</td>\n      <td>none</td>\n      <td>43.0</td>\n      <td>60.0</td>\n      <td>58.0</td>\n    </tr>\n    <tr>\n      <th>176</th>\n      <td>Darlene Parker</td>\n      <td>female</td>\n      <td>group C</td>\n      <td>associate's degree</td>\n      <td>standard</td>\n      <td>none</td>\n      <td>54.0</td>\n      <td>61.0</td>\n      <td>58.0</td>\n    </tr>\n    <tr>\n      <th>...</th>\n      <td>...</td>\n      <td>...</td>\n      <td>...</td>\n      <td>...</td>\n      <td>...</td>\n      <td>...</td>\n      <td>...</td>\n      <td>...</td>\n      <td>...</td>\n    </tr>\n    <tr>\n      <th>1385</th>\n      <td>James Crawford</td>\n      <td>male</td>\n      <td>group D</td>\n      <td>master's degree</td>\n      <td>standard</td>\n      <td>none</td>\n      <td>193.0</td>\n      <td>147.0</td>\n      <td>131.0</td>\n    </tr>\n    <tr>\n      <th>1390</th>\n      <td>Gloria Bradford</td>\n      <td>female</td>\n      <td>group B</td>\n      <td>high school</td>\n      <td>standard</td>\n      <td>none</td>\n      <td>124.0</td>\n      <td>64.0</td>\n      <td>193.0</td>\n    </tr>\n    <tr>\n      <th>1393</th>\n      <td>Adam Romero</td>\n      <td>male</td>\n      <td>group C</td>\n      <td>high school</td>\n      <td>standard</td>\n      <td>completed</td>\n      <td>124.0</td>\n      <td>193.0</td>\n      <td>49.0</td>\n    </tr>\n    <tr>\n      <th>1395</th>\n      <td>Alexander Dillon</td>\n      <td>male</td>\n      <td>group D</td>\n      <td>associate's degree</td>\n      <td>standard</td>\n      <td>none</td>\n      <td>193.0</td>\n      <td>142.0</td>\n      <td>193.0</td>\n    </tr>\n    <tr>\n      <th>1398</th>\n      <td>Joseph Mccoy</td>\n      <td>male</td>\n      <td>group D</td>\n      <td>some college</td>\n      <td>free/reduced</td>\n      <td>none</td>\n      <td>193.0</td>\n      <td>196.0</td>\n      <td>193.0</td>\n    </tr>\n  </tbody>\n</table>\n<p>247 rows × 9 columns</p>\n</div>"
          },
          "metadata": {},
          "output_type": "display_data"
        },
        {
          "name": "stdout",
          "text": "\n9.- Boxplot de notas:\n",
          "output_type": "stream"
        },
        {
          "data": {
            "text/html": "<html>\n<head><meta charset=\"utf-8\" /></head>\n<body>\n    <div>            <script src=\"https://cdnjs.cloudflare.com/ajax/libs/mathjax/2.7.5/MathJax.js?config=TeX-AMS-MML_SVG\"></script><script type=\"text/javascript\">if (window.MathJax) {MathJax.Hub.Config({SVG: {font: \"STIX-Web\"}});}</script>                <script type=\"text/javascript\">window.PlotlyConfig = {MathJaxConfig: 'local'};</script>\n        <script src=\"https://cdn.plot.ly/plotly-2.4.2.min.js\"></script>                <div id=\"c29d6797-23b9-45a1-b905-5e2778425a29\" class=\"plotly-graph-div\" style=\"height:525px; width:100%;\"></div>            <script type=\"text/javascript\">                                    window.PLOTLYENV=window.PLOTLYENV || {};                                    if (document.getElementById(\"c29d6797-23b9-45a1-b905-5e2778425a29\")) {                    Plotly.newPlot(                        \"c29d6797-23b9-45a1-b905-5e2778425a29\",                        [{\"alignmentgroup\":\"True\",\"hovertemplate\":\"subject=math score<br>score=%{y}<extra></extra>\",\"legendgroup\":\"math score\",\"marker\":{\"color\":\"#636efa\"},\"name\":\"math score\",\"notched\":false,\"offsetgroup\":\"math score\",\"orientation\":\"v\",\"showlegend\":true,\"type\":\"box\",\"x0\":\" \",\"xaxis\":\"x\",\"y\":[37.0,124.0,156.0,80.0,131.0,73.0,81.0,94.0,71.0,75.0,124.0,188.0,193.0,34.0,193.0,63.0,94.0,65.0,95.0,52.0,62.0,74.0,142.0,124.0,62.0,73.0,46.0,82.0,124.0,63.0,64.0,80.0,124.0,131.0,null,93.0,69.0,46.0,86.0,59.0,84.0,64.0,73.0,83.0,131.0,75.0,69.0,68.0,193.0,57.0,66.0,61.0,40.0,50.0,48.0,36.0,78.0,196.0,57.0,122.0,196.0,69.0,124.0,40.0,92.0,188.0,35.0,63.0,193.0,73.0,63.0,52.0,131.0,73.0,63.0,124.0,71.0,45.0,85.0,80.0,40.0,82.0,188.0,77.0,91.0,null,196.0,60.0,63.0,40.0,174.0,57.0,58.0,147.0,188.0,97.0,81.0,68.0,59.0,96.0,87.0,57.0,193.0,193.0,142.0,94.0,97.0,124.0,65.0,82.0,72.0,62.0,44.0,49.0,196.0,82.0,75.0,193.0,59.0,75.0,72.0,68.0,193.0,124.0,66.0,196.0,null,67.0,93.0,69.0,142.0,63.0,46.0,66.0,193.0,49.0,62.0,182.0,48.0,null,71.0,193.0,147.0,193.0,54.0,80.0,55.0,193.0,90.0,94.0,81.0,34.0,193.0,53.0,124.0,61.0,75.0,74.0,62.0,70.0,60.0,59.0,193.0,62.0,53.0,80.0,69.0,69.0,69.0,49.0,43.0,83.0,65.0,73.0,68.0,64.0,54.0,65.0,193.0,49.0,58.0,66.0,65.0,65.0,193.0,70.0,79.0,50.0,193.0,188.0,64.0,124.0,68.0,32.0,68.0,58.0,19.0,193.0,69.0,72.0,53.0,64.0,61.0,78.0,53.0,45.0,44.0,196.0,83.0,65.0,88.0,88.0,91.0,84.0,51.0,196.0,196.0,null,38.0,193.0,47.0,66.0,61.0,60.0,71.0,45.0,77.0,53.0,193.0,193.0,57.0,124.0,193.0,131.0,193.0,72.0,76.0,45.0,193.0,99.0,51.0,64.0,52.0,80.0,51.0,193.0,193.0,196.0,50.0,64.0,74.0,196.0,71.0,57.0,69.0,77.0,193.0,75.0,196.0,43.0,80.0,193.0,null,122.0,59.0,85.0,55.0,44.0,42.0,58.0,61.0,50.0,64.0,88.0,73.0,95.0,124.0,174.0,67.0,97.0,61.0,62.0,79.0,54.0,66.0,193.0,174.0,193.0,174.0,78.0,193.0,85.0,84.0,76.0,44.0,122.0,81.0,54.0,58.0,124.0,81.0,35.0,72.0,71.0,61.0,66.0,71.0,71.0,89.0,73.0,81.0,46.0,22.0,124.0,48.0,124.0,44.0,79.0,91.0,76.0,124.0,54.0,77.0,62.0,67.0,131.0,196.0,86.0,58.0,53.0,57.0,182.0,69.0,76.0,78.0,69.0,124.0,62.0,37.0,196.0,88.0,90.0,57.0,193.0,68.0,65.0,63.0,124.0,52.0,48.0,65.0,54.0,50.0,124.0,193.0,122.0,40.0,29.0,26.0,70.0,196.0,75.0,53.0,64.0,60.0,98.0,93.0,59.0,46.0,null,76.0,79.0,28.0,55.0,61.0,142.0,196.0,193.0,193.0,35.0,193.0,94.0,193.0,46.0,100.0,67.0,49.0,193.0,50.0,79.0,142.0,71.0,null,83.0,55.0,193.0,48.0,76.0,77.0,79.0,193.0,62.0,56.0,124.0,68.0,84.0,124.0,80.0,62.0,124.0,60.0,64.0,29.0,52.0,53.0,131.0,67.0,82.0,56.0,79.0,142.0,73.0,66.0,52.0,52.0,73.0,66.0,84.0,82.0,193.0,74.0,193.0,76.0,81.0,79.0,124.0,68.0,128.0,63.0,142.0,124.0,null,50.0,196.0,196.0,72.0,85.0,196.0,83.0,84.0,65.0,null,85.0,70.0,58.0,86.0,64.0,65.0,124.0,61.0,193.0,49.0,53.0,97.0,196.0,75.0,72.0,124.0,74.0,59.0,68.0,78.0,53.0,57.0,72.0,99.0,null,79.0,91.0,83.0,null,72.0,142.0,188.0,null,61.0,73.0,59.0,100.0,61.0,77.0,71.0,49.0,62.0,193.0,86.0,75.0,null,58.0,47.0,null,131.0,193.0,63.0,69.0,null,70.0,68.0,61.0,71.0,122.0,124.0,142.0,81.0,100.0,84.0,77.0,53.0,71.0,73.0,193.0,65.0,124.0,193.0,49.0,52.0,65.0,59.0,80.0,193.0,62.0,57.0,46.0,58.0,67.0,73.0,72.0,40.0,78.0,63.0,61.0,79.0,77.0,70.0,53.0,156.0,151.0,76.0,45.0,40.0,193.0,82.0,124.0,193.0,78.0,75.0,70.0,55.0,39.0,188.0,null,70.0,30.0,75.0,63.0,82.0,74.0,54.0,124.0,71.0,196.0,142.0,73.0,77.0,77.0,87.0,87.0,74.0,67.0,43.0,49.0,42.0,49.0,null,124.0,193.0,53.0,64.0,64.0,196.0,61.0,79.0,null,69.0,54.0,65.0,77.0,58.0,49.0,73.0,124.0,54.0,142.0,54.0,64.0,null,59.0,76.0,75.0,85.0,131.0,97.0,193.0,188.0,53.0,52.0,142.0,77.0,79.0,57.0,87.0,66.0,193.0,193.0,63.0,65.0,64.0,124.0,68.0,55.0,72.0,86.0,142.0,35.0,97.0,124.0,75.0,52.0,74.0,70.0,39.0,61.0,193.0,44.0,193.0,32.0,193.0,77.0,49.0,87.0,193.0,66.0,68.0,196.0,193.0,65.0,62.0,81.0,196.0,70.0,124.0,null,74.0,94.0,142.0,193.0,76.0,59.0,156.0,68.0,124.0,193.0,193.0,73.0,null,193.0,124.0,100.0,131.0,8.0,65.0,40.0,48.0,89.0,77.0,193.0,65.0,69.0,68.0,49.0,62.0,50.0,56.0,46.0,124.0,38.0,53.0,142.0,193.0,60.0,91.0,90.0,73.0,70.0,47.0,65.0,81.0,55.0,93.0,142.0,193.0,124.0,142.0,65.0,131.0,62.0,48.0,196.0,68.0,66.0,55.0,42.0,54.0,74.0,37.0,66.0,88.0,69.0,166.0,61.0,193.0,39.0,87.0,142.0,64.0,44.0,131.0,59.0,80.0,33.0,71.0,76.0,53.0,78.0,55.0,70.0,65.0,193.0,86.0,47.0,54.0,41.0,193.0,78.0,83.0,54.0,90.0,59.0,65.0,null,67.0,193.0,null,89.0,59.0,73.0,74.0,86.0,55.0,61.0,57.0,58.0,42.0,45.0,null,63.0,61.0,81.0,92.0,193.0,67.0,94.0,56.0,62.0,70.0,142.0,70.0,76.0,64.0,47.0,66.0,86.0,40.0,66.0,68.0,51.0,45.0,88.0,90.0,52.0,49.0,53.0,171.0,193.0,71.0,50.0,58.0,42.0,67.0,39.0,85.0,62.0,78.0,73.0,68.0,89.0,40.0,82.0,69.0,null,77.0,69.0,79.0,53.0,43.0,58.0,76.0,40.0,88.0,69.0,49.0,85.0,69.0,72.0,57.0,58.0,62.0,62.0,142.0,142.0,75.0,88.0,81.0,193.0,null,193.0,67.0,142.0,67.0,166.0,74.0,188.0,74.0,95.0,71.0,193.0,85.0,193.0,124.0,131.0,188.0,142.0,196.0,56.0,82.0,124.0,85.0,60.0,63.0,51.0,50.0,81.0,64.0,87.0,46.0,58.0,62.0,76.0,60.0,193.0,50.0,124.0,193.0,142.0,77.0,124.0,64.0,null,61.0,60.0,193.0,67.0,64.0,193.0,196.0,90.0,59.0,53.0,48.0,193.0,35.0,60.0,82.0,58.0,60.0,66.0,null,85.0,124.0,49.0,77.0,67.0,69.0,131.0,50.0,62.0,83.0,81.0,92.0,70.0,72.0,92.0,51.0,156.0,87.0,71.0,59.0,193.0,124.0,88.0,61.0,193.0,82.0,193.0,71.0,75.0,43.0,142.0,51.0,62.0,75.0,63.0,174.0,71.0,67.0,71.0,61.0,56.0,98.0,82.0,75.0,59.0,193.0,71.0,44.0,77.0,65.0,196.0,57.0,60.0,27.0,58.0,70.0,38.0,42.0,100.0,193.0,89.0,35.0,74.0,77.0,62.0,79.0,124.0,46.0,74.0,196.0,59.0,66.0,124.0,47.0,142.0,77.0,78.0,52.0,null,70.0,193.0,58.0,193.0,68.0,69.0,87.0,52.0,72.0,85.0,196.0,41.0,61.0,67.0,54.0,75.0,80.0,63.0,52.0,62.0,58.0,62.0,65.0,74.0,182.0,142.0,142.0,79.0,49.0,68.0,63.0,52.0,59.0,55.0,66.0,38.0,193.0,193.0,74.0,91.0,64.0,142.0,74.0,142.0,81.0,79.0,142.0,90.0,142.0,124.0,null,54.0,78.0,46.0,193.0,88.0,62.0,193.0,80.0,124.0,142.0,80.0,71.0,64.0,75.0,60.0,68.0,88.0,55.0,50.0,124.0,97.0,42.0,null,188.0,49.0,69.0,40.0,122.0,42.0,196.0,58.0,24.0,48.0,124.0,67.0,59.0,193.0,59.0,96.0,45.0,88.0,72.0,166.0,61.0,81.0,59.0,73.0,193.0,79.0,68.0,193.0,47.0,124.0,64.0,49.0,124.0,54.0,71.0,null,59.0,89.0,37.0,59.0,null,57.0,47.0,77.0,62.0,77.0,51.0,131.0,69.0,74.0,60.0,76.0,51.0,32.0,124.0,193.0,73.0,49.0,76.0,193.0,64.0,62.0,63.0,156.0,50.0,44.0,66.0,67.0,142.0,142.0,61.0,75.0,147.0,69.0,76.0,65.0,53.0,87.0,53.0,null,66.0,196.0,49.0,67.0,55.0,30.0,73.0,62.0,79.0,63.0,52.0,193.0,58.0,124.0,142.0,193.0,78.0,81.0,142.0,193.0,74.0,68.0,82.0,73.0,35.0,142.0,59.0,74.0,62.0,49.0,84.0,67.0,81.0,33.0,142.0,59.0,87.0,77.0,58.0,69.0,null,65.0,92.0,87.0,69.0,null,73.0,61.0,55.0,67.0,193.0,69.0,74.0,64.0,56.0,36.0,41.0,142.0,124.0,49.0,59.0,34.0,142.0,84.0,76.0,142.0,61.0,193.0,193.0,62.0,87.0,67.0,54.0,59.0,68.0,67.0,91.0,142.0,80.0,96.0,68.0,193.0,156.0,30.0,124.0,null,74.0,71.0,35.0,81.0,53.0,49.0,147.0,40.0,80.0,76.0,142.0,76.0,29.0,196.0,63.0,57.0,58.0,null,72.0,196.0,55.0,53.0,null,80.0,41.0,55.0,51.0,85.0,81.0,52.0,18.0,193.0,73.0,48.0,56.0,142.0,124.0,63.0,58.0,32.0,59.0,193.0,142.0,193.0,63.0,142.0,63.0,80.0,60.0,64.0,98.0,59.0,65.0,193.0,87.0,66.0,52.0,193.0,28.0,174.0,73.0,87.0,79.0,60.0,81.0,74.0,196.0,69.0,47.0,47.0,79.0,82.0,92.0,57.0,41.0,49.0,88.0,79.0,59.0,71.0,193.0,81.0,65.0,82.0,65.0,40.0,73.0,156.0,56.0,69.0,193.0,67.0,91.0,67.0,188.0,124.0,87.0,124.0,65.0,124.0,58.0,55.0,48.0,88.0,53.0,85.0,193.0,62.0,65.0,82.0,62.0,63.0,84.0,193.0,131.0,77.0,50.0,69.0,0.0,188.0,193.0,65.0,79.0,69.0,193.0,72.0,100.0,65.0,47.0,99.0,51.0,71.0,124.0,82.0,91.0,55.0,75.0,66.0,95.0,72.0,70.0,57.0,84.0,193.0,61.0,45.0,65.0,27.0,88.0,65.0,63.0,78.0,193.0,65.0,90.0,100.0,67.0,74.0,76.0,193.0,66.0,59.0,62.0,41.0,124.0,29.0,69.0,124.0,23.0,193.0,66.0,54.0,193.0,68.0],\"y0\":\" \",\"yaxis\":\"y\"},{\"alignmentgroup\":\"True\",\"hovertemplate\":\"subject=reading score<br>score=%{y}<extra></extra>\",\"legendgroup\":\"reading score\",\"marker\":{\"color\":\"#EF553B\"},\"name\":\"reading score\",\"notched\":false,\"offsetgroup\":\"reading score\",\"orientation\":\"v\",\"showlegend\":true,\"type\":\"box\",\"x0\":\" \",\"xaxis\":\"x\",\"y\":[46.0,142.0,196.0,78.0,166.0,66.0,75.0,86.0,61.0,68.0,196.0,131.0,193.0,48.0,171.0,61.0,73.0,78.0,142.0,76.0,65.0,74.0,null,142.0,57.0,69.0,42.0,82.0,193.0,61.0,73.0,75.0,null,97.0,null,100.0,76.0,61.0,81.0,72.0,83.0,64.0,76.0,86.0,124.0,88.0,74.0,72.0,142.0,61.0,64.0,61.0,59.0,67.0,62.0,29.0,79.0,142.0,67.0,124.0,null,58.0,142.0,55.0,87.0,193.0,28.0,67.0,128.0,74.0,64.0,59.0,142.0,79.0,73.0,196.0,60.0,59.0,92.0,76.0,196.0,85.0,193.0,94.0,85.0,193.0,142.0,62.0,48.0,48.0,193.0,54.0,54.0,193.0,188.0,82.0,82.0,65.0,71.0,90.0,84.0,75.0,193.0,142.0,193.0,88.0,93.0,142.0,81.0,93.0,57.0,74.0,54.0,193.0,null,84.0,90.0,193.0,41.0,73.0,68.0,78.0,193.0,null,74.0,124.0,193.0,62.0,90.0,63.0,124.0,74.0,64.0,68.0,124.0,null,73.0,142.0,56.0,193.0,70.0,124.0,124.0,142.0,72.0,83.0,59.0,null,87.0,99.0,73.0,42.0,null,43.0,64.0,68.0,85.0,81.0,72.0,78.0,70.0,51.0,188.0,72.0,50.0,85.0,66.0,78.0,77.0,45.0,60.0,93.0,61.0,64.0,83.0,66.0,61.0,77.0,171.0,57.0,67.0,78.0,70.0,79.0,142.0,68.0,81.0,67.0,193.0,142.0,54.0,124.0,60.0,51.0,51.0,57.0,38.0,193.0,77.0,79.0,58.0,188.0,51.0,72.0,62.0,56.0,51.0,193.0,83.0,76.0,78.0,95.0,89.0,87.0,66.0,196.0,193.0,193.0,49.0,193.0,53.0,57.0,73.0,68.0,71.0,63.0,86.0,58.0,142.0,124.0,51.0,151.0,193.0,171.0,193.0,64.0,71.0,48.0,193.0,93.0,72.0,60.0,61.0,73.0,54.0,128.0,142.0,124.0,48.0,73.0,74.0,95.0,77.0,74.0,70.0,90.0,196.0,74.0,124.0,51.0,68.0,null,142.0,166.0,72.0,81.0,76.0,63.0,62.0,59.0,47.0,66.0,64.0,74.0,78.0,193.0,196.0,142.0,86.0,100.0,58.0,64.0,81.0,63.0,71.0,142.0,124.0,null,124.0,91.0,196.0,75.0,84.0,94.0,61.0,193.0,84.0,49.0,63.0,193.0,82.0,174.0,81.0,49.0,42.0,77.0,76.0,66.0,88.0,83.0,81.0,34.0,39.0,124.0,52.0,147.0,64.0,82.0,81.0,80.0,193.0,59.0,78.0,72.0,64.0,188.0,196.0,81.0,70.0,52.0,58.0,124.0,73.0,70.0,87.0,64.0,142.0,66.0,57.0,193.0,89.0,75.0,56.0,124.0,70.0,75.0,69.0,193.0,57.0,43.0,54.0,54.0,53.0,193.0,142.0,193.0,59.0,41.0,31.0,75.0,124.0,74.0,39.0,124.0,57.0,87.0,84.0,54.0,54.0,193.0,64.0,88.0,23.0,71.0,57.0,142.0,124.0,64.0,124.0,53.0,124.0,85.0,124.0,58.0,100.0,80.0,196.0,124.0,47.0,84.0,124.0,81.0,124.0,82.0,64.0,null,58.0,73.0,77.0,79.0,null,78.0,68.0,193.0,86.0,77.0,49.0,75.0,70.0,174.0,66.0,62.0,40.0,65.0,61.0,124.0,61.0,95.0,79.0,76.0,196.0,68.0,74.0,66.0,67.0,86.0,65.0,73.0,75.0,124.0,77.0,null,71.0,72.0,89.0,124.0,71.0,193.0,78.0,193.0,null,193.0,56.0,null,193.0,65.0,92.0,142.0,78.0,95.0,77.0,null,86.0,70.0,63.0,80.0,82.0,81.0,193.0,55.0,null,51.0,51.0,97.0,null,72.0,73.0,196.0,79.0,67.0,68.0,77.0,58.0,78.0,57.0,100.0,193.0,89.0,73.0,72.0,193.0,79.0,156.0,196.0,142.0,62.0,74.0,54.0,96.0,66.0,79.0,67.0,53.0,61.0,156.0,92.0,81.0,null,62.0,59.0,142.0,null,64.0,75.0,67.0,193.0,75.0,63.0,56.0,66.0,95.0,156.0,156.0,97.0,100.0,77.0,90.0,44.0,83.0,68.0,null,82.0,193.0,171.0,49.0,59.0,75.0,60.0,64.0,142.0,49.0,43.0,43.0,73.0,54.0,66.0,72.0,43.0,83.0,65.0,72.0,74.0,82.0,84.0,54.0,196.0,42.0,62.0,53.0,58.0,null,85.0,64.0,196.0,72.0,66.0,64.0,55.0,42.0,142.0,49.0,89.0,26.0,84.0,64.0,82.0,81.0,59.0,147.0,84.0,156.0,124.0,84.0,88.0,88.0,84.0,74.0,73.0,64.0,62.0,52.0,193.0,65.0,142.0,124.0,193.0,54.0,53.0,131.0,193.0,86.0,92.0,156.0,71.0,52.0,86.0,91.0,61.0,63.0,76.0,193.0,64.0,188.0,53.0,58.0,196.0,72.0,74.0,69.0,84.0,193.0,92.0,142.0,193.0,70.0,55.0,142.0,76.0,72.0,77.0,85.0,69.0,193.0,124.0,73.0,85.0,124.0,193.0,67.0,58.0,66.0,76.0,193.0,55.0,87.0,124.0,68.0,49.0,70.0,82.0,52.0,74.0,196.0,50.0,156.0,151.0,193.0,90.0,193.0,84.0,193.0,65.0,77.0,182.0,182.0,67.0,67.0,66.0,142.0,63.0,193.0,182.0,75.0,90.0,193.0,196.0,78.0,70.0,188.0,68.0,193.0,131.0,193.0,66.0,142.0,196.0,142.0,100.0,131.0,24.0,64.0,65.0,66.0,84.0,82.0,64.0,73.0,77.0,72.0,51.0,69.0,50.0,68.0,56.0,null,142.0,55.0,147.0,182.0,51.0,95.0,90.0,56.0,72.0,49.0,65.0,77.0,46.0,100.0,196.0,188.0,193.0,193.0,70.0,124.0,61.0,45.0,193.0,59.0,69.0,46.0,55.0,65.0,77.0,56.0,63.0,78.0,77.0,196.0,71.0,64.0,64.0,100.0,124.0,63.0,41.0,193.0,78.0,79.0,142.0,87.0,87.0,58.0,81.0,73.0,70.0,69.0,131.0,73.0,49.0,52.0,51.0,193.0,81.0,80.0,64.0,90.0,58.0,81.0,142.0,79.0,64.0,124.0,84.0,63.0,71.0,90.0,83.0,56.0,58.0,78.0,52.0,193.0,37.0,193.0,63.0,70.0,91.0,100.0,142.0,73.0,87.0,52.0,66.0,65.0,122.0,74.0,83.0,74.0,54.0,74.0,85.0,52.0,74.0,74.0,31.0,73.0,84.0,95.0,57.0,53.0,52.0,142.0,156.0,74.0,48.0,55.0,52.0,57.0,39.0,90.0,61.0,74.0,78.0,70.0,100.0,42.0,67.0,80.0,142.0,85.0,84.0,86.0,62.0,45.0,55.0,85.0,42.0,77.0,70.0,50.0,91.0,60.0,80.0,50.0,61.0,67.0,63.0,142.0,142.0,77.0,99.0,91.0,124.0,142.0,142.0,78.0,193.0,69.0,147.0,71.0,193.0,79.0,81.0,74.0,193.0,84.0,193.0,124.0,166.0,193.0,142.0,null,54.0,62.0,null,84.0,64.0,72.0,52.0,64.0,75.0,193.0,85.0,43.0,68.0,55.0,72.0,68.0,null,42.0,124.0,196.0,64.0,89.0,188.0,50.0,null,68.0,59.0,142.0,57.0,73.0,193.0,193.0,85.0,73.0,45.0,56.0,193.0,28.0,70.0,90.0,67.0,75.0,59.0,193.0,95.0,193.0,52.0,69.0,76.0,79.0,131.0,60.0,56.0,85.0,71.0,100.0,56.0,79.0,100.0,63.0,156.0,73.0,70.0,52.0,193.0,142.0,99.0,64.0,193.0,93.0,193.0,69.0,82.0,53.0,193.0,49.0,55.0,81.0,55.0,196.0,83.0,72.0,83.0,56.0,61.0,86.0,84.0,88.0,62.0,64.0,75.0,45.0,68.0,76.0,142.0,48.0,60.0,34.0,50.0,64.0,43.0,66.0,92.0,142.0,76.0,44.0,72.0,62.0,64.0,82.0,156.0,41.0,64.0,124.0,70.0,77.0,193.0,37.0,142.0,68.0,77.0,48.0,null,71.0,156.0,57.0,142.0,54.0,72.0,94.0,53.0,80.0,89.0,133.0,39.0,71.0,89.0,48.0,81.0,90.0,63.0,58.0,55.0,60.0,67.0,77.0,88.0,193.0,193.0,151.0,73.0,196.0,68.0,80.0,70.0,42.0,47.0,60.0,60.0,196.0,42.0,76.0,86.0,64.0,193.0,63.0,196.0,74.0,82.0,null,78.0,193.0,193.0,142.0,58.0,82.0,43.0,196.0,92.0,67.0,196.0,86.0,124.0,193.0,63.0,79.0,85.0,86.0,72.0,60.0,75.0,61.0,60.0,null,166.0,61.0,193.0,124.0,193.0,75.0,196.0,142.0,39.0,null,75.0,38.0,51.0,193.0,84.0,62.0,142.0,62.0,96.0,47.0,85.0,67.0,171.0,67.0,80.0,53.0,76.0,null,85.0,75.0,142.0,62.0,196.0,79.0,58.0,193.0,60.0,71.0,174.0,58.0,87.0,45.0,85.0,193.0,58.0,43.0,67.0,68.0,67.0,58.0,147.0,77.0,71.0,63.0,78.0,60.0,34.0,193.0,188.0,78.0,57.0,62.0,142.0,76.0,64.0,78.0,156.0,53.0,51.0,62.0,84.0,193.0,156.0,60.0,58.0,128.0,84.0,76.0,73.0,72.0,90.0,66.0,142.0,83.0,193.0,65.0,74.0,72.0,24.0,92.0,62.0,60.0,57.0,65.0,193.0,76.0,193.0,142.0,49.0,90.0,86.0,193.0,193.0,89.0,76.0,97.0,70.0,124.0,122.0,66.0,86.0,68.0,193.0,83.0,86.0,88.0,41.0,147.0,65.0,95.0,97.0,51.0,66.0,null,66.0,100.0,74.0,54.0,193.0,67.0,60.0,59.0,81.0,193.0,90.0,81.0,60.0,65.0,53.0,52.0,193.0,193.0,58.0,69.0,42.0,196.0,87.0,83.0,171.0,72.0,142.0,null,67.0,89.0,75.0,64.0,63.0,67.0,84.0,74.0,188.0,80.0,100.0,64.0,124.0,142.0,26.0,193.0,193.0,75.0,76.0,61.0,78.0,37.0,193.0,193.0,182.0,76.0,71.0,188.0,70.0,142.0,196.0,71.0,68.0,70.0,null,66.0,null,65.0,71.0,193.0,92.0,55.0,69.0,56.0,76.0,92.0,59.0,32.0,193.0,79.0,54.0,58.0,196.0,null,67.0,49.0,39.0,73.0,156.0,156.0,193.0,60.0,null,73.0,90.0,44.0,56.0,100.0,71.0,69.0,49.0,91.0,76.0,55.0,124.0,182.0,193.0,75.0,84.0,67.0,72.0,78.0,79.0,142.0,60.0,58.0,46.0,77.0,80.0,79.0,69.0,45.0,58.0,95.0,78.0,70.0,62.0,174.0,81.0,81.0,78.0,69.0,46.0,80.0,188.0,72.0,58.0,122.0,72.0,96.0,75.0,193.0,49.0,100.0,193.0,74.0,142.0,59.0,41.0,58.0,93.0,61.0,66.0,142.0,67.0,84.0,82.0,70.0,61.0,80.0,174.0,142.0,62.0,64.0,65.0,17.0,193.0,196.0,67.0,86.0,86.0,193.0,67.0,100.0,58.0,57.0,87.0,51.0,74.0,null,82.0,96.0,65.0,82.0,66.0,89.0,72.0,55.0,56.0,89.0,196.0,48.0,52.0,59.0,34.0,73.0,82.0,66.0,81.0,124.0,72.0,87.0,97.0,74.0,75.0,67.0,147.0,72.0,64.0,76.0,46.0,64.0,29.0,75.0,193.0,44.0,142.0,74.0,61.0,196.0,80.0],\"y0\":\" \",\"yaxis\":\"y\"},{\"alignmentgroup\":\"True\",\"hovertemplate\":\"subject=writing score<br>score=%{y}<extra></extra>\",\"legendgroup\":\"writing score\",\"marker\":{\"color\":\"#00cc96\"},\"name\":\"writing score\",\"notched\":false,\"offsetgroup\":\"writing score\",\"orientation\":\"v\",\"showlegend\":true,\"type\":\"box\",\"x0\":\" \",\"xaxis\":\"x\",\"y\":[46.0,142.0,193.0,81.0,166.0,63.0,76.0,87.0,69.0,64.0,193.0,193.0,193.0,41.0,131.0,61.0,71.0,82.0,147.0,70.0,58.0,72.0,193.0,124.0,62.0,68.0,46.0,74.0,193.0,60.0,68.0,77.0,null,124.0,142.0,100.0,74.0,55.0,80.0,70.0,75.0,67.0,78.0,88.0,124.0,85.0,74.0,65.0,124.0,54.0,62.0,62.0,54.0,63.0,60.0,27.0,76.0,142.0,72.0,193.0,193.0,57.0,124.0,53.0,78.0,142.0,27.0,70.0,188.0,61.0,67.0,65.0,193.0,79.0,71.0,196.0,61.0,64.0,85.0,65.0,196.0,87.0,193.0,95.0,85.0,122.0,196.0,60.0,47.0,50.0,182.0,56.0,52.0,124.0,142.0,88.0,82.0,61.0,65.0,92.0,86.0,73.0,196.0,124.0,193.0,78.0,91.0,124.0,81.0,93.0,58.0,70.0,53.0,142.0,null,78.0,88.0,193.0,42.0,74.0,67.0,77.0,null,193.0,78.0,142.0,null,60.0,83.0,61.0,196.0,74.0,66.0,64.0,193.0,142.0,70.0,193.0,51.0,142.0,70.0,193.0,196.0,124.0,59.0,83.0,54.0,null,85.0,100.0,72.0,151.0,124.0,43.0,193.0,63.0,82.0,71.0,65.0,78.0,74.0,43.0,188.0,74.0,60.0,85.0,61.0,76.0,77.0,45.0,58.0,95.0,71.0,57.0,78.0,59.0,58.0,74.0,193.0,46.0,62.0,78.0,74.0,81.0,193.0,72.0,82.0,73.0,128.0,124.0,50.0,124.0,59.0,44.0,57.0,54.0,32.0,142.0,73.0,74.0,57.0,193.0,52.0,69.0,53.0,54.0,48.0,124.0,90.0,75.0,83.0,94.0,92.0,91.0,62.0,64.0,124.0,193.0,45.0,193.0,58.0,52.0,63.0,60.0,74.0,59.0,86.0,55.0,131.0,142.0,54.0,193.0,193.0,196.0,193.0,63.0,73.0,46.0,156.0,90.0,79.0,58.0,66.0,72.0,41.0,122.0,142.0,193.0,42.0,70.0,72.0,131.0,77.0,76.0,67.0,85.0,null,66.0,142.0,54.0,72.0,193.0,196.0,166.0,68.0,85.0,76.0,62.0,60.0,58.0,56.0,64.0,null,75.0,72.0,193.0,196.0,196.0,83.0,100.0,56.0,66.0,71.0,67.0,76.0,142.0,193.0,null,124.0,96.0,188.0,68.0,80.0,87.0,52.0,142.0,82.0,47.0,65.0,124.0,84.0,142.0,79.0,52.0,41.0,73.0,83.0,65.0,82.0,76.0,79.0,36.0,33.0,null,45.0,193.0,58.0,80.0,79.0,73.0,142.0,62.0,73.0,70.0,61.0,196.0,196.0,75.0,68.0,49.0,64.0,124.0,73.0,68.0,91.0,68.0,142.0,68.0,56.0,193.0,86.0,69.0,57.0,142.0,66.0,70.0,74.0,128.0,56.0,45.0,57.0,45.0,58.0,193.0,156.0,193.0,51.0,47.0,38.0,78.0,193.0,69.0,37.0,124.0,51.0,90.0,90.0,51.0,58.0,142.0,66.0,94.0,19.0,69.0,56.0,193.0,null,193.0,174.0,46.0,196.0,82.0,124.0,57.0,100.0,81.0,193.0,131.0,54.0,91.0,193.0,80.0,142.0,84.0,70.0,156.0,52.0,68.0,73.0,78.0,142.0,79.0,70.0,193.0,84.0,74.0,193.0,69.0,75.0,193.0,70.0,68.0,44.0,69.0,68.0,193.0,68.0,89.0,72.0,65.0,196.0,66.0,69.0,73.0,72.0,82.0,69.0,69.0,77.0,142.0,73.0,124.0,72.0,77.0,86.0,142.0,75.0,null,80.0,142.0,156.0,124.0,54.0,193.0,193.0,68.0,93.0,193.0,73.0,92.0,74.0,142.0,98.0,70.0,73.0,75.0,77.0,81.0,124.0,52.0,193.0,51.0,51.0,96.0,null,62.0,74.0,196.0,75.0,61.0,67.0,77.0,44.0,67.0,62.0,100.0,142.0,89.0,80.0,78.0,64.0,77.0,124.0,196.0,142.0,61.0,72.0,67.0,86.0,61.0,80.0,67.0,53.0,55.0,null,87.0,71.0,null,59.0,50.0,142.0,124.0,null,81.0,69.0,147.0,74.0,54.0,55.0,60.0,193.0,196.0,null,96.0,93.0,71.0,91.0,42.0,83.0,66.0,193.0,81.0,124.0,147.0,41.0,56.0,77.0,58.0,66.0,124.0,52.0,47.0,41.0,68.0,63.0,62.0,71.0,39.0,80.0,61.0,70.0,72.0,89.0,81.0,48.0,193.0,38.0,60.0,55.0,54.0,null,86.0,124.0,196.0,70.0,73.0,72.0,47.0,38.0,131.0,49.0,88.0,22.0,80.0,66.0,80.0,83.0,50.0,131.0,87.0,null,null,85.0,87.0,85.0,87.0,70.0,67.0,70.0,61.0,51.0,142.0,61.0,193.0,null,193.0,48.0,57.0,193.0,147.0,87.0,89.0,null,65.0,52.0,80.0,88.0,52.0,56.0,80.0,193.0,68.0,156.0,47.0,51.0,193.0,80.0,73.0,68.0,89.0,193.0,86.0,142.0,142.0,70.0,57.0,193.0,77.0,69.0,80.0,73.0,63.0,124.0,124.0,78.0,76.0,196.0,193.0,73.0,52.0,66.0,74.0,142.0,60.0,82.0,193.0,65.0,46.0,69.0,76.0,46.0,72.0,38.0,51.0,null,33.0,142.0,84.0,193.0,85.0,193.0,60.0,80.0,null,42.0,65.0,58.0,64.0,null,58.0,131.0,142.0,83.0,91.0,193.0,97.0,80.0,66.0,193.0,64.0,null,193.0,193.0,66.0,156.0,124.0,193.0,100.0,193.0,23.0,62.0,64.0,65.0,82.0,91.0,null,75.0,69.0,64.0,43.0,69.0,47.0,74.0,57.0,124.0,193.0,48.0,147.0,193.0,56.0,94.0,91.0,57.0,76.0,50.0,63.0,79.0,44.0,95.0,193.0,193.0,193.0,193.0,71.0,131.0,57.0,41.0,193.0,62.0,68.0,43.0,54.0,65.0,76.0,47.0,64.0,75.0,78.0,196.0,73.0,193.0,57.0,95.0,131.0,66.0,38.0,124.0,76.0,79.0,182.0,82.0,85.0,65.0,86.0,73.0,65.0,76.0,124.0,70.0,49.0,51.0,48.0,null,80.0,73.0,65.0,82.0,59.0,73.0,193.0,84.0,142.0,null,77.0,75.0,68.0,88.0,86.0,51.0,62.0,79.0,54.0,193.0,37.0,42.0,62.0,76.0,89.0,97.0,124.0,68.0,92.0,55.0,68.0,60.0,171.0,71.0,88.0,75.0,53.0,73.0,91.0,43.0,81.0,74.0,36.0,70.0,75.0,93.0,50.0,52.0,42.0,124.0,156.0,64.0,53.0,53.0,51.0,53.0,34.0,92.0,58.0,72.0,76.0,66.0,100.0,38.0,61.0,71.0,193.0,87.0,85.0,92.0,56.0,50.0,48.0,82.0,38.0,77.0,63.0,52.0,89.0,54.0,83.0,54.0,66.0,69.0,56.0,188.0,193.0,83.0,100.0,87.0,156.0,196.0,188.0,79.0,124.0,75.0,171.0,78.0,193.0,82.0,84.0,68.0,196.0,78.0,142.0,193.0,166.0,156.0,142.0,156.0,52.0,62.0,142.0,82.0,74.0,70.0,44.0,66.0,78.0,193.0,93.0,44.0,61.0,55.0,71.0,72.0,null,48.0,174.0,193.0,193.0,98.0,142.0,43.0,193.0,66.0,54.0,null,59.0,71.0,124.0,196.0,84.0,72.0,40.0,58.0,193.0,27.0,70.0,94.0,72.0,74.0,52.0,null,100.0,42.0,54.0,68.0,75.0,81.0,193.0,59.0,53.0,90.0,73.0,100.0,51.0,82.0,100.0,61.0,124.0,72.0,76.0,46.0,null,193.0,95.0,62.0,193.0,93.0,196.0,68.0,79.0,53.0,null,51.0,49.0,84.0,63.0,196.0,78.0,74.0,77.0,56.0,60.0,90.0,82.0,85.0,64.0,174.0,70.0,45.0,69.0,76.0,193.0,51.0,60.0,36.0,45.0,70.0,43.0,69.0,97.0,193.0,74.0,43.0,72.0,62.0,64.0,82.0,64.0,43.0,60.0,193.0,65.0,70.0,193.0,35.0,193.0,77.0,80.0,49.0,124.0,74.0,124.0,53.0,null,53.0,77.0,95.0,49.0,75.0,95.0,36.0,34.0,78.0,82.0,52.0,74.0,89.0,60.0,58.0,54.0,57.0,67.0,74.0,90.0,193.0,124.0,34.0,67.0,196.0,61.0,80.0,62.0,41.0,44.0,57.0,50.0,193.0,142.0,73.0,84.0,70.0,null,57.0,196.0,71.0,73.0,null,81.0,193.0,124.0,196.0,61.0,79.0,42.0,142.0,95.0,62.0,193.0,83.0,193.0,188.0,63.0,71.0,85.0,79.0,74.0,53.0,76.0,54.0,60.0,null,196.0,58.0,142.0,142.0,196.0,78.0,124.0,128.0,34.0,142.0,77.0,27.0,46.0,142.0,86.0,69.0,193.0,61.0,99.0,49.0,76.0,65.0,128.0,66.0,76.0,52.0,78.0,156.0,86.0,81.0,193.0,66.0,193.0,77.0,55.0,193.0,63.0,80.0,null,47.0,79.0,38.0,80.0,193.0,57.0,41.0,64.0,75.0,68.0,54.0,142.0,77.0,80.0,59.0,75.0,58.0,38.0,196.0,131.0,74.0,52.0,66.0,null,74.0,55.0,79.0,193.0,55.0,55.0,64.0,81.0,64.0,193.0,55.0,62.0,142.0,82.0,74.0,68.0,64.0,88.0,73.0,188.0,83.0,49.0,55.0,77.0,79.0,15.0,84.0,63.0,65.0,56.0,61.0,124.0,78.0,193.0,124.0,42.0,93.0,87.0,193.0,193.0,84.0,67.0,96.0,75.0,193.0,124.0,67.0,89.0,68.0,124.0,78.0,83.0,90.0,43.0,193.0,66.0,86.0,94.0,52.0,60.0,124.0,62.0,99.0,76.0,55.0,193.0,59.0,57.0,59.0,79.0,null,88.0,76.0,74.0,63.0,43.0,51.0,null,193.0,60.0,65.0,39.0,40.0,81.0,79.0,166.0,70.0,128.0,124.0,61.0,94.0,70.0,67.0,64.0,69.0,84.0,76.0,193.0,72.0,100.0,66.0,124.0,188.0,22.0,193.0,124.0,82.0,70.0,54.0,78.0,40.0,142.0,193.0,151.0,64.0,67.0,147.0,69.0,null,182.0,69.0,73.0,67.0,null,72.0,64.0,62.0,67.0,142.0,88.0,51.0,65.0,53.0,71.0,91.0,62.0,28.0,193.0,84.0,53.0,64.0,124.0,null,67.0,42.0,33.0,69.0,null,193.0,193.0,57.0,null,68.0,82.0,47.0,52.0,99.0,70.0,67.0,193.0,81.0,68.0,49.0,124.0,124.0,193.0,80.0,76.0,67.0,68.0,81.0,80.0,124.0,63.0,67.0,42.0,75.0,77.0,84.0,68.0,40.0,60.0,92.0,77.0,73.0,50.0,124.0,84.0,77.0,74.0,70.0,50.0,82.0,193.0,65.0,53.0,131.0,67.0,91.0,72.0,124.0,null,100.0,193.0,77.0,193.0,66.0,48.0,54.0,93.0,62.0,71.0,196.0,64.0,84.0,80.0,72.0,54.0,80.0,193.0,193.0,64.0,59.0,74.0,10.0,193.0,142.0,62.0,81.0,81.0,193.0,64.0,100.0,49.0,44.0,81.0,54.0,68.0,193.0,88.0,92.0,62.0,90.0,59.0,92.0,74.0,56.0,54.0,90.0,193.0,46.0,49.0,53.0,32.0,78.0,78.0,67.0,82.0,193.0,74.0,75.0,99.0,70.0,79.0,67.0,131.0,70.0,75.0,80.0,43.0,193.0,30.0,71.0,49.0,36.0,193.0,81.0,62.0,193.0,76.0],\"y0\":\" \",\"yaxis\":\"y\"}],                        {\"boxmode\":\"group\",\"legend\":{\"title\":{\"text\":\"subject\"},\"tracegroupgap\":0},\"margin\":{\"t\":60},\"template\":{\"data\":{\"bar\":[{\"error_x\":{\"color\":\"#2a3f5f\"},\"error_y\":{\"color\":\"#2a3f5f\"},\"marker\":{\"line\":{\"color\":\"#E5ECF6\",\"width\":0.5},\"pattern\":{\"fillmode\":\"overlay\",\"size\":10,\"solidity\":0.2}},\"type\":\"bar\"}],\"barpolar\":[{\"marker\":{\"line\":{\"color\":\"#E5ECF6\",\"width\":0.5},\"pattern\":{\"fillmode\":\"overlay\",\"size\":10,\"solidity\":0.2}},\"type\":\"barpolar\"}],\"carpet\":[{\"aaxis\":{\"endlinecolor\":\"#2a3f5f\",\"gridcolor\":\"white\",\"linecolor\":\"white\",\"minorgridcolor\":\"white\",\"startlinecolor\":\"#2a3f5f\"},\"baxis\":{\"endlinecolor\":\"#2a3f5f\",\"gridcolor\":\"white\",\"linecolor\":\"white\",\"minorgridcolor\":\"white\",\"startlinecolor\":\"#2a3f5f\"},\"type\":\"carpet\"}],\"choropleth\":[{\"colorbar\":{\"outlinewidth\":0,\"ticks\":\"\"},\"type\":\"choropleth\"}],\"contour\":[{\"colorbar\":{\"outlinewidth\":0,\"ticks\":\"\"},\"colorscale\":[[0.0,\"#0d0887\"],[0.1111111111111111,\"#46039f\"],[0.2222222222222222,\"#7201a8\"],[0.3333333333333333,\"#9c179e\"],[0.4444444444444444,\"#bd3786\"],[0.5555555555555556,\"#d8576b\"],[0.6666666666666666,\"#ed7953\"],[0.7777777777777778,\"#fb9f3a\"],[0.8888888888888888,\"#fdca26\"],[1.0,\"#f0f921\"]],\"type\":\"contour\"}],\"contourcarpet\":[{\"colorbar\":{\"outlinewidth\":0,\"ticks\":\"\"},\"type\":\"contourcarpet\"}],\"heatmap\":[{\"colorbar\":{\"outlinewidth\":0,\"ticks\":\"\"},\"colorscale\":[[0.0,\"#0d0887\"],[0.1111111111111111,\"#46039f\"],[0.2222222222222222,\"#7201a8\"],[0.3333333333333333,\"#9c179e\"],[0.4444444444444444,\"#bd3786\"],[0.5555555555555556,\"#d8576b\"],[0.6666666666666666,\"#ed7953\"],[0.7777777777777778,\"#fb9f3a\"],[0.8888888888888888,\"#fdca26\"],[1.0,\"#f0f921\"]],\"type\":\"heatmap\"}],\"heatmapgl\":[{\"colorbar\":{\"outlinewidth\":0,\"ticks\":\"\"},\"colorscale\":[[0.0,\"#0d0887\"],[0.1111111111111111,\"#46039f\"],[0.2222222222222222,\"#7201a8\"],[0.3333333333333333,\"#9c179e\"],[0.4444444444444444,\"#bd3786\"],[0.5555555555555556,\"#d8576b\"],[0.6666666666666666,\"#ed7953\"],[0.7777777777777778,\"#fb9f3a\"],[0.8888888888888888,\"#fdca26\"],[1.0,\"#f0f921\"]],\"type\":\"heatmapgl\"}],\"histogram\":[{\"marker\":{\"pattern\":{\"fillmode\":\"overlay\",\"size\":10,\"solidity\":0.2}},\"type\":\"histogram\"}],\"histogram2d\":[{\"colorbar\":{\"outlinewidth\":0,\"ticks\":\"\"},\"colorscale\":[[0.0,\"#0d0887\"],[0.1111111111111111,\"#46039f\"],[0.2222222222222222,\"#7201a8\"],[0.3333333333333333,\"#9c179e\"],[0.4444444444444444,\"#bd3786\"],[0.5555555555555556,\"#d8576b\"],[0.6666666666666666,\"#ed7953\"],[0.7777777777777778,\"#fb9f3a\"],[0.8888888888888888,\"#fdca26\"],[1.0,\"#f0f921\"]],\"type\":\"histogram2d\"}],\"histogram2dcontour\":[{\"colorbar\":{\"outlinewidth\":0,\"ticks\":\"\"},\"colorscale\":[[0.0,\"#0d0887\"],[0.1111111111111111,\"#46039f\"],[0.2222222222222222,\"#7201a8\"],[0.3333333333333333,\"#9c179e\"],[0.4444444444444444,\"#bd3786\"],[0.5555555555555556,\"#d8576b\"],[0.6666666666666666,\"#ed7953\"],[0.7777777777777778,\"#fb9f3a\"],[0.8888888888888888,\"#fdca26\"],[1.0,\"#f0f921\"]],\"type\":\"histogram2dcontour\"}],\"mesh3d\":[{\"colorbar\":{\"outlinewidth\":0,\"ticks\":\"\"},\"type\":\"mesh3d\"}],\"parcoords\":[{\"line\":{\"colorbar\":{\"outlinewidth\":0,\"ticks\":\"\"}},\"type\":\"parcoords\"}],\"pie\":[{\"automargin\":true,\"type\":\"pie\"}],\"scatter\":[{\"marker\":{\"colorbar\":{\"outlinewidth\":0,\"ticks\":\"\"}},\"type\":\"scatter\"}],\"scatter3d\":[{\"line\":{\"colorbar\":{\"outlinewidth\":0,\"ticks\":\"\"}},\"marker\":{\"colorbar\":{\"outlinewidth\":0,\"ticks\":\"\"}},\"type\":\"scatter3d\"}],\"scattercarpet\":[{\"marker\":{\"colorbar\":{\"outlinewidth\":0,\"ticks\":\"\"}},\"type\":\"scattercarpet\"}],\"scattergeo\":[{\"marker\":{\"colorbar\":{\"outlinewidth\":0,\"ticks\":\"\"}},\"type\":\"scattergeo\"}],\"scattergl\":[{\"marker\":{\"colorbar\":{\"outlinewidth\":0,\"ticks\":\"\"}},\"type\":\"scattergl\"}],\"scattermapbox\":[{\"marker\":{\"colorbar\":{\"outlinewidth\":0,\"ticks\":\"\"}},\"type\":\"scattermapbox\"}],\"scatterpolar\":[{\"marker\":{\"colorbar\":{\"outlinewidth\":0,\"ticks\":\"\"}},\"type\":\"scatterpolar\"}],\"scatterpolargl\":[{\"marker\":{\"colorbar\":{\"outlinewidth\":0,\"ticks\":\"\"}},\"type\":\"scatterpolargl\"}],\"scatterternary\":[{\"marker\":{\"colorbar\":{\"outlinewidth\":0,\"ticks\":\"\"}},\"type\":\"scatterternary\"}],\"surface\":[{\"colorbar\":{\"outlinewidth\":0,\"ticks\":\"\"},\"colorscale\":[[0.0,\"#0d0887\"],[0.1111111111111111,\"#46039f\"],[0.2222222222222222,\"#7201a8\"],[0.3333333333333333,\"#9c179e\"],[0.4444444444444444,\"#bd3786\"],[0.5555555555555556,\"#d8576b\"],[0.6666666666666666,\"#ed7953\"],[0.7777777777777778,\"#fb9f3a\"],[0.8888888888888888,\"#fdca26\"],[1.0,\"#f0f921\"]],\"type\":\"surface\"}],\"table\":[{\"cells\":{\"fill\":{\"color\":\"#EBF0F8\"},\"line\":{\"color\":\"white\"}},\"header\":{\"fill\":{\"color\":\"#C8D4E3\"},\"line\":{\"color\":\"white\"}},\"type\":\"table\"}]},\"layout\":{\"annotationdefaults\":{\"arrowcolor\":\"#2a3f5f\",\"arrowhead\":0,\"arrowwidth\":1},\"autotypenumbers\":\"strict\",\"coloraxis\":{\"colorbar\":{\"outlinewidth\":0,\"ticks\":\"\"}},\"colorscale\":{\"diverging\":[[0,\"#8e0152\"],[0.1,\"#c51b7d\"],[0.2,\"#de77ae\"],[0.3,\"#f1b6da\"],[0.4,\"#fde0ef\"],[0.5,\"#f7f7f7\"],[0.6,\"#e6f5d0\"],[0.7,\"#b8e186\"],[0.8,\"#7fbc41\"],[0.9,\"#4d9221\"],[1,\"#276419\"]],\"sequential\":[[0.0,\"#0d0887\"],[0.1111111111111111,\"#46039f\"],[0.2222222222222222,\"#7201a8\"],[0.3333333333333333,\"#9c179e\"],[0.4444444444444444,\"#bd3786\"],[0.5555555555555556,\"#d8576b\"],[0.6666666666666666,\"#ed7953\"],[0.7777777777777778,\"#fb9f3a\"],[0.8888888888888888,\"#fdca26\"],[1.0,\"#f0f921\"]],\"sequentialminus\":[[0.0,\"#0d0887\"],[0.1111111111111111,\"#46039f\"],[0.2222222222222222,\"#7201a8\"],[0.3333333333333333,\"#9c179e\"],[0.4444444444444444,\"#bd3786\"],[0.5555555555555556,\"#d8576b\"],[0.6666666666666666,\"#ed7953\"],[0.7777777777777778,\"#fb9f3a\"],[0.8888888888888888,\"#fdca26\"],[1.0,\"#f0f921\"]]},\"colorway\":[\"#636efa\",\"#EF553B\",\"#00cc96\",\"#ab63fa\",\"#FFA15A\",\"#19d3f3\",\"#FF6692\",\"#B6E880\",\"#FF97FF\",\"#FECB52\"],\"font\":{\"color\":\"#2a3f5f\"},\"geo\":{\"bgcolor\":\"white\",\"lakecolor\":\"white\",\"landcolor\":\"#E5ECF6\",\"showlakes\":true,\"showland\":true,\"subunitcolor\":\"white\"},\"hoverlabel\":{\"align\":\"left\"},\"hovermode\":\"closest\",\"mapbox\":{\"style\":\"light\"},\"paper_bgcolor\":\"white\",\"plot_bgcolor\":\"#E5ECF6\",\"polar\":{\"angularaxis\":{\"gridcolor\":\"white\",\"linecolor\":\"white\",\"ticks\":\"\"},\"bgcolor\":\"#E5ECF6\",\"radialaxis\":{\"gridcolor\":\"white\",\"linecolor\":\"white\",\"ticks\":\"\"}},\"scene\":{\"xaxis\":{\"backgroundcolor\":\"#E5ECF6\",\"gridcolor\":\"white\",\"gridwidth\":2,\"linecolor\":\"white\",\"showbackground\":true,\"ticks\":\"\",\"zerolinecolor\":\"white\"},\"yaxis\":{\"backgroundcolor\":\"#E5ECF6\",\"gridcolor\":\"white\",\"gridwidth\":2,\"linecolor\":\"white\",\"showbackground\":true,\"ticks\":\"\",\"zerolinecolor\":\"white\"},\"zaxis\":{\"backgroundcolor\":\"#E5ECF6\",\"gridcolor\":\"white\",\"gridwidth\":2,\"linecolor\":\"white\",\"showbackground\":true,\"ticks\":\"\",\"zerolinecolor\":\"white\"}},\"shapedefaults\":{\"line\":{\"color\":\"#2a3f5f\"}},\"ternary\":{\"aaxis\":{\"gridcolor\":\"white\",\"linecolor\":\"white\",\"ticks\":\"\"},\"baxis\":{\"gridcolor\":\"white\",\"linecolor\":\"white\",\"ticks\":\"\"},\"bgcolor\":\"#E5ECF6\",\"caxis\":{\"gridcolor\":\"white\",\"linecolor\":\"white\",\"ticks\":\"\"}},\"title\":{\"x\":0.05},\"xaxis\":{\"automargin\":true,\"gridcolor\":\"white\",\"linecolor\":\"white\",\"ticks\":\"\",\"title\":{\"standoff\":15},\"zerolinecolor\":\"white\",\"zerolinewidth\":2},\"yaxis\":{\"automargin\":true,\"gridcolor\":\"white\",\"linecolor\":\"white\",\"ticks\":\"\",\"title\":{\"standoff\":15},\"zerolinecolor\":\"white\",\"zerolinewidth\":2}}},\"xaxis\":{\"anchor\":\"y\",\"domain\":[0.0,1.0]},\"yaxis\":{\"anchor\":\"x\",\"domain\":[0.0,1.0],\"title\":{\"text\":\"score\"}}},                        {\"responsive\": true}                    ).then(function(){\n                            \nvar gd = document.getElementById('c29d6797-23b9-45a1-b905-5e2778425a29');\nvar x = new MutationObserver(function (mutations, observer) {{\n        var display = window.getComputedStyle(gd).display;\n        if (!display || display === 'none') {{\n            console.log([gd, 'removed!']);\n            Plotly.purge(gd);\n            observer.disconnect();\n        }}\n}});\n\n// Listen for the removal of the full notebook cells\nvar notebookContainer = gd.closest('#notebook-container');\nif (notebookContainer) {{\n    x.observe(notebookContainer, {childList: true});\n}}\n\n// Listen for the clearing of the current output cell\nvar outputEl = gd.closest('.output');\nif (outputEl) {{\n    x.observe(outputEl, {childList: true});\n}}\n\n                        })                };                            </script>        </div>\n</body>\n</html>"
          },
          "metadata": {},
          "output_type": "display_data"
        }
      ]
    },
    {
      "cell_type": "markdown",
      "source": [
        "## 1.2 Limpieza de Datos [1 punto]\n",
        "\n",
        "<p align=\"center\">\n",
        "  <img src=\"https://blogdatlas.files.wordpress.com/2020/07/datlas_mx_blog_limpieza_bds_data-scrubbing-service.gif\">\n",
        "</p>\n"
      ],
      "metadata": {
        "id": "YJfqPXFZjQiA",
        "cell_id": "00023-ff3bb417-54d5-425c-9dfc-d6bb2115277e",
        "deepnote_cell_type": "markdown",
        "deepnote_cell_height": 486
      }
    },
    {
      "cell_type": "markdown",
      "source": [
        "En base a lo realizado anteriormente, realice una limpieza de los dataset. Asuma los supuestos señalados en la pregunta anterior para limpiar el `DataFrame` y cree una función que le permita limpiar los datos. Una vez limpiado cada uno de los `DataFrames` compruebe nuevamente los datos con la función creada en la sección 1.1.\n",
        "\n",
        "**To-Do:**\n",
        "\n",
        "- [ ] Crear función que permita limpiar el dataset.\n",
        "- [ ] Comprobar que no existen anomalías en los datos a traves de la función de la sección 1.1.\n",
        "\n",
        "**Hint**\n",
        "\n",
        "Puede ser útil los métodos ```.drop_duplicates()``` y ```.dropna()``` como también utilizar queries con máscaras booleanas.\n"
      ],
      "metadata": {
        "id": "syO5lHKvv6Wt",
        "cell_id": "00024-a0d43035-41b5-4b1c-99c6-f93dc8847789",
        "deepnote_cell_type": "markdown",
        "deepnote_cell_height": 290.515625
      }
    },
    {
      "cell_type": "markdown",
      "source": [
        "**Respuesta:**"
      ],
      "metadata": {
        "tags": [],
        "cell_id": "00025-7728a191-b359-4030-ac04-3b7d9070c53d",
        "deepnote_cell_type": "markdown",
        "deepnote_cell_height": 52.390625,
        "id": "OVjmiafuDY6V"
      }
    },
    {
      "cell_type": "code",
      "source": [
        "def clean_data(dataframe):\n",
        "  '''\n",
        "  This function cleans the dataset from duplicated and NaN values.\n",
        "  ------------------------------------------------------------------\n",
        "  Inputs:\n",
        "    dataframe (pd.dataframe): the dataframe to be cleaned.\n",
        "  ------------------------------------------------------------------\n",
        "  Outputs:\n",
        "    clean_df (pd.dataframe): the cleaned dataframe.\n",
        "  '''\n",
        "  # Dropping NaN values\n",
        "  clean_df = dataframe.dropna()\n",
        "  # Dropping duplicates\n",
        "  clean_df = clean_df.drop_duplicates(subset=['names'])\n",
        "  # Dropping values outside [0, 100].\n",
        "  clean_df = clean_df[clean_df['math score'].between(0.0, 100.0)]\n",
        "  clean_df = clean_df[clean_df['reading score'].between(0.0, 100.0)]\n",
        "  clean_df = clean_df[clean_df['writing score'].between(0.0, 100.0)]\n",
        "\n",
        "  return clean_df "
      ],
      "metadata": {
        "id": "dMfK8SHycX8_"
      },
      "execution_count": null,
      "outputs": []
    },
    {
      "cell_type": "code",
      "metadata": {
        "colab": {
          "base_uri": "https://localhost:8080/",
          "height": 1000
        },
        "id": "Vl6MkQYHhXao",
        "outputId": "990b35c7-d879-4180-98fe-afec8c3a8413",
        "deepnote_to_be_reexecuted": false,
        "source_hash": "2f2b6eb",
        "execution_start": 1632493424310,
        "execution_millis": 73,
        "cell_id": "00027-afa227d9-32aa-49eb-9ae8-7c2fb625253a",
        "deepnote_cell_type": "code",
        "deepnote_cell_height": 115
      },
      "source": [
        "df_grades = clean_data(df_grades)\n",
        "exploratory_data_analysis(df_grades)"
      ],
      "execution_count": null,
      "outputs": [
        {
          "output_type": "stream",
          "name": "stdout",
          "text": [
            "1.- El Dataframe tiene 901 filas y 9 columnas\n",
            "\n",
            "2.- El Dataframe esta compuesto por las siguientes columnas:  ['names', 'gender', 'race/ethnicity', 'parental level of education', 'lunch', 'test preparation course', 'math score', 'reading score', 'writing score'] \n",
            "\n",
            "3.- Ejemplos de filas: \n",
            "\n",
            "Primeras 5 filas:\n"
          ]
        },
        {
          "output_type": "display_data",
          "data": {
            "text/plain": [
              "              names  gender race/ethnicity parental level of education  \\\n",
              "0     Rita Courtney  female        group B            some high school   \n",
              "3  Charles Linstrom    male        group A           bachelor's degree   \n",
              "5       Brian Young    male        group C            some high school   \n",
              "6    Howard Jimenez    male        group E            some high school   \n",
              "7      Wayne Wilson    male        group B            some high school   \n",
              "\n",
              "      lunch test preparation course  math score  reading score  writing score  \n",
              "0  standard                    none        37.0           46.0           46.0  \n",
              "3  standard               completed        80.0           78.0           81.0  \n",
              "5  standard                    none        73.0           66.0           63.0  \n",
              "6  standard               completed        81.0           75.0           76.0  \n",
              "7  standard               completed        94.0           86.0           87.0  "
            ],
            "text/html": [
              "\n",
              "  <div id=\"df-b240e9e3-2004-4f89-835d-9bb3a963d55f\">\n",
              "    <div class=\"colab-df-container\">\n",
              "      <div>\n",
              "<style scoped>\n",
              "    .dataframe tbody tr th:only-of-type {\n",
              "        vertical-align: middle;\n",
              "    }\n",
              "\n",
              "    .dataframe tbody tr th {\n",
              "        vertical-align: top;\n",
              "    }\n",
              "\n",
              "    .dataframe thead th {\n",
              "        text-align: right;\n",
              "    }\n",
              "</style>\n",
              "<table border=\"1\" class=\"dataframe\">\n",
              "  <thead>\n",
              "    <tr style=\"text-align: right;\">\n",
              "      <th></th>\n",
              "      <th>names</th>\n",
              "      <th>gender</th>\n",
              "      <th>race/ethnicity</th>\n",
              "      <th>parental level of education</th>\n",
              "      <th>lunch</th>\n",
              "      <th>test preparation course</th>\n",
              "      <th>math score</th>\n",
              "      <th>reading score</th>\n",
              "      <th>writing score</th>\n",
              "    </tr>\n",
              "  </thead>\n",
              "  <tbody>\n",
              "    <tr>\n",
              "      <th>0</th>\n",
              "      <td>Rita Courtney</td>\n",
              "      <td>female</td>\n",
              "      <td>group B</td>\n",
              "      <td>some high school</td>\n",
              "      <td>standard</td>\n",
              "      <td>none</td>\n",
              "      <td>37.0</td>\n",
              "      <td>46.0</td>\n",
              "      <td>46.0</td>\n",
              "    </tr>\n",
              "    <tr>\n",
              "      <th>3</th>\n",
              "      <td>Charles Linstrom</td>\n",
              "      <td>male</td>\n",
              "      <td>group A</td>\n",
              "      <td>bachelor's degree</td>\n",
              "      <td>standard</td>\n",
              "      <td>completed</td>\n",
              "      <td>80.0</td>\n",
              "      <td>78.0</td>\n",
              "      <td>81.0</td>\n",
              "    </tr>\n",
              "    <tr>\n",
              "      <th>5</th>\n",
              "      <td>Brian Young</td>\n",
              "      <td>male</td>\n",
              "      <td>group C</td>\n",
              "      <td>some high school</td>\n",
              "      <td>standard</td>\n",
              "      <td>none</td>\n",
              "      <td>73.0</td>\n",
              "      <td>66.0</td>\n",
              "      <td>63.0</td>\n",
              "    </tr>\n",
              "    <tr>\n",
              "      <th>6</th>\n",
              "      <td>Howard Jimenez</td>\n",
              "      <td>male</td>\n",
              "      <td>group E</td>\n",
              "      <td>some high school</td>\n",
              "      <td>standard</td>\n",
              "      <td>completed</td>\n",
              "      <td>81.0</td>\n",
              "      <td>75.0</td>\n",
              "      <td>76.0</td>\n",
              "    </tr>\n",
              "    <tr>\n",
              "      <th>7</th>\n",
              "      <td>Wayne Wilson</td>\n",
              "      <td>male</td>\n",
              "      <td>group B</td>\n",
              "      <td>some high school</td>\n",
              "      <td>standard</td>\n",
              "      <td>completed</td>\n",
              "      <td>94.0</td>\n",
              "      <td>86.0</td>\n",
              "      <td>87.0</td>\n",
              "    </tr>\n",
              "  </tbody>\n",
              "</table>\n",
              "</div>\n",
              "      <button class=\"colab-df-convert\" onclick=\"convertToInteractive('df-b240e9e3-2004-4f89-835d-9bb3a963d55f')\"\n",
              "              title=\"Convert this dataframe to an interactive table.\"\n",
              "              style=\"display:none;\">\n",
              "        \n",
              "  <svg xmlns=\"http://www.w3.org/2000/svg\" height=\"24px\"viewBox=\"0 0 24 24\"\n",
              "       width=\"24px\">\n",
              "    <path d=\"M0 0h24v24H0V0z\" fill=\"none\"/>\n",
              "    <path d=\"M18.56 5.44l.94 2.06.94-2.06 2.06-.94-2.06-.94-.94-2.06-.94 2.06-2.06.94zm-11 1L8.5 8.5l.94-2.06 2.06-.94-2.06-.94L8.5 2.5l-.94 2.06-2.06.94zm10 10l.94 2.06.94-2.06 2.06-.94-2.06-.94-.94-2.06-.94 2.06-2.06.94z\"/><path d=\"M17.41 7.96l-1.37-1.37c-.4-.4-.92-.59-1.43-.59-.52 0-1.04.2-1.43.59L10.3 9.45l-7.72 7.72c-.78.78-.78 2.05 0 2.83L4 21.41c.39.39.9.59 1.41.59.51 0 1.02-.2 1.41-.59l7.78-7.78 2.81-2.81c.8-.78.8-2.07 0-2.86zM5.41 20L4 18.59l7.72-7.72 1.47 1.35L5.41 20z\"/>\n",
              "  </svg>\n",
              "      </button>\n",
              "      \n",
              "  <style>\n",
              "    .colab-df-container {\n",
              "      display:flex;\n",
              "      flex-wrap:wrap;\n",
              "      gap: 12px;\n",
              "    }\n",
              "\n",
              "    .colab-df-convert {\n",
              "      background-color: #E8F0FE;\n",
              "      border: none;\n",
              "      border-radius: 50%;\n",
              "      cursor: pointer;\n",
              "      display: none;\n",
              "      fill: #1967D2;\n",
              "      height: 32px;\n",
              "      padding: 0 0 0 0;\n",
              "      width: 32px;\n",
              "    }\n",
              "\n",
              "    .colab-df-convert:hover {\n",
              "      background-color: #E2EBFA;\n",
              "      box-shadow: 0px 1px 2px rgba(60, 64, 67, 0.3), 0px 1px 3px 1px rgba(60, 64, 67, 0.15);\n",
              "      fill: #174EA6;\n",
              "    }\n",
              "\n",
              "    [theme=dark] .colab-df-convert {\n",
              "      background-color: #3B4455;\n",
              "      fill: #D2E3FC;\n",
              "    }\n",
              "\n",
              "    [theme=dark] .colab-df-convert:hover {\n",
              "      background-color: #434B5C;\n",
              "      box-shadow: 0px 1px 3px 1px rgba(0, 0, 0, 0.15);\n",
              "      filter: drop-shadow(0px 1px 2px rgba(0, 0, 0, 0.3));\n",
              "      fill: #FFFFFF;\n",
              "    }\n",
              "  </style>\n",
              "\n",
              "      <script>\n",
              "        const buttonEl =\n",
              "          document.querySelector('#df-b240e9e3-2004-4f89-835d-9bb3a963d55f button.colab-df-convert');\n",
              "        buttonEl.style.display =\n",
              "          google.colab.kernel.accessAllowed ? 'block' : 'none';\n",
              "\n",
              "        async function convertToInteractive(key) {\n",
              "          const element = document.querySelector('#df-b240e9e3-2004-4f89-835d-9bb3a963d55f');\n",
              "          const dataTable =\n",
              "            await google.colab.kernel.invokeFunction('convertToInteractive',\n",
              "                                                     [key], {});\n",
              "          if (!dataTable) return;\n",
              "\n",
              "          const docLinkHtml = 'Like what you see? Visit the ' +\n",
              "            '<a target=\"_blank\" href=https://colab.research.google.com/notebooks/data_table.ipynb>data table notebook</a>'\n",
              "            + ' to learn more about interactive tables.';\n",
              "          element.innerHTML = '';\n",
              "          dataTable['output_type'] = 'display_data';\n",
              "          await google.colab.output.renderOutput(dataTable, element);\n",
              "          const docLink = document.createElement('div');\n",
              "          docLink.innerHTML = docLinkHtml;\n",
              "          element.appendChild(docLink);\n",
              "        }\n",
              "      </script>\n",
              "    </div>\n",
              "  </div>\n",
              "  "
            ]
          },
          "metadata": {}
        },
        {
          "output_type": "stream",
          "name": "stdout",
          "text": [
            "\n",
            "Últimas 5 filas:\n"
          ]
        },
        {
          "output_type": "display_data",
          "data": {
            "text/plain": [
              "               names  gender race/ethnicity parental level of education  \\\n",
              "1392   Richard Young    male        group D                 high school   \n",
              "1394   Wanda Russell  female        group B                 high school   \n",
              "1396  Marina Zeigler  female        group C           bachelor's degree   \n",
              "1397   Laurie Carter  female        group B            some high school   \n",
              "1399    Amanda Perez  female        group A                 high school   \n",
              "\n",
              "             lunch test preparation course  math score  reading score  \\\n",
              "1392      standard                    none        69.0           75.0   \n",
              "1394  free/reduced               completed        23.0           44.0   \n",
              "1396  free/reduced               completed        66.0           74.0   \n",
              "1397      standard               completed        54.0           61.0   \n",
              "1399      standard               completed        68.0           80.0   \n",
              "\n",
              "      writing score  \n",
              "1392           71.0  \n",
              "1394           36.0  \n",
              "1396           81.0  \n",
              "1397           62.0  \n",
              "1399           76.0  "
            ],
            "text/html": [
              "\n",
              "  <div id=\"df-1af52da5-e287-46d9-b9dd-ef7889c0016d\">\n",
              "    <div class=\"colab-df-container\">\n",
              "      <div>\n",
              "<style scoped>\n",
              "    .dataframe tbody tr th:only-of-type {\n",
              "        vertical-align: middle;\n",
              "    }\n",
              "\n",
              "    .dataframe tbody tr th {\n",
              "        vertical-align: top;\n",
              "    }\n",
              "\n",
              "    .dataframe thead th {\n",
              "        text-align: right;\n",
              "    }\n",
              "</style>\n",
              "<table border=\"1\" class=\"dataframe\">\n",
              "  <thead>\n",
              "    <tr style=\"text-align: right;\">\n",
              "      <th></th>\n",
              "      <th>names</th>\n",
              "      <th>gender</th>\n",
              "      <th>race/ethnicity</th>\n",
              "      <th>parental level of education</th>\n",
              "      <th>lunch</th>\n",
              "      <th>test preparation course</th>\n",
              "      <th>math score</th>\n",
              "      <th>reading score</th>\n",
              "      <th>writing score</th>\n",
              "    </tr>\n",
              "  </thead>\n",
              "  <tbody>\n",
              "    <tr>\n",
              "      <th>1392</th>\n",
              "      <td>Richard Young</td>\n",
              "      <td>male</td>\n",
              "      <td>group D</td>\n",
              "      <td>high school</td>\n",
              "      <td>standard</td>\n",
              "      <td>none</td>\n",
              "      <td>69.0</td>\n",
              "      <td>75.0</td>\n",
              "      <td>71.0</td>\n",
              "    </tr>\n",
              "    <tr>\n",
              "      <th>1394</th>\n",
              "      <td>Wanda Russell</td>\n",
              "      <td>female</td>\n",
              "      <td>group B</td>\n",
              "      <td>high school</td>\n",
              "      <td>free/reduced</td>\n",
              "      <td>completed</td>\n",
              "      <td>23.0</td>\n",
              "      <td>44.0</td>\n",
              "      <td>36.0</td>\n",
              "    </tr>\n",
              "    <tr>\n",
              "      <th>1396</th>\n",
              "      <td>Marina Zeigler</td>\n",
              "      <td>female</td>\n",
              "      <td>group C</td>\n",
              "      <td>bachelor's degree</td>\n",
              "      <td>free/reduced</td>\n",
              "      <td>completed</td>\n",
              "      <td>66.0</td>\n",
              "      <td>74.0</td>\n",
              "      <td>81.0</td>\n",
              "    </tr>\n",
              "    <tr>\n",
              "      <th>1397</th>\n",
              "      <td>Laurie Carter</td>\n",
              "      <td>female</td>\n",
              "      <td>group B</td>\n",
              "      <td>some high school</td>\n",
              "      <td>standard</td>\n",
              "      <td>completed</td>\n",
              "      <td>54.0</td>\n",
              "      <td>61.0</td>\n",
              "      <td>62.0</td>\n",
              "    </tr>\n",
              "    <tr>\n",
              "      <th>1399</th>\n",
              "      <td>Amanda Perez</td>\n",
              "      <td>female</td>\n",
              "      <td>group A</td>\n",
              "      <td>high school</td>\n",
              "      <td>standard</td>\n",
              "      <td>completed</td>\n",
              "      <td>68.0</td>\n",
              "      <td>80.0</td>\n",
              "      <td>76.0</td>\n",
              "    </tr>\n",
              "  </tbody>\n",
              "</table>\n",
              "</div>\n",
              "      <button class=\"colab-df-convert\" onclick=\"convertToInteractive('df-1af52da5-e287-46d9-b9dd-ef7889c0016d')\"\n",
              "              title=\"Convert this dataframe to an interactive table.\"\n",
              "              style=\"display:none;\">\n",
              "        \n",
              "  <svg xmlns=\"http://www.w3.org/2000/svg\" height=\"24px\"viewBox=\"0 0 24 24\"\n",
              "       width=\"24px\">\n",
              "    <path d=\"M0 0h24v24H0V0z\" fill=\"none\"/>\n",
              "    <path d=\"M18.56 5.44l.94 2.06.94-2.06 2.06-.94-2.06-.94-.94-2.06-.94 2.06-2.06.94zm-11 1L8.5 8.5l.94-2.06 2.06-.94-2.06-.94L8.5 2.5l-.94 2.06-2.06.94zm10 10l.94 2.06.94-2.06 2.06-.94-2.06-.94-.94-2.06-.94 2.06-2.06.94z\"/><path d=\"M17.41 7.96l-1.37-1.37c-.4-.4-.92-.59-1.43-.59-.52 0-1.04.2-1.43.59L10.3 9.45l-7.72 7.72c-.78.78-.78 2.05 0 2.83L4 21.41c.39.39.9.59 1.41.59.51 0 1.02-.2 1.41-.59l7.78-7.78 2.81-2.81c.8-.78.8-2.07 0-2.86zM5.41 20L4 18.59l7.72-7.72 1.47 1.35L5.41 20z\"/>\n",
              "  </svg>\n",
              "      </button>\n",
              "      \n",
              "  <style>\n",
              "    .colab-df-container {\n",
              "      display:flex;\n",
              "      flex-wrap:wrap;\n",
              "      gap: 12px;\n",
              "    }\n",
              "\n",
              "    .colab-df-convert {\n",
              "      background-color: #E8F0FE;\n",
              "      border: none;\n",
              "      border-radius: 50%;\n",
              "      cursor: pointer;\n",
              "      display: none;\n",
              "      fill: #1967D2;\n",
              "      height: 32px;\n",
              "      padding: 0 0 0 0;\n",
              "      width: 32px;\n",
              "    }\n",
              "\n",
              "    .colab-df-convert:hover {\n",
              "      background-color: #E2EBFA;\n",
              "      box-shadow: 0px 1px 2px rgba(60, 64, 67, 0.3), 0px 1px 3px 1px rgba(60, 64, 67, 0.15);\n",
              "      fill: #174EA6;\n",
              "    }\n",
              "\n",
              "    [theme=dark] .colab-df-convert {\n",
              "      background-color: #3B4455;\n",
              "      fill: #D2E3FC;\n",
              "    }\n",
              "\n",
              "    [theme=dark] .colab-df-convert:hover {\n",
              "      background-color: #434B5C;\n",
              "      box-shadow: 0px 1px 3px 1px rgba(0, 0, 0, 0.15);\n",
              "      filter: drop-shadow(0px 1px 2px rgba(0, 0, 0, 0.3));\n",
              "      fill: #FFFFFF;\n",
              "    }\n",
              "  </style>\n",
              "\n",
              "      <script>\n",
              "        const buttonEl =\n",
              "          document.querySelector('#df-1af52da5-e287-46d9-b9dd-ef7889c0016d button.colab-df-convert');\n",
              "        buttonEl.style.display =\n",
              "          google.colab.kernel.accessAllowed ? 'block' : 'none';\n",
              "\n",
              "        async function convertToInteractive(key) {\n",
              "          const element = document.querySelector('#df-1af52da5-e287-46d9-b9dd-ef7889c0016d');\n",
              "          const dataTable =\n",
              "            await google.colab.kernel.invokeFunction('convertToInteractive',\n",
              "                                                     [key], {});\n",
              "          if (!dataTable) return;\n",
              "\n",
              "          const docLinkHtml = 'Like what you see? Visit the ' +\n",
              "            '<a target=\"_blank\" href=https://colab.research.google.com/notebooks/data_table.ipynb>data table notebook</a>'\n",
              "            + ' to learn more about interactive tables.';\n",
              "          element.innerHTML = '';\n",
              "          dataTable['output_type'] = 'display_data';\n",
              "          await google.colab.output.renderOutput(dataTable, element);\n",
              "          const docLink = document.createElement('div');\n",
              "          docLink.innerHTML = docLinkHtml;\n",
              "          element.appendChild(docLink);\n",
              "        }\n",
              "      </script>\n",
              "    </div>\n",
              "  </div>\n",
              "  "
            ]
          },
          "metadata": {}
        },
        {
          "output_type": "stream",
          "name": "stdout",
          "text": [
            "\n",
            "Muestreo aleatorio de 5 filas:\n"
          ]
        },
        {
          "output_type": "display_data",
          "data": {
            "text/plain": [
              "                  names  gender race/ethnicity parental level of education  \\\n",
              "1138      Lucy Thompson  female        group B                some college   \n",
              "1266     Gladys Kennedy  female        group A            some high school   \n",
              "384   Elizabeth Beasley  female        group E           bachelor's degree   \n",
              "946       John Gonzales    male        group B            some high school   \n",
              "73       Brenda Kitchin  female        group B            some high school   \n",
              "\n",
              "             lunch test preparation course  math score  reading score  \\\n",
              "1138  free/reduced               completed        53.0           66.0   \n",
              "1266  free/reduced                    none        59.0           73.0   \n",
              "384       standard                    none       100.0          100.0   \n",
              "946       standard               completed        61.0           56.0   \n",
              "73        standard                    none        73.0           79.0   \n",
              "\n",
              "      writing score  \n",
              "1138           73.0  \n",
              "1266           69.0  \n",
              "384           100.0  \n",
              "946            56.0  \n",
              "73             79.0  "
            ],
            "text/html": [
              "\n",
              "  <div id=\"df-3f6718c0-6d14-4039-bc48-c3b326a28cdf\">\n",
              "    <div class=\"colab-df-container\">\n",
              "      <div>\n",
              "<style scoped>\n",
              "    .dataframe tbody tr th:only-of-type {\n",
              "        vertical-align: middle;\n",
              "    }\n",
              "\n",
              "    .dataframe tbody tr th {\n",
              "        vertical-align: top;\n",
              "    }\n",
              "\n",
              "    .dataframe thead th {\n",
              "        text-align: right;\n",
              "    }\n",
              "</style>\n",
              "<table border=\"1\" class=\"dataframe\">\n",
              "  <thead>\n",
              "    <tr style=\"text-align: right;\">\n",
              "      <th></th>\n",
              "      <th>names</th>\n",
              "      <th>gender</th>\n",
              "      <th>race/ethnicity</th>\n",
              "      <th>parental level of education</th>\n",
              "      <th>lunch</th>\n",
              "      <th>test preparation course</th>\n",
              "      <th>math score</th>\n",
              "      <th>reading score</th>\n",
              "      <th>writing score</th>\n",
              "    </tr>\n",
              "  </thead>\n",
              "  <tbody>\n",
              "    <tr>\n",
              "      <th>1138</th>\n",
              "      <td>Lucy Thompson</td>\n",
              "      <td>female</td>\n",
              "      <td>group B</td>\n",
              "      <td>some college</td>\n",
              "      <td>free/reduced</td>\n",
              "      <td>completed</td>\n",
              "      <td>53.0</td>\n",
              "      <td>66.0</td>\n",
              "      <td>73.0</td>\n",
              "    </tr>\n",
              "    <tr>\n",
              "      <th>1266</th>\n",
              "      <td>Gladys Kennedy</td>\n",
              "      <td>female</td>\n",
              "      <td>group A</td>\n",
              "      <td>some high school</td>\n",
              "      <td>free/reduced</td>\n",
              "      <td>none</td>\n",
              "      <td>59.0</td>\n",
              "      <td>73.0</td>\n",
              "      <td>69.0</td>\n",
              "    </tr>\n",
              "    <tr>\n",
              "      <th>384</th>\n",
              "      <td>Elizabeth Beasley</td>\n",
              "      <td>female</td>\n",
              "      <td>group E</td>\n",
              "      <td>bachelor's degree</td>\n",
              "      <td>standard</td>\n",
              "      <td>none</td>\n",
              "      <td>100.0</td>\n",
              "      <td>100.0</td>\n",
              "      <td>100.0</td>\n",
              "    </tr>\n",
              "    <tr>\n",
              "      <th>946</th>\n",
              "      <td>John Gonzales</td>\n",
              "      <td>male</td>\n",
              "      <td>group B</td>\n",
              "      <td>some high school</td>\n",
              "      <td>standard</td>\n",
              "      <td>completed</td>\n",
              "      <td>61.0</td>\n",
              "      <td>56.0</td>\n",
              "      <td>56.0</td>\n",
              "    </tr>\n",
              "    <tr>\n",
              "      <th>73</th>\n",
              "      <td>Brenda Kitchin</td>\n",
              "      <td>female</td>\n",
              "      <td>group B</td>\n",
              "      <td>some high school</td>\n",
              "      <td>standard</td>\n",
              "      <td>none</td>\n",
              "      <td>73.0</td>\n",
              "      <td>79.0</td>\n",
              "      <td>79.0</td>\n",
              "    </tr>\n",
              "  </tbody>\n",
              "</table>\n",
              "</div>\n",
              "      <button class=\"colab-df-convert\" onclick=\"convertToInteractive('df-3f6718c0-6d14-4039-bc48-c3b326a28cdf')\"\n",
              "              title=\"Convert this dataframe to an interactive table.\"\n",
              "              style=\"display:none;\">\n",
              "        \n",
              "  <svg xmlns=\"http://www.w3.org/2000/svg\" height=\"24px\"viewBox=\"0 0 24 24\"\n",
              "       width=\"24px\">\n",
              "    <path d=\"M0 0h24v24H0V0z\" fill=\"none\"/>\n",
              "    <path d=\"M18.56 5.44l.94 2.06.94-2.06 2.06-.94-2.06-.94-.94-2.06-.94 2.06-2.06.94zm-11 1L8.5 8.5l.94-2.06 2.06-.94-2.06-.94L8.5 2.5l-.94 2.06-2.06.94zm10 10l.94 2.06.94-2.06 2.06-.94-2.06-.94-.94-2.06-.94 2.06-2.06.94z\"/><path d=\"M17.41 7.96l-1.37-1.37c-.4-.4-.92-.59-1.43-.59-.52 0-1.04.2-1.43.59L10.3 9.45l-7.72 7.72c-.78.78-.78 2.05 0 2.83L4 21.41c.39.39.9.59 1.41.59.51 0 1.02-.2 1.41-.59l7.78-7.78 2.81-2.81c.8-.78.8-2.07 0-2.86zM5.41 20L4 18.59l7.72-7.72 1.47 1.35L5.41 20z\"/>\n",
              "  </svg>\n",
              "      </button>\n",
              "      \n",
              "  <style>\n",
              "    .colab-df-container {\n",
              "      display:flex;\n",
              "      flex-wrap:wrap;\n",
              "      gap: 12px;\n",
              "    }\n",
              "\n",
              "    .colab-df-convert {\n",
              "      background-color: #E8F0FE;\n",
              "      border: none;\n",
              "      border-radius: 50%;\n",
              "      cursor: pointer;\n",
              "      display: none;\n",
              "      fill: #1967D2;\n",
              "      height: 32px;\n",
              "      padding: 0 0 0 0;\n",
              "      width: 32px;\n",
              "    }\n",
              "\n",
              "    .colab-df-convert:hover {\n",
              "      background-color: #E2EBFA;\n",
              "      box-shadow: 0px 1px 2px rgba(60, 64, 67, 0.3), 0px 1px 3px 1px rgba(60, 64, 67, 0.15);\n",
              "      fill: #174EA6;\n",
              "    }\n",
              "\n",
              "    [theme=dark] .colab-df-convert {\n",
              "      background-color: #3B4455;\n",
              "      fill: #D2E3FC;\n",
              "    }\n",
              "\n",
              "    [theme=dark] .colab-df-convert:hover {\n",
              "      background-color: #434B5C;\n",
              "      box-shadow: 0px 1px 3px 1px rgba(0, 0, 0, 0.15);\n",
              "      filter: drop-shadow(0px 1px 2px rgba(0, 0, 0, 0.3));\n",
              "      fill: #FFFFFF;\n",
              "    }\n",
              "  </style>\n",
              "\n",
              "      <script>\n",
              "        const buttonEl =\n",
              "          document.querySelector('#df-3f6718c0-6d14-4039-bc48-c3b326a28cdf button.colab-df-convert');\n",
              "        buttonEl.style.display =\n",
              "          google.colab.kernel.accessAllowed ? 'block' : 'none';\n",
              "\n",
              "        async function convertToInteractive(key) {\n",
              "          const element = document.querySelector('#df-3f6718c0-6d14-4039-bc48-c3b326a28cdf');\n",
              "          const dataTable =\n",
              "            await google.colab.kernel.invokeFunction('convertToInteractive',\n",
              "                                                     [key], {});\n",
              "          if (!dataTable) return;\n",
              "\n",
              "          const docLinkHtml = 'Like what you see? Visit the ' +\n",
              "            '<a target=\"_blank\" href=https://colab.research.google.com/notebooks/data_table.ipynb>data table notebook</a>'\n",
              "            + ' to learn more about interactive tables.';\n",
              "          element.innerHTML = '';\n",
              "          dataTable['output_type'] = 'display_data';\n",
              "          await google.colab.output.renderOutput(dataTable, element);\n",
              "          const docLink = document.createElement('div');\n",
              "          docLink.innerHTML = docLinkHtml;\n",
              "          element.appendChild(docLink);\n",
              "        }\n",
              "      </script>\n",
              "    </div>\n",
              "  </div>\n",
              "  "
            ]
          },
          "metadata": {}
        },
        {
          "output_type": "stream",
          "name": "stdout",
          "text": [
            "\n",
            "4.- Descripción numérica del Dataframe:\n"
          ]
        },
        {
          "output_type": "display_data",
          "data": {
            "text/plain": [
              "       math score  reading score  writing score\n",
              "count  901.000000     901.000000     901.000000\n",
              "mean    66.082131      69.102109      68.017758\n",
              "std     15.025235      14.529839      15.076461\n",
              "min      0.000000      17.000000      10.000000\n",
              "25%     57.000000      59.000000      57.000000\n",
              "50%     66.000000      70.000000      69.000000\n",
              "75%     76.000000      79.000000      78.000000\n",
              "max    100.000000     100.000000     100.000000"
            ],
            "text/html": [
              "\n",
              "  <div id=\"df-fda25e42-9d2c-42b4-9274-fde17556de23\">\n",
              "    <div class=\"colab-df-container\">\n",
              "      <div>\n",
              "<style scoped>\n",
              "    .dataframe tbody tr th:only-of-type {\n",
              "        vertical-align: middle;\n",
              "    }\n",
              "\n",
              "    .dataframe tbody tr th {\n",
              "        vertical-align: top;\n",
              "    }\n",
              "\n",
              "    .dataframe thead th {\n",
              "        text-align: right;\n",
              "    }\n",
              "</style>\n",
              "<table border=\"1\" class=\"dataframe\">\n",
              "  <thead>\n",
              "    <tr style=\"text-align: right;\">\n",
              "      <th></th>\n",
              "      <th>math score</th>\n",
              "      <th>reading score</th>\n",
              "      <th>writing score</th>\n",
              "    </tr>\n",
              "  </thead>\n",
              "  <tbody>\n",
              "    <tr>\n",
              "      <th>count</th>\n",
              "      <td>901.000000</td>\n",
              "      <td>901.000000</td>\n",
              "      <td>901.000000</td>\n",
              "    </tr>\n",
              "    <tr>\n",
              "      <th>mean</th>\n",
              "      <td>66.082131</td>\n",
              "      <td>69.102109</td>\n",
              "      <td>68.017758</td>\n",
              "    </tr>\n",
              "    <tr>\n",
              "      <th>std</th>\n",
              "      <td>15.025235</td>\n",
              "      <td>14.529839</td>\n",
              "      <td>15.076461</td>\n",
              "    </tr>\n",
              "    <tr>\n",
              "      <th>min</th>\n",
              "      <td>0.000000</td>\n",
              "      <td>17.000000</td>\n",
              "      <td>10.000000</td>\n",
              "    </tr>\n",
              "    <tr>\n",
              "      <th>25%</th>\n",
              "      <td>57.000000</td>\n",
              "      <td>59.000000</td>\n",
              "      <td>57.000000</td>\n",
              "    </tr>\n",
              "    <tr>\n",
              "      <th>50%</th>\n",
              "      <td>66.000000</td>\n",
              "      <td>70.000000</td>\n",
              "      <td>69.000000</td>\n",
              "    </tr>\n",
              "    <tr>\n",
              "      <th>75%</th>\n",
              "      <td>76.000000</td>\n",
              "      <td>79.000000</td>\n",
              "      <td>78.000000</td>\n",
              "    </tr>\n",
              "    <tr>\n",
              "      <th>max</th>\n",
              "      <td>100.000000</td>\n",
              "      <td>100.000000</td>\n",
              "      <td>100.000000</td>\n",
              "    </tr>\n",
              "  </tbody>\n",
              "</table>\n",
              "</div>\n",
              "      <button class=\"colab-df-convert\" onclick=\"convertToInteractive('df-fda25e42-9d2c-42b4-9274-fde17556de23')\"\n",
              "              title=\"Convert this dataframe to an interactive table.\"\n",
              "              style=\"display:none;\">\n",
              "        \n",
              "  <svg xmlns=\"http://www.w3.org/2000/svg\" height=\"24px\"viewBox=\"0 0 24 24\"\n",
              "       width=\"24px\">\n",
              "    <path d=\"M0 0h24v24H0V0z\" fill=\"none\"/>\n",
              "    <path d=\"M18.56 5.44l.94 2.06.94-2.06 2.06-.94-2.06-.94-.94-2.06-.94 2.06-2.06.94zm-11 1L8.5 8.5l.94-2.06 2.06-.94-2.06-.94L8.5 2.5l-.94 2.06-2.06.94zm10 10l.94 2.06.94-2.06 2.06-.94-2.06-.94-.94-2.06-.94 2.06-2.06.94z\"/><path d=\"M17.41 7.96l-1.37-1.37c-.4-.4-.92-.59-1.43-.59-.52 0-1.04.2-1.43.59L10.3 9.45l-7.72 7.72c-.78.78-.78 2.05 0 2.83L4 21.41c.39.39.9.59 1.41.59.51 0 1.02-.2 1.41-.59l7.78-7.78 2.81-2.81c.8-.78.8-2.07 0-2.86zM5.41 20L4 18.59l7.72-7.72 1.47 1.35L5.41 20z\"/>\n",
              "  </svg>\n",
              "      </button>\n",
              "      \n",
              "  <style>\n",
              "    .colab-df-container {\n",
              "      display:flex;\n",
              "      flex-wrap:wrap;\n",
              "      gap: 12px;\n",
              "    }\n",
              "\n",
              "    .colab-df-convert {\n",
              "      background-color: #E8F0FE;\n",
              "      border: none;\n",
              "      border-radius: 50%;\n",
              "      cursor: pointer;\n",
              "      display: none;\n",
              "      fill: #1967D2;\n",
              "      height: 32px;\n",
              "      padding: 0 0 0 0;\n",
              "      width: 32px;\n",
              "    }\n",
              "\n",
              "    .colab-df-convert:hover {\n",
              "      background-color: #E2EBFA;\n",
              "      box-shadow: 0px 1px 2px rgba(60, 64, 67, 0.3), 0px 1px 3px 1px rgba(60, 64, 67, 0.15);\n",
              "      fill: #174EA6;\n",
              "    }\n",
              "\n",
              "    [theme=dark] .colab-df-convert {\n",
              "      background-color: #3B4455;\n",
              "      fill: #D2E3FC;\n",
              "    }\n",
              "\n",
              "    [theme=dark] .colab-df-convert:hover {\n",
              "      background-color: #434B5C;\n",
              "      box-shadow: 0px 1px 3px 1px rgba(0, 0, 0, 0.15);\n",
              "      filter: drop-shadow(0px 1px 2px rgba(0, 0, 0, 0.3));\n",
              "      fill: #FFFFFF;\n",
              "    }\n",
              "  </style>\n",
              "\n",
              "      <script>\n",
              "        const buttonEl =\n",
              "          document.querySelector('#df-fda25e42-9d2c-42b4-9274-fde17556de23 button.colab-df-convert');\n",
              "        buttonEl.style.display =\n",
              "          google.colab.kernel.accessAllowed ? 'block' : 'none';\n",
              "\n",
              "        async function convertToInteractive(key) {\n",
              "          const element = document.querySelector('#df-fda25e42-9d2c-42b4-9274-fde17556de23');\n",
              "          const dataTable =\n",
              "            await google.colab.kernel.invokeFunction('convertToInteractive',\n",
              "                                                     [key], {});\n",
              "          if (!dataTable) return;\n",
              "\n",
              "          const docLinkHtml = 'Like what you see? Visit the ' +\n",
              "            '<a target=\"_blank\" href=https://colab.research.google.com/notebooks/data_table.ipynb>data table notebook</a>'\n",
              "            + ' to learn more about interactive tables.';\n",
              "          element.innerHTML = '';\n",
              "          dataTable['output_type'] = 'display_data';\n",
              "          await google.colab.output.renderOutput(dataTable, element);\n",
              "          const docLink = document.createElement('div');\n",
              "          docLink.innerHTML = docLinkHtml;\n",
              "          element.appendChild(docLink);\n",
              "        }\n",
              "      </script>\n",
              "    </div>\n",
              "  </div>\n",
              "  "
            ]
          },
          "metadata": {}
        },
        {
          "output_type": "stream",
          "name": "stdout",
          "text": [
            "\n",
            "5.- Cantidad de valores nulo por columna\n"
          ]
        },
        {
          "output_type": "display_data",
          "data": {
            "text/plain": [
              "names                          0\n",
              "gender                         0\n",
              "race/ethnicity                 0\n",
              "parental level of education    0\n",
              "lunch                          0\n",
              "test preparation course        0\n",
              "math score                     0\n",
              "reading score                  0\n",
              "writing score                  0\n",
              "dtype: int64"
            ]
          },
          "metadata": {}
        },
        {
          "output_type": "stream",
          "name": "stdout",
          "text": [
            "\n",
            "6.- Cantidad de valores únicos por columna:\n"
          ]
        },
        {
          "output_type": "display_data",
          "data": {
            "text/plain": [
              "names                          901\n",
              "gender                           2\n",
              "race/ethnicity                   5\n",
              "parental level of education      6\n",
              "lunch                            2\n",
              "test preparation course          2\n",
              "math score                      79\n",
              "reading score                   72\n",
              "writing score                   77\n",
              "dtype: int64"
            ]
          },
          "metadata": {}
        },
        {
          "output_type": "stream",
          "name": "stdout",
          "text": [
            "\n",
            "7.- Presenta un total de 0 filas con nombres duplicados.\n",
            "\n",
            "8.- Las filas con nombres duplicados son:\n"
          ]
        },
        {
          "output_type": "display_data",
          "data": {
            "text/plain": [
              "Empty DataFrame\n",
              "Columns: [names, gender, race/ethnicity, parental level of education, lunch, test preparation course, math score, reading score, writing score]\n",
              "Index: []"
            ],
            "text/html": [
              "\n",
              "  <div id=\"df-5dc6cd67-7911-46bd-9436-a4ba06cd8914\">\n",
              "    <div class=\"colab-df-container\">\n",
              "      <div>\n",
              "<style scoped>\n",
              "    .dataframe tbody tr th:only-of-type {\n",
              "        vertical-align: middle;\n",
              "    }\n",
              "\n",
              "    .dataframe tbody tr th {\n",
              "        vertical-align: top;\n",
              "    }\n",
              "\n",
              "    .dataframe thead th {\n",
              "        text-align: right;\n",
              "    }\n",
              "</style>\n",
              "<table border=\"1\" class=\"dataframe\">\n",
              "  <thead>\n",
              "    <tr style=\"text-align: right;\">\n",
              "      <th></th>\n",
              "      <th>names</th>\n",
              "      <th>gender</th>\n",
              "      <th>race/ethnicity</th>\n",
              "      <th>parental level of education</th>\n",
              "      <th>lunch</th>\n",
              "      <th>test preparation course</th>\n",
              "      <th>math score</th>\n",
              "      <th>reading score</th>\n",
              "      <th>writing score</th>\n",
              "    </tr>\n",
              "  </thead>\n",
              "  <tbody>\n",
              "  </tbody>\n",
              "</table>\n",
              "</div>\n",
              "      <button class=\"colab-df-convert\" onclick=\"convertToInteractive('df-5dc6cd67-7911-46bd-9436-a4ba06cd8914')\"\n",
              "              title=\"Convert this dataframe to an interactive table.\"\n",
              "              style=\"display:none;\">\n",
              "        \n",
              "  <svg xmlns=\"http://www.w3.org/2000/svg\" height=\"24px\"viewBox=\"0 0 24 24\"\n",
              "       width=\"24px\">\n",
              "    <path d=\"M0 0h24v24H0V0z\" fill=\"none\"/>\n",
              "    <path d=\"M18.56 5.44l.94 2.06.94-2.06 2.06-.94-2.06-.94-.94-2.06-.94 2.06-2.06.94zm-11 1L8.5 8.5l.94-2.06 2.06-.94-2.06-.94L8.5 2.5l-.94 2.06-2.06.94zm10 10l.94 2.06.94-2.06 2.06-.94-2.06-.94-.94-2.06-.94 2.06-2.06.94z\"/><path d=\"M17.41 7.96l-1.37-1.37c-.4-.4-.92-.59-1.43-.59-.52 0-1.04.2-1.43.59L10.3 9.45l-7.72 7.72c-.78.78-.78 2.05 0 2.83L4 21.41c.39.39.9.59 1.41.59.51 0 1.02-.2 1.41-.59l7.78-7.78 2.81-2.81c.8-.78.8-2.07 0-2.86zM5.41 20L4 18.59l7.72-7.72 1.47 1.35L5.41 20z\"/>\n",
              "  </svg>\n",
              "      </button>\n",
              "      \n",
              "  <style>\n",
              "    .colab-df-container {\n",
              "      display:flex;\n",
              "      flex-wrap:wrap;\n",
              "      gap: 12px;\n",
              "    }\n",
              "\n",
              "    .colab-df-convert {\n",
              "      background-color: #E8F0FE;\n",
              "      border: none;\n",
              "      border-radius: 50%;\n",
              "      cursor: pointer;\n",
              "      display: none;\n",
              "      fill: #1967D2;\n",
              "      height: 32px;\n",
              "      padding: 0 0 0 0;\n",
              "      width: 32px;\n",
              "    }\n",
              "\n",
              "    .colab-df-convert:hover {\n",
              "      background-color: #E2EBFA;\n",
              "      box-shadow: 0px 1px 2px rgba(60, 64, 67, 0.3), 0px 1px 3px 1px rgba(60, 64, 67, 0.15);\n",
              "      fill: #174EA6;\n",
              "    }\n",
              "\n",
              "    [theme=dark] .colab-df-convert {\n",
              "      background-color: #3B4455;\n",
              "      fill: #D2E3FC;\n",
              "    }\n",
              "\n",
              "    [theme=dark] .colab-df-convert:hover {\n",
              "      background-color: #434B5C;\n",
              "      box-shadow: 0px 1px 3px 1px rgba(0, 0, 0, 0.15);\n",
              "      filter: drop-shadow(0px 1px 2px rgba(0, 0, 0, 0.3));\n",
              "      fill: #FFFFFF;\n",
              "    }\n",
              "  </style>\n",
              "\n",
              "      <script>\n",
              "        const buttonEl =\n",
              "          document.querySelector('#df-5dc6cd67-7911-46bd-9436-a4ba06cd8914 button.colab-df-convert');\n",
              "        buttonEl.style.display =\n",
              "          google.colab.kernel.accessAllowed ? 'block' : 'none';\n",
              "\n",
              "        async function convertToInteractive(key) {\n",
              "          const element = document.querySelector('#df-5dc6cd67-7911-46bd-9436-a4ba06cd8914');\n",
              "          const dataTable =\n",
              "            await google.colab.kernel.invokeFunction('convertToInteractive',\n",
              "                                                     [key], {});\n",
              "          if (!dataTable) return;\n",
              "\n",
              "          const docLinkHtml = 'Like what you see? Visit the ' +\n",
              "            '<a target=\"_blank\" href=https://colab.research.google.com/notebooks/data_table.ipynb>data table notebook</a>'\n",
              "            + ' to learn more about interactive tables.';\n",
              "          element.innerHTML = '';\n",
              "          dataTable['output_type'] = 'display_data';\n",
              "          await google.colab.output.renderOutput(dataTable, element);\n",
              "          const docLink = document.createElement('div');\n",
              "          docLink.innerHTML = docLinkHtml;\n",
              "          element.appendChild(docLink);\n",
              "        }\n",
              "      </script>\n",
              "    </div>\n",
              "  </div>\n",
              "  "
            ]
          },
          "metadata": {}
        },
        {
          "output_type": "stream",
          "name": "stdout",
          "text": [
            "\n",
            "9.- Boxplot de notas:\n"
          ]
        },
        {
          "output_type": "display_data",
          "data": {
            "text/html": [
              "<html>\n",
              "<head><meta charset=\"utf-8\" /></head>\n",
              "<body>\n",
              "    <div>            <script src=\"https://cdnjs.cloudflare.com/ajax/libs/mathjax/2.7.5/MathJax.js?config=TeX-AMS-MML_SVG\"></script><script type=\"text/javascript\">if (window.MathJax) {MathJax.Hub.Config({SVG: {font: \"STIX-Web\"}});}</script>                <script type=\"text/javascript\">window.PlotlyConfig = {MathJaxConfig: 'local'};</script>\n",
              "        <script src=\"https://cdn.plot.ly/plotly-2.11.1.min.js\"></script>                <div id=\"95aece35-539a-40c6-8c41-c63ed6573aa9\" class=\"plotly-graph-div\" style=\"height:525px; width:100%;\"></div>            <script type=\"text/javascript\">                                    window.PLOTLYENV=window.PLOTLYENV || {};                                    if (document.getElementById(\"95aece35-539a-40c6-8c41-c63ed6573aa9\")) {                    Plotly.newPlot(                        \"95aece35-539a-40c6-8c41-c63ed6573aa9\",                        [{\"alignmentgroup\":\"True\",\"hovertemplate\":\"subject=%{x}<br>score=%{y}<extra></extra>\",\"legendgroup\":\"math score\",\"marker\":{\"color\":\"#636efa\"},\"name\":\"math score\",\"notched\":false,\"offsetgroup\":\"math score\",\"orientation\":\"v\",\"showlegend\":true,\"x\":[\"math score\",\"math score\",\"math score\",\"math score\",\"math score\",\"math score\",\"math score\",\"math score\",\"math score\",\"math score\",\"math score\",\"math score\",\"math score\",\"math score\",\"math score\",\"math score\",\"math score\",\"math score\",\"math score\",\"math score\",\"math score\",\"math score\",\"math score\",\"math score\",\"math score\",\"math score\",\"math score\",\"math score\",\"math score\",\"math score\",\"math score\",\"math score\",\"math score\",\"math score\",\"math score\",\"math score\",\"math score\",\"math score\",\"math score\",\"math score\",\"math score\",\"math score\",\"math score\",\"math score\",\"math score\",\"math score\",\"math score\",\"math score\",\"math score\",\"math score\",\"math score\",\"math score\",\"math score\",\"math score\",\"math score\",\"math score\",\"math score\",\"math score\",\"math score\",\"math score\",\"math score\",\"math score\",\"math score\",\"math score\",\"math score\",\"math score\",\"math score\",\"math score\",\"math score\",\"math score\",\"math score\",\"math score\",\"math score\",\"math score\",\"math score\",\"math score\",\"math score\",\"math score\",\"math score\",\"math score\",\"math score\",\"math score\",\"math score\",\"math score\",\"math score\",\"math score\",\"math score\",\"math score\",\"math score\",\"math score\",\"math score\",\"math score\",\"math score\",\"math score\",\"math score\",\"math score\",\"math score\",\"math score\",\"math score\",\"math score\",\"math score\",\"math score\",\"math score\",\"math score\",\"math score\",\"math score\",\"math score\",\"math score\",\"math score\",\"math score\",\"math score\",\"math score\",\"math score\",\"math score\",\"math score\",\"math score\",\"math score\",\"math score\",\"math score\",\"math score\",\"math score\",\"math score\",\"math score\",\"math score\",\"math score\",\"math score\",\"math score\",\"math score\",\"math score\",\"math score\",\"math score\",\"math score\",\"math score\",\"math score\",\"math score\",\"math score\",\"math score\",\"math score\",\"math score\",\"math score\",\"math score\",\"math score\",\"math score\",\"math score\",\"math score\",\"math score\",\"math score\",\"math score\",\"math score\",\"math score\",\"math score\",\"math score\",\"math score\",\"math score\",\"math score\",\"math score\",\"math score\",\"math score\",\"math score\",\"math score\",\"math score\",\"math score\",\"math score\",\"math score\",\"math score\",\"math score\",\"math score\",\"math score\",\"math score\",\"math score\",\"math score\",\"math score\",\"math score\",\"math score\",\"math score\",\"math score\",\"math score\",\"math score\",\"math score\",\"math score\",\"math score\",\"math score\",\"math score\",\"math score\",\"math score\",\"math score\",\"math score\",\"math score\",\"math score\",\"math score\",\"math score\",\"math score\",\"math score\",\"math score\",\"math score\",\"math score\",\"math score\",\"math score\",\"math score\",\"math score\",\"math score\",\"math score\",\"math score\",\"math score\",\"math score\",\"math score\",\"math score\",\"math score\",\"math score\",\"math score\",\"math score\",\"math score\",\"math score\",\"math score\",\"math score\",\"math score\",\"math score\",\"math score\",\"math score\",\"math score\",\"math score\",\"math score\",\"math score\",\"math score\",\"math score\",\"math score\",\"math score\",\"math score\",\"math score\",\"math score\",\"math score\",\"math score\",\"math score\",\"math score\",\"math score\",\"math score\",\"math score\",\"math score\",\"math score\",\"math score\",\"math score\",\"math score\",\"math score\",\"math score\",\"math score\",\"math score\",\"math score\",\"math score\",\"math score\",\"math score\",\"math score\",\"math score\",\"math score\",\"math score\",\"math score\",\"math score\",\"math score\",\"math score\",\"math score\",\"math score\",\"math score\",\"math score\",\"math score\",\"math score\",\"math score\",\"math score\",\"math score\",\"math score\",\"math score\",\"math score\",\"math score\",\"math score\",\"math score\",\"math score\",\"math score\",\"math score\",\"math score\",\"math score\",\"math score\",\"math score\",\"math score\",\"math score\",\"math score\",\"math score\",\"math score\",\"math score\",\"math score\",\"math score\",\"math score\",\"math score\",\"math score\",\"math score\",\"math score\",\"math score\",\"math score\",\"math score\",\"math score\",\"math score\",\"math score\",\"math score\",\"math score\",\"math score\",\"math score\",\"math score\",\"math score\",\"math score\",\"math score\",\"math score\",\"math score\",\"math score\",\"math score\",\"math score\",\"math score\",\"math score\",\"math score\",\"math score\",\"math score\",\"math score\",\"math score\",\"math score\",\"math score\",\"math score\",\"math score\",\"math score\",\"math score\",\"math score\",\"math score\",\"math score\",\"math score\",\"math score\",\"math score\",\"math score\",\"math score\",\"math score\",\"math score\",\"math score\",\"math score\",\"math score\",\"math score\",\"math score\",\"math score\",\"math score\",\"math score\",\"math score\",\"math score\",\"math score\",\"math score\",\"math score\",\"math score\",\"math score\",\"math score\",\"math score\",\"math score\",\"math score\",\"math score\",\"math score\",\"math score\",\"math score\",\"math score\",\"math score\",\"math score\",\"math score\",\"math score\",\"math score\",\"math score\",\"math score\",\"math score\",\"math score\",\"math score\",\"math score\",\"math score\",\"math score\",\"math score\",\"math score\",\"math score\",\"math score\",\"math score\",\"math score\",\"math score\",\"math score\",\"math score\",\"math score\",\"math score\",\"math score\",\"math score\",\"math score\",\"math score\",\"math score\",\"math score\",\"math score\",\"math score\",\"math score\",\"math score\",\"math score\",\"math score\",\"math score\",\"math score\",\"math score\",\"math score\",\"math score\",\"math score\",\"math score\",\"math score\",\"math score\",\"math score\",\"math score\",\"math score\",\"math score\",\"math score\",\"math score\",\"math score\",\"math score\",\"math score\",\"math score\",\"math score\",\"math score\",\"math score\",\"math score\",\"math score\",\"math score\",\"math score\",\"math score\",\"math score\",\"math score\",\"math score\",\"math score\",\"math score\",\"math score\",\"math score\",\"math score\",\"math score\",\"math score\",\"math score\",\"math score\",\"math score\",\"math score\",\"math score\",\"math score\",\"math score\",\"math score\",\"math score\",\"math score\",\"math score\",\"math score\",\"math score\",\"math score\",\"math score\",\"math score\",\"math score\",\"math score\",\"math score\",\"math score\",\"math score\",\"math score\",\"math score\",\"math score\",\"math score\",\"math score\",\"math score\",\"math score\",\"math score\",\"math score\",\"math score\",\"math score\",\"math score\",\"math score\",\"math score\",\"math score\",\"math score\",\"math score\",\"math score\",\"math score\",\"math score\",\"math score\",\"math score\",\"math score\",\"math score\",\"math score\",\"math score\",\"math score\",\"math score\",\"math score\",\"math score\",\"math score\",\"math score\",\"math score\",\"math score\",\"math score\",\"math score\",\"math score\",\"math score\",\"math score\",\"math score\",\"math score\",\"math score\",\"math score\",\"math score\",\"math score\",\"math score\",\"math score\",\"math score\",\"math score\",\"math score\",\"math score\",\"math score\",\"math score\",\"math score\",\"math score\",\"math score\",\"math score\",\"math score\",\"math score\",\"math score\",\"math score\",\"math score\",\"math score\",\"math score\",\"math score\",\"math score\",\"math score\",\"math score\",\"math score\",\"math score\",\"math score\",\"math score\",\"math score\",\"math score\",\"math score\",\"math score\",\"math score\",\"math score\",\"math score\",\"math score\",\"math score\",\"math score\",\"math score\",\"math score\",\"math score\",\"math score\",\"math score\",\"math score\",\"math score\",\"math score\",\"math score\",\"math score\",\"math score\",\"math score\",\"math score\",\"math score\",\"math score\",\"math score\",\"math score\",\"math score\",\"math score\",\"math score\",\"math score\",\"math score\",\"math score\",\"math score\",\"math score\",\"math score\",\"math score\",\"math score\",\"math score\",\"math score\",\"math score\",\"math score\",\"math score\",\"math score\",\"math score\",\"math score\",\"math score\",\"math score\",\"math score\",\"math score\",\"math score\",\"math score\",\"math score\",\"math score\",\"math score\",\"math score\",\"math score\",\"math score\",\"math score\",\"math score\",\"math score\",\"math score\",\"math score\",\"math score\",\"math score\",\"math score\",\"math score\",\"math score\",\"math score\",\"math score\",\"math score\",\"math score\",\"math score\",\"math score\",\"math score\",\"math score\",\"math score\",\"math score\",\"math score\",\"math score\",\"math score\",\"math score\",\"math score\",\"math score\",\"math score\",\"math score\",\"math score\",\"math score\",\"math score\",\"math score\",\"math score\",\"math score\",\"math score\",\"math score\",\"math score\",\"math score\",\"math score\",\"math score\",\"math score\",\"math score\",\"math score\",\"math score\",\"math score\",\"math score\",\"math score\",\"math score\",\"math score\",\"math score\",\"math score\",\"math score\",\"math score\",\"math score\",\"math score\",\"math score\",\"math score\",\"math score\",\"math score\",\"math score\",\"math score\",\"math score\",\"math score\",\"math score\",\"math score\",\"math score\",\"math score\",\"math score\",\"math score\",\"math score\",\"math score\",\"math score\",\"math score\",\"math score\",\"math score\",\"math score\",\"math score\",\"math score\",\"math score\",\"math score\",\"math score\",\"math score\",\"math score\",\"math score\",\"math score\",\"math score\",\"math score\",\"math score\",\"math score\",\"math score\",\"math score\",\"math score\",\"math score\",\"math score\",\"math score\",\"math score\",\"math score\",\"math score\",\"math score\",\"math score\",\"math score\",\"math score\",\"math score\",\"math score\",\"math score\",\"math score\",\"math score\",\"math score\",\"math score\",\"math score\",\"math score\",\"math score\",\"math score\",\"math score\",\"math score\",\"math score\",\"math score\",\"math score\",\"math score\",\"math score\",\"math score\",\"math score\",\"math score\",\"math score\",\"math score\",\"math score\",\"math score\",\"math score\",\"math score\",\"math score\",\"math score\",\"math score\",\"math score\",\"math score\",\"math score\",\"math score\",\"math score\",\"math score\",\"math score\",\"math score\",\"math score\",\"math score\",\"math score\",\"math score\",\"math score\",\"math score\",\"math score\",\"math score\",\"math score\",\"math score\",\"math score\",\"math score\",\"math score\",\"math score\",\"math score\",\"math score\",\"math score\",\"math score\",\"math score\",\"math score\",\"math score\",\"math score\",\"math score\",\"math score\",\"math score\",\"math score\",\"math score\",\"math score\",\"math score\",\"math score\",\"math score\",\"math score\",\"math score\",\"math score\",\"math score\",\"math score\",\"math score\",\"math score\",\"math score\",\"math score\",\"math score\",\"math score\",\"math score\",\"math score\",\"math score\",\"math score\",\"math score\",\"math score\",\"math score\",\"math score\",\"math score\",\"math score\",\"math score\",\"math score\",\"math score\",\"math score\",\"math score\",\"math score\",\"math score\",\"math score\",\"math score\",\"math score\",\"math score\",\"math score\",\"math score\",\"math score\",\"math score\",\"math score\",\"math score\",\"math score\",\"math score\",\"math score\",\"math score\",\"math score\",\"math score\",\"math score\",\"math score\",\"math score\",\"math score\",\"math score\",\"math score\",\"math score\",\"math score\",\"math score\",\"math score\",\"math score\",\"math score\",\"math score\",\"math score\",\"math score\",\"math score\",\"math score\",\"math score\",\"math score\",\"math score\",\"math score\",\"math score\",\"math score\",\"math score\",\"math score\",\"math score\",\"math score\",\"math score\",\"math score\",\"math score\",\"math score\",\"math score\",\"math score\",\"math score\",\"math score\",\"math score\",\"math score\",\"math score\",\"math score\",\"math score\",\"math score\",\"math score\",\"math score\",\"math score\",\"math score\",\"math score\",\"math score\",\"math score\",\"math score\",\"math score\",\"math score\",\"math score\",\"math score\",\"math score\",\"math score\",\"math score\",\"math score\",\"math score\",\"math score\",\"math score\",\"math score\",\"math score\",\"math score\",\"math score\",\"math score\",\"math score\",\"math score\",\"math score\",\"math score\",\"math score\",\"math score\",\"math score\",\"math score\",\"math score\",\"math score\",\"math score\",\"math score\",\"math score\",\"math score\",\"math score\",\"math score\",\"math score\",\"math score\",\"math score\",\"math score\",\"math score\",\"math score\",\"math score\",\"math score\",\"math score\",\"math score\",\"math score\",\"math score\",\"math score\",\"math score\",\"math score\",\"math score\",\"math score\",\"math score\",\"math score\",\"math score\",\"math score\",\"math score\"],\"x0\":\" \",\"xaxis\":\"x\",\"y\":[37.0,80.0,73.0,81.0,94.0,71.0,75.0,34.0,63.0,94.0,65.0,52.0,62.0,74.0,62.0,73.0,46.0,82.0,63.0,64.0,80.0,93.0,69.0,46.0,86.0,59.0,84.0,64.0,73.0,83.0,75.0,69.0,68.0,57.0,66.0,61.0,40.0,50.0,48.0,36.0,78.0,57.0,69.0,40.0,92.0,35.0,63.0,73.0,63.0,52.0,73.0,63.0,71.0,45.0,85.0,80.0,77.0,91.0,60.0,63.0,40.0,57.0,58.0,97.0,81.0,68.0,59.0,96.0,87.0,57.0,94.0,97.0,65.0,82.0,72.0,62.0,44.0,82.0,75.0,59.0,75.0,72.0,68.0,66.0,67.0,93.0,69.0,63.0,46.0,66.0,62.0,48.0,71.0,54.0,80.0,55.0,90.0,94.0,81.0,53.0,61.0,75.0,74.0,62.0,70.0,60.0,59.0,62.0,53.0,80.0,69.0,69.0,69.0,49.0,83.0,65.0,73.0,68.0,64.0,65.0,49.0,58.0,66.0,65.0,65.0,70.0,79.0,50.0,64.0,68.0,32.0,68.0,58.0,19.0,69.0,72.0,53.0,61.0,78.0,53.0,45.0,44.0,83.0,65.0,88.0,88.0,91.0,84.0,51.0,38.0,47.0,66.0,61.0,60.0,71.0,45.0,77.0,53.0,57.0,72.0,76.0,45.0,99.0,51.0,64.0,52.0,80.0,51.0,50.0,64.0,74.0,71.0,57.0,69.0,77.0,75.0,43.0,80.0,59.0,85.0,55.0,44.0,42.0,58.0,61.0,50.0,88.0,73.0,67.0,97.0,61.0,62.0,54.0,66.0,78.0,85.0,84.0,76.0,44.0,81.0,54.0,58.0,81.0,72.0,71.0,61.0,66.0,71.0,71.0,89.0,73.0,81.0,46.0,22.0,48.0,44.0,91.0,76.0,77.0,62.0,67.0,86.0,58.0,53.0,57.0,69.0,76.0,62.0,37.0,88.0,90.0,68.0,65.0,63.0,52.0,48.0,65.0,54.0,29.0,26.0,70.0,75.0,60.0,98.0,93.0,59.0,46.0,76.0,79.0,28.0,55.0,61.0,35.0,94.0,46.0,100.0,67.0,50.0,79.0,71.0,83.0,55.0,48.0,76.0,77.0,62.0,56.0,68.0,84.0,80.0,62.0,60.0,64.0,29.0,52.0,53.0,67.0,82.0,56.0,79.0,73.0,66.0,52.0,73.0,66.0,84.0,74.0,76.0,81.0,79.0,68.0,63.0,50.0,72.0,85.0,83.0,84.0,65.0,85.0,70.0,58.0,86.0,64.0,65.0,61.0,49.0,53.0,97.0,75.0,72.0,74.0,59.0,68.0,78.0,53.0,72.0,99.0,79.0,91.0,83.0,72.0,61.0,73.0,59.0,100.0,61.0,77.0,71.0,49.0,62.0,86.0,75.0,47.0,63.0,70.0,68.0,61.0,71.0,81.0,100.0,77.0,53.0,71.0,73.0,65.0,49.0,52.0,65.0,59.0,80.0,62.0,57.0,46.0,58.0,67.0,73.0,72.0,40.0,78.0,63.0,61.0,79.0,77.0,70.0,53.0,45.0,40.0,82.0,78.0,75.0,70.0,55.0,70.0,30.0,75.0,63.0,82.0,74.0,54.0,71.0,73.0,77.0,77.0,87.0,87.0,74.0,67.0,43.0,49.0,49.0,53.0,64.0,61.0,79.0,69.0,54.0,65.0,77.0,58.0,49.0,73.0,54.0,54.0,64.0,59.0,76.0,85.0,97.0,53.0,52.0,77.0,79.0,57.0,87.0,66.0,63.0,65.0,68.0,55.0,72.0,86.0,97.0,75.0,52.0,74.0,70.0,39.0,61.0,44.0,87.0,66.0,68.0,62.0,81.0,70.0,74.0,76.0,59.0,68.0,73.0,100.0,8.0,65.0,40.0,48.0,89.0,77.0,65.0,69.0,68.0,49.0,62.0,50.0,56.0,46.0,60.0,91.0,90.0,73.0,70.0,47.0,65.0,81.0,55.0,93.0,65.0,62.0,48.0,68.0,66.0,55.0,42.0,74.0,37.0,66.0,88.0,69.0,61.0,39.0,87.0,64.0,44.0,59.0,80.0,71.0,53.0,78.0,55.0,70.0,65.0,86.0,47.0,54.0,41.0,83.0,90.0,59.0,65.0,67.0,89.0,59.0,73.0,74.0,86.0,61.0,57.0,58.0,45.0,63.0,61.0,67.0,94.0,56.0,62.0,70.0,70.0,76.0,64.0,47.0,66.0,40.0,66.0,68.0,51.0,45.0,88.0,90.0,52.0,49.0,53.0,71.0,50.0,58.0,42.0,67.0,39.0,85.0,78.0,73.0,68.0,89.0,40.0,82.0,77.0,69.0,79.0,53.0,43.0,58.0,88.0,69.0,85.0,69.0,72.0,57.0,58.0,62.0,75.0,88.0,81.0,67.0,67.0,74.0,71.0,85.0,56.0,82.0,60.0,63.0,50.0,81.0,87.0,46.0,58.0,62.0,76.0,60.0,50.0,77.0,64.0,61.0,60.0,67.0,64.0,90.0,59.0,53.0,48.0,60.0,82.0,58.0,60.0,66.0,85.0,49.0,77.0,67.0,69.0,50.0,62.0,83.0,81.0,70.0,72.0,92.0,51.0,87.0,71.0,88.0,82.0,71.0,75.0,51.0,62.0,75.0,63.0,71.0,67.0,71.0,61.0,56.0,98.0,82.0,75.0,59.0,71.0,44.0,77.0,65.0,57.0,60.0,27.0,58.0,70.0,38.0,42.0,100.0,89.0,35.0,77.0,62.0,79.0,46.0,59.0,66.0,47.0,77.0,78.0,52.0,70.0,58.0,68.0,69.0,87.0,52.0,72.0,85.0,41.0,61.0,67.0,54.0,63.0,52.0,62.0,58.0,62.0,65.0,74.0,79.0,68.0,63.0,52.0,59.0,55.0,66.0,74.0,91.0,64.0,74.0,81.0,79.0,90.0,54.0,78.0,88.0,62.0,80.0,80.0,71.0,75.0,60.0,88.0,55.0,50.0,42.0,69.0,42.0,58.0,24.0,67.0,59.0,59.0,96.0,45.0,88.0,72.0,61.0,81.0,73.0,79.0,47.0,49.0,54.0,71.0,59.0,89.0,59.0,57.0,47.0,77.0,77.0,60.0,76.0,32.0,73.0,49.0,76.0,64.0,63.0,50.0,44.0,66.0,67.0,61.0,69.0,65.0,53.0,87.0,53.0,66.0,49.0,67.0,55.0,30.0,73.0,62.0,79.0,63.0,52.0,58.0,78.0,74.0,68.0,82.0,73.0,59.0,74.0,84.0,67.0,59.0,87.0,77.0,58.0,69.0,65.0,92.0,87.0,69.0,73.0,61.0,67.0,69.0,74.0,64.0,56.0,36.0,41.0,49.0,59.0,84.0,76.0,61.0,62.0,67.0,54.0,59.0,68.0,91.0,96.0,68.0,74.0,71.0,35.0,81.0,53.0,80.0,76.0,63.0,57.0,58.0,72.0,55.0,80.0,41.0,51.0,85.0,81.0,52.0,18.0,73.0,63.0,59.0,63.0,63.0,80.0,60.0,64.0,98.0,59.0,65.0,87.0,66.0,52.0,73.0,87.0,79.0,69.0,47.0,47.0,92.0,57.0,88.0,79.0,59.0,71.0,81.0,65.0,82.0,65.0,40.0,73.0,56.0,69.0,67.0,91.0,67.0,65.0,58.0,55.0,48.0,53.0,85.0,62.0,65.0,82.0,62.0,63.0,77.0,50.0,69.0,0.0,65.0,69.0,72.0,100.0,65.0,47.0,51.0,71.0,82.0,55.0,75.0,66.0,72.0,70.0,57.0,84.0,61.0,45.0,65.0,27.0,88.0,65.0,63.0,78.0,65.0,90.0,100.0,67.0,74.0,76.0,66.0,59.0,62.0,41.0,29.0,69.0,23.0,66.0,54.0,68.0],\"y0\":\" \",\"yaxis\":\"y\",\"type\":\"box\"},{\"alignmentgroup\":\"True\",\"hovertemplate\":\"subject=%{x}<br>score=%{y}<extra></extra>\",\"legendgroup\":\"reading score\",\"marker\":{\"color\":\"#EF553B\"},\"name\":\"reading score\",\"notched\":false,\"offsetgroup\":\"reading score\",\"orientation\":\"v\",\"showlegend\":true,\"x\":[\"reading score\",\"reading score\",\"reading score\",\"reading score\",\"reading score\",\"reading score\",\"reading score\",\"reading score\",\"reading score\",\"reading score\",\"reading score\",\"reading score\",\"reading score\",\"reading score\",\"reading score\",\"reading score\",\"reading score\",\"reading score\",\"reading score\",\"reading score\",\"reading score\",\"reading score\",\"reading score\",\"reading score\",\"reading score\",\"reading score\",\"reading score\",\"reading score\",\"reading score\",\"reading score\",\"reading score\",\"reading score\",\"reading score\",\"reading score\",\"reading score\",\"reading score\",\"reading score\",\"reading score\",\"reading score\",\"reading score\",\"reading score\",\"reading score\",\"reading score\",\"reading score\",\"reading score\",\"reading score\",\"reading score\",\"reading score\",\"reading score\",\"reading score\",\"reading score\",\"reading score\",\"reading score\",\"reading score\",\"reading score\",\"reading score\",\"reading score\",\"reading score\",\"reading score\",\"reading score\",\"reading score\",\"reading score\",\"reading score\",\"reading score\",\"reading score\",\"reading score\",\"reading score\",\"reading score\",\"reading score\",\"reading score\",\"reading score\",\"reading score\",\"reading score\",\"reading score\",\"reading score\",\"reading score\",\"reading score\",\"reading score\",\"reading score\",\"reading score\",\"reading score\",\"reading score\",\"reading score\",\"reading score\",\"reading score\",\"reading score\",\"reading score\",\"reading score\",\"reading score\",\"reading score\",\"reading score\",\"reading score\",\"reading score\",\"reading score\",\"reading score\",\"reading score\",\"reading score\",\"reading score\",\"reading score\",\"reading score\",\"reading score\",\"reading score\",\"reading score\",\"reading score\",\"reading score\",\"reading score\",\"reading score\",\"reading score\",\"reading score\",\"reading score\",\"reading score\",\"reading score\",\"reading score\",\"reading score\",\"reading score\",\"reading score\",\"reading score\",\"reading score\",\"reading score\",\"reading score\",\"reading score\",\"reading score\",\"reading score\",\"reading score\",\"reading score\",\"reading score\",\"reading score\",\"reading score\",\"reading score\",\"reading score\",\"reading score\",\"reading score\",\"reading score\",\"reading score\",\"reading score\",\"reading score\",\"reading score\",\"reading score\",\"reading score\",\"reading score\",\"reading score\",\"reading score\",\"reading score\",\"reading score\",\"reading score\",\"reading score\",\"reading score\",\"reading score\",\"reading score\",\"reading score\",\"reading score\",\"reading score\",\"reading score\",\"reading score\",\"reading score\",\"reading score\",\"reading score\",\"reading score\",\"reading score\",\"reading score\",\"reading score\",\"reading score\",\"reading score\",\"reading score\",\"reading score\",\"reading score\",\"reading score\",\"reading score\",\"reading score\",\"reading score\",\"reading score\",\"reading score\",\"reading score\",\"reading score\",\"reading score\",\"reading score\",\"reading score\",\"reading score\",\"reading score\",\"reading score\",\"reading score\",\"reading score\",\"reading score\",\"reading score\",\"reading score\",\"reading score\",\"reading score\",\"reading score\",\"reading score\",\"reading score\",\"reading score\",\"reading score\",\"reading score\",\"reading score\",\"reading score\",\"reading score\",\"reading score\",\"reading score\",\"reading score\",\"reading score\",\"reading score\",\"reading score\",\"reading score\",\"reading score\",\"reading score\",\"reading score\",\"reading score\",\"reading score\",\"reading score\",\"reading score\",\"reading score\",\"reading score\",\"reading score\",\"reading score\",\"reading score\",\"reading score\",\"reading score\",\"reading score\",\"reading score\",\"reading score\",\"reading score\",\"reading score\",\"reading score\",\"reading score\",\"reading score\",\"reading score\",\"reading score\",\"reading score\",\"reading score\",\"reading score\",\"reading score\",\"reading score\",\"reading score\",\"reading score\",\"reading score\",\"reading score\",\"reading score\",\"reading score\",\"reading score\",\"reading score\",\"reading score\",\"reading score\",\"reading score\",\"reading score\",\"reading score\",\"reading score\",\"reading score\",\"reading score\",\"reading score\",\"reading score\",\"reading score\",\"reading score\",\"reading score\",\"reading score\",\"reading score\",\"reading score\",\"reading score\",\"reading score\",\"reading score\",\"reading score\",\"reading score\",\"reading score\",\"reading score\",\"reading score\",\"reading score\",\"reading score\",\"reading score\",\"reading score\",\"reading score\",\"reading score\",\"reading score\",\"reading score\",\"reading score\",\"reading score\",\"reading score\",\"reading score\",\"reading score\",\"reading score\",\"reading score\",\"reading score\",\"reading score\",\"reading score\",\"reading score\",\"reading score\",\"reading score\",\"reading score\",\"reading score\",\"reading score\",\"reading score\",\"reading score\",\"reading score\",\"reading score\",\"reading score\",\"reading score\",\"reading score\",\"reading score\",\"reading score\",\"reading score\",\"reading score\",\"reading score\",\"reading score\",\"reading score\",\"reading score\",\"reading score\",\"reading score\",\"reading score\",\"reading score\",\"reading score\",\"reading score\",\"reading score\",\"reading score\",\"reading score\",\"reading score\",\"reading score\",\"reading score\",\"reading score\",\"reading score\",\"reading score\",\"reading score\",\"reading score\",\"reading score\",\"reading score\",\"reading score\",\"reading score\",\"reading score\",\"reading score\",\"reading score\",\"reading score\",\"reading score\",\"reading score\",\"reading score\",\"reading score\",\"reading score\",\"reading score\",\"reading score\",\"reading score\",\"reading score\",\"reading score\",\"reading score\",\"reading score\",\"reading score\",\"reading score\",\"reading score\",\"reading score\",\"reading score\",\"reading score\",\"reading score\",\"reading score\",\"reading score\",\"reading score\",\"reading score\",\"reading score\",\"reading score\",\"reading score\",\"reading score\",\"reading score\",\"reading score\",\"reading score\",\"reading score\",\"reading score\",\"reading score\",\"reading score\",\"reading score\",\"reading score\",\"reading score\",\"reading score\",\"reading score\",\"reading score\",\"reading score\",\"reading score\",\"reading score\",\"reading score\",\"reading score\",\"reading score\",\"reading score\",\"reading score\",\"reading score\",\"reading score\",\"reading score\",\"reading score\",\"reading score\",\"reading score\",\"reading score\",\"reading score\",\"reading score\",\"reading score\",\"reading score\",\"reading score\",\"reading score\",\"reading score\",\"reading score\",\"reading score\",\"reading score\",\"reading score\",\"reading score\",\"reading score\",\"reading score\",\"reading score\",\"reading score\",\"reading score\",\"reading score\",\"reading score\",\"reading score\",\"reading score\",\"reading score\",\"reading score\",\"reading score\",\"reading score\",\"reading score\",\"reading score\",\"reading score\",\"reading score\",\"reading score\",\"reading score\",\"reading score\",\"reading score\",\"reading score\",\"reading score\",\"reading score\",\"reading score\",\"reading score\",\"reading score\",\"reading score\",\"reading score\",\"reading score\",\"reading score\",\"reading score\",\"reading score\",\"reading score\",\"reading score\",\"reading score\",\"reading score\",\"reading score\",\"reading score\",\"reading score\",\"reading score\",\"reading score\",\"reading score\",\"reading score\",\"reading score\",\"reading score\",\"reading score\",\"reading score\",\"reading score\",\"reading score\",\"reading score\",\"reading score\",\"reading score\",\"reading score\",\"reading score\",\"reading score\",\"reading score\",\"reading score\",\"reading score\",\"reading score\",\"reading score\",\"reading score\",\"reading score\",\"reading score\",\"reading score\",\"reading score\",\"reading score\",\"reading score\",\"reading score\",\"reading score\",\"reading score\",\"reading score\",\"reading score\",\"reading score\",\"reading score\",\"reading score\",\"reading score\",\"reading score\",\"reading score\",\"reading score\",\"reading score\",\"reading score\",\"reading score\",\"reading score\",\"reading score\",\"reading score\",\"reading score\",\"reading score\",\"reading score\",\"reading score\",\"reading score\",\"reading score\",\"reading score\",\"reading score\",\"reading score\",\"reading score\",\"reading score\",\"reading score\",\"reading score\",\"reading score\",\"reading score\",\"reading score\",\"reading score\",\"reading score\",\"reading score\",\"reading score\",\"reading score\",\"reading score\",\"reading score\",\"reading score\",\"reading score\",\"reading score\",\"reading score\",\"reading score\",\"reading score\",\"reading score\",\"reading score\",\"reading score\",\"reading score\",\"reading score\",\"reading score\",\"reading score\",\"reading score\",\"reading score\",\"reading score\",\"reading score\",\"reading score\",\"reading score\",\"reading score\",\"reading score\",\"reading score\",\"reading score\",\"reading score\",\"reading score\",\"reading score\",\"reading score\",\"reading score\",\"reading score\",\"reading score\",\"reading score\",\"reading score\",\"reading score\",\"reading score\",\"reading score\",\"reading score\",\"reading score\",\"reading score\",\"reading score\",\"reading score\",\"reading score\",\"reading score\",\"reading score\",\"reading score\",\"reading score\",\"reading score\",\"reading score\",\"reading score\",\"reading score\",\"reading score\",\"reading score\",\"reading score\",\"reading score\",\"reading score\",\"reading score\",\"reading score\",\"reading score\",\"reading score\",\"reading score\",\"reading score\",\"reading score\",\"reading score\",\"reading score\",\"reading score\",\"reading score\",\"reading score\",\"reading score\",\"reading score\",\"reading score\",\"reading score\",\"reading score\",\"reading score\",\"reading score\",\"reading score\",\"reading score\",\"reading score\",\"reading score\",\"reading score\",\"reading score\",\"reading score\",\"reading score\",\"reading score\",\"reading score\",\"reading score\",\"reading score\",\"reading score\",\"reading score\",\"reading score\",\"reading score\",\"reading score\",\"reading score\",\"reading score\",\"reading score\",\"reading score\",\"reading score\",\"reading score\",\"reading score\",\"reading score\",\"reading score\",\"reading score\",\"reading score\",\"reading score\",\"reading score\",\"reading score\",\"reading score\",\"reading score\",\"reading score\",\"reading score\",\"reading score\",\"reading score\",\"reading score\",\"reading score\",\"reading score\",\"reading score\",\"reading score\",\"reading score\",\"reading score\",\"reading score\",\"reading score\",\"reading score\",\"reading score\",\"reading score\",\"reading score\",\"reading score\",\"reading score\",\"reading score\",\"reading score\",\"reading score\",\"reading score\",\"reading score\",\"reading score\",\"reading score\",\"reading score\",\"reading score\",\"reading score\",\"reading score\",\"reading score\",\"reading score\",\"reading score\",\"reading score\",\"reading score\",\"reading score\",\"reading score\",\"reading score\",\"reading score\",\"reading score\",\"reading score\",\"reading score\",\"reading score\",\"reading score\",\"reading score\",\"reading score\",\"reading score\",\"reading score\",\"reading score\",\"reading score\",\"reading score\",\"reading score\",\"reading score\",\"reading score\",\"reading score\",\"reading score\",\"reading score\",\"reading score\",\"reading score\",\"reading score\",\"reading score\",\"reading score\",\"reading score\",\"reading score\",\"reading score\",\"reading score\",\"reading score\",\"reading score\",\"reading score\",\"reading score\",\"reading score\",\"reading score\",\"reading score\",\"reading score\",\"reading score\",\"reading score\",\"reading score\",\"reading score\",\"reading score\",\"reading score\",\"reading score\",\"reading score\",\"reading score\",\"reading score\",\"reading score\",\"reading score\",\"reading score\",\"reading score\",\"reading score\",\"reading score\",\"reading score\",\"reading score\",\"reading score\",\"reading score\",\"reading score\",\"reading score\",\"reading score\",\"reading score\",\"reading score\",\"reading score\",\"reading score\",\"reading score\",\"reading score\",\"reading score\",\"reading score\",\"reading score\",\"reading score\",\"reading score\",\"reading score\",\"reading score\",\"reading score\",\"reading score\",\"reading score\",\"reading score\",\"reading score\",\"reading score\",\"reading score\",\"reading score\",\"reading score\",\"reading score\",\"reading score\",\"reading score\",\"reading score\",\"reading score\",\"reading score\",\"reading score\",\"reading score\",\"reading score\",\"reading score\",\"reading score\",\"reading score\",\"reading score\",\"reading score\",\"reading score\",\"reading score\",\"reading score\",\"reading score\",\"reading score\",\"reading score\",\"reading score\",\"reading score\",\"reading score\",\"reading score\",\"reading score\",\"reading score\",\"reading score\",\"reading score\",\"reading score\",\"reading score\",\"reading score\",\"reading score\",\"reading score\",\"reading score\",\"reading score\",\"reading score\",\"reading score\",\"reading score\",\"reading score\",\"reading score\",\"reading score\",\"reading score\",\"reading score\",\"reading score\",\"reading score\",\"reading score\",\"reading score\",\"reading score\",\"reading score\",\"reading score\",\"reading score\",\"reading score\",\"reading score\",\"reading score\",\"reading score\",\"reading score\",\"reading score\",\"reading score\",\"reading score\",\"reading score\",\"reading score\",\"reading score\",\"reading score\",\"reading score\",\"reading score\",\"reading score\",\"reading score\",\"reading score\",\"reading score\",\"reading score\",\"reading score\",\"reading score\",\"reading score\",\"reading score\",\"reading score\",\"reading score\",\"reading score\",\"reading score\",\"reading score\",\"reading score\",\"reading score\",\"reading score\",\"reading score\",\"reading score\",\"reading score\",\"reading score\",\"reading score\",\"reading score\",\"reading score\",\"reading score\",\"reading score\",\"reading score\",\"reading score\",\"reading score\",\"reading score\",\"reading score\",\"reading score\",\"reading score\",\"reading score\",\"reading score\",\"reading score\",\"reading score\",\"reading score\",\"reading score\",\"reading score\",\"reading score\",\"reading score\",\"reading score\",\"reading score\",\"reading score\",\"reading score\",\"reading score\",\"reading score\",\"reading score\",\"reading score\",\"reading score\",\"reading score\",\"reading score\",\"reading score\",\"reading score\",\"reading score\",\"reading score\",\"reading score\",\"reading score\",\"reading score\",\"reading score\",\"reading score\",\"reading score\",\"reading score\",\"reading score\",\"reading score\",\"reading score\",\"reading score\",\"reading score\",\"reading score\",\"reading score\",\"reading score\",\"reading score\",\"reading score\",\"reading score\",\"reading score\",\"reading score\",\"reading score\",\"reading score\",\"reading score\",\"reading score\",\"reading score\",\"reading score\",\"reading score\",\"reading score\",\"reading score\",\"reading score\",\"reading score\",\"reading score\",\"reading score\",\"reading score\",\"reading score\",\"reading score\",\"reading score\",\"reading score\",\"reading score\",\"reading score\",\"reading score\",\"reading score\",\"reading score\",\"reading score\",\"reading score\",\"reading score\",\"reading score\",\"reading score\",\"reading score\",\"reading score\"],\"x0\":\" \",\"xaxis\":\"x\",\"y\":[46.0,78.0,66.0,75.0,86.0,61.0,68.0,48.0,61.0,73.0,78.0,76.0,65.0,74.0,57.0,69.0,42.0,82.0,61.0,73.0,75.0,100.0,76.0,61.0,81.0,72.0,83.0,64.0,76.0,86.0,88.0,74.0,72.0,61.0,64.0,61.0,59.0,67.0,62.0,29.0,79.0,67.0,58.0,55.0,87.0,28.0,67.0,74.0,64.0,59.0,79.0,73.0,60.0,59.0,92.0,76.0,94.0,85.0,62.0,48.0,48.0,54.0,54.0,82.0,82.0,65.0,71.0,90.0,84.0,75.0,88.0,93.0,81.0,93.0,57.0,74.0,54.0,84.0,90.0,41.0,73.0,68.0,78.0,74.0,62.0,90.0,63.0,74.0,64.0,68.0,73.0,56.0,70.0,72.0,83.0,59.0,87.0,99.0,73.0,43.0,68.0,85.0,81.0,72.0,78.0,70.0,51.0,72.0,50.0,85.0,66.0,78.0,77.0,45.0,93.0,61.0,64.0,83.0,66.0,77.0,57.0,67.0,78.0,70.0,79.0,68.0,81.0,67.0,54.0,60.0,51.0,51.0,57.0,38.0,77.0,79.0,58.0,51.0,72.0,62.0,56.0,51.0,83.0,76.0,78.0,95.0,89.0,87.0,66.0,49.0,53.0,57.0,73.0,68.0,71.0,63.0,86.0,58.0,51.0,64.0,71.0,48.0,93.0,72.0,60.0,61.0,73.0,54.0,48.0,73.0,74.0,77.0,74.0,70.0,90.0,74.0,51.0,68.0,72.0,81.0,76.0,63.0,62.0,59.0,47.0,66.0,74.0,78.0,86.0,100.0,58.0,64.0,63.0,71.0,91.0,75.0,84.0,94.0,61.0,84.0,49.0,63.0,82.0,81.0,49.0,42.0,77.0,76.0,66.0,88.0,83.0,81.0,34.0,39.0,52.0,64.0,81.0,80.0,78.0,72.0,64.0,81.0,70.0,52.0,58.0,73.0,70.0,66.0,57.0,89.0,75.0,70.0,75.0,69.0,57.0,43.0,54.0,54.0,41.0,31.0,75.0,74.0,57.0,87.0,84.0,54.0,54.0,64.0,88.0,23.0,71.0,57.0,53.0,85.0,58.0,100.0,80.0,47.0,84.0,81.0,82.0,64.0,58.0,73.0,77.0,78.0,68.0,86.0,77.0,75.0,70.0,66.0,62.0,40.0,65.0,61.0,61.0,95.0,79.0,76.0,68.0,74.0,66.0,86.0,65.0,73.0,77.0,71.0,72.0,89.0,71.0,78.0,56.0,65.0,92.0,78.0,95.0,77.0,86.0,70.0,63.0,80.0,82.0,81.0,55.0,51.0,51.0,97.0,72.0,73.0,79.0,67.0,68.0,77.0,58.0,57.0,100.0,89.0,73.0,72.0,79.0,62.0,74.0,54.0,96.0,66.0,79.0,67.0,53.0,61.0,92.0,81.0,59.0,75.0,75.0,63.0,56.0,66.0,97.0,100.0,90.0,44.0,83.0,68.0,82.0,49.0,59.0,75.0,60.0,64.0,49.0,43.0,43.0,73.0,54.0,66.0,72.0,43.0,83.0,65.0,72.0,74.0,82.0,84.0,54.0,53.0,58.0,85.0,72.0,66.0,64.0,55.0,89.0,26.0,84.0,64.0,82.0,81.0,59.0,84.0,84.0,88.0,88.0,84.0,74.0,73.0,64.0,62.0,52.0,65.0,54.0,53.0,86.0,92.0,71.0,52.0,86.0,91.0,61.0,63.0,76.0,64.0,53.0,58.0,72.0,74.0,84.0,92.0,70.0,55.0,76.0,72.0,77.0,85.0,69.0,73.0,85.0,67.0,58.0,66.0,76.0,87.0,68.0,49.0,70.0,82.0,52.0,74.0,50.0,84.0,65.0,77.0,67.0,66.0,63.0,75.0,78.0,70.0,68.0,66.0,100.0,24.0,64.0,65.0,66.0,84.0,82.0,73.0,77.0,72.0,51.0,69.0,50.0,68.0,56.0,51.0,95.0,90.0,56.0,72.0,49.0,65.0,77.0,46.0,100.0,70.0,61.0,45.0,59.0,69.0,46.0,55.0,77.0,56.0,63.0,78.0,77.0,71.0,64.0,100.0,63.0,41.0,78.0,79.0,87.0,58.0,81.0,73.0,70.0,69.0,73.0,49.0,52.0,51.0,80.0,90.0,58.0,81.0,79.0,84.0,63.0,71.0,90.0,83.0,58.0,78.0,52.0,37.0,63.0,70.0,73.0,87.0,52.0,66.0,65.0,74.0,83.0,74.0,54.0,74.0,52.0,74.0,74.0,31.0,73.0,84.0,95.0,57.0,53.0,52.0,74.0,48.0,55.0,52.0,57.0,39.0,90.0,74.0,78.0,70.0,100.0,42.0,67.0,85.0,84.0,86.0,62.0,45.0,55.0,77.0,70.0,91.0,60.0,80.0,50.0,61.0,63.0,77.0,99.0,91.0,78.0,69.0,79.0,74.0,84.0,54.0,62.0,64.0,72.0,64.0,75.0,85.0,43.0,68.0,55.0,72.0,68.0,42.0,89.0,50.0,68.0,59.0,57.0,73.0,85.0,73.0,45.0,56.0,70.0,90.0,67.0,75.0,59.0,95.0,52.0,69.0,76.0,79.0,60.0,56.0,85.0,71.0,56.0,79.0,100.0,63.0,73.0,70.0,99.0,93.0,69.0,82.0,49.0,55.0,81.0,55.0,83.0,72.0,83.0,56.0,61.0,86.0,84.0,88.0,62.0,75.0,45.0,68.0,76.0,48.0,60.0,34.0,50.0,64.0,43.0,66.0,92.0,76.0,44.0,62.0,64.0,82.0,41.0,70.0,77.0,37.0,68.0,77.0,48.0,71.0,57.0,54.0,72.0,94.0,53.0,80.0,89.0,39.0,71.0,89.0,48.0,63.0,58.0,55.0,60.0,67.0,77.0,88.0,73.0,68.0,80.0,70.0,42.0,47.0,60.0,76.0,86.0,64.0,63.0,74.0,82.0,78.0,58.0,82.0,92.0,67.0,86.0,63.0,79.0,86.0,72.0,75.0,61.0,60.0,61.0,75.0,39.0,75.0,38.0,84.0,62.0,62.0,96.0,47.0,85.0,67.0,67.0,80.0,76.0,85.0,62.0,58.0,60.0,71.0,58.0,87.0,85.0,58.0,43.0,67.0,67.0,63.0,78.0,34.0,78.0,57.0,62.0,76.0,78.0,53.0,51.0,62.0,84.0,60.0,84.0,73.0,72.0,90.0,66.0,83.0,65.0,74.0,72.0,24.0,92.0,62.0,60.0,57.0,65.0,76.0,90.0,89.0,76.0,97.0,70.0,66.0,86.0,83.0,86.0,65.0,95.0,97.0,51.0,66.0,66.0,100.0,74.0,54.0,67.0,60.0,81.0,90.0,81.0,60.0,65.0,53.0,52.0,58.0,69.0,87.0,83.0,72.0,67.0,75.0,64.0,63.0,67.0,74.0,100.0,64.0,75.0,76.0,61.0,78.0,37.0,76.0,70.0,71.0,68.0,70.0,66.0,65.0,92.0,55.0,56.0,76.0,92.0,59.0,32.0,79.0,67.0,73.0,60.0,73.0,90.0,44.0,56.0,100.0,71.0,69.0,91.0,76.0,55.0,75.0,84.0,67.0,60.0,58.0,46.0,79.0,69.0,95.0,78.0,70.0,62.0,81.0,81.0,78.0,69.0,46.0,80.0,72.0,58.0,72.0,96.0,75.0,74.0,59.0,41.0,58.0,61.0,66.0,67.0,84.0,82.0,70.0,61.0,62.0,64.0,65.0,17.0,67.0,86.0,67.0,100.0,58.0,57.0,51.0,74.0,82.0,65.0,82.0,66.0,72.0,55.0,56.0,89.0,48.0,52.0,59.0,34.0,73.0,82.0,66.0,81.0,72.0,87.0,97.0,74.0,75.0,67.0,72.0,64.0,76.0,46.0,29.0,75.0,44.0,74.0,61.0,80.0],\"y0\":\" \",\"yaxis\":\"y\",\"type\":\"box\"},{\"alignmentgroup\":\"True\",\"hovertemplate\":\"subject=%{x}<br>score=%{y}<extra></extra>\",\"legendgroup\":\"writing score\",\"marker\":{\"color\":\"#00cc96\"},\"name\":\"writing score\",\"notched\":false,\"offsetgroup\":\"writing score\",\"orientation\":\"v\",\"showlegend\":true,\"x\":[\"writing score\",\"writing score\",\"writing score\",\"writing score\",\"writing score\",\"writing score\",\"writing score\",\"writing score\",\"writing score\",\"writing score\",\"writing score\",\"writing score\",\"writing score\",\"writing score\",\"writing score\",\"writing score\",\"writing score\",\"writing score\",\"writing score\",\"writing score\",\"writing score\",\"writing score\",\"writing score\",\"writing score\",\"writing score\",\"writing score\",\"writing score\",\"writing score\",\"writing score\",\"writing score\",\"writing score\",\"writing score\",\"writing score\",\"writing score\",\"writing score\",\"writing score\",\"writing score\",\"writing score\",\"writing score\",\"writing score\",\"writing score\",\"writing score\",\"writing score\",\"writing score\",\"writing score\",\"writing score\",\"writing score\",\"writing score\",\"writing score\",\"writing score\",\"writing score\",\"writing score\",\"writing score\",\"writing score\",\"writing score\",\"writing score\",\"writing score\",\"writing score\",\"writing score\",\"writing score\",\"writing score\",\"writing score\",\"writing score\",\"writing score\",\"writing score\",\"writing score\",\"writing score\",\"writing score\",\"writing score\",\"writing score\",\"writing score\",\"writing score\",\"writing score\",\"writing score\",\"writing score\",\"writing score\",\"writing score\",\"writing score\",\"writing score\",\"writing score\",\"writing score\",\"writing score\",\"writing score\",\"writing score\",\"writing score\",\"writing score\",\"writing score\",\"writing score\",\"writing score\",\"writing score\",\"writing score\",\"writing score\",\"writing score\",\"writing score\",\"writing score\",\"writing score\",\"writing score\",\"writing score\",\"writing score\",\"writing score\",\"writing score\",\"writing score\",\"writing score\",\"writing score\",\"writing score\",\"writing score\",\"writing score\",\"writing score\",\"writing score\",\"writing score\",\"writing score\",\"writing score\",\"writing score\",\"writing score\",\"writing score\",\"writing score\",\"writing score\",\"writing score\",\"writing score\",\"writing score\",\"writing score\",\"writing score\",\"writing score\",\"writing score\",\"writing score\",\"writing score\",\"writing score\",\"writing score\",\"writing score\",\"writing score\",\"writing score\",\"writing score\",\"writing score\",\"writing score\",\"writing score\",\"writing score\",\"writing score\",\"writing score\",\"writing score\",\"writing score\",\"writing score\",\"writing score\",\"writing score\",\"writing score\",\"writing score\",\"writing score\",\"writing score\",\"writing score\",\"writing score\",\"writing score\",\"writing score\",\"writing score\",\"writing score\",\"writing score\",\"writing score\",\"writing score\",\"writing score\",\"writing score\",\"writing score\",\"writing score\",\"writing score\",\"writing score\",\"writing score\",\"writing score\",\"writing score\",\"writing score\",\"writing score\",\"writing score\",\"writing score\",\"writing score\",\"writing score\",\"writing score\",\"writing score\",\"writing score\",\"writing score\",\"writing score\",\"writing score\",\"writing score\",\"writing score\",\"writing score\",\"writing score\",\"writing score\",\"writing score\",\"writing score\",\"writing score\",\"writing score\",\"writing score\",\"writing score\",\"writing score\",\"writing score\",\"writing score\",\"writing score\",\"writing score\",\"writing score\",\"writing score\",\"writing score\",\"writing score\",\"writing score\",\"writing score\",\"writing score\",\"writing score\",\"writing score\",\"writing score\",\"writing score\",\"writing score\",\"writing score\",\"writing score\",\"writing score\",\"writing score\",\"writing score\",\"writing score\",\"writing score\",\"writing score\",\"writing score\",\"writing score\",\"writing score\",\"writing score\",\"writing score\",\"writing score\",\"writing score\",\"writing score\",\"writing score\",\"writing score\",\"writing score\",\"writing score\",\"writing score\",\"writing score\",\"writing score\",\"writing score\",\"writing score\",\"writing score\",\"writing score\",\"writing score\",\"writing score\",\"writing score\",\"writing score\",\"writing score\",\"writing score\",\"writing score\",\"writing score\",\"writing score\",\"writing score\",\"writing score\",\"writing score\",\"writing score\",\"writing score\",\"writing score\",\"writing score\",\"writing score\",\"writing score\",\"writing score\",\"writing score\",\"writing score\",\"writing score\",\"writing score\",\"writing score\",\"writing score\",\"writing score\",\"writing score\",\"writing score\",\"writing score\",\"writing score\",\"writing score\",\"writing score\",\"writing score\",\"writing score\",\"writing score\",\"writing score\",\"writing score\",\"writing score\",\"writing score\",\"writing score\",\"writing score\",\"writing score\",\"writing score\",\"writing score\",\"writing score\",\"writing score\",\"writing score\",\"writing score\",\"writing score\",\"writing score\",\"writing score\",\"writing score\",\"writing score\",\"writing score\",\"writing score\",\"writing score\",\"writing score\",\"writing score\",\"writing score\",\"writing score\",\"writing score\",\"writing score\",\"writing score\",\"writing score\",\"writing score\",\"writing score\",\"writing score\",\"writing score\",\"writing score\",\"writing score\",\"writing score\",\"writing score\",\"writing score\",\"writing score\",\"writing score\",\"writing score\",\"writing score\",\"writing score\",\"writing score\",\"writing score\",\"writing score\",\"writing score\",\"writing score\",\"writing score\",\"writing score\",\"writing score\",\"writing score\",\"writing score\",\"writing score\",\"writing score\",\"writing score\",\"writing score\",\"writing score\",\"writing score\",\"writing score\",\"writing score\",\"writing score\",\"writing score\",\"writing score\",\"writing score\",\"writing score\",\"writing score\",\"writing score\",\"writing score\",\"writing score\",\"writing score\",\"writing score\",\"writing score\",\"writing score\",\"writing score\",\"writing score\",\"writing score\",\"writing score\",\"writing score\",\"writing score\",\"writing score\",\"writing score\",\"writing score\",\"writing score\",\"writing score\",\"writing score\",\"writing score\",\"writing score\",\"writing score\",\"writing score\",\"writing score\",\"writing score\",\"writing score\",\"writing score\",\"writing score\",\"writing score\",\"writing score\",\"writing score\",\"writing score\",\"writing score\",\"writing score\",\"writing score\",\"writing score\",\"writing score\",\"writing score\",\"writing score\",\"writing score\",\"writing score\",\"writing score\",\"writing score\",\"writing score\",\"writing score\",\"writing score\",\"writing score\",\"writing score\",\"writing score\",\"writing score\",\"writing score\",\"writing score\",\"writing score\",\"writing score\",\"writing score\",\"writing score\",\"writing score\",\"writing score\",\"writing score\",\"writing score\",\"writing score\",\"writing score\",\"writing score\",\"writing score\",\"writing score\",\"writing score\",\"writing score\",\"writing score\",\"writing score\",\"writing score\",\"writing score\",\"writing score\",\"writing score\",\"writing score\",\"writing score\",\"writing score\",\"writing score\",\"writing score\",\"writing score\",\"writing score\",\"writing score\",\"writing score\",\"writing score\",\"writing score\",\"writing score\",\"writing score\",\"writing score\",\"writing score\",\"writing score\",\"writing score\",\"writing score\",\"writing score\",\"writing score\",\"writing score\",\"writing score\",\"writing score\",\"writing score\",\"writing score\",\"writing score\",\"writing score\",\"writing score\",\"writing score\",\"writing score\",\"writing score\",\"writing score\",\"writing score\",\"writing score\",\"writing score\",\"writing score\",\"writing score\",\"writing score\",\"writing score\",\"writing score\",\"writing score\",\"writing score\",\"writing score\",\"writing score\",\"writing score\",\"writing score\",\"writing score\",\"writing score\",\"writing score\",\"writing score\",\"writing score\",\"writing score\",\"writing score\",\"writing score\",\"writing score\",\"writing score\",\"writing score\",\"writing score\",\"writing score\",\"writing score\",\"writing score\",\"writing score\",\"writing score\",\"writing score\",\"writing score\",\"writing score\",\"writing score\",\"writing score\",\"writing score\",\"writing score\",\"writing score\",\"writing score\",\"writing score\",\"writing score\",\"writing score\",\"writing score\",\"writing score\",\"writing score\",\"writing score\",\"writing score\",\"writing score\",\"writing score\",\"writing score\",\"writing score\",\"writing score\",\"writing score\",\"writing score\",\"writing score\",\"writing score\",\"writing score\",\"writing score\",\"writing score\",\"writing score\",\"writing score\",\"writing score\",\"writing score\",\"writing score\",\"writing score\",\"writing score\",\"writing score\",\"writing score\",\"writing score\",\"writing score\",\"writing score\",\"writing score\",\"writing score\",\"writing score\",\"writing score\",\"writing score\",\"writing score\",\"writing score\",\"writing score\",\"writing score\",\"writing score\",\"writing score\",\"writing score\",\"writing score\",\"writing score\",\"writing score\",\"writing score\",\"writing score\",\"writing score\",\"writing score\",\"writing score\",\"writing score\",\"writing score\",\"writing score\",\"writing score\",\"writing score\",\"writing score\",\"writing score\",\"writing score\",\"writing score\",\"writing score\",\"writing score\",\"writing score\",\"writing score\",\"writing score\",\"writing score\",\"writing score\",\"writing score\",\"writing score\",\"writing score\",\"writing score\",\"writing score\",\"writing score\",\"writing score\",\"writing score\",\"writing score\",\"writing score\",\"writing score\",\"writing score\",\"writing score\",\"writing score\",\"writing score\",\"writing score\",\"writing score\",\"writing score\",\"writing score\",\"writing score\",\"writing score\",\"writing score\",\"writing score\",\"writing score\",\"writing score\",\"writing score\",\"writing score\",\"writing score\",\"writing score\",\"writing score\",\"writing score\",\"writing score\",\"writing score\",\"writing score\",\"writing score\",\"writing score\",\"writing score\",\"writing score\",\"writing score\",\"writing score\",\"writing score\",\"writing score\",\"writing score\",\"writing score\",\"writing score\",\"writing score\",\"writing score\",\"writing score\",\"writing score\",\"writing score\",\"writing score\",\"writing score\",\"writing score\",\"writing score\",\"writing score\",\"writing score\",\"writing score\",\"writing score\",\"writing score\",\"writing score\",\"writing score\",\"writing score\",\"writing score\",\"writing score\",\"writing score\",\"writing score\",\"writing score\",\"writing score\",\"writing score\",\"writing score\",\"writing score\",\"writing score\",\"writing score\",\"writing score\",\"writing score\",\"writing score\",\"writing score\",\"writing score\",\"writing score\",\"writing score\",\"writing score\",\"writing score\",\"writing score\",\"writing score\",\"writing score\",\"writing score\",\"writing score\",\"writing score\",\"writing score\",\"writing score\",\"writing score\",\"writing score\",\"writing score\",\"writing score\",\"writing score\",\"writing score\",\"writing score\",\"writing score\",\"writing score\",\"writing score\",\"writing score\",\"writing score\",\"writing score\",\"writing score\",\"writing score\",\"writing score\",\"writing score\",\"writing score\",\"writing score\",\"writing score\",\"writing score\",\"writing score\",\"writing score\",\"writing score\",\"writing score\",\"writing score\",\"writing score\",\"writing score\",\"writing score\",\"writing score\",\"writing score\",\"writing score\",\"writing score\",\"writing score\",\"writing score\",\"writing score\",\"writing score\",\"writing score\",\"writing score\",\"writing score\",\"writing score\",\"writing score\",\"writing score\",\"writing score\",\"writing score\",\"writing score\",\"writing score\",\"writing score\",\"writing score\",\"writing score\",\"writing score\",\"writing score\",\"writing score\",\"writing score\",\"writing score\",\"writing score\",\"writing score\",\"writing score\",\"writing score\",\"writing score\",\"writing score\",\"writing score\",\"writing score\",\"writing score\",\"writing score\",\"writing score\",\"writing score\",\"writing score\",\"writing score\",\"writing score\",\"writing score\",\"writing score\",\"writing score\",\"writing score\",\"writing score\",\"writing score\",\"writing score\",\"writing score\",\"writing score\",\"writing score\",\"writing score\",\"writing score\",\"writing score\",\"writing score\",\"writing score\",\"writing score\",\"writing score\",\"writing score\",\"writing score\",\"writing score\",\"writing score\",\"writing score\",\"writing score\",\"writing score\",\"writing score\",\"writing score\",\"writing score\",\"writing score\",\"writing score\",\"writing score\",\"writing score\",\"writing score\",\"writing score\",\"writing score\",\"writing score\",\"writing score\",\"writing score\",\"writing score\",\"writing score\",\"writing score\",\"writing score\",\"writing score\",\"writing score\",\"writing score\",\"writing score\",\"writing score\",\"writing score\",\"writing score\",\"writing score\",\"writing score\",\"writing score\",\"writing score\",\"writing score\",\"writing score\",\"writing score\",\"writing score\",\"writing score\",\"writing score\",\"writing score\",\"writing score\",\"writing score\",\"writing score\",\"writing score\",\"writing score\",\"writing score\",\"writing score\",\"writing score\",\"writing score\",\"writing score\",\"writing score\",\"writing score\",\"writing score\",\"writing score\",\"writing score\",\"writing score\",\"writing score\",\"writing score\",\"writing score\",\"writing score\",\"writing score\",\"writing score\",\"writing score\",\"writing score\",\"writing score\",\"writing score\",\"writing score\",\"writing score\",\"writing score\",\"writing score\",\"writing score\",\"writing score\",\"writing score\",\"writing score\",\"writing score\",\"writing score\",\"writing score\",\"writing score\",\"writing score\",\"writing score\",\"writing score\",\"writing score\",\"writing score\",\"writing score\",\"writing score\",\"writing score\",\"writing score\",\"writing score\",\"writing score\",\"writing score\",\"writing score\",\"writing score\",\"writing score\",\"writing score\",\"writing score\",\"writing score\",\"writing score\",\"writing score\",\"writing score\",\"writing score\",\"writing score\",\"writing score\",\"writing score\",\"writing score\",\"writing score\",\"writing score\",\"writing score\",\"writing score\",\"writing score\",\"writing score\",\"writing score\",\"writing score\",\"writing score\",\"writing score\",\"writing score\",\"writing score\",\"writing score\",\"writing score\",\"writing score\",\"writing score\",\"writing score\",\"writing score\",\"writing score\",\"writing score\",\"writing score\",\"writing score\",\"writing score\",\"writing score\",\"writing score\",\"writing score\",\"writing score\",\"writing score\",\"writing score\",\"writing score\",\"writing score\",\"writing score\",\"writing score\",\"writing score\",\"writing score\",\"writing score\",\"writing score\",\"writing score\",\"writing score\",\"writing score\",\"writing score\",\"writing score\",\"writing score\",\"writing score\",\"writing score\",\"writing score\",\"writing score\",\"writing score\",\"writing score\",\"writing score\",\"writing score\",\"writing score\",\"writing score\",\"writing score\",\"writing score\",\"writing score\",\"writing score\",\"writing score\",\"writing score\",\"writing score\",\"writing score\",\"writing score\",\"writing score\",\"writing score\",\"writing score\",\"writing score\",\"writing score\",\"writing score\",\"writing score\",\"writing score\",\"writing score\"],\"x0\":\" \",\"xaxis\":\"x\",\"y\":[46.0,81.0,63.0,76.0,87.0,69.0,64.0,41.0,61.0,71.0,82.0,70.0,58.0,72.0,62.0,68.0,46.0,74.0,60.0,68.0,77.0,100.0,74.0,55.0,80.0,70.0,75.0,67.0,78.0,88.0,85.0,74.0,65.0,54.0,62.0,62.0,54.0,63.0,60.0,27.0,76.0,72.0,57.0,53.0,78.0,27.0,70.0,61.0,67.0,65.0,79.0,71.0,61.0,64.0,85.0,65.0,95.0,85.0,60.0,47.0,50.0,56.0,52.0,88.0,82.0,61.0,65.0,92.0,86.0,73.0,78.0,91.0,81.0,93.0,58.0,70.0,53.0,78.0,88.0,42.0,74.0,67.0,77.0,78.0,60.0,83.0,61.0,74.0,66.0,64.0,70.0,51.0,70.0,59.0,83.0,54.0,85.0,100.0,72.0,43.0,63.0,82.0,71.0,65.0,78.0,74.0,43.0,74.0,60.0,85.0,61.0,76.0,77.0,45.0,95.0,71.0,57.0,78.0,59.0,74.0,46.0,62.0,78.0,74.0,81.0,72.0,82.0,73.0,50.0,59.0,44.0,57.0,54.0,32.0,73.0,74.0,57.0,52.0,69.0,53.0,54.0,48.0,90.0,75.0,83.0,94.0,92.0,91.0,62.0,45.0,58.0,52.0,63.0,60.0,74.0,59.0,86.0,55.0,54.0,63.0,73.0,46.0,90.0,79.0,58.0,66.0,72.0,41.0,42.0,70.0,72.0,77.0,76.0,67.0,85.0,66.0,54.0,72.0,68.0,85.0,76.0,62.0,60.0,58.0,56.0,64.0,75.0,72.0,83.0,100.0,56.0,66.0,67.0,76.0,96.0,68.0,80.0,87.0,52.0,82.0,47.0,65.0,84.0,79.0,52.0,41.0,73.0,83.0,65.0,82.0,76.0,79.0,36.0,33.0,45.0,58.0,79.0,73.0,73.0,70.0,61.0,75.0,68.0,49.0,64.0,73.0,68.0,68.0,56.0,86.0,69.0,66.0,70.0,74.0,56.0,45.0,57.0,45.0,47.0,38.0,78.0,69.0,51.0,90.0,90.0,51.0,58.0,66.0,94.0,19.0,69.0,56.0,46.0,82.0,57.0,100.0,81.0,54.0,91.0,80.0,84.0,70.0,52.0,68.0,73.0,79.0,70.0,84.0,74.0,69.0,75.0,70.0,68.0,44.0,69.0,68.0,68.0,89.0,72.0,65.0,66.0,69.0,73.0,82.0,69.0,69.0,73.0,72.0,77.0,86.0,75.0,80.0,54.0,68.0,93.0,73.0,92.0,74.0,98.0,70.0,73.0,75.0,77.0,81.0,52.0,51.0,51.0,96.0,62.0,74.0,75.0,61.0,67.0,77.0,44.0,62.0,100.0,89.0,80.0,78.0,77.0,61.0,72.0,67.0,86.0,61.0,80.0,67.0,53.0,55.0,87.0,71.0,50.0,81.0,74.0,54.0,55.0,60.0,96.0,93.0,91.0,42.0,83.0,66.0,81.0,41.0,56.0,77.0,58.0,66.0,52.0,47.0,41.0,68.0,63.0,62.0,71.0,39.0,80.0,61.0,70.0,72.0,89.0,81.0,48.0,55.0,54.0,86.0,70.0,73.0,72.0,47.0,88.0,22.0,80.0,66.0,80.0,83.0,50.0,87.0,85.0,87.0,85.0,87.0,70.0,67.0,70.0,61.0,51.0,61.0,48.0,57.0,87.0,89.0,65.0,52.0,80.0,88.0,52.0,56.0,80.0,68.0,47.0,51.0,80.0,73.0,89.0,86.0,70.0,57.0,77.0,69.0,80.0,73.0,63.0,78.0,76.0,73.0,52.0,66.0,74.0,82.0,65.0,46.0,69.0,76.0,46.0,72.0,51.0,85.0,60.0,80.0,58.0,64.0,58.0,83.0,80.0,66.0,64.0,66.0,100.0,23.0,62.0,64.0,65.0,82.0,91.0,75.0,69.0,64.0,43.0,69.0,47.0,74.0,57.0,56.0,94.0,91.0,57.0,76.0,50.0,63.0,79.0,44.0,95.0,71.0,57.0,41.0,62.0,68.0,43.0,54.0,76.0,47.0,64.0,75.0,78.0,73.0,57.0,95.0,66.0,38.0,76.0,79.0,82.0,65.0,86.0,73.0,65.0,76.0,70.0,49.0,51.0,48.0,73.0,82.0,59.0,73.0,84.0,77.0,75.0,68.0,88.0,86.0,62.0,79.0,54.0,37.0,62.0,76.0,68.0,92.0,55.0,68.0,60.0,71.0,88.0,75.0,53.0,73.0,43.0,81.0,74.0,36.0,70.0,75.0,93.0,50.0,52.0,42.0,64.0,53.0,53.0,51.0,53.0,34.0,92.0,72.0,76.0,66.0,100.0,38.0,61.0,87.0,85.0,92.0,56.0,50.0,48.0,77.0,63.0,89.0,54.0,83.0,54.0,66.0,56.0,83.0,100.0,87.0,79.0,75.0,82.0,68.0,78.0,52.0,62.0,74.0,70.0,66.0,78.0,93.0,44.0,61.0,55.0,71.0,72.0,48.0,98.0,43.0,66.0,54.0,59.0,71.0,84.0,72.0,40.0,58.0,70.0,94.0,72.0,74.0,52.0,100.0,54.0,68.0,75.0,81.0,59.0,53.0,90.0,73.0,51.0,82.0,100.0,61.0,72.0,76.0,95.0,93.0,68.0,79.0,51.0,49.0,84.0,63.0,78.0,74.0,77.0,56.0,60.0,90.0,82.0,85.0,64.0,70.0,45.0,69.0,76.0,51.0,60.0,36.0,45.0,70.0,43.0,69.0,97.0,74.0,43.0,62.0,64.0,82.0,43.0,65.0,70.0,35.0,77.0,80.0,49.0,74.0,53.0,53.0,77.0,95.0,49.0,75.0,95.0,34.0,78.0,82.0,52.0,60.0,58.0,54.0,57.0,67.0,74.0,90.0,67.0,61.0,80.0,62.0,41.0,44.0,57.0,73.0,84.0,70.0,57.0,71.0,73.0,81.0,61.0,79.0,95.0,62.0,83.0,63.0,71.0,79.0,74.0,76.0,54.0,60.0,58.0,78.0,34.0,77.0,27.0,86.0,69.0,61.0,99.0,49.0,76.0,65.0,66.0,76.0,78.0,86.0,66.0,55.0,63.0,80.0,47.0,79.0,80.0,57.0,41.0,64.0,68.0,59.0,75.0,38.0,74.0,52.0,66.0,74.0,79.0,55.0,55.0,64.0,81.0,55.0,82.0,68.0,64.0,88.0,73.0,83.0,55.0,77.0,79.0,15.0,84.0,63.0,65.0,56.0,61.0,78.0,93.0,84.0,67.0,96.0,75.0,67.0,89.0,78.0,83.0,66.0,86.0,94.0,52.0,60.0,62.0,99.0,76.0,55.0,59.0,57.0,79.0,88.0,76.0,74.0,63.0,43.0,51.0,60.0,65.0,81.0,79.0,70.0,61.0,70.0,67.0,64.0,69.0,76.0,100.0,66.0,82.0,70.0,54.0,78.0,40.0,64.0,69.0,69.0,73.0,67.0,72.0,62.0,88.0,51.0,53.0,71.0,91.0,62.0,28.0,84.0,67.0,69.0,57.0,68.0,82.0,47.0,52.0,99.0,70.0,67.0,81.0,68.0,49.0,80.0,76.0,67.0,63.0,67.0,42.0,84.0,68.0,92.0,77.0,73.0,50.0,84.0,77.0,74.0,70.0,50.0,82.0,65.0,53.0,67.0,91.0,72.0,77.0,66.0,48.0,54.0,62.0,71.0,64.0,84.0,80.0,72.0,54.0,64.0,59.0,74.0,10.0,62.0,81.0,64.0,100.0,49.0,44.0,54.0,68.0,88.0,62.0,90.0,59.0,74.0,56.0,54.0,90.0,46.0,49.0,53.0,32.0,78.0,78.0,67.0,82.0,74.0,75.0,99.0,70.0,79.0,67.0,70.0,75.0,80.0,43.0,30.0,71.0,36.0,81.0,62.0,76.0],\"y0\":\" \",\"yaxis\":\"y\",\"type\":\"box\"}],                        {\"template\":{\"data\":{\"histogram2dcontour\":[{\"type\":\"histogram2dcontour\",\"colorbar\":{\"outlinewidth\":0,\"ticks\":\"\"},\"colorscale\":[[0.0,\"#0d0887\"],[0.1111111111111111,\"#46039f\"],[0.2222222222222222,\"#7201a8\"],[0.3333333333333333,\"#9c179e\"],[0.4444444444444444,\"#bd3786\"],[0.5555555555555556,\"#d8576b\"],[0.6666666666666666,\"#ed7953\"],[0.7777777777777778,\"#fb9f3a\"],[0.8888888888888888,\"#fdca26\"],[1.0,\"#f0f921\"]]}],\"choropleth\":[{\"type\":\"choropleth\",\"colorbar\":{\"outlinewidth\":0,\"ticks\":\"\"}}],\"histogram2d\":[{\"type\":\"histogram2d\",\"colorbar\":{\"outlinewidth\":0,\"ticks\":\"\"},\"colorscale\":[[0.0,\"#0d0887\"],[0.1111111111111111,\"#46039f\"],[0.2222222222222222,\"#7201a8\"],[0.3333333333333333,\"#9c179e\"],[0.4444444444444444,\"#bd3786\"],[0.5555555555555556,\"#d8576b\"],[0.6666666666666666,\"#ed7953\"],[0.7777777777777778,\"#fb9f3a\"],[0.8888888888888888,\"#fdca26\"],[1.0,\"#f0f921\"]]}],\"heatmap\":[{\"type\":\"heatmap\",\"colorbar\":{\"outlinewidth\":0,\"ticks\":\"\"},\"colorscale\":[[0.0,\"#0d0887\"],[0.1111111111111111,\"#46039f\"],[0.2222222222222222,\"#7201a8\"],[0.3333333333333333,\"#9c179e\"],[0.4444444444444444,\"#bd3786\"],[0.5555555555555556,\"#d8576b\"],[0.6666666666666666,\"#ed7953\"],[0.7777777777777778,\"#fb9f3a\"],[0.8888888888888888,\"#fdca26\"],[1.0,\"#f0f921\"]]}],\"heatmapgl\":[{\"type\":\"heatmapgl\",\"colorbar\":{\"outlinewidth\":0,\"ticks\":\"\"},\"colorscale\":[[0.0,\"#0d0887\"],[0.1111111111111111,\"#46039f\"],[0.2222222222222222,\"#7201a8\"],[0.3333333333333333,\"#9c179e\"],[0.4444444444444444,\"#bd3786\"],[0.5555555555555556,\"#d8576b\"],[0.6666666666666666,\"#ed7953\"],[0.7777777777777778,\"#fb9f3a\"],[0.8888888888888888,\"#fdca26\"],[1.0,\"#f0f921\"]]}],\"contourcarpet\":[{\"type\":\"contourcarpet\",\"colorbar\":{\"outlinewidth\":0,\"ticks\":\"\"}}],\"contour\":[{\"type\":\"contour\",\"colorbar\":{\"outlinewidth\":0,\"ticks\":\"\"},\"colorscale\":[[0.0,\"#0d0887\"],[0.1111111111111111,\"#46039f\"],[0.2222222222222222,\"#7201a8\"],[0.3333333333333333,\"#9c179e\"],[0.4444444444444444,\"#bd3786\"],[0.5555555555555556,\"#d8576b\"],[0.6666666666666666,\"#ed7953\"],[0.7777777777777778,\"#fb9f3a\"],[0.8888888888888888,\"#fdca26\"],[1.0,\"#f0f921\"]]}],\"surface\":[{\"type\":\"surface\",\"colorbar\":{\"outlinewidth\":0,\"ticks\":\"\"},\"colorscale\":[[0.0,\"#0d0887\"],[0.1111111111111111,\"#46039f\"],[0.2222222222222222,\"#7201a8\"],[0.3333333333333333,\"#9c179e\"],[0.4444444444444444,\"#bd3786\"],[0.5555555555555556,\"#d8576b\"],[0.6666666666666666,\"#ed7953\"],[0.7777777777777778,\"#fb9f3a\"],[0.8888888888888888,\"#fdca26\"],[1.0,\"#f0f921\"]]}],\"mesh3d\":[{\"type\":\"mesh3d\",\"colorbar\":{\"outlinewidth\":0,\"ticks\":\"\"}}],\"scatter\":[{\"fillpattern\":{\"fillmode\":\"overlay\",\"size\":10,\"solidity\":0.2},\"type\":\"scatter\"}],\"parcoords\":[{\"type\":\"parcoords\",\"line\":{\"colorbar\":{\"outlinewidth\":0,\"ticks\":\"\"}}}],\"scatterpolargl\":[{\"type\":\"scatterpolargl\",\"marker\":{\"colorbar\":{\"outlinewidth\":0,\"ticks\":\"\"}}}],\"bar\":[{\"error_x\":{\"color\":\"#2a3f5f\"},\"error_y\":{\"color\":\"#2a3f5f\"},\"marker\":{\"line\":{\"color\":\"#E5ECF6\",\"width\":0.5},\"pattern\":{\"fillmode\":\"overlay\",\"size\":10,\"solidity\":0.2}},\"type\":\"bar\"}],\"scattergeo\":[{\"type\":\"scattergeo\",\"marker\":{\"colorbar\":{\"outlinewidth\":0,\"ticks\":\"\"}}}],\"scatterpolar\":[{\"type\":\"scatterpolar\",\"marker\":{\"colorbar\":{\"outlinewidth\":0,\"ticks\":\"\"}}}],\"histogram\":[{\"marker\":{\"pattern\":{\"fillmode\":\"overlay\",\"size\":10,\"solidity\":0.2}},\"type\":\"histogram\"}],\"scattergl\":[{\"type\":\"scattergl\",\"marker\":{\"colorbar\":{\"outlinewidth\":0,\"ticks\":\"\"}}}],\"scatter3d\":[{\"type\":\"scatter3d\",\"line\":{\"colorbar\":{\"outlinewidth\":0,\"ticks\":\"\"}},\"marker\":{\"colorbar\":{\"outlinewidth\":0,\"ticks\":\"\"}}}],\"scattermapbox\":[{\"type\":\"scattermapbox\",\"marker\":{\"colorbar\":{\"outlinewidth\":0,\"ticks\":\"\"}}}],\"scatterternary\":[{\"type\":\"scatterternary\",\"marker\":{\"colorbar\":{\"outlinewidth\":0,\"ticks\":\"\"}}}],\"scattercarpet\":[{\"type\":\"scattercarpet\",\"marker\":{\"colorbar\":{\"outlinewidth\":0,\"ticks\":\"\"}}}],\"carpet\":[{\"aaxis\":{\"endlinecolor\":\"#2a3f5f\",\"gridcolor\":\"white\",\"linecolor\":\"white\",\"minorgridcolor\":\"white\",\"startlinecolor\":\"#2a3f5f\"},\"baxis\":{\"endlinecolor\":\"#2a3f5f\",\"gridcolor\":\"white\",\"linecolor\":\"white\",\"minorgridcolor\":\"white\",\"startlinecolor\":\"#2a3f5f\"},\"type\":\"carpet\"}],\"table\":[{\"cells\":{\"fill\":{\"color\":\"#EBF0F8\"},\"line\":{\"color\":\"white\"}},\"header\":{\"fill\":{\"color\":\"#C8D4E3\"},\"line\":{\"color\":\"white\"}},\"type\":\"table\"}],\"barpolar\":[{\"marker\":{\"line\":{\"color\":\"#E5ECF6\",\"width\":0.5},\"pattern\":{\"fillmode\":\"overlay\",\"size\":10,\"solidity\":0.2}},\"type\":\"barpolar\"}],\"pie\":[{\"automargin\":true,\"type\":\"pie\"}]},\"layout\":{\"autotypenumbers\":\"strict\",\"colorway\":[\"#636efa\",\"#EF553B\",\"#00cc96\",\"#ab63fa\",\"#FFA15A\",\"#19d3f3\",\"#FF6692\",\"#B6E880\",\"#FF97FF\",\"#FECB52\"],\"font\":{\"color\":\"#2a3f5f\"},\"hovermode\":\"closest\",\"hoverlabel\":{\"align\":\"left\"},\"paper_bgcolor\":\"white\",\"plot_bgcolor\":\"#E5ECF6\",\"polar\":{\"bgcolor\":\"#E5ECF6\",\"angularaxis\":{\"gridcolor\":\"white\",\"linecolor\":\"white\",\"ticks\":\"\"},\"radialaxis\":{\"gridcolor\":\"white\",\"linecolor\":\"white\",\"ticks\":\"\"}},\"ternary\":{\"bgcolor\":\"#E5ECF6\",\"aaxis\":{\"gridcolor\":\"white\",\"linecolor\":\"white\",\"ticks\":\"\"},\"baxis\":{\"gridcolor\":\"white\",\"linecolor\":\"white\",\"ticks\":\"\"},\"caxis\":{\"gridcolor\":\"white\",\"linecolor\":\"white\",\"ticks\":\"\"}},\"coloraxis\":{\"colorbar\":{\"outlinewidth\":0,\"ticks\":\"\"}},\"colorscale\":{\"sequential\":[[0.0,\"#0d0887\"],[0.1111111111111111,\"#46039f\"],[0.2222222222222222,\"#7201a8\"],[0.3333333333333333,\"#9c179e\"],[0.4444444444444444,\"#bd3786\"],[0.5555555555555556,\"#d8576b\"],[0.6666666666666666,\"#ed7953\"],[0.7777777777777778,\"#fb9f3a\"],[0.8888888888888888,\"#fdca26\"],[1.0,\"#f0f921\"]],\"sequentialminus\":[[0.0,\"#0d0887\"],[0.1111111111111111,\"#46039f\"],[0.2222222222222222,\"#7201a8\"],[0.3333333333333333,\"#9c179e\"],[0.4444444444444444,\"#bd3786\"],[0.5555555555555556,\"#d8576b\"],[0.6666666666666666,\"#ed7953\"],[0.7777777777777778,\"#fb9f3a\"],[0.8888888888888888,\"#fdca26\"],[1.0,\"#f0f921\"]],\"diverging\":[[0,\"#8e0152\"],[0.1,\"#c51b7d\"],[0.2,\"#de77ae\"],[0.3,\"#f1b6da\"],[0.4,\"#fde0ef\"],[0.5,\"#f7f7f7\"],[0.6,\"#e6f5d0\"],[0.7,\"#b8e186\"],[0.8,\"#7fbc41\"],[0.9,\"#4d9221\"],[1,\"#276419\"]]},\"xaxis\":{\"gridcolor\":\"white\",\"linecolor\":\"white\",\"ticks\":\"\",\"title\":{\"standoff\":15},\"zerolinecolor\":\"white\",\"automargin\":true,\"zerolinewidth\":2},\"yaxis\":{\"gridcolor\":\"white\",\"linecolor\":\"white\",\"ticks\":\"\",\"title\":{\"standoff\":15},\"zerolinecolor\":\"white\",\"automargin\":true,\"zerolinewidth\":2},\"scene\":{\"xaxis\":{\"backgroundcolor\":\"#E5ECF6\",\"gridcolor\":\"white\",\"linecolor\":\"white\",\"showbackground\":true,\"ticks\":\"\",\"zerolinecolor\":\"white\",\"gridwidth\":2},\"yaxis\":{\"backgroundcolor\":\"#E5ECF6\",\"gridcolor\":\"white\",\"linecolor\":\"white\",\"showbackground\":true,\"ticks\":\"\",\"zerolinecolor\":\"white\",\"gridwidth\":2},\"zaxis\":{\"backgroundcolor\":\"#E5ECF6\",\"gridcolor\":\"white\",\"linecolor\":\"white\",\"showbackground\":true,\"ticks\":\"\",\"zerolinecolor\":\"white\",\"gridwidth\":2}},\"shapedefaults\":{\"line\":{\"color\":\"#2a3f5f\"}},\"annotationdefaults\":{\"arrowcolor\":\"#2a3f5f\",\"arrowhead\":0,\"arrowwidth\":1},\"geo\":{\"bgcolor\":\"white\",\"landcolor\":\"#E5ECF6\",\"subunitcolor\":\"white\",\"showland\":true,\"showlakes\":true,\"lakecolor\":\"white\"},\"title\":{\"x\":0.05},\"mapbox\":{\"style\":\"light\"}}},\"xaxis\":{\"anchor\":\"y\",\"domain\":[0.0,1.0],\"title\":{\"text\":\"subject\"},\"categoryorder\":\"array\",\"categoryarray\":[\"math score\",\"reading score\",\"writing score\"]},\"yaxis\":{\"anchor\":\"x\",\"domain\":[0.0,1.0],\"title\":{\"text\":\"score\"}},\"legend\":{\"title\":{\"text\":\"subject\"},\"tracegroupgap\":0},\"margin\":{\"t\":60},\"boxmode\":\"overlay\"},                        {\"responsive\": true}                    ).then(function(){\n",
              "                            \n",
              "var gd = document.getElementById('95aece35-539a-40c6-8c41-c63ed6573aa9');\n",
              "var x = new MutationObserver(function (mutations, observer) {{\n",
              "        var display = window.getComputedStyle(gd).display;\n",
              "        if (!display || display === 'none') {{\n",
              "            console.log([gd, 'removed!']);\n",
              "            Plotly.purge(gd);\n",
              "            observer.disconnect();\n",
              "        }}\n",
              "}});\n",
              "\n",
              "// Listen for the removal of the full notebook cells\n",
              "var notebookContainer = gd.closest('#notebook-container');\n",
              "if (notebookContainer) {{\n",
              "    x.observe(notebookContainer, {childList: true});\n",
              "}}\n",
              "\n",
              "// Listen for the clearing of the current output cell\n",
              "var outputEl = gd.closest('.output');\n",
              "if (outputEl) {{\n",
              "    x.observe(outputEl, {childList: true});\n",
              "}}\n",
              "\n",
              "                        })                };                            </script>        </div>\n",
              "</body>\n",
              "</html>"
            ]
          },
          "metadata": {}
        },
        {
          "output_type": "display_data",
          "data": {
            "text/plain": [
              "<Figure size 432x288 with 1 Axes>"
            ],
            "image/png": "[encoded data removed]"
          },
          "metadata": {
            "needs_background": "light"
          }
        }
      ]
    },
    {
      "cell_type": "markdown",
      "source": [
        "> Utilice la función creada en el punto 1.1 para verificar sus resultados."
      ],
      "metadata": {
        "id": "iAnb7kcRj9gJ",
        "cell_id": "00028-7d461c3c-584a-437b-a3b0-8eb3a9a60b08",
        "deepnote_cell_type": "markdown",
        "deepnote_cell_height": 66.390625
      }
    },
    {
      "cell_type": "markdown",
      "source": [
        "**Justificación:**"
      ],
      "metadata": {
        "id": "mPmHNen3jZCX",
        "cell_id": "00030-826810d6-9106-4a3f-9272-16f541b88ac0",
        "deepnote_cell_type": "markdown",
        "deepnote_cell_height": 52.390625
      }
    },
    {
      "cell_type": "markdown",
      "source": [
        "```\n",
        "Escriba aquí su justificación\n",
        "```\n",
        "Como se puede ver de la exploración de datos nueva, se pudo eliminar exitosamente los valores duplicados en nombre y los NaN's del dataset y tambien los valores por sobre 100 de evaluación."
      ],
      "metadata": {
        "id": "uCK_RZEajZHI",
        "cell_id": "00031-04187309-a1db-4ad3-a90b-75b312d9b39f",
        "deepnote_cell_type": "markdown",
        "deepnote_cell_height": 70.796875
      }
    },
    {
      "cell_type": "markdown",
      "source": [
        "## 1.3 Trabajando con Datos\n",
        "\n",
        "<p align=\"center\">\n",
        "  <img src=\"https://media3.giphy.com/media/YQitE4YNQNahy/giphy-downsized-large.gif\">\n",
        "</p>"
      ],
      "metadata": {
        "id": "2tnenh4uOF6k",
        "cell_id": "00032-35743f33-7587-4206-903d-5922c094c121",
        "deepnote_cell_type": "markdown",
        "deepnote_cell_height": 380
      }
    },
    {
      "cell_type": "markdown",
      "source": [
        "### 1.3.1 Transformación de notas a \"Nota Chilena\" [0.5 Puntos]"
      ],
      "metadata": {
        "id": "Qecw0sKor_Au",
        "cell_id": "00033-ae1d6c24-6c73-49d9-961d-4f6a9da3f5a1",
        "deepnote_cell_type": "markdown",
        "deepnote_cell_height": 62
      }
    },
    {
      "cell_type": "markdown",
      "source": [
        "En una de las reuniones con Don Caguayo este les comenta su intención de pasar todas sus notas a la \"Escala Chilena\". Para esto les facilita la siguiente ecuación:\n",
        "\n",
        "$$Nota \\, Chilena= \\% \\, de \\, logro*0.06 + 1$$\n",
        "\n",
        "Utilizando la ecuación entregada, cree una función que le permita pasar a la escala Chilena las notas que se escapan del rango [1,7] y entregue las notas redondeadas al segundo decimal.\n",
        "\n",
        "**To-Do**\n",
        "\n",
        "- [ ] Tranforme los valores a la escala chilena."
      ],
      "metadata": {
        "id": "BfmD-9yi4PnX",
        "cell_id": "00034-0c2d3679-984b-4d24-8ab0-fc8de61bb42e",
        "deepnote_cell_type": "markdown",
        "deepnote_cell_height": 256.734375
      }
    },
    {
      "cell_type": "markdown",
      "source": [
        "**Respuesta:**"
      ],
      "metadata": {
        "tags": [],
        "cell_id": "00035-7dd5d2b3-12e5-4cb8-a9ab-e3f0e4870b94",
        "deepnote_cell_type": "markdown",
        "deepnote_cell_height": 52.390625,
        "id": "VqhwK_R4DY6W"
      }
    },
    {
      "cell_type": "code",
      "metadata": {
        "id": "GQ0gDEvd3T1m",
        "deepnote_to_be_reexecuted": false,
        "source_hash": "e84f9f19",
        "execution_start": 1632493424541,
        "execution_millis": 1,
        "cell_id": "00036-4f869d3b-f09e-4986-8f77-604d440d0b99",
        "deepnote_cell_type": "code",
        "deepnote_cell_height": 99
      },
      "source": [
        "def nota_chilena(dataframe_in, columna):\n",
        "  \"\"\"\n",
        "  Converst a grading from achievement percentage to chilean grading \n",
        "  rounding to 2 decimal places\n",
        "  ------------------------------------------------------------------\n",
        "    Inputs:\n",
        "    dataframe (pd.dataframe): the dataframe to be converted.\n",
        "    columna (Union[str,List[str]]): the name of the columns to be converted\n",
        "  ------------------------------------------------------------------\n",
        "  Outputs:\n",
        "    dataframe_out (pd.dataframe): the converted dataframe.\n",
        "  \"\"\"\n",
        "  dataframe_out = dataframe_in.copy()\n",
        "  # Convert to chilean grade\n",
        "  dataframe_out[columna] = dataframe_in[columna]*(6.0/100.0) + 1.0\n",
        "  # Round to 2 decimals places\n",
        "  dataframe_out[columna] = dataframe_out[columna].round(decimals = 2)\n",
        "  return dataframe_out\n"
      ],
      "execution_count": null,
      "outputs": []
    },
    {
      "cell_type": "code",
      "source": [
        "df_grades = nota_chilena(df_grades,[\"math score\", 'reading score', 'writing score'])\n",
        "df_grades.head()"
      ],
      "metadata": {
        "colab": {
          "base_uri": "https://localhost:8080/",
          "height": 206
        },
        "id": "_neaiSP0hM2M",
        "outputId": "3e497046-ef34-45fc-ab72-961dab13b5d7"
      },
      "execution_count": null,
      "outputs": [
        {
          "output_type": "execute_result",
          "data": {
            "text/plain": [
              "              names  gender race/ethnicity parental level of education  \\\n",
              "0     Rita Courtney  female        group B            some high school   \n",
              "3  Charles Linstrom    male        group A           bachelor's degree   \n",
              "5       Brian Young    male        group C            some high school   \n",
              "6    Howard Jimenez    male        group E            some high school   \n",
              "7      Wayne Wilson    male        group B            some high school   \n",
              "\n",
              "      lunch test preparation course  math score  reading score  writing score  \n",
              "0  standard                    none        3.22           3.76           3.76  \n",
              "3  standard               completed        5.80           5.68           5.86  \n",
              "5  standard                    none        5.38           4.96           4.78  \n",
              "6  standard               completed        5.86           5.50           5.56  \n",
              "7  standard               completed        6.64           6.16           6.22  "
            ],
            "text/html": [
              "\n",
              "  <div id=\"df-69a2445f-b974-4461-b6cd-0b300a5863c4\">\n",
              "    <div class=\"colab-df-container\">\n",
              "      <div>\n",
              "<style scoped>\n",
              "    .dataframe tbody tr th:only-of-type {\n",
              "        vertical-align: middle;\n",
              "    }\n",
              "\n",
              "    .dataframe tbody tr th {\n",
              "        vertical-align: top;\n",
              "    }\n",
              "\n",
              "    .dataframe thead th {\n",
              "        text-align: right;\n",
              "    }\n",
              "</style>\n",
              "<table border=\"1\" class=\"dataframe\">\n",
              "  <thead>\n",
              "    <tr style=\"text-align: right;\">\n",
              "      <th></th>\n",
              "      <th>names</th>\n",
              "      <th>gender</th>\n",
              "      <th>race/ethnicity</th>\n",
              "      <th>parental level of education</th>\n",
              "      <th>lunch</th>\n",
              "      <th>test preparation course</th>\n",
              "      <th>math score</th>\n",
              "      <th>reading score</th>\n",
              "      <th>writing score</th>\n",
              "    </tr>\n",
              "  </thead>\n",
              "  <tbody>\n",
              "    <tr>\n",
              "      <th>0</th>\n",
              "      <td>Rita Courtney</td>\n",
              "      <td>female</td>\n",
              "      <td>group B</td>\n",
              "      <td>some high school</td>\n",
              "      <td>standard</td>\n",
              "      <td>none</td>\n",
              "      <td>3.22</td>\n",
              "      <td>3.76</td>\n",
              "      <td>3.76</td>\n",
              "    </tr>\n",
              "    <tr>\n",
              "      <th>3</th>\n",
              "      <td>Charles Linstrom</td>\n",
              "      <td>male</td>\n",
              "      <td>group A</td>\n",
              "      <td>bachelor's degree</td>\n",
              "      <td>standard</td>\n",
              "      <td>completed</td>\n",
              "      <td>5.80</td>\n",
              "      <td>5.68</td>\n",
              "      <td>5.86</td>\n",
              "    </tr>\n",
              "    <tr>\n",
              "      <th>5</th>\n",
              "      <td>Brian Young</td>\n",
              "      <td>male</td>\n",
              "      <td>group C</td>\n",
              "      <td>some high school</td>\n",
              "      <td>standard</td>\n",
              "      <td>none</td>\n",
              "      <td>5.38</td>\n",
              "      <td>4.96</td>\n",
              "      <td>4.78</td>\n",
              "    </tr>\n",
              "    <tr>\n",
              "      <th>6</th>\n",
              "      <td>Howard Jimenez</td>\n",
              "      <td>male</td>\n",
              "      <td>group E</td>\n",
              "      <td>some high school</td>\n",
              "      <td>standard</td>\n",
              "      <td>completed</td>\n",
              "      <td>5.86</td>\n",
              "      <td>5.50</td>\n",
              "      <td>5.56</td>\n",
              "    </tr>\n",
              "    <tr>\n",
              "      <th>7</th>\n",
              "      <td>Wayne Wilson</td>\n",
              "      <td>male</td>\n",
              "      <td>group B</td>\n",
              "      <td>some high school</td>\n",
              "      <td>standard</td>\n",
              "      <td>completed</td>\n",
              "      <td>6.64</td>\n",
              "      <td>6.16</td>\n",
              "      <td>6.22</td>\n",
              "    </tr>\n",
              "  </tbody>\n",
              "</table>\n",
              "</div>\n",
              "      <button class=\"colab-df-convert\" onclick=\"convertToInteractive('df-69a2445f-b974-4461-b6cd-0b300a5863c4')\"\n",
              "              title=\"Convert this dataframe to an interactive table.\"\n",
              "              style=\"display:none;\">\n",
              "        \n",
              "  <svg xmlns=\"http://www.w3.org/2000/svg\" height=\"24px\"viewBox=\"0 0 24 24\"\n",
              "       width=\"24px\">\n",
              "    <path d=\"M0 0h24v24H0V0z\" fill=\"none\"/>\n",
              "    <path d=\"M18.56 5.44l.94 2.06.94-2.06 2.06-.94-2.06-.94-.94-2.06-.94 2.06-2.06.94zm-11 1L8.5 8.5l.94-2.06 2.06-.94-2.06-.94L8.5 2.5l-.94 2.06-2.06.94zm10 10l.94 2.06.94-2.06 2.06-.94-2.06-.94-.94-2.06-.94 2.06-2.06.94z\"/><path d=\"M17.41 7.96l-1.37-1.37c-.4-.4-.92-.59-1.43-.59-.52 0-1.04.2-1.43.59L10.3 9.45l-7.72 7.72c-.78.78-.78 2.05 0 2.83L4 21.41c.39.39.9.59 1.41.59.51 0 1.02-.2 1.41-.59l7.78-7.78 2.81-2.81c.8-.78.8-2.07 0-2.86zM5.41 20L4 18.59l7.72-7.72 1.47 1.35L5.41 20z\"/>\n",
              "  </svg>\n",
              "      </button>\n",
              "      \n",
              "  <style>\n",
              "    .colab-df-container {\n",
              "      display:flex;\n",
              "      flex-wrap:wrap;\n",
              "      gap: 12px;\n",
              "    }\n",
              "\n",
              "    .colab-df-convert {\n",
              "      background-color: #E8F0FE;\n",
              "      border: none;\n",
              "      border-radius: 50%;\n",
              "      cursor: pointer;\n",
              "      display: none;\n",
              "      fill: #1967D2;\n",
              "      height: 32px;\n",
              "      padding: 0 0 0 0;\n",
              "      width: 32px;\n",
              "    }\n",
              "\n",
              "    .colab-df-convert:hover {\n",
              "      background-color: #E2EBFA;\n",
              "      box-shadow: 0px 1px 2px rgba(60, 64, 67, 0.3), 0px 1px 3px 1px rgba(60, 64, 67, 0.15);\n",
              "      fill: #174EA6;\n",
              "    }\n",
              "\n",
              "    [theme=dark] .colab-df-convert {\n",
              "      background-color: #3B4455;\n",
              "      fill: #D2E3FC;\n",
              "    }\n",
              "\n",
              "    [theme=dark] .colab-df-convert:hover {\n",
              "      background-color: #434B5C;\n",
              "      box-shadow: 0px 1px 3px 1px rgba(0, 0, 0, 0.15);\n",
              "      filter: drop-shadow(0px 1px 2px rgba(0, 0, 0, 0.3));\n",
              "      fill: #FFFFFF;\n",
              "    }\n",
              "  </style>\n",
              "\n",
              "      <script>\n",
              "        const buttonEl =\n",
              "          document.querySelector('#df-69a2445f-b974-4461-b6cd-0b300a5863c4 button.colab-df-convert');\n",
              "        buttonEl.style.display =\n",
              "          google.colab.kernel.accessAllowed ? 'block' : 'none';\n",
              "\n",
              "        async function convertToInteractive(key) {\n",
              "          const element = document.querySelector('#df-69a2445f-b974-4461-b6cd-0b300a5863c4');\n",
              "          const dataTable =\n",
              "            await google.colab.kernel.invokeFunction('convertToInteractive',\n",
              "                                                     [key], {});\n",
              "          if (!dataTable) return;\n",
              "\n",
              "          const docLinkHtml = 'Like what you see? Visit the ' +\n",
              "            '<a target=\"_blank\" href=https://colab.research.google.com/notebooks/data_table.ipynb>data table notebook</a>'\n",
              "            + ' to learn more about interactive tables.';\n",
              "          element.innerHTML = '';\n",
              "          dataTable['output_type'] = 'display_data';\n",
              "          await google.colab.output.renderOutput(dataTable, element);\n",
              "          const docLink = document.createElement('div');\n",
              "          docLink.innerHTML = docLinkHtml;\n",
              "          element.appendChild(docLink);\n",
              "        }\n",
              "      </script>\n",
              "    </div>\n",
              "  </div>\n",
              "  "
            ]
          },
          "metadata": {},
          "execution_count": 87
        }
      ]
    },
    {
      "cell_type": "markdown",
      "source": [
        "### 1.3.2 Obtención de promedio de alumnos [0.5]"
      ],
      "metadata": {
        "id": "QGe-Hb2UTAE1",
        "cell_id": "00038-3045a9c7-3dc1-4909-a993-3346ce27103d",
        "deepnote_cell_type": "markdown",
        "deepnote_cell_height": 62
      }
    },
    {
      "cell_type": "markdown",
      "source": [
        "Con todas las notas adjuntadas, la prestigiosa Universidad De la Cachaña necesita obtener el promedio general de cada uno de los alumnos. Para esto se le solicita que calcule el promedio con cada una de las asignaturas y el promedio se anexe como una nueva columna al final del DataFrame original. Cabe señalar que las notas deben ser redondeadas al segundo decimal.\n",
        "\n",
        "**To-Do:**\n",
        "- [ ] Crear función que nos permite obtener el promedio de cada uno de los alumnos y anexar esta información en el DataFrame original.\n"
      ],
      "metadata": {
        "id": "AEkWI5K-OZgt",
        "cell_id": "00039-5e16ce47-71fb-4750-9d81-c7bdb854141d",
        "deepnote_cell_type": "markdown",
        "deepnote_cell_height": 228.734375
      }
    },
    {
      "cell_type": "markdown",
      "source": [
        "**Respuesta:**"
      ],
      "metadata": {
        "tags": [],
        "cell_id": "00040-ed949f3e-dd9b-44a7-aa8c-b75d7651546d",
        "deepnote_cell_type": "markdown",
        "deepnote_cell_height": 52.390625,
        "id": "_4zpz932DY6X"
      }
    },
    {
      "cell_type": "code",
      "metadata": {
        "id": "b6CTPp5TAMhE",
        "deepnote_to_be_reexecuted": false,
        "source_hash": "810948b",
        "execution_start": 1632493424597,
        "execution_millis": 0,
        "cell_id": "00041-71c0f72b-1361-4b83-a3d2-cd5a916f0bb0",
        "deepnote_cell_type": "code",
        "deepnote_cell_height": 99
      },
      "source": [
        "def alumnos_promedio(dataframe_in):\n",
        "  \"\"\"\n",
        "  Add a GPA column (mean of scores rounded to 2 decimal places) to dataframe_in\n",
        "  ------------------------------------------------------------------\n",
        "  Inputs:\n",
        "  dataframe_in (pd.dataframe): the dataframe with the scores.\n",
        "  ------------------------------------------------------------------\n",
        "  Outputs:\n",
        "    dataframe_in (pd.dataframe): the same dataframe as Input with GPA column.\n",
        "  \"\"\"\n",
        "\n",
        "  proms = np.mean(dataframe_in[[\"math score\", 'reading score', 'writing score']].to_numpy(), axis=1)\n",
        "  dataframe_in['GPA'] = proms.round(decimals = 2)\n",
        "\n",
        "  return dataframe_in"
      ],
      "execution_count": null,
      "outputs": []
    },
    {
      "cell_type": "code",
      "source": [
        "df_grades = alumnos_promedio(df_grades)"
      ],
      "metadata": {
        "id": "omiyE5zCl54y"
      },
      "execution_count": null,
      "outputs": []
    },
    {
      "cell_type": "code",
      "source": [
        "df_grades.head()"
      ],
      "metadata": {
        "colab": {
          "base_uri": "https://localhost:8080/",
          "height": 206
        },
        "id": "rPRbLJf_pqY5",
        "outputId": "d1c31767-157b-4c82-e21a-110d70091de4"
      },
      "execution_count": null,
      "outputs": [
        {
          "output_type": "execute_result",
          "data": {
            "text/plain": [
              "              names  gender race/ethnicity parental level of education  \\\n",
              "0     Rita Courtney  female        group B            some high school   \n",
              "3  Charles Linstrom    male        group A           bachelor's degree   \n",
              "5       Brian Young    male        group C            some high school   \n",
              "6    Howard Jimenez    male        group E            some high school   \n",
              "7      Wayne Wilson    male        group B            some high school   \n",
              "\n",
              "      lunch test preparation course  math score  reading score  writing score  \\\n",
              "0  standard                    none        3.22           3.76           3.76   \n",
              "3  standard               completed        5.80           5.68           5.86   \n",
              "5  standard                    none        5.38           4.96           4.78   \n",
              "6  standard               completed        5.86           5.50           5.56   \n",
              "7  standard               completed        6.64           6.16           6.22   \n",
              "\n",
              "    GPA  \n",
              "0  3.58  \n",
              "3  5.78  \n",
              "5  5.04  \n",
              "6  5.64  \n",
              "7  6.34  "
            ],
            "text/html": [
              "\n",
              "  <div id=\"df-ef9da2bd-5636-4651-8e19-6cd2c75c779b\">\n",
              "    <div class=\"colab-df-container\">\n",
              "      <div>\n",
              "<style scoped>\n",
              "    .dataframe tbody tr th:only-of-type {\n",
              "        vertical-align: middle;\n",
              "    }\n",
              "\n",
              "    .dataframe tbody tr th {\n",
              "        vertical-align: top;\n",
              "    }\n",
              "\n",
              "    .dataframe thead th {\n",
              "        text-align: right;\n",
              "    }\n",
              "</style>\n",
              "<table border=\"1\" class=\"dataframe\">\n",
              "  <thead>\n",
              "    <tr style=\"text-align: right;\">\n",
              "      <th></th>\n",
              "      <th>names</th>\n",
              "      <th>gender</th>\n",
              "      <th>race/ethnicity</th>\n",
              "      <th>parental level of education</th>\n",
              "      <th>lunch</th>\n",
              "      <th>test preparation course</th>\n",
              "      <th>math score</th>\n",
              "      <th>reading score</th>\n",
              "      <th>writing score</th>\n",
              "      <th>GPA</th>\n",
              "    </tr>\n",
              "  </thead>\n",
              "  <tbody>\n",
              "    <tr>\n",
              "      <th>0</th>\n",
              "      <td>Rita Courtney</td>\n",
              "      <td>female</td>\n",
              "      <td>group B</td>\n",
              "      <td>some high school</td>\n",
              "      <td>standard</td>\n",
              "      <td>none</td>\n",
              "      <td>3.22</td>\n",
              "      <td>3.76</td>\n",
              "      <td>3.76</td>\n",
              "      <td>3.58</td>\n",
              "    </tr>\n",
              "    <tr>\n",
              "      <th>3</th>\n",
              "      <td>Charles Linstrom</td>\n",
              "      <td>male</td>\n",
              "      <td>group A</td>\n",
              "      <td>bachelor's degree</td>\n",
              "      <td>standard</td>\n",
              "      <td>completed</td>\n",
              "      <td>5.80</td>\n",
              "      <td>5.68</td>\n",
              "      <td>5.86</td>\n",
              "      <td>5.78</td>\n",
              "    </tr>\n",
              "    <tr>\n",
              "      <th>5</th>\n",
              "      <td>Brian Young</td>\n",
              "      <td>male</td>\n",
              "      <td>group C</td>\n",
              "      <td>some high school</td>\n",
              "      <td>standard</td>\n",
              "      <td>none</td>\n",
              "      <td>5.38</td>\n",
              "      <td>4.96</td>\n",
              "      <td>4.78</td>\n",
              "      <td>5.04</td>\n",
              "    </tr>\n",
              "    <tr>\n",
              "      <th>6</th>\n",
              "      <td>Howard Jimenez</td>\n",
              "      <td>male</td>\n",
              "      <td>group E</td>\n",
              "      <td>some high school</td>\n",
              "      <td>standard</td>\n",
              "      <td>completed</td>\n",
              "      <td>5.86</td>\n",
              "      <td>5.50</td>\n",
              "      <td>5.56</td>\n",
              "      <td>5.64</td>\n",
              "    </tr>\n",
              "    <tr>\n",
              "      <th>7</th>\n",
              "      <td>Wayne Wilson</td>\n",
              "      <td>male</td>\n",
              "      <td>group B</td>\n",
              "      <td>some high school</td>\n",
              "      <td>standard</td>\n",
              "      <td>completed</td>\n",
              "      <td>6.64</td>\n",
              "      <td>6.16</td>\n",
              "      <td>6.22</td>\n",
              "      <td>6.34</td>\n",
              "    </tr>\n",
              "  </tbody>\n",
              "</table>\n",
              "</div>\n",
              "      <button class=\"colab-df-convert\" onclick=\"convertToInteractive('df-ef9da2bd-5636-4651-8e19-6cd2c75c779b')\"\n",
              "              title=\"Convert this dataframe to an interactive table.\"\n",
              "              style=\"display:none;\">\n",
              "        \n",
              "  <svg xmlns=\"http://www.w3.org/2000/svg\" height=\"24px\"viewBox=\"0 0 24 24\"\n",
              "       width=\"24px\">\n",
              "    <path d=\"M0 0h24v24H0V0z\" fill=\"none\"/>\n",
              "    <path d=\"M18.56 5.44l.94 2.06.94-2.06 2.06-.94-2.06-.94-.94-2.06-.94 2.06-2.06.94zm-11 1L8.5 8.5l.94-2.06 2.06-.94-2.06-.94L8.5 2.5l-.94 2.06-2.06.94zm10 10l.94 2.06.94-2.06 2.06-.94-2.06-.94-.94-2.06-.94 2.06-2.06.94z\"/><path d=\"M17.41 7.96l-1.37-1.37c-.4-.4-.92-.59-1.43-.59-.52 0-1.04.2-1.43.59L10.3 9.45l-7.72 7.72c-.78.78-.78 2.05 0 2.83L4 21.41c.39.39.9.59 1.41.59.51 0 1.02-.2 1.41-.59l7.78-7.78 2.81-2.81c.8-.78.8-2.07 0-2.86zM5.41 20L4 18.59l7.72-7.72 1.47 1.35L5.41 20z\"/>\n",
              "  </svg>\n",
              "      </button>\n",
              "      \n",
              "  <style>\n",
              "    .colab-df-container {\n",
              "      display:flex;\n",
              "      flex-wrap:wrap;\n",
              "      gap: 12px;\n",
              "    }\n",
              "\n",
              "    .colab-df-convert {\n",
              "      background-color: #E8F0FE;\n",
              "      border: none;\n",
              "      border-radius: 50%;\n",
              "      cursor: pointer;\n",
              "      display: none;\n",
              "      fill: #1967D2;\n",
              "      height: 32px;\n",
              "      padding: 0 0 0 0;\n",
              "      width: 32px;\n",
              "    }\n",
              "\n",
              "    .colab-df-convert:hover {\n",
              "      background-color: #E2EBFA;\n",
              "      box-shadow: 0px 1px 2px rgba(60, 64, 67, 0.3), 0px 1px 3px 1px rgba(60, 64, 67, 0.15);\n",
              "      fill: #174EA6;\n",
              "    }\n",
              "\n",
              "    [theme=dark] .colab-df-convert {\n",
              "      background-color: #3B4455;\n",
              "      fill: #D2E3FC;\n",
              "    }\n",
              "\n",
              "    [theme=dark] .colab-df-convert:hover {\n",
              "      background-color: #434B5C;\n",
              "      box-shadow: 0px 1px 3px 1px rgba(0, 0, 0, 0.15);\n",
              "      filter: drop-shadow(0px 1px 2px rgba(0, 0, 0, 0.3));\n",
              "      fill: #FFFFFF;\n",
              "    }\n",
              "  </style>\n",
              "\n",
              "      <script>\n",
              "        const buttonEl =\n",
              "          document.querySelector('#df-ef9da2bd-5636-4651-8e19-6cd2c75c779b button.colab-df-convert');\n",
              "        buttonEl.style.display =\n",
              "          google.colab.kernel.accessAllowed ? 'block' : 'none';\n",
              "\n",
              "        async function convertToInteractive(key) {\n",
              "          const element = document.querySelector('#df-ef9da2bd-5636-4651-8e19-6cd2c75c779b');\n",
              "          const dataTable =\n",
              "            await google.colab.kernel.invokeFunction('convertToInteractive',\n",
              "                                                     [key], {});\n",
              "          if (!dataTable) return;\n",
              "\n",
              "          const docLinkHtml = 'Like what you see? Visit the ' +\n",
              "            '<a target=\"_blank\" href=https://colab.research.google.com/notebooks/data_table.ipynb>data table notebook</a>'\n",
              "            + ' to learn more about interactive tables.';\n",
              "          element.innerHTML = '';\n",
              "          dataTable['output_type'] = 'display_data';\n",
              "          await google.colab.output.renderOutput(dataTable, element);\n",
              "          const docLink = document.createElement('div');\n",
              "          docLink.innerHTML = docLinkHtml;\n",
              "          element.appendChild(docLink);\n",
              "        }\n",
              "      </script>\n",
              "    </div>\n",
              "  </div>\n",
              "  "
            ]
          },
          "metadata": {},
          "execution_count": 90
        }
      ]
    },
    {
      "cell_type": "markdown",
      "source": [
        "**Respuesta Esperada:**"
      ],
      "metadata": {
        "id": "hrakfq02Si8z",
        "cell_id": "00042-507bb30d-9670-4be3-9854-1617ba8f2095",
        "deepnote_cell_type": "markdown",
        "deepnote_cell_height": 52.390625
      }
    },
    {
      "cell_type": "code",
      "metadata": {
        "colab": {
          "base_uri": "https://localhost:8080/",
          "height": 204
        },
        "id": "g9Fiwt8USiac",
        "outputId": "1e4da1d8-62d8-41b1-923d-68bfd65bed38",
        "deepnote_to_be_reexecuted": false,
        "source_hash": "55e53e3b",
        "execution_start": 1632493424603,
        "execution_millis": 43,
        "cell_id": "00043-e16930f7-fe82-453a-8e9a-7421732ac929",
        "deepnote_cell_type": "code",
        "deepnote_cell_height": 115
      },
      "source": [
        "df_grades = alumnos_promedio(df_grades)\n",
        "df_grades.head()"
      ],
      "execution_count": null,
      "outputs": [
        {
          "output_type": "execute_result",
          "execution_count": 12,
          "data": {
            "application/vnd.deepnote.dataframe.v2+json": {
              "row_count": 5,
              "column_count": 10,
              "columns": [
                {
                  "name": "names",
                  "dtype": "object",
                  "stats": {
                    "unique_count": 5,
                    "nan_count": 0,
                    "categories": [
                      {
                        "name": "Rita Courtney",
                        "count": 1
                      },
                      {
                        "name": "Charles Linstrom",
                        "count": 1
                      },
                      {
                        "name": "3 others",
                        "count": 3
                      }
                    ]
                  }
                },
                {
                  "name": "gender",
                  "dtype": "object",
                  "stats": {
                    "unique_count": 2,
                    "nan_count": 0,
                    "categories": [
                      {
                        "name": "male",
                        "count": 4
                      },
                      {
                        "name": "female",
                        "count": 1
                      }
                    ]
                  }
                },
                {
                  "name": "race/ethnicity",
                  "dtype": "object",
                  "stats": {
                    "unique_count": 4,
                    "nan_count": 0,
                    "categories": [
                      {
                        "name": "group B",
                        "count": 2
                      },
                      {
                        "name": "group A",
                        "count": 1
                      },
                      {
                        "name": "2 others",
                        "count": 2
                      }
                    ]
                  }
                },
                {
                  "name": "parental level of education",
                  "dtype": "object",
                  "stats": {
                    "unique_count": 2,
                    "nan_count": 0,
                    "categories": [
                      {
                        "name": "some high school",
                        "count": 4
                      },
                      {
                        "name": "bachelor's degree",
                        "count": 1
                      }
                    ]
                  }
                },
                {
                  "name": "lunch",
                  "dtype": "object",
                  "stats": {
                    "unique_count": 1,
                    "nan_count": 0,
                    "categories": [
                      {
                        "name": "standard",
                        "count": 5
                      }
                    ]
                  }
                },
                {
                  "name": "test preparation course",
                  "dtype": "object",
                  "stats": {
                    "unique_count": 2,
                    "nan_count": 0,
                    "categories": [
                      {
                        "name": "completed",
                        "count": 3
                      },
                      {
                        "name": "none",
                        "count": 2
                      }
                    ]
                  }
                },
                {
                  "name": "math score",
                  "dtype": "float64",
                  "stats": {
                    "unique_count": 5,
                    "nan_count": 0,
                    "min": "3.22",
                    "max": "6.64",
                    "histogram": [
                      {
                        "bin_start": 3.22,
                        "bin_end": 3.5620000000000003,
                        "count": 1
                      },
                      {
                        "bin_start": 3.5620000000000003,
                        "bin_end": 3.904,
                        "count": 0
                      },
                      {
                        "bin_start": 3.904,
                        "bin_end": 4.246,
                        "count": 0
                      },
                      {
                        "bin_start": 4.246,
                        "bin_end": 4.588,
                        "count": 0
                      },
                      {
                        "bin_start": 4.588,
                        "bin_end": 4.93,
                        "count": 0
                      },
                      {
                        "bin_start": 4.93,
                        "bin_end": 5.272,
                        "count": 0
                      },
                      {
                        "bin_start": 5.272,
                        "bin_end": 5.614,
                        "count": 1
                      },
                      {
                        "bin_start": 5.614,
                        "bin_end": 5.9559999999999995,
                        "count": 2
                      },
                      {
                        "bin_start": 5.9559999999999995,
                        "bin_end": 6.298,
                        "count": 0
                      },
                      {
                        "bin_start": 6.298,
                        "bin_end": 6.64,
                        "count": 1
                      }
                    ]
                  }
                },
                {
                  "name": "reading score",
                  "dtype": "float64",
                  "stats": {
                    "unique_count": 5,
                    "nan_count": 0,
                    "min": "3.76",
                    "max": "6.16",
                    "histogram": [
                      {
                        "bin_start": 3.76,
                        "bin_end": 4,
                        "count": 1
                      },
                      {
                        "bin_start": 4,
                        "bin_end": 4.24,
                        "count": 0
                      },
                      {
                        "bin_start": 4.24,
                        "bin_end": 4.48,
                        "count": 0
                      },
                      {
                        "bin_start": 4.48,
                        "bin_end": 4.72,
                        "count": 0
                      },
                      {
                        "bin_start": 4.72,
                        "bin_end": 4.96,
                        "count": 0
                      },
                      {
                        "bin_start": 4.96,
                        "bin_end": 5.2,
                        "count": 1
                      },
                      {
                        "bin_start": 5.2,
                        "bin_end": 5.44,
                        "count": 0
                      },
                      {
                        "bin_start": 5.44,
                        "bin_end": 5.68,
                        "count": 1
                      },
                      {
                        "bin_start": 5.68,
                        "bin_end": 5.92,
                        "count": 1
                      },
                      {
                        "bin_start": 5.92,
                        "bin_end": 6.16,
                        "count": 1
                      }
                    ]
                  }
                },
                {
                  "name": "writing score",
                  "dtype": "float64",
                  "stats": {
                    "unique_count": 5,
                    "nan_count": 0,
                    "min": "3.76",
                    "max": "6.22",
                    "histogram": [
                      {
                        "bin_start": 3.76,
                        "bin_end": 4.006,
                        "count": 1
                      },
                      {
                        "bin_start": 4.006,
                        "bin_end": 4.252,
                        "count": 0
                      },
                      {
                        "bin_start": 4.252,
                        "bin_end": 4.497999999999999,
                        "count": 0
                      },
                      {
                        "bin_start": 4.497999999999999,
                        "bin_end": 4.744,
                        "count": 0
                      },
                      {
                        "bin_start": 4.744,
                        "bin_end": 4.99,
                        "count": 1
                      },
                      {
                        "bin_start": 4.99,
                        "bin_end": 5.236,
                        "count": 0
                      },
                      {
                        "bin_start": 5.236,
                        "bin_end": 5.481999999999999,
                        "count": 0
                      },
                      {
                        "bin_start": 5.481999999999999,
                        "bin_end": 5.728,
                        "count": 1
                      },
                      {
                        "bin_start": 5.728,
                        "bin_end": 5.974,
                        "count": 1
                      },
                      {
                        "bin_start": 5.974,
                        "bin_end": 6.22,
                        "count": 1
                      }
                    ]
                  }
                },
                {
                  "name": "GPA",
                  "dtype": "float64",
                  "stats": {
                    "unique_count": 5,
                    "nan_count": 0,
                    "min": "3.58",
                    "max": "6.34",
                    "histogram": [
                      {
                        "bin_start": 3.58,
                        "bin_end": 3.856,
                        "count": 1
                      },
                      {
                        "bin_start": 3.856,
                        "bin_end": 4.132,
                        "count": 0
                      },
                      {
                        "bin_start": 4.132,
                        "bin_end": 4.4079999999999995,
                        "count": 0
                      },
                      {
                        "bin_start": 4.4079999999999995,
                        "bin_end": 4.684,
                        "count": 0
                      },
                      {
                        "bin_start": 4.684,
                        "bin_end": 4.96,
                        "count": 0
                      },
                      {
                        "bin_start": 4.96,
                        "bin_end": 5.236,
                        "count": 1
                      },
                      {
                        "bin_start": 5.236,
                        "bin_end": 5.512,
                        "count": 0
                      },
                      {
                        "bin_start": 5.512,
                        "bin_end": 5.788,
                        "count": 2
                      },
                      {
                        "bin_start": 5.788,
                        "bin_end": 6.064,
                        "count": 0
                      },
                      {
                        "bin_start": 6.064,
                        "bin_end": 6.34,
                        "count": 1
                      }
                    ]
                  }
                },
                {
                  "name": "_deepnote_index_column",
                  "dtype": "int64"
                }
              ],
              "rows_top": [
                {
                  "names": "Rita Courtney",
                  "gender": "female",
                  "race/ethnicity": "group B",
                  "parental level of education": "some high school",
                  "lunch": "standard",
                  "test preparation course": "none",
                  "math score": 3.22,
                  "reading score": 3.76,
                  "writing score": 3.76,
                  "GPA": 3.58,
                  "_deepnote_index_column": 0
                },
                {
                  "names": "Charles Linstrom",
                  "gender": "male",
                  "race/ethnicity": "group A",
                  "parental level of education": "bachelor's degree",
                  "lunch": "standard",
                  "test preparation course": "completed",
                  "math score": 5.8,
                  "reading score": 5.68,
                  "writing score": 5.86,
                  "GPA": 5.78,
                  "_deepnote_index_column": 1
                },
                {
                  "names": "Brian Young",
                  "gender": "male",
                  "race/ethnicity": "group C",
                  "parental level of education": "some high school",
                  "lunch": "standard",
                  "test preparation course": "none",
                  "math score": 5.38,
                  "reading score": 4.96,
                  "writing score": 4.78,
                  "GPA": 5.04,
                  "_deepnote_index_column": 2
                },
                {
                  "names": "Howard Jimenez",
                  "gender": "male",
                  "race/ethnicity": "group E",
                  "parental level of education": "some high school",
                  "lunch": "standard",
                  "test preparation course": "completed",
                  "math score": 5.86,
                  "reading score": 5.5,
                  "writing score": 5.56,
                  "GPA": 5.64,
                  "_deepnote_index_column": 3
                },
                {
                  "names": "Wayne Wilson",
                  "gender": "male",
                  "race/ethnicity": "group B",
                  "parental level of education": "some high school",
                  "lunch": "standard",
                  "test preparation course": "completed",
                  "math score": 6.64,
                  "reading score": 6.16,
                  "writing score": 6.22,
                  "GPA": 6.34,
                  "_deepnote_index_column": 4
                }
              ],
              "rows_bottom": null
            },
            "text/plain": "              names  gender race/ethnicity parental level of education  \\\n0     Rita Courtney  female        group B            some high school   \n1  Charles Linstrom    male        group A           bachelor's degree   \n2       Brian Young    male        group C            some high school   \n3    Howard Jimenez    male        group E            some high school   \n4      Wayne Wilson    male        group B            some high school   \n\n      lunch test preparation course  math score  reading score  writing score  \\\n0  standard                    none        3.22           3.76           3.76   \n1  standard               completed        5.80           5.68           5.86   \n2  standard                    none        5.38           4.96           4.78   \n3  standard               completed        5.86           5.50           5.56   \n4  standard               completed        6.64           6.16           6.22   \n\n    GPA  \n0  3.58  \n1  5.78  \n2  5.04  \n3  5.64  \n4  6.34  ",
            "text/html": "<div>\n<style scoped>\n    .dataframe tbody tr th:only-of-type {\n        vertical-align: middle;\n    }\n\n    .dataframe tbody tr th {\n        vertical-align: top;\n    }\n\n    .dataframe thead th {\n        text-align: right;\n    }\n</style>\n<table border=\"1\" class=\"dataframe\">\n  <thead>\n    <tr style=\"text-align: right;\">\n      <th></th>\n      <th>names</th>\n      <th>gender</th>\n      <th>race/ethnicity</th>\n      <th>parental level of education</th>\n      <th>lunch</th>\n      <th>test preparation course</th>\n      <th>math score</th>\n      <th>reading score</th>\n      <th>writing score</th>\n      <th>GPA</th>\n    </tr>\n  </thead>\n  <tbody>\n    <tr>\n      <th>0</th>\n      <td>Rita Courtney</td>\n      <td>female</td>\n      <td>group B</td>\n      <td>some high school</td>\n      <td>standard</td>\n      <td>none</td>\n      <td>3.22</td>\n      <td>3.76</td>\n      <td>3.76</td>\n      <td>3.58</td>\n    </tr>\n    <tr>\n      <th>1</th>\n      <td>Charles Linstrom</td>\n      <td>male</td>\n      <td>group A</td>\n      <td>bachelor's degree</td>\n      <td>standard</td>\n      <td>completed</td>\n      <td>5.80</td>\n      <td>5.68</td>\n      <td>5.86</td>\n      <td>5.78</td>\n    </tr>\n    <tr>\n      <th>2</th>\n      <td>Brian Young</td>\n      <td>male</td>\n      <td>group C</td>\n      <td>some high school</td>\n      <td>standard</td>\n      <td>none</td>\n      <td>5.38</td>\n      <td>4.96</td>\n      <td>4.78</td>\n      <td>5.04</td>\n    </tr>\n    <tr>\n      <th>3</th>\n      <td>Howard Jimenez</td>\n      <td>male</td>\n      <td>group E</td>\n      <td>some high school</td>\n      <td>standard</td>\n      <td>completed</td>\n      <td>5.86</td>\n      <td>5.50</td>\n      <td>5.56</td>\n      <td>5.64</td>\n    </tr>\n    <tr>\n      <th>4</th>\n      <td>Wayne Wilson</td>\n      <td>male</td>\n      <td>group B</td>\n      <td>some high school</td>\n      <td>standard</td>\n      <td>completed</td>\n      <td>6.64</td>\n      <td>6.16</td>\n      <td>6.22</td>\n      <td>6.34</td>\n    </tr>\n  </tbody>\n</table>\n</div>"
          },
          "metadata": {}
        }
      ]
    },
    {
      "cell_type": "markdown",
      "source": [
        "### 1.3.3 Reprobados y Destacados [1.5 Punto, 0.5 Cada DataFrame]"
      ],
      "metadata": {
        "id": "uA0ZXAWyBoLX",
        "cell_id": "00044-362969a2-b0d5-4d45-a6f1-0293e36c0417",
        "deepnote_cell_type": "markdown",
        "deepnote_cell_height": 94
      }
    },
    {
      "cell_type": "markdown",
      "source": [
        "Contentos con su desempeño, la Universidad les solicita que obtengan los alumnos quienes han reprobado el año y los que han tenido desempeño de destacado. Para esto se considerará que un alumno ha reprobado el año cuando el promedio de notas es inferior a 4.0 en la Escala Chilena, y se considerará destacado si posee notas superiores a 5.8 en todas las asignaturas (o sea notas superiores a 5.8 en `math score`, `reading score` y `writing score`).\n",
        "\n",
        "Cree una función que permita obtener tres Dataframes: \n",
        "- El primero deberá poseer solamente los alumnos que han reprobado en la prestigiosa universidad.\n",
        "- El segundo debe entregar un DataFrame similar al original, pero marcado con una \"R\" el promedio de notas de los alumnos reprobados.\n",
        "- El tercero será un Data Frame con los alumnos destacados ordenados de mayor a menor.\n",
        "\n",
        "**To-Do:**\n",
        "\n",
        "- [ ] Obtener DataFrame con los alumnos que reprobaron el año.\n",
        "- [ ] Obtener DataFrame similar al original, pero marcados con una \"R\" el atributo GPA de los alumnos reprobados.\n",
        "- [ ] Obtener DataFrame con los alumnos destacados ordenados de mayor a menor."
      ],
      "metadata": {
        "id": "k1FKahC3_g5_",
        "cell_id": "00045-7514bdf0-01ec-4c0a-83d1-12a2a8c8d3c3",
        "deepnote_cell_type": "markdown",
        "deepnote_cell_height": 447.859375
      }
    },
    {
      "cell_type": "markdown",
      "source": [
        "**Respuesta:**"
      ],
      "metadata": {
        "tags": [],
        "cell_id": "00046-8337183c-cd19-4dc0-b936-9dadeda8418e",
        "deepnote_cell_type": "markdown",
        "deepnote_cell_height": 52.390625,
        "id": "w673oAzXDY6Y"
      }
    },
    {
      "cell_type": "code",
      "metadata": {
        "id": "Yw52wzwMAXHW",
        "deepnote_to_be_reexecuted": false,
        "source_hash": "e3c68478",
        "execution_start": 1632493424637,
        "execution_millis": 2,
        "cell_id": "00047-d6f8abcb-8fba-4e2a-9dde-de6844e4868b",
        "deepnote_cell_type": "code",
        "deepnote_cell_height": 117
      },
      "source": [
        "def reprobados_destacados(dataframe_in):\n",
        "    \"\"\"\n",
        "    Get three dataframes: \n",
        "      the first one is a dataframe that contains only failed students\n",
        "      the second one is a dataframe witch marks any failed student GPA with \"R\"\n",
        "      the third one contains outstanding students ordered in descending order\n",
        "\n",
        "    ------------------------------------------------------------------\n",
        "    Inputs:\n",
        "    dataframe_in (pd.dataframe): the dataframe with the scores.\n",
        "    ------------------------------------------------------------------\n",
        "    Outputs:\n",
        "      df_failed (pd.dataframe): dataframe that contains only failed students\n",
        "      df_marked (pd.dataframe): dataframe_in but any failed student has GPA replaced with \"R\"\n",
        "      df_outstd (pd.dataframe): dataframe witch contains outstanding students ordered in descending order\n",
        "    \"\"\"\n",
        "\n",
        "    # Reprobados\n",
        "    df_failed = dataframe_in.copy()\n",
        "    df_failed = df_failed[df_failed['GPA'] < 4.0]\n",
        "    \n",
        "    # Dataset con R´s\n",
        "    df_marked = dataframe_in.copy()\n",
        "    mask = df_marked['GPA'] < 4.0\n",
        "    df_marked.loc[mask, 'GPA']= 'R'\n",
        "    \n",
        "    # Destacados\n",
        "    df_outstd = dataframe_in.copy()\n",
        "    # Filtrar\n",
        "    df_outstd = df_outstd[df_outstd['math score']>5.8] \n",
        "    df_outstd = df_outstd[df_outstd['reading score']>5.8]\n",
        "    df_outstd = df_outstd[df_outstd['writing score']>5.8]\n",
        "    df_outstd = df_outstd.sort_values('GPA', ascending=False)\n",
        "    df_failed, df_marked, df_outstd = df_failed.reset_index(), df_marked.reset_index(), df_outstd.reset_index()\n",
        "\n",
        "    return df_failed, df_marked, df_outstd \n"
      ],
      "execution_count": null,
      "outputs": []
    },
    {
      "cell_type": "markdown",
      "source": [
        "**Respuesta:**"
      ],
      "metadata": {
        "id": "jb9sjfJlwolM",
        "cell_id": "00051-1765b59c-25ca-4dc5-ac88-29805642f748",
        "deepnote_cell_type": "markdown",
        "deepnote_cell_height": 52.390625
      }
    },
    {
      "cell_type": "code",
      "source": [
        "dataframe1, dataframe2, dataframe3 = reprobados_destacados(df_grades)\n",
        "dataframe1"
      ],
      "metadata": {
        "colab": {
          "base_uri": "https://localhost:8080/",
          "height": 423
        },
        "id": "GedMcCqBxXp0",
        "outputId": "c815d657-7ca3-4c7e-d9df-e5a59754ef30"
      },
      "execution_count": null,
      "outputs": [
        {
          "output_type": "execute_result",
          "data": {
            "text/plain": [
              "    index            names  gender race/ethnicity parental level of education  \\\n",
              "0       0    Rita Courtney  female        group B            some high school   \n",
              "1      13      Mikki Amaya  female        group A                 high school   \n",
              "2      26    Samuel Dougal    male        group C             master's degree   \n",
              "3      55  Rodger Talavera    male        group B                 high school   \n",
              "4      63   Morris Johnson    male        group A          associate's degree   \n",
              "..    ...              ...     ...            ...                         ...   \n",
              "85   1371   Charles Harian    male        group C            some high school   \n",
              "86   1373    Wendy Gunnell  female        group D            some high school   \n",
              "87   1389      Diana Costa  female        group C                 high school   \n",
              "88   1391      Amy Sieving  female        group C                 high school   \n",
              "89   1394    Wanda Russell  female        group B                 high school   \n",
              "\n",
              "           lunch test preparation course  math score  reading score  \\\n",
              "0       standard                    none        3.22           3.76   \n",
              "1   free/reduced               completed        3.04           3.88   \n",
              "2   free/reduced               completed        3.76           3.52   \n",
              "3   free/reduced                    none        3.16           2.74   \n",
              "4   free/reduced               completed        3.40           4.30   \n",
              "..           ...                     ...         ...            ...   \n",
              "85  free/reduced               completed        3.70           4.12   \n",
              "86  free/reduced                    none        2.62           3.04   \n",
              "87  free/reduced                    none        3.46           3.76   \n",
              "88      standard                    none        2.74           2.74   \n",
              "89  free/reduced               completed        2.38           3.64   \n",
              "\n",
              "    writing score   GPA  \n",
              "0            3.76  3.58  \n",
              "1            3.46  3.46  \n",
              "2            3.76  3.68  \n",
              "3            2.62  2.84  \n",
              "4            4.18  3.96  \n",
              "..            ...   ...  \n",
              "85           3.94  3.92  \n",
              "86           2.92  2.86  \n",
              "87           3.58  3.60  \n",
              "88           2.80  2.76  \n",
              "89           3.16  3.06  \n",
              "\n",
              "[90 rows x 11 columns]"
            ],
            "text/html": [
              "\n",
              "  <div id=\"df-5e830432-001b-4243-b972-f005b4d11d56\">\n",
              "    <div class=\"colab-df-container\">\n",
              "      <div>\n",
              "<style scoped>\n",
              "    .dataframe tbody tr th:only-of-type {\n",
              "        vertical-align: middle;\n",
              "    }\n",
              "\n",
              "    .dataframe tbody tr th {\n",
              "        vertical-align: top;\n",
              "    }\n",
              "\n",
              "    .dataframe thead th {\n",
              "        text-align: right;\n",
              "    }\n",
              "</style>\n",
              "<table border=\"1\" class=\"dataframe\">\n",
              "  <thead>\n",
              "    <tr style=\"text-align: right;\">\n",
              "      <th></th>\n",
              "      <th>index</th>\n",
              "      <th>names</th>\n",
              "      <th>gender</th>\n",
              "      <th>race/ethnicity</th>\n",
              "      <th>parental level of education</th>\n",
              "      <th>lunch</th>\n",
              "      <th>test preparation course</th>\n",
              "      <th>math score</th>\n",
              "      <th>reading score</th>\n",
              "      <th>writing score</th>\n",
              "      <th>GPA</th>\n",
              "    </tr>\n",
              "  </thead>\n",
              "  <tbody>\n",
              "    <tr>\n",
              "      <th>0</th>\n",
              "      <td>0</td>\n",
              "      <td>Rita Courtney</td>\n",
              "      <td>female</td>\n",
              "      <td>group B</td>\n",
              "      <td>some high school</td>\n",
              "      <td>standard</td>\n",
              "      <td>none</td>\n",
              "      <td>3.22</td>\n",
              "      <td>3.76</td>\n",
              "      <td>3.76</td>\n",
              "      <td>3.58</td>\n",
              "    </tr>\n",
              "    <tr>\n",
              "      <th>1</th>\n",
              "      <td>13</td>\n",
              "      <td>Mikki Amaya</td>\n",
              "      <td>female</td>\n",
              "      <td>group A</td>\n",
              "      <td>high school</td>\n",
              "      <td>free/reduced</td>\n",
              "      <td>completed</td>\n",
              "      <td>3.04</td>\n",
              "      <td>3.88</td>\n",
              "      <td>3.46</td>\n",
              "      <td>3.46</td>\n",
              "    </tr>\n",
              "    <tr>\n",
              "      <th>2</th>\n",
              "      <td>26</td>\n",
              "      <td>Samuel Dougal</td>\n",
              "      <td>male</td>\n",
              "      <td>group C</td>\n",
              "      <td>master's degree</td>\n",
              "      <td>free/reduced</td>\n",
              "      <td>completed</td>\n",
              "      <td>3.76</td>\n",
              "      <td>3.52</td>\n",
              "      <td>3.76</td>\n",
              "      <td>3.68</td>\n",
              "    </tr>\n",
              "    <tr>\n",
              "      <th>3</th>\n",
              "      <td>55</td>\n",
              "      <td>Rodger Talavera</td>\n",
              "      <td>male</td>\n",
              "      <td>group B</td>\n",
              "      <td>high school</td>\n",
              "      <td>free/reduced</td>\n",
              "      <td>none</td>\n",
              "      <td>3.16</td>\n",
              "      <td>2.74</td>\n",
              "      <td>2.62</td>\n",
              "      <td>2.84</td>\n",
              "    </tr>\n",
              "    <tr>\n",
              "      <th>4</th>\n",
              "      <td>63</td>\n",
              "      <td>Morris Johnson</td>\n",
              "      <td>male</td>\n",
              "      <td>group A</td>\n",
              "      <td>associate's degree</td>\n",
              "      <td>free/reduced</td>\n",
              "      <td>completed</td>\n",
              "      <td>3.40</td>\n",
              "      <td>4.30</td>\n",
              "      <td>4.18</td>\n",
              "      <td>3.96</td>\n",
              "    </tr>\n",
              "    <tr>\n",
              "      <th>...</th>\n",
              "      <td>...</td>\n",
              "      <td>...</td>\n",
              "      <td>...</td>\n",
              "      <td>...</td>\n",
              "      <td>...</td>\n",
              "      <td>...</td>\n",
              "      <td>...</td>\n",
              "      <td>...</td>\n",
              "      <td>...</td>\n",
              "      <td>...</td>\n",
              "      <td>...</td>\n",
              "    </tr>\n",
              "    <tr>\n",
              "      <th>85</th>\n",
              "      <td>1371</td>\n",
              "      <td>Charles Harian</td>\n",
              "      <td>male</td>\n",
              "      <td>group C</td>\n",
              "      <td>some high school</td>\n",
              "      <td>free/reduced</td>\n",
              "      <td>completed</td>\n",
              "      <td>3.70</td>\n",
              "      <td>4.12</td>\n",
              "      <td>3.94</td>\n",
              "      <td>3.92</td>\n",
              "    </tr>\n",
              "    <tr>\n",
              "      <th>86</th>\n",
              "      <td>1373</td>\n",
              "      <td>Wendy Gunnell</td>\n",
              "      <td>female</td>\n",
              "      <td>group D</td>\n",
              "      <td>some high school</td>\n",
              "      <td>free/reduced</td>\n",
              "      <td>none</td>\n",
              "      <td>2.62</td>\n",
              "      <td>3.04</td>\n",
              "      <td>2.92</td>\n",
              "      <td>2.86</td>\n",
              "    </tr>\n",
              "    <tr>\n",
              "      <th>87</th>\n",
              "      <td>1389</td>\n",
              "      <td>Diana Costa</td>\n",
              "      <td>female</td>\n",
              "      <td>group C</td>\n",
              "      <td>high school</td>\n",
              "      <td>free/reduced</td>\n",
              "      <td>none</td>\n",
              "      <td>3.46</td>\n",
              "      <td>3.76</td>\n",
              "      <td>3.58</td>\n",
              "      <td>3.60</td>\n",
              "    </tr>\n",
              "    <tr>\n",
              "      <th>88</th>\n",
              "      <td>1391</td>\n",
              "      <td>Amy Sieving</td>\n",
              "      <td>female</td>\n",
              "      <td>group C</td>\n",
              "      <td>high school</td>\n",
              "      <td>standard</td>\n",
              "      <td>none</td>\n",
              "      <td>2.74</td>\n",
              "      <td>2.74</td>\n",
              "      <td>2.80</td>\n",
              "      <td>2.76</td>\n",
              "    </tr>\n",
              "    <tr>\n",
              "      <th>89</th>\n",
              "      <td>1394</td>\n",
              "      <td>Wanda Russell</td>\n",
              "      <td>female</td>\n",
              "      <td>group B</td>\n",
              "      <td>high school</td>\n",
              "      <td>free/reduced</td>\n",
              "      <td>completed</td>\n",
              "      <td>2.38</td>\n",
              "      <td>3.64</td>\n",
              "      <td>3.16</td>\n",
              "      <td>3.06</td>\n",
              "    </tr>\n",
              "  </tbody>\n",
              "</table>\n",
              "<p>90 rows × 11 columns</p>\n",
              "</div>\n",
              "      <button class=\"colab-df-convert\" onclick=\"convertToInteractive('df-5e830432-001b-4243-b972-f005b4d11d56')\"\n",
              "              title=\"Convert this dataframe to an interactive table.\"\n",
              "              style=\"display:none;\">\n",
              "        \n",
              "  <svg xmlns=\"http://www.w3.org/2000/svg\" height=\"24px\"viewBox=\"0 0 24 24\"\n",
              "       width=\"24px\">\n",
              "    <path d=\"M0 0h24v24H0V0z\" fill=\"none\"/>\n",
              "    <path d=\"M18.56 5.44l.94 2.06.94-2.06 2.06-.94-2.06-.94-.94-2.06-.94 2.06-2.06.94zm-11 1L8.5 8.5l.94-2.06 2.06-.94-2.06-.94L8.5 2.5l-.94 2.06-2.06.94zm10 10l.94 2.06.94-2.06 2.06-.94-2.06-.94-.94-2.06-.94 2.06-2.06.94z\"/><path d=\"M17.41 7.96l-1.37-1.37c-.4-.4-.92-.59-1.43-.59-.52 0-1.04.2-1.43.59L10.3 9.45l-7.72 7.72c-.78.78-.78 2.05 0 2.83L4 21.41c.39.39.9.59 1.41.59.51 0 1.02-.2 1.41-.59l7.78-7.78 2.81-2.81c.8-.78.8-2.07 0-2.86zM5.41 20L4 18.59l7.72-7.72 1.47 1.35L5.41 20z\"/>\n",
              "  </svg>\n",
              "      </button>\n",
              "      \n",
              "  <style>\n",
              "    .colab-df-container {\n",
              "      display:flex;\n",
              "      flex-wrap:wrap;\n",
              "      gap: 12px;\n",
              "    }\n",
              "\n",
              "    .colab-df-convert {\n",
              "      background-color: #E8F0FE;\n",
              "      border: none;\n",
              "      border-radius: 50%;\n",
              "      cursor: pointer;\n",
              "      display: none;\n",
              "      fill: #1967D2;\n",
              "      height: 32px;\n",
              "      padding: 0 0 0 0;\n",
              "      width: 32px;\n",
              "    }\n",
              "\n",
              "    .colab-df-convert:hover {\n",
              "      background-color: #E2EBFA;\n",
              "      box-shadow: 0px 1px 2px rgba(60, 64, 67, 0.3), 0px 1px 3px 1px rgba(60, 64, 67, 0.15);\n",
              "      fill: #174EA6;\n",
              "    }\n",
              "\n",
              "    [theme=dark] .colab-df-convert {\n",
              "      background-color: #3B4455;\n",
              "      fill: #D2E3FC;\n",
              "    }\n",
              "\n",
              "    [theme=dark] .colab-df-convert:hover {\n",
              "      background-color: #434B5C;\n",
              "      box-shadow: 0px 1px 3px 1px rgba(0, 0, 0, 0.15);\n",
              "      filter: drop-shadow(0px 1px 2px rgba(0, 0, 0, 0.3));\n",
              "      fill: #FFFFFF;\n",
              "    }\n",
              "  </style>\n",
              "\n",
              "      <script>\n",
              "        const buttonEl =\n",
              "          document.querySelector('#df-5e830432-001b-4243-b972-f005b4d11d56 button.colab-df-convert');\n",
              "        buttonEl.style.display =\n",
              "          google.colab.kernel.accessAllowed ? 'block' : 'none';\n",
              "\n",
              "        async function convertToInteractive(key) {\n",
              "          const element = document.querySelector('#df-5e830432-001b-4243-b972-f005b4d11d56');\n",
              "          const dataTable =\n",
              "            await google.colab.kernel.invokeFunction('convertToInteractive',\n",
              "                                                     [key], {});\n",
              "          if (!dataTable) return;\n",
              "\n",
              "          const docLinkHtml = 'Like what you see? Visit the ' +\n",
              "            '<a target=\"_blank\" href=https://colab.research.google.com/notebooks/data_table.ipynb>data table notebook</a>'\n",
              "            + ' to learn more about interactive tables.';\n",
              "          element.innerHTML = '';\n",
              "          dataTable['output_type'] = 'display_data';\n",
              "          await google.colab.output.renderOutput(dataTable, element);\n",
              "          const docLink = document.createElement('div');\n",
              "          docLink.innerHTML = docLinkHtml;\n",
              "          element.appendChild(docLink);\n",
              "        }\n",
              "      </script>\n",
              "    </div>\n",
              "  </div>\n",
              "  "
            ]
          },
          "metadata": {},
          "execution_count": 92
        }
      ]
    },
    {
      "cell_type": "code",
      "source": [
        "dataframe2"
      ],
      "metadata": {
        "colab": {
          "base_uri": "https://localhost:8080/",
          "height": 423
        },
        "id": "uaZQ1jfMxYut",
        "outputId": "41dfc7ac-ab4a-490d-f282-350215b70bb1"
      },
      "execution_count": null,
      "outputs": [
        {
          "output_type": "execute_result",
          "data": {
            "text/plain": [
              "     index             names  gender race/ethnicity  \\\n",
              "0        0     Rita Courtney  female        group B   \n",
              "1        3  Charles Linstrom    male        group A   \n",
              "2        5       Brian Young    male        group C   \n",
              "3        6    Howard Jimenez    male        group E   \n",
              "4        7      Wayne Wilson    male        group B   \n",
              "..     ...               ...     ...            ...   \n",
              "896   1392     Richard Young    male        group D   \n",
              "897   1394     Wanda Russell  female        group B   \n",
              "898   1396    Marina Zeigler  female        group C   \n",
              "899   1397     Laurie Carter  female        group B   \n",
              "900   1399      Amanda Perez  female        group A   \n",
              "\n",
              "    parental level of education         lunch test preparation course  \\\n",
              "0              some high school      standard                    none   \n",
              "1             bachelor's degree      standard               completed   \n",
              "2              some high school      standard                    none   \n",
              "3              some high school      standard               completed   \n",
              "4              some high school      standard               completed   \n",
              "..                          ...           ...                     ...   \n",
              "896                 high school      standard                    none   \n",
              "897                 high school  free/reduced               completed   \n",
              "898           bachelor's degree  free/reduced               completed   \n",
              "899            some high school      standard               completed   \n",
              "900                 high school      standard               completed   \n",
              "\n",
              "     math score  reading score  writing score   GPA  \n",
              "0          3.22           3.76           3.76     R  \n",
              "1          5.80           5.68           5.86  5.78  \n",
              "2          5.38           4.96           4.78  5.04  \n",
              "3          5.86           5.50           5.56  5.64  \n",
              "4          6.64           6.16           6.22  6.34  \n",
              "..          ...            ...            ...   ...  \n",
              "896        5.14           5.50           5.26   5.3  \n",
              "897        2.38           3.64           3.16     R  \n",
              "898        4.96           5.44           5.86  5.42  \n",
              "899        4.24           4.66           4.72  4.54  \n",
              "900        5.08           5.80           5.56  5.48  \n",
              "\n",
              "[901 rows x 11 columns]"
            ],
            "text/html": [
              "\n",
              "  <div id=\"df-2539ab4d-e62c-40d5-abf8-9c0a6e6f664c\">\n",
              "    <div class=\"colab-df-container\">\n",
              "      <div>\n",
              "<style scoped>\n",
              "    .dataframe tbody tr th:only-of-type {\n",
              "        vertical-align: middle;\n",
              "    }\n",
              "\n",
              "    .dataframe tbody tr th {\n",
              "        vertical-align: top;\n",
              "    }\n",
              "\n",
              "    .dataframe thead th {\n",
              "        text-align: right;\n",
              "    }\n",
              "</style>\n",
              "<table border=\"1\" class=\"dataframe\">\n",
              "  <thead>\n",
              "    <tr style=\"text-align: right;\">\n",
              "      <th></th>\n",
              "      <th>index</th>\n",
              "      <th>names</th>\n",
              "      <th>gender</th>\n",
              "      <th>race/ethnicity</th>\n",
              "      <th>parental level of education</th>\n",
              "      <th>lunch</th>\n",
              "      <th>test preparation course</th>\n",
              "      <th>math score</th>\n",
              "      <th>reading score</th>\n",
              "      <th>writing score</th>\n",
              "      <th>GPA</th>\n",
              "    </tr>\n",
              "  </thead>\n",
              "  <tbody>\n",
              "    <tr>\n",
              "      <th>0</th>\n",
              "      <td>0</td>\n",
              "      <td>Rita Courtney</td>\n",
              "      <td>female</td>\n",
              "      <td>group B</td>\n",
              "      <td>some high school</td>\n",
              "      <td>standard</td>\n",
              "      <td>none</td>\n",
              "      <td>3.22</td>\n",
              "      <td>3.76</td>\n",
              "      <td>3.76</td>\n",
              "      <td>R</td>\n",
              "    </tr>\n",
              "    <tr>\n",
              "      <th>1</th>\n",
              "      <td>3</td>\n",
              "      <td>Charles Linstrom</td>\n",
              "      <td>male</td>\n",
              "      <td>group A</td>\n",
              "      <td>bachelor's degree</td>\n",
              "      <td>standard</td>\n",
              "      <td>completed</td>\n",
              "      <td>5.80</td>\n",
              "      <td>5.68</td>\n",
              "      <td>5.86</td>\n",
              "      <td>5.78</td>\n",
              "    </tr>\n",
              "    <tr>\n",
              "      <th>2</th>\n",
              "      <td>5</td>\n",
              "      <td>Brian Young</td>\n",
              "      <td>male</td>\n",
              "      <td>group C</td>\n",
              "      <td>some high school</td>\n",
              "      <td>standard</td>\n",
              "      <td>none</td>\n",
              "      <td>5.38</td>\n",
              "      <td>4.96</td>\n",
              "      <td>4.78</td>\n",
              "      <td>5.04</td>\n",
              "    </tr>\n",
              "    <tr>\n",
              "      <th>3</th>\n",
              "      <td>6</td>\n",
              "      <td>Howard Jimenez</td>\n",
              "      <td>male</td>\n",
              "      <td>group E</td>\n",
              "      <td>some high school</td>\n",
              "      <td>standard</td>\n",
              "      <td>completed</td>\n",
              "      <td>5.86</td>\n",
              "      <td>5.50</td>\n",
              "      <td>5.56</td>\n",
              "      <td>5.64</td>\n",
              "    </tr>\n",
              "    <tr>\n",
              "      <th>4</th>\n",
              "      <td>7</td>\n",
              "      <td>Wayne Wilson</td>\n",
              "      <td>male</td>\n",
              "      <td>group B</td>\n",
              "      <td>some high school</td>\n",
              "      <td>standard</td>\n",
              "      <td>completed</td>\n",
              "      <td>6.64</td>\n",
              "      <td>6.16</td>\n",
              "      <td>6.22</td>\n",
              "      <td>6.34</td>\n",
              "    </tr>\n",
              "    <tr>\n",
              "      <th>...</th>\n",
              "      <td>...</td>\n",
              "      <td>...</td>\n",
              "      <td>...</td>\n",
              "      <td>...</td>\n",
              "      <td>...</td>\n",
              "      <td>...</td>\n",
              "      <td>...</td>\n",
              "      <td>...</td>\n",
              "      <td>...</td>\n",
              "      <td>...</td>\n",
              "      <td>...</td>\n",
              "    </tr>\n",
              "    <tr>\n",
              "      <th>896</th>\n",
              "      <td>1392</td>\n",
              "      <td>Richard Young</td>\n",
              "      <td>male</td>\n",
              "      <td>group D</td>\n",
              "      <td>high school</td>\n",
              "      <td>standard</td>\n",
              "      <td>none</td>\n",
              "      <td>5.14</td>\n",
              "      <td>5.50</td>\n",
              "      <td>5.26</td>\n",
              "      <td>5.3</td>\n",
              "    </tr>\n",
              "    <tr>\n",
              "      <th>897</th>\n",
              "      <td>1394</td>\n",
              "      <td>Wanda Russell</td>\n",
              "      <td>female</td>\n",
              "      <td>group B</td>\n",
              "      <td>high school</td>\n",
              "      <td>free/reduced</td>\n",
              "      <td>completed</td>\n",
              "      <td>2.38</td>\n",
              "      <td>3.64</td>\n",
              "      <td>3.16</td>\n",
              "      <td>R</td>\n",
              "    </tr>\n",
              "    <tr>\n",
              "      <th>898</th>\n",
              "      <td>1396</td>\n",
              "      <td>Marina Zeigler</td>\n",
              "      <td>female</td>\n",
              "      <td>group C</td>\n",
              "      <td>bachelor's degree</td>\n",
              "      <td>free/reduced</td>\n",
              "      <td>completed</td>\n",
              "      <td>4.96</td>\n",
              "      <td>5.44</td>\n",
              "      <td>5.86</td>\n",
              "      <td>5.42</td>\n",
              "    </tr>\n",
              "    <tr>\n",
              "      <th>899</th>\n",
              "      <td>1397</td>\n",
              "      <td>Laurie Carter</td>\n",
              "      <td>female</td>\n",
              "      <td>group B</td>\n",
              "      <td>some high school</td>\n",
              "      <td>standard</td>\n",
              "      <td>completed</td>\n",
              "      <td>4.24</td>\n",
              "      <td>4.66</td>\n",
              "      <td>4.72</td>\n",
              "      <td>4.54</td>\n",
              "    </tr>\n",
              "    <tr>\n",
              "      <th>900</th>\n",
              "      <td>1399</td>\n",
              "      <td>Amanda Perez</td>\n",
              "      <td>female</td>\n",
              "      <td>group A</td>\n",
              "      <td>high school</td>\n",
              "      <td>standard</td>\n",
              "      <td>completed</td>\n",
              "      <td>5.08</td>\n",
              "      <td>5.80</td>\n",
              "      <td>5.56</td>\n",
              "      <td>5.48</td>\n",
              "    </tr>\n",
              "  </tbody>\n",
              "</table>\n",
              "<p>901 rows × 11 columns</p>\n",
              "</div>\n",
              "      <button class=\"colab-df-convert\" onclick=\"convertToInteractive('df-2539ab4d-e62c-40d5-abf8-9c0a6e6f664c')\"\n",
              "              title=\"Convert this dataframe to an interactive table.\"\n",
              "              style=\"display:none;\">\n",
              "        \n",
              "  <svg xmlns=\"http://www.w3.org/2000/svg\" height=\"24px\"viewBox=\"0 0 24 24\"\n",
              "       width=\"24px\">\n",
              "    <path d=\"M0 0h24v24H0V0z\" fill=\"none\"/>\n",
              "    <path d=\"M18.56 5.44l.94 2.06.94-2.06 2.06-.94-2.06-.94-.94-2.06-.94 2.06-2.06.94zm-11 1L8.5 8.5l.94-2.06 2.06-.94-2.06-.94L8.5 2.5l-.94 2.06-2.06.94zm10 10l.94 2.06.94-2.06 2.06-.94-2.06-.94-.94-2.06-.94 2.06-2.06.94z\"/><path d=\"M17.41 7.96l-1.37-1.37c-.4-.4-.92-.59-1.43-.59-.52 0-1.04.2-1.43.59L10.3 9.45l-7.72 7.72c-.78.78-.78 2.05 0 2.83L4 21.41c.39.39.9.59 1.41.59.51 0 1.02-.2 1.41-.59l7.78-7.78 2.81-2.81c.8-.78.8-2.07 0-2.86zM5.41 20L4 18.59l7.72-7.72 1.47 1.35L5.41 20z\"/>\n",
              "  </svg>\n",
              "      </button>\n",
              "      \n",
              "  <style>\n",
              "    .colab-df-container {\n",
              "      display:flex;\n",
              "      flex-wrap:wrap;\n",
              "      gap: 12px;\n",
              "    }\n",
              "\n",
              "    .colab-df-convert {\n",
              "      background-color: #E8F0FE;\n",
              "      border: none;\n",
              "      border-radius: 50%;\n",
              "      cursor: pointer;\n",
              "      display: none;\n",
              "      fill: #1967D2;\n",
              "      height: 32px;\n",
              "      padding: 0 0 0 0;\n",
              "      width: 32px;\n",
              "    }\n",
              "\n",
              "    .colab-df-convert:hover {\n",
              "      background-color: #E2EBFA;\n",
              "      box-shadow: 0px 1px 2px rgba(60, 64, 67, 0.3), 0px 1px 3px 1px rgba(60, 64, 67, 0.15);\n",
              "      fill: #174EA6;\n",
              "    }\n",
              "\n",
              "    [theme=dark] .colab-df-convert {\n",
              "      background-color: #3B4455;\n",
              "      fill: #D2E3FC;\n",
              "    }\n",
              "\n",
              "    [theme=dark] .colab-df-convert:hover {\n",
              "      background-color: #434B5C;\n",
              "      box-shadow: 0px 1px 3px 1px rgba(0, 0, 0, 0.15);\n",
              "      filter: drop-shadow(0px 1px 2px rgba(0, 0, 0, 0.3));\n",
              "      fill: #FFFFFF;\n",
              "    }\n",
              "  </style>\n",
              "\n",
              "      <script>\n",
              "        const buttonEl =\n",
              "          document.querySelector('#df-2539ab4d-e62c-40d5-abf8-9c0a6e6f664c button.colab-df-convert');\n",
              "        buttonEl.style.display =\n",
              "          google.colab.kernel.accessAllowed ? 'block' : 'none';\n",
              "\n",
              "        async function convertToInteractive(key) {\n",
              "          const element = document.querySelector('#df-2539ab4d-e62c-40d5-abf8-9c0a6e6f664c');\n",
              "          const dataTable =\n",
              "            await google.colab.kernel.invokeFunction('convertToInteractive',\n",
              "                                                     [key], {});\n",
              "          if (!dataTable) return;\n",
              "\n",
              "          const docLinkHtml = 'Like what you see? Visit the ' +\n",
              "            '<a target=\"_blank\" href=https://colab.research.google.com/notebooks/data_table.ipynb>data table notebook</a>'\n",
              "            + ' to learn more about interactive tables.';\n",
              "          element.innerHTML = '';\n",
              "          dataTable['output_type'] = 'display_data';\n",
              "          await google.colab.output.renderOutput(dataTable, element);\n",
              "          const docLink = document.createElement('div');\n",
              "          docLink.innerHTML = docLinkHtml;\n",
              "          element.appendChild(docLink);\n",
              "        }\n",
              "      </script>\n",
              "    </div>\n",
              "  </div>\n",
              "  "
            ]
          },
          "metadata": {},
          "execution_count": 93
        }
      ]
    },
    {
      "cell_type": "code",
      "source": [
        "dataframe3"
      ],
      "metadata": {
        "colab": {
          "base_uri": "https://localhost:8080/",
          "height": 423
        },
        "id": "Ro-iV912xaZt",
        "outputId": "24e1b068-d959-4898-8f10-465a38a44dd4"
      },
      "execution_count": null,
      "outputs": [
        {
          "output_type": "execute_result",
          "data": {
            "text/plain": [
              "    index              names  gender race/ethnicity  \\\n",
              "0     677      Richard Pryor    male        group E   \n",
              "1    1352      Sandra Pompey  female        group E   \n",
              "2     384  Elizabeth Beasley  female        group E   \n",
              "3     475          Emma Gray  female        group E   \n",
              "4     279       Emma Brasher  female        group D   \n",
              "..    ...                ...     ...            ...   \n",
              "89    949     Rolando Widmer    male        group C   \n",
              "90    296  Lucille Stanphill  female        group C   \n",
              "91    300       Steven Kelly    male        group D   \n",
              "92   1307        Peter Perez    male        group D   \n",
              "93     96        Harry Berry    male        group B   \n",
              "\n",
              "   parental level of education     lunch test preparation course  math score  \\\n",
              "0            bachelor's degree  standard               completed        7.00   \n",
              "1           associate's degree  standard                    none        7.00   \n",
              "2            bachelor's degree  standard                    none        7.00   \n",
              "3            bachelor's degree  standard               completed        6.94   \n",
              "4             some high school  standard               completed        6.82   \n",
              "..                         ...       ...                     ...         ...   \n",
              "89                 high school  standard               completed        5.92   \n",
              "90                 high school  standard                    none        5.86   \n",
              "91                some college  standard                    none        5.86   \n",
              "92             master's degree  standard                    none        5.86   \n",
              "93          associate's degree  standard               completed        5.86   \n",
              "\n",
              "    reading score  writing score   GPA  \n",
              "0            7.00           7.00  7.00  \n",
              "1            7.00           7.00  7.00  \n",
              "2            7.00           7.00  7.00  \n",
              "3            7.00           7.00  6.98  \n",
              "4            7.00           7.00  6.94  \n",
              "..            ...            ...   ...  \n",
              "89           6.04           5.92  5.96  \n",
              "90           6.04           5.92  5.94  \n",
              "91           5.92           6.04  5.94  \n",
              "92           5.86           6.04  5.92  \n",
              "93           5.92           5.92  5.90  \n",
              "\n",
              "[94 rows x 11 columns]"
            ],
            "text/html": [
              "\n",
              "  <div id=\"df-0b7f28c4-3163-4920-983f-8b107d9b2489\">\n",
              "    <div class=\"colab-df-container\">\n",
              "      <div>\n",
              "<style scoped>\n",
              "    .dataframe tbody tr th:only-of-type {\n",
              "        vertical-align: middle;\n",
              "    }\n",
              "\n",
              "    .dataframe tbody tr th {\n",
              "        vertical-align: top;\n",
              "    }\n",
              "\n",
              "    .dataframe thead th {\n",
              "        text-align: right;\n",
              "    }\n",
              "</style>\n",
              "<table border=\"1\" class=\"dataframe\">\n",
              "  <thead>\n",
              "    <tr style=\"text-align: right;\">\n",
              "      <th></th>\n",
              "      <th>index</th>\n",
              "      <th>names</th>\n",
              "      <th>gender</th>\n",
              "      <th>race/ethnicity</th>\n",
              "      <th>parental level of education</th>\n",
              "      <th>lunch</th>\n",
              "      <th>test preparation course</th>\n",
              "      <th>math score</th>\n",
              "      <th>reading score</th>\n",
              "      <th>writing score</th>\n",
              "      <th>GPA</th>\n",
              "    </tr>\n",
              "  </thead>\n",
              "  <tbody>\n",
              "    <tr>\n",
              "      <th>0</th>\n",
              "      <td>677</td>\n",
              "      <td>Richard Pryor</td>\n",
              "      <td>male</td>\n",
              "      <td>group E</td>\n",
              "      <td>bachelor's degree</td>\n",
              "      <td>standard</td>\n",
              "      <td>completed</td>\n",
              "      <td>7.00</td>\n",
              "      <td>7.00</td>\n",
              "      <td>7.00</td>\n",
              "      <td>7.00</td>\n",
              "    </tr>\n",
              "    <tr>\n",
              "      <th>1</th>\n",
              "      <td>1352</td>\n",
              "      <td>Sandra Pompey</td>\n",
              "      <td>female</td>\n",
              "      <td>group E</td>\n",
              "      <td>associate's degree</td>\n",
              "      <td>standard</td>\n",
              "      <td>none</td>\n",
              "      <td>7.00</td>\n",
              "      <td>7.00</td>\n",
              "      <td>7.00</td>\n",
              "      <td>7.00</td>\n",
              "    </tr>\n",
              "    <tr>\n",
              "      <th>2</th>\n",
              "      <td>384</td>\n",
              "      <td>Elizabeth Beasley</td>\n",
              "      <td>female</td>\n",
              "      <td>group E</td>\n",
              "      <td>bachelor's degree</td>\n",
              "      <td>standard</td>\n",
              "      <td>none</td>\n",
              "      <td>7.00</td>\n",
              "      <td>7.00</td>\n",
              "      <td>7.00</td>\n",
              "      <td>7.00</td>\n",
              "    </tr>\n",
              "    <tr>\n",
              "      <th>3</th>\n",
              "      <td>475</td>\n",
              "      <td>Emma Gray</td>\n",
              "      <td>female</td>\n",
              "      <td>group E</td>\n",
              "      <td>bachelor's degree</td>\n",
              "      <td>standard</td>\n",
              "      <td>completed</td>\n",
              "      <td>6.94</td>\n",
              "      <td>7.00</td>\n",
              "      <td>7.00</td>\n",
              "      <td>6.98</td>\n",
              "    </tr>\n",
              "    <tr>\n",
              "      <th>4</th>\n",
              "      <td>279</td>\n",
              "      <td>Emma Brasher</td>\n",
              "      <td>female</td>\n",
              "      <td>group D</td>\n",
              "      <td>some high school</td>\n",
              "      <td>standard</td>\n",
              "      <td>completed</td>\n",
              "      <td>6.82</td>\n",
              "      <td>7.00</td>\n",
              "      <td>7.00</td>\n",
              "      <td>6.94</td>\n",
              "    </tr>\n",
              "    <tr>\n",
              "      <th>...</th>\n",
              "      <td>...</td>\n",
              "      <td>...</td>\n",
              "      <td>...</td>\n",
              "      <td>...</td>\n",
              "      <td>...</td>\n",
              "      <td>...</td>\n",
              "      <td>...</td>\n",
              "      <td>...</td>\n",
              "      <td>...</td>\n",
              "      <td>...</td>\n",
              "      <td>...</td>\n",
              "    </tr>\n",
              "    <tr>\n",
              "      <th>89</th>\n",
              "      <td>949</td>\n",
              "      <td>Rolando Widmer</td>\n",
              "      <td>male</td>\n",
              "      <td>group C</td>\n",
              "      <td>high school</td>\n",
              "      <td>standard</td>\n",
              "      <td>completed</td>\n",
              "      <td>5.92</td>\n",
              "      <td>6.04</td>\n",
              "      <td>5.92</td>\n",
              "      <td>5.96</td>\n",
              "    </tr>\n",
              "    <tr>\n",
              "      <th>90</th>\n",
              "      <td>296</td>\n",
              "      <td>Lucille Stanphill</td>\n",
              "      <td>female</td>\n",
              "      <td>group C</td>\n",
              "      <td>high school</td>\n",
              "      <td>standard</td>\n",
              "      <td>none</td>\n",
              "      <td>5.86</td>\n",
              "      <td>6.04</td>\n",
              "      <td>5.92</td>\n",
              "      <td>5.94</td>\n",
              "    </tr>\n",
              "    <tr>\n",
              "      <th>91</th>\n",
              "      <td>300</td>\n",
              "      <td>Steven Kelly</td>\n",
              "      <td>male</td>\n",
              "      <td>group D</td>\n",
              "      <td>some college</td>\n",
              "      <td>standard</td>\n",
              "      <td>none</td>\n",
              "      <td>5.86</td>\n",
              "      <td>5.92</td>\n",
              "      <td>6.04</td>\n",
              "      <td>5.94</td>\n",
              "    </tr>\n",
              "    <tr>\n",
              "      <th>92</th>\n",
              "      <td>1307</td>\n",
              "      <td>Peter Perez</td>\n",
              "      <td>male</td>\n",
              "      <td>group D</td>\n",
              "      <td>master's degree</td>\n",
              "      <td>standard</td>\n",
              "      <td>none</td>\n",
              "      <td>5.86</td>\n",
              "      <td>5.86</td>\n",
              "      <td>6.04</td>\n",
              "      <td>5.92</td>\n",
              "    </tr>\n",
              "    <tr>\n",
              "      <th>93</th>\n",
              "      <td>96</td>\n",
              "      <td>Harry Berry</td>\n",
              "      <td>male</td>\n",
              "      <td>group B</td>\n",
              "      <td>associate's degree</td>\n",
              "      <td>standard</td>\n",
              "      <td>completed</td>\n",
              "      <td>5.86</td>\n",
              "      <td>5.92</td>\n",
              "      <td>5.92</td>\n",
              "      <td>5.90</td>\n",
              "    </tr>\n",
              "  </tbody>\n",
              "</table>\n",
              "<p>94 rows × 11 columns</p>\n",
              "</div>\n",
              "      <button class=\"colab-df-convert\" onclick=\"convertToInteractive('df-0b7f28c4-3163-4920-983f-8b107d9b2489')\"\n",
              "              title=\"Convert this dataframe to an interactive table.\"\n",
              "              style=\"display:none;\">\n",
              "        \n",
              "  <svg xmlns=\"http://www.w3.org/2000/svg\" height=\"24px\"viewBox=\"0 0 24 24\"\n",
              "       width=\"24px\">\n",
              "    <path d=\"M0 0h24v24H0V0z\" fill=\"none\"/>\n",
              "    <path d=\"M18.56 5.44l.94 2.06.94-2.06 2.06-.94-2.06-.94-.94-2.06-.94 2.06-2.06.94zm-11 1L8.5 8.5l.94-2.06 2.06-.94-2.06-.94L8.5 2.5l-.94 2.06-2.06.94zm10 10l.94 2.06.94-2.06 2.06-.94-2.06-.94-.94-2.06-.94 2.06-2.06.94z\"/><path d=\"M17.41 7.96l-1.37-1.37c-.4-.4-.92-.59-1.43-.59-.52 0-1.04.2-1.43.59L10.3 9.45l-7.72 7.72c-.78.78-.78 2.05 0 2.83L4 21.41c.39.39.9.59 1.41.59.51 0 1.02-.2 1.41-.59l7.78-7.78 2.81-2.81c.8-.78.8-2.07 0-2.86zM5.41 20L4 18.59l7.72-7.72 1.47 1.35L5.41 20z\"/>\n",
              "  </svg>\n",
              "      </button>\n",
              "      \n",
              "  <style>\n",
              "    .colab-df-container {\n",
              "      display:flex;\n",
              "      flex-wrap:wrap;\n",
              "      gap: 12px;\n",
              "    }\n",
              "\n",
              "    .colab-df-convert {\n",
              "      background-color: #E8F0FE;\n",
              "      border: none;\n",
              "      border-radius: 50%;\n",
              "      cursor: pointer;\n",
              "      display: none;\n",
              "      fill: #1967D2;\n",
              "      height: 32px;\n",
              "      padding: 0 0 0 0;\n",
              "      width: 32px;\n",
              "    }\n",
              "\n",
              "    .colab-df-convert:hover {\n",
              "      background-color: #E2EBFA;\n",
              "      box-shadow: 0px 1px 2px rgba(60, 64, 67, 0.3), 0px 1px 3px 1px rgba(60, 64, 67, 0.15);\n",
              "      fill: #174EA6;\n",
              "    }\n",
              "\n",
              "    [theme=dark] .colab-df-convert {\n",
              "      background-color: #3B4455;\n",
              "      fill: #D2E3FC;\n",
              "    }\n",
              "\n",
              "    [theme=dark] .colab-df-convert:hover {\n",
              "      background-color: #434B5C;\n",
              "      box-shadow: 0px 1px 3px 1px rgba(0, 0, 0, 0.15);\n",
              "      filter: drop-shadow(0px 1px 2px rgba(0, 0, 0, 0.3));\n",
              "      fill: #FFFFFF;\n",
              "    }\n",
              "  </style>\n",
              "\n",
              "      <script>\n",
              "        const buttonEl =\n",
              "          document.querySelector('#df-0b7f28c4-3163-4920-983f-8b107d9b2489 button.colab-df-convert');\n",
              "        buttonEl.style.display =\n",
              "          google.colab.kernel.accessAllowed ? 'block' : 'none';\n",
              "\n",
              "        async function convertToInteractive(key) {\n",
              "          const element = document.querySelector('#df-0b7f28c4-3163-4920-983f-8b107d9b2489');\n",
              "          const dataTable =\n",
              "            await google.colab.kernel.invokeFunction('convertToInteractive',\n",
              "                                                     [key], {});\n",
              "          if (!dataTable) return;\n",
              "\n",
              "          const docLinkHtml = 'Like what you see? Visit the ' +\n",
              "            '<a target=\"_blank\" href=https://colab.research.google.com/notebooks/data_table.ipynb>data table notebook</a>'\n",
              "            + ' to learn more about interactive tables.';\n",
              "          element.innerHTML = '';\n",
              "          dataTable['output_type'] = 'display_data';\n",
              "          await google.colab.output.renderOutput(dataTable, element);\n",
              "          const docLink = document.createElement('div');\n",
              "          docLink.innerHTML = docLinkHtml;\n",
              "          element.appendChild(docLink);\n",
              "        }\n",
              "      </script>\n",
              "    </div>\n",
              "  </div>\n",
              "  "
            ]
          },
          "metadata": {},
          "execution_count": 94
        }
      ]
    },
    {
      "cell_type": "markdown",
      "source": [
        "```\n",
        "Escriba aqui su respuesta\n",
        "```"
      ],
      "metadata": {
        "id": "vDl7h7JbwrKh",
        "cell_id": "00052-4e2f07e8-ce26-4d48-ba89-4c04132729ca",
        "deepnote_cell_type": "markdown",
        "deepnote_cell_height": 70.796875
      }
    },
    {
      "cell_type": "markdown",
      "source": [
        "### 1.3.4 Consultas de Alumnos [0.5 Puntos]"
      ],
      "metadata": {
        "tags": [],
        "cell_id": "00053-c26e032f-9917-4088-ac1d-9ba2983ba419",
        "deepnote_cell_type": "markdown",
        "deepnote_cell_height": 62,
        "id": "goSUTM9RDY6Z"
      }
    },
    {
      "cell_type": "markdown",
      "source": [
        "Algunos padres (extremadamente entrometidos y...) preocupados por el desempeño de sus hijos, desean saber estos han aprobado o no el año. Como la tarea de buscar a mano cada uno de estos alumnos en el `DataFrame` resulta demasiado tedioso, el rector le solicita crear una función que tenga como entrada el `DataFrame` donde se realizará la busqueda y una lista con los nombres de los alumnos, luego la función deberá retornar un `DataFrame` con los nombres de los alumnos y el promedio general de cada uno. \n",
        "\n",
        "Creada la función busque el promedio general de los siguientes alumnos en el segundo Data frame creado en la sección 1.3.3:\n",
        "\n",
        "`['Lucille Stanphill','Marcus Mcfarland', 'Matthew Freeman', 'Dana Mojica', 'Paul Hyder', 'Jeffrey Korn', 'Robert Strain',\n",
        "'Ronald Jett', 'Lorena Reed', 'Hazel Posey']`\n",
        "\n",
        "**Hint:** Puede serle de utilidad utilizar `isin()`."
      ],
      "metadata": {
        "tags": [],
        "cell_id": "00054-265dbcea-43c7-4418-b289-48906d0c1626",
        "deepnote_cell_type": "markdown",
        "deepnote_cell_height": 295.90625,
        "id": "5vgoLfc8DY6Z"
      }
    },
    {
      "cell_type": "markdown",
      "source": [
        "**Respuesta:**"
      ],
      "metadata": {
        "tags": [],
        "cell_id": "00055-f296cada-4f15-4a9b-900c-cde55391c32b",
        "deepnote_cell_type": "markdown",
        "deepnote_cell_height": 52.390625,
        "id": "SGdXsZqwDY6a"
      }
    },
    {
      "cell_type": "code",
      "source": [
        "def consulta_gpa(dataframe_in, lista_alumnos):\n",
        "    \"\"\"\n",
        "    Given a list of students returns a subset of dataframe_in with the name and GPA of each one, the student is omitted if \n",
        "    not in dataframe_in \n",
        "    ------------------------------------------------------------------\n",
        "    Inputs:\n",
        "    dataframe_in (pd.dataframe): the dataframe with the scores.\n",
        "    lista_alumnos (List[str]): a List which  contains names of students\n",
        "    ------------------------------------------------------------------\n",
        "    Outputs:\n",
        "      df_out (pd.dataframe): subset of dataframe_in with the name and GPA of each one\n",
        "    \"\"\"\n",
        "    # mask of the index which  have names in lista_alumnos\n",
        "    mask = dataframe_in['names'].isin(lista_alumnos)\n",
        "    # Filter and select names and GPA\n",
        "    df_out = dataframe_in.loc[mask, ['names', 'GPA']]\n",
        "    return df_out\n",
        "\n",
        "\n",
        "\n",
        "lista_alumnos = [\n",
        "    \"Lucille Stanphill\",\n",
        "    \"Marcus Mcfarland\",\n",
        "    \"Matthew Freeman\",\n",
        "    \"Dana Mojica\",\n",
        "    \"Paul Hyder\",\n",
        "    \"Jeffrey Korn\",\n",
        "    \"Robert Strain\",\n",
        "    \"Ronald Jett\",\n",
        "    \"Lorena Reed\",\n",
        "    \"Hazel Posey\",\n",
        "]\n",
        "consulta_gpa(dataframe2, lista_alumnos)\n"
      ],
      "metadata": {
        "colab": {
          "base_uri": "https://localhost:8080/",
          "height": 331
        },
        "id": "ZGAYocBJ2AgS",
        "outputId": "c44161f5-0655-477f-99e2-7a908f97beca"
      },
      "execution_count": null,
      "outputs": [
        {
          "output_type": "execute_result",
          "data": {
            "text/plain": [
              "                 names   GPA\n",
              "199  Lucille Stanphill  5.94\n",
              "375   Marcus Mcfarland  4.86\n",
              "423    Matthew Freeman     R\n",
              "426        Dana Mojica     R\n",
              "602       Jeffrey Korn  4.54\n",
              "692      Robert Strain   4.4\n",
              "696        Ronald Jett     R\n",
              "698        Hazel Posey     R\n",
              "775        Lorena Reed     R"
            ],
            "text/html": [
              "\n",
              "  <div id=\"df-eb845a3f-68b3-40f2-ad80-2fa84f8200ba\">\n",
              "    <div class=\"colab-df-container\">\n",
              "      <div>\n",
              "<style scoped>\n",
              "    .dataframe tbody tr th:only-of-type {\n",
              "        vertical-align: middle;\n",
              "    }\n",
              "\n",
              "    .dataframe tbody tr th {\n",
              "        vertical-align: top;\n",
              "    }\n",
              "\n",
              "    .dataframe thead th {\n",
              "        text-align: right;\n",
              "    }\n",
              "</style>\n",
              "<table border=\"1\" class=\"dataframe\">\n",
              "  <thead>\n",
              "    <tr style=\"text-align: right;\">\n",
              "      <th></th>\n",
              "      <th>names</th>\n",
              "      <th>GPA</th>\n",
              "    </tr>\n",
              "  </thead>\n",
              "  <tbody>\n",
              "    <tr>\n",
              "      <th>199</th>\n",
              "      <td>Lucille Stanphill</td>\n",
              "      <td>5.94</td>\n",
              "    </tr>\n",
              "    <tr>\n",
              "      <th>375</th>\n",
              "      <td>Marcus Mcfarland</td>\n",
              "      <td>4.86</td>\n",
              "    </tr>\n",
              "    <tr>\n",
              "      <th>423</th>\n",
              "      <td>Matthew Freeman</td>\n",
              "      <td>R</td>\n",
              "    </tr>\n",
              "    <tr>\n",
              "      <th>426</th>\n",
              "      <td>Dana Mojica</td>\n",
              "      <td>R</td>\n",
              "    </tr>\n",
              "    <tr>\n",
              "      <th>602</th>\n",
              "      <td>Jeffrey Korn</td>\n",
              "      <td>4.54</td>\n",
              "    </tr>\n",
              "    <tr>\n",
              "      <th>692</th>\n",
              "      <td>Robert Strain</td>\n",
              "      <td>4.4</td>\n",
              "    </tr>\n",
              "    <tr>\n",
              "      <th>696</th>\n",
              "      <td>Ronald Jett</td>\n",
              "      <td>R</td>\n",
              "    </tr>\n",
              "    <tr>\n",
              "      <th>698</th>\n",
              "      <td>Hazel Posey</td>\n",
              "      <td>R</td>\n",
              "    </tr>\n",
              "    <tr>\n",
              "      <th>775</th>\n",
              "      <td>Lorena Reed</td>\n",
              "      <td>R</td>\n",
              "    </tr>\n",
              "  </tbody>\n",
              "</table>\n",
              "</div>\n",
              "      <button class=\"colab-df-convert\" onclick=\"convertToInteractive('df-eb845a3f-68b3-40f2-ad80-2fa84f8200ba')\"\n",
              "              title=\"Convert this dataframe to an interactive table.\"\n",
              "              style=\"display:none;\">\n",
              "        \n",
              "  <svg xmlns=\"http://www.w3.org/2000/svg\" height=\"24px\"viewBox=\"0 0 24 24\"\n",
              "       width=\"24px\">\n",
              "    <path d=\"M0 0h24v24H0V0z\" fill=\"none\"/>\n",
              "    <path d=\"M18.56 5.44l.94 2.06.94-2.06 2.06-.94-2.06-.94-.94-2.06-.94 2.06-2.06.94zm-11 1L8.5 8.5l.94-2.06 2.06-.94-2.06-.94L8.5 2.5l-.94 2.06-2.06.94zm10 10l.94 2.06.94-2.06 2.06-.94-2.06-.94-.94-2.06-.94 2.06-2.06.94z\"/><path d=\"M17.41 7.96l-1.37-1.37c-.4-.4-.92-.59-1.43-.59-.52 0-1.04.2-1.43.59L10.3 9.45l-7.72 7.72c-.78.78-.78 2.05 0 2.83L4 21.41c.39.39.9.59 1.41.59.51 0 1.02-.2 1.41-.59l7.78-7.78 2.81-2.81c.8-.78.8-2.07 0-2.86zM5.41 20L4 18.59l7.72-7.72 1.47 1.35L5.41 20z\"/>\n",
              "  </svg>\n",
              "      </button>\n",
              "      \n",
              "  <style>\n",
              "    .colab-df-container {\n",
              "      display:flex;\n",
              "      flex-wrap:wrap;\n",
              "      gap: 12px;\n",
              "    }\n",
              "\n",
              "    .colab-df-convert {\n",
              "      background-color: #E8F0FE;\n",
              "      border: none;\n",
              "      border-radius: 50%;\n",
              "      cursor: pointer;\n",
              "      display: none;\n",
              "      fill: #1967D2;\n",
              "      height: 32px;\n",
              "      padding: 0 0 0 0;\n",
              "      width: 32px;\n",
              "    }\n",
              "\n",
              "    .colab-df-convert:hover {\n",
              "      background-color: #E2EBFA;\n",
              "      box-shadow: 0px 1px 2px rgba(60, 64, 67, 0.3), 0px 1px 3px 1px rgba(60, 64, 67, 0.15);\n",
              "      fill: #174EA6;\n",
              "    }\n",
              "\n",
              "    [theme=dark] .colab-df-convert {\n",
              "      background-color: #3B4455;\n",
              "      fill: #D2E3FC;\n",
              "    }\n",
              "\n",
              "    [theme=dark] .colab-df-convert:hover {\n",
              "      background-color: #434B5C;\n",
              "      box-shadow: 0px 1px 3px 1px rgba(0, 0, 0, 0.15);\n",
              "      filter: drop-shadow(0px 1px 2px rgba(0, 0, 0, 0.3));\n",
              "      fill: #FFFFFF;\n",
              "    }\n",
              "  </style>\n",
              "\n",
              "      <script>\n",
              "        const buttonEl =\n",
              "          document.querySelector('#df-eb845a3f-68b3-40f2-ad80-2fa84f8200ba button.colab-df-convert');\n",
              "        buttonEl.style.display =\n",
              "          google.colab.kernel.accessAllowed ? 'block' : 'none';\n",
              "\n",
              "        async function convertToInteractive(key) {\n",
              "          const element = document.querySelector('#df-eb845a3f-68b3-40f2-ad80-2fa84f8200ba');\n",
              "          const dataTable =\n",
              "            await google.colab.kernel.invokeFunction('convertToInteractive',\n",
              "                                                     [key], {});\n",
              "          if (!dataTable) return;\n",
              "\n",
              "          const docLinkHtml = 'Like what you see? Visit the ' +\n",
              "            '<a target=\"_blank\" href=https://colab.research.google.com/notebooks/data_table.ipynb>data table notebook</a>'\n",
              "            + ' to learn more about interactive tables.';\n",
              "          element.innerHTML = '';\n",
              "          dataTable['output_type'] = 'display_data';\n",
              "          await google.colab.output.renderOutput(dataTable, element);\n",
              "          const docLink = document.createElement('div');\n",
              "          docLink.innerHTML = docLinkHtml;\n",
              "          element.appendChild(docLink);\n",
              "        }\n",
              "      </script>\n",
              "    </div>\n",
              "  </div>\n",
              "  "
            ]
          },
          "metadata": {},
          "execution_count": 95
        }
      ]
    },
    {
      "cell_type": "markdown",
      "source": [
        "### 1.3.5 Quintiles de Rendimiento [0.5 Puntos]"
      ],
      "metadata": {
        "tags": [],
        "cell_id": "00057-ce0783ee-ebbf-47e2-a857-88811fd99f73",
        "deepnote_cell_type": "markdown",
        "deepnote_cell_height": 62,
        "id": "9dY2Ce8cDY6a"
      }
    },
    {
      "cell_type": "markdown",
      "source": [
        "El rector, intrigado por saber si existe una relación entre el nivel educacional de los padres y las notas de sus hijos les plantea estudiar dicha relación. Para esto, les solicita que desde el `DataFrame` que posee a todos los alumnos (`DataFrame` obtenido tras la limpieza), generen una nueva columna que clasifique en quintiles de rendimiento para sus alumnos: `['Bajísimo', 'Bajo', 'Medio', 'Alto', 'Muy alto']`. (investigar `qcut()`)\n",
        "\n",
        "Hecho esto, grafique a través de un scatter plot el nivel educacional de los padres v/s el promedio de los alumnos, utilice los cuantiles generados anteriormente para mostrar en que cuantil se encuentra cada uno de los datos.\n",
        "\n",
        "Realizado el grafico, responda la siguiente pregunta: **¿Es posible visualizar alguna tendencia en el gráfico?.**\n",
        "\n"
      ],
      "metadata": {
        "tags": [],
        "cell_id": "00058-f22b06aa-362f-481f-a003-b9e5796120b0",
        "deepnote_cell_type": "markdown",
        "deepnote_cell_height": 237.125,
        "id": "LAhgKkc9DY6a"
      }
    },
    {
      "cell_type": "markdown",
      "source": [
        "**Respuesta:**"
      ],
      "metadata": {
        "tags": [],
        "cell_id": "00059-9f08f4c4-c59b-443a-83c3-677c0e9be877",
        "deepnote_cell_type": "markdown",
        "deepnote_cell_height": 52.390625,
        "id": "iYBlqaV-DY6b"
      }
    },
    {
      "cell_type": "code",
      "metadata": {
        "tags": [],
        "deepnote_to_be_reexecuted": false,
        "source_hash": "8fe13806",
        "execution_start": 1632493424819,
        "execution_millis": 134,
        "cell_id": "00061-795d8f8c-5718-4f38-adc1-4a1733bd3ccb",
        "deepnote_cell_type": "code",
        "deepnote_cell_height": 367,
        "id": "4c0j9t42DY6b",
        "outputId": "290dcbb4-4ec3-4b0e-d5a9-6430e37f2a40",
        "colab": {
          "base_uri": "https://localhost:8080/",
          "height": 736
        }
      },
      "source": [
        "# Código para quintiles \n",
        "# La variable que contenga los quintiles debe llamarse GPA cuantiles para que el gráfico funcione.\n",
        "\n",
        "# Get quintiles using qcut\n",
        "cuantiles = pd.qcut(df_grades['GPA'], 5 , ['Bajísimo', 'Bajo', 'Medio', 'Alto', 'Muy Alto'])\n",
        "df_grades['GPA cuantiles'] = cuantiles\n",
        "# Create a scatter plot\n",
        "fig = px.scatter(\n",
        "    df_grades.sort_values(by=\"GPA\"),\n",
        "    x=\"GPA\",\n",
        "    y=\"parental level of education\",\n",
        "    hover_data=[\"gender\"],\n",
        "    color=\"GPA cuantiles\",\n",
        "    title=\"GPA por Nivel de educación de los padres\",\n",
        "    color_discrete_sequence=[\"tomato\", \"orange\", \"yellow\", \"greenyellow\", \"green\"],\n",
        "    width=1920, height=720\n",
        ")\n",
        "\n",
        "fig\n"
      ],
      "execution_count": null,
      "outputs": [
        {
          "output_type": "display_data",
          "data": {
            "text/html": [
              "<html>\n",
              "<head><meta charset=\"utf-8\" /></head>\n",
              "<body>\n",
              "    <div>            <script src=\"https://cdnjs.cloudflare.com/ajax/libs/mathjax/2.7.5/MathJax.js?config=TeX-AMS-MML_SVG\"></script><script type=\"text/javascript\">if (window.MathJax) {MathJax.Hub.Config({SVG: {font: \"STIX-Web\"}});}</script>                <script type=\"text/javascript\">window.PlotlyConfig = {MathJaxConfig: 'local'};</script>\n",
              "        <script src=\"https://cdn.plot.ly/plotly-2.11.1.min.js\"></script>                <div id=\"cca2d450-54e7-4499-b24f-53afc2b4cf53\" class=\"plotly-graph-div\" style=\"height:720px; width:1920px;\"></div>            <script type=\"text/javascript\">                                    window.PLOTLYENV=window.PLOTLYENV || {};                                    if (document.getElementById(\"cca2d450-54e7-4499-b24f-53afc2b4cf53\")) {                    Plotly.newPlot(                        \"cca2d450-54e7-4499-b24f-53afc2b4cf53\",                        [{\"customdata\":[[\"female\"],[\"female\"],[\"male\"],[\"male\"],[\"male\"],[\"female\"],[\"female\"],[\"female\"],[\"female\"],[\"male\"],[\"male\"],[\"female\"],[\"female\"],[\"female\"],[\"male\"],[\"female\"],[\"female\"],[\"male\"],[\"female\"],[\"male\"],[\"male\"],[\"male\"],[\"female\"],[\"male\"],[\"male\"],[\"male\"],[\"male\"],[\"male\"],[\"female\"],[\"female\"],[\"male\"],[\"female\"],[\"female\"],[\"female\"],[\"female\"],[\"male\"],[\"male\"],[\"male\"],[\"male\"],[\"female\"],[\"female\"],[\"male\"],[\"female\"],[\"male\"],[\"female\"],[\"male\"],[\"male\"],[\"male\"],[\"male\"],[\"male\"],[\"female\"],[\"male\"],[\"male\"],[\"female\"],[\"male\"],[\"male\"],[\"male\"],[\"male\"],[\"male\"],[\"male\"],[\"male\"],[\"male\"],[\"female\"],[\"male\"],[\"male\"],[\"male\"],[\"male\"],[\"male\"],[\"male\"],[\"male\"],[\"male\"],[\"male\"],[\"male\"],[\"male\"],[\"female\"],[\"male\"],[\"female\"],[\"male\"],[\"male\"],[\"male\"],[\"female\"],[\"female\"],[\"female\"],[\"male\"],[\"male\"],[\"male\"],[\"female\"],[\"male\"],[\"male\"],[\"male\"],[\"male\"],[\"female\"],[\"female\"],[\"female\"],[\"female\"],[\"male\"],[\"male\"],[\"male\"],[\"female\"],[\"male\"],[\"male\"],[\"female\"],[\"male\"],[\"male\"],[\"female\"],[\"male\"],[\"male\"],[\"male\"],[\"female\"],[\"male\"],[\"female\"],[\"female\"],[\"male\"],[\"male\"],[\"male\"],[\"female\"],[\"male\"],[\"female\"],[\"male\"],[\"female\"],[\"female\"],[\"male\"],[\"male\"],[\"male\"],[\"male\"],[\"male\"],[\"female\"],[\"female\"],[\"male\"],[\"female\"],[\"male\"],[\"male\"],[\"female\"],[\"female\"],[\"female\"],[\"male\"],[\"female\"],[\"female\"],[\"male\"],[\"male\"],[\"female\"],[\"female\"],[\"female\"],[\"female\"],[\"male\"],[\"female\"],[\"male\"],[\"female\"],[\"male\"],[\"male\"],[\"female\"],[\"female\"],[\"female\"],[\"male\"],[\"male\"],[\"female\"],[\"male\"],[\"female\"],[\"male\"],[\"female\"],[\"female\"],[\"male\"],[\"male\"],[\"male\"],[\"male\"],[\"male\"],[\"male\"],[\"female\"],[\"male\"],[\"male\"],[\"male\"],[\"female\"],[\"male\"],[\"female\"],[\"male\"],[\"male\"],[\"female\"],[\"female\"],[\"male\"],[\"male\"],[\"female\"],[\"male\"],[\"female\"],[\"male\"],[\"female\"],[\"male\"],[\"male\"],[\"male\"],[\"female\"],[\"female\"]],\"hovertemplate\":\"GPA cuantiles=Baj\\u00edsimo<br>GPA=%{x}<br>parental level of education=%{y}<br>gender=%{customdata[0]}<extra></extra>\",\"legendgroup\":\"Baj\\u00edsimo\",\"marker\":{\"color\":\"tomato\",\"symbol\":\"circle\"},\"mode\":\"markers\",\"name\":\"Baj\\u00edsimo\",\"orientation\":\"h\",\"showlegend\":true,\"x\":[1.54,2.1,2.38,2.4,2.56,2.56,2.76,2.78,2.78,2.8,2.84,2.86,2.88,2.9,2.94,3.06,3.08,3.24,3.26,3.28,3.3,3.32,3.34,3.36,3.38,3.38,3.4,3.44,3.44,3.46,3.46,3.48,3.54,3.58,3.6,3.6,3.6,3.6,3.62,3.64,3.64,3.66,3.68,3.68,3.68,3.68,3.7,3.7,3.72,3.72,3.74,3.76,3.76,3.76,3.78,3.78,3.78,3.78,3.78,3.8,3.8,3.8,3.8,3.82,3.84,3.84,3.86,3.86,3.88,3.88,3.88,3.88,3.9,3.9,3.9,3.9,3.9,3.92,3.92,3.92,3.92,3.94,3.94,3.94,3.94,3.94,3.96,3.96,3.96,3.98,4.0,4.0,4.0,4.0,4.02,4.02,4.02,4.02,4.02,4.02,4.02,4.04,4.04,4.04,4.06,4.06,4.06,4.06,4.06,4.08,4.08,4.08,4.08,4.08,4.08,4.1,4.1,4.1,4.1,4.1,4.1,4.1,4.1,4.1,4.12,4.12,4.12,4.12,4.14,4.14,4.14,4.14,4.16,4.16,4.16,4.16,4.16,4.16,4.16,4.18,4.18,4.2,4.2,4.2,4.2,4.22,4.22,4.22,4.22,4.22,4.24,4.24,4.24,4.24,4.24,4.26,4.26,4.26,4.26,4.28,4.28,4.28,4.28,4.28,4.28,4.28,4.28,4.3,4.3,4.32,4.32,4.32,4.32,4.32,4.34,4.34,4.34,4.34,4.34,4.34,4.36,4.36,4.36,4.36,4.36,4.36,4.36,4.36,4.36,4.36],\"xaxis\":\"x\",\"y\":[\"some high school\",\"high school\",\"high school\",\"some college\",\"some high school\",\"some high school\",\"high school\",\"some high school\",\"some college\",\"some college\",\"high school\",\"some high school\",\"some college\",\"associate's degree\",\"high school\",\"high school\",\"some high school\",\"some high school\",\"some high school\",\"some college\",\"high school\",\"high school\",\"bachelor's degree\",\"some high school\",\"associate's degree\",\"some high school\",\"some college\",\"some college\",\"some college\",\"high school\",\"associate's degree\",\"some high school\",\"some high school\",\"some high school\",\"high school\",\"some high school\",\"some high school\",\"associate's degree\",\"some college\",\"some high school\",\"high school\",\"associate's degree\",\"high school\",\"high school\",\"some high school\",\"master's degree\",\"high school\",\"associate's degree\",\"associate's degree\",\"high school\",\"high school\",\"associate's degree\",\"associate's degree\",\"associate's degree\",\"some college\",\"high school\",\"some college\",\"some high school\",\"high school\",\"high school\",\"bachelor's degree\",\"bachelor's degree\",\"associate's degree\",\"high school\",\"some high school\",\"some college\",\"high school\",\"associate's degree\",\"some high school\",\"high school\",\"high school\",\"associate's degree\",\"some high school\",\"bachelor's degree\",\"high school\",\"some high school\",\"some high school\",\"some high school\",\"some high school\",\"some high school\",\"associate's degree\",\"high school\",\"some high school\",\"high school\",\"high school\",\"high school\",\"bachelor's degree\",\"associate's degree\",\"associate's degree\",\"high school\",\"bachelor's degree\",\"associate's degree\",\"some high school\",\"high school\",\"bachelor's degree\",\"associate's degree\",\"high school\",\"some college\",\"some college\",\"some college\",\"some college\",\"master's degree\",\"some college\",\"some college\",\"master's degree\",\"some college\",\"some college\",\"some college\",\"some college\",\"associate's degree\",\"some high school\",\"some college\",\"high school\",\"master's degree\",\"high school\",\"master's degree\",\"some high school\",\"associate's degree\",\"high school\",\"some high school\",\"associate's degree\",\"high school\",\"associate's degree\",\"associate's degree\",\"high school\",\"associate's degree\",\"some high school\",\"associate's degree\",\"some high school\",\"high school\",\"some college\",\"some college\",\"some high school\",\"high school\",\"associate's degree\",\"high school\",\"high school\",\"high school\",\"high school\",\"associate's degree\",\"associate's degree\",\"associate's degree\",\"associate's degree\",\"some high school\",\"some high school\",\"associate's degree\",\"high school\",\"associate's degree\",\"high school\",\"bachelor's degree\",\"some high school\",\"associate's degree\",\"some college\",\"some high school\",\"high school\",\"high school\",\"master's degree\",\"high school\",\"some high school\",\"associate's degree\",\"high school\",\"some college\",\"high school\",\"associate's degree\",\"some college\",\"high school\",\"bachelor's degree\",\"high school\",\"some college\",\"bachelor's degree\",\"associate's degree\",\"bachelor's degree\",\"high school\",\"some high school\",\"associate's degree\",\"high school\",\"associate's degree\",\"high school\",\"bachelor's degree\",\"associate's degree\",\"associate's degree\",\"associate's degree\",\"some college\",\"high school\",\"bachelor's degree\",\"high school\",\"bachelor's degree\",\"associate's degree\",\"some college\",\"some high school\"],\"yaxis\":\"y\",\"type\":\"scatter\"},{\"customdata\":[[\"female\"],[\"female\"],[\"female\"],[\"male\"],[\"female\"],[\"female\"],[\"male\"],[\"female\"],[\"female\"],[\"male\"],[\"male\"],[\"male\"],[\"female\"],[\"male\"],[\"male\"],[\"male\"],[\"female\"],[\"male\"],[\"male\"],[\"male\"],[\"female\"],[\"female\"],[\"male\"],[\"male\"],[\"female\"],[\"male\"],[\"male\"],[\"male\"],[\"female\"],[\"male\"],[\"female\"],[\"female\"],[\"male\"],[\"male\"],[\"male\"],[\"male\"],[\"female\"],[\"female\"],[\"male\"],[\"male\"],[\"female\"],[\"female\"],[\"female\"],[\"male\"],[\"male\"],[\"female\"],[\"male\"],[\"female\"],[\"male\"],[\"male\"],[\"male\"],[\"male\"],[\"male\"],[\"female\"],[\"male\"],[\"male\"],[\"male\"],[\"female\"],[\"female\"],[\"female\"],[\"female\"],[\"female\"],[\"female\"],[\"female\"],[\"male\"],[\"male\"],[\"female\"],[\"female\"],[\"male\"],[\"male\"],[\"female\"],[\"male\"],[\"male\"],[\"female\"],[\"male\"],[\"male\"],[\"male\"],[\"male\"],[\"male\"],[\"female\"],[\"female\"],[\"male\"],[\"female\"],[\"male\"],[\"male\"],[\"male\"],[\"female\"],[\"male\"],[\"female\"],[\"male\"],[\"male\"],[\"male\"],[\"female\"],[\"female\"],[\"male\"],[\"male\"],[\"female\"],[\"male\"],[\"female\"],[\"male\"],[\"male\"],[\"male\"],[\"female\"],[\"female\"],[\"female\"],[\"male\"],[\"male\"],[\"female\"],[\"female\"],[\"male\"],[\"male\"],[\"female\"],[\"female\"],[\"female\"],[\"female\"],[\"male\"],[\"male\"],[\"male\"],[\"male\"],[\"female\"],[\"female\"],[\"male\"],[\"female\"],[\"male\"],[\"male\"],[\"female\"],[\"female\"],[\"male\"],[\"male\"],[\"female\"],[\"female\"],[\"male\"],[\"male\"],[\"female\"],[\"female\"],[\"male\"],[\"male\"],[\"female\"],[\"female\"],[\"male\"],[\"male\"],[\"female\"],[\"female\"],[\"male\"],[\"male\"],[\"male\"],[\"female\"],[\"male\"],[\"female\"],[\"female\"],[\"male\"],[\"male\"],[\"male\"],[\"female\"],[\"male\"],[\"male\"],[\"female\"],[\"female\"],[\"male\"],[\"male\"],[\"female\"],[\"male\"],[\"female\"],[\"female\"],[\"female\"],[\"male\"],[\"female\"],[\"female\"],[\"female\"],[\"female\"],[\"male\"],[\"female\"],[\"male\"],[\"female\"],[\"female\"],[\"male\"]],\"hovertemplate\":\"GPA cuantiles=Bajo<br>GPA=%{x}<br>parental level of education=%{y}<br>gender=%{customdata[0]}<extra></extra>\",\"legendgroup\":\"Bajo\",\"marker\":{\"color\":\"orange\",\"symbol\":\"circle\"},\"mode\":\"markers\",\"name\":\"Bajo\",\"orientation\":\"h\",\"showlegend\":true,\"x\":[4.38,4.38,4.38,4.38,4.38,4.4,4.4,4.4,4.42,4.42,4.42,4.42,4.44,4.44,4.44,4.44,4.44,4.44,4.44,4.44,4.46,4.46,4.46,4.46,4.46,4.46,4.48,4.48,4.5,4.5,4.5,4.5,4.5,4.5,4.5,4.5,4.52,4.52,4.52,4.52,4.52,4.52,4.52,4.52,4.52,4.54,4.54,4.54,4.54,4.54,4.54,4.54,4.54,4.54,4.56,4.56,4.56,4.56,4.56,4.58,4.58,4.58,4.58,4.6,4.6,4.6,4.6,4.6,4.6,4.6,4.6,4.62,4.62,4.62,4.62,4.62,4.64,4.64,4.64,4.64,4.64,4.64,4.64,4.66,4.66,4.66,4.66,4.66,4.68,4.68,4.68,4.68,4.68,4.68,4.68,4.68,4.7,4.7,4.7,4.7,4.7,4.7,4.7,4.72,4.72,4.72,4.72,4.72,4.72,4.74,4.74,4.74,4.74,4.74,4.74,4.74,4.76,4.76,4.76,4.76,4.78,4.78,4.78,4.78,4.78,4.78,4.8,4.8,4.8,4.8,4.8,4.82,4.82,4.82,4.82,4.82,4.82,4.82,4.84,4.84,4.84,4.84,4.84,4.84,4.84,4.84,4.84,4.86,4.86,4.86,4.86,4.86,4.86,4.86,4.86,4.86,4.86,4.88,4.88,4.88,4.88,4.88,4.88,4.88,4.88,4.88,4.88,4.88,4.9,4.9,4.9,4.9,4.9,4.9,4.9,4.9],\"xaxis\":\"x\",\"y\":[\"some college\",\"bachelor's degree\",\"some high school\",\"some college\",\"bachelor's degree\",\"high school\",\"associate's degree\",\"some high school\",\"some college\",\"high school\",\"high school\",\"associate's degree\",\"master's degree\",\"some high school\",\"high school\",\"some college\",\"high school\",\"high school\",\"some college\",\"associate's degree\",\"some high school\",\"associate's degree\",\"some high school\",\"some high school\",\"associate's degree\",\"some high school\",\"some high school\",\"some high school\",\"some college\",\"some college\",\"bachelor's degree\",\"some high school\",\"some high school\",\"associate's degree\",\"some college\",\"some college\",\"some college\",\"associate's degree\",\"high school\",\"high school\",\"some college\",\"some high school\",\"associate's degree\",\"some high school\",\"associate's degree\",\"master's degree\",\"some college\",\"some college\",\"some high school\",\"high school\",\"some college\",\"associate's degree\",\"some high school\",\"some high school\",\"some college\",\"some college\",\"associate's degree\",\"some college\",\"master's degree\",\"high school\",\"high school\",\"bachelor's degree\",\"some high school\",\"some college\",\"high school\",\"some college\",\"high school\",\"some high school\",\"some college\",\"some high school\",\"high school\",\"some college\",\"some college\",\"bachelor's degree\",\"high school\",\"bachelor's degree\",\"some college\",\"some college\",\"some college\",\"associate's degree\",\"some high school\",\"bachelor's degree\",\"master's degree\",\"some college\",\"bachelor's degree\",\"some high school\",\"some college\",\"master's degree\",\"associate's degree\",\"some high school\",\"some college\",\"bachelor's degree\",\"master's degree\",\"some college\",\"some college\",\"associate's degree\",\"some college\",\"associate's degree\",\"some college\",\"some high school\",\"associate's degree\",\"high school\",\"master's degree\",\"bachelor's degree\",\"high school\",\"bachelor's degree\",\"some college\",\"associate's degree\",\"some high school\",\"some college\",\"high school\",\"some college\",\"high school\",\"some high school\",\"high school\",\"some college\",\"high school\",\"bachelor's degree\",\"high school\",\"some college\",\"master's degree\",\"associate's degree\",\"high school\",\"associate's degree\",\"some college\",\"some college\",\"high school\",\"some high school\",\"some college\",\"master's degree\",\"associate's degree\",\"some college\",\"associate's degree\",\"high school\",\"associate's degree\",\"high school\",\"some college\",\"some college\",\"some college\",\"high school\",\"some college\",\"associate's degree\",\"high school\",\"some high school\",\"associate's degree\",\"bachelor's degree\",\"some high school\",\"associate's degree\",\"high school\",\"associate's degree\",\"bachelor's degree\",\"associate's degree\",\"some high school\",\"master's degree\",\"bachelor's degree\",\"some high school\",\"master's degree\",\"high school\",\"master's degree\",\"high school\",\"bachelor's degree\",\"associate's degree\",\"associate's degree\",\"associate's degree\",\"some college\",\"some high school\",\"some college\",\"associate's degree\",\"associate's degree\",\"high school\",\"high school\",\"some college\",\"high school\",\"some college\",\"some college\",\"some college\"],\"yaxis\":\"y\",\"type\":\"scatter\"},{\"customdata\":[[\"male\"],[\"male\"],[\"male\"],[\"female\"],[\"male\"],[\"male\"],[\"female\"],[\"female\"],[\"female\"],[\"female\"],[\"female\"],[\"female\"],[\"female\"],[\"male\"],[\"male\"],[\"male\"],[\"female\"],[\"female\"],[\"female\"],[\"female\"],[\"female\"],[\"male\"],[\"male\"],[\"female\"],[\"female\"],[\"male\"],[\"male\"],[\"male\"],[\"female\"],[\"female\"],[\"male\"],[\"female\"],[\"female\"],[\"female\"],[\"female\"],[\"male\"],[\"female\"],[\"female\"],[\"female\"],[\"male\"],[\"female\"],[\"male\"],[\"male\"],[\"female\"],[\"male\"],[\"female\"],[\"female\"],[\"male\"],[\"female\"],[\"male\"],[\"male\"],[\"male\"],[\"female\"],[\"male\"],[\"female\"],[\"male\"],[\"male\"],[\"female\"],[\"male\"],[\"female\"],[\"female\"],[\"female\"],[\"male\"],[\"female\"],[\"male\"],[\"female\"],[\"female\"],[\"female\"],[\"male\"],[\"female\"],[\"male\"],[\"male\"],[\"male\"],[\"male\"],[\"male\"],[\"female\"],[\"female\"],[\"male\"],[\"female\"],[\"male\"],[\"male\"],[\"male\"],[\"male\"],[\"female\"],[\"female\"],[\"female\"],[\"male\"],[\"male\"],[\"male\"],[\"male\"],[\"female\"],[\"female\"],[\"male\"],[\"female\"],[\"female\"],[\"male\"],[\"female\"],[\"female\"],[\"female\"],[\"male\"],[\"male\"],[\"male\"],[\"male\"],[\"female\"],[\"female\"],[\"male\"],[\"female\"],[\"female\"],[\"female\"],[\"male\"],[\"female\"],[\"male\"],[\"male\"],[\"male\"],[\"female\"],[\"male\"],[\"female\"],[\"female\"],[\"male\"],[\"male\"],[\"male\"],[\"female\"],[\"female\"],[\"male\"],[\"male\"],[\"male\"],[\"male\"],[\"male\"],[\"female\"],[\"female\"],[\"female\"],[\"female\"],[\"female\"],[\"male\"],[\"male\"],[\"male\"],[\"female\"],[\"female\"],[\"female\"],[\"female\"],[\"female\"],[\"female\"],[\"male\"],[\"male\"],[\"male\"],[\"female\"],[\"female\"],[\"female\"],[\"female\"],[\"male\"],[\"female\"],[\"male\"],[\"male\"],[\"male\"],[\"male\"],[\"female\"],[\"female\"],[\"female\"],[\"male\"],[\"male\"],[\"female\"],[\"female\"],[\"female\"],[\"female\"],[\"male\"],[\"male\"],[\"female\"],[\"male\"],[\"female\"],[\"female\"],[\"male\"],[\"female\"],[\"female\"],[\"male\"],[\"male\"],[\"male\"],[\"male\"]],\"hovertemplate\":\"GPA cuantiles=Medio<br>GPA=%{x}<br>parental level of education=%{y}<br>gender=%{customdata[0]}<extra></extra>\",\"legendgroup\":\"Medio\",\"marker\":{\"color\":\"yellow\",\"symbol\":\"circle\"},\"mode\":\"markers\",\"name\":\"Medio\",\"orientation\":\"h\",\"showlegend\":true,\"x\":[4.92,4.92,4.92,4.92,4.92,4.92,4.92,4.92,4.92,4.94,4.94,4.94,4.94,4.94,4.94,4.94,4.96,4.96,4.96,4.96,4.96,4.96,4.96,4.96,4.96,4.96,4.98,4.98,4.98,4.98,4.98,5.0,5.0,5.0,5.0,5.0,5.0,5.0,5.02,5.02,5.02,5.02,5.02,5.02,5.02,5.02,5.04,5.04,5.04,5.04,5.04,5.06,5.06,5.06,5.06,5.06,5.06,5.06,5.08,5.08,5.08,5.08,5.08,5.08,5.08,5.08,5.08,5.08,5.08,5.08,5.08,5.08,5.08,5.1,5.1,5.1,5.1,5.1,5.1,5.1,5.1,5.1,5.1,5.1,5.12,5.12,5.12,5.12,5.12,5.12,5.12,5.12,5.12,5.12,5.12,5.12,5.14,5.14,5.14,5.14,5.14,5.14,5.14,5.14,5.14,5.14,5.14,5.14,5.16,5.16,5.16,5.16,5.16,5.16,5.16,5.16,5.16,5.16,5.18,5.18,5.18,5.18,5.18,5.2,5.2,5.2,5.2,5.2,5.2,5.2,5.2,5.2,5.2,5.2,5.2,5.22,5.22,5.22,5.22,5.22,5.22,5.22,5.22,5.24,5.24,5.24,5.24,5.26,5.26,5.26,5.26,5.26,5.26,5.26,5.26,5.26,5.26,5.26,5.28,5.28,5.28,5.28,5.28,5.28,5.28,5.28,5.28,5.28,5.28,5.3,5.3,5.3,5.3,5.3,5.3,5.3,5.3],\"xaxis\":\"x\",\"y\":[\"some high school\",\"some high school\",\"some college\",\"some college\",\"bachelor's degree\",\"bachelor's degree\",\"high school\",\"some college\",\"some high school\",\"high school\",\"high school\",\"some college\",\"high school\",\"some college\",\"associate's degree\",\"some high school\",\"associate's degree\",\"associate's degree\",\"associate's degree\",\"some high school\",\"high school\",\"high school\",\"high school\",\"bachelor's degree\",\"high school\",\"some high school\",\"some high school\",\"bachelor's degree\",\"associate's degree\",\"high school\",\"associate's degree\",\"some high school\",\"some college\",\"associate's degree\",\"high school\",\"bachelor's degree\",\"some college\",\"associate's degree\",\"bachelor's degree\",\"some college\",\"some high school\",\"some high school\",\"some college\",\"high school\",\"some college\",\"high school\",\"bachelor's degree\",\"associate's degree\",\"bachelor's degree\",\"high school\",\"some high school\",\"bachelor's degree\",\"high school\",\"bachelor's degree\",\"some high school\",\"some college\",\"high school\",\"bachelor's degree\",\"some high school\",\"some high school\",\"some high school\",\"associate's degree\",\"high school\",\"associate's degree\",\"bachelor's degree\",\"some college\",\"associate's degree\",\"some college\",\"bachelor's degree\",\"some college\",\"high school\",\"high school\",\"high school\",\"associate's degree\",\"high school\",\"some college\",\"high school\",\"some college\",\"associate's degree\",\"some high school\",\"some high school\",\"master's degree\",\"high school\",\"some college\",\"associate's degree\",\"high school\",\"bachelor's degree\",\"associate's degree\",\"associate's degree\",\"some college\",\"some college\",\"some high school\",\"high school\",\"associate's degree\",\"some college\",\"associate's degree\",\"master's degree\",\"some college\",\"associate's degree\",\"associate's degree\",\"high school\",\"associate's degree\",\"bachelor's degree\",\"associate's degree\",\"some high school\",\"some high school\",\"bachelor's degree\",\"bachelor's degree\",\"high school\",\"some high school\",\"bachelor's degree\",\"some high school\",\"some college\",\"associate's degree\",\"associate's degree\",\"some college\",\"some college\",\"high school\",\"some high school\",\"high school\",\"high school\",\"associate's degree\",\"associate's degree\",\"some college\",\"high school\",\"bachelor's degree\",\"master's degree\",\"high school\",\"high school\",\"some high school\",\"high school\",\"master's degree\",\"some college\",\"some high school\",\"some college\",\"high school\",\"bachelor's degree\",\"associate's degree\",\"some college\",\"bachelor's degree\",\"bachelor's degree\",\"some high school\",\"some college\",\"bachelor's degree\",\"high school\",\"master's degree\",\"some college\",\"bachelor's degree\",\"some college\",\"high school\",\"some college\",\"some college\",\"bachelor's degree\",\"associate's degree\",\"high school\",\"high school\",\"high school\",\"some college\",\"associate's degree\",\"some high school\",\"associate's degree\",\"associate's degree\",\"some high school\",\"associate's degree\",\"associate's degree\",\"associate's degree\",\"bachelor's degree\",\"associate's degree\",\"bachelor's degree\",\"master's degree\",\"high school\",\"some college\",\"some high school\",\"high school\",\"high school\",\"associate's degree\",\"some high school\"],\"yaxis\":\"y\",\"type\":\"scatter\"},{\"customdata\":[[\"female\"],[\"male\"],[\"male\"],[\"female\"],[\"female\"],[\"female\"],[\"male\"],[\"female\"],[\"female\"],[\"male\"],[\"female\"],[\"female\"],[\"female\"],[\"female\"],[\"female\"],[\"female\"],[\"male\"],[\"female\"],[\"female\"],[\"male\"],[\"female\"],[\"female\"],[\"female\"],[\"female\"],[\"female\"],[\"female\"],[\"female\"],[\"male\"],[\"male\"],[\"female\"],[\"female\"],[\"male\"],[\"female\"],[\"male\"],[\"male\"],[\"male\"],[\"male\"],[\"female\"],[\"male\"],[\"male\"],[\"female\"],[\"male\"],[\"male\"],[\"male\"],[\"male\"],[\"female\"],[\"female\"],[\"male\"],[\"female\"],[\"male\"],[\"female\"],[\"male\"],[\"female\"],[\"female\"],[\"female\"],[\"male\"],[\"female\"],[\"female\"],[\"female\"],[\"female\"],[\"female\"],[\"female\"],[\"male\"],[\"female\"],[\"female\"],[\"female\"],[\"female\"],[\"female\"],[\"female\"],[\"female\"],[\"male\"],[\"male\"],[\"male\"],[\"female\"],[\"female\"],[\"female\"],[\"female\"],[\"male\"],[\"male\"],[\"female\"],[\"male\"],[\"male\"],[\"female\"],[\"male\"],[\"female\"],[\"male\"],[\"female\"],[\"male\"],[\"female\"],[\"female\"],[\"female\"],[\"male\"],[\"female\"],[\"female\"],[\"female\"],[\"male\"],[\"female\"],[\"female\"],[\"female\"],[\"female\"],[\"male\"],[\"male\"],[\"female\"],[\"female\"],[\"female\"],[\"female\"],[\"female\"],[\"male\"],[\"female\"],[\"male\"],[\"male\"],[\"female\"],[\"male\"],[\"female\"],[\"male\"],[\"male\"],[\"female\"],[\"female\"],[\"female\"],[\"female\"],[\"female\"],[\"male\"],[\"female\"],[\"female\"],[\"female\"],[\"female\"],[\"female\"],[\"female\"],[\"male\"],[\"female\"],[\"male\"],[\"male\"],[\"male\"],[\"female\"],[\"female\"],[\"male\"],[\"female\"],[\"female\"],[\"male\"],[\"female\"],[\"male\"],[\"female\"],[\"male\"],[\"male\"],[\"male\"],[\"female\"],[\"male\"],[\"male\"],[\"female\"],[\"female\"],[\"male\"],[\"male\"],[\"female\"],[\"female\"],[\"female\"],[\"female\"],[\"female\"],[\"female\"],[\"female\"],[\"female\"],[\"male\"],[\"female\"],[\"male\"],[\"female\"],[\"male\"],[\"male\"],[\"female\"],[\"male\"],[\"male\"],[\"female\"],[\"female\"],[\"female\"],[\"male\"],[\"male\"],[\"male\"],[\"female\"],[\"female\"],[\"female\"],[\"male\"]],\"hovertemplate\":\"GPA cuantiles=Alto<br>GPA=%{x}<br>parental level of education=%{y}<br>gender=%{customdata[0]}<extra></extra>\",\"legendgroup\":\"Alto\",\"marker\":{\"color\":\"greenyellow\",\"symbol\":\"circle\"},\"mode\":\"markers\",\"name\":\"Alto\",\"orientation\":\"h\",\"showlegend\":true,\"x\":[5.32,5.32,5.32,5.32,5.32,5.32,5.32,5.32,5.32,5.34,5.34,5.34,5.34,5.34,5.34,5.36,5.36,5.36,5.36,5.36,5.36,5.36,5.36,5.36,5.38,5.38,5.38,5.38,5.38,5.38,5.38,5.38,5.38,5.38,5.38,5.38,5.4,5.4,5.4,5.4,5.4,5.4,5.4,5.4,5.4,5.42,5.42,5.42,5.42,5.42,5.44,5.44,5.44,5.44,5.44,5.44,5.46,5.46,5.46,5.46,5.46,5.46,5.46,5.46,5.46,5.46,5.48,5.48,5.48,5.48,5.48,5.48,5.48,5.5,5.5,5.5,5.5,5.5,5.5,5.5,5.5,5.5,5.5,5.52,5.52,5.52,5.52,5.52,5.52,5.54,5.54,5.54,5.54,5.54,5.54,5.54,5.54,5.54,5.54,5.56,5.56,5.56,5.56,5.56,5.56,5.56,5.56,5.56,5.58,5.58,5.58,5.58,5.58,5.58,5.6,5.6,5.6,5.6,5.62,5.62,5.62,5.62,5.62,5.62,5.64,5.64,5.64,5.64,5.64,5.64,5.64,5.64,5.64,5.64,5.64,5.64,5.66,5.66,5.66,5.66,5.68,5.68,5.68,5.68,5.68,5.68,5.68,5.68,5.7,5.7,5.7,5.7,5.7,5.7,5.7,5.7,5.72,5.72,5.72,5.72,5.72,5.72,5.72,5.72,5.74,5.74,5.74,5.74,5.74,5.74,5.74,5.76,5.76,5.76,5.76,5.76,5.76,5.76,5.76],\"xaxis\":\"x\",\"y\":[\"associate's degree\",\"some college\",\"some college\",\"associate's degree\",\"associate's degree\",\"some high school\",\"bachelor's degree\",\"some high school\",\"associate's degree\",\"high school\",\"some college\",\"associate's degree\",\"some college\",\"associate's degree\",\"some college\",\"some college\",\"some high school\",\"some high school\",\"some college\",\"master's degree\",\"bachelor's degree\",\"high school\",\"high school\",\"associate's degree\",\"high school\",\"bachelor's degree\",\"high school\",\"some college\",\"master's degree\",\"some high school\",\"high school\",\"high school\",\"bachelor's degree\",\"some college\",\"some high school\",\"bachelor's degree\",\"associate's degree\",\"some high school\",\"some college\",\"some college\",\"some high school\",\"some high school\",\"some high school\",\"master's degree\",\"associate's degree\",\"bachelor's degree\",\"bachelor's degree\",\"high school\",\"some college\",\"high school\",\"some high school\",\"bachelor's degree\",\"some high school\",\"some college\",\"some college\",\"bachelor's degree\",\"some college\",\"associate's degree\",\"some college\",\"some college\",\"high school\",\"some college\",\"associate's degree\",\"some college\",\"some college\",\"some college\",\"some high school\",\"high school\",\"high school\",\"high school\",\"associate's degree\",\"associate's degree\",\"some college\",\"associate's degree\",\"bachelor's degree\",\"some high school\",\"some high school\",\"associate's degree\",\"bachelor's degree\",\"associate's degree\",\"associate's degree\",\"bachelor's degree\",\"master's degree\",\"associate's degree\",\"associate's degree\",\"high school\",\"some college\",\"some college\",\"high school\",\"high school\",\"master's degree\",\"some college\",\"some college\",\"some college\",\"associate's degree\",\"high school\",\"bachelor's degree\",\"some college\",\"associate's degree\",\"some high school\",\"bachelor's degree\",\"some college\",\"some college\",\"some high school\",\"some high school\",\"high school\",\"associate's degree\",\"associate's degree\",\"some college\",\"some high school\",\"some high school\",\"associate's degree\",\"some college\",\"high school\",\"some high school\",\"associate's degree\",\"high school\",\"bachelor's degree\",\"some high school\",\"some college\",\"some high school\",\"some college\",\"some high school\",\"some high school\",\"bachelor's degree\",\"associate's degree\",\"some high school\",\"some college\",\"associate's degree\",\"associate's degree\",\"associate's degree\",\"associate's degree\",\"some high school\",\"associate's degree\",\"associate's degree\",\"associate's degree\",\"bachelor's degree\",\"associate's degree\",\"associate's degree\",\"some college\",\"associate's degree\",\"associate's degree\",\"high school\",\"bachelor's degree\",\"master's degree\",\"some college\",\"associate's degree\",\"some high school\",\"master's degree\",\"some college\",\"high school\",\"high school\",\"some college\",\"some college\",\"associate's degree\",\"high school\",\"some high school\",\"bachelor's degree\",\"high school\",\"some high school\",\"some college\",\"some college\",\"some college\",\"bachelor's degree\",\"associate's degree\",\"high school\",\"some college\",\"some high school\",\"some high school\",\"associate's degree\",\"associate's degree\",\"master's degree\",\"some college\",\"some high school\",\"master's degree\",\"some high school\",\"associate's degree\",\"associate's degree\",\"high school\"],\"yaxis\":\"y\",\"type\":\"scatter\"},{\"customdata\":[[\"male\"],[\"female\"],[\"female\"],[\"male\"],[\"male\"],[\"male\"],[\"female\"],[\"female\"],[\"female\"],[\"male\"],[\"male\"],[\"male\"],[\"male\"],[\"female\"],[\"male\"],[\"male\"],[\"female\"],[\"male\"],[\"female\"],[\"female\"],[\"male\"],[\"male\"],[\"female\"],[\"male\"],[\"male\"],[\"female\"],[\"male\"],[\"male\"],[\"male\"],[\"male\"],[\"male\"],[\"male\"],[\"male\"],[\"female\"],[\"male\"],[\"male\"],[\"male\"],[\"female\"],[\"female\"],[\"female\"],[\"male\"],[\"female\"],[\"female\"],[\"female\"],[\"male\"],[\"male\"],[\"male\"],[\"female\"],[\"female\"],[\"female\"],[\"male\"],[\"female\"],[\"male\"],[\"male\"],[\"female\"],[\"female\"],[\"female\"],[\"female\"],[\"male\"],[\"female\"],[\"female\"],[\"female\"],[\"male\"],[\"male\"],[\"male\"],[\"male\"],[\"male\"],[\"female\"],[\"male\"],[\"female\"],[\"female\"],[\"female\"],[\"male\"],[\"female\"],[\"female\"],[\"female\"],[\"female\"],[\"female\"],[\"male\"],[\"male\"],[\"male\"],[\"male\"],[\"female\"],[\"female\"],[\"male\"],[\"female\"],[\"male\"],[\"female\"],[\"female\"],[\"female\"],[\"male\"],[\"male\"],[\"female\"],[\"male\"],[\"female\"],[\"female\"],[\"male\"],[\"male\"],[\"male\"],[\"female\"],[\"female\"],[\"male\"],[\"male\"],[\"male\"],[\"female\"],[\"female\"],[\"female\"],[\"female\"],[\"male\"],[\"female\"],[\"male\"],[\"male\"],[\"male\"],[\"female\"],[\"female\"],[\"female\"],[\"female\"],[\"male\"],[\"female\"],[\"female\"],[\"female\"],[\"female\"],[\"female\"],[\"male\"],[\"male\"],[\"male\"],[\"male\"],[\"male\"],[\"female\"],[\"female\"],[\"female\"],[\"female\"],[\"female\"],[\"female\"],[\"female\"],[\"female\"],[\"female\"],[\"female\"],[\"female\"],[\"male\"],[\"female\"],[\"female\"],[\"male\"],[\"male\"],[\"female\"],[\"male\"],[\"female\"],[\"female\"],[\"female\"],[\"female\"],[\"male\"],[\"male\"],[\"female\"],[\"female\"],[\"female\"],[\"male\"],[\"female\"],[\"male\"],[\"female\"],[\"male\"],[\"female\"],[\"female\"],[\"female\"],[\"female\"],[\"female\"],[\"female\"],[\"female\"],[\"female\"],[\"female\"],[\"female\"],[\"male\"],[\"female\"],[\"male\"],[\"female\"],[\"female\"],[\"female\"],[\"female\"],[\"female\"],[\"male\"]],\"hovertemplate\":\"GPA cuantiles=Muy Alto<br>GPA=%{x}<br>parental level of education=%{y}<br>gender=%{customdata[0]}<extra></extra>\",\"legendgroup\":\"Muy Alto\",\"marker\":{\"color\":\"green\",\"symbol\":\"circle\"},\"mode\":\"markers\",\"name\":\"Muy Alto\",\"orientation\":\"h\",\"showlegend\":true,\"x\":[5.78,5.78,5.78,5.78,5.78,5.78,5.8,5.8,5.8,5.82,5.82,5.82,5.82,5.82,5.82,5.82,5.84,5.84,5.84,5.84,5.84,5.84,5.84,5.86,5.88,5.88,5.88,5.88,5.9,5.9,5.9,5.9,5.92,5.92,5.94,5.94,5.94,5.94,5.94,5.94,5.94,5.94,5.94,5.94,5.94,5.96,5.96,5.96,5.96,5.96,5.98,5.98,5.98,5.98,5.98,5.98,5.98,5.98,5.98,6.0,6.0,6.0,6.0,6.0,6.02,6.02,6.04,6.04,6.04,6.04,6.04,6.04,6.04,6.04,6.06,6.06,6.08,6.08,6.1,6.1,6.1,6.1,6.12,6.12,6.12,6.14,6.14,6.14,6.14,6.14,6.14,6.16,6.16,6.16,6.16,6.18,6.18,6.18,6.18,6.2,6.2,6.2,6.22,6.22,6.22,6.22,6.22,6.24,6.24,6.24,6.24,6.26,6.26,6.28,6.28,6.3,6.3,6.3,6.3,6.3,6.32,6.32,6.32,6.32,6.32,6.34,6.34,6.34,6.34,6.36,6.36,6.36,6.36,6.38,6.38,6.4,6.42,6.42,6.42,6.44,6.46,6.48,6.48,6.5,6.5,6.5,6.5,6.5,6.52,6.54,6.56,6.56,6.56,6.6,6.6,6.62,6.64,6.64,6.64,6.64,6.74,6.76,6.78,6.78,6.8,6.82,6.82,6.84,6.86,6.86,6.86,6.92,6.92,6.94,6.94,6.98,7.0,7.0,7.0],\"xaxis\":\"x\",\"y\":[\"some college\",\"bachelor's degree\",\"bachelor's degree\",\"bachelor's degree\",\"bachelor's degree\",\"associate's degree\",\"high school\",\"high school\",\"some college\",\"associate's degree\",\"some high school\",\"high school\",\"associate's degree\",\"some high school\",\"some high school\",\"some college\",\"some high school\",\"high school\",\"bachelor's degree\",\"some high school\",\"some high school\",\"some college\",\"bachelor's degree\",\"associate's degree\",\"high school\",\"some high school\",\"associate's degree\",\"associate's degree\",\"some college\",\"some high school\",\"associate's degree\",\"associate's degree\",\"master's degree\",\"bachelor's degree\",\"some high school\",\"some high school\",\"some high school\",\"some college\",\"some college\",\"some college\",\"some college\",\"high school\",\"some college\",\"associate's degree\",\"high school\",\"some high school\",\"high school\",\"high school\",\"some college\",\"high school\",\"some college\",\"associate's degree\",\"associate's degree\",\"bachelor's degree\",\"high school\",\"bachelor's degree\",\"some college\",\"bachelor's degree\",\"bachelor's degree\",\"some high school\",\"high school\",\"master's degree\",\"some high school\",\"some high school\",\"some college\",\"bachelor's degree\",\"some college\",\"some high school\",\"associate's degree\",\"bachelor's degree\",\"some high school\",\"associate's degree\",\"some college\",\"some high school\",\"associate's degree\",\"associate's degree\",\"some college\",\"some college\",\"associate's degree\",\"high school\",\"bachelor's degree\",\"master's degree\",\"some high school\",\"some college\",\"associate's degree\",\"associate's degree\",\"some high school\",\"some college\",\"associate's degree\",\"bachelor's degree\",\"some college\",\"bachelor's degree\",\"associate's degree\",\"master's degree\",\"some college\",\"master's degree\",\"high school\",\"some high school\",\"master's degree\",\"some high school\",\"bachelor's degree\",\"some high school\",\"associate's degree\",\"master's degree\",\"bachelor's degree\",\"associate's degree\",\"associate's degree\",\"associate's degree\",\"associate's degree\",\"some college\",\"associate's degree\",\"master's degree\",\"high school\",\"associate's degree\",\"master's degree\",\"master's degree\",\"some college\",\"bachelor's degree\",\"associate's degree\",\"bachelor's degree\",\"bachelor's degree\",\"some college\",\"associate's degree\",\"some college\",\"some college\",\"some high school\",\"some college\",\"associate's degree\",\"some high school\",\"associate's degree\",\"high school\",\"master's degree\",\"associate's degree\",\"associate's degree\",\"some college\",\"some high school\",\"bachelor's degree\",\"associate's degree\",\"associate's degree\",\"associate's degree\",\"associate's degree\",\"some high school\",\"some college\",\"associate's degree\",\"associate's degree\",\"associate's degree\",\"some college\",\"some college\",\"associate's degree\",\"some college\",\"some college\",\"bachelor's degree\",\"master's degree\",\"master's degree\",\"associate's degree\",\"associate's degree\",\"master's degree\",\"some college\",\"high school\",\"associate's degree\",\"high school\",\"associate's degree\",\"some college\",\"bachelor's degree\",\"bachelor's degree\",\"bachelor's degree\",\"associate's degree\",\"master's degree\",\"bachelor's degree\",\"master's degree\",\"associate's degree\",\"bachelor's degree\",\"some college\",\"some college\",\"some high school\",\"bachelor's degree\",\"bachelor's degree\",\"associate's degree\",\"bachelor's degree\"],\"yaxis\":\"y\",\"type\":\"scatter\"}],                        {\"template\":{\"data\":{\"histogram2dcontour\":[{\"type\":\"histogram2dcontour\",\"colorbar\":{\"outlinewidth\":0,\"ticks\":\"\"},\"colorscale\":[[0.0,\"#0d0887\"],[0.1111111111111111,\"#46039f\"],[0.2222222222222222,\"#7201a8\"],[0.3333333333333333,\"#9c179e\"],[0.4444444444444444,\"#bd3786\"],[0.5555555555555556,\"#d8576b\"],[0.6666666666666666,\"#ed7953\"],[0.7777777777777778,\"#fb9f3a\"],[0.8888888888888888,\"#fdca26\"],[1.0,\"#f0f921\"]]}],\"choropleth\":[{\"type\":\"choropleth\",\"colorbar\":{\"outlinewidth\":0,\"ticks\":\"\"}}],\"histogram2d\":[{\"type\":\"histogram2d\",\"colorbar\":{\"outlinewidth\":0,\"ticks\":\"\"},\"colorscale\":[[0.0,\"#0d0887\"],[0.1111111111111111,\"#46039f\"],[0.2222222222222222,\"#7201a8\"],[0.3333333333333333,\"#9c179e\"],[0.4444444444444444,\"#bd3786\"],[0.5555555555555556,\"#d8576b\"],[0.6666666666666666,\"#ed7953\"],[0.7777777777777778,\"#fb9f3a\"],[0.8888888888888888,\"#fdca26\"],[1.0,\"#f0f921\"]]}],\"heatmap\":[{\"type\":\"heatmap\",\"colorbar\":{\"outlinewidth\":0,\"ticks\":\"\"},\"colorscale\":[[0.0,\"#0d0887\"],[0.1111111111111111,\"#46039f\"],[0.2222222222222222,\"#7201a8\"],[0.3333333333333333,\"#9c179e\"],[0.4444444444444444,\"#bd3786\"],[0.5555555555555556,\"#d8576b\"],[0.6666666666666666,\"#ed7953\"],[0.7777777777777778,\"#fb9f3a\"],[0.8888888888888888,\"#fdca26\"],[1.0,\"#f0f921\"]]}],\"heatmapgl\":[{\"type\":\"heatmapgl\",\"colorbar\":{\"outlinewidth\":0,\"ticks\":\"\"},\"colorscale\":[[0.0,\"#0d0887\"],[0.1111111111111111,\"#46039f\"],[0.2222222222222222,\"#7201a8\"],[0.3333333333333333,\"#9c179e\"],[0.4444444444444444,\"#bd3786\"],[0.5555555555555556,\"#d8576b\"],[0.6666666666666666,\"#ed7953\"],[0.7777777777777778,\"#fb9f3a\"],[0.8888888888888888,\"#fdca26\"],[1.0,\"#f0f921\"]]}],\"contourcarpet\":[{\"type\":\"contourcarpet\",\"colorbar\":{\"outlinewidth\":0,\"ticks\":\"\"}}],\"contour\":[{\"type\":\"contour\",\"colorbar\":{\"outlinewidth\":0,\"ticks\":\"\"},\"colorscale\":[[0.0,\"#0d0887\"],[0.1111111111111111,\"#46039f\"],[0.2222222222222222,\"#7201a8\"],[0.3333333333333333,\"#9c179e\"],[0.4444444444444444,\"#bd3786\"],[0.5555555555555556,\"#d8576b\"],[0.6666666666666666,\"#ed7953\"],[0.7777777777777778,\"#fb9f3a\"],[0.8888888888888888,\"#fdca26\"],[1.0,\"#f0f921\"]]}],\"surface\":[{\"type\":\"surface\",\"colorbar\":{\"outlinewidth\":0,\"ticks\":\"\"},\"colorscale\":[[0.0,\"#0d0887\"],[0.1111111111111111,\"#46039f\"],[0.2222222222222222,\"#7201a8\"],[0.3333333333333333,\"#9c179e\"],[0.4444444444444444,\"#bd3786\"],[0.5555555555555556,\"#d8576b\"],[0.6666666666666666,\"#ed7953\"],[0.7777777777777778,\"#fb9f3a\"],[0.8888888888888888,\"#fdca26\"],[1.0,\"#f0f921\"]]}],\"mesh3d\":[{\"type\":\"mesh3d\",\"colorbar\":{\"outlinewidth\":0,\"ticks\":\"\"}}],\"scatter\":[{\"fillpattern\":{\"fillmode\":\"overlay\",\"size\":10,\"solidity\":0.2},\"type\":\"scatter\"}],\"parcoords\":[{\"type\":\"parcoords\",\"line\":{\"colorbar\":{\"outlinewidth\":0,\"ticks\":\"\"}}}],\"scatterpolargl\":[{\"type\":\"scatterpolargl\",\"marker\":{\"colorbar\":{\"outlinewidth\":0,\"ticks\":\"\"}}}],\"bar\":[{\"error_x\":{\"color\":\"#2a3f5f\"},\"error_y\":{\"color\":\"#2a3f5f\"},\"marker\":{\"line\":{\"color\":\"#E5ECF6\",\"width\":0.5},\"pattern\":{\"fillmode\":\"overlay\",\"size\":10,\"solidity\":0.2}},\"type\":\"bar\"}],\"scattergeo\":[{\"type\":\"scattergeo\",\"marker\":{\"colorbar\":{\"outlinewidth\":0,\"ticks\":\"\"}}}],\"scatterpolar\":[{\"type\":\"scatterpolar\",\"marker\":{\"colorbar\":{\"outlinewidth\":0,\"ticks\":\"\"}}}],\"histogram\":[{\"marker\":{\"pattern\":{\"fillmode\":\"overlay\",\"size\":10,\"solidity\":0.2}},\"type\":\"histogram\"}],\"scattergl\":[{\"type\":\"scattergl\",\"marker\":{\"colorbar\":{\"outlinewidth\":0,\"ticks\":\"\"}}}],\"scatter3d\":[{\"type\":\"scatter3d\",\"line\":{\"colorbar\":{\"outlinewidth\":0,\"ticks\":\"\"}},\"marker\":{\"colorbar\":{\"outlinewidth\":0,\"ticks\":\"\"}}}],\"scattermapbox\":[{\"type\":\"scattermapbox\",\"marker\":{\"colorbar\":{\"outlinewidth\":0,\"ticks\":\"\"}}}],\"scatterternary\":[{\"type\":\"scatterternary\",\"marker\":{\"colorbar\":{\"outlinewidth\":0,\"ticks\":\"\"}}}],\"scattercarpet\":[{\"type\":\"scattercarpet\",\"marker\":{\"colorbar\":{\"outlinewidth\":0,\"ticks\":\"\"}}}],\"carpet\":[{\"aaxis\":{\"endlinecolor\":\"#2a3f5f\",\"gridcolor\":\"white\",\"linecolor\":\"white\",\"minorgridcolor\":\"white\",\"startlinecolor\":\"#2a3f5f\"},\"baxis\":{\"endlinecolor\":\"#2a3f5f\",\"gridcolor\":\"white\",\"linecolor\":\"white\",\"minorgridcolor\":\"white\",\"startlinecolor\":\"#2a3f5f\"},\"type\":\"carpet\"}],\"table\":[{\"cells\":{\"fill\":{\"color\":\"#EBF0F8\"},\"line\":{\"color\":\"white\"}},\"header\":{\"fill\":{\"color\":\"#C8D4E3\"},\"line\":{\"color\":\"white\"}},\"type\":\"table\"}],\"barpolar\":[{\"marker\":{\"line\":{\"color\":\"#E5ECF6\",\"width\":0.5},\"pattern\":{\"fillmode\":\"overlay\",\"size\":10,\"solidity\":0.2}},\"type\":\"barpolar\"}],\"pie\":[{\"automargin\":true,\"type\":\"pie\"}]},\"layout\":{\"autotypenumbers\":\"strict\",\"colorway\":[\"#636efa\",\"#EF553B\",\"#00cc96\",\"#ab63fa\",\"#FFA15A\",\"#19d3f3\",\"#FF6692\",\"#B6E880\",\"#FF97FF\",\"#FECB52\"],\"font\":{\"color\":\"#2a3f5f\"},\"hovermode\":\"closest\",\"hoverlabel\":{\"align\":\"left\"},\"paper_bgcolor\":\"white\",\"plot_bgcolor\":\"#E5ECF6\",\"polar\":{\"bgcolor\":\"#E5ECF6\",\"angularaxis\":{\"gridcolor\":\"white\",\"linecolor\":\"white\",\"ticks\":\"\"},\"radialaxis\":{\"gridcolor\":\"white\",\"linecolor\":\"white\",\"ticks\":\"\"}},\"ternary\":{\"bgcolor\":\"#E5ECF6\",\"aaxis\":{\"gridcolor\":\"white\",\"linecolor\":\"white\",\"ticks\":\"\"},\"baxis\":{\"gridcolor\":\"white\",\"linecolor\":\"white\",\"ticks\":\"\"},\"caxis\":{\"gridcolor\":\"white\",\"linecolor\":\"white\",\"ticks\":\"\"}},\"coloraxis\":{\"colorbar\":{\"outlinewidth\":0,\"ticks\":\"\"}},\"colorscale\":{\"sequential\":[[0.0,\"#0d0887\"],[0.1111111111111111,\"#46039f\"],[0.2222222222222222,\"#7201a8\"],[0.3333333333333333,\"#9c179e\"],[0.4444444444444444,\"#bd3786\"],[0.5555555555555556,\"#d8576b\"],[0.6666666666666666,\"#ed7953\"],[0.7777777777777778,\"#fb9f3a\"],[0.8888888888888888,\"#fdca26\"],[1.0,\"#f0f921\"]],\"sequentialminus\":[[0.0,\"#0d0887\"],[0.1111111111111111,\"#46039f\"],[0.2222222222222222,\"#7201a8\"],[0.3333333333333333,\"#9c179e\"],[0.4444444444444444,\"#bd3786\"],[0.5555555555555556,\"#d8576b\"],[0.6666666666666666,\"#ed7953\"],[0.7777777777777778,\"#fb9f3a\"],[0.8888888888888888,\"#fdca26\"],[1.0,\"#f0f921\"]],\"diverging\":[[0,\"#8e0152\"],[0.1,\"#c51b7d\"],[0.2,\"#de77ae\"],[0.3,\"#f1b6da\"],[0.4,\"#fde0ef\"],[0.5,\"#f7f7f7\"],[0.6,\"#e6f5d0\"],[0.7,\"#b8e186\"],[0.8,\"#7fbc41\"],[0.9,\"#4d9221\"],[1,\"#276419\"]]},\"xaxis\":{\"gridcolor\":\"white\",\"linecolor\":\"white\",\"ticks\":\"\",\"title\":{\"standoff\":15},\"zerolinecolor\":\"white\",\"automargin\":true,\"zerolinewidth\":2},\"yaxis\":{\"gridcolor\":\"white\",\"linecolor\":\"white\",\"ticks\":\"\",\"title\":{\"standoff\":15},\"zerolinecolor\":\"white\",\"automargin\":true,\"zerolinewidth\":2},\"scene\":{\"xaxis\":{\"backgroundcolor\":\"#E5ECF6\",\"gridcolor\":\"white\",\"linecolor\":\"white\",\"showbackground\":true,\"ticks\":\"\",\"zerolinecolor\":\"white\",\"gridwidth\":2},\"yaxis\":{\"backgroundcolor\":\"#E5ECF6\",\"gridcolor\":\"white\",\"linecolor\":\"white\",\"showbackground\":true,\"ticks\":\"\",\"zerolinecolor\":\"white\",\"gridwidth\":2},\"zaxis\":{\"backgroundcolor\":\"#E5ECF6\",\"gridcolor\":\"white\",\"linecolor\":\"white\",\"showbackground\":true,\"ticks\":\"\",\"zerolinecolor\":\"white\",\"gridwidth\":2}},\"shapedefaults\":{\"line\":{\"color\":\"#2a3f5f\"}},\"annotationdefaults\":{\"arrowcolor\":\"#2a3f5f\",\"arrowhead\":0,\"arrowwidth\":1},\"geo\":{\"bgcolor\":\"white\",\"landcolor\":\"#E5ECF6\",\"subunitcolor\":\"white\",\"showland\":true,\"showlakes\":true,\"lakecolor\":\"white\"},\"title\":{\"x\":0.05},\"mapbox\":{\"style\":\"light\"}}},\"xaxis\":{\"anchor\":\"y\",\"domain\":[0.0,1.0],\"title\":{\"text\":\"GPA\"}},\"yaxis\":{\"anchor\":\"x\",\"domain\":[0.0,1.0],\"title\":{\"text\":\"parental level of education\"}},\"legend\":{\"title\":{\"text\":\"GPA cuantiles\"},\"tracegroupgap\":0},\"title\":{\"text\":\"GPA por Nivel de educaci\\u00f3n de los padres\"},\"height\":720,\"width\":1920},                        {\"responsive\": true}                    ).then(function(){\n",
              "                            \n",
              "var gd = document.getElementById('cca2d450-54e7-4499-b24f-53afc2b4cf53');\n",
              "var x = new MutationObserver(function (mutations, observer) {{\n",
              "        var display = window.getComputedStyle(gd).display;\n",
              "        if (!display || display === 'none') {{\n",
              "            console.log([gd, 'removed!']);\n",
              "            Plotly.purge(gd);\n",
              "            observer.disconnect();\n",
              "        }}\n",
              "}});\n",
              "\n",
              "// Listen for the removal of the full notebook cells\n",
              "var notebookContainer = gd.closest('#notebook-container');\n",
              "if (notebookContainer) {{\n",
              "    x.observe(notebookContainer, {childList: true});\n",
              "}}\n",
              "\n",
              "// Listen for the clearing of the current output cell\n",
              "var outputEl = gd.closest('.output');\n",
              "if (outputEl) {{\n",
              "    x.observe(outputEl, {childList: true});\n",
              "}}\n",
              "\n",
              "                        })                };                            </script>        </div>\n",
              "</body>\n",
              "</html>"
            ]
          },
          "metadata": {}
        }
      ]
    },
    {
      "cell_type": "markdown",
      "source": [
        "```\n",
        "Escriba aqui su respuesta\n",
        "```\n",
        "Como se puede ver en la figura, existe una tendencia en el rendimiento académico en función de la educación parental. Se puede ver que a menor educación parental, mayor es la cantidad de datos en los cuartiles bajos de rendimiento. A medida que el nivel de educación de los padres aumenta, también aumenta el rendimiento de los estudiantes. Esta tendencia no sigue al pasar de bachelor a master, y no es posible identificar visualmente una tendencia clara en dicho caso. "
      ],
      "metadata": {
        "tags": [],
        "cell_id": "00062-ad093927-5bf2-4f2f-bc1d-55aee96cf311",
        "deepnote_cell_type": "markdown",
        "deepnote_cell_height": 70.796875,
        "id": "ZuelIWsXDY6b"
      }
    },
    {
      "cell_type": "markdown",
      "source": [
        "# Conclusión\n",
        "Eso ha sido todo para el lab de hoy, recuerden que el laboratorio tiene un plazo de entrega de una semana. Cualquier duda del laboratorio, no duden en contactarnos por mail o U-cursos.\n",
        "\n",
        "<p align=\"center\">\n",
        "  <img src=\"https://media1.tenor.com/images/2f7df460196625edc45b8380d158e5ee/tenor.gif?itemid=16669403\">\n",
        "</p>"
      ],
      "metadata": {
        "id": "Rg4ZMq8ezAH6",
        "cell_id": "00063-0d54c0f4-3d67-4c1d-92c0-dcc7882faae0",
        "deepnote_cell_type": "markdown",
        "deepnote_cell_height": 553.78125
      }
    },
    {
      "cell_type": "markdown",
      "source": [
        "<br>\n",
        "<center>\n",
        "<img src=\"https://i.kym-cdn.com/photos/images/original/001/194/195/b18.png\" width=100 height=50 />\n",
        "</center>\n",
        "<br>"
      ],
      "metadata": {
        "id": "wCL1lACBzAH7",
        "cell_id": "00064-230f1ae7-660b-4bae-822a-fee59dada1d1",
        "deepnote_cell_type": "markdown",
        "deepnote_cell_height": 171.390625
      }
    },
    {
      "cell_type": "markdown",
      "source": [
        "<a style='text-decoration:none;line-height:16px;display:flex;color:#5B5B62;padding:10px;justify-content:end;' href='https://deepnote.com?utm_source=created-in-deepnote-cell&projectId=87110296-876e-426f-b91d-aaf681223468' target=\"_blank\">\n",
        "<img alt='Created in deepnote.com' style='display:inline;max-height:16px;margin:0px;margin-right:7.5px;' src='data:image/svg+xml;base64,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' > </img>\n",
        "Created in <span style='font-weight:600;margin-left:4px;'>Deepnote</span></a>"
      ],
      "metadata": {
        "tags": [],
        "created_in_deepnote_cell": true,
        "deepnote_cell_type": "markdown",
        "id": "dV0dQlEYDY6c"
      }
    }
  ],
  "nbformat": 4,
  "nbformat_minor": 0,
  "metadata": {
    "kernelspec": {
      "display_name": "Python 3",
      "language": "python",
      "name": "python3"
    },
    "language_info": {
      "codemirror_mode": {
        "name": "ipython",
        "version": 3
      },
      "file_extension": ".py",
      "mimetype": "text/x-python",
      "name": "python",
      "nbconvert_exporter": "python",
      "pygments_lexer": "ipython3",
      "version": "3.8.3"
    },
    "toc": {
      "base_numbering": 1,
      "nav_menu": {},
      "number_sections": true,
      "sideBar": true,
      "skip_h1_title": true,
      "title_cell": "Tabla de Contenidos",
      "title_sidebar": "Contenidos",
      "toc_cell": false,
      "toc_position": {
        "height": "calc(100% - 180px)",
        "left": "10px",
        "top": "150px",
        "width": "241.867px"
      },
      "toc_section_display": true,
      "toc_window_display": true
    },
    "varInspector": {
      "cols": {
        "lenName": 16,
        "lenType": 16,
        "lenVar": 40
      },
      "kernels_config": {
        "python": {
          "delete_cmd_postfix": "",
          "delete_cmd_prefix": "del ",
          "library": "var_list.py",
          "varRefreshCmd": "print(var_dic_list())"
        },
        "r": {
          "delete_cmd_postfix": ") ",
          "delete_cmd_prefix": "rm(",
          "library": "var_list.r",
          "varRefreshCmd": "cat(var_dic_list()) "
        }
      },
      "types_to_exclude": [
        "module",
        "function",
        "builtin_function_or_method",
        "instance",
        "_Feature"
      ],
      "window_display": false
    },
    "colab": {
      "name": "Laboratorio3_enunciado.ipynb",
      "provenance": [],
      "collapsed_sections": []
    },
    "deepnote_notebook_id": "7ce98c1f-486d-455c-8cea-d01f96f5dab9",
    "deepnote": {},
    "deepnote_execution_queue": []
  }
}