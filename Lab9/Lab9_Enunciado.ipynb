{
  "cells": [
    {
      "cell_type": "markdown",
      "source": [
        "<h1><center>Laboratorio 9: Benchmark Estadístico con Reddit 🧮</center></h1>\n",
        "\n",
        "<center><strong>MDS7202: Laboratorio de Programación Científica para Ciencia de Datos</strong></center>"
      ],
      "metadata": {
        "id": "XUZ1dFPHzAHl",
        "cell_id": "00000-e61b8f99-434b-4848-a553-4bbae63045cc",
        "deepnote_cell_type": "markdown",
        "deepnote_cell_height": 156.390625
      }
    },
    {
      "cell_type": "markdown",
      "source": [
        "### Cuerpo Docente:\n",
        "\n",
        "- Profesor: Pablo Badilla\n",
        "- Auxiliar: Ignacio Meza D.\n",
        "- Ayudante: Patricio Ortiz"
      ],
      "metadata": {
        "id": "UD8X1uhGzAHq",
        "cell_id": "00001-231091e0-d755-42af-83b0-809301b54cfe",
        "deepnote_cell_type": "markdown",
        "deepnote_cell_height": 165.1875
      }
    },
    {
      "cell_type": "markdown",
      "source": [
        "### Equipo: SUPER IMPORTANTE - notebooks sin nombre no serán revisados\n",
        "\n",
        "- Nombre de alumno 1: Sebastián Aguirre\n",
        "- Nombre de alumno 2: Cristóbal Gallardo\n"
      ],
      "metadata": {
        "id": "tXflExjqzAHr",
        "cell_id": "00002-65747a66-3e34-4df6-9e4a-c63f6d47f1f1",
        "deepnote_cell_type": "markdown",
        "deepnote_cell_height": 171.796875
      }
    },
    {
      "cell_type": "markdown",
      "source": [
        "### **Link de repositorio de GitHub:** `https://github.com/cristobalgallardo/MDS7202`"
      ],
      "metadata": {
        "id": "AD-V0bbZzAHr",
        "cell_id": "00003-f842b0e0-851a-405c-a104-53fa53260fa5",
        "deepnote_cell_type": "markdown",
        "deepnote_cell_height": 62
      }
    },
    {
      "cell_type": "markdown",
      "source": [
        "# Temas a tratar\n",
        "\n",
        "- Optimización de Código en Python.\n",
        "- Utilización de librerías para medir el tiempo de ejecución de funciones.\n",
        "- Métodos para optimizar el rendimiento de las funciones.\n",
        "\n",
        "# Reglas:\n",
        "\n",
        "- Fecha de entrega: 3/12/2021\n",
        "- **Grupos de 2 personas**\n",
        "- **Ausentes** deberán realizar la actividad solos. \n",
        "- Cualquier duda fuera del horario de clases al foro. Mensajes al equipo docente serán respondidos por este medio.\n",
        "- Prohibidas las copias. \n",
        "- Pueden usar cualquer matrial del curso que estimen conveniente.\n",
        "\n",
        "# Objetivos principales del laboratorio\n",
        "\n",
        "- Utilizar la API de Reddit a partir de la librería `praw` y visualizar cuales post son más probables que sean puntuados positivamente.\n",
        "- Utilizar `cache_lru` para cachear resultados de funciones.\n",
        "- Aplicar un atajo estadístico para obtener la mean posterior de datos.\n",
        "- Medir el tiempo de ejecución como también el uso de memoria de la función anterior.\n",
        "- Optimizar la función anterior a través de `numba`."
      ],
      "metadata": {
        "id": "6uBLPj1PzAHs",
        "cell_id": "00004-d2b77039-39dd-4985-bec7-914bd5a67d98",
        "deepnote_cell_type": "markdown",
        "deepnote_cell_height": 669
      }
    },
    {
      "cell_type": "markdown",
      "source": [
        "#Importamos librerias utiles 😸"
      ],
      "metadata": {
        "id": "MhISwri4zAHy",
        "cell_id": "00005-5a5cbaa6-e809-4c62-9709-7e650430b7ba",
        "deepnote_cell_type": "markdown",
        "deepnote_cell_height": 52.390625
      }
    },
    {
      "cell_type": "code",
      "source": [
        "!pip install \"ipython>=7\""
      ],
      "metadata": {
        "colab": {
          "base_uri": "https://localhost:8080/"
        },
        "id": "58FxyKT9CHvS",
        "outputId": "f7f2b1a1-dc65-434f-d031-e4e005a063e4"
      },
      "execution_count": null,
      "outputs": [
        {
          "output_type": "stream",
          "name": "stdout",
          "text": [
            "Looking in indexes: https://pypi.org/simple, https://us-python.pkg.dev/colab-wheels/public/simple/\n",
            "Requirement already satisfied: ipython>=7 in /usr/local/lib/python3.7/dist-packages (7.34.0)\n",
            "Requirement already satisfied: traitlets>=4.2 in /usr/local/lib/python3.7/dist-packages (from ipython>=7) (5.1.1)\n",
            "Requirement already satisfied: decorator in /usr/local/lib/python3.7/dist-packages (from ipython>=7) (4.4.2)\n",
            "Requirement already satisfied: backcall in /usr/local/lib/python3.7/dist-packages (from ipython>=7) (0.2.0)\n",
            "Requirement already satisfied: prompt-toolkit!=3.0.0,!=3.0.1,<3.1.0,>=2.0.0 in /usr/local/lib/python3.7/dist-packages (from ipython>=7) (3.0.30)\n",
            "Requirement already satisfied: pickleshare in /usr/local/lib/python3.7/dist-packages (from ipython>=7) (0.7.5)\n",
            "Requirement already satisfied: pygments in /usr/local/lib/python3.7/dist-packages (from ipython>=7) (2.6.1)\n",
            "Requirement already satisfied: matplotlib-inline in /usr/local/lib/python3.7/dist-packages (from ipython>=7) (0.1.3)\n",
            "Requirement already satisfied: pexpect>4.3 in /usr/local/lib/python3.7/dist-packages (from ipython>=7) (4.8.0)\n",
            "Requirement already satisfied: jedi>=0.16 in /usr/local/lib/python3.7/dist-packages (from ipython>=7) (0.18.1)\n",
            "Requirement already satisfied: setuptools>=18.5 in /usr/local/lib/python3.7/dist-packages (from ipython>=7) (57.4.0)\n",
            "Requirement already satisfied: parso<0.9.0,>=0.8.0 in /usr/local/lib/python3.7/dist-packages (from jedi>=0.16->ipython>=7) (0.8.3)\n",
            "Requirement already satisfied: ptyprocess>=0.5 in /usr/local/lib/python3.7/dist-packages (from pexpect>4.3->ipython>=7) (0.7.0)\n",
            "Requirement already satisfied: wcwidth in /usr/local/lib/python3.7/dist-packages (from prompt-toolkit!=3.0.0,!=3.0.1,<3.1.0,>=2.0.0->ipython>=7) (0.2.5)\n"
          ]
        }
      ]
    },
    {
      "cell_type": "code",
      "metadata": {
        "deepnote_to_be_reexecuted": false,
        "execution_millis": 24248,
        "execution_start": 1638299092849,
        "id": "cO7AQ9ciQ59U",
        "source_hash": "1240e4a3",
        "cell_id": "00006-00a9ab85-c6e5-4b3d-b6ba-2004ff409a6d",
        "deepnote_cell_type": "code",
        "deepnote_cell_height": 432.1875
      },
      "source": [
        "%%capture\n",
        "!pip install praw\n",
        "!pip install line_profiler\n",
        "!pip install memory_profiler\n",
        "!pip install numba\n",
        "\n",
        "%load_ext autoreload\n",
        "%autoreload 2\n",
        "\n",
        "import sys\n",
        "import praw\n",
        "import time\n",
        "import numpy as np\n",
        "import pandas as pd\n",
        "from numba import jit\n",
        "import plotly.express as px\n",
        "from functools import lru_cache\n",
        "from IPython.core.display import Image"
      ],
      "execution_count": null,
      "outputs": []
    },
    {
      "cell_type": "markdown",
      "source": [
        "# 1. Recomendando Posts de Subreddit"
      ],
      "metadata": {
        "id": "xpOTbQcxbSiy",
        "cell_id": "00007-853a08fe-06d7-4051-b347-1e29226924ee",
        "deepnote_cell_type": "markdown",
        "deepnote_cell_height": 82
      }
    },
    {
      "cell_type": "markdown",
      "source": [
        "<p align=\"center\">\n",
        "  <img src=\"https://preview.redd.it/3sxusxcjge791.png?auto=webp&s=88bc1f9a3c59eafda24b0e32dd87d7cf596d205d\">\n",
        "</p>"
      ],
      "metadata": {
        "id": "3Q93vbNS25bM",
        "cell_id": "00008-ca941d35-4377-406f-8b9c-cdf3ce096c64",
        "owner_user_id": "d50c3174-babb-4861-9c71-7e3af66458b8",
        "deepnote_cell_type": "markdown",
        "deepnote_cell_height": 376
      }
    },
    {
      "cell_type": "markdown",
      "source": [
        "Unos intrépidos alumnos del curso, quienes frecuentemente participan en subreddits y foros de reviews, se preguntan lo siguiente: ¿Podremos confiar que un post es bueno, si este tiene solamente 1 o 3 votos positivos?. los compañeros, creen que esto claramente no representa una opinión general, ya que estamos mucho menos seguros acerca de la verdadera proporción de votos a favor de los comentarios con pocos datos. ¿Pero cómo podemos obtener una representación más creíble para este problema?.\n",
        "\n",
        "Lo señalado forma parte de un problema estadísticos, donde a través del cálculo de la posterior se puede conocer que tan probable es que un post sea bueno. Para efectos de este laboratorio, no se exige un conocimiento previo para resolver este problema, simplemente se deberá aplicar las ecuaciones presentadas más adelante (De igual forma si quedan interesados sobre el tema se les invita a tomar el ramo [CC6104](https://github.com/dccuchile/CC6104))."
      ],
      "metadata": {
        "id": "jnmZfFpxTTYX",
        "cell_id": "00009-bb6e6ae1-d939-400e-aa39-a9b5cf6fe725",
        "deepnote_cell_type": "markdown",
        "deepnote_cell_height": 245.59375
      }
    },
    {
      "cell_type": "markdown",
      "source": [
        "## 1.1 Obtención de Subrredits y Análisis [1 Punto]"
      ],
      "metadata": {
        "id": "xdbrb3AMi6EF",
        "cell_id": "00010-11ff1022-47d3-4e16-a067-862aff4fa1e6",
        "deepnote_cell_type": "markdown",
        "deepnote_cell_height": 70
      }
    },
    {
      "cell_type": "markdown",
      "source": [
        "Para estudiar que tan probable es que un post sea positivo se comenzará cargando datos reales del subreddit chile desde reddit (si usted desea puede cambiar el subreddit a uno de su gusto). Para esto le proponemos la utilización de la función que aparece mas abajo, la que presenta un usuario ya creado por el equipo docente. Dese un tiempo para entender que hace cada parte de la función, visualizando que se obtiene de estas.\n",
        "\n",
        "Revisada la función, utilice un **perfilador** para monitorear el tiempo y memoria que les toma a cada liena de código para ser ejecutada. Señale cuales son los procesos que mas tiempo consumen en la ejecución del Código, comentando si es posible mejorar el desempeño de la función.\n",
        "\n",
        "**TO-DO:**\n",
        "- [ ] Estudiar la función propuesta por el equipo docente.\n",
        "- [ ] Estudiar los tiempos de ejecución del código a través de un perfilador.\n",
        "- [ ] Estudiar la memoria ocupada por el código a través de un perfilador.\n",
        "- [ ] Comente los resultados. ¿Qué lineas ocupan más memoria o más/menos tiempo?¿Por qué?"
      ],
      "metadata": {
        "id": "YI-IRspcjPee",
        "cell_id": "00011-098a5246-642a-47aa-9f10-2261697c2603",
        "deepnote_cell_type": "markdown",
        "deepnote_cell_height": 363.796875
      }
    },
    {
      "cell_type": "code",
      "metadata": {
        "deepnote_to_be_reexecuted": false,
        "execution_millis": 1,
        "execution_start": 1637947497504,
        "id": "R4PQbceVPJzh",
        "source_hash": "a55fad36",
        "cell_id": "00012-48fd53e5-c751-4583-b193-5f95afab5819",
        "deepnote_cell_type": "code",
        "deepnote_cell_height": 675,
        "colab": {
          "base_uri": "https://localhost:8080/"
        },
        "outputId": "fe8a671b-6867-46a9-e167-76ea8aa2e07d"
      },
      "source": [
        "%%file bench_module.py\n",
        "import praw\n",
        "import numpy as np\n",
        "\n",
        "def praw_reddit(nombre_subreddit=\"chile\", n_hot=1000):\n",
        "    reddit = praw.Reddit(\n",
        "        client_id=\"-w2hyFINxZ8T3g\",\n",
        "        client_secret=\"zGPCI4s3g6Ic6AsRi7vIpP0NoxbFdw\",\n",
        "        password=\"ClasesMDS7202\",\n",
        "        user_agent=\"Clases\",\n",
        "        username=\"DocenciaDataScience\",\n",
        "        check_for_async=False,\n",
        "    )\n",
        "    subreddit = reddit.subreddit(nombre_subreddit)\n",
        "\n",
        "    votes, post, url = {}, {}, {}\n",
        "    # sacar las n publicaciones más \"hot\"\n",
        "    # Juntar en lotes de a 50 publicaciones más hot\n",
        "    top_submissions = list(subreddit.hot(limit=n_hot)) \n",
        "    for it, top_n in enumerate(range(50, len(top_submissions), 50)):\n",
        "        top_n_submissions = top_submissions[:top_n]\n",
        "        upvotes, downvotes, url[it], post[it] = [], [], [], []\n",
        "\n",
        "        for submission in top_n_submissions:\n",
        "            # intentar calcular la cantidad de upvotes y downvotes de cada post\n",
        "            try:\n",
        "                # submission.score = u-d\n",
        "                # submission.upvote_ratio = u/(u+d)\n",
        "                ratio = submission.upvote_ratio\n",
        "                # u = (u-d)*(u/(u+d))/(2u/(u+d) - 1) = u*((u-d)/(u+d))/((u-d)/(u+d)) -> 1\n",
        "                ups = int(\n",
        "                    round((ratio * submission.score) / (2 * ratio - 1))\n",
        "                    if ratio != 0.5\n",
        "                    else round(submission.score / 2)\n",
        "                )\n",
        "                # guardar datos de cada post\n",
        "                upvotes.append(ups)\n",
        "                downvotes.append(ups - submission.score) # d = u - (u-d)\n",
        "                post[it].append(submission.title)\n",
        "                url[it].append(submission.url)\n",
        "            except Exception as e:\n",
        "                continue\n",
        "        # guardar votos de los post del batch como array\n",
        "        votes[it] = np.array([upvotes, downvotes]).T\n",
        "    return votes, post, url\n"
      ],
      "execution_count": null,
      "outputs": [
        {
          "output_type": "stream",
          "name": "stdout",
          "text": [
            "Overwriting bench_module.py\n"
          ]
        }
      ]
    },
    {
      "cell_type": "code",
      "source": [
        "from bench_module import praw_reddit"
      ],
      "metadata": {
        "id": "urztGBxAlEIi"
      },
      "execution_count": null,
      "outputs": []
    },
    {
      "cell_type": "code",
      "metadata": {
        "deepnote_to_be_reexecuted": false,
        "execution_millis": 11242,
        "execution_start": 1637947497523,
        "id": "v4rjrWf_pJHJ",
        "source_hash": "4b31fefe",
        "cell_id": "00013-c9f108eb-9054-438f-9360-21669aced1bb",
        "deepnote_cell_type": "code",
        "deepnote_cell_height": 81
      },
      "source": [
        "votes, post, url = praw_reddit()"
      ],
      "execution_count": null,
      "outputs": []
    },
    {
      "cell_type": "code",
      "source": [
        "post[0]"
      ],
      "metadata": {
        "colab": {
          "base_uri": "https://localhost:8080/"
        },
        "id": "3XBg2uj_8piR",
        "outputId": "b7aa4e97-0dfb-4946-ad12-dab493e83b86"
      },
      "execution_count": null,
      "outputs": [
        {
          "output_type": "execute_result",
          "data": {
            "text/plain": [
              "['Discusión random semanal',\n",
              " 'Pudú en mi u 🤠',\n",
              " 'Medios de transporte en Chile',\n",
              " 'siempre va a haber un hueon mas loco que tu en la calle',\n",
              " 'La gente no sabe, pero gracias al hogar de Cristo muchas personas pueden recibir un desayuno digno por una pequeña contribución. El aporte de las voluntarias es invaluable y los beneficiados lo agradecen cariñosamente',\n",
              " 'Cámara de comercio de Panguipullu busca evitar recital de marcianeke',\n",
              " 'No voy a decir frases grandilocuentes tipo ‘se les acabó la fiesta’',\n",
              " 'Cada día más lejos de Nueva Zelanda: En las últimas 24 horas hubo NUEVE homicidios',\n",
              " 'Suprema dicta otra condena contra Krassnoff: exDINA ya suma cerca de 900 años de carcel',\n",
              " 'Completo mojado o algo así. No sé, no soy de talca',\n",
              " 'En Uruguay, Argentina y Paraguay hay revuelo, investigaciones penales y del Congreso por vuelos de avión venezolano iraní, incluso con pasajeros detenidos en Argentina con pasaportes falsos. Aquí en Chile noticia aún no tiene explicación. El avión estuvo seis veces y horas en AMB',\n",
              " 'Interesante nombre de un colegio captado en Google maps',\n",
              " '\"A Venezuela de nuevo\": venezolano se viraliza al indicar que dejará Chile por alto costo de la vida',\n",
              " 'El dólar inicia nueva escalada y se acerca a los 940 pesos',\n",
              " '¿Qué ocurriría si no gana el Apruebo?',\n",
              " 'Cursed...',\n",
              " 'Hombre es encontrado muerto y con múltiples balazos en estacionamiento de edificio en Santiago Centro',\n",
              " 'Pino lo aplastó: hombre de 36 años muere durante tala de árbol en Coihueco',\n",
              " 'Josefina Araos: \"Nadie debiera celebrar con un carnaval el 4 de septiembre si es que gana el Rechazo\"',\n",
              " 'Cristian Garin se instala en tercera ronda de Wimbledon tras vencer a Grenier',\n",
              " 'Tras un recibimiento hostil de parte de comunidades mapuche, Juan Sutil reiteró que no renunciará a su proyecto para acumular aguas del río Quillem',\n",
              " 'En el corazón de Stgo esta frío y todo es gris',\n",
              " 'Long Texas',\n",
              " 'Lo Barnechea: Adulto mayor baleó a dos guardias municipales',\n",
              " 'Opiniones sobre Cachureos?',\n",
              " '2 detenidos por el homicidio de un hombre en Arica: prueba para su detención fue encontrar un \"objeto audiovisual\" donde se grabó el crimen.',\n",
              " 'Coimas en la PDI: el condenado que confesó sobornos a policías a cambio de información en Caso Joyas',\n",
              " 'Alcaldesa criticó traslado de reos de alta peligrosidad a Valdivia',\n",
              " 'Estaba viendo una peli y funaron a las paltas',\n",
              " 'Drogas, deudas, amenazas. ¿Qué se hace en estos casos?',\n",
              " 'Chile en animación y videojuegos',\n",
              " 'Asesinan a un hombre de un disparo en la cabeza en el centro de Santiago',\n",
              " 'Sujeto amenazó con una motosierra a individuos durante partido del fútbol amateur en Santa Juana',\n",
              " 'Acusan corrupción en colegios: Miles de millones para la educación pública desaparecieron de las municipalidades',\n",
              " 'Dos gerentes de Turbus fueron formalizados por fatal accidente en Taltal',\n",
              " 'Ni en la práctica ni en el papel: Por qué el estado de excepción para La Araucanía y el Biobío nunca fue “acotado”',\n",
              " 'Por qué se complicó la nueva negociación de Chile con la Unión Europea y la última reunión en BruselasInversiones: el capítulo que Subrei mira en acuerdo con UE',\n",
              " 'Remedio seria \"peor que la enfermedad\": Boric dice \"no\" a un IFE de invierno ante elevada inflaciÃ³n | EconomÃ\\xada',\n",
              " 'Astrofotógrafo chileno recibe el máximo reconocimiento de la NASA en ’Astronomy Picture of the Day’ | Tecnología | BioBioChile',\n",
              " 'No se veía hace años: captan inéditas imágenes de huemul hembra en Parque Nacional Laguna Laja | Nacional | BioBioChile',\n",
              " 'Animación de Stegouros elengassen [by ©Paleogdy]',\n",
              " 'Características',\n",
              " '¿Vetaron a los ex presidentes pero invitaron a un pendejo extremista? Convencionales invitaron a Víctor Chanfreau al acto de cierre',\n",
              " 'Cuando te toca disertar y no estudiaste nada',\n",
              " 'Elisa Loncon asegura que personas que votarán Rechazo lo hacen porque \"les dicen\" que hay que hacerlo',\n",
              " 'Vista aérea de Américo Vespucio y rotonda Grecia hacia el sur, comuna de Ñuñoa, Santiago de Chile, año 1971.',\n",
              " 'Expedición descubre más de mil huellas de dinosaurios en el norte de Chile',\n",
              " 'duda astronómica ¿ alguien podría decirme que es ese punto titilante? es en viña del mar hoy',\n",
              " 'Ex canciller de Piñera sale en defensa de Jeanine Áñez: Pide \"apoyar acciones para enmendar esta injusticia\"',\n",
              " '….Alguien ah comprado joyas de “”””oro”””” en elegant.flow.store (cuenta de Instagram), lo han promocionado cantantes y no se si comprar ahí así q busco opiniones, gracias']"
            ]
          },
          "metadata": {},
          "execution_count": 10
        }
      ]
    },
    {
      "cell_type": "code",
      "source": [
        "votes[0]"
      ],
      "metadata": {
        "colab": {
          "base_uri": "https://localhost:8080/"
        },
        "id": "AS-mTZYQ8lR1",
        "outputId": "ef0b7786-5858-4786-93b8-e48b6be93dea"
      },
      "execution_count": null,
      "outputs": [
        {
          "output_type": "execute_result",
          "data": {
            "text/plain": [
              "array([[117, 108],\n",
              "       [473,   5],\n",
              "       [283,  25],\n",
              "       [ 81,   4],\n",
              "       [109,  21],\n",
              "       [265,  14],\n",
              "       [ 83,  16],\n",
              "       [186,  23],\n",
              "       [ 55,   2],\n",
              "       [ 87,  14],\n",
              "       [ 40,   7],\n",
              "       [ 57,   4],\n",
              "       [ 56,  15],\n",
              "       [ 58,   2],\n",
              "       [ 67,  25],\n",
              "       [410,  13],\n",
              "       [ 65,   4],\n",
              "       [ 27,   3],\n",
              "       [ 19,   7],\n",
              "       [ 12,   3],\n",
              "       [ 16,   6],\n",
              "       [ 23,   7],\n",
              "       [ 88,  11],\n",
              "       [ 40,   3],\n",
              "       [ 95,   5],\n",
              "       [  4,   0],\n",
              "       [ 25,   3],\n",
              "       [ 23,   4],\n",
              "       [ 82,   5],\n",
              "       [ 97,   2],\n",
              "       [204,   6],\n",
              "       [ 78,   6],\n",
              "       [ 28,   2],\n",
              "       [160,   5],\n",
              "       [  6,   1],\n",
              "       [ 11,   6],\n",
              "       [  2,   0],\n",
              "       [ 98,   7],\n",
              "       [ 70,   3],\n",
              "       [ 69,   2],\n",
              "       [ 63,   3],\n",
              "       [562,  77],\n",
              "       [294,  44],\n",
              "       [435,  71],\n",
              "       [192,  39],\n",
              "       [126,   4],\n",
              "       [ 45,   4],\n",
              "       [ 75,   2],\n",
              "       [  1,   0],\n",
              "       [  1,   0]])"
            ]
          },
          "metadata": {},
          "execution_count": 11
        }
      ]
    },
    {
      "cell_type": "code",
      "source": [
        "l = len(votes) # diccionario con arrays con votos para cada lote\n",
        "assert l == len(post) # diccionario con lista con titulo de posts para cada lote \n",
        "assert l == len(url) # diccionario con lista con url de posts para cada lote "
      ],
      "metadata": {
        "id": "JvF8GwHbrf_M"
      },
      "execution_count": null,
      "outputs": []
    },
    {
      "cell_type": "code",
      "metadata": {
        "cell_id": "00014-ab26b98a-d355-4ce3-909a-c76ea78ab2b3",
        "deepnote_cell_type": "code",
        "deepnote_cell_height": 84,
        "id": "GAXstP5jqoQ_"
      },
      "source": [
        "#  Cargar profiler\n",
        "%load_ext line_profiler\n",
        "%lprun -f praw_reddit praw_reddit() # Ejecutar profielr"
      ],
      "execution_count": null,
      "outputs": []
    },
    {
      "cell_type": "markdown",
      "source": [
        "\n",
        "```\n",
        "Timer unit: 1e-06 s\n",
        "\n",
        "Total time: 15.025 s\n",
        "File: /content/bench_module.py\n",
        "Function: praw_reddit at line 4\n",
        "\n",
        "Line #      Hits         Time  Per Hit   % Time  Line Contents\n",
        "==============================================================\n",
        "     4                                           def praw_reddit(nombre_subreddit=\"chile\", n_hot=1000):\n",
        "     5         1          3.0      3.0      0.0      reddit = praw.Reddit(\n",
        "     6         1          1.0      1.0      0.0          client_id=\"-w2hyFINxZ8T3g\",\n",
        "     7         1          0.0      0.0      0.0          client_secret=\"zGPCI4s3g6Ic6AsRi7vIpP0NoxbFdw\",\n",
        "     8         1          1.0      1.0      0.0          password=\"ClasesMDS7202\",\n",
        "     9         1          1.0      1.0      0.0          user_agent=\"Clases\",\n",
        "    10         1          0.0      0.0      0.0          username=\"DocenciaDataScience\",\n",
        "    11         1       1700.0   1700.0      0.0          check_for_async=False,\n",
        "    12                                               )\n",
        "    13         1         36.0     36.0      0.0      subreddit = reddit.subreddit(nombre_subreddit)\n",
        "    14                                           \n",
        "    15         1          1.0      1.0      0.0      votes, post, url = {}, {}, {}\n",
        "    16                                               # sacar las n publicaciones más \"hot\"\n",
        "    17                                               # Juntar en lotes de a 50 publicaciones más hot\n",
        "    18         1   14935797.0 14935797.0     99.4      top_submissions = list(subreddit.hot(limit=n_hot)) \n",
        "    19        19         37.0      1.9      0.0      for it, top_n in enumerate(range(50, len(top_submissions), 50)):\n",
        "    20        18        197.0     10.9      0.0          top_n_submissions = top_submissions[:top_n]\n",
        "    21        18        132.0      7.3      0.0          upvotes, downvotes, url[it], post[it] = [], [], [], []\n",
        "    22                                           \n",
        "    23      8568       7612.0      0.9      0.1          for submission in top_n_submissions:\n",
        "    24                                                       # intentar calcular la cantidad de upvotes y downvotes de cada post\n",
        "    25      8550       6659.0      0.8      0.0              try:\n",
        "    26                                                           # submission.score = u-d\n",
        "    27                                                           # submission.upvote_ratio = u/(u+d)\n",
        "    28      8550      10743.0      1.3      0.1                  ratio = submission.upvote_ratio\n",
        "    29                                                           # u = (u-d)*(u/(u+d))/(2u/(u+d) - 1) = u*((u-d)/(u+d))/((u-d)/(u+d)) -> 1\n",
        "    30      8550       7821.0      0.9      0.1                  ups = int(\n",
        "    31                                                               round((ratio * submission.score) / (2 * ratio - 1))\n",
        "    32      8550      13924.0      1.6      0.1                      if ratio != 0.5\n",
        "    33       159        219.0      1.4      0.0                      else round(submission.score / 2)\n",
        "    34                                                           )\n",
        "    35                                                           # guardar datos de cada post\n",
        "    36      8550       7835.0      0.9      0.1                  upvotes.append(ups)\n",
        "    37      8550       8660.0      1.0      0.1                  downvotes.append(ups - submission.score) # d = u - (u-d)\n",
        "    38      8550      10238.0      1.2      0.1                  post[it].append(submission.title)\n",
        "    39      8550      11617.0      1.4      0.1                  url[it].append(submission.url)\n",
        "    40                                                       except Exception as e:\n",
        "    41                                                           continue\n",
        "    42                                                   # guardar votos de los post del batch como array\n",
        "    43        18       1764.0     98.0      0.0          votes[it] = np.array([upvotes, downvotes]).T\n",
        "    44         1          1.0      1.0      0.0      return votes, post, url\n",
        "    \n",
        "\n",
        "check\n",
        "0 s\n",
        "```\n",
        "\n"
      ],
      "metadata": {
        "id": "GjoHRC_WxZBV"
      }
    },
    {
      "cell_type": "code",
      "source": [
        "#  Cargar profiler\n",
        "%load_ext memory_profiler\n",
        "%mprun -f praw_reddit praw_reddit() # Ejecutar profielr"
      ],
      "metadata": {
        "id": "L6MKlF6ujDCL"
      },
      "execution_count": null,
      "outputs": []
    },
    {
      "cell_type": "markdown",
      "source": [
        "\n",
        "\n",
        "```\n",
        "Filename: /content/bench_module.py\n",
        "\n",
        "Line #    Mem usage    Increment  Occurrences   Line Contents\n",
        "=============================================================\n",
        "     4    246.3 MiB    246.3 MiB           1   def praw_reddit(nombre_subreddit=\"chile\", n_hot=1000):\n",
        "     5    246.3 MiB      0.0 MiB           1       reddit = praw.Reddit(\n",
        "     6    246.3 MiB      0.0 MiB           1           client_id=\"-w2hyFINxZ8T3g\",\n",
        "     7    246.3 MiB      0.0 MiB           1           client_secret=\"zGPCI4s3g6Ic6AsRi7vIpP0NoxbFdw\",\n",
        "     8    246.3 MiB      0.0 MiB           1           password=\"ClasesMDS7202\",\n",
        "     9    246.3 MiB      0.0 MiB           1           user_agent=\"Clases\",\n",
        "    10    246.3 MiB      0.0 MiB           1           username=\"DocenciaDataScience\",\n",
        "    11    246.3 MiB      0.0 MiB           1           check_for_async=False,\n",
        "    12                                             )\n",
        "    13    246.3 MiB      0.0 MiB           1       subreddit = reddit.subreddit(nombre_subreddit)\n",
        "    14                                         \n",
        "    15    246.3 MiB      0.0 MiB           1       votes, post, url = {}, {}, {}\n",
        "    16                                             # sacar las n publicaciones más \"hot\"\n",
        "    17                                             # Juntar en lotes de a 50 publicaciones más hot\n",
        "    18    263.2 MiB     17.0 MiB           1       top_submissions = list(subreddit.hot(limit=n_hot)) \n",
        "    19    263.2 MiB      0.0 MiB          19       for it, top_n in enumerate(range(50, len(top_submissions), 50)):\n",
        "    20    263.2 MiB      0.0 MiB          18           top_n_submissions = top_submissions[:top_n]\n",
        "    21    263.2 MiB      0.0 MiB          18           upvotes, downvotes, url[it], post[it] = [], [], [], []\n",
        "    22                                         \n",
        "    23    263.2 MiB      0.0 MiB        8568           for submission in top_n_submissions:\n",
        "    24                                                     # intentar calcular la cantidad de upvotes y downvotes de cada post\n",
        "    25    263.2 MiB      0.0 MiB        8550               try:\n",
        "    26                                                         # submission.score = u-d\n",
        "    27                                                         # submission.upvote_ratio = u/(u+d)\n",
        "    28    263.2 MiB      0.0 MiB        8550                   ratio = submission.upvote_ratio\n",
        "    29                                                         # u = (u-d)*(u/(u+d))/(2u/(u+d) - 1) = u*((u-d)/(u+d))/((u-d)/(u+d)) -> 1\n",
        "    30    263.2 MiB      0.0 MiB        8550                   ups = int(\n",
        "    31                                                             round((ratio * submission.score) / (2 * ratio - 1))\n",
        "    32    263.2 MiB      0.0 MiB        8550                       if ratio != 0.5\n",
        "    33    263.2 MiB      0.0 MiB         173                       else round(submission.score / 2)\n",
        "    34                                                         )\n",
        "    35                                                         # guardar datos de cada post\n",
        "    36    263.2 MiB      0.0 MiB        8550                   upvotes.append(ups)\n",
        "    37    263.2 MiB      0.0 MiB        8550                   downvotes.append(ups - submission.score) # d = u - (u-d)\n",
        "    38    263.2 MiB      0.0 MiB        8550                   post[it].append(submission.title)\n",
        "    39    263.2 MiB      0.0 MiB        8550                   url[it].append(submission.url)\n",
        "    40                                                     except Exception as e:\n",
        "    41                                                         continue\n",
        "    42                                                 # guardar votos de los post del batch como array\n",
        "    43    263.2 MiB      0.0 MiB          18           votes[it] = np.array([upvotes, downvotes]).T\n",
        "    44    263.2 MiB      0.0 MiB           1       return votes, post, url\n",
        "```\n",
        "\n"
      ],
      "metadata": {
        "id": "U9_nqxDOlxyr"
      }
    },
    {
      "cell_type": "markdown",
      "source": [
        "**Respuesta:**"
      ],
      "metadata": {
        "id": "-diI_GpXmzqS",
        "cell_id": "00015-ba1d4036-9f0c-49c7-885f-be416a89deb8",
        "deepnote_cell_type": "markdown",
        "deepnote_cell_height": 52.390625
      }
    },
    {
      "cell_type": "markdown",
      "source": [
        "Como se puede observar del profiler, la linea donde se gasta más tiempo es la linea 15 donde se cargan las n publicaciones más hot, esto tiene sentido debido a que en escencia se tienen que ordenar las publicaciones y cargar las n más votadas. \n",
        "\n",
        "Seguido a esto, la línea que ocupa el 2do lugar en tiempo es la linea 29, ya que corresponde a una operación if de desigualdad dentro de un loop, que se repite 9500 veces, aun así este tiempo es infimo al compararlo con el primer lugar, pero dentro de las operaciones del for loop esta es la que consume más tiempo. \n",
        "\n",
        "Las líneas con menos consumo de tiempo son las lineas donde se definen variables como la línea 15 o la línea 5, ya que no realiza alguna operación mas que asignar un espacio en la memoria. \n",
        "\n",
        "\n",
        "Con respecto al uso de memoria, como era de esperarse solo incrementa de forma notable en la línea 18, donde se cargan los top n posts. \n",
        "\n",
        "\n",
        "\n",
        "\n",
        "\n",
        "\n"
      ],
      "metadata": {
        "id": "6gdqQBi1m_cu",
        "cell_id": "00016-64888967-a91d-455b-9d60-d105f449ae74",
        "deepnote_cell_type": "markdown",
        "deepnote_cell_height": 52.390625
      }
    },
    {
      "cell_type": "markdown",
      "source": [
        "## 1.2 LRU y Análisis de Tiempo con Cache [1 Punto]"
      ],
      "metadata": {
        "id": "tNDS2OpFnMnH",
        "cell_id": "00017-2673822e-79de-4fbe-86af-5fd583216f57",
        "deepnote_cell_type": "markdown",
        "deepnote_cell_height": 70
      }
    },
    {
      "cell_type": "markdown",
      "source": [
        "Respondan las siguientes preguntas:\n",
        "\n",
        "1.\t¿Qué es la memoria cache y a que se refiere las siglas LRU?\n",
        "2.\t¿Cuáles son los costos que tiene la aplicación de técnicas de Caching?\n",
        "3. ¿Cuál es la consecuencía de ocupar caching en la función anterior?.\n",
        "\n",
        "Respondidas las preguntas, se le solicita que aplique alguna técnica de caching para mejorar el desempeño de la función `praw_reddit`. Para esto compare solo el tiempo de ejecución del algoritmo con y sin caching, señalando el tiempo total de ejecución y el tiempo promedio que le toma ejecutar cada loop a la función. Con lo anterior, ¿es posible visualizar mejoras en este caso?.\n",
        "\n",
        "\n",
        "**TO-DO:**\n",
        "- [ ] Responder las preguntas.\n",
        "- [ ] Mejorar el código con cache.\n",
        "- [ ] Explicar las consecuencias de usar lru_cache sobre praw_reddit"
      ],
      "metadata": {
        "id": "i3nsxCbAna4t",
        "cell_id": "00018-d9701b8d-f3fe-4cd1-9f59-295dfdaeca48",
        "deepnote_cell_type": "markdown",
        "deepnote_cell_height": 380.796875
      }
    },
    {
      "cell_type": "markdown",
      "source": [
        "**Respuestas Teóricas:**"
      ],
      "metadata": {
        "id": "fbQPpvYorOAF",
        "cell_id": "00019-26287e8f-b23a-4e51-9645-b9fb99a93eea",
        "deepnote_cell_type": "markdown",
        "deepnote_cell_height": 52.390625
      }
    },
    {
      "cell_type": "markdown",
      "source": [
        "`Escriba su respuesta aquí`\n",
        "\n",
        "1. La memoria cache es una memoria generalmente más pequeña que se utiliza para mejorar el rendimiento de aplicaciones por medio de un uso eficiente de la memoria, la ideas es guardar los resultados de operaciones intensivas en la memoria para luego volver a utilizarlas o guardar datos que son accedidos frecuentemente para no perder tiempo buscándolos, este espacio puede ser de acceso rapido (RAM), disco (SSD, HDD) o almacenada de manera remota. \n",
        "\n",
        "LRU es sigla de Least Recently Used (menos usado recientemente), este algoritmo organiza una pequeña memoria (el cache) según el orden de uso de sus elementos, entonces se puede acceder muy rápidamente a aquellos elementos que no han sido usados, cuando el cache se llena se descarta primero el item menos usado y se añade el nuevo elemento al final de la cola para \"salir\" del cache. \n",
        "\n",
        "2. El principal costo del caching además del uso de memoria extra es que se debe seguir una política en el cache para mantener aquellos elementos que efectivamente optimizen los tiempos de ejecución. El problema es que aplicar una política (e.g: LRU) puede ser costoso computacionalmente incluso muchas veces tan sólo se realizan aproximaciones, teniendo que hacerse un trade-off entre el tiempo ahorrado de ejecución por hacer caching y el tiempo que se gasta para administrarlo.\n",
        "\n",
        "3. Al ocupar caching en la función se guardan los datos de los posts en el cache, lo que hace más rápido su almacenamiento y posterior búsqueda. Como se vio en la sección pasada, se cargan y leen los datos de los n post más hot, por lo que al almacenar estos datos en cache incrementaria la velocidad de escritura y lectura, y por ende reduciría el tiempo total de la función."
      ],
      "metadata": {
        "id": "RKfLXDs_rO-w",
        "cell_id": "00020-9507e876-349d-4beb-94e8-c7adc0bbc210",
        "deepnote_cell_type": "markdown",
        "deepnote_cell_height": 52.390625
      }
    },
    {
      "cell_type": "code",
      "metadata": {
        "id": "X0u4WU11rLJd",
        "cell_id": "00021-ed8c6162-10ed-414a-a7c0-e5eed7d2715e",
        "deepnote_cell_type": "code",
        "deepnote_cell_height": 66
      },
      "source": [
        "@lru_cache()\n",
        "def praw_reddit_cache(nombre_subreddit=\"chile\", n_hot=1000):\n",
        "    reddit = praw.Reddit(\n",
        "        client_id=\"-w2hyFINxZ8T3g\",\n",
        "        client_secret=\"zGPCI4s3g6Ic6AsRi7vIpP0NoxbFdw\",\n",
        "        password=\"ClasesMDS7202\",\n",
        "        user_agent=\"Clases\",\n",
        "        username=\"DocenciaDataScience\",\n",
        "        check_for_async=False,\n",
        "    )\n",
        "    subreddit = reddit.subreddit(nombre_subreddit)\n",
        "\n",
        "    votes, post, url = {}, {}, {}\n",
        "    # sacar las n publicaciones más \"hot\"\n",
        "    # Juntar en lotes de a 50 publicaciones más hot\n",
        "    top_submissions = list(subreddit.hot(limit=n_hot)) \n",
        "    for it, top_n in enumerate(range(50, len(top_submissions), 50)):\n",
        "        top_n_submissions = top_submissions[:top_n]\n",
        "        upvotes, downvotes, url[it], post[it] = [], [], [], []\n",
        "\n",
        "        for submission in top_n_submissions:\n",
        "            # intentar calcular la cantidad de upvotes y downvotes de cada post\n",
        "            try:\n",
        "                # submission.score = u-d\n",
        "                # submission.upvote_ratio = u/(u+d)\n",
        "                ratio = submission.upvote_ratio\n",
        "                # u = (u-d)*(u/(u+d))/(2u/(u+d) - 1) = u*((u-d)/(u+d))/((u-d)/(u+d)) -> 1\n",
        "                ups = int(\n",
        "                    round((ratio * submission.score) / (2 * ratio - 1))\n",
        "                    if ratio != 0.5\n",
        "                    else round(submission.score / 2)\n",
        "                )\n",
        "                # guardar datos de cada post\n",
        "                upvotes.append(ups)\n",
        "                downvotes.append(ups - submission.score) # d = u - (u-d)\n",
        "                post[it].append(submission.title)\n",
        "                url[it].append(submission.url)\n",
        "            except Exception as e:\n",
        "                continue\n",
        "        # guardar votos de los post del batch como array\n",
        "        votes[it] = np.array([upvotes, downvotes]).T\n",
        "    return votes, post, url"
      ],
      "execution_count": null,
      "outputs": []
    },
    {
      "cell_type": "code",
      "source": [
        "%timeit praw_reddit()"
      ],
      "metadata": {
        "colab": {
          "base_uri": "https://localhost:8080/"
        },
        "id": "UIWx0fOg_G6y",
        "outputId": "c5a7f901-6576-4c13-958d-d2139d51c2c8"
      },
      "execution_count": null,
      "outputs": [
        {
          "output_type": "stream",
          "name": "stdout",
          "text": [
            "13.4 s ± 419 ms per loop (mean ± std. dev. of 7 runs, 1 loop each)\n"
          ]
        }
      ]
    },
    {
      "cell_type": "code",
      "source": [
        "%timeit praw_reddit_cache()"
      ],
      "metadata": {
        "colab": {
          "base_uri": "https://localhost:8080/"
        },
        "id": "JQ59l_zE-f1Y",
        "outputId": "efa635d1-2b55-4b1e-cc7d-fba4c6452335"
      },
      "execution_count": null,
      "outputs": [
        {
          "output_type": "stream",
          "name": "stdout",
          "text": [
            "The slowest run took 19.62 times longer than the fastest. This could mean that an intermediate result is being cached.\n",
            "723 ns ± 1.24 µs per loop (mean ± std. dev. of 7 runs, 1 loop each)\n"
          ]
        }
      ]
    },
    {
      "cell_type": "markdown",
      "source": [
        "**Respuesta de lru_cache sobre praw_reddit**"
      ],
      "metadata": {
        "cell_id": "00022-f295ab8f-b06d-4171-90b7-73dabfe0598d",
        "deepnote_cell_type": "markdown",
        "deepnote_cell_height": 52.390625,
        "id": "xPRgPySxqoRB"
      }
    },
    {
      "cell_type": "markdown",
      "source": [
        "Como se puede ver, al utilizar lru_cache sobre praw_reddit se obtuvo una mejor considreable en el tiempo de ejecución, siendo esta del orden de 10e6 veces más rápida, ya que con lru_cache tomo 723 microsegundos y sin lru_cache tomó 13.4 segundos.\n",
        "\n"
      ],
      "metadata": {
        "cell_id": "00023-56264983-6b36-48c6-a43c-19d19702f8f4",
        "deepnote_cell_type": "markdown",
        "deepnote_cell_height": 52.390625,
        "id": "Jbp_lMXeqoRB"
      }
    },
    {
      "cell_type": "markdown",
      "source": [
        "## 1.3 Obtención de Mean Posterior y Standard Error [1 Punto]\n",
        "\n",
        "Una forma de obtener la mean posterior y el Standard Error de los datos de reddit es aplicando un atajo de inferencia estadística. Este atajo se define de la siguiente forma:\n",
        "\n",
        "Sea **u** los votos positivos y **d** los votos negativos del subreddit, tendremos que:\n",
        "\n",
        "$$a = 1+u$$\n",
        "\n",
        "$$b = 1+d$$\n",
        "\n",
        "$$\\sigma= 1.65\\sqrt(\\dfrac{ab}{(a + b)^2(a + b + 1)})$$\n",
        "\n",
        "$$\\mu = \\dfrac{a}{a+b}$$\n",
        "\n",
        "Donde $\\mu$ es la mean posterior y $\\sigma$ el standard error.\n",
        "\n",
        "Con lo anterior, genere dos funciones que tengan como salida $\\mu$ y $\\sigma$ de acuerdo a las ecuaciones señaladas. La primera función, deberá ser construida sin el uso de numpy, aplicando for y aplicando comandos nativos de Python. Por otro lado, deberá generar una segunda función con el uso exclusivo de numpy. **OJO** que las funciones deben tener como entrada solo un elemento del diccionario votes (por ejemplo `votes[1]`), por lo que estas no deben tener como entrada el conjunto completo de datos."
      ],
      "metadata": {
        "id": "2pS26u-trdg6",
        "cell_id": "00024-87380659-431c-4ae7-9d12-6647f21ca9ff",
        "deepnote_cell_type": "markdown",
        "deepnote_cell_height": 542.5625
      }
    },
    {
      "cell_type": "code",
      "metadata": {
        "deepnote_to_be_reexecuted": false,
        "execution_millis": 15,
        "execution_start": 1637947536256,
        "id": "ahzpJ-Sk0DOD",
        "source_hash": "b9b21217",
        "cell_id": "00025-f63243e1-47cb-4c2c-be14-9c38dcbd24bb",
        "deepnote_cell_type": "code",
        "deepnote_cell_height": 81
      },
      "source": [
        "###### Código Aquí ######\n",
        "import math\n",
        "\n",
        "def mean_std(x):\n",
        "  mean = np.zeros(len(x))\n",
        "  std = np.zeros(len(x))\n",
        "  for i in range(len(x)):\n",
        "    u, d = x[i, :]\n",
        "    a = 1 + u\n",
        "    b = 1 + d\n",
        "    T = (a+b)\n",
        "    std[i] = 1.65*math.sqrt((a*b)/(T+1))/T\n",
        "    mean[i] = a/T\n",
        "\n",
        "  return mean, std\n",
        "\n",
        "\n",
        "def mean_std_np(x):\n",
        "    a= x[:,0] + 1\n",
        "    b= x[:,1] + 1\n",
        "    T = (a+b)\n",
        "    std = 1.65 * np.sqrt((a*b)/(T+1))/T\n",
        "    mean = a/T\n",
        "\n",
        "    return mean,std\n",
        "\n",
        "mean, std = mean_std(votes[0])\n",
        "mean = np.array(mean)\n",
        "std = np.array(std)\n",
        "\n",
        "mean_np, std_np = mean_std_np(votes[0])\n",
        "\n",
        "assert np.allclose(mean_np, mean)\n",
        "assert np.allclose(std_np, std)"
      ],
      "execution_count": null,
      "outputs": []
    },
    {
      "cell_type": "markdown",
      "source": [
        "## 1.4 Comparación de Rendimiento [2 Puntos]\n",
        "\n",
        "Ahora, aplique el compilador **Numba** sobre las funciones 1.3 y compare el tiempo de ejecución con los obtenidos sin el compilador. \n",
        "\n",
        "Para esto genere un gráfico de linea utilizando plotly, en donde se pueda observar el tiempo que toma ejecutar cada función (el eje y) diferentes cantidades de datos (ejemplo, en el eje x considerar 100, 200, 300, ..., 1000 datos) sobre cada función implementada (series `Python`, `Numpy`, `Python-JIT`, `Numpy-JIT`). ¿Es posible observar diferencias? ¿A qué se debe esto?.\n",
        "\n",
        "**Nota:** Ejecuten las funciones compiladas con algún ejemplo antes de graficar. De lo contrario, les indicará el tiempo de compilación, cosa que no queremos medir\n",
        "\n",
        "**Nota 2**: En el caso que su computador sea muy rápido, se recomienda graficar el eje y (tiempo) como logaritmo usando `log_y=True`.\n"
      ],
      "metadata": {
        "id": "VhHhiTRYwpGu",
        "cell_id": "00026-42ed3992-3ac8-4452-b6f1-031bb91fa5e6",
        "owner_user_id": "badcc427-fd3d-4615-9296-faa43ec69cfb",
        "deepnote_cell_type": "markdown",
        "deepnote_cell_height": 352
      }
    },
    {
      "cell_type": "code",
      "metadata": {
        "id": "b02IokToxPpO",
        "cell_id": "00027-a686fa21-e957-40c6-8fd1-a6fef560928c",
        "deepnote_cell_type": "code",
        "deepnote_cell_height": 66
      },
      "source": [
        "@jit(nopython=True)\n",
        "def mean_std_numba(x):\n",
        "  mean = np.zeros(len(x))\n",
        "  std = np.zeros(len(x))\n",
        "  for i in range(len(x)):\n",
        "    u, d = x[i, :]\n",
        "    a = 1 + u\n",
        "    b = 1 + d\n",
        "    T = (a+b)\n",
        "    std[i] = 1.65*math.sqrt((a*b)/(T+1))/T\n",
        "    mean[i] = a/T\n",
        "\n",
        "  return mean, std\n",
        "\n",
        "@jit(nopython=True)\n",
        "def mean_std_np_numba(x):\n",
        "    a= x[:,0] + 1\n",
        "    b= x[:,1] + 1\n",
        "    T = (a+b)\n",
        "    std = 1.65 * np.sqrt((a*b)/(T+1))/T\n",
        "    mean = a/T\n",
        "\n",
        "    return mean,std\n",
        "\n",
        "# Compilar y testear\n",
        "mean, std = mean_std_numba(votes[0])\n",
        "mean = np.array(mean)\n",
        "std = np.array(std)\n",
        "\n",
        "mean_np, std_np = mean_std_np_numba(votes[0])\n",
        "\n",
        "assert np.allclose(mean_np, mean)\n",
        "assert np.allclose(std_np, std)"
      ],
      "execution_count": null,
      "outputs": []
    },
    {
      "cell_type": "code",
      "source": [
        "# Tamaños de arrays a probar\n",
        "test_sizes= np.arange(50, 1001, 50)\n",
        "# Lista de funciones a probar\n",
        "to_test_func = [mean_std, mean_std_np, mean_std_numba, mean_std_np_numba] \n",
        "\n",
        "# Para guardar tiempos promedios y stds\n",
        "mean_times = np.zeros((len(to_test_func) , len(test_sizes)), dtype = np.float32)\n",
        "std_times = np.zeros((len(to_test_func) , len(test_sizes)), dtype = np.float32)\n",
        "\n",
        "# Para cada tamaño\n",
        "for i,sz in enumerate(test_sizes):\n",
        "  np.random.seed(test_sizes)\n",
        "  # Crear array aleatorio de enteros de tamaño sz\n",
        "  test_array = np.random.randint(0, high = 101, size = (sz, 2))\n",
        "  # Para cada func medir tiempo de 5 repeticiones con timeit\n",
        "  for j, func in enumerate(to_test_func):\n",
        "    timeit_time = %timeit -q -o -r 5 func(test_array)\n",
        "    mean_times[j,i] = timeit_time.average\n",
        "    std_times[j,i] = timeit_time.stdev\n"
      ],
      "metadata": {
        "id": "HXKu36JbIxYx"
      },
      "execution_count": null,
      "outputs": []
    },
    {
      "cell_type": "code",
      "source": [
        "import plotly.graph_objects as go\n",
        "\n",
        "Names = ['Python', 'Numpy', 'Python-JIT', 'Numpy-JIT']\n",
        "\n",
        "scatters = [go.Scatter(\n",
        "        name=name,\n",
        "        x=test_sizes,\n",
        "        y=mean_times[i],\n",
        "        error_y=dict(\n",
        "            type='data', # value of error bar given in data coordinates\n",
        "            array=std_times[i],\n",
        "            visible=True),\n",
        "        mode='markers+lines') for i,name in enumerate(Names)]\n",
        "\n",
        "fig = go.Figure(scatters)\n",
        "fig.update_yaxes(type=\"log\")\n",
        "fig"
      ],
      "metadata": {
        "colab": {
          "base_uri": "https://localhost:8080/",
          "height": 542
        },
        "id": "o3I1zmZzI-Sm",
        "outputId": "89998382-6527-4f3a-d759-28e82c675dad"
      },
      "execution_count": null,
      "outputs": [
        {
          "output_type": "display_data",
          "data": {
            "text/html": [
              "<html>\n",
              "<head><meta charset=\"utf-8\" /></head>\n",
              "<body>\n",
              "    <div>            <script src=\"https://cdnjs.cloudflare.com/ajax/libs/mathjax/2.7.5/MathJax.js?config=TeX-AMS-MML_SVG\"></script><script type=\"text/javascript\">if (window.MathJax) {MathJax.Hub.Config({SVG: {font: \"STIX-Web\"}});}</script>                <script type=\"text/javascript\">window.PlotlyConfig = {MathJaxConfig: 'local'};</script>\n",
              "        <script src=\"https://cdn.plot.ly/plotly-2.8.3.min.js\"></script>                <div id=\"3d907bcc-171b-4fd3-9e7e-0d2bc7e40e38\" class=\"plotly-graph-div\" style=\"height:525px; width:100%;\"></div>            <script type=\"text/javascript\">                                    window.PLOTLYENV=window.PLOTLYENV || {};                                    if (document.getElementById(\"3d907bcc-171b-4fd3-9e7e-0d2bc7e40e38\")) {                    Plotly.newPlot(                        \"3d907bcc-171b-4fd3-9e7e-0d2bc7e40e38\",                        [{\"error_y\":{\"array\":[8.48564195621293e-06,1.0151146852876991e-05,1.0924640264420304e-05,1.5687184713897295e-05,2.0120425688219257e-05,2.1587607989204116e-05,3.536727308528498e-05,1.666358184593264e-05,4.737256676889956e-05,7.079324132064357e-05,5.8556797739584e-05,6.426247273338959e-05,4.185052966931835e-05,0.00010771687811939046,7.76053566369228e-05,7.824486965546384e-05,0.00010740082507254556,8.112836803775281e-05,0.0010035947198048234,6.983698403928429e-05],\"type\":\"data\",\"visible\":true},\"mode\":\"markers+lines\",\"name\":\"Python\",\"x\":[50,100,150,200,250,300,350,400,450,500,550,600,650,700,750,800,850,900,950,1000],\"y\":[0.00025010888930410147,0.00048782944213598967,0.0007504232926294208,0.0009773436468094587,0.0012150425463914871,0.001488703885115683,0.0017970821354538202,0.001958811189979315,0.0022425216156989336,0.0025055152364075184,0.0026737863663583994,0.002893381752073765,0.003140491433441639,0.0034468413796275854,0.0036957941483706236,0.003951692953705788,0.004129648674279451,0.004322926513850689,0.005181793123483658,0.004890906158834696],\"type\":\"scatter\"},{\"error_y\":{\"array\":[5.263957518764073e-07,1.3992536196383298e-07,3.1811130156711442e-06,1.7310949829152378e-07,1.1432972257807705e-07,1.7212721559189958e-07,2.0134878297994874e-07,1.2738111365706573e-07,2.632447433370544e-07,1.6102161737308052e-07,8.465698897452967e-07,3.237705357150844e-07,6.288925646913412e-07,6.796291813770949e-07,4.77160597256443e-07,5.960566227258823e-07,4.1608475953580637e-07,3.8896962450962747e-07,7.109117063919257e-07,1.1773183814511867e-06],\"type\":\"data\",\"visible\":true},\"mode\":\"markers+lines\",\"name\":\"Numpy\",\"x\":[50,100,150,200,250,300,350,400,450,500,550,600,650,700,750,800,850,900,950,1000],\"y\":[1.1613434253376909e-05,1.2854136002715677e-05,1.559982956678141e-05,1.4568927326763514e-05,1.5293999240384437e-05,1.5830022675800137e-05,1.6679625332471915e-05,1.6973446690826677e-05,1.7975435184780508e-05,1.8492009985493496e-05,2.0374893210828304e-05,2.0160103304078802e-05,2.1074622054584324e-05,2.189538827224169e-05,2.2603933757636696e-05,2.2925763914827257e-05,2.3505432181991637e-05,2.393125214439351e-05,2.481390220054891e-05,2.5946315872715786e-05],\"type\":\"scatter\"},{\"error_y\":{\"array\":[3.3826349721266524e-08,2.08897965592314e-08,1.523115678025988e-08,2.804975984815883e-08,6.588774681404175e-08,8.690795993970823e-08,1.365951476373084e-07,6.312383220574702e-07,1.3731238368563936e-07,7.187723127799472e-08,2.525084710214287e-07,2.1576882147655851e-07,2.67639279627474e-07,4.388274987832119e-07,3.549342011410772e-07,4.6014463350729784e-07,3.1180920245788e-07,3.584318335470016e-07,3.5197081160731614e-07,4.580557799727103e-07],\"type\":\"data\",\"visible\":true},\"mode\":\"markers+lines\",\"name\":\"Python-JIT\",\"x\":[50,100,150,200,250,300,350,400,450,500,550,600,650,700,750,800,850,900,950,1000],\"y\":[2.8063311674486613e-06,4.709049790108111e-06,6.568982826138381e-06,8.396025805268437e-06,1.03900511021493e-05,1.2190171219117474e-05,1.4221750461729243e-05,1.628806239750702e-05,1.8030132196145132e-05,1.9666469597723335e-05,2.15642066905275e-05,2.30683963309275e-05,2.4983597540995106e-05,2.727864557527937e-05,2.8847263820352964e-05,3.0399771276279353e-05,3.237175042158924e-05,3.440472937654704e-05,3.630094579420984e-05,3.809038389590569e-05],\"type\":\"scatter\"},{\"error_y\":{\"array\":[1.0284368912039099e-08,8.801359996368774e-08,3.9130487294869454e-08,5.5214027128158705e-08,6.160180276992833e-08,4.535012720907616e-08,8.065947554314334e-08,1.223773722358601e-07,9.938543144016876e-08,6.912279815196598e-08,5.834420235828475e-08,4.0878852303194435e-08,1.940088267815554e-08,9.444297432992244e-08,3.5834649025900944e-08,9.586489824187083e-08,4.546075516032033e-08,8.871610361893545e-07,5.6114071611546024e-08,3.6290355609480685e-08],\"type\":\"data\",\"visible\":true},\"mode\":\"markers+lines\",\"name\":\"Numpy-JIT\",\"x\":[50,100,150,200,250,300,350,400,450,500,550,600,650,700,750,800,850,900,950,1000],\"y\":[1.7345380456390558e-06,2.2160443222674076e-06,2.6634359073796077e-06,3.1219735774357105e-06,3.63213439413812e-06,4.0284589886141475e-06,4.5160986701375805e-06,5.1661058932950255e-06,5.5980590332183056e-06,5.903211786062457e-06,6.406572083506035e-06,6.822223440394737e-06,7.313624337257352e-06,7.767287570459303e-06,8.210917258111294e-06,8.76246122061275e-06,9.137876077147666e-06,1.006928869173862e-05,1.0108385140483733e-05,1.0565926459094044e-05],\"type\":\"scatter\"}],                        {\"template\":{\"data\":{\"bar\":[{\"error_x\":{\"color\":\"#2a3f5f\"},\"error_y\":{\"color\":\"#2a3f5f\"},\"marker\":{\"line\":{\"color\":\"#E5ECF6\",\"width\":0.5},\"pattern\":{\"fillmode\":\"overlay\",\"size\":10,\"solidity\":0.2}},\"type\":\"bar\"}],\"barpolar\":[{\"marker\":{\"line\":{\"color\":\"#E5ECF6\",\"width\":0.5},\"pattern\":{\"fillmode\":\"overlay\",\"size\":10,\"solidity\":0.2}},\"type\":\"barpolar\"}],\"carpet\":[{\"aaxis\":{\"endlinecolor\":\"#2a3f5f\",\"gridcolor\":\"white\",\"linecolor\":\"white\",\"minorgridcolor\":\"white\",\"startlinecolor\":\"#2a3f5f\"},\"baxis\":{\"endlinecolor\":\"#2a3f5f\",\"gridcolor\":\"white\",\"linecolor\":\"white\",\"minorgridcolor\":\"white\",\"startlinecolor\":\"#2a3f5f\"},\"type\":\"carpet\"}],\"choropleth\":[{\"colorbar\":{\"outlinewidth\":0,\"ticks\":\"\"},\"type\":\"choropleth\"}],\"contour\":[{\"colorbar\":{\"outlinewidth\":0,\"ticks\":\"\"},\"colorscale\":[[0.0,\"#0d0887\"],[0.1111111111111111,\"#46039f\"],[0.2222222222222222,\"#7201a8\"],[0.3333333333333333,\"#9c179e\"],[0.4444444444444444,\"#bd3786\"],[0.5555555555555556,\"#d8576b\"],[0.6666666666666666,\"#ed7953\"],[0.7777777777777778,\"#fb9f3a\"],[0.8888888888888888,\"#fdca26\"],[1.0,\"#f0f921\"]],\"type\":\"contour\"}],\"contourcarpet\":[{\"colorbar\":{\"outlinewidth\":0,\"ticks\":\"\"},\"type\":\"contourcarpet\"}],\"heatmap\":[{\"colorbar\":{\"outlinewidth\":0,\"ticks\":\"\"},\"colorscale\":[[0.0,\"#0d0887\"],[0.1111111111111111,\"#46039f\"],[0.2222222222222222,\"#7201a8\"],[0.3333333333333333,\"#9c179e\"],[0.4444444444444444,\"#bd3786\"],[0.5555555555555556,\"#d8576b\"],[0.6666666666666666,\"#ed7953\"],[0.7777777777777778,\"#fb9f3a\"],[0.8888888888888888,\"#fdca26\"],[1.0,\"#f0f921\"]],\"type\":\"heatmap\"}],\"heatmapgl\":[{\"colorbar\":{\"outlinewidth\":0,\"ticks\":\"\"},\"colorscale\":[[0.0,\"#0d0887\"],[0.1111111111111111,\"#46039f\"],[0.2222222222222222,\"#7201a8\"],[0.3333333333333333,\"#9c179e\"],[0.4444444444444444,\"#bd3786\"],[0.5555555555555556,\"#d8576b\"],[0.6666666666666666,\"#ed7953\"],[0.7777777777777778,\"#fb9f3a\"],[0.8888888888888888,\"#fdca26\"],[1.0,\"#f0f921\"]],\"type\":\"heatmapgl\"}],\"histogram\":[{\"marker\":{\"pattern\":{\"fillmode\":\"overlay\",\"size\":10,\"solidity\":0.2}},\"type\":\"histogram\"}],\"histogram2d\":[{\"colorbar\":{\"outlinewidth\":0,\"ticks\":\"\"},\"colorscale\":[[0.0,\"#0d0887\"],[0.1111111111111111,\"#46039f\"],[0.2222222222222222,\"#7201a8\"],[0.3333333333333333,\"#9c179e\"],[0.4444444444444444,\"#bd3786\"],[0.5555555555555556,\"#d8576b\"],[0.6666666666666666,\"#ed7953\"],[0.7777777777777778,\"#fb9f3a\"],[0.8888888888888888,\"#fdca26\"],[1.0,\"#f0f921\"]],\"type\":\"histogram2d\"}],\"histogram2dcontour\":[{\"colorbar\":{\"outlinewidth\":0,\"ticks\":\"\"},\"colorscale\":[[0.0,\"#0d0887\"],[0.1111111111111111,\"#46039f\"],[0.2222222222222222,\"#7201a8\"],[0.3333333333333333,\"#9c179e\"],[0.4444444444444444,\"#bd3786\"],[0.5555555555555556,\"#d8576b\"],[0.6666666666666666,\"#ed7953\"],[0.7777777777777778,\"#fb9f3a\"],[0.8888888888888888,\"#fdca26\"],[1.0,\"#f0f921\"]],\"type\":\"histogram2dcontour\"}],\"mesh3d\":[{\"colorbar\":{\"outlinewidth\":0,\"ticks\":\"\"},\"type\":\"mesh3d\"}],\"parcoords\":[{\"line\":{\"colorbar\":{\"outlinewidth\":0,\"ticks\":\"\"}},\"type\":\"parcoords\"}],\"pie\":[{\"automargin\":true,\"type\":\"pie\"}],\"scatter\":[{\"marker\":{\"colorbar\":{\"outlinewidth\":0,\"ticks\":\"\"}},\"type\":\"scatter\"}],\"scatter3d\":[{\"line\":{\"colorbar\":{\"outlinewidth\":0,\"ticks\":\"\"}},\"marker\":{\"colorbar\":{\"outlinewidth\":0,\"ticks\":\"\"}},\"type\":\"scatter3d\"}],\"scattercarpet\":[{\"marker\":{\"colorbar\":{\"outlinewidth\":0,\"ticks\":\"\"}},\"type\":\"scattercarpet\"}],\"scattergeo\":[{\"marker\":{\"colorbar\":{\"outlinewidth\":0,\"ticks\":\"\"}},\"type\":\"scattergeo\"}],\"scattergl\":[{\"marker\":{\"colorbar\":{\"outlinewidth\":0,\"ticks\":\"\"}},\"type\":\"scattergl\"}],\"scattermapbox\":[{\"marker\":{\"colorbar\":{\"outlinewidth\":0,\"ticks\":\"\"}},\"type\":\"scattermapbox\"}],\"scatterpolar\":[{\"marker\":{\"colorbar\":{\"outlinewidth\":0,\"ticks\":\"\"}},\"type\":\"scatterpolar\"}],\"scatterpolargl\":[{\"marker\":{\"colorbar\":{\"outlinewidth\":0,\"ticks\":\"\"}},\"type\":\"scatterpolargl\"}],\"scatterternary\":[{\"marker\":{\"colorbar\":{\"outlinewidth\":0,\"ticks\":\"\"}},\"type\":\"scatterternary\"}],\"surface\":[{\"colorbar\":{\"outlinewidth\":0,\"ticks\":\"\"},\"colorscale\":[[0.0,\"#0d0887\"],[0.1111111111111111,\"#46039f\"],[0.2222222222222222,\"#7201a8\"],[0.3333333333333333,\"#9c179e\"],[0.4444444444444444,\"#bd3786\"],[0.5555555555555556,\"#d8576b\"],[0.6666666666666666,\"#ed7953\"],[0.7777777777777778,\"#fb9f3a\"],[0.8888888888888888,\"#fdca26\"],[1.0,\"#f0f921\"]],\"type\":\"surface\"}],\"table\":[{\"cells\":{\"fill\":{\"color\":\"#EBF0F8\"},\"line\":{\"color\":\"white\"}},\"header\":{\"fill\":{\"color\":\"#C8D4E3\"},\"line\":{\"color\":\"white\"}},\"type\":\"table\"}]},\"layout\":{\"annotationdefaults\":{\"arrowcolor\":\"#2a3f5f\",\"arrowhead\":0,\"arrowwidth\":1},\"autotypenumbers\":\"strict\",\"coloraxis\":{\"colorbar\":{\"outlinewidth\":0,\"ticks\":\"\"}},\"colorscale\":{\"diverging\":[[0,\"#8e0152\"],[0.1,\"#c51b7d\"],[0.2,\"#de77ae\"],[0.3,\"#f1b6da\"],[0.4,\"#fde0ef\"],[0.5,\"#f7f7f7\"],[0.6,\"#e6f5d0\"],[0.7,\"#b8e186\"],[0.8,\"#7fbc41\"],[0.9,\"#4d9221\"],[1,\"#276419\"]],\"sequential\":[[0.0,\"#0d0887\"],[0.1111111111111111,\"#46039f\"],[0.2222222222222222,\"#7201a8\"],[0.3333333333333333,\"#9c179e\"],[0.4444444444444444,\"#bd3786\"],[0.5555555555555556,\"#d8576b\"],[0.6666666666666666,\"#ed7953\"],[0.7777777777777778,\"#fb9f3a\"],[0.8888888888888888,\"#fdca26\"],[1.0,\"#f0f921\"]],\"sequentialminus\":[[0.0,\"#0d0887\"],[0.1111111111111111,\"#46039f\"],[0.2222222222222222,\"#7201a8\"],[0.3333333333333333,\"#9c179e\"],[0.4444444444444444,\"#bd3786\"],[0.5555555555555556,\"#d8576b\"],[0.6666666666666666,\"#ed7953\"],[0.7777777777777778,\"#fb9f3a\"],[0.8888888888888888,\"#fdca26\"],[1.0,\"#f0f921\"]]},\"colorway\":[\"#636efa\",\"#EF553B\",\"#00cc96\",\"#ab63fa\",\"#FFA15A\",\"#19d3f3\",\"#FF6692\",\"#B6E880\",\"#FF97FF\",\"#FECB52\"],\"font\":{\"color\":\"#2a3f5f\"},\"geo\":{\"bgcolor\":\"white\",\"lakecolor\":\"white\",\"landcolor\":\"#E5ECF6\",\"showlakes\":true,\"showland\":true,\"subunitcolor\":\"white\"},\"hoverlabel\":{\"align\":\"left\"},\"hovermode\":\"closest\",\"mapbox\":{\"style\":\"light\"},\"paper_bgcolor\":\"white\",\"plot_bgcolor\":\"#E5ECF6\",\"polar\":{\"angularaxis\":{\"gridcolor\":\"white\",\"linecolor\":\"white\",\"ticks\":\"\"},\"bgcolor\":\"#E5ECF6\",\"radialaxis\":{\"gridcolor\":\"white\",\"linecolor\":\"white\",\"ticks\":\"\"}},\"scene\":{\"xaxis\":{\"backgroundcolor\":\"#E5ECF6\",\"gridcolor\":\"white\",\"gridwidth\":2,\"linecolor\":\"white\",\"showbackground\":true,\"ticks\":\"\",\"zerolinecolor\":\"white\"},\"yaxis\":{\"backgroundcolor\":\"#E5ECF6\",\"gridcolor\":\"white\",\"gridwidth\":2,\"linecolor\":\"white\",\"showbackground\":true,\"ticks\":\"\",\"zerolinecolor\":\"white\"},\"zaxis\":{\"backgroundcolor\":\"#E5ECF6\",\"gridcolor\":\"white\",\"gridwidth\":2,\"linecolor\":\"white\",\"showbackground\":true,\"ticks\":\"\",\"zerolinecolor\":\"white\"}},\"shapedefaults\":{\"line\":{\"color\":\"#2a3f5f\"}},\"ternary\":{\"aaxis\":{\"gridcolor\":\"white\",\"linecolor\":\"white\",\"ticks\":\"\"},\"baxis\":{\"gridcolor\":\"white\",\"linecolor\":\"white\",\"ticks\":\"\"},\"bgcolor\":\"#E5ECF6\",\"caxis\":{\"gridcolor\":\"white\",\"linecolor\":\"white\",\"ticks\":\"\"}},\"title\":{\"x\":0.05},\"xaxis\":{\"automargin\":true,\"gridcolor\":\"white\",\"linecolor\":\"white\",\"ticks\":\"\",\"title\":{\"standoff\":15},\"zerolinecolor\":\"white\",\"zerolinewidth\":2},\"yaxis\":{\"automargin\":true,\"gridcolor\":\"white\",\"linecolor\":\"white\",\"ticks\":\"\",\"title\":{\"standoff\":15},\"zerolinecolor\":\"white\",\"zerolinewidth\":2}}},\"yaxis\":{\"type\":\"log\"}},                        {\"responsive\": true}                    ).then(function(){\n",
              "                            \n",
              "var gd = document.getElementById('3d907bcc-171b-4fd3-9e7e-0d2bc7e40e38');\n",
              "var x = new MutationObserver(function (mutations, observer) {{\n",
              "        var display = window.getComputedStyle(gd).display;\n",
              "        if (!display || display === 'none') {{\n",
              "            console.log([gd, 'removed!']);\n",
              "            Plotly.purge(gd);\n",
              "            observer.disconnect();\n",
              "        }}\n",
              "}});\n",
              "\n",
              "// Listen for the removal of the full notebook cells\n",
              "var notebookContainer = gd.closest('#notebook-container');\n",
              "if (notebookContainer) {{\n",
              "    x.observe(notebookContainer, {childList: true});\n",
              "}}\n",
              "\n",
              "// Listen for the clearing of the current output cell\n",
              "var outputEl = gd.closest('.output');\n",
              "if (outputEl) {{\n",
              "    x.observe(outputEl, {childList: true});\n",
              "}}\n",
              "\n",
              "                        })                };                            </script>        </div>\n",
              "</body>\n",
              "</html>"
            ]
          },
          "metadata": {}
        }
      ]
    },
    {
      "cell_type": "markdown",
      "source": [
        "Como se puede ver en el gráfico anterior, por lejos la funcion en python nativo es la más lenta de todas. por otro lado se encuentra Numpy que es la degunda más lenta hasta al rededor de 400 en testsize donde se cruza con la curva de python-JIT, donde tienen un desempeño similar siendo python-JIT más lenta. La función más rápida es la función implementada en numpy-JIT. \n",
        "\n",
        "Esto ocurre en primera instancia porque ocupar numpy es más eficiente que python nativo debido a como están construidas las operaciones en la librería, y además al agregar el compilador JIT se reducen los tiempos gracias al compilado, pero se mantiene el orden en que python-JIT es más lento que numpy-JIT."
      ],
      "metadata": {
        "id": "te1TZ2ZWtF3y"
      }
    },
    {
      "cell_type": "markdown",
      "source": [
        "## 1.5 Plot de Resultados de Análisis de Votos [1 Punto]"
      ],
      "metadata": {
        "id": "DljdJw8m0gYC",
        "cell_id": "00030-01881ca2-384a-44f1-bcaf-ad095552aac2",
        "deepnote_cell_type": "markdown",
        "deepnote_cell_height": 70
      }
    },
    {
      "cell_type": "markdown",
      "source": [
        "Llego la hora de visualizar los resultados obtenidos, para esto solo ejecute las siguientes celdas y observe lo que sucede :3. ¿Qué logra observar de los resultados?, ¿La solución resulta trivial?\n",
        "\n",
        "En esta sección esperamos que solo comenten con lo que logran visualizar de los dataframes."
      ],
      "metadata": {
        "id": "cQAxOM5D08Hl",
        "cell_id": "00031-1bfb8e5a-3a40-45f2-8f0f-f94c9264f8e2",
        "deepnote_cell_type": "markdown",
        "deepnote_cell_height": 111.1875
      }
    },
    {
      "cell_type": "code",
      "metadata": {
        "colab": {
          "base_uri": "https://localhost:8080/",
          "height": 746
        },
        "id": "N5E2mNYXaafI",
        "outputId": "e883f5c8-81b5-44e5-8c51-e15deeac73eb",
        "scrolled": true,
        "cell_id": "00032-107c679d-f291-40ec-8854-fd17864ba743",
        "deepnote_cell_type": "code",
        "deepnote_cell_height": 318
      },
      "source": [
        "votos = votes[len(votes) - 1]\n",
        "posteo = post[len(post) - 1]\n",
        "print(\"lower bounds aproximados:\")\n",
        "posterior_mean, std_err = mean_std_np_numba(votos)\n",
        "lb = posterior_mean - std_err\n",
        "print(\"\\nTop 20 post ordenador por el limite inferior:\\n\")\n",
        "order = np.argsort(-lb)\n",
        "vote_post = {\n",
        "    'Votos (+)': votos[order[:20], 0],\n",
        "    'Votos (-)': votos[order[:20], 1],\n",
        "    'Post': np.array(posteo)[order[:20]],\n",
        "    'url': np.array(url[len(url) - 1])[order[:20]]\n",
        "}\n",
        "df = pd.DataFrame(data=vote_post)\n",
        "ordered_post = df.Post\n",
        "df"
      ],
      "execution_count": null,
      "outputs": [
        {
          "output_type": "stream",
          "name": "stdout",
          "text": [
            "lower bounds aproximados:\n",
            "\n",
            "Top 20 post ordenador por el limite inferior:\n",
            "\n"
          ]
        },
        {
          "output_type": "execute_result",
          "data": {
            "text/plain": [
              "    Votos (+)  Votos (-)                                               Post  \\\n",
              "0         237          0  Gobierno queda fuera de querella por asesinato...   \n",
              "1         226          0  Empresa le paga por error sueldo de $ 165 mill...   \n",
              "2         212          0  Macabro hallazgo en San José de Maipo: perro l...   \n",
              "3        1038         10                                             fonasa   \n",
              "4         708          7                                       ahora no po'   \n",
              "5         776          8                                              Bolos   \n",
              "6         694          7              hoy en fotos que envejecieron mal....   \n",
              "7         525          5  la situación de los pudúes en Chiloé es crític...   \n",
              "8         514          5                                        free market   \n",
              "9         431          4                                      Otros tiempos   \n",
              "10        467          5                           Con razón hay tanto taco   \n",
              "11        381          4  Alumna fue apuñalada tras oponerse a continuid...   \n",
              "12        305          3  Hoy falleció la profesora Victoria Castro, una...   \n",
              "13        210          2  Alcalde de Arica advierte alarmante situación ...   \n",
              "14        208          2  Una curiosa nota periodística publicada en Sep...   \n",
              "15        848         17  Encontré una joya ctm. Japoneses del colegio c...   \n",
              "16        846         17                              Los límites del humor   \n",
              "17        756         15  Venezolano en Chile explica las razones por la...   \n",
              "18        825         17                                Salud de otro mundo   \n",
              "19        189          2  Médicos usaban RUT de pacientes Fonasa para si...   \n",
              "\n",
              "                                                  url  \n",
              "0   https://www.eldinamo.cl/pais/Gobierno-queda-fu...  \n",
              "1   https://www.t13.cl/noticia/diario-financiero/n...  \n",
              "2   https://www.biobiochile.cl/noticias/nacional/r...  \n",
              "3                 https://i.redd.it/az7ge5c891691.png  \n",
              "4                 https://i.redd.it/83odxdkaq9791.png  \n",
              "5                 https://i.redd.it/8tx19xd0k2691.jpg  \n",
              "6                 https://i.redd.it/t09uq869jg591.jpg  \n",
              "7               https://www.reddit.com/gallery/vhblmb  \n",
              "8                 https://i.redd.it/rt9a9kp7wt591.png  \n",
              "9                 https://i.redd.it/3dgqvverce791.jpg  \n",
              "10                https://i.redd.it/nf9c4wh63g791.jpg  \n",
              "11  https://m.cooperativa.cl/noticias/pais/region-...  \n",
              "12                https://i.redd.it/rj35h02hko791.jpg  \n",
              "13  https://www.theclinic.cl/2022/06/17/alcalde-ar...  \n",
              "14                https://i.redd.it/bdf8e3tty9791.png  \n",
              "15                    https://v.redd.it/chwx46xj3a691  \n",
              "16                https://i.redd.it/ypmeusphce691.jpg  \n",
              "17                    https://v.redd.it/pfwny8irk8691  \n",
              "18                https://i.redd.it/ugaoerov09691.png  \n",
              "19  https://www.meganoticias.cl/nacional/379981-me...  "
            ],
            "text/html": [
              "\n",
              "  <div id=\"df-a3ee1125-4d0a-4a26-8b77-0497610b8422\">\n",
              "    <div class=\"colab-df-container\">\n",
              "      <div>\n",
              "<style scoped>\n",
              "    .dataframe tbody tr th:only-of-type {\n",
              "        vertical-align: middle;\n",
              "    }\n",
              "\n",
              "    .dataframe tbody tr th {\n",
              "        vertical-align: top;\n",
              "    }\n",
              "\n",
              "    .dataframe thead th {\n",
              "        text-align: right;\n",
              "    }\n",
              "</style>\n",
              "<table border=\"1\" class=\"dataframe\">\n",
              "  <thead>\n",
              "    <tr style=\"text-align: right;\">\n",
              "      <th></th>\n",
              "      <th>Votos (+)</th>\n",
              "      <th>Votos (-)</th>\n",
              "      <th>Post</th>\n",
              "      <th>url</th>\n",
              "    </tr>\n",
              "  </thead>\n",
              "  <tbody>\n",
              "    <tr>\n",
              "      <th>0</th>\n",
              "      <td>237</td>\n",
              "      <td>0</td>\n",
              "      <td>Gobierno queda fuera de querella por asesinato...</td>\n",
              "      <td>https://www.eldinamo.cl/pais/Gobierno-queda-fu...</td>\n",
              "    </tr>\n",
              "    <tr>\n",
              "      <th>1</th>\n",
              "      <td>226</td>\n",
              "      <td>0</td>\n",
              "      <td>Empresa le paga por error sueldo de $ 165 mill...</td>\n",
              "      <td>https://www.t13.cl/noticia/diario-financiero/n...</td>\n",
              "    </tr>\n",
              "    <tr>\n",
              "      <th>2</th>\n",
              "      <td>212</td>\n",
              "      <td>0</td>\n",
              "      <td>Macabro hallazgo en San José de Maipo: perro l...</td>\n",
              "      <td>https://www.biobiochile.cl/noticias/nacional/r...</td>\n",
              "    </tr>\n",
              "    <tr>\n",
              "      <th>3</th>\n",
              "      <td>1038</td>\n",
              "      <td>10</td>\n",
              "      <td>fonasa</td>\n",
              "      <td>https://i.redd.it/az7ge5c891691.png</td>\n",
              "    </tr>\n",
              "    <tr>\n",
              "      <th>4</th>\n",
              "      <td>708</td>\n",
              "      <td>7</td>\n",
              "      <td>ahora no po'</td>\n",
              "      <td>https://i.redd.it/83odxdkaq9791.png</td>\n",
              "    </tr>\n",
              "    <tr>\n",
              "      <th>5</th>\n",
              "      <td>776</td>\n",
              "      <td>8</td>\n",
              "      <td>Bolos</td>\n",
              "      <td>https://i.redd.it/8tx19xd0k2691.jpg</td>\n",
              "    </tr>\n",
              "    <tr>\n",
              "      <th>6</th>\n",
              "      <td>694</td>\n",
              "      <td>7</td>\n",
              "      <td>hoy en fotos que envejecieron mal....</td>\n",
              "      <td>https://i.redd.it/t09uq869jg591.jpg</td>\n",
              "    </tr>\n",
              "    <tr>\n",
              "      <th>7</th>\n",
              "      <td>525</td>\n",
              "      <td>5</td>\n",
              "      <td>la situación de los pudúes en Chiloé es crític...</td>\n",
              "      <td>https://www.reddit.com/gallery/vhblmb</td>\n",
              "    </tr>\n",
              "    <tr>\n",
              "      <th>8</th>\n",
              "      <td>514</td>\n",
              "      <td>5</td>\n",
              "      <td>free market</td>\n",
              "      <td>https://i.redd.it/rt9a9kp7wt591.png</td>\n",
              "    </tr>\n",
              "    <tr>\n",
              "      <th>9</th>\n",
              "      <td>431</td>\n",
              "      <td>4</td>\n",
              "      <td>Otros tiempos</td>\n",
              "      <td>https://i.redd.it/3dgqvverce791.jpg</td>\n",
              "    </tr>\n",
              "    <tr>\n",
              "      <th>10</th>\n",
              "      <td>467</td>\n",
              "      <td>5</td>\n",
              "      <td>Con razón hay tanto taco</td>\n",
              "      <td>https://i.redd.it/nf9c4wh63g791.jpg</td>\n",
              "    </tr>\n",
              "    <tr>\n",
              "      <th>11</th>\n",
              "      <td>381</td>\n",
              "      <td>4</td>\n",
              "      <td>Alumna fue apuñalada tras oponerse a continuid...</td>\n",
              "      <td>https://m.cooperativa.cl/noticias/pais/region-...</td>\n",
              "    </tr>\n",
              "    <tr>\n",
              "      <th>12</th>\n",
              "      <td>305</td>\n",
              "      <td>3</td>\n",
              "      <td>Hoy falleció la profesora Victoria Castro, una...</td>\n",
              "      <td>https://i.redd.it/rj35h02hko791.jpg</td>\n",
              "    </tr>\n",
              "    <tr>\n",
              "      <th>13</th>\n",
              "      <td>210</td>\n",
              "      <td>2</td>\n",
              "      <td>Alcalde de Arica advierte alarmante situación ...</td>\n",
              "      <td>https://www.theclinic.cl/2022/06/17/alcalde-ar...</td>\n",
              "    </tr>\n",
              "    <tr>\n",
              "      <th>14</th>\n",
              "      <td>208</td>\n",
              "      <td>2</td>\n",
              "      <td>Una curiosa nota periodística publicada en Sep...</td>\n",
              "      <td>https://i.redd.it/bdf8e3tty9791.png</td>\n",
              "    </tr>\n",
              "    <tr>\n",
              "      <th>15</th>\n",
              "      <td>848</td>\n",
              "      <td>17</td>\n",
              "      <td>Encontré una joya ctm. Japoneses del colegio c...</td>\n",
              "      <td>https://v.redd.it/chwx46xj3a691</td>\n",
              "    </tr>\n",
              "    <tr>\n",
              "      <th>16</th>\n",
              "      <td>846</td>\n",
              "      <td>17</td>\n",
              "      <td>Los límites del humor</td>\n",
              "      <td>https://i.redd.it/ypmeusphce691.jpg</td>\n",
              "    </tr>\n",
              "    <tr>\n",
              "      <th>17</th>\n",
              "      <td>756</td>\n",
              "      <td>15</td>\n",
              "      <td>Venezolano en Chile explica las razones por la...</td>\n",
              "      <td>https://v.redd.it/pfwny8irk8691</td>\n",
              "    </tr>\n",
              "    <tr>\n",
              "      <th>18</th>\n",
              "      <td>825</td>\n",
              "      <td>17</td>\n",
              "      <td>Salud de otro mundo</td>\n",
              "      <td>https://i.redd.it/ugaoerov09691.png</td>\n",
              "    </tr>\n",
              "    <tr>\n",
              "      <th>19</th>\n",
              "      <td>189</td>\n",
              "      <td>2</td>\n",
              "      <td>Médicos usaban RUT de pacientes Fonasa para si...</td>\n",
              "      <td>https://www.meganoticias.cl/nacional/379981-me...</td>\n",
              "    </tr>\n",
              "  </tbody>\n",
              "</table>\n",
              "</div>\n",
              "      <button class=\"colab-df-convert\" onclick=\"convertToInteractive('df-a3ee1125-4d0a-4a26-8b77-0497610b8422')\"\n",
              "              title=\"Convert this dataframe to an interactive table.\"\n",
              "              style=\"display:none;\">\n",
              "        \n",
              "  <svg xmlns=\"http://www.w3.org/2000/svg\" height=\"24px\"viewBox=\"0 0 24 24\"\n",
              "       width=\"24px\">\n",
              "    <path d=\"M0 0h24v24H0V0z\" fill=\"none\"/>\n",
              "    <path d=\"M18.56 5.44l.94 2.06.94-2.06 2.06-.94-2.06-.94-.94-2.06-.94 2.06-2.06.94zm-11 1L8.5 8.5l.94-2.06 2.06-.94-2.06-.94L8.5 2.5l-.94 2.06-2.06.94zm10 10l.94 2.06.94-2.06 2.06-.94-2.06-.94-.94-2.06-.94 2.06-2.06.94z\"/><path d=\"M17.41 7.96l-1.37-1.37c-.4-.4-.92-.59-1.43-.59-.52 0-1.04.2-1.43.59L10.3 9.45l-7.72 7.72c-.78.78-.78 2.05 0 2.83L4 21.41c.39.39.9.59 1.41.59.51 0 1.02-.2 1.41-.59l7.78-7.78 2.81-2.81c.8-.78.8-2.07 0-2.86zM5.41 20L4 18.59l7.72-7.72 1.47 1.35L5.41 20z\"/>\n",
              "  </svg>\n",
              "      </button>\n",
              "      \n",
              "  <style>\n",
              "    .colab-df-container {\n",
              "      display:flex;\n",
              "      flex-wrap:wrap;\n",
              "      gap: 12px;\n",
              "    }\n",
              "\n",
              "    .colab-df-convert {\n",
              "      background-color: #E8F0FE;\n",
              "      border: none;\n",
              "      border-radius: 50%;\n",
              "      cursor: pointer;\n",
              "      display: none;\n",
              "      fill: #1967D2;\n",
              "      height: 32px;\n",
              "      padding: 0 0 0 0;\n",
              "      width: 32px;\n",
              "    }\n",
              "\n",
              "    .colab-df-convert:hover {\n",
              "      background-color: #E2EBFA;\n",
              "      box-shadow: 0px 1px 2px rgba(60, 64, 67, 0.3), 0px 1px 3px 1px rgba(60, 64, 67, 0.15);\n",
              "      fill: #174EA6;\n",
              "    }\n",
              "\n",
              "    [theme=dark] .colab-df-convert {\n",
              "      background-color: #3B4455;\n",
              "      fill: #D2E3FC;\n",
              "    }\n",
              "\n",
              "    [theme=dark] .colab-df-convert:hover {\n",
              "      background-color: #434B5C;\n",
              "      box-shadow: 0px 1px 3px 1px rgba(0, 0, 0, 0.15);\n",
              "      filter: drop-shadow(0px 1px 2px rgba(0, 0, 0, 0.3));\n",
              "      fill: #FFFFFF;\n",
              "    }\n",
              "  </style>\n",
              "\n",
              "      <script>\n",
              "        const buttonEl =\n",
              "          document.querySelector('#df-a3ee1125-4d0a-4a26-8b77-0497610b8422 button.colab-df-convert');\n",
              "        buttonEl.style.display =\n",
              "          google.colab.kernel.accessAllowed ? 'block' : 'none';\n",
              "\n",
              "        async function convertToInteractive(key) {\n",
              "          const element = document.querySelector('#df-a3ee1125-4d0a-4a26-8b77-0497610b8422');\n",
              "          const dataTable =\n",
              "            await google.colab.kernel.invokeFunction('convertToInteractive',\n",
              "                                                     [key], {});\n",
              "          if (!dataTable) return;\n",
              "\n",
              "          const docLinkHtml = 'Like what you see? Visit the ' +\n",
              "            '<a target=\"_blank\" href=https://colab.research.google.com/notebooks/data_table.ipynb>data table notebook</a>'\n",
              "            + ' to learn more about interactive tables.';\n",
              "          element.innerHTML = '';\n",
              "          dataTable['output_type'] = 'display_data';\n",
              "          await google.colab.output.renderOutput(dataTable, element);\n",
              "          const docLink = document.createElement('div');\n",
              "          docLink.innerHTML = docLinkHtml;\n",
              "          element.appendChild(docLink);\n",
              "        }\n",
              "      </script>\n",
              "    </div>\n",
              "  </div>\n",
              "  "
            ]
          },
          "metadata": {},
          "execution_count": 113
        }
      ]
    },
    {
      "cell_type": "code",
      "source": [
        "df['sum_votos'] = df['Votos (+)']+df['Votos (-)']\n",
        "df['rating+'] = (df['Votos (+)']/df['sum_votos']).round(2)\n",
        "df['rating-'] = (df['Votos (-)']/df['sum_votos']).round(2)\n",
        "df"
      ],
      "metadata": {
        "colab": {
          "base_uri": "https://localhost:8080/",
          "height": 677
        },
        "id": "q2_Mps38eK4s",
        "outputId": "1ba4e020-107a-42ba-9dd8-898d583b4a1e"
      },
      "execution_count": null,
      "outputs": [
        {
          "output_type": "execute_result",
          "data": {
            "text/plain": [
              "    Votos (+)  Votos (-)                                               Post  \\\n",
              "0         237          0  Gobierno queda fuera de querella por asesinato...   \n",
              "1         226          0  Empresa le paga por error sueldo de $ 165 mill...   \n",
              "2         212          0  Macabro hallazgo en San José de Maipo: perro l...   \n",
              "3        1038         10                                             fonasa   \n",
              "4         708          7                                       ahora no po'   \n",
              "5         776          8                                              Bolos   \n",
              "6         694          7              hoy en fotos que envejecieron mal....   \n",
              "7         525          5  la situación de los pudúes en Chiloé es crític...   \n",
              "8         514          5                                        free market   \n",
              "9         431          4                                      Otros tiempos   \n",
              "10        467          5                           Con razón hay tanto taco   \n",
              "11        381          4  Alumna fue apuñalada tras oponerse a continuid...   \n",
              "12        305          3  Hoy falleció la profesora Victoria Castro, una...   \n",
              "13        210          2  Alcalde de Arica advierte alarmante situación ...   \n",
              "14        208          2  Una curiosa nota periodística publicada en Sep...   \n",
              "15        848         17  Encontré una joya ctm. Japoneses del colegio c...   \n",
              "16        846         17                              Los límites del humor   \n",
              "17        756         15  Venezolano en Chile explica las razones por la...   \n",
              "18        825         17                                Salud de otro mundo   \n",
              "19        189          2  Médicos usaban RUT de pacientes Fonasa para si...   \n",
              "\n",
              "                                                  url  sum_votos  rating+  \\\n",
              "0   https://www.eldinamo.cl/pais/Gobierno-queda-fu...        237     1.00   \n",
              "1   https://www.t13.cl/noticia/diario-financiero/n...        226     1.00   \n",
              "2   https://www.biobiochile.cl/noticias/nacional/r...        212     1.00   \n",
              "3                 https://i.redd.it/az7ge5c891691.png       1048     0.99   \n",
              "4                 https://i.redd.it/83odxdkaq9791.png        715     0.99   \n",
              "5                 https://i.redd.it/8tx19xd0k2691.jpg        784     0.99   \n",
              "6                 https://i.redd.it/t09uq869jg591.jpg        701     0.99   \n",
              "7               https://www.reddit.com/gallery/vhblmb        530     0.99   \n",
              "8                 https://i.redd.it/rt9a9kp7wt591.png        519     0.99   \n",
              "9                 https://i.redd.it/3dgqvverce791.jpg        435     0.99   \n",
              "10                https://i.redd.it/nf9c4wh63g791.jpg        472     0.99   \n",
              "11  https://m.cooperativa.cl/noticias/pais/region-...        385     0.99   \n",
              "12                https://i.redd.it/rj35h02hko791.jpg        308     0.99   \n",
              "13  https://www.theclinic.cl/2022/06/17/alcalde-ar...        212     0.99   \n",
              "14                https://i.redd.it/bdf8e3tty9791.png        210     0.99   \n",
              "15                    https://v.redd.it/chwx46xj3a691        865     0.98   \n",
              "16                https://i.redd.it/ypmeusphce691.jpg        863     0.98   \n",
              "17                    https://v.redd.it/pfwny8irk8691        771     0.98   \n",
              "18                https://i.redd.it/ugaoerov09691.png        842     0.98   \n",
              "19  https://www.meganoticias.cl/nacional/379981-me...        191     0.99   \n",
              "\n",
              "    rating-  \n",
              "0      0.00  \n",
              "1      0.00  \n",
              "2      0.00  \n",
              "3      0.01  \n",
              "4      0.01  \n",
              "5      0.01  \n",
              "6      0.01  \n",
              "7      0.01  \n",
              "8      0.01  \n",
              "9      0.01  \n",
              "10     0.01  \n",
              "11     0.01  \n",
              "12     0.01  \n",
              "13     0.01  \n",
              "14     0.01  \n",
              "15     0.02  \n",
              "16     0.02  \n",
              "17     0.02  \n",
              "18     0.02  \n",
              "19     0.01  "
            ],
            "text/html": [
              "\n",
              "  <div id=\"df-dbaf11cf-675c-4203-bf43-b16bd4a02111\">\n",
              "    <div class=\"colab-df-container\">\n",
              "      <div>\n",
              "<style scoped>\n",
              "    .dataframe tbody tr th:only-of-type {\n",
              "        vertical-align: middle;\n",
              "    }\n",
              "\n",
              "    .dataframe tbody tr th {\n",
              "        vertical-align: top;\n",
              "    }\n",
              "\n",
              "    .dataframe thead th {\n",
              "        text-align: right;\n",
              "    }\n",
              "</style>\n",
              "<table border=\"1\" class=\"dataframe\">\n",
              "  <thead>\n",
              "    <tr style=\"text-align: right;\">\n",
              "      <th></th>\n",
              "      <th>Votos (+)</th>\n",
              "      <th>Votos (-)</th>\n",
              "      <th>Post</th>\n",
              "      <th>url</th>\n",
              "      <th>sum_votos</th>\n",
              "      <th>rating+</th>\n",
              "      <th>rating-</th>\n",
              "    </tr>\n",
              "  </thead>\n",
              "  <tbody>\n",
              "    <tr>\n",
              "      <th>0</th>\n",
              "      <td>237</td>\n",
              "      <td>0</td>\n",
              "      <td>Gobierno queda fuera de querella por asesinato...</td>\n",
              "      <td>https://www.eldinamo.cl/pais/Gobierno-queda-fu...</td>\n",
              "      <td>237</td>\n",
              "      <td>1.00</td>\n",
              "      <td>0.00</td>\n",
              "    </tr>\n",
              "    <tr>\n",
              "      <th>1</th>\n",
              "      <td>226</td>\n",
              "      <td>0</td>\n",
              "      <td>Empresa le paga por error sueldo de $ 165 mill...</td>\n",
              "      <td>https://www.t13.cl/noticia/diario-financiero/n...</td>\n",
              "      <td>226</td>\n",
              "      <td>1.00</td>\n",
              "      <td>0.00</td>\n",
              "    </tr>\n",
              "    <tr>\n",
              "      <th>2</th>\n",
              "      <td>212</td>\n",
              "      <td>0</td>\n",
              "      <td>Macabro hallazgo en San José de Maipo: perro l...</td>\n",
              "      <td>https://www.biobiochile.cl/noticias/nacional/r...</td>\n",
              "      <td>212</td>\n",
              "      <td>1.00</td>\n",
              "      <td>0.00</td>\n",
              "    </tr>\n",
              "    <tr>\n",
              "      <th>3</th>\n",
              "      <td>1038</td>\n",
              "      <td>10</td>\n",
              "      <td>fonasa</td>\n",
              "      <td>https://i.redd.it/az7ge5c891691.png</td>\n",
              "      <td>1048</td>\n",
              "      <td>0.99</td>\n",
              "      <td>0.01</td>\n",
              "    </tr>\n",
              "    <tr>\n",
              "      <th>4</th>\n",
              "      <td>708</td>\n",
              "      <td>7</td>\n",
              "      <td>ahora no po'</td>\n",
              "      <td>https://i.redd.it/83odxdkaq9791.png</td>\n",
              "      <td>715</td>\n",
              "      <td>0.99</td>\n",
              "      <td>0.01</td>\n",
              "    </tr>\n",
              "    <tr>\n",
              "      <th>5</th>\n",
              "      <td>776</td>\n",
              "      <td>8</td>\n",
              "      <td>Bolos</td>\n",
              "      <td>https://i.redd.it/8tx19xd0k2691.jpg</td>\n",
              "      <td>784</td>\n",
              "      <td>0.99</td>\n",
              "      <td>0.01</td>\n",
              "    </tr>\n",
              "    <tr>\n",
              "      <th>6</th>\n",
              "      <td>694</td>\n",
              "      <td>7</td>\n",
              "      <td>hoy en fotos que envejecieron mal....</td>\n",
              "      <td>https://i.redd.it/t09uq869jg591.jpg</td>\n",
              "      <td>701</td>\n",
              "      <td>0.99</td>\n",
              "      <td>0.01</td>\n",
              "    </tr>\n",
              "    <tr>\n",
              "      <th>7</th>\n",
              "      <td>525</td>\n",
              "      <td>5</td>\n",
              "      <td>la situación de los pudúes en Chiloé es crític...</td>\n",
              "      <td>https://www.reddit.com/gallery/vhblmb</td>\n",
              "      <td>530</td>\n",
              "      <td>0.99</td>\n",
              "      <td>0.01</td>\n",
              "    </tr>\n",
              "    <tr>\n",
              "      <th>8</th>\n",
              "      <td>514</td>\n",
              "      <td>5</td>\n",
              "      <td>free market</td>\n",
              "      <td>https://i.redd.it/rt9a9kp7wt591.png</td>\n",
              "      <td>519</td>\n",
              "      <td>0.99</td>\n",
              "      <td>0.01</td>\n",
              "    </tr>\n",
              "    <tr>\n",
              "      <th>9</th>\n",
              "      <td>431</td>\n",
              "      <td>4</td>\n",
              "      <td>Otros tiempos</td>\n",
              "      <td>https://i.redd.it/3dgqvverce791.jpg</td>\n",
              "      <td>435</td>\n",
              "      <td>0.99</td>\n",
              "      <td>0.01</td>\n",
              "    </tr>\n",
              "    <tr>\n",
              "      <th>10</th>\n",
              "      <td>467</td>\n",
              "      <td>5</td>\n",
              "      <td>Con razón hay tanto taco</td>\n",
              "      <td>https://i.redd.it/nf9c4wh63g791.jpg</td>\n",
              "      <td>472</td>\n",
              "      <td>0.99</td>\n",
              "      <td>0.01</td>\n",
              "    </tr>\n",
              "    <tr>\n",
              "      <th>11</th>\n",
              "      <td>381</td>\n",
              "      <td>4</td>\n",
              "      <td>Alumna fue apuñalada tras oponerse a continuid...</td>\n",
              "      <td>https://m.cooperativa.cl/noticias/pais/region-...</td>\n",
              "      <td>385</td>\n",
              "      <td>0.99</td>\n",
              "      <td>0.01</td>\n",
              "    </tr>\n",
              "    <tr>\n",
              "      <th>12</th>\n",
              "      <td>305</td>\n",
              "      <td>3</td>\n",
              "      <td>Hoy falleció la profesora Victoria Castro, una...</td>\n",
              "      <td>https://i.redd.it/rj35h02hko791.jpg</td>\n",
              "      <td>308</td>\n",
              "      <td>0.99</td>\n",
              "      <td>0.01</td>\n",
              "    </tr>\n",
              "    <tr>\n",
              "      <th>13</th>\n",
              "      <td>210</td>\n",
              "      <td>2</td>\n",
              "      <td>Alcalde de Arica advierte alarmante situación ...</td>\n",
              "      <td>https://www.theclinic.cl/2022/06/17/alcalde-ar...</td>\n",
              "      <td>212</td>\n",
              "      <td>0.99</td>\n",
              "      <td>0.01</td>\n",
              "    </tr>\n",
              "    <tr>\n",
              "      <th>14</th>\n",
              "      <td>208</td>\n",
              "      <td>2</td>\n",
              "      <td>Una curiosa nota periodística publicada en Sep...</td>\n",
              "      <td>https://i.redd.it/bdf8e3tty9791.png</td>\n",
              "      <td>210</td>\n",
              "      <td>0.99</td>\n",
              "      <td>0.01</td>\n",
              "    </tr>\n",
              "    <tr>\n",
              "      <th>15</th>\n",
              "      <td>848</td>\n",
              "      <td>17</td>\n",
              "      <td>Encontré una joya ctm. Japoneses del colegio c...</td>\n",
              "      <td>https://v.redd.it/chwx46xj3a691</td>\n",
              "      <td>865</td>\n",
              "      <td>0.98</td>\n",
              "      <td>0.02</td>\n",
              "    </tr>\n",
              "    <tr>\n",
              "      <th>16</th>\n",
              "      <td>846</td>\n",
              "      <td>17</td>\n",
              "      <td>Los límites del humor</td>\n",
              "      <td>https://i.redd.it/ypmeusphce691.jpg</td>\n",
              "      <td>863</td>\n",
              "      <td>0.98</td>\n",
              "      <td>0.02</td>\n",
              "    </tr>\n",
              "    <tr>\n",
              "      <th>17</th>\n",
              "      <td>756</td>\n",
              "      <td>15</td>\n",
              "      <td>Venezolano en Chile explica las razones por la...</td>\n",
              "      <td>https://v.redd.it/pfwny8irk8691</td>\n",
              "      <td>771</td>\n",
              "      <td>0.98</td>\n",
              "      <td>0.02</td>\n",
              "    </tr>\n",
              "    <tr>\n",
              "      <th>18</th>\n",
              "      <td>825</td>\n",
              "      <td>17</td>\n",
              "      <td>Salud de otro mundo</td>\n",
              "      <td>https://i.redd.it/ugaoerov09691.png</td>\n",
              "      <td>842</td>\n",
              "      <td>0.98</td>\n",
              "      <td>0.02</td>\n",
              "    </tr>\n",
              "    <tr>\n",
              "      <th>19</th>\n",
              "      <td>189</td>\n",
              "      <td>2</td>\n",
              "      <td>Médicos usaban RUT de pacientes Fonasa para si...</td>\n",
              "      <td>https://www.meganoticias.cl/nacional/379981-me...</td>\n",
              "      <td>191</td>\n",
              "      <td>0.99</td>\n",
              "      <td>0.01</td>\n",
              "    </tr>\n",
              "  </tbody>\n",
              "</table>\n",
              "</div>\n",
              "      <button class=\"colab-df-convert\" onclick=\"convertToInteractive('df-dbaf11cf-675c-4203-bf43-b16bd4a02111')\"\n",
              "              title=\"Convert this dataframe to an interactive table.\"\n",
              "              style=\"display:none;\">\n",
              "        \n",
              "  <svg xmlns=\"http://www.w3.org/2000/svg\" height=\"24px\"viewBox=\"0 0 24 24\"\n",
              "       width=\"24px\">\n",
              "    <path d=\"M0 0h24v24H0V0z\" fill=\"none\"/>\n",
              "    <path d=\"M18.56 5.44l.94 2.06.94-2.06 2.06-.94-2.06-.94-.94-2.06-.94 2.06-2.06.94zm-11 1L8.5 8.5l.94-2.06 2.06-.94-2.06-.94L8.5 2.5l-.94 2.06-2.06.94zm10 10l.94 2.06.94-2.06 2.06-.94-2.06-.94-.94-2.06-.94 2.06-2.06.94z\"/><path d=\"M17.41 7.96l-1.37-1.37c-.4-.4-.92-.59-1.43-.59-.52 0-1.04.2-1.43.59L10.3 9.45l-7.72 7.72c-.78.78-.78 2.05 0 2.83L4 21.41c.39.39.9.59 1.41.59.51 0 1.02-.2 1.41-.59l7.78-7.78 2.81-2.81c.8-.78.8-2.07 0-2.86zM5.41 20L4 18.59l7.72-7.72 1.47 1.35L5.41 20z\"/>\n",
              "  </svg>\n",
              "      </button>\n",
              "      \n",
              "  <style>\n",
              "    .colab-df-container {\n",
              "      display:flex;\n",
              "      flex-wrap:wrap;\n",
              "      gap: 12px;\n",
              "    }\n",
              "\n",
              "    .colab-df-convert {\n",
              "      background-color: #E8F0FE;\n",
              "      border: none;\n",
              "      border-radius: 50%;\n",
              "      cursor: pointer;\n",
              "      display: none;\n",
              "      fill: #1967D2;\n",
              "      height: 32px;\n",
              "      padding: 0 0 0 0;\n",
              "      width: 32px;\n",
              "    }\n",
              "\n",
              "    .colab-df-convert:hover {\n",
              "      background-color: #E2EBFA;\n",
              "      box-shadow: 0px 1px 2px rgba(60, 64, 67, 0.3), 0px 1px 3px 1px rgba(60, 64, 67, 0.15);\n",
              "      fill: #174EA6;\n",
              "    }\n",
              "\n",
              "    [theme=dark] .colab-df-convert {\n",
              "      background-color: #3B4455;\n",
              "      fill: #D2E3FC;\n",
              "    }\n",
              "\n",
              "    [theme=dark] .colab-df-convert:hover {\n",
              "      background-color: #434B5C;\n",
              "      box-shadow: 0px 1px 3px 1px rgba(0, 0, 0, 0.15);\n",
              "      filter: drop-shadow(0px 1px 2px rgba(0, 0, 0, 0.3));\n",
              "      fill: #FFFFFF;\n",
              "    }\n",
              "  </style>\n",
              "\n",
              "      <script>\n",
              "        const buttonEl =\n",
              "          document.querySelector('#df-dbaf11cf-675c-4203-bf43-b16bd4a02111 button.colab-df-convert');\n",
              "        buttonEl.style.display =\n",
              "          google.colab.kernel.accessAllowed ? 'block' : 'none';\n",
              "\n",
              "        async function convertToInteractive(key) {\n",
              "          const element = document.querySelector('#df-dbaf11cf-675c-4203-bf43-b16bd4a02111');\n",
              "          const dataTable =\n",
              "            await google.colab.kernel.invokeFunction('convertToInteractive',\n",
              "                                                     [key], {});\n",
              "          if (!dataTable) return;\n",
              "\n",
              "          const docLinkHtml = 'Like what you see? Visit the ' +\n",
              "            '<a target=\"_blank\" href=https://colab.research.google.com/notebooks/data_table.ipynb>data table notebook</a>'\n",
              "            + ' to learn more about interactive tables.';\n",
              "          element.innerHTML = '';\n",
              "          dataTable['output_type'] = 'display_data';\n",
              "          await google.colab.output.renderOutput(dataTable, element);\n",
              "          const docLink = document.createElement('div');\n",
              "          docLink.innerHTML = docLinkHtml;\n",
              "          element.appendChild(docLink);\n",
              "        }\n",
              "      </script>\n",
              "    </div>\n",
              "  </div>\n",
              "  "
            ]
          },
          "metadata": {},
          "execution_count": 114
        }
      ]
    },
    {
      "cell_type": "code",
      "source": [
        "r_order = order[::-1][-20:]\n",
        "data_dic = {\n",
        "    'mean': posterior_mean[r_order],\n",
        "    'std_err': std_err[r_order],\n",
        "    'post': ordered_post[::-1]\n",
        "}\n",
        "df = pd.DataFrame(data=data_dic)\n",
        "fig = px.scatter(df, x=\"mean\", y=\"post\", error_x=\"std_err\")\n",
        "fig.show()"
      ],
      "metadata": {
        "cell_id": "2a0efceb16224059bb6aca51848d260f",
        "tags": [],
        "deepnote_cell_type": "code",
        "deepnote_cell_height": 210,
        "colab": {
          "base_uri": "https://localhost:8080/",
          "height": 542
        },
        "id": "4JnB4U5bqoRD",
        "outputId": "38c2d57f-5ee7-4f9a-a1fc-1ab7d859ec85"
      },
      "outputs": [
        {
          "output_type": "display_data",
          "data": {
            "text/html": [
              "<html>\n",
              "<head><meta charset=\"utf-8\" /></head>\n",
              "<body>\n",
              "    <div>            <script src=\"https://cdnjs.cloudflare.com/ajax/libs/mathjax/2.7.5/MathJax.js?config=TeX-AMS-MML_SVG\"></script><script type=\"text/javascript\">if (window.MathJax) {MathJax.Hub.Config({SVG: {font: \"STIX-Web\"}});}</script>                <script type=\"text/javascript\">window.PlotlyConfig = {MathJaxConfig: 'local'};</script>\n",
              "        <script src=\"https://cdn.plot.ly/plotly-2.8.3.min.js\"></script>                <div id=\"01774738-5f64-49e9-b1b0-167acef4f132\" class=\"plotly-graph-div\" style=\"height:525px; width:100%;\"></div>            <script type=\"text/javascript\">                                    window.PLOTLYENV=window.PLOTLYENV || {};                                    if (document.getElementById(\"01774738-5f64-49e9-b1b0-167acef4f132\")) {                    Plotly.newPlot(                        \"01774738-5f64-49e9-b1b0-167acef4f132\",                        [{\"error_x\":{\"array\":[0.014654236563403896,0.00820048274868884,0.008443877050892171,0.008003627144218919,0.007985370698021637,0.013353405950490402,0.013229785288819938,0.010559242522293882,0.009459622378619404,0.008463643255327984,0.0083847926555564,0.0077053116533175306,0.007547049607727679,0.006595985396009797,0.006257571146833218,0.006468009922967525,0.005181999938403963,0.0076743348150134245,0.007205170871859832,0.0068749398204680425]},\"hovertemplate\":\"mean=%{x}<br>post=%{y}<extra></extra>\",\"legendgroup\":\"\",\"marker\":{\"color\":\"#636efa\",\"symbol\":\"circle\"},\"mode\":\"markers\",\"name\":\"\",\"orientation\":\"h\",\"showlegend\":false,\"x\":[0.9844559585492227,0.9786729857819905,0.9793014230271668,0.9791907514450867,0.9792387543252595,0.9858490566037735,0.985981308411215,0.9870967741935484,0.9870801033591732,0.9873417721518988,0.988558352402746,0.9884836852207294,0.9887218045112782,0.9886201991465149,0.9885496183206107,0.9888423988842399,0.9895238095238095,0.9953271028037384,0.9956140350877193,0.99581589958159],\"xaxis\":\"x\",\"y\":[\"M\\u00e9dicos usaban RUT de pacientes Fonasa para simular atenciones que nunca sucedieron: as\\u00ed se gest\\u00f3 el millonario fraude\",\"Salud de otro mundo\",\"Venezolano en Chile explica las razones por las que volver\\u00eda a Per\\u00fa: No puede sobornar a Carabineros.\",\"Los l\\u00edmites del humor\",\"Encontr\\u00e9 una joya ctm. Japoneses del colegio cantando el himno nacional.\",\"Una curiosa nota period\\u00edstica publicada en Septiembre de 1940 que me encontr\\u00e9.\",\"Alcalde de Arica advierte alarmante situaci\\u00f3n por cr\\u00edmenes de \\\"Tren de Aragua\\\" en la zona: \\\"Es como estar en un cap\\u00edtulo de Breaking Bad\\\"\",\"Hoy falleci\\u00f3 la profesora Victoria Castro, una de las impulsoras de la arqueolog\\u00eda chilena y formadora de varias generaciones de arque\\u00f3los. Gran mujer.\",\"Alumna fue apu\\u00f1alada tras oponerse a continuidad de toma en liceo de Concepci\\u00f3n\",\"Con raz\\u00f3n hay tanto taco\",\"Otros tiempos\",\"free market\",\"la situaci\\u00f3n de los pud\\u00faes en Chilo\\u00e9 es cr\\u00edtica. @chiloesilvestre\",\"hoy en fotos que envejecieron mal....\",\"Bolos\",\"ahora no po'\",\"fonasa\",\"Macabro hallazgo en San Jos\\u00e9 de Maipo: perro lleg\\u00f3 a su casa con una cabeza humana | Nacional | BioBioChile\",\"Empresa le paga por error sueldo de $ 165 millones a trabajador, \\u00e9ste desaparece... y luego renuncia\",\"Gobierno queda fuera de querella por asesinato de carabinero: abogado se qued\\u00f3 dormido\"],\"yaxis\":\"y\",\"type\":\"scatter\"}],                        {\"template\":{\"data\":{\"bar\":[{\"error_x\":{\"color\":\"#2a3f5f\"},\"error_y\":{\"color\":\"#2a3f5f\"},\"marker\":{\"line\":{\"color\":\"#E5ECF6\",\"width\":0.5},\"pattern\":{\"fillmode\":\"overlay\",\"size\":10,\"solidity\":0.2}},\"type\":\"bar\"}],\"barpolar\":[{\"marker\":{\"line\":{\"color\":\"#E5ECF6\",\"width\":0.5},\"pattern\":{\"fillmode\":\"overlay\",\"size\":10,\"solidity\":0.2}},\"type\":\"barpolar\"}],\"carpet\":[{\"aaxis\":{\"endlinecolor\":\"#2a3f5f\",\"gridcolor\":\"white\",\"linecolor\":\"white\",\"minorgridcolor\":\"white\",\"startlinecolor\":\"#2a3f5f\"},\"baxis\":{\"endlinecolor\":\"#2a3f5f\",\"gridcolor\":\"white\",\"linecolor\":\"white\",\"minorgridcolor\":\"white\",\"startlinecolor\":\"#2a3f5f\"},\"type\":\"carpet\"}],\"choropleth\":[{\"colorbar\":{\"outlinewidth\":0,\"ticks\":\"\"},\"type\":\"choropleth\"}],\"contour\":[{\"colorbar\":{\"outlinewidth\":0,\"ticks\":\"\"},\"colorscale\":[[0.0,\"#0d0887\"],[0.1111111111111111,\"#46039f\"],[0.2222222222222222,\"#7201a8\"],[0.3333333333333333,\"#9c179e\"],[0.4444444444444444,\"#bd3786\"],[0.5555555555555556,\"#d8576b\"],[0.6666666666666666,\"#ed7953\"],[0.7777777777777778,\"#fb9f3a\"],[0.8888888888888888,\"#fdca26\"],[1.0,\"#f0f921\"]],\"type\":\"contour\"}],\"contourcarpet\":[{\"colorbar\":{\"outlinewidth\":0,\"ticks\":\"\"},\"type\":\"contourcarpet\"}],\"heatmap\":[{\"colorbar\":{\"outlinewidth\":0,\"ticks\":\"\"},\"colorscale\":[[0.0,\"#0d0887\"],[0.1111111111111111,\"#46039f\"],[0.2222222222222222,\"#7201a8\"],[0.3333333333333333,\"#9c179e\"],[0.4444444444444444,\"#bd3786\"],[0.5555555555555556,\"#d8576b\"],[0.6666666666666666,\"#ed7953\"],[0.7777777777777778,\"#fb9f3a\"],[0.8888888888888888,\"#fdca26\"],[1.0,\"#f0f921\"]],\"type\":\"heatmap\"}],\"heatmapgl\":[{\"colorbar\":{\"outlinewidth\":0,\"ticks\":\"\"},\"colorscale\":[[0.0,\"#0d0887\"],[0.1111111111111111,\"#46039f\"],[0.2222222222222222,\"#7201a8\"],[0.3333333333333333,\"#9c179e\"],[0.4444444444444444,\"#bd3786\"],[0.5555555555555556,\"#d8576b\"],[0.6666666666666666,\"#ed7953\"],[0.7777777777777778,\"#fb9f3a\"],[0.8888888888888888,\"#fdca26\"],[1.0,\"#f0f921\"]],\"type\":\"heatmapgl\"}],\"histogram\":[{\"marker\":{\"pattern\":{\"fillmode\":\"overlay\",\"size\":10,\"solidity\":0.2}},\"type\":\"histogram\"}],\"histogram2d\":[{\"colorbar\":{\"outlinewidth\":0,\"ticks\":\"\"},\"colorscale\":[[0.0,\"#0d0887\"],[0.1111111111111111,\"#46039f\"],[0.2222222222222222,\"#7201a8\"],[0.3333333333333333,\"#9c179e\"],[0.4444444444444444,\"#bd3786\"],[0.5555555555555556,\"#d8576b\"],[0.6666666666666666,\"#ed7953\"],[0.7777777777777778,\"#fb9f3a\"],[0.8888888888888888,\"#fdca26\"],[1.0,\"#f0f921\"]],\"type\":\"histogram2d\"}],\"histogram2dcontour\":[{\"colorbar\":{\"outlinewidth\":0,\"ticks\":\"\"},\"colorscale\":[[0.0,\"#0d0887\"],[0.1111111111111111,\"#46039f\"],[0.2222222222222222,\"#7201a8\"],[0.3333333333333333,\"#9c179e\"],[0.4444444444444444,\"#bd3786\"],[0.5555555555555556,\"#d8576b\"],[0.6666666666666666,\"#ed7953\"],[0.7777777777777778,\"#fb9f3a\"],[0.8888888888888888,\"#fdca26\"],[1.0,\"#f0f921\"]],\"type\":\"histogram2dcontour\"}],\"mesh3d\":[{\"colorbar\":{\"outlinewidth\":0,\"ticks\":\"\"},\"type\":\"mesh3d\"}],\"parcoords\":[{\"line\":{\"colorbar\":{\"outlinewidth\":0,\"ticks\":\"\"}},\"type\":\"parcoords\"}],\"pie\":[{\"automargin\":true,\"type\":\"pie\"}],\"scatter\":[{\"marker\":{\"colorbar\":{\"outlinewidth\":0,\"ticks\":\"\"}},\"type\":\"scatter\"}],\"scatter3d\":[{\"line\":{\"colorbar\":{\"outlinewidth\":0,\"ticks\":\"\"}},\"marker\":{\"colorbar\":{\"outlinewidth\":0,\"ticks\":\"\"}},\"type\":\"scatter3d\"}],\"scattercarpet\":[{\"marker\":{\"colorbar\":{\"outlinewidth\":0,\"ticks\":\"\"}},\"type\":\"scattercarpet\"}],\"scattergeo\":[{\"marker\":{\"colorbar\":{\"outlinewidth\":0,\"ticks\":\"\"}},\"type\":\"scattergeo\"}],\"scattergl\":[{\"marker\":{\"colorbar\":{\"outlinewidth\":0,\"ticks\":\"\"}},\"type\":\"scattergl\"}],\"scattermapbox\":[{\"marker\":{\"colorbar\":{\"outlinewidth\":0,\"ticks\":\"\"}},\"type\":\"scattermapbox\"}],\"scatterpolar\":[{\"marker\":{\"colorbar\":{\"outlinewidth\":0,\"ticks\":\"\"}},\"type\":\"scatterpolar\"}],\"scatterpolargl\":[{\"marker\":{\"colorbar\":{\"outlinewidth\":0,\"ticks\":\"\"}},\"type\":\"scatterpolargl\"}],\"scatterternary\":[{\"marker\":{\"colorbar\":{\"outlinewidth\":0,\"ticks\":\"\"}},\"type\":\"scatterternary\"}],\"surface\":[{\"colorbar\":{\"outlinewidth\":0,\"ticks\":\"\"},\"colorscale\":[[0.0,\"#0d0887\"],[0.1111111111111111,\"#46039f\"],[0.2222222222222222,\"#7201a8\"],[0.3333333333333333,\"#9c179e\"],[0.4444444444444444,\"#bd3786\"],[0.5555555555555556,\"#d8576b\"],[0.6666666666666666,\"#ed7953\"],[0.7777777777777778,\"#fb9f3a\"],[0.8888888888888888,\"#fdca26\"],[1.0,\"#f0f921\"]],\"type\":\"surface\"}],\"table\":[{\"cells\":{\"fill\":{\"color\":\"#EBF0F8\"},\"line\":{\"color\":\"white\"}},\"header\":{\"fill\":{\"color\":\"#C8D4E3\"},\"line\":{\"color\":\"white\"}},\"type\":\"table\"}]},\"layout\":{\"annotationdefaults\":{\"arrowcolor\":\"#2a3f5f\",\"arrowhead\":0,\"arrowwidth\":1},\"autotypenumbers\":\"strict\",\"coloraxis\":{\"colorbar\":{\"outlinewidth\":0,\"ticks\":\"\"}},\"colorscale\":{\"diverging\":[[0,\"#8e0152\"],[0.1,\"#c51b7d\"],[0.2,\"#de77ae\"],[0.3,\"#f1b6da\"],[0.4,\"#fde0ef\"],[0.5,\"#f7f7f7\"],[0.6,\"#e6f5d0\"],[0.7,\"#b8e186\"],[0.8,\"#7fbc41\"],[0.9,\"#4d9221\"],[1,\"#276419\"]],\"sequential\":[[0.0,\"#0d0887\"],[0.1111111111111111,\"#46039f\"],[0.2222222222222222,\"#7201a8\"],[0.3333333333333333,\"#9c179e\"],[0.4444444444444444,\"#bd3786\"],[0.5555555555555556,\"#d8576b\"],[0.6666666666666666,\"#ed7953\"],[0.7777777777777778,\"#fb9f3a\"],[0.8888888888888888,\"#fdca26\"],[1.0,\"#f0f921\"]],\"sequentialminus\":[[0.0,\"#0d0887\"],[0.1111111111111111,\"#46039f\"],[0.2222222222222222,\"#7201a8\"],[0.3333333333333333,\"#9c179e\"],[0.4444444444444444,\"#bd3786\"],[0.5555555555555556,\"#d8576b\"],[0.6666666666666666,\"#ed7953\"],[0.7777777777777778,\"#fb9f3a\"],[0.8888888888888888,\"#fdca26\"],[1.0,\"#f0f921\"]]},\"colorway\":[\"#636efa\",\"#EF553B\",\"#00cc96\",\"#ab63fa\",\"#FFA15A\",\"#19d3f3\",\"#FF6692\",\"#B6E880\",\"#FF97FF\",\"#FECB52\"],\"font\":{\"color\":\"#2a3f5f\"},\"geo\":{\"bgcolor\":\"white\",\"lakecolor\":\"white\",\"landcolor\":\"#E5ECF6\",\"showlakes\":true,\"showland\":true,\"subunitcolor\":\"white\"},\"hoverlabel\":{\"align\":\"left\"},\"hovermode\":\"closest\",\"mapbox\":{\"style\":\"light\"},\"paper_bgcolor\":\"white\",\"plot_bgcolor\":\"#E5ECF6\",\"polar\":{\"angularaxis\":{\"gridcolor\":\"white\",\"linecolor\":\"white\",\"ticks\":\"\"},\"bgcolor\":\"#E5ECF6\",\"radialaxis\":{\"gridcolor\":\"white\",\"linecolor\":\"white\",\"ticks\":\"\"}},\"scene\":{\"xaxis\":{\"backgroundcolor\":\"#E5ECF6\",\"gridcolor\":\"white\",\"gridwidth\":2,\"linecolor\":\"white\",\"showbackground\":true,\"ticks\":\"\",\"zerolinecolor\":\"white\"},\"yaxis\":{\"backgroundcolor\":\"#E5ECF6\",\"gridcolor\":\"white\",\"gridwidth\":2,\"linecolor\":\"white\",\"showbackground\":true,\"ticks\":\"\",\"zerolinecolor\":\"white\"},\"zaxis\":{\"backgroundcolor\":\"#E5ECF6\",\"gridcolor\":\"white\",\"gridwidth\":2,\"linecolor\":\"white\",\"showbackground\":true,\"ticks\":\"\",\"zerolinecolor\":\"white\"}},\"shapedefaults\":{\"line\":{\"color\":\"#2a3f5f\"}},\"ternary\":{\"aaxis\":{\"gridcolor\":\"white\",\"linecolor\":\"white\",\"ticks\":\"\"},\"baxis\":{\"gridcolor\":\"white\",\"linecolor\":\"white\",\"ticks\":\"\"},\"bgcolor\":\"#E5ECF6\",\"caxis\":{\"gridcolor\":\"white\",\"linecolor\":\"white\",\"ticks\":\"\"}},\"title\":{\"x\":0.05},\"xaxis\":{\"automargin\":true,\"gridcolor\":\"white\",\"linecolor\":\"white\",\"ticks\":\"\",\"title\":{\"standoff\":15},\"zerolinecolor\":\"white\",\"zerolinewidth\":2},\"yaxis\":{\"automargin\":true,\"gridcolor\":\"white\",\"linecolor\":\"white\",\"ticks\":\"\",\"title\":{\"standoff\":15},\"zerolinecolor\":\"white\",\"zerolinewidth\":2}}},\"xaxis\":{\"anchor\":\"y\",\"domain\":[0.0,1.0],\"title\":{\"text\":\"mean\"}},\"yaxis\":{\"anchor\":\"x\",\"domain\":[0.0,1.0],\"title\":{\"text\":\"post\"}},\"legend\":{\"tracegroupgap\":0},\"margin\":{\"t\":60}},                        {\"responsive\": true}                    ).then(function(){\n",
              "                            \n",
              "var gd = document.getElementById('01774738-5f64-49e9-b1b0-167acef4f132');\n",
              "var x = new MutationObserver(function (mutations, observer) {{\n",
              "        var display = window.getComputedStyle(gd).display;\n",
              "        if (!display || display === 'none') {{\n",
              "            console.log([gd, 'removed!']);\n",
              "            Plotly.purge(gd);\n",
              "            observer.disconnect();\n",
              "        }}\n",
              "}});\n",
              "\n",
              "// Listen for the removal of the full notebook cells\n",
              "var notebookContainer = gd.closest('#notebook-container');\n",
              "if (notebookContainer) {{\n",
              "    x.observe(notebookContainer, {childList: true});\n",
              "}}\n",
              "\n",
              "// Listen for the clearing of the current output cell\n",
              "var outputEl = gd.closest('.output');\n",
              "if (outputEl) {{\n",
              "    x.observe(outputEl, {childList: true});\n",
              "}}\n",
              "\n",
              "                        })                };                            </script>        </div>\n",
              "</body>\n",
              "</html>"
            ]
          },
          "metadata": {}
        }
      ],
      "execution_count": null
    },
    {
      "cell_type": "markdown",
      "source": [
        "**Respuesta:**"
      ],
      "metadata": {
        "id": "szOjXLKA1Rif",
        "cell_id": "00033-eddd71de-b9a7-4779-924a-964c68603845",
        "deepnote_cell_type": "markdown",
        "deepnote_cell_height": 52.390625
      }
    },
    {
      "cell_type": "markdown",
      "source": [
        "Es relativamente intuitivo que cuando hay muchos votos utilizar (a/(a+b)) sirve como proxy para confiar que el post es bueno, pero cuando se reduce la cantidad de votos esta medida se vuelve engañosa (por ejemplo el último post) y la desviación del resultado se vuelve lo suficientemente grande por lo que ya no se puede confiar en el score del post, esto explica poruqe solo hay post con una cantidad relativamente alta de votos. Por otro lado consideramos poco intuitivo lo mucho que afectan las primeras reviews negativas a la confianza de un score, por ejemplo se observan post con alrededor de 200-250 reviews con 0 negativos que estan posicionados bastante por encima en terminos de lb que unos con una cantidad de votos cercana pero con 2 reviews negativas (1%).\n",
        "\n"
      ],
      "metadata": {
        "id": "0F83QdD61Pd1",
        "cell_id": "00034-92ca5c7c-071c-4e99-9f17-dec033ed4c24",
        "deepnote_cell_type": "markdown",
        "deepnote_cell_height": 52.390625
      }
    },
    {
      "cell_type": "markdown",
      "source": [
        "<p align=\"center\">\n",
        "  <img src=\"https://media1.tenor.com/images/fb5bf7cc5a4acb91b4177672886a88ba/tenor.gif?itemid=5591338\">\n",
        "</p>"
      ],
      "metadata": {
        "id": "Rg4ZMq8ezAH6",
        "cell_id": "00035-93d50cd9-ff61-4aa8-ae41-e84009a3f64e",
        "deepnote_cell_type": "markdown",
        "deepnote_cell_height": 269
      }
    },
    {
      "cell_type": "markdown",
      "source": [
        "<a style='text-decoration:none;line-height:16px;display:flex;color:#5B5B62;padding:10px;justify-content:end;' href='https://deepnote.com?utm_source=created-in-deepnote-cell&projectId=87110296-876e-426f-b91d-aaf681223468' target=\"_blank\">\n",
        "<img alt='Created in deepnote.com' style='display:inline;max-height:16px;margin:0px;margin-right:7.5px;' src='data:image/svg+xml;base64,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' > </img>\n",
        "Created in <span style='font-weight:600;margin-left:4px;'>Deepnote</span></a>"
      ],
      "metadata": {
        "tags": [],
        "created_in_deepnote_cell": true,
        "deepnote_cell_type": "markdown",
        "id": "zfbdtthRqoRE"
      }
    }
  ],
  "nbformat": 4,
  "nbformat_minor": 0,
  "metadata": {
    "colab": {
      "collapsed_sections": [],
      "name": "Lab9_Enunciado.ipynb",
      "provenance": []
    },
    "deepnote": {},
    "deepnote_execution_queue": [],
    "deepnote_notebook_id": "86c0ae4d-10d9-41be-9dc9-0e76fdf26f7b",
    "kernelspec": {
      "display_name": "Python 3 (ipykernel)",
      "language": "python",
      "name": "python3"
    },
    "language_info": {
      "codemirror_mode": {
        "name": "ipython",
        "version": 3
      },
      "file_extension": ".py",
      "mimetype": "text/x-python",
      "name": "python",
      "nbconvert_exporter": "python",
      "pygments_lexer": "ipython3",
      "version": "3.9.7"
    },
    "toc": {
      "base_numbering": 1,
      "nav_menu": {},
      "number_sections": true,
      "sideBar": true,
      "skip_h1_title": true,
      "title_cell": "Tabla de Contenidos",
      "title_sidebar": "Contenidos",
      "toc_cell": false,
      "toc_position": {
        "height": "calc(100% - 180px)",
        "left": "10px",
        "top": "150px",
        "width": "241.867px"
      },
      "toc_section_display": true,
      "toc_window_display": true
    },
    "varInspector": {
      "cols": {
        "lenName": 16,
        "lenType": 16,
        "lenVar": 40
      },
      "kernels_config": {
        "python": {
          "delete_cmd_postfix": "",
          "delete_cmd_prefix": "del ",
          "library": "var_list.py",
          "varRefreshCmd": "print(var_dic_list())"
        },
        "r": {
          "delete_cmd_postfix": ") ",
          "delete_cmd_prefix": "rm(",
          "library": "var_list.r",
          "varRefreshCmd": "cat(var_dic_list()) "
        }
      },
      "types_to_exclude": [
        "module",
        "function",
        "builtin_function_or_method",
        "instance",
        "_Feature"
      ],
      "window_display": false
    }
  }
}